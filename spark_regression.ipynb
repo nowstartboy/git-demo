{
 "cells": [
  {
   "cell_type": "code",
   "execution_count": 1,
   "metadata": {
    "collapsed": true
   },
   "outputs": [],
   "source": [
    "from pyspark import SparkConf,SparkContext\n",
    "from pyspark import rdd\n",
    "conf=SparkConf().setMaster(\"local[*]\").setAppName(\"First_APP\")\n",
    "sc=SparkContext(conf=conf)"
   ]
  },
  {
   "cell_type": "code",
   "execution_count": 2,
   "metadata": {
    "collapsed": false
   },
   "outputs": [
    {
     "name": "stdout",
     "output_type": "stream",
     "text": [
      "数据的第一行: ['1', '2011-01-01', '1', '0', '1', '0', '0', '6', '0', '1', '0.24', '0.2879', '0.81', '0', '3', '13', '16']\n",
      "数据样本数: 17379\n"
     ]
    }
   ],
   "source": [
    "import numpy as np\n",
    "path = 'E:/machine_data/bike_sharing/hour.csv'\n",
    "raw_data = sc.textFile(path) \n",
    "records =raw_data.map(lambda x: x.split(',')) \n",
    "records=sc.parallelize(records.collect()[1:]) #去头\n",
    "num_data = records.count() \n",
    "first = records.first() \n",
    "print ('数据的第一行:',first)\n",
    "print ('数据样本数:',num_data)"
   ]
  },
  {
   "cell_type": "markdown",
   "metadata": {},
   "source": [
    "结果显示，数据集中共有17 379个小时的记录。接下来的实验，我们会忽略记录中的instant和dteday 。忽略两个记录次数的变量casual 和registered ， 只保留cnt （ casual 和\n",
    "\n",
    "registered的和）。最后就剩下12个变量，其中前8个是类型变量，后4个是归一化后的实数变量。对其中8个类型变量，我们使用之前提到的二元编码，剩下4个实数变量不做处理。\n",
    "\n",
    "因为变量records下文经常要用到，此处对其进行缓存："
   ]
  },
  {
   "cell_type": "code",
   "execution_count": 3,
   "metadata": {
    "collapsed": false
   },
   "outputs": [
    {
     "data": {
      "text/plain": [
       "ParallelCollectionRDD[3] at parallelize at PythonRDD.scala:475"
      ]
     },
     "execution_count": 3,
     "metadata": {},
     "output_type": "execute_result"
    }
   ],
   "source": [
    "records.cache()"
   ]
  },
  {
   "cell_type": "code",
   "execution_count": 4,
   "metadata": {
    "collapsed": true
   },
   "outputs": [],
   "source": [
    "#为了将类型特征表示成二维形式，我们将特征值映射到二元向量中非0的位置。下面定义这样一个映射函数：\n",
    "def get_mapping(rdd, idx):\n",
    "    return rdd.map(lambda fields: fields[idx]).distinct().zipWithIndex().collectAsMap()"
   ]
  },
  {
   "cell_type": "code",
   "execution_count": 5,
   "metadata": {
    "collapsed": false
   },
   "outputs": [
    {
     "name": "stdout",
     "output_type": "stream",
     "text": [
      "第三个特征的类别编码： {'1': 2, '4': 0, '2': 3, '3': 1} \n"
     ]
    }
   ],
   "source": [
    "print ('第三个特征的类别编码： %s '%get_mapping(records,2))"
   ]
  },
  {
   "cell_type": "code",
   "execution_count": 6,
   "metadata": {
    "collapsed": false
   },
   "outputs": [
    {
     "name": "stdout",
     "output_type": "stream",
     "text": [
      "类别特征打编码字典: [{'1': 2, '4': 0, '2': 3, '3': 1}, {'0': 0, '1': 1}, {'10': 1, '1': 7, '8': 8, '9': 6, '12': 2, '6': 5, '4': 0, '5': 10, '11': 9, '2': 11, '7': 3, '3': 4}, {'14': 17, '0': 16, '8': 12, '6': 9, '19': 18, '21': 14, '23': 7, '11': 21, '18': 5, '16': 1, '15': 10, '3': 6, '10': 0, '1': 11, '17': 13, '2': 23, '9': 19, '4': 3, '13': 20, '22': 15, '12': 2, '20': 4, '7': 8, '5': 22}, {'0': 0, '1': 1}, {'6': 2, '1': 3, '4': 0, '5': 5, '0': 4, '2': 6, '3': 1}, {'0': 0, '1': 1}, {'1': 2, '4': 0, '2': 3, '3': 1}]\n",
      "类别特征的个数： 57\n",
      "数值特征的个数： 4\n",
      "所有特征的个数:：61\n"
     ]
    }
   ],
   "source": [
    "mappings = [get_mapping(records, i) for i in range(2,10)]   #对类型变量的列（第2~9列）应用映射函数\n",
    "print ('类别特征打编码字典:',mappings)\n",
    "cat_len = sum(map(len,[i for i in mappings]))        #类别特征的个数                 \n",
    "#cat_len = sum(map(len, mappings))\n",
    "#print map(len,mappings)\n",
    "\n",
    "num_len = len(records.first()[11:15])                      #数值特征的个数\n",
    "total_len = num_len+cat_len                                  #所有特征的个数\n",
    "print ('类别特征的个数： %d'% cat_len)\n",
    "print ('数值特征的个数： %d'% num_len)\n",
    "print ('所有特征的个数:：%d' % total_len)"
   ]
  },
  {
   "cell_type": "markdown",
   "metadata": {},
   "source": [
    "------------------------\n",
    "1.1 为线性模型创建特征向量\n",
    "------------------------"
   ]
  },
  {
   "cell_type": "markdown",
   "metadata": {},
   "source": [
    "接下来用上面的映射函数将所有类型特征转换为二元编码的特征。为了方便对每条记录提取特征和标签，我们分别定义两个辅助函数extract_features和extract_label。如下为代码实现，注意需要引入numpy和MLlib的LabeledPoint对特征向量和目标变量进行封装："
   ]
  },
  {
   "cell_type": "code",
   "execution_count": 16,
   "metadata": {
    "collapsed": true
   },
   "outputs": [],
   "source": [
    "from pyspark.mllib.regression import LabeledPoint\n",
    "import numpy as np\n",
    "\n",
    "def extract_features(record): \n",
    "    cat_vec = np.zeros(cat_len) \n",
    "    step = 0\n",
    "    for i,raw_feature in enumerate(record[2:9]):\n",
    "        dict_code = mappings[i]\n",
    "        index = dict_code[raw_feature]\n",
    "        cat_vec[index+step] = 1\n",
    "        step = step+len(dict_code)\n",
    "    num_vec = np.array([float(raw_feature) for raw_feature in record[10:14]])\n",
    "    return np.concatenate((cat_vec, num_vec))\n",
    "\n",
    "def extract_label(record):\n",
    "    print (1)\n",
    "    return float(record[-1])"
   ]
  },
  {
   "cell_type": "markdown",
   "metadata": {},
   "source": [
    "在extract_features函数中，我们遍历了数据的每一行每一列，根据已经创建的映射对每个特征进行二元编码。其中step变量用来确保非0特征在整个特征向量中位于正确的位置（另外一种实现方法是将若干较短的二元向量拼接在一起）。数值向量直接对之前已经被转换成浮点数的数据用numpy的array进行封装。最后将二元向量和数值向量拼接起来。定义extract_label函数将数据中的最后一列cnt的数据转换成浮点数。\n",
    "\n",
    "下面对数据进行特征提取：\n"
   ]
  },
  {
   "cell_type": "code",
   "execution_count": 9,
   "metadata": {
    "collapsed": false
   },
   "outputs": [
    {
     "name": "stdout",
     "output_type": "stream",
     "text": [
      "原始特征向量:['1', '0', '1', '0', '0', '6', '0', '1', '0.24', '0.2879', '0.81', '0', '3', '13', '16']\n",
      "标签:16.0\n",
      "对类别特征进行独热编码之后的特征向量: \n",
      "[0.0,0.0,1.0,0.0,1.0,0.0,0.0,0.0,0.0,0.0,0.0,0.0,0.0,1.0,0.0,0.0,0.0,0.0,0.0,0.0,0.0,0.0,0.0,0.0,0.0,0.0,0.0,0.0,0.0,0.0,0.0,0.0,0.0,0.0,1.0,0.0,0.0,0.0,0.0,0.0,0.0,0.0,1.0,0.0,0.0,0.0,1.0,0.0,0.0,0.0,0.0,1.0,0.0,0.0,0.0,0.0,0.0,0.24,0.2879,0.81,0.0]\n",
      "对类别特征进行独热编码之后的特征向量长度:61\n"
     ]
    }
   ],
   "source": [
    "data = records.map(lambda point: LabeledPoint(extract_label(point),extract_features(point)))\n",
    "first_point = data.first()\n",
    "\n",
    "print ('原始特征向量:' +str(first[2:]))\n",
    "print ('标签:' + str(first_point.label))\n",
    "print ('对类别特征进行独热编码之后的特征向量: \\n' + str(first_point.features))\n",
    "print ('对类别特征进行独热编码之后的特征向量长度:' + str(len(first_point.features)))"
   ]
  },
  {
   "cell_type": "markdown",
   "metadata": {},
   "source": [
    "-----------------\n",
    "1.2 为决策树创建特征向量\n",
    "-----------------"
   ]
  },
  {
   "cell_type": "markdown",
   "metadata": {},
   "source": [
    "我们已经知道，决策树模型可以直接使用原始数据（不需要将类型数据用二元向量表示）。因此，只需要创建一个分割函数简单地将所有数值转换为浮点数，最后用numpy的array封装："
   ]
  },
  {
   "cell_type": "code",
   "execution_count": 31,
   "metadata": {
    "collapsed": false
   },
   "outputs": [],
   "source": [
    "def extract_features_dt(record):\n",
    "    print (1)\n",
    "    return np.array(list(map(float, record[2:14])))# map之后一定要转为list格式，否则得到的就是一个map对象，之后的操作np.array(map)就是无效操作"
   ]
  },
  {
   "cell_type": "code",
   "execution_count": 33,
   "metadata": {
    "collapsed": false
   },
   "outputs": [
    {
     "name": "stdout",
     "output_type": "stream",
     "text": [
      "1\n",
      "<class 'numpy.ndarray'>\n",
      "[  1.   1.   1.   1.   1.  11.   1.   1.   1.   1.   1.   1.]\n"
     ]
    }
   ],
   "source": [
    "record=[1,1,1,1,1,1,1,11,1,1,1,1,1,1,1]\n",
    "a=extract_features_dt(record)\n",
    "print (type(a))\n",
    "print (a)"
   ]
  },
  {
   "cell_type": "code",
   "execution_count": 34,
   "metadata": {
    "collapsed": false
   },
   "outputs": [
    {
     "name": "stdout",
     "output_type": "stream",
     "text": [
      "决策树特征向量: [1.0,0.0,1.0,0.0,0.0,6.0,0.0,1.0,0.24,0.2879,0.81,0.0]\n",
      "决策树特征向量长度: 12\n"
     ]
    }
   ],
   "source": [
    "data_dt = records.map(lambda point: LabeledPoint(extract_label(point), extract_features_dt(point)))\n",
    "first_point_dt = data_dt.first()\n",
    "print ('决策树特征向量: '+str(first_point_dt.features))\n",
    "print ('决策树特征向量长度: '+str(len(first_point_dt.features)))"
   ]
  },
  {
   "cell_type": "markdown",
   "metadata": {},
   "source": [
    "-----------------------------\n",
    "2 回归模型的训练和应用\n",
    "-----------------------------"
   ]
  },
  {
   "cell_type": "markdown",
   "metadata": {},
   "source": [
    "使用决策树和线性模型训练回归模型的步骤和使用分类模型相同，都是简单将训练数据封装在LabeledPoint的RDD中，并送到相关的train方法上进行训练。注意在Scala中，如果要自定义不同的模型参数（比如SGD优化的正则化和步长），就需要初始化一个新的模型实例，使用实例的optimizer变量访问和设置参数。\n",
    "\n",
    "Python提供了方便我们访问所有模型参数的方法，因此只要使用相关方法即可。可以通过引入相关模块，并调用train方法中的help函数查看这些方法的具体细节：\n"
   ]
  },
  {
   "cell_type": "code",
   "execution_count": 36,
   "metadata": {
    "collapsed": false
   },
   "outputs": [
    {
     "name": "stdout",
     "output_type": "stream",
     "text": [
      "Help on method train in module pyspark.mllib.regression:\n",
      "\n",
      "train(data, iterations=100, step=1.0, miniBatchFraction=1.0, initialWeights=None, regParam=0.0, regType=None, intercept=False, validateData=True, convergenceTol=0.001) method of builtins.type instance\n",
      "    Train a linear regression model using Stochastic Gradient\n",
      "    Descent (SGD). This solves the least squares regression\n",
      "    formulation\n",
      "    \n",
      "        f(weights) = 1/(2n) ||A weights - y||^2\n",
      "    \n",
      "    which is the mean squared error. Here the data matrix has n rows,\n",
      "    and the input RDD holds the set of rows of A, each with its\n",
      "    corresponding right hand side label y.\n",
      "    See also the documentation for the precise formulation.\n",
      "    \n",
      "    :param data:\n",
      "      The training data, an RDD of LabeledPoint.\n",
      "    :param iterations:\n",
      "      The number of iterations.\n",
      "      (default: 100)\n",
      "    :param step:\n",
      "      The step parameter used in SGD.\n",
      "      (default: 1.0)\n",
      "    :param miniBatchFraction:\n",
      "      Fraction of data to be used for each SGD iteration.\n",
      "      (default: 1.0)\n",
      "    :param initialWeights:\n",
      "      The initial weights.\n",
      "      (default: None)\n",
      "    :param regParam:\n",
      "      The regularizer parameter.\n",
      "      (default: 0.0)\n",
      "    :param regType:\n",
      "      The type of regularizer used for training our model.\n",
      "      Supported values:\n",
      "    \n",
      "        - \"l1\" for using L1 regularization\n",
      "        - \"l2\" for using L2 regularization\n",
      "        - None for no regularization (default)\n",
      "    :param intercept:\n",
      "      Boolean parameter which indicates the use or not of the\n",
      "      augmented representation for training data (i.e., whether bias\n",
      "      features are activated or not).\n",
      "      (default: False)\n",
      "    :param validateData:\n",
      "      Boolean parameter which indicates if the algorithm should\n",
      "      validate data before training.\n",
      "      (default: True)\n",
      "    :param convergenceTol:\n",
      "      A condition which decides iteration termination.\n",
      "      (default: 0.001)\n",
      "    \n",
      "    .. versionadded:: 0.9.0\n",
      "\n"
     ]
    }
   ],
   "source": [
    "from pyspark.mllib.regression import LinearRegressionWithSGD\n",
    "from pyspark.mllib.tree import DecisionTree\n",
    "help(LinearRegressionWithSGD.train)"
   ]
  },
  {
   "cell_type": "code",
   "execution_count": 31,
   "metadata": {
    "collapsed": false
   },
   "outputs": [
    {
     "name": "stdout",
     "output_type": "stream",
     "text": [
      "Help on method trainRegressor in module pyspark.mllib.tree:\n",
      "\n",
      "trainRegressor(data, categoricalFeaturesInfo, impurity='variance', maxDepth=5, maxBins=32, minInstancesPerNode=1, minInfoGain=0.0) method of builtins.type instance\n",
      "    Train a decision tree model for regression.\n",
      "    \n",
      "    :param data:\n",
      "      Training data: RDD of LabeledPoint. Labels are real numbers.\n",
      "    :param categoricalFeaturesInfo:\n",
      "      Map storing arity of categorical features. An entry (n -> k)\n",
      "      indicates that feature n is categorical with k categories\n",
      "      indexed from 0: {0, 1, ..., k-1}.\n",
      "    :param impurity:\n",
      "      Criterion used for information gain calculation.\n",
      "      The only supported value for regression is \"variance\".\n",
      "      (default: \"variance\")\n",
      "    :param maxDepth:\n",
      "      Maximum depth of tree (e.g. depth 0 means 1 leaf node, depth 1\n",
      "      means 1 internal node + 2 leaf nodes).\n",
      "      (default: 5)\n",
      "    :param maxBins:\n",
      "      Number of bins used for finding splits at each node.\n",
      "      (default: 32)\n",
      "    :param minInstancesPerNode:\n",
      "      Minimum number of instances required at child nodes to create\n",
      "      the parent split.\n",
      "      (default: 1)\n",
      "    :param minInfoGain:\n",
      "      Minimum info gain required to create a split.\n",
      "      (default: 0.0)\n",
      "    :return:\n",
      "      DecisionTreeModel.\n",
      "    \n",
      "    Example usage:\n",
      "    \n",
      "    >>> from pyspark.mllib.regression import LabeledPoint\n",
      "    >>> from pyspark.mllib.tree import DecisionTree\n",
      "    >>> from pyspark.mllib.linalg import SparseVector\n",
      "    >>>\n",
      "    >>> sparse_data = [\n",
      "    ...     LabeledPoint(0.0, SparseVector(2, {0: 0.0})),\n",
      "    ...     LabeledPoint(1.0, SparseVector(2, {1: 1.0})),\n",
      "    ...     LabeledPoint(0.0, SparseVector(2, {0: 0.0})),\n",
      "    ...     LabeledPoint(1.0, SparseVector(2, {1: 2.0}))\n",
      "    ... ]\n",
      "    >>>\n",
      "    >>> model = DecisionTree.trainRegressor(sc.parallelize(sparse_data), {})\n",
      "    >>> model.predict(SparseVector(2, {1: 1.0}))\n",
      "    1.0\n",
      "    >>> model.predict(SparseVector(2, {1: 0.0}))\n",
      "    0.0\n",
      "    >>> rdd = sc.parallelize([[0.0, 1.0], [0.0, 0.0]])\n",
      "    >>> model.predict(rdd).collect()\n",
      "    [1.0, 0.0]\n",
      "    \n",
      "    .. versionadded:: 1.1.0\n",
      "\n"
     ]
    }
   ],
   "source": [
    "help(DecisionTree.trainRegressor)"
   ]
  },
  {
   "cell_type": "code",
   "execution_count": 37,
   "metadata": {
    "collapsed": false
   },
   "outputs": [
    {
     "name": "stderr",
     "output_type": "stream",
     "text": [
      "D:\\anaconda1\\lib\\site-packages\\pyspark\\mllib\\regression.py:281: UserWarning: Deprecated in 2.0.0. Use ml.regression.LinearRegression.\n",
      "  warnings.warn(\"Deprecated in 2.0.0. Use ml.regression.LinearRegression.\")\n"
     ]
    },
    {
     "name": "stdout",
     "output_type": "stream",
     "text": [
      "线性回归模型对前5个样本的预测值: [(16.0, 117.89250386724842), (40.0, 116.22496123192109), (32.0, 116.02369145779234), (13.0, 115.6708801675443), (1.0, 115.56315650834314)]\n"
     ]
    }
   ],
   "source": [
    "#在bike sharing 数据上训练回归模型\n",
    "linear_model = LinearRegressionWithSGD.train(data, iterations=10, step=0.1, intercept =False)\n",
    "true_vs_predicted = data.map(lambda point:(point.label,linear_model.predict(point.features)))\n",
    "print ('线性回归模型对前5个样本的预测值: '+ str(true_vs_predicted.take(5)))"
   ]
  },
  {
   "cell_type": "markdown",
   "metadata": {},
   "source": [
    "输出结果：\n",
    "\n",
    "线性回归模型对前5个样本的预测值: [(16.0, 117.89250386724844), (40.0, 116.22496123192109), (32.0, 116.02369145779232), (13.0, 115.67088016754431), (1.0, 115.56315650834314)]\n",
    "\n",
    "\n",
    "\n",
    "\n",
    "上述代码中我们没有使用默认的迭代次数和步长，而是使用较小的迭代次数以缩短训练时间，关于步长的设置我们稍后会详细介绍。\n",
    "\n",
    "\n",
    "\n",
    "\n",
    "接下来，我们在trainRegressor中使用默认参数来训练决策树模型（相当于深度为5的树）。注意，这里训练数据集是从原始特征中提取的，名为data_dt（不同于之前线性模型中使用的二元编码的特征）。另外，我们还需要为categoricalFeaturesInfo传入一个字典参数，这个字典参数将类型特征的索引映射到特征中类型的数目。如果某个特征值不在这个字典中，则将其映射设置为空：\n"
   ]
  },
  {
   "cell_type": "code",
   "execution_count": 41,
   "metadata": {
    "collapsed": false
   },
   "outputs": [
    {
     "name": "stdout",
     "output_type": "stream",
     "text": [
      "决策树回归模型对前5个样本的预测值: [(16.0, 54.913223140495866), (40.0, 54.913223140495866), (32.0, 53.171052631578945), (13.0, 14.284023668639053), (1.0, 14.284023668639053)]\n",
      "决策树模型的深度: 5\n",
      "决策树模型的叶子节点个数: 63\n"
     ]
    }
   ],
   "source": [
    "dt_model = DecisionTree.trainRegressor(data_dt,{})\n",
    "preds = dt_model.predict(data_dt.map(lambda p: p.features))\n",
    "actual = data.map(lambda p:p.label)\n",
    "true_vs_predicted_dt = actual.zip(preds)\n",
    "print ('决策树回归模型对前5个样本的预测值: '+str(true_vs_predicted_dt.take(5)))\n",
    "print ('决策树模型的深度: ' + str(dt_model.depth()))\n",
    "print ('决策树模型的叶子节点个数: '+str(dt_model.numNodes()))"
   ]
  },
  {
   "cell_type": "markdown",
   "metadata": {},
   "source": [
    "-------------------------\n",
    "3 评估回归模型的性能\n",
    "-------------------------"
   ]
  },
  {
   "cell_type": "code",
   "execution_count": 42,
   "metadata": {
    "collapsed": true
   },
   "outputs": [],
   "source": [
    "#3.1 均方误差和均方根误差,MSE是平方误差的均值，用作最小二乘回归的损失函数\n",
    "def squared_error(actual, pred): \n",
    "    return (pred-actual)**2 \n",
    "\n",
    "#3.2 平均绝对误差,MAE是预测值和实际值的差的绝对值的平均值。\n",
    "def abs_error(actual, pred): \n",
    "    return np.abs(pred-actual) \n",
    "\n",
    "#3.3 均方根对数误差,这个度量方法虽然没有MSE和MAE使用得广，但被用于Kaggle中以bike sharing作为数据集的比赛。\n",
    "#    RMSLE可以认为是对预测值和目标值进行对数变换后的RMSE。这个度量方法适用于目标变量值域很大，并且没有必要对预测值和目标值的误差进行惩罚的情况。\n",
    "#    另外，它也适用于计算误差的百分率而不是误差的绝对值。\n",
    "def squared_log_error(pred, actual): \n",
    "    return (np.log(pred+1)-np.log(actual+1))**2\n",
    "\n",
    "#3.4 R-平方系数\n",
    "#R-平方系数，也称判定系数，用来评估模型拟合数据的好坏，常用于统计学中。R-平方系数具体测量目标变量的变异度（degree of variation），最终结果为0到1的一个值，1表示模型能够完美拟合数据。\n"
   ]
  },
  {
   "cell_type": "code",
   "execution_count": 36,
   "metadata": {
    "collapsed": false
   },
   "outputs": [
    {
     "name": "stdout",
     "output_type": "stream",
     "text": [
      "Linear Model - Mean Squared Error: 30679.4539\n",
      "Linear Model - Mean Absolute Error: 130.6429\n",
      "Linear Model - Root Mean Squared Log Error: 1.4653\n"
     ]
    }
   ],
   "source": [
    "mse = true_vs_predicted.map(lambda kv: squared_error(kv[0], kv[1])).mean() \n",
    "mae = true_vs_predicted.map(lambda kv: abs_error(kv[0], kv[1])).mean() \n",
    "rmsle = np.sqrt(true_vs_predicted.map(lambda kv: squared_log_error(kv[0], kv[1])).mean()) \n",
    "print ('Linear Model - Mean Squared Error: %2.4f' % mse )\n",
    "print ('Linear Model - Mean Absolute Error: %2.4f' % mae )\n",
    "print ('Linear Model - Root Mean Squared Log Error: %2.4f' % rmsle)"
   ]
  },
  {
   "cell_type": "markdown",
   "metadata": {},
   "source": [
    "-----------------\n",
    "3.5.2 决策树\n",
    "-----------------"
   ]
  },
  {
   "cell_type": "code",
   "execution_count": 43,
   "metadata": {
    "collapsed": false
   },
   "outputs": [
    {
     "name": "stdout",
     "output_type": "stream",
     "text": [
      "Decision Tree - Mean Squared Error: 11611.4860\n",
      "Decision Tree - Mean Absolute Error: 71.1502\n",
      "Decision Tree - Root Mean Squared Log Error: 0.6251\n"
     ]
    }
   ],
   "source": [
    "mse_dt = true_vs_predicted_dt.map(lambda kv: squared_error(kv[0], kv[1])).mean()\n",
    "mae_dt = true_vs_predicted_dt.map(lambda kv: abs_error(kv[0], kv[1])).mean()\n",
    "rmsle_dt = np.sqrt(true_vs_predicted_dt.map(lambda kv: squared_log_error(kv[0], kv[1])).mean())\n",
    "print ('Decision Tree - Mean Squared Error: %2.4f' % mse_dt)\n",
    "print ('Decision Tree - Mean Absolute Error: %2.4f' % mae_dt)\n",
    "print ('Decision Tree - Root Mean Squared Log Error: %2.4f' %rmsle_dt)"
   ]
  },
  {
   "cell_type": "markdown",
   "metadata": {
    "collapsed": true
   },
   "source": [
    "----------------------------\n",
    "4 改进模型性能和参数调优\n",
    "----------------------------"
   ]
  },
  {
   "cell_type": "code",
   "execution_count": 44,
   "metadata": {
    "collapsed": false
   },
   "outputs": [
    {
     "data": {
      "image/png": "[encoded data removed]",
      "text/plain": [
       "<matplotlib.figure.Figure at 0x2571fdb02b0>"
      ]
     },
     "metadata": {},
     "output_type": "display_data"
    }
   ],
   "source": [
    "%matplotlib inline\n",
    "import matplotlib\n",
    "from matplotlib.pyplot import hist\n",
    "import numpy as np \n",
    "import matplotlib.pyplot as plt \n",
    "\n",
    "targets = records.map(lambda r: float(r[-1])).collect() \n",
    "hist(targets, bins=40, color='lightblue', normed=True) \n",
    "fig = matplotlib.pyplot.gcf() \n",
    "fig.set_size_inches(12, 6)\n",
    "plt.show()"
   ]
  },
  {
   "cell_type": "markdown",
   "metadata": {},
   "source": [
    "从上图可以看出，目标变量的分布完全不符合正态分布。\n",
    "\n",
    "\n",
    "\n",
    "\n",
    "\n",
    "\n",
    "\n",
    "解决该问题的一种方法是对目标变量进行变换，比如用目标值的对数代替原始值，通常称为对数变换（这种变换也可以用到特征值上）。下面绘制对目标变量进行对数变换后的分布直方图。\n"
   ]
  },
  {
   "cell_type": "code",
   "execution_count": 45,
   "metadata": {
    "collapsed": false
   },
   "outputs": [
    {
     "data": {
      "image/png": "[encoded data removed]",
      "text/plain": [
       "<matplotlib.figure.Figure at 0x25721b2a0f0>"
      ]
     },
     "metadata": {},
     "output_type": "display_data"
    }
   ],
   "source": [
    "log_targets = records.map(lambda r : np.log(float(r[-1]))).collect() \n",
    "plt.hist(log_targets, bins = 40, color ='lightblue', normed =True) \n",
    "fig = plt.gcf()\n",
    "fig.set_size_inches(12,6)\n",
    "plt.show()"
   ]
  },
  {
   "cell_type": "code",
   "execution_count": 46,
   "metadata": {
    "collapsed": false
   },
   "outputs": [
    {
     "data": {
      "image/png": "[encoded data removed]",
      "text/plain": [
       "<matplotlib.figure.Figure at 0x25721ab33c8>"
      ]
     },
     "metadata": {},
     "output_type": "display_data"
    }
   ],
   "source": [
    "#另一种常用的变换是平方根变换。该变换适用于目标变量不为负数且值域很大的情形。下面绘制对目标变量进行平方根变换后的分布直方图。\n",
    "sqrt_targets = records.map(lambda r: np.sqrt(float(r[-1]))).collect() \n",
    "plt.hist(sqrt_targets, bins=40, color='lightblue', normed=True) \n",
    "fig = matplotlib.pyplot.gcf() \n",
    "fig.set_size_inches(12, 6) "
   ]
  },
  {
   "cell_type": "markdown",
   "metadata": {},
   "source": [
    "----------------------\n",
    "4.1 目标变量变换对模型的影响\n",
    "----------------------"
   ]
  },
  {
   "cell_type": "code",
   "execution_count": 48,
   "metadata": {
    "collapsed": false
   },
   "outputs": [
    {
     "name": "stderr",
     "output_type": "stream",
     "text": [
      "D:\\anaconda1\\lib\\site-packages\\pyspark\\mllib\\regression.py:281: UserWarning: Deprecated in 2.0.0. Use ml.regression.LinearRegression.\n",
      "  warnings.warn(\"Deprecated in 2.0.0. Use ml.regression.LinearRegression.\")\n"
     ]
    },
    {
     "name": "stdout",
     "output_type": "stream",
     "text": [
      "Linear Model —— Mean Squared Error:50685.5559\n",
      "Linear Model —— Mean Absolue Error:155.2955\n",
      "Linear Model —— Root Mean Squared Log Error:1.5411\n",
      "Linear Model —— Non log-transformed predictions:\n",
      "[(16.0, 117.89250386724842), (40.0, 116.22496123192109), (32.0, 116.02369145779234)]\n",
      "Linear Model —— Log-transformed predictions:\n",
      "[(15.999999999999998, 28.080291845456287), (40.0, 26.959480191001845), (32.0, 26.654725629458078)]\n"
     ]
    }
   ],
   "source": [
    "data_log = data.map(lambda lp:LabeledPoint(np.log(lp.label),lp.features)) \n",
    "model_log =LinearRegressionWithSGD.train(data_log, iterations=10, step=0.1) \n",
    "true_vs_predicted_log = data_log.map(lambda p:(np.exp(p.label),np.exp(model_log.predict(p.features))))\n",
    "\n",
    "#计算模型的MSE,MAE,RMSLE\n",
    "mse_log = true_vs_predicted_log.map(lambda kv: squared_error(kv[0], kv[1])).mean() \n",
    "mae_log = true_vs_predicted_log.map(lambda kv: abs_error(kv[0], kv[1])).mean() \n",
    "rmsle_log = np.sqrt(true_vs_predicted_log.map(lambda kv: squared_log_error(kv[0], kv[1])).mean())\n",
    "\n",
    "print ('Linear Model —— Mean Squared Error:%2.4f'% mse_log )\n",
    "print ('Linear Model —— Mean Absolue Error:%2.4f'% mae_log )\n",
    "print ('Linear Model —— Root Mean Squared Log Error:%2.4f'% rmsle_log )\n",
    "print ('Linear Model —— Non log-transformed predictions:\\n'+ str(true_vs_predicted.take(3)))\n",
    "print ('Linear Model —— Log-transformed predictions:\\n'+ str(true_vs_predicted_log.take(3)))"
   ]
  },
  {
   "cell_type": "markdown",
   "metadata": {},
   "source": [
    "将上述结果与原始数据集训练的模型性能进行对比，可以发现，三个评价指标MSE,MAE,RMSLE都没有得到提升，书上说RMSLE的性能得到了提升，也许是Spark版本所设置的默认参数不一样导致的。\n",
    "\n",
    "\n",
    "\n",
    "\n",
    "下面对决策树模型做同样的分析，其代码如下：\n"
   ]
  },
  {
   "cell_type": "code",
   "execution_count": 49,
   "metadata": {
    "collapsed": false
   },
   "outputs": [
    {
     "name": "stdout",
     "output_type": "stream",
     "text": [
      "Decision Tree —— Mean Squared Error:14781.5760\n",
      "Decision Tree —— Mean Absolue Error:76.4131\n",
      "Decision Tree —— Root Mean Squared Log Error:0.6406\n",
      "Decision Tree —— Non log-transformed predictions:\n",
      "[(16.0, 54.913223140495866), (40.0, 54.913223140495866), (32.0, 53.171052631578945)]\n",
      "Decision Tree —— Log-transformed predictions:\n",
      "[(15.999999999999998, 37.530779787154508), (40.0, 37.530779787154508), (32.0, 7.2797070993907305)]\n"
     ]
    }
   ],
   "source": [
    "data_dt_log = data_dt.map(lambda lp:LabeledPoint(np.log(lp.label), lp.features)) \n",
    "dt_model_log = DecisionTree.trainRegressor(data_dt_log,{}) \n",
    "preds_log = dt_model_log.predict(data_dt_log.map(lambda p:p.features)) \n",
    "actual_log = data_dt_log.map(lambda p: p.label) \n",
    "true_vs_predicted_dt_log = actual_log.zip(preds_log).map(lambda kv:(np.exp(kv[0]), np.exp(kv[1])))\n",
    "\n",
    "#计算模型的MSE,MAE,RMSLE\n",
    "mse_log_dt = true_vs_predicted_dt_log.map(lambda kv: squared_error(kv[0], kv[1])).mean() \n",
    "mae_log_dt = true_vs_predicted_dt_log.map(lambda kv: abs_error(kv[0], kv[1])).mean() \n",
    "rmsle_log_dt = np.sqrt(true_vs_predicted_dt_log.map(lambda kv: squared_log_error(kv[0], kv[1])).mean())\n",
    "\n",
    "print ('Decision Tree —— Mean Squared Error:%2.4f'% mse_log_dt )\n",
    "print ('Decision Tree —— Mean Absolue Error:%2.4f'% mae_log_dt )\n",
    "print ('Decision Tree —— Root Mean Squared Log Error:%2.4f'% rmsle_log_dt )\n",
    "print ('Decision Tree —— Non log-transformed predictions:\\n'+ str(true_vs_predicted_dt.take(3)))\n",
    "print ('Decision Tree —— Log-transformed predictions:\\n'+str(true_vs_predicted_dt_log.take(3)))"
   ]
  },
  {
   "cell_type": "markdown",
   "metadata": {},
   "source": [
    "-------------------------\n",
    "4.2  模型参数调优\n",
    "-------------------------"
   ]
  },
  {
   "cell_type": "markdown",
   "metadata": {},
   "source": [
    "到目前为止，本文讨论了同一个数据集上对MLlib中的回归模型进行训练和评估的基本概率。接下来，我们使用交叉验证方法来评估不同参数对模型性能的影响。\n",
    "\n",
    "\n",
    "\n",
    "\n",
    "首先，我们将原始数据按比率划分为train，test数据集,原书当中pyspark版本还没有randomSplit这个函数，所以用如下的方式处理：\n"
   ]
  },
  {
   "cell_type": "code",
   "execution_count": 50,
   "metadata": {
    "collapsed": true
   },
   "outputs": [],
   "source": [
    "data_with_idx = data.zipWithIndex().map(lambda kv:(kv[1],kv[0])) \n",
    "test = data_with_idx.sample(False,0.2,42) \n",
    "train = data_with_idx.subtractByKey(test)"
   ]
  },
  {
   "cell_type": "code",
   "execution_count": 51,
   "metadata": {
    "collapsed": false
   },
   "outputs": [
    {
     "name": "stdout",
     "output_type": "stream",
     "text": [
      "测试集的样本数: 3439\n",
      "训练集的样本数: 13940\n"
     ]
    }
   ],
   "source": [
    "#如果使用的版本pyspark1.6.1以后已经有了函数randomSplit，这里直接使用randomSplit：\n",
    "train_test_data_split = data.randomSplit([0.8,0.2],123) \n",
    "train = train_test_data_split[0] \n",
    "test = train_test_data_split[1]\n",
    "print ('测试集的样本数:',test.count())\n",
    "print ('训练集的样本数:',train.count())"
   ]
  },
  {
   "cell_type": "code",
   "execution_count": 52,
   "metadata": {
    "collapsed": true
   },
   "outputs": [],
   "source": [
    "train_test_data_dt_split = data_dt.randomSplit([0.8,0.2],123) \n",
    "train_dt = train_test_data_dt_split[0] \n",
    "test_dt = train_test_data_dt_split[1]"
   ]
  },
  {
   "cell_type": "markdown",
   "metadata": {},
   "source": [
    "---------------------\n",
    "参数设置对线性模型的影响\n",
    "---------------------"
   ]
  },
  {
   "cell_type": "code",
   "execution_count": 54,
   "metadata": {
    "collapsed": false
   },
   "outputs": [],
   "source": [
    "#RMSLE作为评价指标\n",
    "def evaluate(train, test, iterations, step, regParam, regType, intercept):\n",
    "    model =LinearRegressionWithSGD.train(train, iterations, step, regParam=regParam, \n",
    "                                         regType=regType,intercept=intercept)\n",
    "    testLabel_vs_testPrediction = test.map(lambda point:(point.label, model.predict(point.features)))\n",
    "    rmsle = np.sqrt(testLabel_vs_testPrediction.map(lambda kv:squared_log_error(kv[0],kv[1])).mean())\n",
    "    return rmsle"
   ]
  },
  {
   "cell_type": "code",
   "execution_count": 55,
   "metadata": {
    "collapsed": false
   },
   "outputs": [
    {
     "name": "stderr",
     "output_type": "stream",
     "text": [
      "D:\\anaconda1\\lib\\site-packages\\pyspark\\mllib\\regression.py:281: UserWarning: Deprecated in 2.0.0. Use ml.regression.LinearRegression.\n",
      "  warnings.warn(\"Deprecated in 2.0.0. Use ml.regression.LinearRegression.\")\n"
     ]
    },
    {
     "name": "stdout",
     "output_type": "stream",
     "text": [
      "[1, 5, 10, 20, 50, 100]\n",
      "[2.9137698128225531, 2.0634428706028474, 1.7927137287456878, 1.5896208197217547, 1.4301701331167367, 1.3862968178830628]\n"
     ]
    }
   ],
   "source": [
    "#迭代次数对模型的影响：\n",
    "params = [1, 5, 10, 20, 50, 100]\n",
    "metrics = [evaluate(train, test, param, 0.01, 0.0, 'l2', False) for param in params]\n",
    "print (params)\n",
    "print (metrics)"
   ]
  },
  {
   "cell_type": "code",
   "execution_count": 56,
   "metadata": {
    "collapsed": false
   },
   "outputs": [
    {
     "data": {
      "image/png": "[encoded data removed]",
      "text/plain": [
       "<matplotlib.figure.Figure at 0x25721594470>"
      ]
     },
     "metadata": {},
     "output_type": "display_data"
    }
   ],
   "source": [
    "#绘制迭代次数与RMSLE的关系图：\n",
    "plt.plot(params, metrics) \n",
    "fig = matplotlib.pyplot.gcf() \n",
    "fig.set_size_inches(12, 6) \n",
    "plt.xscale('log')\n",
    "plt.show()"
   ]
  },
  {
   "cell_type": "code",
   "execution_count": 57,
   "metadata": {
    "collapsed": false
   },
   "outputs": [
    {
     "name": "stderr",
     "output_type": "stream",
     "text": [
      "D:\\anaconda1\\lib\\site-packages\\pyspark\\mllib\\regression.py:281: UserWarning: Deprecated in 2.0.0. Use ml.regression.LinearRegression.\n",
      "  warnings.warn(\"Deprecated in 2.0.0. Use ml.regression.LinearRegression.\")\n",
      "D:\\anaconda1\\lib\\site-packages\\pyspark\\statcounter.py:80: RuntimeWarning: invalid value encountered in maximum\n",
      "  self.maxValue = maximum(self.maxValue, other.maxValue)\n",
      "D:\\anaconda1\\lib\\site-packages\\pyspark\\statcounter.py:81: RuntimeWarning: invalid value encountered in minimum\n",
      "  self.minValue = minimum(self.minValue, other.minValue)\n"
     ]
    },
    {
     "name": "stdout",
     "output_type": "stream",
     "text": [
      "the rmsle:1.792714 when step :0.010000\n",
      "the rmsle:1.429770 when step :0.025000\n",
      "the rmsle:1.391788 when step :0.050000\n",
      "the rmsle:1.464901 when step :0.100000\n",
      "the rmsle:1.432130 when step :0.500000\n",
      "the rmsle:nan when step :1.000000\n"
     ]
    },
    {
     "data": {
      "image/png": "[encoded data removed]",
      "text/plain": [
       "<matplotlib.figure.Figure at 0x257224b5c18>"
      ]
     },
     "metadata": {},
     "output_type": "display_data"
    }
   ],
   "source": [
    "#评估step(步长)对模型的影响：\n",
    "params=[0.01,0.025,0.05,0.1,0.5,1.0] \n",
    "metrics =[evaluate(train, test,10,param,0.0,'l2',False)for param in params]\n",
    "for i in range(len(params)):\n",
    "    print ('the rmsle:%f when step :%f'%(metrics[i],params[i]))\n",
    "\n",
    "#绘制步长与RMSLE的关系图：\n",
    "plt.plot(params, metrics) \n",
    "fig = matplotlib.pyplot.gcf() \n",
    "fig.set_size_inches(12, 6) \n",
    "plt.xscale('log')\n",
    "plt.xlabel('step')\n",
    "plt.ylabel('RMSLE')\n",
    "plt.show()"
   ]
  },
  {
   "cell_type": "code",
   "execution_count": 58,
   "metadata": {
    "collapsed": false
   },
   "outputs": [
    {
     "name": "stderr",
     "output_type": "stream",
     "text": [
      "D:\\anaconda1\\lib\\site-packages\\pyspark\\mllib\\regression.py:281: UserWarning: Deprecated in 2.0.0. Use ml.regression.LinearRegression.\n",
      "  warnings.warn(\"Deprecated in 2.0.0. Use ml.regression.LinearRegression.\")\n"
     ]
    },
    {
     "name": "stdout",
     "output_type": "stream",
     "text": [
      "the rmsle:1.464901 when regParam :0.000000\n",
      "the rmsle:1.464282 when regParam :0.010000\n",
      "the rmsle:1.458826 when regParam :0.100000\n",
      "the rmsle:1.414960 when regParam :1.000000\n",
      "the rmsle:1.398280 when regParam :5.000000\n",
      "the rmsle:1.541495 when regParam :10.000000\n",
      "the rmsle:1.846367 when regParam :20.000000\n"
     ]
    },
    {
     "data": {
      "image/png": "[encoded data removed]",
      "text/plain": [
       "<matplotlib.figure.Figure at 0x257224dc780>"
      ]
     },
     "metadata": {},
     "output_type": "display_data"
    }
   ],
   "source": [
    "#不同正则化系数对模型的影响\n",
    "#先看L2正则化系数对模型的影响\n",
    "params=[0.0,0.01,0.1,1.0,5.0,10.0,20.0]\n",
    "metrics =[evaluate(train, test,10,0.1, param,'l2',False) for param in params]\n",
    "for i in range(len(params)):\n",
    "    print ('the rmsle:%f when regParam :%f'%(metrics[i],params[i]))\n",
    "\n",
    "#绘制L2正则化系数与RMSLE的关系图：\n",
    "plt.plot(params, metrics)\n",
    "fig = matplotlib.pyplot.gcf()\n",
    "fig.set_size_inches(12, 8)\n",
    "plt.xscale('log')\n",
    "plt.xlabel('regParam')\n",
    "plt.ylabel('RMSLE')\n",
    "plt.show()"
   ]
  },
  {
   "cell_type": "code",
   "execution_count": 59,
   "metadata": {
    "collapsed": false
   },
   "outputs": [
    {
     "name": "stderr",
     "output_type": "stream",
     "text": [
      "D:\\anaconda1\\lib\\site-packages\\pyspark\\mllib\\regression.py:281: UserWarning: Deprecated in 2.0.0. Use ml.regression.LinearRegression.\n",
      "  warnings.warn(\"Deprecated in 2.0.0. Use ml.regression.LinearRegression.\")\n"
     ]
    },
    {
     "name": "stdout",
     "output_type": "stream",
     "text": [
      "the rmsle:1.464901 when regParam :0.000000\n",
      "the rmsle:1.464868 when regParam :0.010000\n",
      "the rmsle:1.464572 when regParam :0.100000\n",
      "the rmsle:1.461826 when regParam :1.000000\n",
      "the rmsle:1.436437 when regParam :10.000000\n",
      "the rmsle:1.750440 when regParam :100.000000\n",
      "the rmsle:4.795064 when regParam :1000.000000\n"
     ]
    },
    {
     "data": {
      "image/png": "[encoded data removed]",
      "text/plain": [
       "<matplotlib.figure.Figure at 0x25721d422b0>"
      ]
     },
     "metadata": {},
     "output_type": "display_data"
    }
   ],
   "source": [
    "#再看L1正则化系数对模型的影响\n",
    "params=[0.0,0.01,0.1,1.0,10.0,100.0,1000.0]\n",
    "metrics =[evaluate(train, test,10,0.1, param,'l1',False) for param in params]\n",
    "for i in range(len(params)):\n",
    "    print ('the rmsle:%f when regParam :%f'%(metrics[i],params[i]))\n",
    "\n",
    "#绘制L1正则化系数与RMSLE的关系图：\n",
    "plt.plot(params, metrics)\n",
    "fig = matplotlib.pyplot.gcf()\n",
    "fig.set_size_inches(12, 8)\n",
    "plt.xscale('log')\n",
    "plt.xlabel('regParam')\n",
    "plt.ylabel('RMSLE')\n",
    "plt.show()"
   ]
  },
  {
   "cell_type": "markdown",
   "metadata": {},
   "source": [
    "从上图可以看到，当使用一个较大的正则化参数时，RMSLE性能急剧下降。\n",
    "\n",
    "\n",
    "\n",
    "\n",
    "想必大家都知道，使用L1正则化可以得到稀疏的权重向量，我们看看刚刚得到的L1正则化模型是否真是如此呢？\n"
   ]
  },
  {
   "cell_type": "code",
   "execution_count": 61,
   "metadata": {
    "collapsed": false
   },
   "outputs": [
    {
     "name": "stderr",
     "output_type": "stream",
     "text": [
      "D:\\anaconda1\\lib\\site-packages\\pyspark\\mllib\\regression.py:281: UserWarning: Deprecated in 2.0.0. Use ml.regression.LinearRegression.\n",
      "  warnings.warn(\"Deprecated in 2.0.0. Use ml.regression.LinearRegression.\")\n"
     ]
    },
    {
     "name": "stdout",
     "output_type": "stream",
     "text": [
      "L1 (1.0) number of zero weights:4\n",
      "L2 (1.0) number of zero weights:4\n",
      "L1 (10.0) number of zeros weights:33\n",
      "L2 (10.0) number of zeros weights:4\n",
      "L1 (100.0) number of zeros weights:58\n",
      "L2 (100.0) number of zeros weights:4\n"
     ]
    }
   ],
   "source": [
    "model_l1 = LinearRegressionWithSGD.train(train,10,0.1,regParam=1.0, regType='l1', intercept=False) \n",
    "model_l2 = LinearRegressionWithSGD.train(train,10,0.1,regParam=1.0, regType='l2', intercept=False) \n",
    "model_l1_10 = LinearRegressionWithSGD.train(train,10,0.1,regParam=10.0, regType='l1', intercept=False) \n",
    "model_l2_10 = LinearRegressionWithSGD.train(train,10,0.1,regParam=10.0, regType='l2', intercept=False) \n",
    "model_l1_100 = LinearRegressionWithSGD.train(train,10,0.1,regParam=100.0, regType='l1', intercept=False) \n",
    "model_l2_100 = LinearRegressionWithSGD.train(train,10,0.1,regParam=100.0, regType='l2', intercept=False)\n",
    "\n",
    "print ('L1 (1.0) number of zero weights:'+ str(sum(model_l1.weights.array == 0)))\n",
    "print ('L2 (1.0) number of zero weights:'+ str(sum(model_l2.weights.array == 0)))\n",
    "print ('L1 (10.0) number of zeros weights:'+ str(sum(model_l1_10.weights.array == 0)))\n",
    "print ('L2 (10.0) number of zeros weights:'+ str(sum(model_l2_10.weights.array == 0)))\n",
    "print ('L1 (100.0) number of zeros weights:'+ str(sum(model_l1_100.weights.array == 0)))\n",
    "print ('L2 (100.0) number of zeros weights:'+ str(sum(model_l2_100.weights.array == 0)))"
   ]
  },
  {
   "cell_type": "code",
   "execution_count": 62,
   "metadata": {
    "collapsed": false
   },
   "outputs": [
    {
     "name": "stderr",
     "output_type": "stream",
     "text": [
      "D:\\anaconda1\\lib\\site-packages\\pyspark\\mllib\\regression.py:281: UserWarning: Deprecated in 2.0.0. Use ml.regression.LinearRegression.\n",
      "  warnings.warn(\"Deprecated in 2.0.0. Use ml.regression.LinearRegression.\")\n"
     ]
    },
    {
     "name": "stdout",
     "output_type": "stream",
     "text": [
      "the rmsle:1.414960 when intercept:0.000000\n",
      "the rmsle:1.444319 when intercept:1.000000\n"
     ]
    },
    {
     "data": {
      "image/png": "[encoded data removed]",
      "text/plain": [
       "<matplotlib.figure.Figure at 0x2572248edd8>"
      ]
     },
     "metadata": {},
     "output_type": "display_data"
    }
   ],
   "source": [
    "#截距对模型的影响\n",
    "params=[False, True]\n",
    "metrics =[evaluate(train, test, 10, 0.1, 1.0,'l2', param) for param in params]\n",
    "for i in range(len(params)):\n",
    "    print ('the rmsle:%f when intercept:%f'%(metrics[i],params[i]))\n",
    "\n",
    "#绘制L2正则化系数与RMSLE的关系图：\n",
    "plt.bar(params, metrics, color='r')\n",
    "fig = matplotlib.pyplot.gcf()\n",
    "fig.set_size_inches(12, 8)\n",
    "plt.xlabel('intercept')\n",
    "plt.ylabel('RMSLE')\n",
    "plt.show()\n",
    "\n"
   ]
  },
  {
   "cell_type": "code",
   "execution_count": 63,
   "metadata": {
    "collapsed": true
   },
   "outputs": [],
   "source": [
    "#同理，我们来对决策树来做一个相同的探讨：\n",
    "def evaluate_dt(train, test, maxDepth, maxBins): \n",
    "    model =DecisionTree.trainRegressor(train,{},impurity='variance', maxDepth=maxDepth, maxBins=maxBins)\n",
    "    predictions = model.predict(test.map(lambda point: point.features)) \n",
    "    actual = test.map(lambda point: point.label) \n",
    "    actual_vs_predictions = actual.zip(predictions) \n",
    "    rmsle = np.sqrt(actual_vs_predictions.map(lambda kv: squared_log_error(kv[0],kv[1])).mean())\n",
    "    return rmsle"
   ]
  },
  {
   "cell_type": "markdown",
   "metadata": {},
   "source": [
    "树的不同最大深度对性能影响：\n",
    "\n",
    "\n",
    "\n",
    "\n",
    "我们通常希望用更复杂（更深）的决策树提升模型的性能。而较小的树深度类似正则化形式，如线性模型的L2正则化和L1正则化，存在一个最优的树深度能在测试集上获得最优的性能。\n"
   ]
  },
  {
   "cell_type": "code",
   "execution_count": 64,
   "metadata": {
    "collapsed": false
   },
   "outputs": [
    {
     "name": "stdout",
     "output_type": "stream",
     "text": [
      "the rmsle:1.005040 when maxDepth :1\n",
      "the rmsle:0.906772 when maxDepth :2\n",
      "the rmsle:0.801477 when maxDepth :3\n",
      "the rmsle:0.724565 when maxDepth :4\n",
      "the rmsle:0.621689 when maxDepth :5\n",
      "the rmsle:0.416588 when maxDepth :10\n",
      "the rmsle:0.438248 when maxDepth :20\n"
     ]
    },
    {
     "data": {
      "image/png": "[encoded data removed]",
      "text/plain": [
       "<matplotlib.figure.Figure at 0x25721d86588>"
      ]
     },
     "metadata": {},
     "output_type": "display_data"
    }
   ],
   "source": [
    "params=[1,2,3,4,5,10,20] \n",
    "metrics =[evaluate_dt(train_dt, test_dt, param,32) for param in params]\n",
    "for i in range(len(params)):    \n",
    "    print ('the rmsle:%f when maxDepth :%d'%(metrics[i],params[i]))\n",
    "\n",
    "#绘制树的最大深度与RMSLE的关系图：\n",
    "plt.plot(params, metrics)\n",
    "fig = matplotlib.pyplot.gcf()\n",
    "fig.set_size_inches(12, 8)\n",
    "plt.xlabel('maxDepth')\n",
    "plt.ylabel('RMSLE')\n",
    "plt.show()"
   ]
  },
  {
   "cell_type": "markdown",
   "metadata": {},
   "source": [
    "最大划分数（每个节点分支时最大bin数）对模型的影响\n",
    "\n",
    "最后，我们来看看划分数对决策树性能的影响。和树的深度一样，更多的划分数会使模型变得更加复杂，并且有助于提升特征维度较大的模型性能。划分数到一定程度之后，对性能的提升帮助不大。实际上， 由于过拟合的原因会导致测试集的性能变差。\n"
   ]
  },
  {
   "cell_type": "code",
   "execution_count": 65,
   "metadata": {
    "collapsed": false
   },
   "outputs": [
    {
     "name": "stdout",
     "output_type": "stream",
     "text": [
      "the rmsle:1.270302 when maxBins :2\n",
      "the rmsle:0.786949 when maxBins :4\n",
      "the rmsle:0.721781 when maxBins :8\n",
      "the rmsle:0.630364 when maxBins :16\n",
      "the rmsle:0.621689 when maxBins :32\n",
      "the rmsle:0.621689 when maxBins :64\n",
      "the rmsle:0.621689 when maxBins :100\n"
     ]
    },
    {
     "data": {
      "image/png": "[encoded data removed]",
      "text/plain": [
       "<matplotlib.figure.Figure at 0x25722636eb8>"
      ]
     },
     "metadata": {},
     "output_type": "display_data"
    }
   ],
   "source": [
    "params=[2,4,8,16,32,64,100] \n",
    "metrics =[evaluate_dt(train_dt, test_dt,5, param) for param in params]\n",
    "for i in range(len(params)):    \n",
    "    print ('the rmsle:%f when maxBins :%d'%(metrics[i],params[i]))\n",
    "\n",
    "#绘制树的最大划分数与RMSLE的关系图：\n",
    "plt.plot(params, metrics)\n",
    "fig = matplotlib.pyplot.gcf()\n",
    "fig.set_size_inches(12, 8)\n",
    "plt.xlabel('maxDepth')\n",
    "plt.ylabel('RMSLE')\n",
    "plt.show()"
   ]
  },
  {
   "cell_type": "markdown",
   "metadata": {},
   "source": [
    "从上述结果可以看出，最大划分数会影响模型的性能，但是当最大划分数达到30之后，模型性能基本上没有获得提升。最优的最大划分数是在30到35之间。"
   ]
  },
  {
   "cell_type": "code",
   "execution_count": null,
   "metadata": {
    "collapsed": false
   },
   "outputs": [
    {
     "name": "stderr",
     "output_type": "stream",
     "text": [
      "D:\\anaconda1\\lib\\site-packages\\pyspark\\mllib\\regression.py:281: UserWarning: Deprecated in 2.0.0. Use ml.regression.LinearRegression.\n",
      "  warnings.warn(\"Deprecated in 2.0.0. Use ml.regression.LinearRegression.\")\n"
     ]
    },
    {
     "name": "stdout",
     "output_type": "stream",
     "text": [
      "the rmsle:2.913770 when iter1 :1,step :0.010000,l2 :0.000000\n",
      "the rmsle:2.913770 when iter1 :1,step :0.010000,l2 :0.010000\n",
      "the rmsle:2.913770 when iter1 :1,step :0.010000,l2 :0.100000\n",
      "the rmsle:2.913770 when iter1 :1,step :0.010000,l2 :1.000000\n",
      "the rmsle:2.913770 when iter1 :1,step :0.010000,l2 :5.000000\n",
      "the rmsle:2.913770 when iter1 :1,step :0.010000,l2 :10.000000\n",
      "the rmsle:2.913770 when iter1 :1,step :0.010000,l2 :20.000000\n",
      "the rmsle:2.217222 when iter1 :1,step :0.025000,l2 :0.000000\n",
      "the rmsle:2.217222 when iter1 :1,step :0.025000,l2 :0.010000\n",
      "the rmsle:2.217222 when iter1 :1,step :0.025000,l2 :0.100000\n",
      "the rmsle:2.217222 when iter1 :1,step :0.025000,l2 :1.000000\n",
      "the rmsle:2.217222 when iter1 :1,step :0.025000,l2 :5.000000\n",
      "the rmsle:2.217222 when iter1 :1,step :0.025000,l2 :10.000000\n"
     ]
    }
   ],
   "source": [
    "#结合以上结果做一个总测试\n",
    "params_iter = [1, 5, 10, 20, 50, 100]\n",
    "params_step=[0.01,0.025,0.05,0.1,0.5,1.0] \n",
    "params_l2=[0.0,0.01,0.1,1.0,5.0,10.0,20.0]\n",
    "for iter1 in params_iter:\n",
    "    for step in params_step:\n",
    "        for l2 in params_l2:\n",
    "            metrics =evaluate(train, test, iter1, step, l2,'l2', False)\n",
    "            print ('the rmsle:%f when iter1 :%d,step :%f,l2 :%f'%(metrics,iter1,step,l2))\n",
    "            "
   ]
  },
  {
   "cell_type": "code",
   "execution_count": null,
   "metadata": {
    "collapsed": true
   },
   "outputs": [],
   "source": []
  }
 ],
 "metadata": {
  "anaconda-cloud": {},
  "kernelspec": {
   "display_name": "Python [Root]",
   "language": "python",
   "name": "Python [Root]"
  },
  "language_info": {
   "codemirror_mode": {
    "name": "ipython",
    "version": 3
   },
   "file_extension": ".py",
   "mimetype": "text/x-python",
   "name": "python",
   "nbconvert_exporter": "python",
   "pygments_lexer": "ipython3",
   "version": "3.5.1"
  }
 },
 "nbformat": 4,
 "nbformat_minor": 0
}
