{
 "cells": [
  {
   "cell_type": "markdown",
   "metadata": {},
   "source": [
    "### 使用高层API：tf.contrib.learn 来构建一个分类神经网络"
   ]
  },
  {
   "cell_type": "code",
   "execution_count": 1,
   "metadata": {
    "collapsed": true
   },
   "outputs": [],
   "source": [
    "from __future__ import absolute_import\n",
    "from __future__ import division\n",
    "from __future__ import print_function\n",
    "\n",
    "import tensorflow as tf\n",
    "import numpy as np"
   ]
  },
  {
   "cell_type": "code",
   "execution_count": null,
   "metadata": {
    "collapsed": true
   },
   "outputs": [],
   "source": [
    "# 定义数据集的路径\n",
    "IRIS_TRAINING = \"iris_training.csv\"\n",
    "IRIS_TEST = \"iris_test.csv\"\n",
    "\n",
    "# 加载数据集\n",
    "# # 加载训练集\n",
    "training_set = tf.contrib.learn.datasets.base.load_csv_with_header(\n",
    "    filename=IRIS_TRAINING,\n",
    "    target_dtype=np.int,\n",
    "    features_dtype=np.float32)\n",
    "\n",
    "# # 加载测试集  \n",
    "test_set = tf.contrib.learn.datasets.base.load_csv_with_header(\n",
    "    filename=IRIS_TEST,\n",
    "    target_dtype=np.int,\n",
    "    features_dtype=np.float32)\n"
   ]
  },
  {
   "cell_type": "markdown",
   "metadata": {},
   "source": [
    "tf.contrib.learn提供了多种多样的预定义模型，叫做Estimators（估计器），这些Estimator在你拟运行训练与评估模型的操作的时候可以实现开箱即用，也就是说，当你要使用某个模型的时候，不再需要去写他的内部逻辑，直接调用这个模型的接口，用一句代码搞定即可。"
   ]
  },
  {
   "cell_type": "code",
   "execution_count": null,
   "metadata": {
    "collapsed": true
   },
   "outputs": [],
   "source": [
    "# Specify that all features have real-value data\n",
    "feature_columns = [tf.contrib.layers.real_valued_column(\"\", dimension=4)]\n",
    "\n",
    "# Build 3 layer DNN with 10, 20, 10 units respectively.\n",
    "classifier = tf.contrib.learn.DNNClassifier(feature_columns=feature_columns,\n",
    "                                            hidden_units=[10, 20, 10],\n",
    "                                            n_classes=3,\n",
    "                                            model_dir=\"/tmp/iris_model\")"
   ]
  },
  {
   "cell_type": "markdown",
   "metadata": {},
   "source": [
    "以上代码首先定义了模型的特征列，并且指定了特征数据的数据类型。在上一节中我们看到所有的特征都是连续型变量，所以tf.contrib.layers.real_valued_column这个函数被用来构建特征列。另外，我们的数据集中有4个特征，故传入参数dimension=4."
   ]
  },
  {
   "cell_type": "markdown",
   "metadata": {},
   "source": [
    "接着，以上代码使用了tf.contrib.learn.DNNClassifier这个函数来直接构建DNN模型。（记得前面两个笔记，无论是讲简单的分类模型softmax regression还是稍微复杂的卷积神经网络，都是自己一层一层地去写模型的逻辑结构，相当繁琐，看！高级的API已经为我们封装好了这些模型，我们只需要直接调用方法就行） \n",
    " DNNClassifier这个方法需要传入4个参数： \n",
    " （1）feature_columns=feature_columns，将刚刚预先定义好的特征列传给参数feature_columns。 \n",
    " （2）hidden_units=[10, 20, 10]，设置隐藏层中的神经元个数，这里表示共有3个隐藏层，依次的神经元个数为10,20,10。 \n",
    " （3）n_classes=3，设置目标分类的个数，这个是3类，分成3种鸢尾花。 \n",
    " （4）model_dir=/tmp/iris_model，这是保存模型训练过程中的checkpoint检查点的数据的路径"
   ]
  },
  {
   "cell_type": "code",
   "execution_count": null,
   "metadata": {
    "collapsed": true
   },
   "outputs": [],
   "source": [
    "# Fit model\n",
    "classifier.fit(x=training_set.data, y=training_set.target, steps=2000)\n",
    "也可以分开迭代，上行等同于：\n",
    "classifier.fit(x=training_set.data, y=training_set.target, steps=1000)\n",
    "classifier.fit(x=training_set.data, y=training_set.target, steps=1000)"
   ]
  },
  {
   "cell_type": "markdown",
   "metadata": {},
   "source": [
    "评估模型的时候使用的是测试集，与.fit()方法相似，评估模型调用.evaluate()方法，并且将测试集的特征传入给x，测试集的标签传入给y，并且指定计算的是accuracy。"
   ]
  },
  {
   "cell_type": "code",
   "execution_count": null,
   "metadata": {
    "collapsed": true
   },
   "outputs": [],
   "source": [
    "accuracy_score = classifier.evaluate(x=test_set.data, y=test_set.target)[\"accuracy\"]\n",
    "print('Accuracy: {0:f}'.format(accuracy_score))"
   ]
  },
  {
   "cell_type": "code",
   "execution_count": null,
   "metadata": {
    "collapsed": true
   },
   "outputs": [],
   "source": [
    "# 根据上述的模型预测新的样本\n",
    "# 新的两个样本\n",
    "new_samples = np.array(\n",
    "    [[6.4, 3.2, 4.5, 1.5], [5.8, 3.1, 5.0, 1.7]], dtype=float)\n",
    "\n",
    "# 预测  \n",
    "y = list(classifier.predict(new_samples, as_iterable=True))\n",
    "\n",
    "# 打印\n",
    "print('Predictions: {}'.format(str(y)))"
   ]
  },
  {
   "cell_type": "markdown",
   "metadata": {},
   "source": [
    "### Tensorflow高级API的进阶--利用tf.contrib.learn建立输入函数 "
   ]
  },
  {
   "cell_type": "markdown",
   "metadata": {},
   "source": [
    "以下是一个input_fn函数的基本结构："
   ]
  },
  {
   "cell_type": "code",
   "execution_count": 2,
   "metadata": {
    "collapsed": true
   },
   "outputs": [],
   "source": [
    "def my_input_fn():\n",
    "\n",
    "    # Preprocess your data here...(首先预处理你的数据）\n",
    "\n",
    "    # ...then return 1) a mapping of feature columns to Tensors with\n",
    "    # the corresponding feature data, and 2) a Tensor containing labels\n",
    "    # 然后返回新的特征数据与标签数据（都是以tensor的形式）\n",
    "    return feature_cols, labels"
   ]
  },
  {
   "cell_type": "markdown",
   "metadata": {},
   "source": [
    "输入函数的主体包括一个特定的预处理输入数据的逻辑，比如去除一些脏数据，弥补缺失数据，归一化等等。\n",
    "\n",
    "输入函数的返回是两个部分： \n",
    " （1）处理后的特征：feature_cols，格式是一个map，key是特征的名称，value是tensor形式的对应的特征列数据 \n",
    " （2）标签数据：labels，一个包含标签数据的tensor"
   ]
  },
  {
   "cell_type": "markdown",
   "metadata": {},
   "source": [
    "如果你的特征/标签是存储在pandas的dataframe中或者numpy的array中的话，你就需要在返回特征与标签的时候将它们转换成tensor形式"
   ]
  },
  {
   "cell_type": "code",
   "execution_count": 3,
   "metadata": {
    "collapsed": true
   },
   "outputs": [],
   "source": [
    "#对于连续型数据，你可以使用tf.constant创建一个tensor:\n",
    "feature_column_data = [1, 2.4, 0, 9.9, 3, 120]\n",
    "feature_tensor = tf.constant(feature_column_data)"
   ]
  },
  {
   "cell_type": "code",
   "execution_count": 4,
   "metadata": {
    "collapsed": true
   },
   "outputs": [],
   "source": [
    "#对于稀疏型数据，类别下数据，你可以使用tf.SparseTensor来创建tensor:\n",
    "sparse_tensor = tf.SparseTensor(indices=[[0,1], [2,4]],\n",
    "                                values=[6, 0.5],\n",
    "                                dense_shape=[3, 5])"
   ]
  },
  {
   "cell_type": "markdown",
   "metadata": {},
   "source": [
    "#### 如何将input_fn数据传给模型？"
   ]
  },
  {
   "cell_type": "code",
   "execution_count": null,
   "metadata": {
    "collapsed": true
   },
   "outputs": [],
   "source": [
    "#在.fit()操作中有一个参数：input_fn，只要将我们定义好的输入函数传给这个参数即可：\n",
    "classifier.fit(input_fn=my_input_fn, steps=2000)"
   ]
  },
  {
   "cell_type": "code",
   "execution_count": null,
   "metadata": {
    "collapsed": true
   },
   "outputs": [],
   "source": [
    "#但是，极其注意的是绝不能直接这样做：\n",
    "classifier.fit(input_fn=my_input_fn(training_set), steps=2000)"
   ]
  },
  {
   "cell_type": "markdown",
   "metadata": {},
   "source": [
    "如果你想直接传参数给输入函数，可以选择令爱几个方法： \n",
    " （1）再写一个封装函数如下：\n",
    "    classifier.fit(input_fn=functools.partial(my_input_function,\n",
    "                                          data_set=training_set), steps=2000)\n",
    " （2）使用Python’s functools.partial方法：\n",
    "    classifier.fit(input_fn=functools.partial(my_input_function,\n",
    "                                          data_set=training_set), steps=2000)\n",
    " （3）在lambda中调用输入函数，然后将参数传入input_fn中：\n",
    "    classifier.fit(input_fn=lambda: my_input_fn(training_set), steps=2000)\n",
    "建议使用第三种方法"
   ]
  },
  {
   "cell_type": "markdown",
   "metadata": {},
   "source": [
    "#### 加载数据"
   ]
  },
  {
   "cell_type": "markdown",
   "metadata": {},
   "source": [
    "首先导入需要的库（包括pandas, tensorflow),并且设置logging verbosity为INFO，这样就可以获取到更多的日志信息了。"
   ]
  },
  {
   "cell_type": "code",
   "execution_count": 6,
   "metadata": {
    "collapsed": true
   },
   "outputs": [],
   "source": [
    "from __future__ import absolute_import\n",
    "from __future__ import division\n",
    "from __future__ import print_function\n",
    "\n",
    "import itertools\n",
    "\n",
    "import pandas as pd\n",
    "import tensorflow as tf\n",
    "\n",
    "tf.logging.set_verbosity(tf.logging.INFO)"
   ]
  },
  {
   "cell_type": "markdown",
   "metadata": {},
   "source": [
    "定义一个变量COLUMNS，将所有的特征名称与类别标签名称存储成list并赋值给他。 为了区分特征名称与标签名称，同时也将它们分别存储一个变量"
   ]
  },
  {
   "cell_type": "code",
   "execution_count": 7,
   "metadata": {
    "collapsed": true
   },
   "outputs": [],
   "source": [
    "COLUMNS = [\"crim\", \"zn\", \"indus\", \"nox\", \"rm\", \"age\",\n",
    "           \"dis\", \"tax\", \"ptratio\", \"medv\"]\n",
    "FEATURES = [\"crim\", \"zn\", \"indus\", \"nox\", \"rm\",\n",
    "            \"age\", \"dis\", \"tax\", \"ptratio\"]\n",
    "LABEL = \"medv\""
   ]
  },
  {
   "cell_type": "markdown",
   "metadata": {},
   "source": [
    "然后，将三份数据文件都用pandas.read_csv载入： \n",
    "       第一个参数是数据文件的路径，第二个参数是是否需要取出前后空值，第三个参数是去除的行数，第四个参数是列名"
   ]
  },
  {
   "cell_type": "code",
   "execution_count": null,
   "metadata": {
    "collapsed": true
   },
   "outputs": [],
   "source": [
    "training_set = pd.read_csv(\"boston_train.csv\", skipinitialspace=True,\n",
    "                           skiprows=1, names=COLUMNS)\n",
    "\n",
    "test_set = pd.read_csv(\"boston_test.csv\", skipinitialspace=True,\n",
    "                       skiprows=1, names=COLUMNS)\n",
    "\n",
    "prediction_set = pd.read_csv(\"boston_predict.csv\", skipinitialspace=True,\n",
    "                             skiprows=1, names=COLUMNS)"
   ]
  },
  {
   "cell_type": "markdown",
   "metadata": {},
   "source": [
    "#### 定义特征列并且创建回归模型"
   ]
  },
  {
   "cell_type": "markdown",
   "metadata": {},
   "source": [
    "现在创建一组FeatureColumn作为输入数据，正式指定哪些特征需要被用来训练。在我们的房价预测特征中所有数据都是连续型的值，因此你可以直接使用tf.contrib.layers.real_valued_column()来创建FeatureColumn"
   ]
  },
  {
   "cell_type": "code",
   "execution_count": null,
   "metadata": {
    "collapsed": true
   },
   "outputs": [],
   "source": [
    "feature_cols = [tf.contrib.layers.real_valued_column(k)\n",
    "                  for k in FEATURES]"
   ]
  },
  {
   "cell_type": "markdown",
   "metadata": {},
   "source": [
    "接着我们来调用DNNRegressor函数实例化一个神经网络回归模型。 \n",
    " 这里需要提供3个参数： \n",
    " feature_columns：一组刚刚定义的特征列 \n",
    " hidden_units：每层隐藏层的神经网络个数 \n",
    " model_dir：模型保存的路径"
   ]
  },
  {
   "cell_type": "code",
   "execution_count": null,
   "metadata": {
    "collapsed": true
   },
   "outputs": [],
   "source": [
    "regressor = tf.contrib.learn.DNNRegressor(feature_columns=feature_cols,\n",
    "                                          hidden_units=[10, 10],\n",
    "                                          model_dir=\"/tmp/boston_model\")"
   ]
  },
  {
   "cell_type": "markdown",
   "metadata": {},
   "source": [
    "#### 构建输入函数input_fn"
   ]
  },
  {
   "cell_type": "markdown",
   "metadata": {},
   "source": [
    "这里我们构建一个输入函数去预处理数据，处理的内容比较简单，只是将用pandas读进来的dataframe形式的数据转换成tensor."
   ]
  },
  {
   "cell_type": "code",
   "execution_count": 8,
   "metadata": {
    "collapsed": true
   },
   "outputs": [],
   "source": [
    "def input_fn(data_set):\n",
    "  feature_cols = {k: tf.constant(data_set[k].values)\n",
    "                  for k in FEATURES}\n",
    "  labels = tf.constant(data_set[LABEL].values)\n",
    "  return feature_cols, labels"
   ]
  },
  {
   "cell_type": "code",
   "execution_count": null,
   "metadata": {
    "collapsed": true
   },
   "outputs": [],
   "source": [
    "#训练模型\n",
    "regressor.fit(input_fn=lambda: input_fn(training_set), steps=5000)\n",
    "#评估模型\n",
    "ev = regressor.evaluate(input_fn=lambda: input_fn(test_set), steps=1)\n",
    "#提取损失并打印：\n",
    "loss_score = ev[\"loss\"]\n",
    "print(\"Loss: {0:f}\".format(loss_score))\n",
    "#使用模型做预测\n",
    "y = regressor.predict(input_fn=lambda: input_fn(prediction_set))\n",
    "\n",
    "# .predict() returns an iterator; convert to a list and print predictions\n",
    "\n",
    "predictions = list(itertools.islice(y, 6)) #取出y的前六个\n",
    "print (\"Predictions: {}\".format(str(predictions)))"
   ]
  },
  {
   "cell_type": "markdown",
   "metadata": {},
   "source": [
    "      # islice('ABCDEFG', 2) --> A B\n",
    "      # islice('ABCDEFG', 2, 4) --> C D\n",
    "      # islice('ABCDEFG', 2, None) --> C D E F G\n",
    "      # islice('ABCDEFG', 0, None, 2) --> A C E G"
   ]
  },
  {
   "cell_type": "markdown",
   "metadata": {},
   "source": [
    "### TensorFlow 高级 API tflearn"
   ]
  },
  {
   "cell_type": "code",
   "execution_count": null,
   "metadata": {
    "collapsed": true
   },
   "outputs": [],
   "source": [
    "from __future__ import division, print_function, absolute_import  \n",
    "  \n",
    "import tflearn  \n",
    "from tflearn.layers.core import input_data, dropout, fully_connected  \n",
    "from tflearn.layers.conv import conv_2d, max_pool_2d  \n",
    "from tflearn.layers.normalization import local_response_normalization  \n",
    "from tflearn.layers.estimator import regression  \n",
    "#加载大名顶顶的mnist数据集（http://yann.lecun.com/exdb/mnist/）  \n",
    "import tflearn.datasets.mnist as mnist  \n",
    "X, Y, testX, testY = mnist.load_data(one_hot=True)  \n",
    "X = X.reshape([-1, 28, 28, 1])  \n",
    "testX = testX.reshape([-1, 28, 28, 1])  \n",
    "  \n",
    "network = input_data(shape=[None, 28, 28, 1], name='input')  \n",
    "# CNN中的卷积操作,下面会有详细解释  \n",
    "network = conv_2d(network, 32, 3, activation='relu', regularizer=\"L2\")  \n",
    "# 最大池化操作  \n",
    "network = max_pool_2d(network, 2)  \n",
    "# 局部响应归一化操作  \n",
    "network = local_response_normalization(network)  \n",
    "network = conv_2d(network, 64, 3, activation='relu', regularizer=\"L2\")  \n",
    "network = max_pool_2d(network, 2)  \n",
    "network = local_response_normalization(network)  \n",
    "# 全连接操作  \n",
    "network = fully_connected(network, 128, activation='tanh')  \n",
    "# dropout操作  \n",
    "network = dropout(network, 0.8)  \n",
    "network = fully_connected(network, 256, activation='tanh')  \n",
    "network = dropout(network, 0.8)  \n",
    "network = fully_connected(network, 10, activation='softmax')  \n",
    "# 回归操作  \n",
    "network = regression(network, optimizer='adam', learning_rate=0.01,  \n",
    "                     loss='categorical_crossentropy', name='target')  \n",
    "  \n",
    "# Training  \n",
    "# DNN操作，构建深度神经网络  \n",
    "model = tflearn.DNN(network, tensorboard_verbose=0)  \n",
    "model.fit({'input': X}, {'target': Y}, n_epoch=20,  \n",
    "           validation_set=({'input': testX}, {'target': testY}),  \n",
    "           snapshot_step=100, show_metric=True, run_id='convnet_mnist')  "
   ]
  },
  {
   "cell_type": "markdown",
   "metadata": {},
   "source": [
    "### 利用 TensorFlow 高级 API Keras 实现 MLP，CNN，LSTM "
   ]
  },
  {
   "cell_type": "markdown",
   "metadata": {},
   "source": [
    "TensorFlow 代码长，不好读，不好理解，这可能是很多初学者的痛。在一些开发者努力下基于 TF 构建了更高级的 API，无需再用冗长难记的底层 API 构建模型。在众多高级 API 中，Keras 和 TFLearn 较为流行。"
   ]
  },
  {
   "cell_type": "code",
   "execution_count": null,
   "metadata": {
    "collapsed": true
   },
   "outputs": [],
   "source": [
    "# 加载 Keras 模型相关的 Python 模块\n",
    "\n",
    "from keras.models import Sequential\n",
    "\n",
    "from keras.layers.core import Dense, Dropout, Activation\n",
    "\n",
    "from keras.optimizers import RMSprop\n",
    "\n",
    "\n",
    "\n",
    "\n",
    "# 构建 MLP 网络\n",
    "\n",
    "model = Sequential()    \n",
    "\n",
    "model.add(Dense(512, input_shape=(784,))) # 全连接层\n",
    "\n",
    "model.add(Activation('relu')) # ReLU\n",
    "\n",
    "model.add(Dropout(0.2)) # Dropout\n",
    "\n",
    "model.add(Dense(512)) # 全连接层\n",
    "\n",
    "model.add(Activation('relu')) # ReLU\n",
    "\n",
    "model.add(Dropout(0.2)) # Dropout\n",
    "\n",
    "model.add(Dense(10)) # 分类层\n",
    "\n",
    "model.add(Activation('softmax')) # Softmax\n",
    "\n",
    "model.summary() # 打印模型\n",
    "\n",
    "model.compile(loss='categorical_crossentropy',\n",
    "\n",
    "              optimizer=RMSprop(),\n",
    "\n",
    "              metrics=['accuracy']) # 生成模型\n"
   ]
  },
  {
   "cell_type": "code",
   "execution_count": null,
   "metadata": {
    "collapsed": true
   },
   "outputs": [],
   "source": [
    "#下面是一个 CNN 例子（mnist_cnn.py）：\n",
    "\n",
    "\n",
    "# 加载 Keras 模型相关的 Python 模块\n",
    "\n",
    "from keras.models import Sequential\n",
    "\n",
    "from keras.layers import Dense, Dropout, Activation, Flatten\n",
    "\n",
    "from keras.layers import Convolution2D, MaxPooling2D\n",
    "\n",
    "# 构建 CNN 网络\n",
    "\n",
    "model = Sequential()\n",
    "\n",
    "model.add(Convolution2D(nb_filters, kernel_size[0], kernel_size[1],\n",
    "\n",
    "                        border_mode='valid',\n",
    "\n",
    "                        input_shape=input_shape)) # 卷积层\n",
    "\n",
    "model.add(Activation('relu')) # ReLU\n",
    "\n",
    "model.add(Convolution2D(nb_filters, kernel_size[0], kernel_size[1])) # 卷积层\n",
    "\n",
    "model.add(Activation('relu')) # ReLU\n",
    "\n",
    "model.add(MaxPooling2D(pool_size=pool_size)) # Maxpooling\n",
    "\n",
    "model.add(Dropout(0.25)) # Dropout\n",
    "\n",
    "model.add(Flatten()) # 将响应转换为一维向量\n",
    "\n",
    "model.add(Dense(128)) # 全连接层\n",
    "\n",
    "model.add(Activation('relu')) # ReLU\n",
    "\n",
    "model.add(Dropout(0.5)) # Dropout\n",
    "\n",
    "model.add(Dense(nb_classes)) # 分类层\n",
    "\n",
    "model.add(Activation('softmax')) # Softmax\n",
    "\n",
    "model.compile(loss='categorical_crossentropy',\n",
    "\n",
    "              optimizer='adadelta',\n",
    "\n",
    "              metrics=['accuracy']) # 生成模型\n"
   ]
  },
  {
   "cell_type": "code",
   "execution_count": null,
   "metadata": {
    "collapsed": true
   },
   "outputs": [],
   "source": [
    "#接着看一个 LSTM 例子（imdb_lstm.py），完成 IMDB 上句子分类任务：\n",
    "\n",
    "\n",
    "\n",
    "# 加载 Keras 模型相关的 Python 模块\n",
    "\n",
    "from keras.models import Sequential\n",
    "\n",
    "from keras.layers import Dense, Activation, Embedding\n",
    "\n",
    "from keras.layers import LSTM\n",
    "\n",
    "# 构建 LSTM 模型\n",
    "\n",
    "model = Sequential()\n",
    "\n",
    "model.add(Embedding(max_features, 128, dropout=0.2)) # 词嵌入\n",
    "\n",
    "model.add(LSTM(128, dropout_W=0.2, dropout_U=0.2))  # LSTM 层\n",
    "\n",
    "model.add(Dense(1))    # 二分类层\n",
    "\n",
    "model.add(Activation('sigmoid')) # Sigmoid \n",
    "\n",
    "model.summary()  # 打印模型\n",
    "\n",
    "\n",
    "model.compile(loss='binary_crossentropy',\n",
    "\n",
    "              optimizer='adam',\n",
    "\n",
    "              metrics=['accuracy']) # 生成模型\n"
   ]
  },
  {
   "cell_type": "code",
   "execution_count": null,
   "metadata": {
    "collapsed": true
   },
   "outputs": [],
   "source": [
    "from __future__ import print_function\n",
    "import keras\n",
    "from keras.datasets import mnist\n",
    "from keras.models import Sequential\n",
    "from keras.layers import Dense, Dropout, Flatten\n",
    "from keras.layers import Conv2D, MaxPooling2D\n",
    "from keras import backend as K\n",
    "\n",
    "batch_size = 128\n",
    "num_classes = 10\n",
    "epochs = 12\n",
    "\n",
    "# input image dimensions\n",
    "img_rows, img_cols = 28, 28\n",
    "\n",
    "# the data, shuffled and split between train and test sets\n",
    "(x_train, y_train), (x_test, y_test) = mnist.load_data()\n",
    "\n",
    "if K.image_data_format() == 'channels_first':\n",
    "    x_train = x_train.reshape(x_train.shape[0], 1, img_rows, img_cols)\n",
    "    x_test = x_test.reshape(x_test.shape[0], 1, img_rows, img_cols)\n",
    "    input_shape = (1, img_rows, img_cols)\n",
    "else:\n",
    "    x_train = x_train.reshape(x_train.shape[0], img_rows, img_cols, 1)\n",
    "    x_test = x_test.reshape(x_test.shape[0], img_rows, img_cols, 1)\n",
    "    input_shape = (img_rows, img_cols, 1)\n",
    "\n",
    "x_train = x_train.astype('float32')\n",
    "x_test = x_test.astype('float32')\n",
    "x_train /= 255\n",
    "x_test /= 255\n",
    "print('x_train shape:', x_train.shape)\n",
    "print(x_train.shape[0], 'train samples')\n",
    "print(x_test.shape[0], 'test samples')\n",
    "\n",
    "# convert class vectors to binary class matrices\n",
    "y_train = keras.utils.to_categorical(y_train, num_classes)\n",
    "y_test = keras.utils.to_categorical(y_test, num_classes)\n",
    "\n",
    "model = Sequential()\n",
    "model.add(Conv2D(32, kernel_size=(3, 3),\n",
    "                 activation='relu',\n",
    "                 input_shape=input_shape))\n",
    "model.add(Conv2D(64, (3, 3), activation='relu'))\n",
    "model.add(MaxPooling2D(pool_size=(2, 2)))\n",
    "model.add(Dropout(0.25))\n",
    "model.add(Flatten())\n",
    "model.add(Dense(128, activation='relu'))\n",
    "model.add(Dropout(0.5))\n",
    "model.add(Dense(num_classes, activation='softmax'))\n",
    "\n",
    "model.compile(loss=keras.losses.categorical_crossentropy,\n",
    "              optimizer=keras.optimizers.Adadelta(),\n",
    "              metrics=['accuracy'])\n",
    "\n",
    "model.fit(x_train, y_train,\n",
    "          batch_size=batch_size,\n",
    "          epochs=epochs,\n",
    "          verbose=1,\n",
    "          validation_data=(x_test, y_test))\n",
    "score = model.evaluate(x_test, y_test, verbose=0)\n",
    "print('Test loss:', score[0])\n",
    "print('Test accuracy:', score[1])\n"
   ]
  },
  {
   "cell_type": "markdown",
   "metadata": {},
   "source": [
    "## tensorflow基础 "
   ]
  },
  {
   "cell_type": "code",
   "execution_count": 1,
   "metadata": {
    "collapsed": false
   },
   "outputs": [
    {
     "name": "stdout",
     "output_type": "stream",
     "text": [
      "3.5\n"
     ]
    }
   ],
   "source": [
    "import tensorflow as tf\n",
    "v = tf.constant([[1.0, 2.0, 3.0], [4.0, 5.0, 6.0]])\n",
    "sess=tf.Session()\n",
    "print(sess.run(tf.reduce_mean(v)))"
   ]
  },
  {
   "cell_type": "markdown",
   "metadata": {},
   "source": [
    "tf.reduce_mean(x) ==> 2.5 #如果不指定第二个参数，那么就在所有的元素中取平均值\n",
    "tf.reduce_mean(x, 0) ==> [2.,  3.] #指定第二个参数为0，则第一维的元素取平均值，即每一列求平均值\n",
    "tf.reduce_mean(x, 1) ==> [1.5,  3.5] #指定第二个参数为1，则第二维的元素取平均值，即每一行求平均值"
   ]
  },
  {
   "cell_type": "markdown",
   "metadata": {},
   "source": [
    "tf.add_to_collection：把变量放入一个集合，把很多变量变成一个列表\n",
    "tf.get_collection：从一个结合中取出全部变量，是一个列表\n",
    "tf.add_n：把一个列表的东西都依次加起来"
   ]
  },
  {
   "cell_type": "code",
   "execution_count": 9,
   "metadata": {
    "collapsed": false
   },
   "outputs": [
    {
     "name": "stdout",
     "output_type": "stream",
     "text": [
      "[[-1.2  -1.2  -1.2  ..., -1.2  -1.2  -1.2 ]\n",
      " [-1.19 -1.19 -1.19 ..., -1.19 -1.19 -1.19]\n",
      " [-1.18 -1.18 -1.18 ..., -1.18 -1.18 -1.18]\n",
      " ..., \n",
      " [ 1.17  1.17  1.17 ...,  1.17  1.17  1.17]\n",
      " [ 1.18  1.18  1.18 ...,  1.18  1.18  1.18]\n",
      " [ 1.19  1.19  1.19 ...,  1.19  1.19  1.19]]\n",
      "[[-0.2  -0.19 -0.18 ...,  2.18  2.19  2.2 ]\n",
      " [-0.2  -0.19 -0.18 ...,  2.18  2.19  2.2 ]\n",
      " [-0.2  -0.19 -0.18 ...,  2.18  2.19  2.2 ]\n",
      " ..., \n",
      " [-0.2  -0.19 -0.18 ...,  2.18  2.19  2.2 ]\n",
      " [-0.2  -0.19 -0.18 ...,  2.18  2.19  2.2 ]\n",
      " [-0.2  -0.19 -0.18 ...,  2.18  2.19  2.2 ]]\n",
      "240\n",
      "241\n"
     ]
    }
   ],
   "source": [
    "import numpy as np\n",
    "xx, yy = np.mgrid[-1.2:1.2:.01, -0.2:2.2:.01]\n",
    "print (xx)\n",
    "print (yy)\n",
    "print (len(xx))\n",
    "print (len(yy[0]))"
   ]
  },
  {
   "cell_type": "code",
   "execution_count": 7,
   "metadata": {
    "collapsed": false
   },
   "outputs": [
    {
     "name": "stdout",
     "output_type": "stream",
     "text": [
      "[-1.2  -1.2  -1.2  ...,  1.19  1.19  1.19]\n"
     ]
    }
   ],
   "source": [
    "print (xx.ravel())"
   ]
  },
  {
   "cell_type": "code",
   "execution_count": 5,
   "metadata": {
    "collapsed": false,
    "scrolled": true
   },
   "outputs": [
    {
     "name": "stdout",
     "output_type": "stream",
     "text": [
      "[[-1.2  -0.2 ]\n",
      " [-1.2  -0.19]\n",
      " [-1.2  -0.18]\n",
      " ..., \n",
      " [ 1.19  2.18]\n",
      " [ 1.19  2.19]\n",
      " [ 1.19  2.2 ]]\n",
      "57840\n"
     ]
    }
   ],
   "source": [
    "grid = np.c_[xx.ravel(), yy.ravel()]\n",
    "print (grid)\n",
    "print (len(grid))"
   ]
  },
  {
   "cell_type": "code",
   "execution_count": null,
   "metadata": {
    "collapsed": true
   },
   "outputs": [],
   "source": [
    "#滑动平均模型\n",
    "import tensorflow as tf\n",
    "\n",
    "# 1. 定义变量及滑动平均类\n",
    "v1 = tf.Variable(0, dtype=tf.float32)\n",
    "step = tf.Variable(0, trainable=False)\n",
    "ema = tf.train.ExponentialMovingAverage(0.99, step)\n",
    "maintain_averages_op = ema.apply([v1])\n",
    "\n",
    "# 2. 查看不同迭代中变量取值的变化\n",
    "with tf.Session() as sess:\n",
    "    # 初始化\n",
    "    init_op = tf.global_variables_initializer()\n",
    "    sess.run(init_op)\n",
    "    print(sess.run([v1, ema.average(v1)]))\n",
    "\n",
    "    # 更新变量v1的取值\n",
    "    sess.run(tf.assign(v1, 5))\n",
    "    sess.run(maintain_averages_op)\n",
    "    print(sess.run([v1, ema.average(v1)]))\n",
    "\n",
    "    # 更新step和v1的取值\n",
    "    sess.run(tf.assign(step, 10000))\n",
    "    sess.run(tf.assign(v1, 10))\n",
    "    sess.run(maintain_averages_op)\n",
    "    print(sess.run([v1, ema.average(v1)]))\n",
    "\n",
    "    # 更新一次v1的滑动平均值\n",
    "    sess.run(maintain_averages_op)\n",
    "    print(sess.run([v1, ema.average(v1)]))\n",
    "'''\n",
    "[0.0, 0.0]\n",
    "[5.0, 4.5] # decay=min(0.99, 1/10)=0.1, v1=0.1*0+0.9*5=4.5 \n",
    "[10.0, 4.5549998]  # decay=min(0.99,(1+10000)/(10+10000))=0.99, v1=0.99*4.5+0.01*10=4.555  \n",
    "[10.0, 4.6094499]\n",
    "'''"
   ]
  },
  {
   "cell_type": "markdown",
   "metadata": {},
   "source": [
    "tf.train.ExponentialMovingAverage(decay, steps)\n",
    "tf.train.ExponentialMovingAverage这个函数用于更新参数，就是采用滑动平均的方法更新参数。这个函数初始化需要提供一个衰减速率（decay），用于控制模型的更新速度。这个函数还会维护一个影子变量（也就是更新参数后的参数值），这个影子变量的初始值就是这个变量的初始值，影子变量值的更新方式如下：\n",
    "shadow_variable = decay * shadow_variable + (1-decay) * variable\n",
    "shadow_variable是影子变量，variable表示待更新的变量，也就是变量被赋予的值，decay为衰减速率。decay一般设为接近于1的数（0.99,0.999）。decay越大模型越稳定，因为decay越大，参数更新的速度就越慢，趋于稳定。\n",
    "tf.train.ExponentialMovingAverage这个函数还提供了自己动更新decay的计算方式：\n",
    "decay= min（decay，（1+steps）/（10+steps））\n",
    "steps是迭代的次数，可以自己设定。"
   ]
  },
  {
   "cell_type": "markdown",
   "metadata": {},
   "source": [
    "### tensorflow全模型(正则化+衰减的学习率+滑动平均)"
   ]
  },
  {
   "cell_type": "code",
   "execution_count": 11,
   "metadata": {
    "collapsed": false
   },
   "outputs": [
    {
     "name": "stdout",
     "output_type": "stream",
     "text": [
      "Extracting ../../../datasets/MNIST_data\\train-images-idx3-ubyte.gz\n",
      "Extracting ../../../datasets/MNIST_data\\train-labels-idx1-ubyte.gz\n",
      "Extracting ../../../datasets/MNIST_data\\t10k-images-idx3-ubyte.gz\n",
      "Extracting ../../../datasets/MNIST_data\\t10k-labels-idx1-ubyte.gz\n",
      "After 0 training step(s), validation accuracy using average model is 0.107 \n",
      "After 1000 training step(s), validation accuracy using average model is 0.9762 \n",
      "After 2000 training step(s), validation accuracy using average model is 0.9798 \n",
      "After 3000 training step(s), validation accuracy using average model is 0.983 \n",
      "After 4000 training step(s), validation accuracy using average model is 0.9834 \n",
      "After 5000 training step(s), test accuracy using average model is 0.9836\n"
     ]
    },
    {
     "data": {
      "text/plain": [
       "'\\nExtracting ../../../datasets/MNIST_data\\train-images-idx3-ubyte.gz\\nExtracting ../../../datasets/MNIST_data\\train-labels-idx1-ubyte.gz\\nExtracting ../../../datasets/MNIST_data\\t10k-images-idx3-ubyte.gz\\nExtracting ../../../datasets/MNIST_data\\t10k-labels-idx1-ubyte.gz\\nAfter 0 training step(s), validation accuracy using average model is 0.1284 \\nAfter 1000 training step(s), validation accuracy using average model is 0.9764 \\nAfter 2000 training step(s), validation accuracy using average model is 0.9806 \\nAfter 3000 training step(s), validation accuracy using average model is 0.9818 \\nAfter 4000 training step(s), validation accuracy using average model is 0.9822 \\nAfter 5000 training step(s), test accuracy using average model is 0.9822\\n'"
      ]
     },
     "execution_count": 11,
     "metadata": {},
     "output_type": "execute_result"
    }
   ],
   "source": [
    "# 《TensorFlow实战Google深度学习框架》05 minist数字识别问题\n",
    "# win10 Tensorflow1.0.1 python3.5.3\n",
    "# CUDA v8.0 cudnn-8.0-windows10-x64-v5.1\n",
    "# filename:ts05.02.py # TensorFlow训练神经网络--全模型\n",
    "\n",
    "import tensorflow as tf\n",
    "from tensorflow.examples.tutorials.mnist import input_data\n",
    "\n",
    "# 1.设置输入和输出节点的个数,配置神经网络的参数\n",
    "INPUT_NODE = 784  # 输入节点\n",
    "OUTPUT_NODE = 10  # 输出节点\n",
    "LAYER1_NODE = 500  # 隐藏层数\n",
    "\n",
    "BATCH_SIZE = 100  # 每次batch打包的样本个数\n",
    "\n",
    "# 模型相关的参数\n",
    "LEARNING_RATE_BASE = 0.8\n",
    "LEARNING_RATE_DECAY = 0.99\n",
    "REGULARAZTION_RATE = 0.0001\n",
    "TRAINING_STEPS = 5000\n",
    "MOVING_AVERAGE_DECAY = 0.99\n",
    "\n",
    "# 2. 定义辅助函数来计算前向传播结果，使用ReLU做为激活函数。\n",
    "def inference(input_tensor, avg_class, weights1, biases1, weights2, biases2):\n",
    "    # 不使用滑动平均类\n",
    "    if avg_class == None:\n",
    "        layer1 = tf.nn.relu(tf.matmul(input_tensor, weights1) + biases1)\n",
    "        return tf.matmul(layer1, weights2) + biases2\n",
    "    else:\n",
    "        # 使用滑动平均类\n",
    "        layer1 = tf.nn.relu(tf.matmul(input_tensor, avg_class.average(weights1)) + avg_class.average(biases1))\n",
    "        return tf.matmul(layer1, avg_class.average(weights2)) + avg_class.average(biases2)\n",
    "\n",
    "# 3. 定义训练过程\n",
    "def train(mnist):\n",
    "    x = tf.placeholder(tf.float32, [None, INPUT_NODE], name='x-input')\n",
    "    y_ = tf.placeholder(tf.float32, [None, OUTPUT_NODE], name='y-input')\n",
    "    # 生成隐藏层的参数。\n",
    "    weights1 = tf.Variable(tf.truncated_normal([INPUT_NODE, LAYER1_NODE], stddev=0.1))\n",
    "    biases1 = tf.Variable(tf.constant(0.1, shape=[LAYER1_NODE]))\n",
    "    # 生成输出层的参数。\n",
    "    weights2 = tf.Variable(tf.truncated_normal([LAYER1_NODE, OUTPUT_NODE], stddev=0.1))\n",
    "    biases2 = tf.Variable(tf.constant(0.1, shape=[OUTPUT_NODE]))\n",
    "\n",
    "    # 计算不含滑动平均类的前向传播结果\n",
    "    y = inference(x, None, weights1, biases1, weights2, biases2)\n",
    "\n",
    "    # 定义训练轮数及相关的滑动平均类\n",
    "    global_step = tf.Variable(0, trainable=False)\n",
    "    variable_averages = tf.train.ExponentialMovingAverage(MOVING_AVERAGE_DECAY, global_step)\n",
    "    variables_averages_op = variable_averages.apply(tf.trainable_variables())\n",
    "    average_y = inference(x, variable_averages, weights1, biases1, weights2, biases2)\n",
    "\n",
    "    # 计算交叉熵及其平均值\n",
    "    cross_entropy = tf.nn.sparse_softmax_cross_entropy_with_logits(logits=y, labels=tf.argmax(y_, 1))\n",
    "    cross_entropy_mean = tf.reduce_mean(cross_entropy)\n",
    "\n",
    "    # 损失函数的计算\n",
    "    regularizer = tf.contrib.layers.l2_regularizer(REGULARAZTION_RATE)\n",
    "    regularaztion = regularizer(weights1) + regularizer(weights2)\n",
    "    loss = cross_entropy_mean + regularaztion\n",
    "\n",
    "    # 设置指数衰减的学习率。\n",
    "    learning_rate = tf.train.exponential_decay(\n",
    "        LEARNING_RATE_BASE,\n",
    "        global_step,\n",
    "        mnist.train.num_examples / BATCH_SIZE,\n",
    "        LEARNING_RATE_DECAY,\n",
    "        staircase=True)\n",
    "\n",
    "    # 优化损失函数\n",
    "    train_step = tf.train.GradientDescentOptimizer(learning_rate).minimize(loss, global_step=global_step)\n",
    "\n",
    "    # 反向传播更新参数和更新每一个参数的滑动平均值\n",
    "    with tf.control_dependencies([train_step, variables_averages_op]):\n",
    "        train_op = tf.no_op(name='train')\n",
    "\n",
    "    # 计算正确率\n",
    "    correct_prediction = tf.equal(tf.argmax(average_y, 1), tf.argmax(y_, 1))\n",
    "    accuracy = tf.reduce_mean(tf.cast(correct_prediction, tf.float32))\n",
    "\n",
    "    # 初始化回话并开始训练过程。\n",
    "    with tf.Session() as sess:\n",
    "        tf.global_variables_initializer().run()\n",
    "        validate_feed = {x: mnist.validation.images, y_: mnist.validation.labels}\n",
    "        test_feed = {x: mnist.test.images, y_: mnist.test.labels}\n",
    "\n",
    "        # 循环的训练神经网络。\n",
    "        for i in range(TRAINING_STEPS):\n",
    "            if i % 1000 == 0:\n",
    "                validate_acc = sess.run(accuracy, feed_dict=validate_feed)\n",
    "                print(\"After %d training step(s), validation accuracy using average model is %g \" % (i, validate_acc))\n",
    "\n",
    "            xs, ys = mnist.train.next_batch(BATCH_SIZE)\n",
    "            sess.run(train_op, feed_dict={x: xs, y_: ys})\n",
    "\n",
    "        test_acc = sess.run(accuracy, feed_dict=test_feed)\n",
    "        print((\"After %d training step(s), test accuracy using average model is %g\" % (TRAINING_STEPS, test_acc)))\n",
    "\n",
    "\n",
    "# 4. 主程序入口，这里设定模型训练次数为5000次。\n",
    "def main(argv=None):\n",
    "    mnist = input_data.read_data_sets(\"../../../datasets/MNIST_data\", one_hot=True)\n",
    "    train(mnist)\n",
    "\n",
    "if __name__=='__main__':\n",
    "    main()\n",
    "\n",
    "'''\n",
    "Extracting ../../../datasets/MNIST_data\\train-images-idx3-ubyte.gz\n",
    "Extracting ../../../datasets/MNIST_data\\train-labels-idx1-ubyte.gz\n",
    "Extracting ../../../datasets/MNIST_data\\t10k-images-idx3-ubyte.gz\n",
    "Extracting ../../../datasets/MNIST_data\\t10k-labels-idx1-ubyte.gz\n",
    "After 0 training step(s), validation accuracy using average model is 0.1284 \n",
    "After 1000 training step(s), validation accuracy using average model is 0.9764 \n",
    "After 2000 training step(s), validation accuracy using average model is 0.9806 \n",
    "After 3000 training step(s), validation accuracy using average model is 0.9818 \n",
    "After 4000 training step(s), validation accuracy using average model is 0.9822 \n",
    "After 5000 training step(s), test accuracy using average model is 0.9822\n",
    "'''"
   ]
  },
  {
   "cell_type": "markdown",
   "metadata": {},
   "source": [
    "#### 变量管理"
   ]
  },
  {
   "cell_type": "code",
   "execution_count": 16,
   "metadata": {
    "collapsed": false
   },
   "outputs": [
    {
     "name": "stdout",
     "output_type": "stream",
     "text": [
      "ven:0\n"
     ]
    }
   ],
   "source": [
    "import tensorflow as tf\n",
    "v1 = tf.get_variable(\"ven\", [1])\n",
    "print(v1.name) # ven:0\n"
   ]
  },
  {
   "cell_type": "code",
   "execution_count": 19,
   "metadata": {
    "collapsed": false
   },
   "outputs": [
    {
     "name": "stdout",
     "output_type": "stream",
     "text": [
      "foo/ven3:0\n"
     ]
    }
   ],
   "source": [
    "with tf.variable_scope(\"foo\"):\n",
    "    v1 = tf.get_variable(\"ven3\", [1])\n",
    "with tf.variable_scope(\"foo\",reuse=True):\n",
    "    v2 = tf.get_variable(\"ven3\", [1])\n",
    "print(v2.name) # foo/v:0\n"
   ]
  },
  {
   "cell_type": "code",
   "execution_count": 21,
   "metadata": {
    "collapsed": false
   },
   "outputs": [
    {
     "name": "stdout",
     "output_type": "stream",
     "text": [
      "v1:0\n"
     ]
    }
   ],
   "source": [
    "v4 = tf.get_variable(\"v1\", [1])\n",
    "print(v4.name) # v1:0"
   ]
  },
  {
   "cell_type": "code",
   "execution_count": 22,
   "metadata": {
    "collapsed": false
   },
   "outputs": [
    {
     "name": "stdout",
     "output_type": "stream",
     "text": [
      "True\n",
      "True\n"
     ]
    }
   ],
   "source": [
    "#  我们可以通过变量的名称来获取变量\n",
    "with tf.variable_scope(\"\",reuse=True):\n",
    "    v5 = tf.get_variable(\"foo/ven3\", [1])\n",
    "    print(v5 == v2) # True\n",
    "    v6 = tf.get_variable(\"v1\", [1])\n",
    "    print(v6 == v4) # True"
   ]
  },
  {
   "cell_type": "markdown",
   "metadata": {},
   "source": [
    "### ckpt文件保存方法"
   ]
  },
  {
   "cell_type": "code",
   "execution_count": 3,
   "metadata": {
    "collapsed": false
   },
   "outputs": [
    {
     "name": "stdout",
     "output_type": "stream",
     "text": [
      "INFO:tensorflow:Restoring parameters from D:/python_code/model/Saved_model/model.ckpt\n",
      "[ 3.]\n",
      "INFO:tensorflow:Restoring parameters from D:/python_code/model/Saved_model/model.ckpt\n",
      "[ 3.]\n"
     ]
    }
   ],
   "source": [
    "import tensorflow as tf\n",
    "\n",
    "# 1. 保存计算两个变量和的模型\n",
    "v1 = tf.Variable(tf.constant(1.0, shape=[1]), name = \"v1\")\n",
    "v2 = tf.Variable(tf.constant(2.0, shape=[1]), name = \"v2\")\n",
    "result = v1 + v2\n",
    "\n",
    "init_op = tf.global_variables_initializer()\n",
    "saver = tf.train.Saver()\n",
    "\n",
    "with tf.Session() as sess:\n",
    "    sess.run(init_op)\n",
    "    # 需要在本python脚本文件下存在Saved_model目录\n",
    "    # 否则提示错误 ValueError: Parent directory of Saved_model/model.ckpt doesn't exist, can't save.\n",
    "    saver.save(sess, \"D:/python_code/model/Saved_model/model.ckpt\")\n",
    "\n",
    "# 2. 加载保存了两个变量和的模型\n",
    "with tf.Session() as sess:\n",
    "    saver.restore(sess, \"D:/python_code/model/Saved_model/model.ckpt\")\n",
    "    print(sess.run(result)) # [3.]\n",
    "\n",
    "# 3. 直接加载持久化的图\n",
    "saver = tf.train.import_meta_graph(\"D:/python_code/model/Saved_model/model.ckpt.meta\")\n",
    "with tf.Session() as sess:\n",
    "    saver.restore(sess, \"D:/python_code/model/Saved_model/model.ckpt\")\n",
    "    print(sess.run(tf.get_default_graph().get_tensor_by_name(\"add:0\"))) # [3.]\n",
    "\n",
    "# 4. 变量重命名\n",
    "v1 = tf.Variable(tf.constant(1.0, shape=[1]), name = \"other-v1\")\n",
    "v2 = tf.Variable(tf.constant(2.0, shape=[1]), name = \"other-v2\")\n",
    "saver = tf.train.Saver({\"v1\": v1, \"v2\": v2})"
   ]
  },
  {
   "cell_type": "markdown",
   "metadata": {},
   "source": [
    "#### 滑动平均类的保存"
   ]
  },
  {
   "cell_type": "code",
   "execution_count": null,
   "metadata": {
    "collapsed": true
   },
   "outputs": [],
   "source": [
    "import tensorflow as tf\n",
    "\n",
    "# 1. 使用滑动平均\n",
    "v = tf.Variable(0, dtype=tf.float32, name=\"v\")\n",
    "for variables in tf.global_variables():\n",
    "    print(variables.name)\n",
    "'''\n",
    "v:0\n",
    "'''\n",
    "ema = tf.train.ExponentialMovingAverage(0.99)\n",
    "maintain_averages_op = ema.apply(tf.global_variables())\n",
    "for variables in tf.global_variables():\n",
    "    print(variables.name)\n",
    "'''\n",
    "v:0\n",
    "v/ExponentialMovingAverage:0\n",
    "'''\n",
    "# 2. 保存滑动平均模型\n",
    "saver = tf.train.Saver()\n",
    "with tf.Session() as sess:\n",
    "    init_op = tf.global_variables_initializer()\n",
    "    sess.run(init_op)\n",
    "    sess.run(tf.assign(v, 10))\n",
    "    sess.run(maintain_averages_op)\n",
    "    # 保存的时候会将v:0  v/ExponentialMovingAverage:0这两个变量都存下来。\n",
    "    saver.save(sess, \"Saved_model/model2.ckpt\")\n",
    "    print(sess.run([v, ema.average(v)]))\n",
    "'''\n",
    "[10.0, 0.099999905]\n",
    "'''\n",
    "# 3. 加载滑动平均模型\n",
    "v = tf.Variable(0, dtype=tf.float32, name=\"v\")\n",
    "\n",
    "# 通过变量重命名将原来变量v的滑动平均值直接赋值给v。\n",
    "saver = tf.train.Saver({\"v/ExponentialMovingAverage\": v})\n",
    "with tf.Session() as sess:\n",
    "    saver.restore(sess, \"Saved_model/model2.ckpt\")\n",
    "    print(sess.run(v))\n",
    "'''\n",
    "0.0999999\n",
    "'''"
   ]
  },
  {
   "cell_type": "markdown",
   "metadata": {},
   "source": [
    "#### variables_to_restore函数"
   ]
  },
  {
   "cell_type": "code",
   "execution_count": null,
   "metadata": {
    "collapsed": true
   },
   "outputs": [],
   "source": [
    "import tensorflow as tf\n",
    "v = tf.Variable(0, dtype=tf.float32, name=\"v\")\n",
    "ema = tf.train.ExponentialMovingAverage(0.99)\n",
    "print(ema.variables_to_restore())\n",
    "'''\n",
    "{'v/ExponentialMovingAverage': <tensorflow.python.ops.variables.Variable object at 0x000001F0CFB260F0>}\n",
    "'''\n",
    "saver = tf.train.Saver({\"v/ExponentialMovingAverage\": v})\n",
    "with tf.Session() as sess:\n",
    "    saver.restore(sess, \"Saved_model/model2.ckpt\")\n",
    "    print(sess.run(v))\n",
    "'''\n",
    "0.0999999\n",
    "'''"
   ]
  },
  {
   "cell_type": "markdown",
   "metadata": {},
   "source": [
    "### pb文件保存"
   ]
  },
  {
   "cell_type": "code",
   "execution_count": null,
   "metadata": {
    "collapsed": true
   },
   "outputs": [],
   "source": [
    "import tensorflow as tf\n",
    "\n",
    "# 1. pb文件的保存方法\n",
    "import tensorflow as tf\n",
    "from tensorflow.python.framework import graph_util\n",
    "\n",
    "v1 = tf.Variable(tf.constant(1.0, shape=[1]), name = \"v1\")\n",
    "v2 = tf.Variable(tf.constant(2.0, shape=[1]), name = \"v2\")\n",
    "result = v1 + v2\n",
    "\n",
    "init_op = tf.global_variables_initializer()\n",
    "with tf.Session() as sess:\n",
    "    sess.run(init_op)\n",
    "    graph_def = tf.get_default_graph().as_graph_def()\n",
    "    output_graph_def = graph_util.convert_variables_to_constants(sess, graph_def, ['add'])\n",
    "    with tf.gfile.GFile(\"Saved_model/combined_model.pb\", \"wb\") as f:\n",
    "           f.write(output_graph_def.SerializeToString())\n",
    "\n",
    "# 2. 加载pb文件\n",
    "from tensorflow.python.platform import gfile\n",
    "\n",
    "with tf.Session() as sess:\n",
    "    model_filename = \"Saved_model/combined_model.pb\"\n",
    "\n",
    "    with gfile.FastGFile(model_filename, 'rb') as f:\n",
    "        graph_def = tf.GraphDef()\n",
    "        graph_def.ParseFromString(f.read())\n",
    "\n",
    "    result = tf.import_graph_def(graph_def, return_elements=[\"add:0\"])\n",
    "    print(sess.run(result)) # [array([ 3.], dtype=float32)]"
   ]
  },
  {
   "cell_type": "markdown",
   "metadata": {},
   "source": [
    "### 加载ckpt 文件"
   ]
  },
  {
   "cell_type": "code",
   "execution_count": null,
   "metadata": {
    "collapsed": true
   },
   "outputs": [],
   "source": [
    "def evaluate(mnist):\n",
    "    with tf.Graph().as_default() as g:\n",
    "        x = tf.placeholder(tf.float32, [None, mnist_inference.INPUT_NODE], name='x-input')\n",
    "        y_ = tf.placeholder(tf.float32, [None, mnist_inference.OUTPUT_NODE], name='y-input')\n",
    "        validate_feed = {x: mnist.validation.images, y_: mnist.validation.labels}\n",
    "\n",
    "        y = mnist_inference.inference(x, None)\n",
    "        correct_prediction = tf.equal(tf.argmax(y, 1), tf.argmax(y_, 1))\n",
    "        accuracy = tf.reduce_mean(tf.cast(correct_prediction, tf.float32))\n",
    "\n",
    "        variable_averages = tf.train.ExponentialMovingAverage(mnist_train.MOVING_AVERAGE_DECAY)\n",
    "        variables_to_restore = variable_averages.variables_to_restore()\n",
    "        saver = tf.train.Saver(variables_to_restore)\n",
    "\n",
    "        while True:\n",
    "            with tf.Session() as sess:\n",
    "                ckpt = tf.train.get_checkpoint_state(mnist_train.MODEL_SAVE_PATH)#mnist_train.MODEL_SAVE_PATH为训练函数中的模型保存地址\n",
    "                if ckpt and ckpt.model_checkpoint_path:\n",
    "                    saver.restore(sess, ckpt.model_checkpoint_path)\n",
    "                    global_step = ckpt.model_checkpoint_path.split('/')[-1].split('-')[-1]\n",
    "                    accuracy_score = sess.run(accuracy, feed_dict=validate_feed)\n",
    "                    print(\"After %s training step(s), validation accuracy = %g\" % (global_step, accuracy_score))\n",
    "                else:\n",
    "                    print('No checkpoint file found')\n",
    "                    return\n",
    "            time.sleep(EVAL_INTERVAL_SECS)\n"
   ]
  },
  {
   "cell_type": "markdown",
   "metadata": {},
   "source": [
    "### 迁移学习"
   ]
  },
  {
   "cell_type": "code",
   "execution_count": null,
   "metadata": {
    "collapsed": true
   },
   "outputs": [],
   "source": [
    "# 《TensorFlow实战Google深度学习框架》06 图像识别与卷积神经网络\n",
    "# win10 Tensorflow1.0.1 python3.5.3\n",
    "# CUDA v8.0 cudnn-8.0-windows10-x64-v5.1\n",
    "# filename:ts06.03.py # 迁移学习\n",
    "\n",
    "# 以下实验需要如下资源\n",
    "# 源码及资源位置：git clone https://github.com/caicloud/tensorflow-tutorial.git\n",
    "# 需要tensorflow-tutorial.git库中的flower_photos和inception_dec_2015\n",
    "# tensorflow-tutorial\\Deep_Learning_with_TensorFlow\\datasets\\flower_photos\n",
    "# tensorflow-tutorial\\Deep_Learning_with_TensorFlow\\datasets\\inception_dec_2015\n",
    "\n",
    "import glob\n",
    "import os.path\n",
    "import random\n",
    "import numpy as np\n",
    "import tensorflow as tf\n",
    "from tensorflow.python.platform import gfile\n",
    "\n",
    "# 1. 模型和样本路径的设置\n",
    "BOTTLENECK_TENSOR_SIZE = 2048\n",
    "BOTTLENECK_TENSOR_NAME = 'pool_3/_reshape:0'\n",
    "JPEG_DATA_TENSOR_NAME = 'DecodeJpeg/contents:0'\n",
    "\n",
    "\n",
    "MODEL_DIR = '../../datasets/inception_dec_2015'\n",
    "MODEL_FILE= 'tensorflow_inception_graph.pb'\n",
    "\n",
    "CACHE_DIR = '../../datasets/bottleneck'\n",
    "INPUT_DATA = '../../datasets/flower_photos'\n",
    "\n",
    "VALIDATION_PERCENTAGE = 10\n",
    "TEST_PERCENTAGE = 10\n",
    "\n",
    "# 2. 神经网络参数的设置\n",
    "LEARNING_RATE = 0.01\n",
    "STEPS = 4000\n",
    "BATCH = 100\n",
    "\n",
    "# 3. 把样本中所有的图片列表并按训练、验证、测试数据分开\n",
    "def create_image_lists(testing_percentage, validation_percentage):\n",
    "    result = {}\n",
    "    sub_dirs = [x[0] for x in os.walk(INPUT_DATA)]\n",
    "    is_root_dir = True\n",
    "    for sub_dir in sub_dirs:\n",
    "        if is_root_dir:\n",
    "            is_root_dir = False\n",
    "            continue\n",
    "\n",
    "        extensions = ['jpg', 'jpeg', 'JPG', 'JPEG']\n",
    "\n",
    "        file_list = []\n",
    "        dir_name = os.path.basename(sub_dir)\n",
    "        for extension in extensions:\n",
    "            file_glob = os.path.join(INPUT_DATA, dir_name, '*.' + extension)\n",
    "            file_list.extend(glob.glob(file_glob))\n",
    "        if not file_list: continue\n",
    "\n",
    "        label_name = dir_name.lower()\n",
    "\n",
    "        # 初始化\n",
    "        training_images = []\n",
    "        testing_images = []\n",
    "        validation_images = []\n",
    "        for file_name in file_list:\n",
    "            base_name = os.path.basename(file_name)\n",
    "\n",
    "            # 随机划分数据\n",
    "            chance = np.random.randint(100)\n",
    "            if chance < validation_percentage:\n",
    "                validation_images.append(base_name)\n",
    "            elif chance < (testing_percentage + validation_percentage):\n",
    "                testing_images.append(base_name)\n",
    "            else:\n",
    "                training_images.append(base_name)\n",
    "\n",
    "        result[label_name] = {\n",
    "            'dir': dir_name,\n",
    "            'training': training_images,\n",
    "            'testing': testing_images,\n",
    "            'validation': validation_images,\n",
    "        }\n",
    "    return result\n",
    "\n",
    "# 4. 定义函数通过类别名称、所属数据集和图片编号获取一张图片的地址\n",
    "def get_image_path(image_lists, image_dir, label_name, index, category):\n",
    "    label_lists = image_lists[label_name]\n",
    "    category_list = label_lists[category]\n",
    "    mod_index = index % len(category_list)\n",
    "    base_name = category_list[mod_index]\n",
    "    sub_dir = label_lists['dir']\n",
    "    full_path = os.path.join(image_dir, sub_dir, base_name)\n",
    "    return full_path\n",
    "\n",
    "# 5. 定义函数获取Inception-v3模型处理之后的特征向量的文件地址\n",
    "def get_bottleneck_path(image_lists, label_name, index, category):\n",
    "    return get_image_path(image_lists, CACHE_DIR, label_name, index, category) + '.txt'\n",
    "\n",
    "# 6. 定义函数使用加载的训练好的Inception-v3模型处理一张图片，得到这个图片的特征向量\n",
    "def run_bottleneck_on_image(sess, image_data, image_data_tensor, bottleneck_tensor):\n",
    "\n",
    "    bottleneck_values = sess.run(bottleneck_tensor, {image_data_tensor: image_data})\n",
    "\n",
    "    bottleneck_values = np.squeeze(bottleneck_values)\n",
    "    return bottleneck_values\n",
    "\n",
    "# 7. 定义函数会先试图寻找已经计算且保存下来的特征向量，如果找不到则先计算这个特征向量，然后保存到文件\n",
    "def get_or_create_bottleneck(sess, image_lists, label_name, index, category, jpeg_data_tensor, bottleneck_tensor):\n",
    "    label_lists = image_lists[label_name]\n",
    "    sub_dir = label_lists['dir']\n",
    "    sub_dir_path = os.path.join(CACHE_DIR, sub_dir)\n",
    "    if not os.path.exists(sub_dir_path): os.makedirs(sub_dir_path)\n",
    "    bottleneck_path = get_bottleneck_path(image_lists, label_name, index, category)\n",
    "    if not os.path.exists(bottleneck_path):\n",
    "\n",
    "        image_path = get_image_path(image_lists, INPUT_DATA, label_name, index, category)\n",
    "\n",
    "        image_data = gfile.FastGFile(image_path, 'rb').read()\n",
    "\n",
    "        bottleneck_values = run_bottleneck_on_image(sess, image_data, jpeg_data_tensor, bottleneck_tensor)\n",
    "\n",
    "        bottleneck_string = ','.join(str(x) for x in bottleneck_values)\n",
    "        with open(bottleneck_path, 'w') as bottleneck_file:\n",
    "            bottleneck_file.write(bottleneck_string)\n",
    "    else:\n",
    "\n",
    "        with open(bottleneck_path, 'r') as bottleneck_file:\n",
    "            bottleneck_string = bottleneck_file.read()\n",
    "        bottleneck_values = [float(x) for x in bottleneck_string.split(',')]\n",
    "\n",
    "    return bottleneck_values\n",
    "\n",
    "# 8. 这个函数随机获取一个batch的图片作为训练数据\n",
    "def get_random_cached_bottlenecks(sess, n_classes, image_lists, how_many, category, jpeg_data_tensor, bottleneck_tensor):\n",
    "    bottlenecks = []\n",
    "    ground_truths = []\n",
    "    for _ in range(how_many):\n",
    "        label_index = random.randrange(n_classes)\n",
    "        label_name = list(image_lists.keys())[label_index]\n",
    "        image_index = random.randrange(65536)\n",
    "        bottleneck = get_or_create_bottleneck(\n",
    "            sess, image_lists, label_name, image_index, category, jpeg_data_tensor, bottleneck_tensor)\n",
    "        ground_truth = np.zeros(n_classes, dtype=np.float32)\n",
    "        ground_truth[label_index] = 1.0\n",
    "        bottlenecks.append(bottleneck)\n",
    "        ground_truths.append(ground_truth)\n",
    "\n",
    "    return bottlenecks, ground_truths\n",
    "\n",
    "# 9. 这个函数获取全部的测试数据，并计算正确率\n",
    "def get_test_bottlenecks(sess, image_lists, n_classes, jpeg_data_tensor, bottleneck_tensor):\n",
    "    bottlenecks = []\n",
    "    ground_truths = []\n",
    "    label_name_list = list(image_lists.keys())\n",
    "    for label_index, label_name in enumerate(label_name_list):\n",
    "        category = 'testing'\n",
    "        for index, unused_base_name in enumerate(image_lists[label_name][category]):\n",
    "            bottleneck = get_or_create_bottleneck(sess, image_lists, label_name, index, category,jpeg_data_tensor, bottleneck_tensor)\n",
    "            ground_truth = np.zeros(n_classes, dtype=np.float32)\n",
    "            ground_truth[label_index] = 1.0\n",
    "            bottlenecks.append(bottleneck)\n",
    "            ground_truths.append(ground_truth)\n",
    "    return bottlenecks, ground_truths\n",
    "\n",
    "# 10. 定义主函数\n",
    "def main():\n",
    "    image_lists = create_image_lists(TEST_PERCENTAGE, VALIDATION_PERCENTAGE)\n",
    "    n_classes = len(image_lists.keys())\n",
    "\n",
    "    # 读取已经训练好的Inception-v3模型。\n",
    "    with gfile.FastGFile(os.path.join(MODEL_DIR, MODEL_FILE), 'rb') as f:\n",
    "        graph_def = tf.GraphDef()\n",
    "        graph_def.ParseFromString(f.read())\n",
    "    bottleneck_tensor, jpeg_data_tensor = tf.import_graph_def(\n",
    "        graph_def, return_elements=[BOTTLENECK_TENSOR_NAME, JPEG_DATA_TENSOR_NAME])\n",
    "\n",
    "    # 定义新的神经网络输入\n",
    "    bottleneck_input = tf.placeholder(tf.float32, [None, BOTTLENECK_TENSOR_SIZE], name='BottleneckInputPlaceholder')\n",
    "    ground_truth_input = tf.placeholder(tf.float32, [None, n_classes], name='GroundTruthInput')\n",
    "\n",
    "    # 定义一层全链接层\n",
    "    with tf.name_scope('final_training_ops'):\n",
    "        weights = tf.Variable(tf.truncated_normal([BOTTLENECK_TENSOR_SIZE, n_classes], stddev=0.001))\n",
    "        biases = tf.Variable(tf.zeros([n_classes]))\n",
    "        logits = tf.matmul(bottleneck_input, weights) + biases\n",
    "        final_tensor = tf.nn.softmax(logits)\n",
    "\n",
    "    # 定义交叉熵损失函数。\n",
    "    cross_entropy = tf.nn.softmax_cross_entropy_with_logits(logits=logits, labels=ground_truth_input)\n",
    "    cross_entropy_mean = tf.reduce_mean(cross_entropy)\n",
    "    train_step = tf.train.GradientDescentOptimizer(LEARNING_RATE).minimize(cross_entropy_mean)\n",
    "\n",
    "    # 计算正确率。\n",
    "    with tf.name_scope('evaluation'):\n",
    "        correct_prediction = tf.equal(tf.argmax(final_tensor, 1), tf.argmax(ground_truth_input, 1))\n",
    "        evaluation_step = tf.reduce_mean(tf.cast(correct_prediction, tf.float32))\n",
    "\n",
    "    with tf.Session() as sess:\n",
    "        init = tf.global_variables_initializer()\n",
    "        sess.run(init)\n",
    "        # 训练过程。\n",
    "        for i in range(STEPS):\n",
    "\n",
    "            train_bottlenecks, train_ground_truth = get_random_cached_bottlenecks(\n",
    "                sess, n_classes, image_lists, BATCH, 'training', jpeg_data_tensor, bottleneck_tensor)\n",
    "            sess.run(train_step,\n",
    "                     feed_dict={bottleneck_input: train_bottlenecks, ground_truth_input: train_ground_truth})\n",
    "\n",
    "            if i % 100 == 0 or i + 1 == STEPS:\n",
    "                validation_bottlenecks, validation_ground_truth = get_random_cached_bottlenecks(\n",
    "                    sess, n_classes, image_lists, BATCH, 'validation', jpeg_data_tensor, bottleneck_tensor)\n",
    "                validation_accuracy = sess.run(evaluation_step, feed_dict={\n",
    "                    bottleneck_input: validation_bottlenecks, ground_truth_input: validation_ground_truth})\n",
    "                print('Step %d: Validation accuracy on random sampled %d examples = %.1f%%' %\n",
    "                      (i, BATCH, validation_accuracy * 100))\n",
    "\n",
    "        # 在最后的测试数据上测试正确率。\n",
    "        test_bottlenecks, test_ground_truth = get_test_bottlenecks(\n",
    "            sess, image_lists, n_classes, jpeg_data_tensor, bottleneck_tensor)\n",
    "        test_accuracy = sess.run(evaluation_step, feed_dict={\n",
    "            bottleneck_input: test_bottlenecks, ground_truth_input: test_ground_truth})\n",
    "        print('Final test accuracy = %.1f%%' % (test_accuracy * 100))\n",
    "\n",
    "if __name__ == '__main__':\n",
    "    main()\n"
   ]
  },
  {
   "cell_type": "markdown",
   "metadata": {},
   "source": [
    "\n"
   ]
  },
  {
   "cell_type": "markdown",
   "metadata": {},
   "source": [
    "### TFRecord样例程序"
   ]
  },
  {
   "cell_type": "code",
   "execution_count": null,
   "metadata": {
    "collapsed": true
   },
   "outputs": [],
   "source": [
    "import tensorflow as tf\n",
    "from tensorflow.examples.tutorials.mnist import input_data\n",
    "import numpy as np\n",
    "\n",
    "# 1. 将输入转化成TFRecord格式并保存\n",
    "# 定义函数转化变量类型。\n",
    "def _int64_feature(value):\n",
    "    return tf.train.Feature(int64_list=tf.train.Int64List(value=[value]))\n",
    "\n",
    "def _bytes_feature(value):\n",
    "    return tf.train.Feature(bytes_list=tf.train.BytesList(value=[value]))\n",
    "\n",
    "# 读取mnist数据。\n",
    "mnist = input_data.read_data_sets(\"../../datasets/MNIST_data\",dtype=tf.uint8, one_hot=True)\n",
    "images = mnist.train.images\n",
    "labels = mnist.train.labels\n",
    "pixels = images.shape[1]\n",
    "num_examples = mnist.train.num_examples\n",
    "\n",
    "# 输出TFRecord文件的地址。\n",
    "filename = \"Records/output.tfrecords\" # 需要存在Records目录\n",
    "writer = tf.python_io.TFRecordWriter(filename)\n",
    "for index in range(num_examples):\n",
    "    image_raw = images[index].tostring()\n",
    "\n",
    "    example = tf.train.Example(features=tf.train.Features(feature={\n",
    "        'pixels': _int64_feature(pixels),\n",
    "        'label': _int64_feature(np.argmax(labels[index])),\n",
    "        'image_raw': _bytes_feature(image_raw)\n",
    "    }))\n",
    "    writer.write(example.SerializeToString())\n",
    "writer.close()\n",
    "print(\"TFRecord文件已保存。\")\n",
    "\n",
    "# 2. 读取TFRecord文件\n",
    "# 读取文件。\n",
    "reader = tf.TFRecordReader()\n",
    "filename_queue = tf.train.string_input_producer([\"Records/output.tfrecords\"])\n",
    "_,serialized_example = reader.read(filename_queue)\n",
    "\n",
    "# 解析读取的样例。\n",
    "features = tf.parse_single_example(\n",
    "    serialized_example,\n",
    "    features={\n",
    "        'image_raw':tf.FixedLenFeature([],tf.string),\n",
    "        'pixels':tf.FixedLenFeature([],tf.int64),\n",
    "        'label':tf.FixedLenFeature([],tf.int64)\n",
    "    })\n",
    "\n",
    "images = tf.decode_raw(features['image_raw'],tf.uint8)\n",
    "labels = tf.cast(features['label'],tf.int32)\n",
    "pixels = tf.cast(features['pixels'],tf.int32)\n",
    "\n",
    "sess = tf.Session()\n",
    "\n",
    "# 启动多线程处理输入数据。\n",
    "coord = tf.train.Coordinator()\n",
    "threads = tf.train.start_queue_runners(sess=sess,coord=coord)\n",
    "\n",
    "for i in range(10):\n",
    "    image, label, pixel = sess.run([images, labels, pixels])"
   ]
  },
  {
   "cell_type": "markdown",
   "metadata": {},
   "source": [
    "### TensorFlow图像处理函数"
   ]
  },
  {
   "cell_type": "code",
   "execution_count": 2,
   "metadata": {
    "collapsed": false
   },
   "outputs": [
    {
     "data": {
      "image/png": "[encoded data removed]",
      "text/plain": [
       "<matplotlib.figure.Figure at 0x21bcc2fb588>"
      ]
     },
     "metadata": {},
     "output_type": "display_data"
    }
   ],
   "source": [
    "import matplotlib.pyplot as plt\n",
    "import tensorflow as tf\n",
    "import numpy as np\n",
    "%matplotlib inline\n",
    "\n",
    "image_raw_data = tf.gfile.FastGFile('D:/python_code/image/image2.jpg', 'rb').read()\n",
    "with tf.Session() as sess:  \n",
    "    img_data_jpg = tf.image.decode_jpeg(image_raw_data) #图像解码  \n",
    "    img_data_jpg = tf.image.convert_image_dtype(img_data_jpg, dtype=tf.uint8) #改变图像数据的类型  \n",
    "    plt.imshow(img_data_jpg.eval())\n",
    "    plt.show()"
   ]
  },
  {
   "cell_type": "code",
   "execution_count": 4,
   "metadata": {
    "collapsed": false
   },
   "outputs": [
    {
     "name": "stdout",
     "output_type": "stream",
     "text": [
      "[[[169 154 133]\n",
      "  [180 165 144]\n",
      "  [154 139 118]\n",
      "  ..., \n",
      "  [169 152 142]\n",
      "  [168 151 141]\n",
      "  [167 150 140]]\n",
      "\n",
      " [[169 154 133]\n",
      "  [180 165 144]\n",
      "  [154 139 118]\n",
      "  ..., \n",
      "  [169 152 142]\n",
      "  [168 151 141]\n",
      "  [167 150 140]]\n",
      "\n",
      " [[169 154 133]\n",
      "  [181 166 145]\n",
      "  [155 140 119]\n",
      "  ..., \n",
      "  [170 153 143]\n",
      "  [168 151 141]\n",
      "  [167 150 140]]\n",
      "\n",
      " ..., \n",
      " [[ 93  72  69]\n",
      "  [124 103 100]\n",
      "  [169 145 143]\n",
      "  ..., \n",
      "  [ 34  27  35]\n",
      "  [ 34  28  38]\n",
      "  [ 30  27  36]]\n",
      "\n",
      " [[ 98  77  74]\n",
      "  [120  99  96]\n",
      "  [155 131 129]\n",
      "  ..., \n",
      "  [ 32  25  33]\n",
      "  [ 34  28  38]\n",
      "  [ 30  27  36]]\n",
      "\n",
      " [[ 86  65  62]\n",
      "  [ 94  73  70]\n",
      "  [120  96  94]\n",
      "  ..., \n",
      "  [ 32  25  33]\n",
      "  [ 35  29  39]\n",
      "  [ 31  28  37]]]\n",
      "(1797, 2673, 3)\n"
     ]
    },
    {
     "data": {
      "image/png": "[encoded data removed]",
      "text/plain": [
       "<matplotlib.figure.Figure at 0x1ddd25679b0>"
      ]
     },
     "metadata": {},
     "output_type": "display_data"
    },
    {
     "data": {
      "image/png": "[encoded data removed]",
      "text/plain": [
       "<matplotlib.figure.Figure at 0x1ddd2c2f828>"
      ]
     },
     "metadata": {},
     "output_type": "display_data"
    },
    {
     "ename": "InvalidArgumentError",
     "evalue": "Expected begin[1] in [0, 118], but got 398\n\t [[Node: Slice_6 = Slice[Index=DT_INT32, T=DT_UINT8, _device=\"/job:localhost/replica:0/task:0/cpu:0\"](control_dependency_25, stack_18, stack_19)]]\n\nCaused by op 'Slice_6', defined at:\n  File \"D:\\anaconda1\\lib\\runpy.py\", line 170, in _run_module_as_main\n    \"__main__\", mod_spec)\n  File \"D:\\anaconda1\\lib\\runpy.py\", line 85, in _run_code\n    exec(code, run_globals)\n  File \"D:\\anaconda1\\lib\\site-packages\\ipykernel\\__main__.py\", line 3, in <module>\n    app.launch_new_instance()\n  File \"D:\\anaconda1\\lib\\site-packages\\traitlets\\config\\application.py\", line 596, in launch_instance\n    app.start()\n  File \"D:\\anaconda1\\lib\\site-packages\\ipykernel\\kernelapp.py\", line 442, in start\n    ioloop.IOLoop.instance().start()\n  File \"D:\\anaconda1\\lib\\site-packages\\zmq\\eventloop\\ioloop.py\", line 162, in start\n    super(ZMQIOLoop, self).start()\n  File \"D:\\anaconda1\\lib\\site-packages\\tornado\\ioloop.py\", line 883, in start\n    handler_func(fd_obj, events)\n  File \"D:\\anaconda1\\lib\\site-packages\\tornado\\stack_context.py\", line 275, in null_wrapper\n    return fn(*args, **kwargs)\n  File \"D:\\anaconda1\\lib\\site-packages\\zmq\\eventloop\\zmqstream.py\", line 440, in _handle_events\n    self._handle_recv()\n  File \"D:\\anaconda1\\lib\\site-packages\\zmq\\eventloop\\zmqstream.py\", line 472, in _handle_recv\n    self._run_callback(callback, msg)\n  File \"D:\\anaconda1\\lib\\site-packages\\zmq\\eventloop\\zmqstream.py\", line 414, in _run_callback\n    callback(*args, **kwargs)\n  File \"D:\\anaconda1\\lib\\site-packages\\tornado\\stack_context.py\", line 275, in null_wrapper\n    return fn(*args, **kwargs)\n  File \"D:\\anaconda1\\lib\\site-packages\\ipykernel\\kernelbase.py\", line 276, in dispatcher\n    return self.dispatch_shell(stream, msg)\n  File \"D:\\anaconda1\\lib\\site-packages\\ipykernel\\kernelbase.py\", line 228, in dispatch_shell\n    handler(stream, idents, msg)\n  File \"D:\\anaconda1\\lib\\site-packages\\ipykernel\\kernelbase.py\", line 391, in execute_request\n    user_expressions, allow_stdin)\n  File \"D:\\anaconda1\\lib\\site-packages\\ipykernel\\ipkernel.py\", line 199, in do_execute\n    shell.run_cell(code, store_history=store_history, silent=silent)\n  File \"D:\\anaconda1\\lib\\site-packages\\IPython\\core\\interactiveshell.py\", line 2723, in run_cell\n    interactivity=interactivity, compiler=compiler, result=result)\n  File \"D:\\anaconda1\\lib\\site-packages\\IPython\\core\\interactiveshell.py\", line 2825, in run_ast_nodes\n    if self.run_code(code, result):\n  File \"D:\\anaconda1\\lib\\site-packages\\IPython\\core\\interactiveshell.py\", line 2885, in run_code\n    exec(code_obj, self.user_global_ns, self.user_ns)\n  File \"<ipython-input-4-bf8a5efa7ac3>\", line 36, in <module>\n    croped = tf.image.resize_image_with_crop_or_pad(img_data, 1000, 1000)\n  File \"D:\\anaconda1\\lib\\site-packages\\tensorflow\\python\\ops\\image_ops_impl.py\", line 650, in resize_image_with_crop_or_pad\n    min_(target_width, width))\n  File \"D:\\anaconda1\\lib\\site-packages\\tensorflow\\python\\ops\\image_ops_impl.py\", line 551, in crop_to_bounding_box\n    array_ops.stack([-1, target_height, target_width, -1]))\n  File \"D:\\anaconda1\\lib\\site-packages\\tensorflow\\python\\ops\\array_ops.py\", line 545, in slice\n    return gen_array_ops._slice(input_, begin, size, name=name)\n  File \"D:\\anaconda1\\lib\\site-packages\\tensorflow\\python\\ops\\gen_array_ops.py\", line 2933, in _slice\n    name=name)\n  File \"D:\\anaconda1\\lib\\site-packages\\tensorflow\\python\\framework\\op_def_library.py\", line 768, in apply_op\n    op_def=op_def)\n  File \"D:\\anaconda1\\lib\\site-packages\\tensorflow\\python\\framework\\ops.py\", line 2336, in create_op\n    original_op=self._default_original_op, op_def=op_def)\n  File \"D:\\anaconda1\\lib\\site-packages\\tensorflow\\python\\framework\\ops.py\", line 1228, in __init__\n    self._traceback = _extract_stack()\n\nInvalidArgumentError (see above for traceback): Expected begin[1] in [0, 118], but got 398\n\t [[Node: Slice_6 = Slice[Index=DT_INT32, T=DT_UINT8, _device=\"/job:localhost/replica:0/task:0/cpu:0\"](control_dependency_25, stack_18, stack_19)]]\n",
     "output_type": "error",
     "traceback": [
      "\u001b[1;31m---------------------------------------------------------------------------\u001b[0m",
      "\u001b[1;31mInvalidArgumentError\u001b[0m                      Traceback (most recent call last)",
      "\u001b[1;32mD:\\anaconda1\\lib\\site-packages\\tensorflow\\python\\client\\session.py\u001b[0m in \u001b[0;36m_do_call\u001b[1;34m(self, fn, *args)\u001b[0m\n\u001b[0;32m   1038\u001b[0m     \u001b[1;32mtry\u001b[0m\u001b[1;33m:\u001b[0m\u001b[1;33m\u001b[0m\u001b[0m\n\u001b[1;32m-> 1039\u001b[1;33m       \u001b[1;32mreturn\u001b[0m \u001b[0mfn\u001b[0m\u001b[1;33m(\u001b[0m\u001b[1;33m*\u001b[0m\u001b[0margs\u001b[0m\u001b[1;33m)\u001b[0m\u001b[1;33m\u001b[0m\u001b[0m\n\u001b[0m\u001b[0;32m   1040\u001b[0m     \u001b[1;32mexcept\u001b[0m \u001b[0merrors\u001b[0m\u001b[1;33m.\u001b[0m\u001b[0mOpError\u001b[0m \u001b[1;32mas\u001b[0m \u001b[0me\u001b[0m\u001b[1;33m:\u001b[0m\u001b[1;33m\u001b[0m\u001b[0m\n",
      "\u001b[1;32mD:\\anaconda1\\lib\\site-packages\\tensorflow\\python\\client\\session.py\u001b[0m in \u001b[0;36m_run_fn\u001b[1;34m(session, feed_dict, fetch_list, target_list, options, run_metadata)\u001b[0m\n\u001b[0;32m   1020\u001b[0m                                  \u001b[0mfeed_dict\u001b[0m\u001b[1;33m,\u001b[0m \u001b[0mfetch_list\u001b[0m\u001b[1;33m,\u001b[0m \u001b[0mtarget_list\u001b[0m\u001b[1;33m,\u001b[0m\u001b[1;33m\u001b[0m\u001b[0m\n\u001b[1;32m-> 1021\u001b[1;33m                                  status, run_metadata)\n\u001b[0m\u001b[0;32m   1022\u001b[0m \u001b[1;33m\u001b[0m\u001b[0m\n",
      "\u001b[1;32mD:\\anaconda1\\lib\\contextlib.py\u001b[0m in \u001b[0;36m__exit__\u001b[1;34m(self, type, value, traceback)\u001b[0m\n\u001b[0;32m     65\u001b[0m             \u001b[1;32mtry\u001b[0m\u001b[1;33m:\u001b[0m\u001b[1;33m\u001b[0m\u001b[0m\n\u001b[1;32m---> 66\u001b[1;33m                 \u001b[0mnext\u001b[0m\u001b[1;33m(\u001b[0m\u001b[0mself\u001b[0m\u001b[1;33m.\u001b[0m\u001b[0mgen\u001b[0m\u001b[1;33m)\u001b[0m\u001b[1;33m\u001b[0m\u001b[0m\n\u001b[0m\u001b[0;32m     67\u001b[0m             \u001b[1;32mexcept\u001b[0m \u001b[0mStopIteration\u001b[0m\u001b[1;33m:\u001b[0m\u001b[1;33m\u001b[0m\u001b[0m\n",
      "\u001b[1;32mD:\\anaconda1\\lib\\site-packages\\tensorflow\\python\\framework\\errors_impl.py\u001b[0m in \u001b[0;36mraise_exception_on_not_ok_status\u001b[1;34m()\u001b[0m\n\u001b[0;32m    465\u001b[0m           \u001b[0mcompat\u001b[0m\u001b[1;33m.\u001b[0m\u001b[0mas_text\u001b[0m\u001b[1;33m(\u001b[0m\u001b[0mpywrap_tensorflow\u001b[0m\u001b[1;33m.\u001b[0m\u001b[0mTF_Message\u001b[0m\u001b[1;33m(\u001b[0m\u001b[0mstatus\u001b[0m\u001b[1;33m)\u001b[0m\u001b[1;33m)\u001b[0m\u001b[1;33m,\u001b[0m\u001b[1;33m\u001b[0m\u001b[0m\n\u001b[1;32m--> 466\u001b[1;33m           pywrap_tensorflow.TF_GetCode(status))\n\u001b[0m\u001b[0;32m    467\u001b[0m   \u001b[1;32mfinally\u001b[0m\u001b[1;33m:\u001b[0m\u001b[1;33m\u001b[0m\u001b[0m\n",
      "\u001b[1;31mInvalidArgumentError\u001b[0m: Expected begin[1] in [0, 118], but got 398\n\t [[Node: Slice_6 = Slice[Index=DT_INT32, T=DT_UINT8, _device=\"/job:localhost/replica:0/task:0/cpu:0\"](control_dependency_25, stack_18, stack_19)]]",
      "\nDuring handling of the above exception, another exception occurred:\n",
      "\u001b[1;31mInvalidArgumentError\u001b[0m                      Traceback (most recent call last)",
      "\u001b[1;32m<ipython-input-4-bf8a5efa7ac3>\u001b[0m in \u001b[0;36m<module>\u001b[1;34m()\u001b[0m\n\u001b[0;32m     36\u001b[0m     \u001b[0mcroped\u001b[0m \u001b[1;33m=\u001b[0m \u001b[0mtf\u001b[0m\u001b[1;33m.\u001b[0m\u001b[0mimage\u001b[0m\u001b[1;33m.\u001b[0m\u001b[0mresize_image_with_crop_or_pad\u001b[0m\u001b[1;33m(\u001b[0m\u001b[0mimg_data\u001b[0m\u001b[1;33m,\u001b[0m \u001b[1;36m1000\u001b[0m\u001b[1;33m,\u001b[0m \u001b[1;36m1000\u001b[0m\u001b[1;33m)\u001b[0m\u001b[1;33m\u001b[0m\u001b[0m\n\u001b[0;32m     37\u001b[0m     \u001b[0mpadded\u001b[0m \u001b[1;33m=\u001b[0m \u001b[0mtf\u001b[0m\u001b[1;33m.\u001b[0m\u001b[0mimage\u001b[0m\u001b[1;33m.\u001b[0m\u001b[0mresize_image_with_crop_or_pad\u001b[0m\u001b[1;33m(\u001b[0m\u001b[0mimg_data\u001b[0m\u001b[1;33m,\u001b[0m \u001b[1;36m3000\u001b[0m\u001b[1;33m,\u001b[0m \u001b[1;36m3000\u001b[0m\u001b[1;33m)\u001b[0m\u001b[1;33m\u001b[0m\u001b[0m\n\u001b[1;32m---> 38\u001b[1;33m     \u001b[0mplt\u001b[0m\u001b[1;33m.\u001b[0m\u001b[0mimshow\u001b[0m\u001b[1;33m(\u001b[0m\u001b[0mcroped\u001b[0m\u001b[1;33m.\u001b[0m\u001b[0meval\u001b[0m\u001b[1;33m(\u001b[0m\u001b[1;33m)\u001b[0m\u001b[1;33m)\u001b[0m\u001b[1;33m\u001b[0m\u001b[0m\n\u001b[0m\u001b[0;32m     39\u001b[0m     \u001b[0mplt\u001b[0m\u001b[1;33m.\u001b[0m\u001b[0mshow\u001b[0m\u001b[1;33m(\u001b[0m\u001b[1;33m)\u001b[0m\u001b[1;33m\u001b[0m\u001b[0m\n\u001b[0;32m     40\u001b[0m     \u001b[0mplt\u001b[0m\u001b[1;33m.\u001b[0m\u001b[0mimshow\u001b[0m\u001b[1;33m(\u001b[0m\u001b[0mpadded\u001b[0m\u001b[1;33m.\u001b[0m\u001b[0meval\u001b[0m\u001b[1;33m(\u001b[0m\u001b[1;33m)\u001b[0m\u001b[1;33m)\u001b[0m\u001b[1;33m\u001b[0m\u001b[0m\n",
      "\u001b[1;32mD:\\anaconda1\\lib\\site-packages\\tensorflow\\python\\framework\\ops.py\u001b[0m in \u001b[0;36meval\u001b[1;34m(self, feed_dict, session)\u001b[0m\n\u001b[0;32m    567\u001b[0m \u001b[1;33m\u001b[0m\u001b[0m\n\u001b[0;32m    568\u001b[0m     \"\"\"\n\u001b[1;32m--> 569\u001b[1;33m     \u001b[1;32mreturn\u001b[0m \u001b[0m_eval_using_default_session\u001b[0m\u001b[1;33m(\u001b[0m\u001b[0mself\u001b[0m\u001b[1;33m,\u001b[0m \u001b[0mfeed_dict\u001b[0m\u001b[1;33m,\u001b[0m \u001b[0mself\u001b[0m\u001b[1;33m.\u001b[0m\u001b[0mgraph\u001b[0m\u001b[1;33m,\u001b[0m \u001b[0msession\u001b[0m\u001b[1;33m)\u001b[0m\u001b[1;33m\u001b[0m\u001b[0m\n\u001b[0m\u001b[0;32m    570\u001b[0m \u001b[1;33m\u001b[0m\u001b[0m\n\u001b[0;32m    571\u001b[0m \u001b[1;33m\u001b[0m\u001b[0m\n",
      "\u001b[1;32mD:\\anaconda1\\lib\\site-packages\\tensorflow\\python\\framework\\ops.py\u001b[0m in \u001b[0;36m_eval_using_default_session\u001b[1;34m(tensors, feed_dict, graph, session)\u001b[0m\n\u001b[0;32m   3739\u001b[0m                        \u001b[1;34m\"the tensor's graph is different from the session's \"\u001b[0m\u001b[1;33m\u001b[0m\u001b[0m\n\u001b[0;32m   3740\u001b[0m                        \"graph.\")\n\u001b[1;32m-> 3741\u001b[1;33m   \u001b[1;32mreturn\u001b[0m \u001b[0msession\u001b[0m\u001b[1;33m.\u001b[0m\u001b[0mrun\u001b[0m\u001b[1;33m(\u001b[0m\u001b[0mtensors\u001b[0m\u001b[1;33m,\u001b[0m \u001b[0mfeed_dict\u001b[0m\u001b[1;33m)\u001b[0m\u001b[1;33m\u001b[0m\u001b[0m\n\u001b[0m\u001b[0;32m   3742\u001b[0m \u001b[1;33m\u001b[0m\u001b[0m\n\u001b[0;32m   3743\u001b[0m \u001b[1;33m\u001b[0m\u001b[0m\n",
      "\u001b[1;32mD:\\anaconda1\\lib\\site-packages\\tensorflow\\python\\client\\session.py\u001b[0m in \u001b[0;36mrun\u001b[1;34m(self, fetches, feed_dict, options, run_metadata)\u001b[0m\n\u001b[0;32m    776\u001b[0m     \u001b[1;32mtry\u001b[0m\u001b[1;33m:\u001b[0m\u001b[1;33m\u001b[0m\u001b[0m\n\u001b[0;32m    777\u001b[0m       result = self._run(None, fetches, feed_dict, options_ptr,\n\u001b[1;32m--> 778\u001b[1;33m                          run_metadata_ptr)\n\u001b[0m\u001b[0;32m    779\u001b[0m       \u001b[1;32mif\u001b[0m \u001b[0mrun_metadata\u001b[0m\u001b[1;33m:\u001b[0m\u001b[1;33m\u001b[0m\u001b[0m\n\u001b[0;32m    780\u001b[0m         \u001b[0mproto_data\u001b[0m \u001b[1;33m=\u001b[0m \u001b[0mtf_session\u001b[0m\u001b[1;33m.\u001b[0m\u001b[0mTF_GetBuffer\u001b[0m\u001b[1;33m(\u001b[0m\u001b[0mrun_metadata_ptr\u001b[0m\u001b[1;33m)\u001b[0m\u001b[1;33m\u001b[0m\u001b[0m\n",
      "\u001b[1;32mD:\\anaconda1\\lib\\site-packages\\tensorflow\\python\\client\\session.py\u001b[0m in \u001b[0;36m_run\u001b[1;34m(self, handle, fetches, feed_dict, options, run_metadata)\u001b[0m\n\u001b[0;32m    980\u001b[0m     \u001b[1;32mif\u001b[0m \u001b[0mfinal_fetches\u001b[0m \u001b[1;32mor\u001b[0m \u001b[0mfinal_targets\u001b[0m\u001b[1;33m:\u001b[0m\u001b[1;33m\u001b[0m\u001b[0m\n\u001b[0;32m    981\u001b[0m       results = self._do_run(handle, final_targets, final_fetches,\n\u001b[1;32m--> 982\u001b[1;33m                              feed_dict_string, options, run_metadata)\n\u001b[0m\u001b[0;32m    983\u001b[0m     \u001b[1;32melse\u001b[0m\u001b[1;33m:\u001b[0m\u001b[1;33m\u001b[0m\u001b[0m\n\u001b[0;32m    984\u001b[0m       \u001b[0mresults\u001b[0m \u001b[1;33m=\u001b[0m \u001b[1;33m[\u001b[0m\u001b[1;33m]\u001b[0m\u001b[1;33m\u001b[0m\u001b[0m\n",
      "\u001b[1;32mD:\\anaconda1\\lib\\site-packages\\tensorflow\\python\\client\\session.py\u001b[0m in \u001b[0;36m_do_run\u001b[1;34m(self, handle, target_list, fetch_list, feed_dict, options, run_metadata)\u001b[0m\n\u001b[0;32m   1030\u001b[0m     \u001b[1;32mif\u001b[0m \u001b[0mhandle\u001b[0m \u001b[1;32mis\u001b[0m \u001b[1;32mNone\u001b[0m\u001b[1;33m:\u001b[0m\u001b[1;33m\u001b[0m\u001b[0m\n\u001b[0;32m   1031\u001b[0m       return self._do_call(_run_fn, self._session, feed_dict, fetch_list,\n\u001b[1;32m-> 1032\u001b[1;33m                            target_list, options, run_metadata)\n\u001b[0m\u001b[0;32m   1033\u001b[0m     \u001b[1;32melse\u001b[0m\u001b[1;33m:\u001b[0m\u001b[1;33m\u001b[0m\u001b[0m\n\u001b[0;32m   1034\u001b[0m       return self._do_call(_prun_fn, self._session, handle, feed_dict,\n",
      "\u001b[1;32mD:\\anaconda1\\lib\\site-packages\\tensorflow\\python\\client\\session.py\u001b[0m in \u001b[0;36m_do_call\u001b[1;34m(self, fn, *args)\u001b[0m\n\u001b[0;32m   1050\u001b[0m         \u001b[1;32mexcept\u001b[0m \u001b[0mKeyError\u001b[0m\u001b[1;33m:\u001b[0m\u001b[1;33m\u001b[0m\u001b[0m\n\u001b[0;32m   1051\u001b[0m           \u001b[1;32mpass\u001b[0m\u001b[1;33m\u001b[0m\u001b[0m\n\u001b[1;32m-> 1052\u001b[1;33m       \u001b[1;32mraise\u001b[0m \u001b[0mtype\u001b[0m\u001b[1;33m(\u001b[0m\u001b[0me\u001b[0m\u001b[1;33m)\u001b[0m\u001b[1;33m(\u001b[0m\u001b[0mnode_def\u001b[0m\u001b[1;33m,\u001b[0m \u001b[0mop\u001b[0m\u001b[1;33m,\u001b[0m \u001b[0mmessage\u001b[0m\u001b[1;33m)\u001b[0m\u001b[1;33m\u001b[0m\u001b[0m\n\u001b[0m\u001b[0;32m   1053\u001b[0m \u001b[1;33m\u001b[0m\u001b[0m\n\u001b[0;32m   1054\u001b[0m   \u001b[1;32mdef\u001b[0m \u001b[0m_extend_graph\u001b[0m\u001b[1;33m(\u001b[0m\u001b[0mself\u001b[0m\u001b[1;33m)\u001b[0m\u001b[1;33m:\u001b[0m\u001b[1;33m\u001b[0m\u001b[0m\n",
      "\u001b[1;31mInvalidArgumentError\u001b[0m: Expected begin[1] in [0, 118], but got 398\n\t [[Node: Slice_6 = Slice[Index=DT_INT32, T=DT_UINT8, _device=\"/job:localhost/replica:0/task:0/cpu:0\"](control_dependency_25, stack_18, stack_19)]]\n\nCaused by op 'Slice_6', defined at:\n  File \"D:\\anaconda1\\lib\\runpy.py\", line 170, in _run_module_as_main\n    \"__main__\", mod_spec)\n  File \"D:\\anaconda1\\lib\\runpy.py\", line 85, in _run_code\n    exec(code, run_globals)\n  File \"D:\\anaconda1\\lib\\site-packages\\ipykernel\\__main__.py\", line 3, in <module>\n    app.launch_new_instance()\n  File \"D:\\anaconda1\\lib\\site-packages\\traitlets\\config\\application.py\", line 596, in launch_instance\n    app.start()\n  File \"D:\\anaconda1\\lib\\site-packages\\ipykernel\\kernelapp.py\", line 442, in start\n    ioloop.IOLoop.instance().start()\n  File \"D:\\anaconda1\\lib\\site-packages\\zmq\\eventloop\\ioloop.py\", line 162, in start\n    super(ZMQIOLoop, self).start()\n  File \"D:\\anaconda1\\lib\\site-packages\\tornado\\ioloop.py\", line 883, in start\n    handler_func(fd_obj, events)\n  File \"D:\\anaconda1\\lib\\site-packages\\tornado\\stack_context.py\", line 275, in null_wrapper\n    return fn(*args, **kwargs)\n  File \"D:\\anaconda1\\lib\\site-packages\\zmq\\eventloop\\zmqstream.py\", line 440, in _handle_events\n    self._handle_recv()\n  File \"D:\\anaconda1\\lib\\site-packages\\zmq\\eventloop\\zmqstream.py\", line 472, in _handle_recv\n    self._run_callback(callback, msg)\n  File \"D:\\anaconda1\\lib\\site-packages\\zmq\\eventloop\\zmqstream.py\", line 414, in _run_callback\n    callback(*args, **kwargs)\n  File \"D:\\anaconda1\\lib\\site-packages\\tornado\\stack_context.py\", line 275, in null_wrapper\n    return fn(*args, **kwargs)\n  File \"D:\\anaconda1\\lib\\site-packages\\ipykernel\\kernelbase.py\", line 276, in dispatcher\n    return self.dispatch_shell(stream, msg)\n  File \"D:\\anaconda1\\lib\\site-packages\\ipykernel\\kernelbase.py\", line 228, in dispatch_shell\n    handler(stream, idents, msg)\n  File \"D:\\anaconda1\\lib\\site-packages\\ipykernel\\kernelbase.py\", line 391, in execute_request\n    user_expressions, allow_stdin)\n  File \"D:\\anaconda1\\lib\\site-packages\\ipykernel\\ipkernel.py\", line 199, in do_execute\n    shell.run_cell(code, store_history=store_history, silent=silent)\n  File \"D:\\anaconda1\\lib\\site-packages\\IPython\\core\\interactiveshell.py\", line 2723, in run_cell\n    interactivity=interactivity, compiler=compiler, result=result)\n  File \"D:\\anaconda1\\lib\\site-packages\\IPython\\core\\interactiveshell.py\", line 2825, in run_ast_nodes\n    if self.run_code(code, result):\n  File \"D:\\anaconda1\\lib\\site-packages\\IPython\\core\\interactiveshell.py\", line 2885, in run_code\n    exec(code_obj, self.user_global_ns, self.user_ns)\n  File \"<ipython-input-4-bf8a5efa7ac3>\", line 36, in <module>\n    croped = tf.image.resize_image_with_crop_or_pad(img_data, 1000, 1000)\n  File \"D:\\anaconda1\\lib\\site-packages\\tensorflow\\python\\ops\\image_ops_impl.py\", line 650, in resize_image_with_crop_or_pad\n    min_(target_width, width))\n  File \"D:\\anaconda1\\lib\\site-packages\\tensorflow\\python\\ops\\image_ops_impl.py\", line 551, in crop_to_bounding_box\n    array_ops.stack([-1, target_height, target_width, -1]))\n  File \"D:\\anaconda1\\lib\\site-packages\\tensorflow\\python\\ops\\array_ops.py\", line 545, in slice\n    return gen_array_ops._slice(input_, begin, size, name=name)\n  File \"D:\\anaconda1\\lib\\site-packages\\tensorflow\\python\\ops\\gen_array_ops.py\", line 2933, in _slice\n    name=name)\n  File \"D:\\anaconda1\\lib\\site-packages\\tensorflow\\python\\framework\\op_def_library.py\", line 768, in apply_op\n    op_def=op_def)\n  File \"D:\\anaconda1\\lib\\site-packages\\tensorflow\\python\\framework\\ops.py\", line 2336, in create_op\n    original_op=self._default_original_op, op_def=op_def)\n  File \"D:\\anaconda1\\lib\\site-packages\\tensorflow\\python\\framework\\ops.py\", line 1228, in __init__\n    self._traceback = _extract_stack()\n\nInvalidArgumentError (see above for traceback): Expected begin[1] in [0, 118], but got 398\n\t [[Node: Slice_6 = Slice[Index=DT_INT32, T=DT_UINT8, _device=\"/job:localhost/replica:0/task:0/cpu:0\"](control_dependency_25, stack_18, stack_19)]]\n"
     ]
    }
   ],
   "source": [
    "import matplotlib.pyplot as plt\n",
    "import tensorflow as tf\n",
    "import numpy as np\n",
    "%matplotlib inline\n",
    "\n",
    "# 1. 读取图片, [tensorflow-tutorial\\Deep_Learning_with_TensorFlow\\datasets\\cat.jpg]\n",
    "image_raw_data = tf.gfile.FastGFile(\"D:/python_code/image/image2.jpg\", 'rb').read()\n",
    "\n",
    "with tf.Session() as sess:\n",
    "    img_data = tf.image.decode_jpeg(image_raw_data)\n",
    "\n",
    "    # 输出解码之后的三维矩阵。\n",
    "    print(img_data.eval())\n",
    "    img_data.set_shape([1797, 2673, 3])\n",
    "    print(img_data.get_shape())\n",
    "\n",
    "# 2. 打印图片\n",
    "with tf.Session() as sess:\n",
    "    plt.imshow(img_data.eval())\n",
    "    plt.show()\n",
    "\n",
    "# 3. 重新调整图片大小\n",
    "with tf.Session() as sess:\n",
    "    resized = tf.image.resize_images(img_data, [300, 300], method=0)\n",
    "\n",
    "    # TensorFlow的函数处理图片后存储的数据是float32格式的，需要转换成uint8才能正确打印图片。\n",
    "    print\n",
    "    \"Digital type: \", resized.dtype\n",
    "    cat = np.asarray(resized.eval(), dtype='uint8')\n",
    "    # tf.image.convert_image_dtype(rgb_image, tf.float32)\n",
    "    plt.imshow(cat)\n",
    "    plt.show()\n",
    "\n",
    "# 4. 裁剪和填充图片\n",
    "with tf.Session() as sess:\n",
    "    croped = tf.image.resize_image_with_crop_or_pad(img_data, 1000, 1000)\n",
    "    padded = tf.image.resize_image_with_crop_or_pad(img_data, 3000, 3000)\n",
    "    plt.imshow(croped.eval())\n",
    "    plt.show()\n",
    "    plt.imshow(padded.eval())\n",
    "    plt.show()\n",
    "\n",
    "# 5. 截取中间50%的图片\n",
    "with tf.Session() as sess:\n",
    "    central_cropped = tf.image.central_crop(img_data, 0.5)\n",
    "    plt.imshow(central_cropped.eval())\n",
    "    plt.show()\n",
    "\n",
    "# 6. 翻转图片\n",
    "with tf.Session() as sess:\n",
    "    # 上下翻转\n",
    "    # flipped1 = tf.image.flip_up_down(img_data)\n",
    "    # 左右翻转\n",
    "    # flipped2 = tf.image.flip_left_right(img_data)\n",
    "\n",
    "    # 对角线翻转\n",
    "    transposed = tf.image.transpose_image(img_data)\n",
    "    plt.imshow(transposed.eval())\n",
    "    plt.show()\n",
    "\n",
    "    # 以一定概率上下翻转图片。\n",
    "    # flipped = tf.image.random_flip_up_down(img_data)\n",
    "    # 以一定概率左右翻转图片。\n",
    "    # flipped = tf.image.random_flip_left_right(img_data)\n",
    "\n",
    "# 7. 图片色彩调整\n",
    "with tf.Session() as sess:\n",
    "    # 将图片的亮度-0.5。\n",
    "    # adjusted = tf.image.adjust_brightness(img_data, -0.5)\n",
    "\n",
    "    # 将图片的亮度-0.5\n",
    "    # adjusted = tf.image.adjust_brightness(img_data, 0.5)\n",
    "\n",
    "    # 在[-max_delta, max_delta)的范围随机调整图片的亮度。\n",
    "    adjusted = tf.image.random_brightness(img_data, max_delta=0.5)\n",
    "\n",
    "    # 将图片的对比度-5\n",
    "    # adjusted = tf.image.adjust_contrast(img_data, -5)\n",
    "\n",
    "    # 将图片的对比度+5\n",
    "    # adjusted = tf.image.adjust_contrast(img_data, 5)\n",
    "\n",
    "    # 在[lower, upper]的范围随机调整图的对比度。\n",
    "    # adjusted = tf.image.random_contrast(img_data, lower, upper)\n",
    "\n",
    "    plt.imshow(adjusted.eval())\n",
    "    plt.show()\n",
    "\n",
    "# 8. 添加色相和饱和度\n",
    "with tf.Session() as sess:\n",
    "    adjusted = tf.image.adjust_hue(img_data, 0.1)\n",
    "    # adjusted = tf.image.adjust_hue(img_data, 0.3)\n",
    "    # adjusted = tf.image.adjust_hue(img_data, 0.6)\n",
    "    # adjusted = tf.image.adjust_hue(img_data, 0.9)\n",
    "\n",
    "    # 在[-max_delta, max_delta]的范围随机调整图片的色相。max_delta的取值在[0, 0.5]之间。\n",
    "    # adjusted = tf.image.random_hue(image, max_delta)\n",
    "\n",
    "    # 将图片的饱和度-5。\n",
    "    # adjusted = tf.image.adjust_saturation(img_data, -5)\n",
    "    # 将图片的饱和度+5。\n",
    "    # adjusted = tf.image.adjust_saturation(img_data, 5)\n",
    "    # 在[lower, upper]的范围随机调整图的饱和度。\n",
    "    # adjusted = tf.image.random_saturation(img_data, lower, upper)\n",
    "\n",
    "    # 将代表一张图片的三维矩阵中的数字均值变为0，方差变为1。\n",
    "    # adjusted = tf.image.per_image_whitening(img_data)\n",
    "\n",
    "    plt.imshow(adjusted.eval())\n",
    "    plt.show()\n",
    "\n",
    "# 9. 添加标注框并裁减\n",
    "with tf.Session() as sess:\n",
    "    boxes = tf.constant([[[0.05, 0.05, 0.9, 0.7], [0.35, 0.47, 0.5, 0.56]]])\n",
    "\n",
    "    begin, size, bbox_for_draw = tf.image.sample_distorted_bounding_box(\n",
    "        tf.shape(img_data), bounding_boxes=boxes)\n",
    "\n",
    "    batched = tf.expand_dims(tf.image.convert_image_dtype(img_data, tf.float32), 0)\n",
    "    image_with_box = tf.image.draw_bounding_boxes(batched, bbox_for_draw)\n",
    "\n",
    "    distorted_image = tf.slice(img_data, begin, size)\n",
    "    plt.imshow(distorted_image.eval())\n",
    "    plt.show()"
   ]
  },
  {
   "cell_type": "code",
   "execution_count": 18,
   "metadata": {
    "collapsed": false
   },
   "outputs": [
    {
     "name": "stdout",
     "output_type": "stream",
     "text": [
      "Tensor(\"Squeeze_19:0\", shape=(1000, 1000, 3), dtype=uint8)\n"
     ]
    }
   ],
   "source": [
    "with tf.Session() as sess:\n",
    "    print (croped)"
   ]
  },
  {
   "cell_type": "code",
   "execution_count": null,
   "metadata": {
    "collapsed": true
   },
   "outputs": [],
   "source": [
    "tf.image.crop_to_bounding_box(image, offset_height, offset_width, target_height, target_width)\n",
    "\n",
    "图片指定的范围裁剪，保留指定范围内的数据。\n",
    "\n",
    "该函数从image中裁剪出一个长方形的区域。长方形左上角在图片中的坐标为offset_height, offset_width\n",
    "那么它的右下角在图片中的坐标为offset_height + target_height, offset_width + target_width。\n",
    "\n",
    "参数:\n",
    "\n",
    "image: 3维 [height, width, channels]tensor。\n",
    "offset_height: 左上角坐标的高度值。\n",
    "offset_width: 左上角坐标的宽度值。\n",
    "target_height: 输出图片的高度。\n",
    "target_width: 输出图片的宽度。\n",
    "示例:\n",
    "\n",
    "crop_to=tf.image.crop_to_bounding_box(image_decoded,100,100,400,400)"
   ]
  },
  {
   "cell_type": "markdown",
   "metadata": {},
   "source": [
    "tf.image.pad_to_bounding_box(image, offset_height, offset_width, target_height, target_width)\n",
    "\n",
    "扩展 image 到指定的 height 和width，扩展的部分填充0。\n",
    "在图片的上部填充offset_height行0元素和在图片的左边填充offset_width列0元素后，将图片沿着下部行填充和右部列填充扩展至指定的高、宽。\n",
    "\n",
    "参数:\n",
    "image: 3维 [height, width, channels]tensor。\n",
    "offset_height: 上部增加0元素的行数。\n",
    "offset_width: 左部增加0元素的行数。\n",
    "target_height: 输出图片的高度。\n",
    "target_width: 输出图片的宽度。\n",
    "\n",
    "示例：\n",
    "pad_to=tf.image.pad_to_bounding_box(image_decoded,100,100,2000,2000)"
   ]
  },
  {
   "cell_type": "code",
   "execution_count": null,
   "metadata": {
    "collapsed": true
   },
   "outputs": [],
   "source": [
    "tf.image.draw_bounding_boxes(images, boxes, name=None)\n",
    "\n",
    "给一批图片绘制方框。\n",
    "每张图片绘制相同数量的方框，方框在图片中的坐标定义为 [y_min, x_min, y_max, x_max]，取值都在[0.0, 1.0]之间。\n",
    "\n",
    "例如，一幅为100 x 200像素的图像，绘制的方框坐标为[0.1, 0.2, 0.5, 0.9], 那么它的左下角及右上角的像素点位置为 (10, 40) to (50, 180)。\n",
    "\n",
    "参数:\n",
    "\n",
    "images: 4维 [batch, height, width, depth]tensor。\n",
    "boxes: 3维 [batch, num_bounding_boxes, 4] 包含需绘制的方框的信息。\n",
    "示例:\n",
    "\n",
    "#images中batch为3。\n",
    "boxes=tf.Variable([[[0.1,0.2,0.5,0.9]],[[0.3,0.4,0.6,0.5]],[[0.5,0.6,0.7,0.8]]])\n",
    "draw_bounding_boxes=tf.image.draw_bounding_boxes(images,boxes)"
   ]
  },
  {
   "cell_type": "markdown",
   "metadata": {},
   "source": [
    "### 图像预处理完整样例"
   ]
  },
  {
   "cell_type": "code",
   "execution_count": null,
   "metadata": {
    "collapsed": true
   },
   "outputs": [],
   "source": [
    "import tensorflow as tf\n",
    "import numpy as np\n",
    "import matplotlib.pyplot as plt\n",
    "\n",
    "# 1. 随机调整图片的色彩，定义两种顺序\n",
    "def distort_color(image, color_ordering=0):\n",
    "    if color_ordering == 0:\n",
    "        image = tf.image.random_brightness(image, max_delta=32./255.)\n",
    "        image = tf.image.random_saturation(image, lower=0.5, upper=1.5)\n",
    "        image = tf.image.random_hue(image, max_delta=0.2)\n",
    "        image = tf.image.random_contrast(image, lower=0.5, upper=1.5)\n",
    "    else:\n",
    "        image = tf.image.random_saturation(image, lower=0.5, upper=1.5)\n",
    "        image = tf.image.random_brightness(image, max_delta=32./255.)\n",
    "        image = tf.image.random_contrast(image, lower=0.5, upper=1.5)\n",
    "        image = tf.image.random_hue(image, max_delta=0.2)\n",
    "\n",
    "    return tf.clip_by_value(image, 0.0, 1.0)\n",
    "\n",
    "# 2. 对图片进行预处理，将图片转化成神经网络的输入层数据\n",
    "def preprocess_for_train(image, height, width, bbox):\n",
    "    # 查看是否存在标注框。\n",
    "    if bbox is None:\n",
    "        bbox = tf.constant([0.0, 0.0, 1.0, 1.0], dtype=tf.float32, shape=[1, 1, 4])\n",
    "    if image.dtype != tf.float32:\n",
    "        image = tf.image.convert_image_dtype(image, dtype=tf.float32)\n",
    "\n",
    "    # 随机的截取图片中一个块。\n",
    "    bbox_begin, bbox_size, _ = tf.image.sample_distorted_bounding_box(\n",
    "        tf.shape(image), bounding_boxes=bbox)\n",
    "    bbox_begin, bbox_size, _ = tf.image.sample_distorted_bounding_box(\n",
    "        tf.shape(image), bounding_boxes=bbox)\n",
    "    distorted_image = tf.slice(image, bbox_begin, bbox_size)\n",
    "\n",
    "    # 将随机截取的图片调整为神经网络输入层的大小。\n",
    "    distorted_image = tf.image.resize_images(distorted_image, [height, width], method=np.random.randint(4))\n",
    "    distorted_image = tf.image.random_flip_left_right(distorted_image)\n",
    "    distorted_image = distort_color(distorted_image, np.random.randint(2))\n",
    "    return distorted_image\n",
    "\n",
    "# 3. 读取图片\n",
    "image_raw_data = tf.gfile.FastGFile(\"../../datasets/cat.jpg\", \"r\").read()\n",
    "with tf.Session() as sess:\n",
    "    img_data = tf.image.decode_jpeg(image_raw_data)\n",
    "    boxes = tf.constant([[[0.05, 0.05, 0.9, 0.7], [0.35, 0.47, 0.5, 0.56]]])\n",
    "    for i in range(9):\n",
    "        result = preprocess_for_train(img_data, 299, 299, boxes)\n",
    "        plt.imshow(result.eval())\n",
    "        plt.show()"
   ]
  },
  {
   "cell_type": "markdown",
   "metadata": {},
   "source": [
    "tf.clip_by_value(A, min, max)：\n",
    "输入一个张量A，把A中的每一个元素的值都压缩在min和max之间。小于min的让它等于min，大于max的元素的值等于max。"
   ]
  },
  {
   "cell_type": "code",
   "execution_count": 27,
   "metadata": {
    "collapsed": false
   },
   "outputs": [
    {
     "name": "stdout",
     "output_type": "stream",
     "text": [
      "[[[ 0  1  2  3]\n",
      "  [ 4  5  6  7]\n",
      "  [ 8  9 10 11]]\n",
      "\n",
      " [[12 13 14 15]\n",
      "  [16 17 18 19]\n",
      "  [20 21 22 23]]]\n"
     ]
    }
   ],
   "source": [
    "import tensorflow as tf  \n",
    "import numpy as np  \n",
    "x=[[1,2,3],[4,5,6]]  \n",
    "y=np.arange(24).reshape([2,3,4])  \n",
    "z=tf.constant([[[1,2,3],[4,5,6]], [[7,8,9],[10,11,12]],  [[13,14,15],[16,17,18]]])\n",
    "print (y)"
   ]
  },
  {
   "cell_type": "markdown",
   "metadata": {},
   "source": [
    "### 队列操作"
   ]
  },
  {
   "cell_type": "code",
   "execution_count": 29,
   "metadata": {
    "collapsed": false
   },
   "outputs": [
    {
     "name": "stdout",
     "output_type": "stream",
     "text": [
      "0\n",
      "10\n",
      "1\n",
      "11\n",
      "2\n",
      "12\n"
     ]
    },
    {
     "data": {
      "text/plain": [
       "'\\n0\\n10\\n1\\n11\\n2\\n'"
      ]
     },
     "execution_count": 29,
     "metadata": {},
     "output_type": "execute_result"
    }
   ],
   "source": [
    "import tensorflow as tf\n",
    "\n",
    "# 1. 创建队列，并操作里面的元素\n",
    "q = tf.FIFOQueue(2, \"int32\")\n",
    "init = q.enqueue_many(([0, 10],))\n",
    "x = q.dequeue()\n",
    "y = x + 1\n",
    "q_inc = q.enqueue([y])\n",
    "with tf.Session() as sess:\n",
    "    init.run()\n",
    "    for _ in range(6):\n",
    "        v, _ = sess.run([x, q_inc])\n",
    "        print(v)\n",
    "'''\n",
    "0\n",
    "10\n",
    "1\n",
    "11\n",
    "2\n",
    "'''"
   ]
  },
  {
   "cell_type": "code",
   "execution_count": 33,
   "metadata": {
    "collapsed": false
   },
   "outputs": [
    {
     "name": "stdout",
     "output_type": "stream",
     "text": [
      "Tensor(\"fifo_queue_1_Dequeue_1:0\", dtype=int32)\n"
     ]
    }
   ],
   "source": [
    "print (q.dequeue())"
   ]
  },
  {
   "cell_type": "code",
   "execution_count": 9,
   "metadata": {
    "collapsed": false
   },
   "outputs": [
    {
     "name": "stdout",
     "output_type": "stream",
     "text": [
      "Working on id: 0\n",
      " None\n",
      "Working on id: 3\n",
      " None\n",
      "Working on id: 2\n",
      " None\n",
      "Stoping from id: 2\n",
      " None\n",
      "Working on id: 1\n",
      " None\n",
      "Working on id: 4\n",
      " None\n",
      "Working on id: 0\n",
      "Working on id: 3\n",
      " None\n",
      " None\n"
     ]
    },
    {
     "data": {
      "text/plain": [
       "'\\nStoping from id: 1\\n None\\nWorking on id: 0\\n None\\n'"
      ]
     },
     "execution_count": 9,
     "metadata": {},
     "output_type": "execute_result"
    }
   ],
   "source": [
    "# 2. 这个程序每隔1秒判断是否需要停止并打印自己的ID\n",
    "import numpy as np\n",
    "import threading\n",
    "import time\n",
    "def MyLoop(coord, worker_id):\n",
    "    while not coord.should_stop():\n",
    "        if np.random.rand()<0.1:\n",
    "            print(\"Stoping from id: %d\\n\" % worker_id, coord.request_stop())\n",
    "        else:\n",
    "            print(\"Working on id: %d\\n\" % worker_id, time.sleep(1))\n",
    "\n",
    "# 3. 创建、启动并退出线程\n",
    "coord = tf.train.Coordinator()\n",
    "threads = [threading.Thread(target=MyLoop, args=(coord, i, )) for i in range(5)]\n",
    "for t in threads:t.start()\n",
    "coord.join(threads)\n",
    "'''\n",
    "Stoping from id: 1\n",
    " None\n",
    "Working on id: 0\n",
    " None\n",
    "'''"
   ]
  },
  {
   "cell_type": "markdown",
   "metadata": {},
   "source": [
    "should_stop():如果线程应该停止则返回True。\n",
    "request_stop(<exception>): 请求该线程停止。\n",
    "join(<list of threads>):等待被指定的线程终止。"
   ]
  },
  {
   "cell_type": "markdown",
   "metadata": {},
   "source": [
    "### 多线程队列操作"
   ]
  },
  {
   "cell_type": "code",
   "execution_count": 1,
   "metadata": {
    "collapsed": false
   },
   "outputs": [
    {
     "name": "stdout",
     "output_type": "stream",
     "text": [
      "0.456552\n",
      "-1.07787\n",
      "0.232182\n"
     ]
    }
   ],
   "source": [
    "import tensorflow as tf\n",
    "# 1. 定义队列及其操作\n",
    "queue = tf.FIFOQueue(100,\"float\")\n",
    "enqueue_op = queue.enqueue([tf.random_normal([1])])\n",
    "qr = tf.train.QueueRunner(queue, [enqueue_op] * 5)  \n",
    "#创建一个QueueRunner来运行几个线程， 这几个线程处理样本，并且将样本推入队列。\n",
    "#创建一个Coordinator，让queue runner使用Coordinator来启动这些线程，创建一个训练的循环， \n",
    "#并且使用Coordinator来控制QueueRunner的线程们的终止。\n",
    "tf.train.add_queue_runner(qr)\n",
    "#通过调用方法tf.train.add_queue_runner，对应每个队列的tf.train.QueueRunner将会被将入到graph中。\n",
    "#每一个QueueRunner负责管理每一个队列。一旦graph搭建完成，\n",
    "#tf.train.start_queue_runners将会使得每一个在graph中的QueueRunner如开启自己的threads去运行队列操作。\n",
    "out_tensor = queue.dequeue()\n",
    "\n",
    "# 2. 启动线程\n",
    "with tf.Session() as sess:\n",
    "    coord = tf.train.Coordinator()\n",
    "    threads = tf.train.start_queue_runners(sess=sess, coord=coord)\n",
    "    for _ in range(3):\n",
    "        print(sess.run(out_tensor)[0])\n",
    "    coord.request_stop()\n",
    "    coord.join(threads)\n"
   ]
  },
  {
   "cell_type": "markdown",
   "metadata": {},
   "source": [
    "QueueRunner\n",
    "QueueRunner类会创建一组线程， 这些线程可以重复的执行Enquene操作， 他们使用同一个Coordinator来处理线程同步终止。此外，一个QueueRunner会运行一个closer thread，当Coordinator收到异常报告时，这个closer thread会自动关闭队列。"
   ]
  },
  {
   "cell_type": "markdown",
   "metadata": {
    "collapsed": true
   },
   "source": [
    "### 输入文件队列"
   ]
  },
  {
   "cell_type": "code",
   "execution_count": null,
   "metadata": {
    "collapsed": true
   },
   "outputs": [],
   "source": [
    "import tensorflow as tf\n",
    "\n",
    "# 1. 生成文件存储样例数据\n",
    "def _int64_feature(value):\n",
    "    return tf.train.Feature(int64_list=tf.train.Int64List(value=[value]))\n",
    "num_shards = 2\n",
    "instances_per_shard = 2\n",
    "for i in range(num_shards):\n",
    "    filename = ('Records/data.tfrecords-%.5d-of-%.5d' % (i, num_shards))\n",
    "    # 将Example结构写入TFRecord文件。\n",
    "    writer = tf.python_io.TFRecordWriter(filename)\n",
    "    for j in range(instances_per_shard):\n",
    "    # Example结构仅包含当前样例属于第几个文件以及是当前文件的第几个样本。\n",
    "        example = tf.train.Example(features=tf.train.Features(feature={\n",
    "            'i': _int64_feature(i),\n",
    "            'j': _int64_feature(j)}))\n",
    "        writer.write(example.SerializeToString())\n",
    "    writer.close()\n",
    "\n",
    "# 2. 读取文件\n",
    "files = tf.train.match_filenames_once(\"Records/data.tfrecords-*\")\n",
    "filename_queue = tf.train.string_input_producer(files, shuffle=False)\n",
    "reader = tf.TFRecordReader()\n",
    "_, serialized_example = reader.read(filename_queue)\n",
    "features = tf.parse_single_example(\n",
    "      serialized_example,\n",
    "      features={\n",
    "          'i': tf.FixedLenFeature([], tf.int64),\n",
    "          'j': tf.FixedLenFeature([], tf.int64),\n",
    "      })\n",
    "with tf.Session() as sess:\n",
    "    tf.global_variables_initializer().run()\n",
    "    print(sess.run(files))\n",
    "    coord = tf.train.Coordinator()\n",
    "    threads = tf.train.start_queue_runners(sess=sess, coord=coord)\n",
    "    for i in range(6):\n",
    "        print(sess.run([features['i'], features['j']]))\n",
    "    coord.request_stop()\n",
    "    coord.join(threads)\n",
    "'''\n",
    "[b'Records\\\\data.tfrecords-00000-of-00002'\n",
    " b'Records\\\\data.tfrecords-00001-of-00002']\n",
    "[0, 0]\n",
    "[0, 1]\n",
    "[1, 0]\n",
    "[1, 1]\n",
    "[0, 0]\n",
    "[0, 1]\n",
    "'''\n",
    "# 3. 组合训练数据（Batching）\n",
    "example, label = features['i'], features['j']\n",
    "batch_size = 2\n",
    "capacity = 1000 + 3 * batch_size\n",
    "capacity = 1000 + 3 * batch_size\n",
    "example_batch, label_batch = tf.train.batch([example, label], batch_size=batch_size, capacity=capacity)\n",
    "\n",
    "with tf.Session() as sess:\n",
    "    tf.global_variables_initializer().run()\n",
    "    coord = tf.train.Coordinator()\n",
    "    threads = tf.train.start_queue_runners(sess=sess, coord=coord)\n",
    "    for i in range(3):\n",
    "        cur_example_batch, cur_label_batch = sess.run([example_batch, label_batch])\n",
    "        print(cur_example_batch, cur_label_batch)\n",
    "    coord.request_stop()\n",
    "    coord.join(threads)\n",
    "'''\n",
    "[0 0] [0 1]\n",
    "[1 1] [0 1]\n",
    "[0 0] [0 1]\n",
    "'''"
   ]
  },
  {
   "cell_type": "markdown",
   "metadata": {
    "collapsed": true
   },
   "source": [
    "### 输入数据处理框架"
   ]
  },
  {
   "cell_type": "code",
   "execution_count": null,
   "metadata": {
    "collapsed": true
   },
   "outputs": [],
   "source": [
    "import tensorflow as tf\n",
    "\n",
    "# 1. 创建文件列表，通过文件列表创建输入文件队列，读取文件为本章第一节创建的文件\n",
    "files = tf.train.match_filenames_once(\"Records/output.tfrecords\")\n",
    "filename_queue = tf.train.string_input_producer(files, shuffle=False)\n",
    "\n",
    "# 2. 解析TFRecord文件里的数据\n",
    "# 读取文件。\n",
    "reader = tf.TFRecordReader()\n",
    "_,serialized_example = reader.read(filename_queue)\n",
    "\n",
    "# 3. 解析读取的样例。\n",
    "features = tf.parse_single_example(\n",
    "    serialized_example,\n",
    "    features={\n",
    "        'image_raw':tf.FixedLenFeature([],tf.string),\n",
    "        'pixels':tf.FixedLenFeature([],tf.int64),\n",
    "        'label':tf.FixedLenFeature([],tf.int64)\n",
    "    })\n",
    "\n",
    "decoded_images = tf.decode_raw(features['image_raw'],tf.uint8)\n",
    "retyped_images = tf.cast(decoded_images, tf.float32)\n",
    "labels = tf.cast(features['label'],tf.int32)\n",
    "#pixels = tf.cast(features['pixels'],tf.int32)\n",
    "images = tf.reshape(retyped_images, [784])\n",
    "\n",
    "# 4. 将文件以100个为一组打包\n",
    "min_after_dequeue = 10000\n",
    "batch_size = 100\n",
    "capacity = min_after_dequeue + 3 * batch_size\n",
    "\n",
    "image_batch, label_batch = tf.train.shuffle_batch([images, labels],\n",
    "                                                    batch_size=batch_size,\n",
    "                                                    capacity=capacity,\n",
    "                                                    min_after_dequeue=min_after_dequeue)\n",
    "\n",
    "# 5. 训练模型\n",
    "def inference(input_tensor, weights1, biases1, weights2, biases2):\n",
    "    layer1 = tf.nn.relu(tf.matmul(input_tensor, weights1) + biases1)\n",
    "    return tf.matmul(layer1, weights2) + biases2\n",
    "\n",
    "# 模型相关的参数\n",
    "INPUT_NODE = 784\n",
    "OUTPUT_NODE = 10\n",
    "LAYER1_NODE = 500\n",
    "REGULARAZTION_RATE = 0.0001\n",
    "TRAINING_STEPS = 5000\n",
    "\n",
    "weights1 = tf.Variable(tf.truncated_normal([INPUT_NODE, LAYER1_NODE], stddev=0.1))\n",
    "biases1 = tf.Variable(tf.constant(0.1, shape=[LAYER1_NODE]))\n",
    "\n",
    "weights2 = tf.Variable(tf.truncated_normal([LAYER1_NODE, OUTPUT_NODE], stddev=0.1))\n",
    "biases2 = tf.Variable(tf.constant(0.1, shape=[OUTPUT_NODE]))\n",
    "\n",
    "y = inference(image_batch, weights1, biases1, weights2, biases2)\n",
    "\n",
    "# 计算交叉熵及其平均值\n",
    "cross_entropy = tf.nn.sparse_softmax_cross_entropy_with_logits(logits=y, labels=label_batch)\n",
    "cross_entropy_mean = tf.reduce_mean(cross_entropy)\n",
    "\n",
    "# 损失函数的计算\n",
    "regularizer = tf.contrib.layers.l2_regularizer(REGULARAZTION_RATE)\n",
    "regularaztion = regularizer(weights1) + regularizer(weights2)\n",
    "loss = cross_entropy_mean + regularaztion\n",
    "\n",
    "# 优化损失函数\n",
    "train_step = tf.train.GradientDescentOptimizer(0.01).minimize(loss)\n",
    "\n",
    "# 初始化回话并开始训练过程。\n",
    "with tf.Session() as sess:\n",
    "    tf.global_variables_initializer().run()\n",
    "    coord = tf.train.Coordinator()\n",
    "    threads = tf.train.start_queue_runners(sess=sess, coord=coord)\n",
    "    # 循环的训练神经网络。\n",
    "    for i in range(TRAINING_STEPS):\n",
    "        if i % 1000 == 0:\n",
    "            print(\"After %d training step(s), loss is %g \" % (i, sess.run(loss)))\n",
    "\n",
    "        sess.run(train_step)\n",
    "    coord.request_stop()\n",
    "    coord.join(threads)\n"
   ]
  },
  {
   "cell_type": "markdown",
   "metadata": {
    "collapsed": true
   },
   "source": [
    "### SKlearn封装例子 code "
   ]
  },
  {
   "cell_type": "code",
   "execution_count": 1,
   "metadata": {
    "collapsed": false
   },
   "outputs": [
    {
     "name": "stdout",
     "output_type": "stream",
     "text": [
      "INFO:tensorflow:Using default config.\n",
      "INFO:tensorflow:Using config: {'_tf_random_seed': None, '_keep_checkpoint_max': 5, '_is_chief': True, '_model_dir': None, '_tf_config': gpu_options {\n",
      "  per_process_gpu_memory_fraction: 1\n",
      "}\n",
      ", '_master': '', '_keep_checkpoint_every_n_hours': 10000, '_save_checkpoints_secs': 600, '_save_checkpoints_steps': None, '_environment': 'local', '_num_ps_replicas': 0, '_save_summary_steps': 100, '_task_id': 0, '_num_worker_replicas': 0, '_evaluation_master': '', '_cluster_spec': <tensorflow.python.training.server_lib.ClusterSpec object at 0x000001FA47261080>, '_task_type': None}\n",
      "INFO:tensorflow:Create CheckpointSaverHook.\n",
      "INFO:tensorflow:Saving checkpoints for 1 into Models/model_1\\model.ckpt.\n",
      "INFO:tensorflow:loss = 1.05083, step = 1\n",
      "INFO:tensorflow:global_step/sec: 929.725\n",
      "INFO:tensorflow:loss = 0.768423, step = 101 (0.109 sec)\n",
      "INFO:tensorflow:global_step/sec: 1017.6\n",
      "INFO:tensorflow:loss = 0.699499, step = 201 (0.098 sec)\n",
      "INFO:tensorflow:global_step/sec: 1126.82\n",
      "INFO:tensorflow:loss = 0.663867, step = 301 (0.088 sec)\n",
      "INFO:tensorflow:global_step/sec: 1126.21\n",
      "INFO:tensorflow:loss = 0.642732, step = 401 (0.089 sec)\n",
      "INFO:tensorflow:global_step/sec: 1063.18\n",
      "INFO:tensorflow:loss = 0.628997, step = 501 (0.094 sec)\n",
      "INFO:tensorflow:global_step/sec: 1098.74\n",
      "INFO:tensorflow:loss = 0.619506, step = 601 (0.091 sec)\n",
      "INFO:tensorflow:global_step/sec: 1086.36\n",
      "INFO:tensorflow:loss = 0.612629, step = 701 (0.093 sec)\n",
      "INFO:tensorflow:Saving checkpoints for 800 into Models/model_1\\model.ckpt.\n",
      "INFO:tensorflow:Loss for final step: 0.607491.\n",
      "INFO:tensorflow:Restoring parameters from Models/model_1\\model.ckpt-800\n",
      "Accuracy: 100.00%\n"
     ]
    },
    {
     "data": {
      "text/plain": [
       "'\\nAccuracy: 100.00%\\n'"
      ]
     },
     "execution_count": 1,
     "metadata": {},
     "output_type": "execute_result"
    }
   ],
   "source": [
    "from sklearn import model_selection\n",
    "from sklearn import datasets\n",
    "from sklearn import metrics\n",
    "import tensorflow as tf\n",
    "import numpy as np\n",
    "from tensorflow.contrib.learn.python.learn.estimators.estimator import SKCompat\n",
    "learn = tf.contrib.learn\n",
    "\n",
    "# 1. 自定义softmax回归模型\n",
    "def my_model(features, target):\n",
    "    target = tf.one_hot(target, 3, 1, 0)\n",
    "\n",
    "    # 计算预测值及损失函数。\n",
    "    logits = tf.contrib.layers.fully_connected(features, 3, tf.nn.softmax)\n",
    "    loss = tf.losses.softmax_cross_entropy(target, logits)\n",
    "\n",
    "    # 创建优化步骤。\n",
    "    train_op = tf.contrib.layers.optimize_loss(\n",
    "        loss,\n",
    "        tf.contrib.framework.get_global_step(),\n",
    "        optimizer='Adam',\n",
    "        learning_rate=0.01)\n",
    "    return tf.arg_max(logits, 1), loss, train_op\n",
    "\n",
    "# 2. 读取数据并将数据转化成TensorFlow要求的float32格式\n",
    "iris = datasets.load_iris()\n",
    "x_train, x_test, y_train, y_test = model_selection.train_test_split(\n",
    "    iris.data, iris.target, test_size=0.2, random_state=0)\n",
    "\n",
    "x_train, x_test = map(np.float32, [x_train, x_test])\n",
    "\n",
    "# 3. 封装和训练模型，输出准确率\n",
    "classifier = SKCompat(learn.Estimator(model_fn=my_model, model_dir=\"Models/model_1\"))\n",
    "classifier.fit(x_train, y_train, steps=800)\n",
    "\n",
    "y_predicted = [i for i in classifier.predict(x_test)]\n",
    "score = metrics.accuracy_score(y_test, y_predicted)\n",
    "print('Accuracy: %.2f%%' % (score * 100))\n",
    "'''\n",
    "Accuracy: 100.00%\n",
    "'''"
   ]
  },
  {
   "cell_type": "markdown",
   "metadata": {
    "collapsed": true
   },
   "source": [
    "### Tensorboard 可视化"
   ]
  },
  {
   "cell_type": "code",
   "execution_count": 2,
   "metadata": {
    "collapsed": true
   },
   "outputs": [],
   "source": [
    "\n",
    "import tensorflow as tf;\n",
    "\n",
    "# 定义一个简单的计算图，实现向量加法操作\n",
    "input1 = tf.constant([1.0, 2.0, 3.0], name=\"input1\");\n",
    "input2 = tf.Variable(tf.random_uniform([3], name=\"input2\"));\n",
    "output = tf.add_n([input1, input2], name=\"add\");\n",
    "\n",
    "# 生产一个写日志的writer，并将当前的TensorFlow计算图写入日志，TensorFlow提供了多种写日志的API\n",
    "writer = tf.summary.FileWriter(\"D:/python_code/tensorBoard/tensorlog/logs\", tf.get_default_graph())\n",
    "writer.close()"
   ]
  },
  {
   "cell_type": "code",
   "execution_count": 1,
   "metadata": {
    "collapsed": false
   },
   "outputs": [
    {
     "name": "stdout",
     "output_type": "stream",
     "text": [
      "foo/bar:0\n",
      "bar/bar:0\n",
      "a/Variable:0\n",
      "b:0\n"
     ]
    }
   ],
   "source": [
    "import tensorflow as tf\n",
    "\n",
    "# 1. 不同的命名空间\n",
    "with tf.variable_scope(\"foo\"):\n",
    "    a = tf.get_variable(\"bar\", [1])\n",
    "    print(a.name)\n",
    "with tf.variable_scope(\"bar\"):\n",
    "    b = tf.get_variable(\"bar\", [1])\n",
    "    print(b.name)\n",
    "'''\n",
    "foo/bar:0\n",
    "bar/bar:0\n",
    "'''\n",
    "# 2. tf.Variable和tf.get_variable的区别\n",
    "with tf.name_scope(\"a\"):\n",
    "    a = tf.Variable([1])\n",
    "    print(a.name)\n",
    "    a = tf.get_variable(\"b\", [1])\n",
    "    print(a.name)\n",
    "'''\n",
    "a/Variable:0\n",
    "b:0\n",
    "'''\n",
    "\n",
    "# 3. TensorBoard可以根据命名空间来整理可视化效果图上的节点\n",
    "with tf.name_scope(\"input1\"):\n",
    "    input1 = tf.constant([1.0, 2.0, 3.0], name=\"input2\")\n",
    "with tf.name_scope(\"input2\"):\n",
    "    input2 = tf.Variable(tf.random_uniform([3]), name=\"input2\")\n",
    "output = tf.add_n([input1, input2], name=\"add\")\n",
    "\n",
    "# tensorboard --port=6006 --debug --logdir=c:/python35/tensorlog/show02\n",
    "writer = tf.summary.FileWriter(\"D:/python_code/tensorBoard/tensorlog/show02\", tf.get_default_graph())\n",
    "writer.close()"
   ]
  },
  {
   "cell_type": "markdown",
   "metadata": {
    "collapsed": true
   },
   "source": [
    "### 分布式tensorflow code"
   ]
  },
  {
   "cell_type": "code",
   "execution_count": null,
   "metadata": {
    "collapsed": false
   },
   "outputs": [
    {
     "name": "stdout",
     "output_type": "stream",
     "text": [
      "b'Hello, distributed TensorFlow!'\n"
     ]
    }
   ],
   "source": [
    "import tensorflow as tf\n",
    "\n",
    "# 创建一个本地集群。\n",
    "c = tf.constant(\"Hello, distributed TensorFlow!\")\n",
    "server = tf.train.Server.create_local_server()\n",
    "sess = tf.Session(server.target)\n",
    "print(sess.run(c))\n",
    "\n",
    "# 创建两个集群\n",
    "c = tf.constant(\"Hello from server1!\")\n",
    "cluster = tf.train.ClusterSpec({\"local\": [\"localhost:2222\", \"localhost:2223\"]})\n",
    "server = tf.train.Server(cluster, job_name=\"local\", task_index=0)\n",
    "sess = tf.Session(server.target, config=tf.ConfigProto(log_device_placement=True))\n",
    "print(sess.run(c))\n",
    "server.join()\n",
    "\n",
    "import tensorflow as tf\n",
    "c = tf.constant(\"Hello from server2!\")\n",
    "cluster = tf.train.ClusterSpec({\"local\": [\"localhost:2222\", \"localhost:2223\"]})\n",
    "server = tf.train.Server(cluster, job_name=\"local\", task_index=1)\n",
    "sess = tf.Session(server.target, config=tf.ConfigProto(log_device_placement=True))\n",
    "print(sess.run(c))\n",
    "server.join()"
   ]
  },
  {
   "cell_type": "code",
   "execution_count": null,
   "metadata": {
    "collapsed": true
   },
   "outputs": [],
   "source": [
    "#异步更新\n",
    "import time\n",
    "import tensorflow as tf\n",
    "from tensorflow.examples.tutorials.mnist import input_data\n",
    "\n",
    "import mnist_inference\n",
    "\n",
    "# 配置神经网络的参数。\n",
    "BATCH_SIZE = 100\n",
    "LEARNING_RATE_BASE = 0.01\n",
    "LEARNING_RATE_DECAY = 0.99\n",
    "REGULARAZTION_RATE = 0.0001\n",
    "TRAINING_STEPS = 1000\n",
    "MOVING_AVERAGE_DECAY = 0.99\n",
    "\n",
    "# 模型保存的路径和文件名。\n",
    "MODEL_SAVE_PATH = \"logs/log_async\"\n",
    "DATA_PATH = \"../../datasets/MNIST_data\"\n",
    "\n",
    "FLAGS = tf.app.flags.FLAGS\n",
    "\n",
    "# 指定当前程序是参数服务器还是计算服务器。\n",
    "tf.app.flags.DEFINE_string('job_name', 'worker', ' \"ps\" or \"worker\" ')\n",
    "# 指定集群中的参数服务器地址。\n",
    "tf.app.flags.DEFINE_string(\n",
    "    'ps_hosts', ' tf-ps0:2222,tf-ps1:1111',\n",
    "    'Comma-separated list of hostname:port for the parameter server jobs. e.g. \"tf-ps0:2222,tf-ps1:1111\" ')\n",
    "# 指定集群中的计算服务器地址。\n",
    "tf.app.flags.DEFINE_string(\n",
    "    'worker_hosts', ' tf-worker0:2222,tf-worker1:1111',\n",
    "    'Comma-separated list of hostname:port for the worker jobs. e.g. \"tf-worker0:2222,tf-worker1:1111\" ')\n",
    "# 指定当前程序的任务ID。\n",
    "tf.app.flags.DEFINE_integer('task_id', 0, 'Task ID of the worker/replica running the training.')\n",
    "\n",
    "# 定义TensorFlow的计算图，并返回每一轮迭代时需要运行的操作。\n",
    "def build_model(x, y_, is_chief):\n",
    "    regularizer = tf.contrib.layers.l2_regularizer(REGULARAZTION_RATE)\n",
    "    # 通过和5.5节给出的mnist_inference.py代码计算神经网络前向传播的结果。\n",
    "    y = mnist_inference.inference(x, regularizer)\n",
    "    global_step = tf.Variable(0, trainable=False)\n",
    "\n",
    "    # 计算损失函数并定义反向传播过程。\n",
    "    cross_entropy = tf.nn.sparse_softmax_cross_entropy_with_logits(logits=y, labels=tf.argmax(y_, 1))\n",
    "    cross_entropy_mean = tf.reduce_mean(cross_entropy)\n",
    "    loss = cross_entropy_mean + tf.add_n(tf.get_collection('losses'))\n",
    "    learning_rate = tf.train.exponential_decay(\n",
    "        LEARNING_RATE_BASE, global_step, 60000 / BATCH_SIZE, LEARNING_RATE_DECAY)\n",
    "    train_op = tf.train.GradientDescentOptimizer(learning_rate).minimize(loss, global_step=global_step)\n",
    "\n",
    "    # 定义每一轮迭代需要运行的操作。\n",
    "    if is_chief:\n",
    "        # 计算变量的滑动平均值。\n",
    "        variable_averages = tf.train.ExponentialMovingAverage(MOVING_AVERAGE_DECAY, global_step)\n",
    "        variables_averages_op = variable_averages.apply(tf.trainable_variables())\n",
    "        with tf.control_dependencies([variables_averages_op, train_op]):\n",
    "            train_op = tf.no_op()\n",
    "    return global_step, loss, train_op\n",
    "\n",
    "\n",
    "def main(argv=None):\n",
    "    # 解析flags并通过tf.train.ClusterSpec配置TensorFlow集群。\n",
    "    ps_hosts = FLAGS.ps_hosts.split(',')\n",
    "    worker_hosts = FLAGS.worker_hosts.split(',')\n",
    "    cluster = tf.train.ClusterSpec({\"ps\": ps_hosts, \"worker\": worker_hosts})\n",
    "    # 通过tf.train.ClusterSpec以及当前任务创建tf.train.Server。\n",
    "    server = tf.train.Server(cluster, job_name = FLAGS.job_name, task_index=FLAGS.task_id)\n",
    "\n",
    "    # 参数服务器只需要管理TensorFlow中的变量，不需要执行训练的过程。server.join()会\n",
    "    # 一致停在这条语句上。\n",
    "    if FLAGS.job_name == 'ps':\n",
    "        with tf.device(\"/cpu:0\"):\n",
    "            server.join()\n",
    "\n",
    "    # 定义计算服务器需要运行的操作。\n",
    "    is_chief = (FLAGS.task_id == 0)\n",
    "    mnist = input_data.read_data_sets(DATA_PATH, one_hot=True)\n",
    "\n",
    "    device_setter = tf.train.replica_device_setter(worker_device=\"/job:worker/task:%d\" % FLAGS.task_id, cluster=cluster)\n",
    "    with tf.device(device_setter):\n",
    "\n",
    "        # 定义输入并得到每一轮迭代需要运行的操作。\n",
    "        x = tf.placeholder(tf.float32, [None, mnist_inference.INPUT_NODE], name='x-input')\n",
    "        y_ = tf.placeholder(tf.float32, [None, mnist_inference.OUTPUT_NODE], name='y-input')\n",
    "        global_step, loss, train_op = build_model(x, y_, is_chief)\n",
    "\n",
    "        # 定义用于保存模型的saver。\n",
    "        saver = tf.train.Saver()\n",
    "        # 定义日志输出操作。\n",
    "        summary_op = tf.summary.merge_all()\n",
    "        # 定义变量初始化操作。\n",
    "        init_op = tf.global_variables_initializer()\n",
    "        # 通过tf.train.Supervisor管理训练深度学习模型时的通用功能。\n",
    "        sv = tf.train.Supervisor(\n",
    "            is_chief=is_chief,\n",
    "            logdir=MODEL_SAVE_PATH,\n",
    "            init_op=init_op,\n",
    "            summary_op=summary_op,\n",
    "            saver=saver,\n",
    "            global_step=global_step,\n",
    "            save_model_secs=60,\n",
    "            save_summaries_secs=60)\n",
    "\n",
    "        sess_config = tf.ConfigProto(allow_soft_placement=True, log_device_placement=False)\n",
    "        # 通过tf.train.Supervisor生成会话。\n",
    "        sess = sv.prepare_or_wait_for_session(server.target, config=sess_config)\n",
    "\n",
    "        step = 0\n",
    "        start_time = time.time()\n",
    "\n",
    "        # 执行迭代过程。\n",
    "        while not sv.should_stop():\n",
    "            xs, ys = mnist.train.next_batch(BATCH_SIZE)\n",
    "            _, loss_value, global_step_value = sess.run([train_op, loss, global_step], feed_dict={x: xs, y_: ys})\n",
    "            if global_step_value >= TRAINING_STEPS: break\n",
    "\n",
    "           # 每隔一段时间输出训练信息。\n",
    "            if step > 0 and step % 100 == 0:\n",
    "                duration = time.time() - start_time\n",
    "                sec_per_batch = duration / global_step_value\n",
    "                format_str = \"After %d training steps (%d global steps), loss on training batch is %g.  (%.3f sec/batch)\"\n",
    "                print(format_str % (step, global_step_value, loss_value, sec_per_batch))\n",
    "            step += 1\n",
    "    sv.stop()\n",
    "\n",
    "if __name__ == \"__main__\":\n",
    "    tf.app.run()"
   ]
  },
  {
   "cell_type": "markdown",
   "metadata": {},
   "source": [
    "### tensorflow debugger"
   ]
  },
  {
   "cell_type": "markdown",
   "metadata": {},
   "source": [
    "import argparse\n",
    "parse = argparse.ArgumentParser()\n",
    "parse.add_argument(\"a\", help=\"params means\")\n",
    "parse.add_argument(\"-C\", \"--gc\", default=\"count\")\n",
    "parse.add_argument(\"--ga\", help=\"params means ga\",dest='simple_value',choices=['A', 'B', 'C', 0])\n",
    "parse.add_argument(\"--gb\", help=\"params means gb\",action=\"store_const\",const='value-to-store')\n",
    "args = parse.parse_args()\n",
    "print args.simple_value,args.gb,args.gc\n",
    "\n",
    "### add_argument 说明\n",
    "不带'--'的参数\n",
    "    调用脚本时必须输入值\n",
    "    参数输入的顺序与程序中定义的顺序一致\n",
    "'-'的参数\n",
    "    可不输入    add_argument(\"-a\")\n",
    "    类似有'--'的shortname，但程序中的变量名为定义的参数名\n",
    "'--'参数\n",
    "    参数别名: 只能是1个字符，区分大小写\n",
    "        add_argument(\"-shortname\",\"--name\", help=\"params means\")，但代码中不能使用shortname\n",
    "    dest: 参数在程序中对应的变量名称 add_argument(\"a\",dest='code_name')\n",
    "    default: 参数默认值\n",
    "    help: 参数作用解释  add_argument(\"a\", help=\"params means\")\n",
    "    type : 默认string  add_argument(\"c\", type=int)\n",
    "    action:\n",
    "    store：默认action模式，存储值到指定变量。\n",
    "    store_const：存储值在参数的const部分指定，多用于实现非布尔的命令行flag。\n",
    "    store_true / store_false：布尔开关。 store_true.默认为False，输入则为true。 store_flase 相反\n",
    "    append：存储值到列表，该参数可以重复使用。\n",
    "    append_const：存储值到列表，存储值在参数的const部分指定。\n",
    "    count: 统计参数简写输入的个数  add_argument(\"-c\", \"--gc\", action=\"count\")\n",
    "    version 输出版本信息然后退出。\n",
    "    const:配合action=\"store_const|append_const\"使用，默认值\n",
    "    choices:输入值的范围 add_argument(\"--gb\", choices=['A', 'B', 'C', 0])\n",
    "    required : 默认False, 若为 True, 表示必须输入该参数"
   ]
  },
  {
   "cell_type": "markdown",
   "metadata": {},
   "source": [
    "### 实际执行具体的训练，测试及日志记录的操作  \n",
    "\"\"\" \n",
    "首先，使用tf.train.Saver()创建模型的保存器。 \n",
    "然后，进入训练的循环中，每隔10步执行一次merged（数据汇总），accuracy（求测试集上的预测准确率）操作， \n",
    "并使应test_write.add_summary将汇总结果summary和循环步数i写入日志文件; \n",
    "同时每隔100步，使用tf.RunOption定义Tensorflow运行选项，其中设置trace_level为FULL——TRACE, \n",
    "并使用tf.RunMetadata()定义Tensorflow运行的元信息， \n",
    "这样可以记录训练是运算时间和内存占用等方面的信息. \n",
    "再执行merged数据汇总操作和train_step训练操作，将汇总summary和训练元信息run_metadata添加到train_writer. \n",
    "平时，则执行merged操作和train_step操作，并添加summary到trian_writer。 \n",
    "所有训练全部结束后，关闭train_writer和test_writer。 "
   ]
  },
  {
   "cell_type": "code",
   "execution_count": null,
   "metadata": {
    "collapsed": true
   },
   "outputs": [],
   "source": [
    "for i in range(FLAGS.max_steps):\n",
    "        if i % 10 == 0:  # Record summaries and test-set accuracy\n",
    "            summary, acc = sess.run([merged, accuracy], feed_dict=feed_dict(False))\n",
    "            test_writer.add_summary(summary, i)\n",
    "            print('Accuracy at step %s: %s' % (i, acc))\n",
    "        else:  # Record train set summaries, and train\n",
    "            if i % 100 == 99:  # Record execution stats\n",
    "                run_options = tf.RunOptions(trace_level=tf.RunOptions.FULL_TRACE)\n",
    "                run_metadata = tf.RunMetadata()\n",
    "                summary, _ = sess.run([merged, train_step],\n",
    "                                      feed_dict=feed_dict(True),\n",
    "                                      options=run_options,\n",
    "                                      run_metadata=run_metadata)\n",
    "                train_writer.add_run_metadata(run_metadata, 'step%03d' % i)\n",
    "                train_writer.add_summary(summary, i)\n",
    "                print('Adding run metadata for', i)\n",
    "            else:  # Record a summary\n",
    "                summary, _ = sess.run([merged, train_step], feed_dict=feed_dict(True))\n",
    "                train_writer.add_summary(summary, i)\n",
    "    train_writer.close()\n",
    "    test_writer.close()\n",
    "\n",
    "\n",
    "def main(_):\n",
    "    if tf.gfile.Exists(FLAGS.log_dir):\n",
    "        tf.gfile.DeleteRecursively(FLAGS.log_dir)\n",
    "    tf.gfile.MakeDirs(FLAGS.log_dir)\n",
    "    train()\n",
    "\n",
    "\n",
    "if __name__ == '__main__':\n",
    "    parser = argparse.ArgumentParser()\n",
    "    parser.add_argument('--fake_data', nargs='?', const=True, type=bool,\n",
    "                        default=False,\n",
    "                        help='If true, uses fake data for unit testing.')\n",
    "    parser.add_argument('--max_steps', type=int, default=1000,\n",
    "                        help='Number of steps to run trainer.')\n",
    "    parser.add_argument('--learning_rate', type=float, default=0.001,\n",
    "                        help='Initial learning rate')\n",
    "    parser.add_argument('--dropout', type=float, default=0.9,\n",
    "                        help='Keep probability for training dropout.')\n",
    "    parser.add_argument(\n",
    "        '--data_dir',\n",
    "        type=str,\n",
    "        default='/tmp/tensorflow/mnist/input_data',\n",
    "        help='Directory for storing input data')\n",
    "    parser.add_argument(\n",
    "        '--log_dir',\n",
    "        type=str,\n",
    "        default='/tmp/tensorflow/mnist/logs/mnist_with_summaries',\n",
    "        help='Summaries log directory')\n",
    "    FLAGS, unparsed = parser.parse_known_args()\n",
    "    tf.app.run(main=main, argv=[sys.argv[0]] + unparsed)\n"
   ]
  }
 ],
 "metadata": {
  "anaconda-cloud": {},
  "kernelspec": {
   "display_name": "Python [Root]",
   "language": "python",
   "name": "Python [Root]"
  },
  "language_info": {
   "codemirror_mode": {
    "name": "ipython",
    "version": 3
   },
   "file_extension": ".py",
   "mimetype": "text/x-python",
   "name": "python",
   "nbconvert_exporter": "python",
   "pygments_lexer": "ipython3",
   "version": "3.5.1"
  }
 },
 "nbformat": 4,
 "nbformat_minor": 0
}
