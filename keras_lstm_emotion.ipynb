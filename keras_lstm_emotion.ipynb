{
 "cells": [
  {
   "cell_type": "code",
   "execution_count": 29,
   "metadata": {
    "collapsed": false
   },
   "outputs": [],
   "source": [
    "import pandas as pd #导入Pandas\n",
    "import numpy as np #导入Numpy\n",
    "import jieba #导入结巴分词\n",
    "\n",
    "from keras.preprocessing import sequence\n",
    "from keras.optimizers import SGD, RMSprop, Adagrad\n",
    "from keras.utils import np_utils\n",
    "from keras.models import Sequential\n",
    "from keras.layers.core import Dense, Dropout, Activation\n",
    "from keras.layers.embeddings import Embedding\n",
    "from keras.layers.recurrent import LSTM, GRU\n",
    "\n",
    "from __future__ import absolute_import #导入3.x的特征函数\n",
    "from __future__ import print_function"
   ]
  },
  {
   "cell_type": "code",
   "execution_count": 30,
   "metadata": {
    "collapsed": true
   },
   "outputs": [],
   "source": [
    "neg=pd.read_excel('E:/machine_data/text_emotion/neg.xls',header=None,index=None)\n",
    "pos=pd.read_excel('E:/machine_data/text_emotion/pos.xls',header=None,index=None) #读取训练语料完毕"
   ]
  },
  {
   "cell_type": "code",
   "execution_count": 31,
   "metadata": {
    "collapsed": false
   },
   "outputs": [
    {
     "name": "stdout",
     "output_type": "stream",
     "text": [
      "(10428, 1)\n",
      "                                                   0\n",
      "1  作者有明显的自恋倾向，只有有老公养不上班的太太们才能像她那样生活。很多方法都不实用，还有抄袭...\n",
      "2  作者完全是以一个过来的自认为是成功者的角度去写这个问题，感觉很不客观。虽然不是很喜欢，但是，...\n",
      "3       作者提倡内调，不信任化妆品，这点赞同。但是所列举的方法太麻烦，配料也不好找。不是太实用。\n"
     ]
    }
   ],
   "source": [
    "print (neg.shape)\n",
    "print (neg[1:4])"
   ]
  },
  {
   "cell_type": "code",
   "execution_count": 32,
   "metadata": {
    "collapsed": false
   },
   "outputs": [
    {
     "data": {
      "text/plain": [
       "Int64Index([0], dtype='int64')"
      ]
     },
     "execution_count": 32,
     "metadata": {},
     "output_type": "execute_result"
    }
   ],
   "source": [
    "neg.columns"
   ]
  },
  {
   "cell_type": "code",
   "execution_count": 33,
   "metadata": {
    "collapsed": true
   },
   "outputs": [],
   "source": [
    "pos['mark']=1\n",
    "neg['mark']=0 #给训练语料贴上标签"
   ]
  },
  {
   "cell_type": "code",
   "execution_count": 34,
   "metadata": {
    "collapsed": false
   },
   "outputs": [
    {
     "name": "stdout",
     "output_type": "stream",
     "text": [
      "(10428, 2)\n",
      "                                                   0  mark\n",
      "1  作者有明显的自恋倾向，只有有老公养不上班的太太们才能像她那样生活。很多方法都不实用，还有抄袭...     0\n",
      "2  作者完全是以一个过来的自认为是成功者的角度去写这个问题，感觉很不客观。虽然不是很喜欢，但是，...     0\n",
      "3       作者提倡内调，不信任化妆品，这点赞同。但是所列举的方法太麻烦，配料也不好找。不是太实用。     0\n"
     ]
    }
   ],
   "source": [
    "print (neg.shape)\n",
    "print (neg[1:4])"
   ]
  },
  {
   "cell_type": "code",
   "execution_count": 35,
   "metadata": {
    "collapsed": false
   },
   "outputs": [
    {
     "name": "stdout",
     "output_type": "stream",
     "text": [
      "(10677, 2)\n"
     ]
    }
   ],
   "source": [
    "print (pos.shape)"
   ]
  },
  {
   "cell_type": "code",
   "execution_count": 36,
   "metadata": {
    "collapsed": true
   },
   "outputs": [],
   "source": [
    "pn=pd.concat([pos,neg],ignore_index=True) #合并语料\n",
    "neglen=len(neg)\n",
    "poslen=len(pos) #计算语料数目"
   ]
  },
  {
   "cell_type": "code",
   "execution_count": 37,
   "metadata": {
    "collapsed": false
   },
   "outputs": [
    {
     "name": "stdout",
     "output_type": "stream",
     "text": [
      "                                                   0  mark\n",
      "1  作者真有英国人严谨的风格，提出观点、进行论述论证，尽管本人对物理学了解不深，但是仍然能感受到...     1\n",
      "2  作者长篇大论借用详细报告数据处理工作和计算结果支持其新观点。为什么荷兰曾经县有欧洲最高的生产...     1\n"
     ]
    }
   ],
   "source": [
    "print (pn[1:3])"
   ]
  },
  {
   "cell_type": "code",
   "execution_count": 38,
   "metadata": {
    "collapsed": false,
    "scrolled": false
   },
   "outputs": [
    {
     "name": "stdout",
     "output_type": "stream",
     "text": [
      "(21105, 2)\n",
      "1    作者真有英国人严谨的风格，提出观点、进行论述论证，尽管本人对物理学了解不深，但是仍然能感受到...\n",
      "2    作者长篇大论借用详细报告数据处理工作和计算结果支持其新观点。为什么荷兰曾经县有欧洲最高的生产...\n",
      "Name: 0, dtype: object\n",
      "1    1\n",
      "2    1\n",
      "Name: mark, dtype: int64\n"
     ]
    }
   ],
   "source": [
    "print (pn.shape)\n",
    "print (pn[0][1:3])\n",
    "print (pn['mark'][1:3])"
   ]
  },
  {
   "cell_type": "code",
   "execution_count": 39,
   "metadata": {
    "collapsed": false
   },
   "outputs": [],
   "source": [
    "cw = lambda x: list(jieba.cut(x)) #定义分词函数\n",
    "pn['words'] = pn[0].apply(cw)"
   ]
  },
  {
   "cell_type": "code",
   "execution_count": 40,
   "metadata": {
    "collapsed": false,
    "scrolled": true
   },
   "outputs": [
    {
     "name": "stdout",
     "output_type": "stream",
     "text": [
      "                                                   0  mark  \\\n",
      "1  作者真有英国人严谨的风格，提出观点、进行论述论证，尽管本人对物理学了解不深，但是仍然能感受到...     1   \n",
      "2  作者长篇大论借用详细报告数据处理工作和计算结果支持其新观点。为什么荷兰曾经县有欧洲最高的生产...     1   \n",
      "\n",
      "                                               words  \n",
      "1  [作者, 真有, 英国人, 严谨, 的, 风格, ，, 提出, 观点, 、, 进行, 论述,...  \n",
      "2  [作者, 长篇大论, 借用, 详细, 报告, 数据处理, 工作, 和, 计算结果, 支持, ...  \n"
     ]
    }
   ],
   "source": [
    "print (pn[1:3])"
   ]
  },
  {
   "cell_type": "code",
   "execution_count": 41,
   "metadata": {
    "collapsed": true
   },
   "outputs": [],
   "source": [
    "#语料库\n",
    "comment = pd.read_excel('E:/machine_data/text_emotion/sum.xls') #读入评论内容\n",
    "#comment = pd.read_csv('a.csv', encoding='utf-8')\n",
    "comment = comment[comment['rateContent'].notnull()] #仅读取非空评论\n",
    "comment['words'] = comment['rateContent'].apply(cw) #评论分词 "
   ]
  },
  {
   "cell_type": "code",
   "execution_count": 42,
   "metadata": {
    "collapsed": false,
    "scrolled": true
   },
   "outputs": [
    {
     "data": {
      "text/html": [
       "<div>\n",
       "<table border=\"1\" class=\"dataframe\">\n",
       "  <thead>\n",
       "    <tr style=\"text-align: right;\">\n",
       "      <th></th>\n",
       "      <th>aliMallSeller</th>\n",
       "      <th>anony</th>\n",
       "      <th>appendComment</th>\n",
       "      <th>attributes</th>\n",
       "      <th>auctionSku</th>\n",
       "      <th>buyCount</th>\n",
       "      <th>carServiceLocation</th>\n",
       "      <th>cmsSource</th>\n",
       "      <th>displayRatePic</th>\n",
       "      <th>displayRateSum</th>\n",
       "      <th>...</th>\n",
       "      <th>Unnamed: 69</th>\n",
       "      <th>Unnamed: 70</th>\n",
       "      <th>Unnamed: 71</th>\n",
       "      <th>Unnamed: 72</th>\n",
       "      <th>Unnamed: 73</th>\n",
       "      <th>Unnamed: 74</th>\n",
       "      <th>Unnamed: 75</th>\n",
       "      <th>Unnamed: 76</th>\n",
       "      <th>Unnamed: 77</th>\n",
       "      <th>words</th>\n",
       "    </tr>\n",
       "  </thead>\n",
       "  <tbody>\n",
       "    <tr>\n",
       "      <th>323</th>\n",
       "      <td>False</td>\n",
       "      <td>True</td>\n",
       "      <td>NaN</td>\n",
       "      <td>NaN</td>\n",
       "      <td>颜色分类:白色</td>\n",
       "      <td>0</td>\n",
       "      <td>NaN</td>\n",
       "      <td>天猫</td>\n",
       "      <td>b_red_2.gif</td>\n",
       "      <td>27</td>\n",
       "      <td>...</td>\n",
       "      <td>NaN</td>\n",
       "      <td>NaN</td>\n",
       "      <td>NaN</td>\n",
       "      <td>NaN</td>\n",
       "      <td>NaN</td>\n",
       "      <td>NaN</td>\n",
       "      <td>NaN</td>\n",
       "      <td>NaN</td>\n",
       "      <td>NaN</td>\n",
       "      <td>[还, 没用, 呢, 过, 几天, 在, 追加, 评价]</td>\n",
       "    </tr>\n",
       "    <tr>\n",
       "      <th>324</th>\n",
       "      <td>False</td>\n",
       "      <td>True</td>\n",
       "      <td>NaN</td>\n",
       "      <td>NaN</td>\n",
       "      <td>颜色分类:白色</td>\n",
       "      <td>0</td>\n",
       "      <td>NaN</td>\n",
       "      <td>天猫</td>\n",
       "      <td>b_red_1.gif</td>\n",
       "      <td>6</td>\n",
       "      <td>...</td>\n",
       "      <td>NaN</td>\n",
       "      <td>NaN</td>\n",
       "      <td>NaN</td>\n",
       "      <td>NaN</td>\n",
       "      <td>NaN</td>\n",
       "      <td>NaN</td>\n",
       "      <td>NaN</td>\n",
       "      <td>NaN</td>\n",
       "      <td>NaN</td>\n",
       "      <td>[看, 产品, 很, 好, ，, 用, 起来, 比较, 方便, ，, 给, 好评]</td>\n",
       "    </tr>\n",
       "  </tbody>\n",
       "</table>\n",
       "<p>2 rows × 79 columns</p>\n",
       "</div>"
      ],
      "text/plain": [
       "    aliMallSeller anony appendComment attributes auctionSku buyCount  \\\n",
       "323         False  True           NaN        NaN    颜色分类:白色        0   \n",
       "324         False  True           NaN        NaN    颜色分类:白色        0   \n",
       "\n",
       "     carServiceLocation cmsSource displayRatePic displayRateSum  \\\n",
       "323                 NaN        天猫    b_red_2.gif             27   \n",
       "324                 NaN        天猫    b_red_1.gif              6   \n",
       "\n",
       "                       ...                      Unnamed: 69 Unnamed: 70  \\\n",
       "323                    ...                              NaN         NaN   \n",
       "324                    ...                              NaN         NaN   \n",
       "\n",
       "    Unnamed: 71  Unnamed: 72  Unnamed: 73 Unnamed: 74 Unnamed: 75  \\\n",
       "323         NaN          NaN          NaN         NaN         NaN   \n",
       "324         NaN          NaN          NaN         NaN         NaN   \n",
       "\n",
       "     Unnamed: 76  Unnamed: 77                                      words  \n",
       "323          NaN          NaN               [还, 没用, 呢, 过, 几天, 在, 追加, 评价]  \n",
       "324          NaN          NaN  [看, 产品, 很, 好, ，, 用, 起来, 比较, 方便, ，, 给, 好评]  \n",
       "\n",
       "[2 rows x 79 columns]"
      ]
     },
     "execution_count": 42,
     "metadata": {},
     "output_type": "execute_result"
    }
   ],
   "source": [
    "comment[1:3]"
   ]
  },
  {
   "cell_type": "code",
   "execution_count": 43,
   "metadata": {
    "collapsed": false
   },
   "outputs": [
    {
     "name": "stdout",
     "output_type": "stream",
     "text": [
      "323         还没用呢过几天在追加评价\n",
      "324    看产品很好，用起来比较方便，给好评\n",
      "Name: rateContent, dtype: object\n"
     ]
    }
   ],
   "source": [
    "print (comment['rateContent'][1:3])"
   ]
  },
  {
   "cell_type": "code",
   "execution_count": 55,
   "metadata": {
    "collapsed": true
   },
   "outputs": [],
   "source": [
    "d2v_train = pd.concat([pn['words'], comment['words']], ignore_index = True) \n",
    "\n",
    "w = [] #将所有词语整合在一起\n",
    "for i in d2v_train:\n",
    "    w.extend(i)"
   ]
  },
  {
   "cell_type": "code",
   "execution_count": 56,
   "metadata": {
    "collapsed": false
   },
   "outputs": [
    {
     "name": "stdout",
     "output_type": "stream",
     "text": [
      "1    [作者, 真有, 英国人, 严谨, 的, 风格, ，, 提出, 观点, 、, 进行, 论述,...\n",
      "2    [作者, 长篇大论, 借用, 详细, 报告, 数据处理, 工作, 和, 计算结果, 支持, ...\n",
      "3    [作者, 在, 战, 几时, 之前, 用, 了, ＂, 拥抱, ＂, 令人, 叫绝, ．, ...\n",
      "4    [作者, 在, 少年, 时即, 喜, 阅读, ，, 能, 看出, 他, 精读, 了, 无数,...\n",
      "Name: words, dtype: object\n",
      "['父母', '一定', '要']\n"
     ]
    }
   ],
   "source": [
    "print (d2v_train[1:5])\n",
    "print (w[1:4])"
   ]
  },
  {
   "cell_type": "code",
   "execution_count": 57,
   "metadata": {
    "collapsed": false
   },
   "outputs": [
    {
     "name": "stdout",
     "output_type": "stream",
     "text": [
      "        0\n",
      "，  131885\n",
      "的   85960\n",
      "。   49352\n",
      "        0  id\n",
      "，  131885   1\n",
      "的   85960   2\n",
      "。   49352   3\n"
     ]
    }
   ],
   "source": [
    "dict = pd.DataFrame(pd.Series(w).value_counts()) #统计词的出现次数\n",
    "print (dict[0:3])\n",
    "del w,d2v_train\n",
    "dict['id']=list(range(1,len(dict)+1))\n",
    "print (dict[0:3])"
   ]
  },
  {
   "cell_type": "code",
   "execution_count": 68,
   "metadata": {
    "collapsed": true
   },
   "outputs": [],
   "source": [
    "get_sent = lambda x: list(dict['id'][x])\n",
    "pn['sent'] = pn['words'].apply(get_sent) #速度太慢"
   ]
  },
  {
   "cell_type": "code",
   "execution_count": 69,
   "metadata": {
    "collapsed": false
   },
   "outputs": [
    {
     "name": "stdout",
     "output_type": "stream",
     "text": [
      "，    1\n",
      "的    2\n",
      "。    3\n",
      "Name: id, dtype: int64\n",
      "0    [151, 521, 266, 45, 18, 14529, 97, 2, 1787, 1,...\n",
      "1    [146, 4028, 22742, 2860, 2, 838, 1, 736, 793, ...\n",
      "2    [146, 7681, 5540, 1045, 4619, 18766, 364, 23, ...\n",
      "Name: sent, dtype: object\n"
     ]
    }
   ],
   "source": [
    "print (dict['id'][0:3])\n",
    "print (pn['sent'][0:3])"
   ]
  },
  {
   "cell_type": "code",
   "execution_count": 70,
   "metadata": {
    "collapsed": false
   },
   "outputs": [
    {
     "data": {
      "text/plain": [
       "(21105,)"
      ]
     },
     "execution_count": 70,
     "metadata": {},
     "output_type": "execute_result"
    }
   ],
   "source": [
    "pn['sent'].shape"
   ]
  },
  {
   "cell_type": "code",
   "execution_count": 71,
   "metadata": {
    "collapsed": false
   },
   "outputs": [
    {
     "name": "stdout",
     "output_type": "stream",
     "text": [
      "Pad sequences (samples x time)\n"
     ]
    }
   ],
   "source": [
    "maxlen = 50 #截取50\n",
    "\n",
    "print(\"Pad sequences (samples x time)\")\n",
    "pn['sent'] = list(sequence.pad_sequences(pn['sent'], maxlen=maxlen))"
   ]
  },
  {
   "cell_type": "code",
   "execution_count": 74,
   "metadata": {
    "collapsed": false
   },
   "outputs": [
    {
     "name": "stdout",
     "output_type": "stream",
     "text": [
      "(50,)\n",
      "0    [23, 5254, 872, 1229, 11, 5, 356, 9965, 1, 327...\n",
      "1    [138, 11327, 4, 1635, 2872, 1, 258, 1364, 2235...\n",
      "2    [905, 182, 13, 1025, 1119, 50, 1489, 2703, 2, ...\n",
      "Name: sent, dtype: object\n"
     ]
    }
   ],
   "source": [
    "print (pn['sent'][0].shape)\n",
    "print (pn['sent'][0:3])"
   ]
  },
  {
   "cell_type": "code",
   "execution_count": 80,
   "metadata": {
    "collapsed": false
   },
   "outputs": [
    {
     "name": "stdout",
     "output_type": "stream",
     "text": [
      "Build model...\n"
     ]
    },
    {
     "name": "stderr",
     "output_type": "stream",
     "text": [
      "D:\\anaconda1\\lib\\site-packages\\keras\\models.py:837: UserWarning: The `nb_epoch` argument in `fit` has been renamed `epochs`.\n",
      "  warnings.warn('The `nb_epoch` argument in `fit` '\n",
      "D:\\anaconda1\\lib\\site-packages\\keras\\backend\\tensorflow_backend.py:2250: UserWarning: Expected no kwargs, you passed 1\n",
      "kwargs passed to function are ignored with Tensorflow backend\n",
      "  warnings.warn('\\n'.join(msg))\n"
     ]
    },
    {
     "name": "stdout",
     "output_type": "stream",
     "text": [
      "Epoch 1/10\n",
      "21105/21105 [==============================] - 420s - loss: 0.3596   \n",
      "Epoch 2/10\n",
      "21105/21105 [==============================] - 420s - loss: 0.1438   \n",
      "Epoch 3/10\n",
      "21105/21105 [==============================] - 430s - loss: 0.0730   \n",
      "Epoch 4/10\n",
      "21105/21105 [==============================] - 413s - loss: 0.0374   \n",
      "Epoch 5/10\n",
      "21105/21105 [==============================] - 419s - loss: 0.0295   \n",
      "Epoch 6/10\n",
      "21105/21105 [==============================] - 424s - loss: 0.0209   \n",
      "Epoch 7/10\n",
      "21105/21105 [==============================] - 420s - loss: 0.0132   \n",
      "Epoch 8/10\n",
      "21105/21105 [==============================] - 419s - loss: 0.0121   \n",
      "Epoch 9/10\n",
      "21105/21105 [==============================] - 420s - loss: 0.0068   \n",
      "Epoch 10/10\n",
      "21105/21105 [==============================] - 415s - loss: 0.0072   \n",
      "21056/21105 [============================>.] - ETA: 0s"
     ]
    },
    {
     "ename": "AttributeError",
     "evalue": "module 'keras.utils.np_utils' has no attribute 'accuracy'",
     "output_type": "error",
     "traceback": [
      "\u001b[1;31m---------------------------------------------------------------------------\u001b[0m",
      "\u001b[1;31mAttributeError\u001b[0m                            Traceback (most recent call last)",
      "\u001b[1;32m<ipython-input-80-9b71c5037316>\u001b[0m in \u001b[0;36m<module>\u001b[1;34m()\u001b[0m\n\u001b[0;32m     19\u001b[0m \u001b[1;33m\u001b[0m\u001b[0m\n\u001b[0;32m     20\u001b[0m \u001b[0mclasses\u001b[0m \u001b[1;33m=\u001b[0m \u001b[0mmodel\u001b[0m\u001b[1;33m.\u001b[0m\u001b[0mpredict_classes\u001b[0m\u001b[1;33m(\u001b[0m\u001b[0mxa\u001b[0m\u001b[1;33m)\u001b[0m\u001b[1;33m\u001b[0m\u001b[0m\n\u001b[1;32m---> 21\u001b[1;33m \u001b[0macc\u001b[0m \u001b[1;33m=\u001b[0m \u001b[0mnp_utils\u001b[0m\u001b[1;33m.\u001b[0m\u001b[0maccuracy\u001b[0m\u001b[1;33m(\u001b[0m\u001b[0mclasses\u001b[0m\u001b[1;33m,\u001b[0m \u001b[0mya\u001b[0m\u001b[1;33m)\u001b[0m\u001b[1;33m\u001b[0m\u001b[0m\n\u001b[0m\u001b[0;32m     22\u001b[0m \u001b[0mprint\u001b[0m\u001b[1;33m(\u001b[0m\u001b[1;34m'Test accuracy:'\u001b[0m\u001b[1;33m,\u001b[0m \u001b[0macc\u001b[0m\u001b[1;33m)\u001b[0m\u001b[1;33m\u001b[0m\u001b[0m\n",
      "\u001b[1;31mAttributeError\u001b[0m: module 'keras.utils.np_utils' has no attribute 'accuracy'"
     ]
    }
   ],
   "source": [
    "x = np.array(list(pn['sent']))[::2] #训练集\n",
    "y = np.array(list(pn['mark']))[::2]\n",
    "xt = np.array(list(pn['sent']))[1::2] #测试集\n",
    "yt = np.array(list(pn['mark']))[1::2]\n",
    "xa = np.array(list(pn['sent'])) #全集\n",
    "ya = np.array(list(pn['mark']))\n",
    "\n",
    "print('Build model...')\n",
    "model = Sequential()\n",
    "model.add(Embedding(len(dict)+1, 256))\n",
    "model.add(LSTM(128)) # try using a GRU instead, for fun\n",
    "model.add(Dropout(0.5))\n",
    "model.add(Dense(1))\n",
    "model.add(Activation('sigmoid'))\n",
    "\n",
    "model.compile(loss='binary_crossentropy', optimizer='adam', class_mode=\"binary\")\n",
    "\n",
    "model.fit(xa, ya, batch_size=16, nb_epoch=10) #训练时间为若干个小时\n",
    "\n",
    "classes = model.predict_classes(xa)\n",
    "acc = np_utils.accuracy(classes, ya)\n",
    "print('Test accuracy:', acc)"
   ]
  },
  {
   "cell_type": "code",
   "execution_count": 75,
   "metadata": {
    "collapsed": false
   },
   "outputs": [
    {
     "data": {
      "text/plain": [
       "[1, 3, 5]"
      ]
     },
     "execution_count": 75,
     "metadata": {},
     "output_type": "execute_result"
    }
   ],
   "source": [
    "a=[1,2,3,4,5,6]\n",
    "a[::2]"
   ]
  },
  {
   "cell_type": "code",
   "execution_count": 76,
   "metadata": {
    "collapsed": false
   },
   "outputs": [
    {
     "data": {
      "text/plain": [
       "[2, 4, 6]"
      ]
     },
     "execution_count": 76,
     "metadata": {},
     "output_type": "execute_result"
    }
   ],
   "source": [
    "a[1::2]"
   ]
  },
  {
   "cell_type": "code",
   "execution_count": 83,
   "metadata": {
    "collapsed": false
   },
   "outputs": [
    {
     "name": "stdout",
     "output_type": "stream",
     "text": [
      "21105/21105 [==============================] - 15s    \n"
     ]
    }
   ],
   "source": [
    "score = model.evaluate(xa, ya)"
   ]
  },
  {
   "cell_type": "code",
   "execution_count": 84,
   "metadata": {
    "collapsed": false
   },
   "outputs": [
    {
     "name": "stdout",
     "output_type": "stream",
     "text": [
      "0.00597528860014\n"
     ]
    }
   ],
   "source": [
    "print (score)"
   ]
  },
  {
   "cell_type": "code",
   "execution_count": 85,
   "metadata": {
    "collapsed": false
   },
   "outputs": [
    {
     "name": "stdout",
     "output_type": "stream",
     "text": [
      "[[1]\n",
      " [1]\n",
      " [1]\n",
      " ..., \n",
      " [0]\n",
      " [0]\n",
      " [0]]\n",
      "[1 1 1 ..., 0 0 0]\n"
     ]
    }
   ],
   "source": [
    "print (classes)\n",
    "print (ya)"
   ]
  },
  {
   "cell_type": "code",
   "execution_count": 88,
   "metadata": {
    "collapsed": true
   },
   "outputs": [],
   "source": [
    "c=0\n",
    "for i in range(len(ya)):\n",
    "    if classes[i]==ya[i]:\n",
    "        c=c+1\n",
    "score=c/len(ya)"
   ]
  },
  {
   "cell_type": "code",
   "execution_count": 90,
   "metadata": {
    "collapsed": false
   },
   "outputs": [
    {
     "name": "stdout",
     "output_type": "stream",
     "text": [
      "0.9987206823027719\n",
      "21105\n",
      "21078\n"
     ]
    }
   ],
   "source": [
    "print(score)\n",
    "print (len(ya))\n",
    "print(c)"
   ]
  },
  {
   "cell_type": "code",
   "execution_count": null,
   "metadata": {
    "collapsed": true
   },
   "outputs": [],
   "source": []
  }
 ],
 "metadata": {
  "anaconda-cloud": {},
  "kernelspec": {
   "display_name": "Python [Root]",
   "language": "python",
   "name": "Python [Root]"
  },
  "language_info": {
   "codemirror_mode": {
    "name": "ipython",
    "version": 3
   },
   "file_extension": ".py",
   "mimetype": "text/x-python",
   "name": "python",
   "nbconvert_exporter": "python",
   "pygments_lexer": "ipython3",
   "version": "3.5.1"
  }
 },
 "nbformat": 4,
 "nbformat_minor": 0
}
