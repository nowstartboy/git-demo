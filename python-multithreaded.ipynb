{
 "cells": [
  {
   "cell_type": "code",
   "execution_count": 1,
   "metadata": {
    "collapsed": true
   },
   "outputs": [],
   "source": [
    "import _thread as thread"
   ]
  },
  {
   "cell_type": "markdown",
   "metadata": {},
   "source": [
    "不建议使用 thread 模块。给出这个建议有很多原因，其中最明显的一个原因是在主线程退出之后，所有 其他线程都会在没有清理的情况下直接退出。而另一个模块 threading 会确保在所有“重要的” 子线程退出前，保持整个进程的存活（对于“重要的”这个含义的说明，请阅读下面的核心 提示：“避免使用 thread 模块”）。"
   ]
  },
  {
   "cell_type": "markdown",
   "metadata": {},
   "source": [
    "Python 提供了多个模块来支持多线程编程，包括 thread、threading 和 Queue 模块等。程序是可以使用 thread 和 threading 模块来创建与管理线程。\n",
    "thread 模块提供了基本的线程和锁 定支持；\n",
    "而threading 模块提供了更高级别、功能更全面的线程管理。\n",
    "使用 Queue 模块，用户 可以创建一个队列数据结构，用于在多线程之间进行共享"
   ]
  },
  {
   "cell_type": "markdown",
   "metadata": {},
   "source": [
    "### thread 模块和锁对象 "
   ]
  },
  {
   "cell_type": "code",
   "execution_count": null,
   "metadata": {
    "collapsed": true
   },
   "outputs": [],
   "source": [
    "thread 模块的函数 \n",
    "start_new_thread (function, args, kwargs=None) 派生一个新的线程，使用给定的 args 和可选的 kwargs 来执行 function \n",
    "allocate_lock() 分配 LockType 锁对象 \n",
    "exit() 给线程退出指令 \n",
    "\n",
    "LockType 锁对象的方法 \n",
    "acquire (wait=None) 尝试获取锁对象 \n",
    "locked () 如果获取了锁对象则返回 True，否则，返回 False \n",
    "release () 释放锁  "
   ]
  },
  {
   "cell_type": "code",
   "execution_count": 2,
   "metadata": {
    "collapsed": false
   },
   "outputs": [
    {
     "name": "stdout",
     "output_type": "stream",
     "text": [
      "starting threads...\n",
      "start loop 0 at: Fri Jul  7 14:34:24 2017\n",
      "start loop 1 at: Fri Jul  7 14:34:24 2017\n",
      "loop 1 done at: Fri Jul  7 14:34:26 2017\n",
      "loop 0 done at: Fri Jul  7 14:34:28 2017\n",
      "all DONE at: Fri Jul  7 14:34:28 2017\n"
     ]
    }
   ],
   "source": [
    "import _thread as thread\n",
    "from time import sleep, ctime\n",
    "\n",
    "loops = [4, 2]\n",
    "\n",
    "def loop(nloop, nsec, lock):\n",
    "    print ('start loop', nloop, 'at:', ctime())\n",
    "    sleep(nsec)\n",
    "    print ('loop', nloop, 'done at:', ctime())\n",
    "    lock.release()\n",
    "\n",
    "def main():\n",
    "    print ('starting threads...')\n",
    "    locks = []\n",
    "    nloops = range(len(loops))\n",
    "\n",
    "    for i in nloops:\n",
    "        lock = thread.allocate_lock()\n",
    "        lock.acquire()\n",
    "        locks.append(lock)\n",
    "\n",
    "    for i in nloops:\n",
    "        thread.start_new_thread(loop, \n",
    "            (i, loops[i], locks[i]))\n",
    "\n",
    "    for i in nloops:\n",
    "        while locks[i].locked(): pass\n",
    "\n",
    "    print ('all DONE at:', ctime())\n",
    "\n",
    "if __name__ == '__main__':\n",
    "    main()"
   ]
  },
  {
   "cell_type": "markdown",
   "metadata": {},
   "source": [
    "在每个线程执行完成时，它会释放自己的锁对象。最后一个循环只是坐在那里等待（暂 停主线程），直到所有锁都被释放之后才会继续执行。因为我们按照顺序检查每个锁，所有可 能会被排在循环列表前面但是执行较慢的循环所拖累。这种情况下，大部分时间是在等待最 前面的循环。当这种线程的锁被释放时，剩下的锁可能早已被释放（也就是说，对应的线程 已经执行完毕）。结果就是主线程会飞快地、没有停顿地完成对剩下锁的检查。最后，你应该 知道只有当我们直接调用这个脚本时，最后几行语句才会执行 main()函数。 "
   ]
  },
  {
   "cell_type": "markdown",
   "metadata": {},
   "source": [
    "### threading 模块 "
   ]
  },
  {
   "cell_type": "markdown",
   "metadata": {},
   "source": [
    "#### threading 模块的对象 "
   ]
  },
  {
   "cell_type": "code",
   "execution_count": null,
   "metadata": {
    "collapsed": true
   },
   "outputs": [],
   "source": [
    "Thread 表示一个执行线程的对象 \n",
    "Lock 锁原语对象（和 thread 模块中的锁一样） \n",
    "RLock 可重入锁对象，使单一线程可以（再次）获得已持有的锁（递归锁） \n",
    "Condition 条件变量对象，使得一个线程等待另一个线程满足特定的“条件”，比如改变状态或 某个数据值 \n",
    "Event 条件变量的通用版本，任意数量的线程等待某个事件的发生，在该事件发生后所有 线程将被激活 \n",
    "Semaphore 为线程间共享的有限资源提供了一个“计数器”，如果没有可用资源时会被阻塞 \n",
    "BoundedSemaphore 与 Semaphore 相似，不过它不允许超过初始值 \n",
    "Timer 与 Thread 相似，不过它要在运行前等待一段时间 \n",
    "Barrier① 创建一个“障碍”，必须达到指定数量的线程后才可以继续 "
   ]
  },
  {
   "cell_type": "markdown",
   "metadata": {},
   "source": [
    "#### Thread 类对象的属性和方法 "
   ]
  },
  {
   "cell_type": "markdown",
   "metadata": {},
   "source": [
    "Thread 对象数据属性 name 线程名 \n",
    "ident 线程的标识符 \n",
    "daemon 布尔标志，表示这个线程是否是守护线程 \n",
    "\n",
    "Thread 对象方法 \n",
    "_init_(group=None, tatget=None, name=None, args=(), kwargs ={}, verbose=None, daemon=None) ③ 实例化一个线程对象，需要有一个可调用的 target，以及其参数 args 或 kwargs。还可以传递 name 或 group 参数，不过后者还未实现。此 外，verbose 标志也是可接受的。而 daemon 的值将会设定 thread.daemon 属性/标志 "
   ]
  },
  {
   "cell_type": "code",
   "execution_count": null,
   "metadata": {
    "collapsed": true
   },
   "outputs": [],
   "source": [
    "start() 开始执行该线程 \n",
    "run() 定义线程功能的方法（通常在子类中被应用开发者重写） \n",
    "join (timeout=None) 直至启动的线程终止之前一直挂起；除非给出了 timeout（秒），否则 会一直阻塞 \n",
    "getName()① 返回线程名 setName (name)① 设定线程名 \n",
    "isAlivel /is_alive ()② 布尔标志，表示这个线程是否还存活 \n",
    "isDaemon()③ 如果是守护线程，则返回 True；否则，返回 False \n",
    "setDaemon(daemonic)③ 把线程的守护标志设定为布尔值 daemonic（必须在线程 start()之前 调用） ① "
   ]
  },
  {
   "cell_type": "markdown",
   "metadata": {},
   "source": [
    "① 该方法已弃用，更好的方式是设置（或获取）thread.name属性，或者在实例化过程中传递该属性。 \n",
    "② 驼峰式命名已经弃用，并且从 Python 2.6 版本起已经开始被取代。 \n",
    "③ is/setDaemon()已经弃用，应当设置 thread.daemon 属性；从 Python 3.3 版本起，也可以通过可选的   daemon 值在实例化过 程中设定 thread.daemon 属性。 "
   ]
  },
  {
   "cell_type": "markdown",
   "metadata": {},
   "source": [
    "使用 Thread 类，可以有很多方法来创建线程：\n",
    "• 创建 Thread 的实例，传给它一个函数。 \n",
    "• 创建 Thread 的实例，传给它一个可调用的类实例。 \n",
    "• 派生 Thread 的子类，并创建子类的实例。 \n",
    "\n",
    "你会发现你将选择第一个或第三个方案。当你需要一个更加符合面向对象的接口时， 会选择后者；否则会选择前者。老实说，你会发现第二种方案显得有些尴尬并且稍微难以 阅读"
   ]
  },
  {
   "cell_type": "markdown",
   "metadata": {},
   "source": [
    "#### 创建 Thread 的实例，传给它一个函数 "
   ]
  },
  {
   "cell_type": "code",
   "execution_count": 3,
   "metadata": {
    "collapsed": false
   },
   "outputs": [
    {
     "name": "stdout",
     "output_type": "stream",
     "text": [
      "starting at: Fri Jul  7 14:51:44 2017\n",
      "start loop 0 at: Fri Jul  7 14:51:44 2017\n",
      "start loop 1 at: Fri Jul  7 14:51:44 2017\n",
      "loop 1 done at: Fri Jul  7 14:51:46 2017\n",
      "loop 0 done at: Fri Jul  7 14:51:48 2017\n",
      "all DONE at: Fri Jul  7 14:51:48 2017\n"
     ]
    }
   ],
   "source": [
    "import threading\n",
    "from time import sleep, ctime\n",
    "\n",
    "loops = [ 4, 2 ]\n",
    "\n",
    "def loop(nloop, nsec):\n",
    "    print ('start loop', nloop, 'at:', ctime())\n",
    "    sleep(nsec)\n",
    "    print ('loop', nloop, 'done at:', ctime())\n",
    "\n",
    "def main():\n",
    "    print ('starting at:', ctime())\n",
    "    threads = []\n",
    "    nloops = range(len(loops))\n",
    "\n",
    "    for i in nloops:\n",
    "        t = threading.Thread(target=loop,\n",
    "\t    args=(i, loops[i]))\n",
    "        threads.append(t)\n",
    "\n",
    "    for i in nloops:            # start threads\n",
    "        threads[i].start()\n",
    "\n",
    "    for i in nloops:            # wait for all\n",
    "        threads[i].join()       # threads to finish\n",
    "\n",
    "    print ('all DONE at:', ctime())\n",
    "\n",
    "if __name__ == '__main__':\n",
    "    main()\n"
   ]
  },
  {
   "cell_type": "markdown",
   "metadata": {},
   "source": [
    "#### 创建 Thread 的实例，传给它一个可调用的类实例 "
   ]
  },
  {
   "cell_type": "code",
   "execution_count": 6,
   "metadata": {
    "collapsed": false
   },
   "outputs": [
    {
     "name": "stdout",
     "output_type": "stream",
     "text": [
      "starting at: Fri Jul  7 15:00:06 2017\n",
      "start loop 0 at: Fri Jul  7 15:00:06 2017\n",
      "start loop 1 at: Fri Jul  7 15:00:06 2017\n",
      "loop 1 done at: Fri Jul  7 15:00:08 2017\n",
      "loop 0 done at: Fri Jul  7 15:00:10 2017\n",
      "all DONE at: Fri Jul  7 15:00:10 2017\n"
     ]
    }
   ],
   "source": [
    "import threading\n",
    "from time import sleep, ctime\n",
    "\n",
    "loops = [ 4, 2 ]\n",
    "\n",
    "class ThreadFunc(object):\n",
    "\n",
    "    def __init__(self, func, args, name=''):\n",
    "        self.name = name\n",
    "        self.func = func\n",
    "        self.args = args\n",
    "\n",
    "    def __call__(self):\n",
    "        self.func(*self.args)  # *表示实际参数不定\n",
    "\n",
    "def loop(nloop, nsec):\n",
    "    print ('start loop', nloop, 'at:', ctime())\n",
    "    sleep(nsec)\n",
    "    print ('loop', nloop, 'done at:', ctime())\n",
    "\n",
    "def main():\n",
    "    print ('starting at:', ctime())\n",
    "    threads = []\n",
    "    nloops = range(len(loops))\n",
    "\n",
    "    for i in nloops:\t# create all threads\n",
    "        t = threading.Thread(\n",
    "\t    target=ThreadFunc(loop, (i, loops[i]),\n",
    "\t    loop.__name__))    #当创建新线程时，Thread 类的代码将调用 ThreadFunc 对象，此时会调用__call__()这个 特殊方法\n",
    "        threads.append(t)\n",
    "\n",
    "    for i in nloops:\t# start all threads\n",
    "        threads[i].start()\n",
    "\n",
    "    for i in nloops:\t# wait for completion\n",
    "        threads[i].join()\n",
    "\n",
    "    print ('all DONE at:', ctime())\n",
    "\n",
    "if __name__ == '__main__':\n",
    "    main()\n"
   ]
  },
  {
   "cell_type": "markdown",
   "metadata": {},
   "source": [
    "#### 派生 Thread 的子类，并创建子类的实例 "
   ]
  },
  {
   "cell_type": "code",
   "execution_count": 7,
   "metadata": {
    "collapsed": false
   },
   "outputs": [
    {
     "name": "stdout",
     "output_type": "stream",
     "text": [
      "starting at: Fri Jul  7 15:05:05 2017\n",
      "start loop 0 at: Fri Jul  7 15:05:05 2017\n",
      "start loop 1 at: Fri Jul  7 15:05:05 2017\n",
      "loop 1 done at: Fri Jul  7 15:05:07 2017\n",
      "loop 0 done at: Fri Jul  7 15:05:09 2017\n",
      "all DONE at: Fri Jul  7 15:05:09 2017\n"
     ]
    }
   ],
   "source": [
    "import threading\n",
    "from time import sleep, ctime\n",
    "\n",
    "loops = [ 4, 2 ]\n",
    "\n",
    "class MyThread(threading.Thread):\n",
    "    def __init__(self, func, args, name=''):\n",
    "        threading.Thread.__init__(self)\n",
    "        self.name = name\n",
    "        self.func = func\n",
    "        self.args = args\n",
    "\n",
    "    def run(self):\n",
    "        self.func(*self.args)\n",
    "\n",
    "def loop(nloop, nsec):\n",
    "    print ('start loop', nloop, 'at:', ctime())\n",
    "    sleep(nsec)\n",
    "    print ('loop', nloop, 'done at:', ctime())\n",
    "\n",
    "def main():\n",
    "    print ('starting at:', ctime())\n",
    "    threads = []\n",
    "    nloops = range(len(loops))\n",
    "\n",
    "    for i in nloops:\n",
    "        t = MyThread(loop, (i, loops[i]),\n",
    "\t    loop.__name__)\n",
    "        threads.append(t)\n",
    "\n",
    "    for i in nloops:\n",
    "        threads[i].start()\n",
    "\n",
    "    for i in nloops:\n",
    "        threads[i].join()\n",
    "\n",
    "    print ('all DONE at:', ctime())\n",
    "\n",
    "if __name__ == '__main__':\n",
    "    main()\n"
   ]
  },
  {
   "cell_type": "markdown",
   "metadata": {},
   "source": [
    "#### threading 模块的其他函数 "
   ]
  },
  {
   "cell_type": "code",
   "execution_count": null,
   "metadata": {
    "collapsed": true
   },
   "outputs": [],
   "source": [
    "activeCount/ active_count()① 当前活动的 Thread 对象个数 \n",
    "current Thread() /current_thread① 返回当前的 Thread 对象 enumerate() 返回当前活动的 Thread 对象列表 \n",
    "settrace (func) ② 为所有线程设置一个 trace 函数 \n",
    "setprofile (func) ② 为所有线程设置一个 profile 函数 \n",
    "stack_size (size=0) ③ 返回新创建线程的栈大小；或为后续创建的线程设定栈的大小 为 size\n",
    "\n",
    "① 驼峰式命名已经弃用，并且从 Python 2.6 版本起已经开始被取代。 \n",
    "② 自 Python 2.3 版本开始引入。 \n",
    "③ thread.stack_size()的一个别名，（都是）从 Python 2.5 版本开始引入的。 "
   ]
  },
  {
   "cell_type": "markdown",
   "metadata": {},
   "source": [
    "### 单线程和多线程运行比较"
   ]
  },
  {
   "cell_type": "code",
   "execution_count": 8,
   "metadata": {
    "collapsed": true
   },
   "outputs": [],
   "source": [
    "import threading\n",
    "from time import time, ctime\n",
    "\n",
    "class MyThread(threading.Thread):\n",
    "    def __init__(self, func, args, name=''):\n",
    "        threading.Thread.__init__(self)\n",
    "        self.name = name\n",
    "        self.func = func\n",
    "        self.args = args\n",
    "\n",
    "    def getResult(self):\n",
    "        return self.res\n",
    "\n",
    "    def run(self):\n",
    "        print ('starting', self.name, 'at:', ctime())\n",
    "        self.res = self.func(*self.args)\n",
    "        print (self.name, 'finished at:', ctime())"
   ]
  },
  {
   "cell_type": "code",
   "execution_count": 11,
   "metadata": {
    "collapsed": false
   },
   "outputs": [
    {
     "name": "stdout",
     "output_type": "stream",
     "text": [
      "*** SINGLE THREAD\n",
      "starting fib at: Fri Jul  7 15:16:00 2017\n",
      "233\n",
      "fib finished at: Fri Jul  7 15:16:03 2017\n",
      "starting fac at: Fri Jul  7 15:16:03 2017\n",
      "479001600\n",
      "fac finished at: Fri Jul  7 15:16:04 2017\n",
      "starting sum at: Fri Jul  7 15:16:04 2017\n",
      "78\n",
      "sum finished at: Fri Jul  7 15:16:05 2017\n",
      "\n",
      "*** MULTIPLE THREADS\n",
      "starting fib at: Fri Jul  7 15:16:05 2017\n",
      "starting fac at: Fri Jul  7 15:16:05 2017\n",
      "starting sum at: Fri Jul  7 15:16:05 2017\n",
      "fac finished at: Fri Jul  7 15:16:06 2017\n",
      "sum finished at: Fri Jul  7 15:16:06 2017\n",
      "fib finished at: Fri Jul  7 15:16:08 2017\n",
      "233\n",
      "479001600\n",
      "78\n",
      "all DONE\n"
     ]
    }
   ],
   "source": [
    "from time import ctime, sleep\n",
    "\n",
    "def fib(x):\n",
    "    sleep(0.005)\n",
    "    if x < 2: return 1\n",
    "    return (fib(x-2) + fib(x-1))\n",
    "\n",
    "def fac(x):\n",
    "    sleep(0.1)\n",
    "    if x < 2: return 1\n",
    "    return (x * fac(x-1))\n",
    "\n",
    "def sum(x):\n",
    "    sleep(0.1)\n",
    "    if x < 2: return 1\n",
    "    return (x + sum(x-1))\n",
    "\n",
    "funcs = (fib, fac, sum)\n",
    "n = 12\n",
    "\n",
    "def main():\n",
    "    nfuncs = range(len(funcs))\n",
    "\n",
    "    print ('*** SINGLE THREAD')\n",
    "    for i in nfuncs:\n",
    "        print ('starting', funcs[i].__name__, 'at:', ctime())\n",
    "        print (funcs[i](n))\n",
    "        print (funcs[i].__name__, 'finished at:', ctime())\n",
    "\n",
    "    print ('\\n*** MULTIPLE THREADS')\n",
    "    threads = []\n",
    "    for i in nfuncs:\n",
    "        t = MyThread(funcs[i], (n,),\n",
    "\t    funcs[i].__name__)\n",
    "        threads.append(t)\n",
    "\n",
    "    for i in nfuncs:\n",
    "        threads[i].start()\n",
    "\n",
    "    for i in nfuncs:\n",
    "        threads[i].join()\n",
    "        print (threads[i].getResult())\n",
    "\n",
    "    print ('all DONE')\n",
    "\n",
    "if __name__ == '__main__':\n",
    "    main()\n"
   ]
  },
  {
   "cell_type": "markdown",
   "metadata": {},
   "source": [
    "### Queue/queue 模块 "
   ]
  },
  {
   "cell_type": "markdown",
   "metadata": {},
   "source": [
    "#### Queue/queue 模块常用属性 "
   ]
  },
  {
   "cell_type": "markdown",
   "metadata": {},
   "source": [
    "Queue/queue 模块的类 \n",
    "Queue(maxsize=0) 创建一个先入先出队列。如果给定最大值，则在队列没有空间时阻塞；否则（没 有指定最大值），为无限队列 \n",
    "LifoQueue(maxsize=0) 创建一个后入先出队列。如果给定最大值，则在队列没有空间时阻塞;否则（没 有指定最大值），为无限队列  \n",
    "PriorityQueue(maxsize=0) 创建一个优先级队列。如果给定最大值，则在队列没有空间时阻塞，否则（没 有指定最大值）,为无限队列 \n",
    "\n",
    "Queue/queue 异常 \n",
    "Empty  当对空队列调用 get*()方法时抛出异常 \n",
    "Full  当对已满的队列调用 put*()方法时抛出异常 \n",
    "\n",
    "Queue/queue 对象方法 \n",
    "qsize () 返回队列大小（由于返回时队列大小可能被其他线程修改，所以该值为近似值） \n",
    "empty() 如果队列为空，则返回 True；否则，返回 False full() 如果队列已满，则返回 True；否则，返回 False \n",
    "put (item, block=Ture, timeout=None) 将 item 放入队列。如果 block 为 True（默认）且 timeout 为 None，则在有可用 空间之前阻塞；如果timeout为正值，则最多阻塞timeout秒；如果 block为False， 则抛出 Empty异常 \n",
    "put_nowait(item) 和 put(item, False)相同 \n",
    "get (block=True, timeout=None) 从队列中取得元素。如果给定了 block（非 0），则一直阻塞到有可用的元素 为止 \n",
    "get_nowait() 和 get(False)相同 \n",
    "task_done() 用于表示队列中的某个元素已执行完成，该方法会被下面的 join()使用 \n",
    "join() 在队列中所有元素执行完毕并调用上面的 task_done()信号之前，保持阻塞 "
   ]
  },
  {
   "cell_type": "code",
   "execution_count": 14,
   "metadata": {
    "collapsed": false
   },
   "outputs": [
    {
     "name": "stdout",
     "output_type": "stream",
     "text": [
      "starting writer at: Fri Jul  7 16:37:08 2017\n",
      "producing object for Q...\n",
      "size now 1\n",
      "starting reader at: Fri Jul  7 16:37:08 2017\n",
      "consumed object from Q... size now 0\n",
      "producing object for Q...\n",
      "size now 1\n",
      "consumed object from Q... size now 0\n",
      "producing object for Q...\n",
      "size now 1\n",
      "consumed object from Q... size now 0\n",
      "producing object for Q...\n",
      "size now 1\n",
      "producing object for Q...\n",
      "size now 2\n",
      "consumed object from Q... size now 1\n",
      "writer finished at: Fri Jul  7 16:37:20 2017\n",
      "consumed object from Q... size now 0\n",
      "reader finished at: Fri Jul  7 16:37:26 2017\n",
      "all DONE\n"
     ]
    }
   ],
   "source": [
    "from random import randint\n",
    "from time import sleep\n",
    "from queue import Queue\n",
    "#from myThread import MyThread\n",
    "\n",
    "def writeQ(queue):\n",
    "    print ('producing object for Q...',)\n",
    "    queue.put('xxx', 1)\n",
    "    print (\"size now\", queue.qsize())\n",
    "\n",
    "def readQ(queue):\n",
    "    val = queue.get(1)\n",
    "    print ('consumed object from Q... size now', queue.qsize())\n",
    "\n",
    "def writer(queue, loops):\n",
    "    for i in range(loops):\n",
    "        writeQ(queue)\n",
    "        sleep(randint(1, 3))\n",
    "\n",
    "def reader(queue, loops):\n",
    "    for i in range(loops):\n",
    "        readQ(queue)\n",
    "        sleep(randint(2, 5))\n",
    "\n",
    "funcs = [writer, reader]\n",
    "nfuncs = range(len(funcs))\n",
    "\n",
    "def main():\n",
    "    nloops = randint(2, 5)\n",
    "    q = Queue(32)\n",
    "\n",
    "    threads = []\n",
    "    for i in nfuncs:\n",
    "        t = MyThread(funcs[i], (q, nloops), \\\n",
    "            funcs[i].__name__)\n",
    "        threads.append(t)\n",
    "\n",
    "    for i in nfuncs:\n",
    "        threads[i].start()\n",
    "\n",
    "    for i in nfuncs:\n",
    "        threads[i].join()\n",
    "\n",
    "    print ('all DONE')\n",
    "\n",
    "if __name__ == '__main__':\n",
    "    main()\n"
   ]
  },
  {
   "cell_type": "code",
   "execution_count": null,
   "metadata": {
    "collapsed": true
   },
   "outputs": [],
   "source": []
  }
 ],
 "metadata": {
  "anaconda-cloud": {},
  "kernelspec": {
   "display_name": "Python [Root]",
   "language": "python",
   "name": "Python [Root]"
  },
  "language_info": {
   "codemirror_mode": {
    "name": "ipython",
    "version": 3
   },
   "file_extension": ".py",
   "mimetype": "text/x-python",
   "name": "python",
   "nbconvert_exporter": "python",
   "pygments_lexer": "ipython3",
   "version": "3.5.1"
  }
 },
 "nbformat": 4,
 "nbformat_minor": 0
}
