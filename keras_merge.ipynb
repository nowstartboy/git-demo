{
 "cells": [
  {
   "cell_type": "code",
   "execution_count": 21,
   "metadata": {
    "collapsed": false
   },
   "outputs": [],
   "source": [
    "#测试一下embedding层的作用\n",
    "from keras.models import Sequential\n",
    "from keras.layers import Embedding\n",
    "import numpy as np\n",
    "model = Sequential()\n",
    "model.add(Embedding(1000, 64, input_length=10))\n",
    "# the model will take as input an integer matrix of size (batch, input_length).\n",
    "# the largest integer (i.e. word index) in the input should be no larger than 999 (vocabulary size).\n",
    "# now model.output_shape == (None, 10, 64), where None is the batch dimension.\n",
    "\n",
    "input_array = np.random.randint(1000, size=(32, 10))\n",
    "\n",
    "model.compile('rmsprop', 'mse')\n",
    "output_array = model.predict(input_array)\n",
    "assert output_array.shape == (32, 10, 64) "
   ]
  },
  {
   "cell_type": "markdown",
   "metadata": {},
   "source": [
    "input_array每一个元素（如326），经过one-hot编码后都会变成1000维，即input_array经过编码后会变成（32，10，1000）\n",
    "\n",
    "而Embedding作用是把这一千维数据变成64维"
   ]
  },
  {
   "cell_type": "code",
   "execution_count": 4,
   "metadata": {
    "collapsed": false
   },
   "outputs": [
    {
     "name": "stdout",
     "output_type": "stream",
     "text": [
      "[[326 348 976 717 202 397  77 331  85 692]\n",
      " [176 790 712 234 416   7 669 469 411  82]\n",
      " [  2 854 693  97   5 701 569  49 634 701]\n",
      " [465   2 487 900 372 375 483 316  28 472]\n",
      " [386 805 574 534   9 798 968 151 519 292]\n",
      " [479 918 461 591 131 448 192 376 365 290]\n",
      " [539 712 591  88 752 371 946 330 490 761]\n",
      " [914 715 749 291 351 669 657 221 346 237]\n",
      " [629 267  52 922 649 625 378 436 885 492]\n",
      " [955 449 822 179 337 590  48 652 491 763]\n",
      " [106 187 357 176 251 224 912 589 259 735]\n",
      " [ 42 536  94 229 927 187 770 829 163 588]\n",
      " [460 947 653 470 367 632 880 801 409 369]\n",
      " [871 767 328 511 228 283 142 373 890 617]\n",
      " [937 357 753 984 680 300 831 210 622  57]\n",
      " [866 512 723  38 914 107 582 319 708  10]\n",
      " [  1 676 670 493 903 231 241 475 117 658]\n",
      " [144 154 164 156 693 382 437 101 703 881]\n",
      " [326 446 947 714 635 150 828 789 373 436]\n",
      " [261 469 693  88  36 950 881 194 341 340]\n",
      " [476 504 246 698 846  84 387 376 222 971]\n",
      " [380 594 409 948 779 340  88  51 710 359]\n",
      " [  6 962 446  36 579 166 122 188 819 880]\n",
      " [243 605 223 417 231 863 662 868 675 952]\n",
      " [197 780 946 308 311 149  19 753 941   3]\n",
      " [313 774 819 943 955 671 106 418  48 440]\n",
      " [ 88 964 148 313 692 329 854  13 313  96]\n",
      " [369 227 231 850 236 938 133 202 224 784]\n",
      " [102 433 277 110 511 848 159 140 223 874]\n",
      " [199 960 808 334 792 556 243 725 726 703]\n",
      " [754 923 435 576 363 386 454 347 321 180]\n",
      " [988 371 665 922   3 679 164 373 711 633]]\n"
     ]
    }
   ],
   "source": [
    "print (input_array)"
   ]
  },
  {
   "cell_type": "code",
   "execution_count": 7,
   "metadata": {
    "collapsed": false
   },
   "outputs": [
    {
     "name": "stdout",
     "output_type": "stream",
     "text": [
      "(32, 10, 64)\n",
      "32\n",
      "10\n",
      "[[[-0.02658536 -0.01701321 -0.03457935 ..., -0.04842854 -0.03582474\n",
      "   -0.00322653]\n",
      "  [ 0.00309172  0.04459726  0.04020951 ...,  0.04615075  0.01565008\n",
      "   -0.00477158]\n",
      "  [-0.00445703 -0.01037259 -0.01947093 ..., -0.02401226  0.04409889\n",
      "   -0.01025251]\n",
      "  ..., \n",
      "  [ 0.01289723  0.02258544 -0.03763982 ...,  0.00990425  0.04037798\n",
      "   -0.00246155]\n",
      "  [-0.01281414  0.04575102  0.03102264 ..., -0.02146184  0.04342185\n",
      "   -0.04540529]\n",
      "  [-0.00603373  0.04661009 -0.02075096 ...,  0.01052649  0.01878437\n",
      "   -0.02818539]]\n",
      "\n",
      " [[ 0.00186364  0.01617878  0.00865879 ...,  0.01675928  0.02637963\n",
      "   -0.02079076]\n",
      "  [-0.01190627  0.01763814  0.04854817 ..., -0.00856728  0.047076\n",
      "    0.02425525]\n",
      "  [-0.03893224  0.04383809  0.01461554 ...,  0.00249942 -0.01176268\n",
      "   -0.04266398]\n",
      "  ..., \n",
      "  [ 0.00776853  0.00077814  0.01685435 ..., -0.02465484 -0.03616484\n",
      "   -0.03607576]\n",
      "  [-0.02803652 -0.02433647 -0.00335371 ..., -0.02212117 -0.01351787\n",
      "    0.04571564]\n",
      "  [ 0.01029637  0.01400338 -0.00846877 ..., -0.01669285  0.01718061\n",
      "   -0.02692826]]\n",
      "\n",
      " [[ 0.04960234 -0.0440284  -0.02006593 ...,  0.04931009  0.0248915\n",
      "    0.03998995]\n",
      "  [-0.00270512  0.03526343 -0.04164405 ..., -0.00011951 -0.02142696\n",
      "   -0.0073496 ]\n",
      "  [-0.00131239  0.01933276  0.01792597 ..., -0.0186942  -0.00980719\n",
      "    0.01546803]\n",
      "  ..., \n",
      "  [ 0.00214534 -0.00870098 -0.00498562 ..., -0.0217598   0.01675865\n",
      "    0.0280794 ]\n",
      "  [ 0.04590413 -0.02064198  0.01709359 ...,  0.01990677 -0.04651152\n",
      "    0.04781931]\n",
      "  [-0.01109854 -0.00227148  0.04487206 ...,  0.02278187  0.03567398\n",
      "   -0.0484604 ]]\n",
      "\n",
      " ..., \n",
      " [[ 0.02386348  0.03148024 -0.01772572 ...,  0.00317033 -0.02781351\n",
      "    0.01773644]\n",
      "  [-0.04207321  0.02674173 -0.01869803 ..., -0.04470787 -0.02772082\n",
      "    0.02550987]\n",
      "  [ 0.02482493  0.02773697  0.01725313 ...,  0.04429569  0.00297439\n",
      "    0.04548628]\n",
      "  ..., \n",
      "  [-0.02621074 -0.02339437  0.0108129  ...,  0.04684206 -0.00780011\n",
      "   -0.0363019 ]\n",
      "  [ 0.03760574  0.00826319  0.01476022 ..., -0.04676729  0.01351973\n",
      "    0.04682908]\n",
      "  [ 0.00286952 -0.04079761 -0.01147572 ..., -0.01357566 -0.01716254\n",
      "    0.00382213]]\n",
      "\n",
      " [[-0.02084187  0.03254828 -0.04848236 ...,  0.03302177  0.03818182\n",
      "    0.04524999]\n",
      "  [ 0.00977653  0.02418448  0.00904544 ...,  0.00063226 -0.03906757\n",
      "   -0.01980225]\n",
      "  [-0.01460979 -0.0217128   0.0287954  ..., -0.04320142 -0.0095272\n",
      "    0.00051258]\n",
      "  ..., \n",
      "  [-0.04402853 -0.0101532   0.00415273 ..., -0.04598789 -0.04572654\n",
      "    0.03806443]\n",
      "  [ 0.02277782 -0.04953444  0.03817949 ...,  0.03034512 -0.04265092\n",
      "   -0.02843731]\n",
      "  [ 0.03984494  0.03796053  0.04444331 ..., -0.01336537  0.02997222\n",
      "    0.04630226]]\n",
      "\n",
      " [[-0.04025052  0.04739213 -0.01703901 ...,  0.04790566  0.02616966\n",
      "   -0.00470575]\n",
      "  [-0.04393904  0.03145175  0.01347157 ...,  0.03655194  0.01430717\n",
      "   -0.00819234]\n",
      "  [-0.03476621  0.04814074  0.01737941 ...,  0.04532487 -0.03560949\n",
      "   -0.02267811]\n",
      "  ..., \n",
      "  [ 0.00181283 -0.02975178 -0.02573172 ...,  0.01669541  0.01841604\n",
      "   -0.04875462]\n",
      "  [-0.01894339  0.0293177  -0.0401035  ...,  0.01158065  0.04935497\n",
      "    0.01787633]\n",
      "  [-0.03601364 -0.0107042  -0.02460792 ...,  0.01723209  0.01893021\n",
      "   -0.04281837]]]\n"
     ]
    }
   ],
   "source": [
    "print (output_array.shape)\n",
    "print (len(output_array))\n",
    "print (len(output_array[0]))\n",
    "print (output_array)"
   ]
  },
  {
   "cell_type": "markdown",
   "metadata": {},
   "source": [
    "## 下面开始LSTM"
   ]
  },
  {
   "cell_type": "code",
   "execution_count": 1,
   "metadata": {
    "collapsed": false
   },
   "outputs": [
    {
     "name": "stderr",
     "output_type": "stream",
     "text": [
      "Using TensorFlow backend.\n"
     ]
    }
   ],
   "source": [
    "from keras.datasets import mnist\n",
    "from keras.models import Sequential\n",
    "from keras.layers import Dense, Dropout, Activation, Flatten\n",
    "from keras.layers import Convolution2D, MaxPooling2D\n",
    "from keras.utils import np_utils"
   ]
  },
  {
   "cell_type": "code",
   "execution_count": 2,
   "metadata": {
    "collapsed": false
   },
   "outputs": [],
   "source": [
    "(X_train, y_train), (X_test, y_test) = mnist.load_data()"
   ]
  },
  {
   "cell_type": "code",
   "execution_count": 3,
   "metadata": {
    "collapsed": false
   },
   "outputs": [
    {
     "name": "stdout",
     "output_type": "stream",
     "text": [
      "X_train shape: (60000, 784)\n",
      "60000 train samples\n",
      "10000 test samples\n"
     ]
    }
   ],
   "source": [
    "# X_train原本是一个60000*28*28的三维向量，将其转换为60000*784的二维向量\n",
    "X_train = X_train.reshape(60000, 784)\n",
    "# X_test原本是一个10000*28*28的三维向量，将其转换为10000*784的二维向量\n",
    "X_test = X_test.reshape(10000, 784)\n",
    "# 将X_train, X_test的数据格式转为float32\n",
    "X_train = X_train.astype('float32')\n",
    "X_test = X_test.astype('float32')\n",
    "# 归一化\n",
    "X_train /= 255\n",
    "X_test /= 255\n",
    "# 打印出相关信息\n",
    "print('X_train shape:', X_train.shape)\n",
    "print(X_train.shape[0], 'train samples')\n",
    "print(X_test.shape[0], 'test samples')"
   ]
  },
  {
   "cell_type": "code",
   "execution_count": 4,
   "metadata": {
    "collapsed": true
   },
   "outputs": [],
   "source": [
    "batch_size = 128\n",
    "nb_classes = 10\n",
    "nb_epoch = 12"
   ]
  },
  {
   "cell_type": "code",
   "execution_count": 5,
   "metadata": {
    "collapsed": false
   },
   "outputs": [],
   "source": [
    "# 将类别向量(从0到nb_classes的整数向量)映射为二值类别矩阵，\n",
    "# 相当于将向量用one-hot重新编码\n",
    "Y_train = np_utils.to_categorical(y_train, nb_classes)\n",
    "Y_test = np_utils.to_categorical(y_test, nb_classes)"
   ]
  },
  {
   "cell_type": "code",
   "execution_count": 6,
   "metadata": {
    "collapsed": true
   },
   "outputs": [],
   "source": [
    "import tensorflow as tf\n",
    "import keras"
   ]
  },
  {
   "cell_type": "code",
   "execution_count": 113,
   "metadata": {
    "collapsed": false
   },
   "outputs": [
    {
     "name": "stderr",
     "output_type": "stream",
     "text": [
      "D:\\anaconda1\\lib\\site-packages\\ipykernel\\__main__.py:12: UserWarning: The `Merge` layer is deprecated and will be removed after 08/2017. Use instead layers from `keras.layers.merge`, e.g. `add`, `concatenate`, etc.\n"
     ]
    },
    {
     "name": "stdout",
     "output_type": "stream",
     "text": [
      "Train on 48000 samples, validate on 12000 samples\n",
      "Epoch 1/12\n",
      "48000/48000 [==============================] - 4s - loss: 0.3021 - acc: 0.9122 - val_loss: 0.1542 - val_acc: 0.9568\n",
      "Epoch 2/12\n",
      "48000/48000 [==============================] - 4s - loss: 0.1332 - acc: 0.9609 - val_loss: 0.1123 - val_acc: 0.9672\n",
      "Epoch 3/12\n",
      "48000/48000 [==============================] - 4s - loss: 0.0916 - acc: 0.9726 - val_loss: 0.0901 - val_acc: 0.9735\n",
      "Epoch 4/12\n",
      "48000/48000 [==============================] - 3s - loss: 0.0704 - acc: 0.9791 - val_loss: 0.0874 - val_acc: 0.9753\n",
      "Epoch 5/12\n",
      "48000/48000 [==============================] - 4s - loss: 0.0566 - acc: 0.9824 - val_loss: 0.0821 - val_acc: 0.9768\n",
      "Epoch 6/12\n",
      "48000/48000 [==============================] - 3s - loss: 0.0461 - acc: 0.9857 - val_loss: 0.0882 - val_acc: 0.9758\n",
      "Epoch 7/12\n",
      "48000/48000 [==============================] - 3s - loss: 0.0389 - acc: 0.9885 - val_loss: 0.0784 - val_acc: 0.9793\n",
      "Epoch 8/12\n",
      "48000/48000 [==============================] - 3s - loss: 0.0319 - acc: 0.9903 - val_loss: 0.0778 - val_acc: 0.9792\n",
      "Epoch 9/12\n",
      "48000/48000 [==============================] - 3s - loss: 0.0273 - acc: 0.9916 - val_loss: 0.0765 - val_acc: 0.9803\n",
      "Epoch 10/12\n",
      "48000/48000 [==============================] - 4s - loss: 0.0244 - acc: 0.9925 - val_loss: 0.0764 - val_acc: 0.9808\n",
      "Epoch 11/12\n",
      "48000/48000 [==============================] - 4s - loss: 0.0203 - acc: 0.9936 - val_loss: 0.0852 - val_acc: 0.9799\n",
      "Epoch 12/12\n",
      "48000/48000 [==============================] - 3s - loss: 0.0172 - acc: 0.9942 - val_loss: 0.0871 - val_acc: 0.9794\n"
     ]
    }
   ],
   "source": [
    "from keras.layers import Merge\n",
    "from keras.optimizers import RMSprop,adam\n",
    "\n",
    "left_branch = Sequential()\n",
    "left_branch.add(Dense(256, input_dim=784))\n",
    "left_branch.add(Activation('relu'))\n",
    "\n",
    "right_branch = Sequential()\n",
    "right_branch.add(Dense(256, input_dim=784))\n",
    "right_branch.add(Activation('relu'))\n",
    "\n",
    "merged = Merge([left_branch, right_branch], mode='concat')\n",
    "#merged = keras.layers.concatenate([left_branch, right_branch])\n",
    "\n",
    "model = Sequential()\n",
    "model.add(merged)\n",
    "model.add(Dropout(0.2))\n",
    "\n",
    "# # 第二个隐层有512个神经元，激活函数为ReLu，Dropout比例为0.2\n",
    "# model.add(Dense(512))\n",
    "# model.add(Activation('relu'))\n",
    "# model.add(Dropout(0.2))\n",
    "\n",
    "\n",
    "model.add(Dense(10, activation='softmax'))\n",
    "\n",
    "model.compile(loss='categorical_crossentropy',\n",
    "              optimizer=RMSprop(),\n",
    "              metrics=['accuracy'])\n",
    "\n",
    "history = model.fit([X_train,X_train], Y_train,\n",
    "                    batch_size = batch_size,\n",
    "                    epochs = nb_epoch,\n",
    "                    verbose = 1,\n",
    "                    validation_split=0.2)"
   ]
  },
  {
   "cell_type": "code",
   "execution_count": 108,
   "metadata": {
    "collapsed": false
   },
   "outputs": [
    {
     "name": "stdout",
     "output_type": "stream",
     "text": [
      "Train on 48000 samples, validate on 12000 samples\n",
      "Epoch 1/12\n",
      "48000/48000 [==============================] - 4s - loss: 7.8883e-04 - acc: 0.9998 - val_loss: 0.1623 - val_acc: 0.9817\n",
      "Epoch 2/12\n",
      "48000/48000 [==============================] - 3s - loss: 6.6159e-04 - acc: 0.9998 - val_loss: 0.1622 - val_acc: 0.9805\n",
      "Epoch 3/12\n",
      "48000/48000 [==============================] - 3s - loss: 0.0011 - acc: 0.9998 - val_loss: 0.1605 - val_acc: 0.9826\n",
      "Epoch 4/12\n",
      "48000/48000 [==============================] - 3s - loss: 2.6461e-04 - acc: 0.9999 - val_loss: 0.1537 - val_acc: 0.9818\n",
      "Epoch 5/12\n",
      "48000/48000 [==============================] - 3s - loss: 8.3031e-04 - acc: 0.9998 - val_loss: 0.1568 - val_acc: 0.9822\n",
      "Epoch 6/12\n",
      "48000/48000 [==============================] - 3s - loss: 3.9212e-04 - acc: 0.9999 - val_loss: 0.1574 - val_acc: 0.9822\n",
      "Epoch 7/12\n",
      "48000/48000 [==============================] - 3s - loss: 4.1637e-04 - acc: 0.9999 - val_loss: 0.1653 - val_acc: 0.9818\n",
      "Epoch 8/12\n",
      "48000/48000 [==============================] - 3s - loss: 7.7336e-04 - acc: 0.9998 - val_loss: 0.1605 - val_acc: 0.9813\n",
      "Epoch 9/12\n",
      "48000/48000 [==============================] - 3s - loss: 9.3340e-04 - acc: 0.9997 - val_loss: 0.1594 - val_acc: 0.9823\n",
      "Epoch 10/12\n",
      "48000/48000 [==============================] - 3s - loss: 6.9422e-04 - acc: 0.9998 - val_loss: 0.1602 - val_acc: 0.9819\n",
      "Epoch 11/12\n",
      "48000/48000 [==============================] - 3s - loss: 6.6055e-04 - acc: 0.9998 - val_loss: 0.1619 - val_acc: 0.9822\n",
      "Epoch 12/12\n",
      "48000/48000 [==============================] - 3s - loss: 4.8739e-04 - acc: 0.9998 - val_loss: 0.1616 - val_acc: 0.9820\n"
     ]
    }
   ],
   "source": [
    "from keras.layers import Merge\n",
    "from keras.optimizers import RMSprop,adam\n",
    "\n",
    "\n",
    "left_branch = Sequential()\n",
    "left_branch.add(Dense(256, input_dim=784))\n",
    "\n",
    "\n",
    "right_branch = Sequential()\n",
    "right_branch.add(Dense(256, input_dim=784))\n",
    "\n",
    "\n",
    "#merged = Merge([left_branch, right_branch], mode='concat')\n",
    "merged = keras.layers.concatenate([left_branch.output, right_branch.output])\n",
    "\n",
    "x = Dense(512, activation='relu')(merged)\n",
    "dense=Dense(5,activation=\"softmax\",name='aux_output')(x)\n",
    "\n",
    "from keras.models import Model\n",
    "merged2=Model(inputs=[left_branch.input,right_branch.input],outputs=[dense])\n",
    "\n",
    "model.compile(loss='categorical_crossentropy',\n",
    "              optimizer=RMSprop(),\n",
    "              metrics=['accuracy'])\n",
    "\n",
    "history = model.fit([X_train,X_train], Y_train,\n",
    "                    batch_size = batch_size,\n",
    "                    epochs = nb_epoch,\n",
    "                    verbose = 1,\n",
    "                    validation_split=0.2)"
   ]
  },
  {
   "cell_type": "code",
   "execution_count": 27,
   "metadata": {
    "collapsed": true
   },
   "outputs": [],
   "source": [
    "x = Dense(512, activation='relu')(merged)"
   ]
  },
  {
   "cell_type": "code",
   "execution_count": 102,
   "metadata": {
    "collapsed": true
   },
   "outputs": [],
   "source": [
    "dense=Dense(10,activation=\"softmax\",name='aux_output')(x)"
   ]
  },
  {
   "cell_type": "code",
   "execution_count": 91,
   "metadata": {
    "collapsed": false
   },
   "outputs": [],
   "source": [
    "from keras.models import Model\n",
    "merged2=Model(inputs=[left_branch.input,right_branch.input],outputs=[dense])"
   ]
  },
  {
   "cell_type": "code",
   "execution_count": 92,
   "metadata": {
    "collapsed": true
   },
   "outputs": [],
   "source": [
    "model.compile(loss='categorical_crossentropy',\n",
    "              optimizer=RMSprop(),\n",
    "              metrics=['accuracy'])\n"
   ]
  },
  {
   "cell_type": "code",
   "execution_count": 93,
   "metadata": {
    "collapsed": false
   },
   "outputs": [
    {
     "name": "stdout",
     "output_type": "stream",
     "text": [
      "Train on 48000 samples, validate on 12000 samples\n",
      "Epoch 1/12\n",
      "48000/48000 [==============================] - 4s - loss: 0.0012 - acc: 0.9997 - val_loss: 0.1583 - val_acc: 0.9827\n",
      "Epoch 2/12\n",
      "48000/48000 [==============================] - 3s - loss: 4.7726e-04 - acc: 0.9998 - val_loss: 0.1488 - val_acc: 0.9821\n",
      "Epoch 3/12\n",
      "48000/48000 [==============================] - 3s - loss: 7.7453e-04 - acc: 0.9997 - val_loss: 0.1591 - val_acc: 0.9821\n",
      "Epoch 4/12\n",
      "48000/48000 [==============================] - 3s - loss: 3.7441e-04 - acc: 0.9999 - val_loss: 0.1607 - val_acc: 0.9811\n",
      "Epoch 5/12\n",
      "48000/48000 [==============================] - 4s - loss: 5.9375e-04 - acc: 0.9998 - val_loss: 0.1660 - val_acc: 0.9818\n",
      "Epoch 6/12\n",
      "48000/48000 [==============================] - 3s - loss: 7.9072e-04 - acc: 0.9997 - val_loss: 0.1627 - val_acc: 0.9815\n",
      "Epoch 7/12\n",
      "48000/48000 [==============================] - 3s - loss: 4.2985e-04 - acc: 0.9998 - val_loss: 0.1545 - val_acc: 0.9821\n",
      "Epoch 8/12\n",
      "48000/48000 [==============================] - 4s - loss: 9.5636e-04 - acc: 0.9997 - val_loss: 0.1642 - val_acc: 0.9816\n",
      "Epoch 9/12\n",
      "48000/48000 [==============================] - 4s - loss: 2.4837e-04 - acc: 0.9999 - val_loss: 0.1540 - val_acc: 0.9812\n",
      "Epoch 10/12\n",
      "48000/48000 [==============================] - 4s - loss: 6.6032e-04 - acc: 0.9999 - val_loss: 0.1629 - val_acc: 0.9804\n",
      "Epoch 11/12\n",
      "48000/48000 [==============================] - 4s - loss: 7.6874e-04 - acc: 0.9998 - val_loss: 0.1695 - val_acc: 0.9806\n",
      "Epoch 12/12\n",
      "48000/48000 [==============================] - 3s - loss: 5.8744e-04 - acc: 0.9998 - val_loss: 0.1622 - val_acc: 0.9817\n"
     ]
    }
   ],
   "source": [
    "history = model.fit([X_train,X_train], Y_train,\n",
    "                    batch_size = batch_size,\n",
    "                    epochs = nb_epoch,\n",
    "                    verbose = 1,\n",
    "                    validation_split=0.2)"
   ]
  },
  {
   "cell_type": "code",
   "execution_count": 114,
   "metadata": {
    "collapsed": false
   },
   "outputs": [
    {
     "name": "stdout",
     "output_type": "stream",
     "text": [
      " 9808/10000 [============================>.] - ETA: 0sTest score: 0.0754003866823\n",
      "Test accuracy: 0.9813\n"
     ]
    }
   ],
   "source": [
    "score = model.evaluate([X_test,X_test], Y_test, batch_size=16)\n",
    "# 输出训练好的模型在测试集上的表现\n",
    "print('Test score:', score[0])\n",
    "print('Test accuracy:', score[1])"
   ]
  },
  {
   "cell_type": "code",
   "execution_count": 94,
   "metadata": {
    "collapsed": false
   },
   "outputs": [
    {
     "name": "stdout",
     "output_type": "stream",
     "text": [
      " 9504/10000 [===========================>..] - ETA: 0s"
     ]
    }
   ],
   "source": [
    "predict=model.predict_classes([X_test,X_test])"
   ]
  },
  {
   "cell_type": "code",
   "execution_count": 95,
   "metadata": {
    "collapsed": false
   },
   "outputs": [
    {
     "name": "stdout",
     "output_type": "stream",
     "text": [
      "(10000,)\n"
     ]
    }
   ],
   "source": [
    "print (predict.shape)"
   ]
  },
  {
   "cell_type": "code",
   "execution_count": 96,
   "metadata": {
    "collapsed": false
   },
   "outputs": [
    {
     "name": "stdout",
     "output_type": "stream",
     "text": [
      "[7 2 1 ..., 4 5 6]\n"
     ]
    }
   ],
   "source": [
    "print (predict)"
   ]
  },
  {
   "cell_type": "code",
   "execution_count": null,
   "metadata": {
    "collapsed": true
   },
   "outputs": [],
   "source": []
  }
 ],
 "metadata": {
  "anaconda-cloud": {},
  "kernelspec": {
   "display_name": "Python [Root]",
   "language": "python",
   "name": "Python [Root]"
  },
  "language_info": {
   "codemirror_mode": {
    "name": "ipython",
    "version": 3
   },
   "file_extension": ".py",
   "mimetype": "text/x-python",
   "name": "python",
   "nbconvert_exporter": "python",
   "pygments_lexer": "ipython3",
   "version": "3.5.1"
  }
 },
 "nbformat": 4,
 "nbformat_minor": 0
}
