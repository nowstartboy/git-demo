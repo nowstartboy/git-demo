{
 "cells": [
  {
   "cell_type": "code",
   "execution_count": 1,
   "metadata": {
    "collapsed": true
   },
   "outputs": [],
   "source": [
    "import tensorflow as tf\n",
    "from tensorflow.examples.tutorials.mnist import input_data\n",
    "max_steps = 1000\n",
    "learning_rate=0.001\n",
    "dropout=0.9\n",
    "data_dir='D:/python_code/tensorBoard/mnist/input_data'\n",
    "log_dir='D:/python_code/tensorBoard/mnist/logs'"
   ]
  },
  {
   "cell_type": "code",
   "execution_count": 2,
   "metadata": {
    "collapsed": false
   },
   "outputs": [
    {
     "name": "stdout",
     "output_type": "stream",
     "text": [
      "Successfully downloaded train-images-idx3-ubyte.gz 9912422 bytes.\n",
      "Extracting D:/python_code/tensorBoard/mnist/input_data\\train-images-idx3-ubyte.gz\n",
      "Successfully downloaded train-labels-idx1-ubyte.gz 28881 bytes.\n",
      "Extracting D:/python_code/tensorBoard/mnist/input_data\\train-labels-idx1-ubyte.gz\n",
      "Successfully downloaded t10k-images-idx3-ubyte.gz 1648877 bytes.\n",
      "Extracting D:/python_code/tensorBoard/mnist/input_data\\t10k-images-idx3-ubyte.gz\n",
      "Successfully downloaded t10k-labels-idx1-ubyte.gz 4542 bytes.\n",
      "Extracting D:/python_code/tensorBoard/mnist/input_data\\t10k-labels-idx1-ubyte.gz\n"
     ]
    }
   ],
   "source": [
    "mnist = input_data.read_data_sets(data_dir, one_hot=True)"
   ]
  },
  {
   "cell_type": "code",
   "execution_count": 3,
   "metadata": {
    "collapsed": true
   },
   "outputs": [],
   "source": [
    "sess = tf.InteractiveSession()\n",
    "with tf.name_scope('input'):\n",
    "    x = tf.placeholder(tf.float32, [None, 784], name='x-input')\n",
    "    y_ = tf.placeholder(tf.float32, [None, 10], name='y-input')\n",
    "with tf.name_scope('input_reshape'):\n",
    "    image_shaped_input=tf.reshape(x, [-1, 28, 28, 1])\n",
    "    tf.summary.image('input', image_shaped_input, 10)\n",
    "\n",
    "def weight_variable(shape):\n",
    "    initial = tf.truncated_normal(shape, stddev=0.1)\n",
    "    return tf.Variable(initial)\n",
    "\n",
    "def bias_variable(shape):\n",
    "    initial=tf.constant(0.1, shape=shape)\n",
    "    return tf.Variable(initial)\n",
    "\n",
    "def variable_summaries(var):\n",
    "    with tf.name_scope('summaries'):\n",
    "        mean=tf.reduce_mean(var)\n",
    "        tf.summary.scalar('mean', mean)\n",
    "        with tf.name_scope('stddev'):\n",
    "            stddev = tf.sqrt(tf.reduce_mean(tf.square(var - mean)))\n",
    "        tf.summary.scalar('stddev', stddev)\n",
    "        tf.summary.scalar('max', tf.reduce_max(var))\n",
    "        tf.summary.scalar('min', tf.reduce_min(var))\n",
    "        tf.summary.histogram('histogram', var)\n",
    "\n",
    "def nn_layer(input_tensor, input_dim, output_dim, layer_name, act=tf.nn.relu):\n",
    "    with tf.name_scope(layer_name):\n",
    "        with tf.name_scope('weights'):\n",
    "            weights = weight_variable([input_dim, output_dim])\n",
    "            variable_summaries(weights)\n",
    "        with tf.name_scope('biases'):\n",
    "            biases = bias_variable([output_dim])\n",
    "            variable_summaries(biases)\n",
    "        with tf.name_scope('Wx_plus_b'):\n",
    "            preactivate = tf.matmul(input_tensor, weights) + biases\n",
    "            tf.summary.histogram('pre_activations', preactivate)\n",
    "        activations = act(preactivate, name='activation')\n",
    "        tf.summary.histogram('activations', activations)\n",
    "        return activations"
   ]
  },
  {
   "cell_type": "code",
   "execution_count": 4,
   "metadata": {
    "collapsed": true
   },
   "outputs": [],
   "source": [
    "hidden1 = nn_layer(x, 784, 500, 'layer1')\n",
    "\n",
    "with tf.name_scope('dropout'):\n",
    "    keep_prob = tf.placeholder(tf.float32)\n",
    "    tf.summary.scalar('dropout_keep_probalility', keep_prob)\n",
    "    dropped = tf.nn.dropout(hidden1, keep_prob)\n",
    "\n",
    "y = nn_layer(dropped, 500, 10, 'layer2', act=tf.identity)\n"
   ]
  },
  {
   "cell_type": "code",
   "execution_count": 5,
   "metadata": {
    "collapsed": false
   },
   "outputs": [
    {
     "data": {
      "text/plain": [
       "<tf.Tensor 'accuracy_1:0' shape=() dtype=string>"
      ]
     },
     "execution_count": 5,
     "metadata": {},
     "output_type": "execute_result"
    }
   ],
   "source": [
    "with tf.name_scope('cross_entropy'):\n",
    "    diff = tf.nn.softmax_cross_entropy_with_logits(logits=y, labels=y_)\n",
    "    with tf.name_scope('total'):\n",
    "        cross_entropy = tf.reduce_mean(diff)\n",
    "tf.summary.scalar('cross_entropy', cross_entropy)\n",
    "\n",
    "with tf.name_scope('train'):\n",
    "    train_step = tf.train.AdamOptimizer(learning_rate).minimize(cross_entropy)\n",
    "with tf.name_scope('accuracy'):\n",
    "    with tf.name_scope('correct_predictin'):\n",
    "        correct_prediction = tf.equal(tf.argmax(y, 1), tf.argmax(y_, 1))\n",
    "    with tf.name_scope('accuracy'):\n",
    "        accuracy = tf.reduce_mean(tf.cast(correct_prediction, tf.float32))\n",
    "tf.summary.scalar('accuracy', accuracy)\n"
   ]
  },
  {
   "cell_type": "code",
   "execution_count": 6,
   "metadata": {
    "collapsed": true
   },
   "outputs": [],
   "source": [
    "merged = tf.summary.merge_all()\n",
    "train_writer = tf.summary.FileWriter(log_dir + '/train', sess.graph)\n",
    "test_writer = tf.summary.FileWriter(log_dir + '/test')\n",
    "tf.global_variables_initializer().run()"
   ]
  },
  {
   "cell_type": "code",
   "execution_count": 7,
   "metadata": {
    "collapsed": false
   },
   "outputs": [
    {
     "name": "stdout",
     "output_type": "stream",
     "text": [
      "Accuracy at step 0: 0.1052\n",
      "Accuracy at step 10: 0.7241\n",
      "Accuracy at step 20: 0.8256\n",
      "Accuracy at step 30: 0.8662\n",
      "Accuracy at step 40: 0.8864\n",
      "Accuracy at step 50: 0.8963\n",
      "Accuracy at step 60: 0.896\n",
      "Accuracy at step 70: 0.9055\n",
      "Accuracy at step 80: 0.9065\n",
      "Accuracy at step 90: 0.9141\n",
      "Adding run metadata for 99\n",
      "Accuracy at step 100: 0.9187\n",
      "Accuracy at step 110: 0.9123\n",
      "Accuracy at step 120: 0.9213\n",
      "Accuracy at step 130: 0.9225\n",
      "Accuracy at step 140: 0.9207\n",
      "Accuracy at step 150: 0.9269\n",
      "Accuracy at step 160: 0.9304\n",
      "Accuracy at step 170: 0.9279\n",
      "Accuracy at step 180: 0.9316\n",
      "Accuracy at step 190: 0.9331\n",
      "Adding run metadata for 199\n",
      "Accuracy at step 200: 0.935\n",
      "Accuracy at step 210: 0.9364\n",
      "Accuracy at step 220: 0.9376\n",
      "Accuracy at step 230: 0.9349\n",
      "Accuracy at step 240: 0.9329\n",
      "Accuracy at step 250: 0.9402\n",
      "Accuracy at step 260: 0.938\n",
      "Accuracy at step 270: 0.9397\n",
      "Accuracy at step 280: 0.9421\n",
      "Accuracy at step 290: 0.9412\n",
      "Adding run metadata for 299\n",
      "Accuracy at step 300: 0.9457\n",
      "Accuracy at step 310: 0.9419\n",
      "Accuracy at step 320: 0.9466\n",
      "Accuracy at step 330: 0.9482\n",
      "Accuracy at step 340: 0.949\n",
      "Accuracy at step 350: 0.9487\n",
      "Accuracy at step 360: 0.9483\n",
      "Accuracy at step 370: 0.9481\n",
      "Accuracy at step 380: 0.9494\n",
      "Accuracy at step 390: 0.949\n",
      "Adding run metadata for 399\n",
      "Accuracy at step 400: 0.9486\n",
      "Accuracy at step 410: 0.9538\n",
      "Accuracy at step 420: 0.9506\n",
      "Accuracy at step 430: 0.9523\n",
      "Accuracy at step 440: 0.9529\n",
      "Accuracy at step 450: 0.9512\n",
      "Accuracy at step 460: 0.9536\n",
      "Accuracy at step 470: 0.9551\n",
      "Accuracy at step 480: 0.9565\n",
      "Accuracy at step 490: 0.9551\n",
      "Adding run metadata for 499\n",
      "Accuracy at step 500: 0.9535\n",
      "Accuracy at step 510: 0.9555\n",
      "Accuracy at step 520: 0.9552\n",
      "Accuracy at step 530: 0.9565\n",
      "Accuracy at step 540: 0.9588\n",
      "Accuracy at step 550: 0.9552\n",
      "Accuracy at step 560: 0.9592\n",
      "Accuracy at step 570: 0.9574\n",
      "Accuracy at step 580: 0.96\n",
      "Accuracy at step 590: 0.961\n",
      "Adding run metadata for 599\n",
      "Accuracy at step 600: 0.9594\n",
      "Accuracy at step 610: 0.9599\n",
      "Accuracy at step 620: 0.9597\n",
      "Accuracy at step 630: 0.9609\n",
      "Accuracy at step 640: 0.9602\n",
      "Accuracy at step 650: 0.9622\n",
      "Accuracy at step 660: 0.9604\n",
      "Accuracy at step 670: 0.9627\n",
      "Accuracy at step 680: 0.9598\n",
      "Accuracy at step 690: 0.9623\n",
      "Adding run metadata for 699\n",
      "Accuracy at step 700: 0.9637\n",
      "Accuracy at step 710: 0.9596\n",
      "Accuracy at step 720: 0.9628\n",
      "Accuracy at step 730: 0.9599\n",
      "Accuracy at step 740: 0.9618\n",
      "Accuracy at step 750: 0.9625\n",
      "Accuracy at step 760: 0.965\n",
      "Accuracy at step 770: 0.9643\n",
      "Accuracy at step 780: 0.9645\n",
      "Accuracy at step 790: 0.9644\n",
      "Adding run metadata for 799\n",
      "Accuracy at step 800: 0.9658\n",
      "Accuracy at step 810: 0.9669\n",
      "Accuracy at step 820: 0.9644\n",
      "Accuracy at step 830: 0.9661\n",
      "Accuracy at step 840: 0.9619\n",
      "Accuracy at step 850: 0.9646\n",
      "Accuracy at step 860: 0.9653\n",
      "Accuracy at step 870: 0.9665\n",
      "Accuracy at step 880: 0.9643\n",
      "Accuracy at step 890: 0.9616\n",
      "Adding run metadata for 899\n",
      "Accuracy at step 900: 0.9653\n",
      "Accuracy at step 910: 0.967\n",
      "Accuracy at step 920: 0.9688\n",
      "Accuracy at step 930: 0.9661\n",
      "Accuracy at step 940: 0.9675\n",
      "Accuracy at step 950: 0.9669\n",
      "Accuracy at step 960: 0.97\n",
      "Accuracy at step 970: 0.9679\n",
      "Accuracy at step 980: 0.9684\n",
      "Accuracy at step 990: 0.9663\n",
      "Adding run metadata for 999\n"
     ]
    }
   ],
   "source": [
    "def feed_dict(train):\n",
    "    if train:\n",
    "        xs, ys = mnist.train.next_batch(100)\n",
    "        k = dropout\n",
    "    else:\n",
    "        xs, ys = mnist.test.images, mnist.test.labels\n",
    "        k = 1.0\n",
    "    return {x:xs, y_: ys, keep_prob: k}\n",
    "\n",
    "saver = tf.train.Saver()\n",
    "for i in range(max_steps):\n",
    "    if i % 10 == 0:\n",
    "        summary, acc = sess.run([merged, accuracy], feed_dict=feed_dict(False))\n",
    "        test_writer.add_summary(summary, i)\n",
    "        print('Accuracy at step %s: %s' % (i, acc))\n",
    "    else:\n",
    "        if i % 100 == 99:\n",
    "            run_options = tf.RunOptions(trace_level=tf.RunOptions.FULL_TRACE)\n",
    "            run_metadata = tf.RunMetadata()\n",
    "            summary, _ = sess.run([merged, train_step], feed_dict=feed_dict(True),\n",
    "                                  options=run_options, run_metadata=run_metadata)\n",
    "            train_writer.add_run_metadata(run_metadata, 'step%03d' % i)\n",
    "            train_writer.add_summary(summary, i)\n",
    "            saver.save(sess, log_dir + \"/model.ckpt\", i)\n",
    "            print('Adding run metadata for', i)\n",
    "        else:\n",
    "            summary, _ = sess.run([merged, train_step], feed_dict=feed_dict(True))\n",
    "            train_writer.add_summary(summary, i)\n",
    "train_writer.close()\n",
    "test_writer.close()"
   ]
  },
  {
   "cell_type": "code",
   "execution_count": null,
   "metadata": {
    "collapsed": true
   },
   "outputs": [],
   "source": []
  }
 ],
 "metadata": {
  "anaconda-cloud": {},
  "kernelspec": {
   "display_name": "Python [Root]",
   "language": "python",
   "name": "Python [Root]"
  },
  "language_info": {
   "codemirror_mode": {
    "name": "ipython",
    "version": 3
   },
   "file_extension": ".py",
   "mimetype": "text/x-python",
   "name": "python",
   "nbconvert_exporter": "python",
   "pygments_lexer": "ipython3",
   "version": "3.5.1"
  }
 },
 "nbformat": 4,
 "nbformat_minor": 0
}
