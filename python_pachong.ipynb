{
 "cells": [
  {
   "cell_type": "code",
   "execution_count": 1,
   "metadata": {
    "collapsed": false
   },
   "outputs": [
    {
     "name": "stdout",
     "output_type": "stream",
     "text": [
      "<http.client.HTTPResponse object at 0x000001AAA451FF98>\n",
      "b'<!DOCTYPE html>\\n<!--STATUS OK-->\\n\\r\\n\\r\\n\\r\\n\\r\\n\\r\\n\\r\\n\\r\\n\\r\\n\\r\\n\\r\\n\\r\\n\\r\\n\\r\\n\\r\\n\\r\\n\\r\\n\\r\\n\\r\\n\\r\\n\\r\\n\\r\\n\\r\\n\\r\\n\\r\\n\\r\\n\\r\\n\\r\\n\\r\\n\\r\\n\\r\\n\\r\\n\\r\\n\\r\\n\\r\\n\\r\\n\\r\\n\\r\\n\\r\\n\\r\\n\\r\\n\\r\\n\\r\\n\\r\\n\\r\\n\\r\\n\\r\\n\\r\\n\\r\\n\\r\\n\\r\\n\\r\\n\\r\\n\\r\\n\\r\\n\\r\\n\\r\\n\\t\\r\\n\\r\\n\\r\\n\\r\\n\\r\\n\\r\\n\\r\\n\\r\\n\\r\\n\\r\\n\\r\\n\\r\\n\\r\\n\\r\\n\\r\\n\\r\\n\\r\\n\\r\\n\\r\\n\\r\\n\\r\\n\\r\\n\\r\\n\\r\\n\\r\\n\\r\\n\\r\\n\\r\\n\\r\\n\\r\\n\\r\\n\\r\\n\\r\\n\\t\\r\\n        \\r\\n\\t\\t\\t        \\r\\n\\t\\r\\n\\t\\t\\t        \\r\\n\\t\\r\\n\\t\\t\\t        \\r\\n\\t\\r\\n\\t\\t\\t        \\r\\n\\t\\t\\t    \\r\\n\\r\\n\\t\\r\\n        \\r\\n\\t\\t\\t        \\r\\n\\t\\r\\n\\t\\t\\t        \\r\\n\\t\\r\\n\\t\\t\\t        \\r\\n\\t\\r\\n\\t\\t\\t        \\r\\n\\t\\t\\t    \\r\\n\\r\\n\\r\\n\\r\\n\\n\\n\\n\\n\\n\\n\\n\\n\\n\\n\\n\\n\\n\\n\\n\\n\\n\\n\\n\\r\\n\\n<html>\\n<head>\\n    \\n    <meta http-equiv=\"content-type\" content=\"text/html;charset=utf-8\">\\n    <meta http-equiv=\"X-UA-Compatible\" content=\"IE=Edge\">\\n\\t<meta content=\"always\" name=\"referrer\">\\n    <meta name=\"theme-color\" content=\"#2932e1\">\\n    <link rel=\"shortcut icon\" href=\"/favicon.ico\" type=\"image/x-icon\" />\\n    <link rel=\"search\" type=\"application/opensearchdescription+xml\" href=\"/content-search.xml\" title=\"\\xe7\\x99\\xbe\\xe5\\xba\\xa6\\xe6\\x90\\x9c\\xe7\\xb4\\xa2\" /> \\n    <link rel=\"icon\" sizes=\"any\" mask href=\"//www.baidu.com/img/baidu.svg\">\\n\\t\\n\\t\\n\\t<link rel=\"dns-prefetch\" href=\"//s1.bdstatic.com\"/>\\n\\t<link rel=\"dns-prefetch\" hre'\n"
     ]
    }
   ],
   "source": [
    "from urllib.request import urlopen\n",
    "response = urlopen('http://www.baidu.com/')  \n",
    "html = response.read()\n",
    "print (response)\n",
    "print (html[0:1000])"
   ]
  },
  {
   "cell_type": "code",
   "execution_count": 70,
   "metadata": {
    "collapsed": false
   },
   "outputs": [
    {
     "name": "stdout",
     "output_type": "stream",
     "text": [
      "b'  <meta http-equiv=\"X-UA-Compatible\" content=\"IE=Edge\">\\n\\t<meta content=\"always\" name=\"referrer\">\\n    <meta name=\"theme-color\" content=\"#2932e1\">\\n    <link rel=\"shortcut icon\" href=\"/favicon.ico\" type=\"image/x-icon\" />\\n    <link rel=\"search\" type=\"application/opensearchdescription+xml\" href=\"/content-search.xml\" title=\"\\xe7\\x99\\xbe\\xe5\\xba\\xa6\\xe6\\x90\\x9c\\xe7\\xb4\\xa2\" /> \\n    <link rel=\"icon\" sizes=\"any\" mask href=\"//www.baidu.com/img/baidu.svg\">\\n\\t\\n\\t\\n\\t<link rel=\"dns-prefetch\" href=\"//s1.bdstatic.com\"/>\\n\\t<link rel=\"dns-prefetch\" hre'\n",
      "  <meta http-equiv=\"X-UA-Compatible\" content=\"IE=Edge\">\n",
      "\t<meta content=\"always\" name=\"referrer\">\n",
      "    <meta name=\"theme-color\" content=\"#2932e1\">\n",
      "    <link rel=\"shortcut icon\" href=\"/favicon.ico\" type=\"image/x-icon\" />\n",
      "    <link rel=\"search\" type=\"application/opensearchdescription+xml\" href=\"/content-search.xml\" title=\"百度搜索\" /> \n",
      "    <link rel=\"icon\" sizes=\"any\" mask href=\"//www.baidu.com/img/baidu.svg\">\n",
      "\t\n",
      "\t\n",
      "\t<link rel=\"dns-prefetch\" href=\"//s1.bdstatic.com\"/>\n",
      "\t<link rel=\"dns-prefetch\" href=\"//t1.\n"
     ]
    }
   ],
   "source": [
    "import urllib.request\n",
    "req = urllib.request.Request(\"http://www.baidu.com\")\n",
    "response = urllib.request.urlopen(req)\n",
    "html = response.read()\n",
    "html1=html.decode('utf-8')\n",
    "print (html[500:1000])\n",
    "print (html1[500:1000])"
   ]
  },
  {
   "cell_type": "markdown",
   "metadata": {},
   "source": [
    "### POST和GET数据传送"
   ]
  },
  {
   "cell_type": "markdown",
   "metadata": {},
   "source": [
    "#### POST方式："
   ]
  },
  {
   "cell_type": "code",
   "execution_count": 4,
   "metadata": {
    "collapsed": false
   },
   "outputs": [
    {
     "name": "stdout",
     "output_type": "stream",
     "text": [
      "b'username=cdkskytown&password=cdk120803'\n",
      "\n",
      "<html>\n",
      "  <head>\n",
      "    <meta charset=\"utf-8\" />\n",
      "    <meta http-equiv=\"X-UA-Compatible\" content=\"\n"
     ]
    }
   ],
   "source": [
    "import urllib.request\n",
    " \n",
    "values = {\"username\":\"cdkskytown\",\"password\":\"cdk120803\"}\n",
    "data = urllib.parse.urlencode(values).encode('utf-8')\n",
    "print (data)\n",
    "url = \"https://passport.csdn.net/account/login?from=http://my.csdn.net/my/mycsdn\"\n",
    "request = urllib.request.Request(url,data)\n",
    "response = urllib.request.urlopen(request)\n",
    "print (response.read()[6:100].decode())"
   ]
  },
  {
   "cell_type": "code",
   "execution_count": 30,
   "metadata": {
    "collapsed": false
   },
   "outputs": [
    {
     "name": "stdout",
     "output_type": "stream",
     "text": [
      "<html>\n",
      "  <head>\n",
      "    <meta charset=\"utf-8\" />\n",
      "    <meta http-equiv=\"X-UA-Compatible\" content=\"\n"
     ]
    }
   ],
   "source": [
    "#另一种方法\n",
    "import urllib\n",
    " \n",
    "values = {}\n",
    "values['username'] = \"1016903103@qq.com\"\n",
    "values['password'] = \"XXXX\"\n",
    "data = urllib.parse.urlencode(values).encode()\n",
    "url = \"http://passport.csdn.net/account/login?from=http://my.csdn.net/my/mycsdn\"\n",
    "request = urllib.request.Request(url,data)\n",
    "response = urllib.request.urlopen(request)\n",
    "print (response.read()[7:100].decode())"
   ]
  },
  {
   "cell_type": "markdown",
   "metadata": {},
   "source": [
    "#### GET方式："
   ]
  },
  {
   "cell_type": "code",
   "execution_count": 45,
   "metadata": {
    "collapsed": false
   },
   "outputs": [
    {
     "name": "stdout",
     "output_type": "stream",
     "text": [
      "<class 'str'>\n",
      "<html>\n",
      "  <head>\n",
      "    <meta charset=\"utf-8\" />\n",
      "    <meta http-equiv=\"X-UA-Compatible\" content=\"\n"
     ]
    }
   ],
   "source": [
    "import urllib\n",
    "\n",
    "values={}\n",
    "values['username'] = \"1016903103@qq.com\"\n",
    "values['password']=\"XXX\"\n",
    "data = urllib.parse.urlencode(values)\n",
    "url = 'http://passport.csdn.net/account/login'\n",
    "geturl = url + \"?\"+data\n",
    "print (type(geturl))\n",
    "request = urllib.request.Request(geturl)\n",
    "response = urllib.request.urlopen(request)\n",
    "print (response.read()[7:100].decode())"
   ]
  },
  {
   "cell_type": "code",
   "execution_count": 42,
   "metadata": {
    "collapsed": false
   },
   "outputs": [
    {
     "name": "stdout",
     "output_type": "stream",
     "text": [
      "<!DOCTYPE HTML>\r\n",
      "<html>\r\n",
      "<head>\r\n",
      "<meta http-equiv=\"Content-Type\" content=\"text/html; charset=utf-8\">\n"
     ]
    }
   ],
   "source": [
    "import urllib.request\n",
    "import urllib.parse\n",
    "#检索网址为厦大图书馆\n",
    "url = 'http://210.34.4.28/opac/search_adv_result.php'\n",
    "headers = {'User-Agent':'Mozilla/5.0 (Windows NT 10.0; WOW64) AppleWebKit/537.36 (KHTML,like Gecko) Chrome/55.0.2883.103 Safari/537.36', 'Connection':'keep-alive'}\n",
    "#创建要传送的关键词以及检索类型\n",
    "values = {'q0':'挪威的森林', 'sType0':'any'}\n",
    "#编码工作，将字典转换为字符串的格式\n",
    "data = urllib.parse.urlencode(values)\n",
    "#用字符串想加的方式得到新的url\n",
    "full_url = url + '?' + data\n",
    "request = urllib.request.Request(url=full_url, headers=headers)\n",
    "response = urllib.request.urlopen(request).read()\n",
    "html = response.decode('utf-8')\n",
    "print(html[0:100])"
   ]
  },
  {
   "cell_type": "markdown",
   "metadata": {},
   "source": [
    "#### requests"
   ]
  },
  {
   "cell_type": "code",
   "execution_count": 44,
   "metadata": {
    "collapsed": false
   },
   "outputs": [
    {
     "name": "stdout",
     "output_type": "stream",
     "text": [
      "<!DOCTYPE HTML>\r\n",
      "<html>\r\n",
      "<head>\r\n",
      "<meta http-equiv=\"Content-Type\" content=\"text/html; charset=utf-8\">\n"
     ]
    }
   ],
   "source": [
    "import requests\n",
    "#检索网址为厦大图书馆\n",
    "url = 'http://210.34.4.28/opac/search_adv_result.php'\n",
    "headers = {'User-Agent':'Mozilla/5.0 (Windows NT 10.0; WOW64) AppleWebKit/537.36 (KHTML,like Gecko) Chrome/55.0.2883.103 Safari/537.36', 'Connection':'keep-alive'}\n",
    "#创建要传送的关键词以及检索类型\n",
    "params = {'q0':'挪威的森林', 'sType0':'any'}\n",
    "response = requests.get(url=url, params=params, headers=headers)\n",
    "response.encoding = 'utf-8'\n",
    "html = response.text\n",
    "print(html[0:100])"
   ]
  },
  {
   "cell_type": "markdown",
   "metadata": {},
   "source": [
    "### 设置Headers"
   ]
  },
  {
   "cell_type": "code",
   "execution_count": 49,
   "metadata": {
    "collapsed": false
   },
   "outputs": [
    {
     "name": "stdout",
     "output_type": "stream",
     "text": [
      "b'<!DOCTYPE HTML>\\r\\n<html>\\r\\n<head>\\r\\n<meta http-equiv=\"Content-Type\" content=\"text/html; charset=utf-8\">'\n"
     ]
    }
   ],
   "source": [
    "import urllib \n",
    " \n",
    "url = 'http://210.34.4.28/opac/search_adv_result.php'\n",
    "user_agent = 'Mozilla/4.0 (compatible; MSIE 5.5; Windows NT)'  \n",
    "values = {'username' : 'cqc',  'password' : 'XXXX' }  \n",
    "headers = { 'User-Agent' : user_agent }  \n",
    "data = urllib.parse.urlencode(values).encode()\n",
    "request = urllib.request.Request(url, data, headers)  \n",
    "response = urllib.request.urlopen(request)  \n",
    "page = response.read() \n",
    "print (page[0:100])"
   ]
  },
  {
   "cell_type": "markdown",
   "metadata": {},
   "source": [
    "另外，我们还有对付”反盗链”的方式，对付防盗链，服务器会识别headers中的referer是不是它自己，如果不是，有的服务器不会响应，所以我们还可以在headers中加入referer"
   ]
  },
  {
   "cell_type": "code",
   "execution_count": null,
   "metadata": {
    "collapsed": true
   },
   "outputs": [],
   "source": [
    "headers = { 'User-Agent' : 'Mozilla/4.0 (compatible; MSIE 5.5; Windows NT)'  ,\n",
    "                        'Referer':'http://www.zhihu.com/articles' }  "
   ]
  },
  {
   "cell_type": "markdown",
   "metadata": {},
   "source": [
    " User-Agent : 有些服务器或 Proxy 会通过该值来判断是否是浏览器发出的请求\n",
    " Content-Type : 在使用 REST 接口时，服务器会检查该值，用来确定 HTTP Body 中的内容该怎样解析。\n",
    " application/xml ： 在 XML RPC，如 RESTful/SOAP 调用时使用\n",
    " application/json ： 在 JSON RPC 调用时使用\n",
    " application/x-www-form-urlencoded ： 浏览器提交 Web 表单时使用\n",
    " 在使用服务器提供的 RESTful 或 SOAP 服务时， Content-Type 设置错误会导致服务器拒绝服务"
   ]
  },
  {
   "cell_type": "markdown",
   "metadata": {},
   "source": [
    "#### Proxy（代理）的设置"
   ]
  },
  {
   "cell_type": "markdown",
   "metadata": {},
   "source": [
    "urllib2 默认会使用环境变量 http_proxy 来设置 HTTP Proxy。假如一个网站它会检测某一段时间某个IP 的访问次数，如果访问次数过多，它会禁止你的访问。所以你可以设置一些代理服务器来帮助你做工作，每隔一段时间换一个代理，网站君都不知道是谁在捣鬼了，这酸爽！"
   ]
  },
  {
   "cell_type": "code",
   "execution_count": 51,
   "metadata": {
    "collapsed": false
   },
   "outputs": [],
   "source": [
    "import urllib\n",
    "enable_proxy = True\n",
    "proxy_handler = urllib.request.ProxyHandler({\"http\" : 'http://some-proxy.com:8080'})\n",
    "null_proxy_handler = urllib.request.ProxyHandler({})\n",
    "if enable_proxy:\n",
    "    opener = urllib.request.build_opener(proxy_handler)\n",
    "else:\n",
    "    opener = urllib.request.build_opener(null_proxy_handler)\n",
    "urllib.request.install_opener(opener)"
   ]
  },
  {
   "cell_type": "markdown",
   "metadata": {},
   "source": [
    "#### 使用DebugLog"
   ]
  },
  {
   "cell_type": "code",
   "execution_count": 65,
   "metadata": {
    "collapsed": false
   },
   "outputs": [
    {
     "name": "stdout",
     "output_type": "stream",
     "text": [
      "<html>\n",
      "<head>\n",
      "    \n",
      "    <meta http-equiv=\"content-type\" content=\"text/html;charset=utf-8\">\n",
      "    <meta http-equiv=\"X-UA-Compatible\" content=\"IE=Edge\">\n",
      "\t<meta content=\"always\" name=\"referrer\">\n",
      "    <meta name=\"theme-color\" content=\"#2932e1\">\n",
      "    <link rel=\"shortcut icon\" href=\"/favicon.ico\" type=\"image/x-icon\" />\n",
      "    <link rel=\"search\" type=\"application/opensearchdescription+xml\" href=\"/content-search.xml\" title=\"百度搜索\" /> \n",
      "    <link rel=\"icon\" sizes=\"any\" mask href=\"//www.baidu.com/img/baidu.svg\">\n",
      "\t\n",
      "\t\n",
      "\t<link rel=\"dns-prefetch\" href=\"//s1.bdstatic.com\"/>\n",
      "\t<link rel=\"dns-prefetch\" href=\"//t1.\n"
     ]
    }
   ],
   "source": [
    "import urllib\n",
    "httpHandler = urllib.request.HTTPHandler(debuglevel=1)\n",
    "httpsHandler = urllib.request.HTTPSHandler(debuglevel=1)\n",
    "opener = urllib.request.build_opener(httpHandler, httpsHandler)\n",
    "urllib.request.install_opener(opener)\n",
    "response = urllib.request.urlopen('http://www.baidu.com')\n",
    "html = response.read().decode('utf-8')\n",
    "print(html[408:1000])"
   ]
  },
  {
   "cell_type": "markdown",
   "metadata": {},
   "source": [
    "### URLError"
   ]
  },
  {
   "cell_type": "markdown",
   "metadata": {},
   "source": [
    "首先解释下URLError可能产生的原因：\n",
    "\n",
    "网络无连接，即本机无法上网\n",
    "\n",
    "连接不到特定的服务器\n",
    "\n",
    "服务器不存在"
   ]
  },
  {
   "cell_type": "code",
   "execution_count": 138,
   "metadata": {
    "collapsed": false
   },
   "outputs": [
    {
     "name": "stdout",
     "output_type": "stream",
     "text": [
      "Forbidden\n"
     ]
    }
   ],
   "source": [
    "import urllib\n",
    " \n",
    "req = urllib.request.Request('http://blog.csdn.net/cqcre1')\n",
    "try:\n",
    "    response =urllib.request.urlopen(req)\n",
    "    page = response.read() \n",
    "    print (page[0:100])\n",
    "except urllib.request.URLError as e:\n",
    "    print (e.reason)"
   ]
  },
  {
   "cell_type": "code",
   "execution_count": 136,
   "metadata": {
    "collapsed": false
   },
   "outputs": [
    {
     "name": "stdout",
     "output_type": "stream",
     "text": [
      "403\n",
      "Forbidden\n"
     ]
    }
   ],
   "source": [
    "import urllib\n",
    "req = urllib.request.Request('http://blog.csdn.net/cqcre1')\n",
    "try:\n",
    "    urllib.request.urlopen(req)\n",
    "except urllib.request.HTTPError as e:\n",
    "    print (e.code)\n",
    "    print (e.reason)"
   ]
  },
  {
   "cell_type": "code",
   "execution_count": 137,
   "metadata": {
    "collapsed": false
   },
   "outputs": [
    {
     "name": "stdout",
     "output_type": "stream",
     "text": [
      "403\n"
     ]
    }
   ],
   "source": [
    "import urllib\n",
    "req = urllib.request.Request('http://blog.csdn.net/cqcre1')\n",
    "try:\n",
    "    urllib.request.urlopen(req)\n",
    "    page = response.read() \n",
    "    print (page[0:100])\n",
    "except urllib.request.HTTPError as e:\n",
    "    print (e.code)\n",
    "except urllib.request.URLError as e:\n",
    "    print (e.reason)\n",
    "else:\n",
    "    print (\"OK\")\n"
   ]
  },
  {
   "cell_type": "markdown",
   "metadata": {},
   "source": [
    "### Cookie"
   ]
  },
  {
   "cell_type": "markdown",
   "metadata": {},
   "source": [
    "#### Cookielib"
   ]
  },
  {
   "cell_type": "markdown",
   "metadata": {},
   "source": [
    "   cookielib模块的主要作用是提供可存储cookie的对象，以便于与urllib2模块配合使用来访问Internet资源。Cookielib模块非常强大，我们可以利用本模块的CookieJar类的对象来捕获cookie并在后续连接请求时重新发送，比如可以实现模拟登录功能。该模块主要的对象有CookieJar、FileCookieJar、MozillaCookieJar、LWPCookieJar。\n",
    "\n",
    "它们的关系：CookieJar —-派生—->FileCookieJar  —-派生—–>MozillaCookieJar和LWPCookieJar"
   ]
  },
  {
   "cell_type": "markdown",
   "metadata": {},
   "source": [
    "#### 获取Cookie保存到变量"
   ]
  },
  {
   "cell_type": "code",
   "execution_count": 85,
   "metadata": {
    "collapsed": false
   },
   "outputs": [
    {
     "name": "stdout",
     "output_type": "stream",
     "text": [
      "Name = BAIDUID\n",
      "Value = 6C1D06985734FA9273AE95F09B5D4502:FG=1\n",
      "Name = BIDUPSID\n",
      "Value = 6C1D06985734FA9273AE95F09B5D4502\n",
      "Name = H_PS_PSSID\n",
      "Value = 1450_21083_17001_20929\n",
      "Name = PSTM\n",
      "Value = 1499760104\n",
      "Name = BDSVRTM\n",
      "Value = 0\n",
      "Name = BD_HOME\n",
      "Value = 0\n"
     ]
    }
   ],
   "source": [
    "import http.cookiejar as cookielib\n",
    "#声明一个CookieJar对象实例来保存cookie\n",
    "cookie = cookielib.CookieJar()\n",
    "#利用urllib2库的HTTPCookieProcessor对象来创建cookie处理器\n",
    "handler=urllib.request.HTTPCookieProcessor(cookie)\n",
    "#通过handler来构建opener\n",
    "opener = urllib.request.build_opener(handler)\n",
    "#此处的open方法同urllib2的urlopen方法，也可以传入request\n",
    "response = opener.open('http://www.baidu.com')\n",
    "for item in cookie:\n",
    "    print ('Name = '+item.name)\n",
    "    print ('Value = '+item.value)"
   ]
  },
  {
   "cell_type": "markdown",
   "metadata": {},
   "source": [
    "#### 保存Cookie到文件"
   ]
  },
  {
   "cell_type": "code",
   "execution_count": 86,
   "metadata": {
    "collapsed": true
   },
   "outputs": [],
   "source": [
    "import http.cookiejar as cookielib\n",
    "import urllib\n",
    " \n",
    "#设置保存cookie的文件，同级目录下的cookie.txt\n",
    "filename = 'cookie.txt'\n",
    "#声明一个MozillaCookieJar对象实例来保存cookie，之后写入文件\n",
    "cookie = cookielib.MozillaCookieJar(filename)\n",
    "#利用urllib2库的HTTPCookieProcessor对象来创建cookie处理器\n",
    "handler = urllib.request.HTTPCookieProcessor(cookie)\n",
    "#通过handler来构建opener\n",
    "opener = urllib.request.build_opener(handler)\n",
    "#创建一个请求，原理同urllib2的urlopen\n",
    "response = opener.open(\"http://www.baidu.com\")\n",
    "#保存cookie到文件\n",
    "cookie.save(ignore_discard=True, ignore_expires=True)"
   ]
  },
  {
   "cell_type": "markdown",
   "metadata": {},
   "source": [
    "#### 从文件中获取Cookie并访问"
   ]
  },
  {
   "cell_type": "markdown",
   "metadata": {},
   "source": [
    "把Cookie保存到文件中了，如果以后想使用，可以利用下面的方法来读取cookie并访问网站，感受一下"
   ]
  },
  {
   "cell_type": "code",
   "execution_count": 93,
   "metadata": {
    "collapsed": false
   },
   "outputs": [
    {
     "name": "stdout",
     "output_type": "stream",
     "text": [
      "<!DOCTYPE html>\n",
      "<!--STATUS OK-\n"
     ]
    }
   ],
   "source": [
    "import http.cookiejar as cookielib\n",
    "import urllib\n",
    " \n",
    "#创建MozillaCookieJar实例对象\n",
    "cookie = cookielib.MozillaCookieJar()\n",
    "#从文件中读取cookie内容到变量\n",
    "cookie.load('cookie.txt', ignore_discard=True, ignore_expires=True)\n",
    "#创建请求的request\n",
    "req = urllib.request.Request(\"http://www.baidu.com\")\n",
    "#利用urllib2的build_opener方法创建一个opener\n",
    "opener = urllib.request.build_opener(urllib.request.HTTPCookieProcessor(cookie))\n",
    "response = opener.open(req)\n",
    "print (response.read()[0:30].decode())"
   ]
  },
  {
   "cell_type": "markdown",
   "metadata": {},
   "source": [
    "#### 利用cookie模拟网站登录"
   ]
  },
  {
   "cell_type": "code",
   "execution_count": 97,
   "metadata": {
    "collapsed": false
   },
   "outputs": [
    {
     "name": "stdout",
     "output_type": "stream",
     "text": [
      "\r\n",
      "\r\n",
      "<!DOCTYPE html PUBLIC \"-//W3C//DTD XHTML 1.0 Transitional//EN\" \"http://www.w3.org/TR/xhtml1/DTD/xhtml1-transitional.dtd\">\r\n",
      "<html xmlns=\"http://www.w3.org/1999/xhtml\">\r\n",
      "<head><link href=\"../App_Themes/Gwork/StyleSheet.css\" type=\"text/css\" rel=\"stylesheet\" /><script src='/js/gwork.js' type='text/javascript'></script><title>\r\n",
      "\t\r\n",
      "        北京邮电大学研究生信息数字化管理系统\r\n",
      "    \r\n",
      "</title><link rel=\"shortcut icon\" href=\"../images/favicon.ico\" />\r\n",
      "    <style type=\"text/css\">\r\n",
      "        .index_more\r\n",
      "        {\r\n",
      "            background: #035ca2; /* Old browsers */ /* IE9 SVG, needs conditional override of 'filter' to 'none' */\r\n",
      "            background: -moz-linear-gradient(left,  #035ca2 0%,white 100%); /* FF3.6+ */\r\n",
      "            background: -webkit-gradient(linear, left top, right top, color-stop(0%,#035ca2),color-stop(100%,white)); /* Chrome,Safari4+ */\r\n",
      "            background: -webkit-linear-gradient(left,  #035ca2 0%,white 100%); /* Chrome10+,Safari5.1+ */\r\n",
      "            background: -o-linear-gradient(left,  #035ca2 0%,white 100%); /* Opera 11.10+ */\r\n",
      "            background: -ms-linear-gradient(left,  #035ca2 0%,white 100%); /* IE10+ */\r\n",
      "            background: linear-gradient(to right,  #035ca2 0%,white 100%); /* W3C */\r\n",
      "            filter: progid:DXImageTransform.Microsoft.gradient( startColorstr='#035ca2', endColorstr='white',GradientType=1 ); /* IE6-8 */\r\n",
      "        }\r\n",
      "    </style>\r\n",
      "    <script type=\"text/javascript\" src=\"/js/jquery/jquery.js\"></script>\r\n",
      "    <link rel=\"stylesheet\" type=\"text/css\" href=\"/js/jqueryeasyui/etongui.css\" />    \r\n",
      "     <script type=\"text/javascript\" src=\"/js/jqueryeasyui/jquery.easyui.min.js\"></script>  \r\n",
      "     <script type=\"text/javascript\" src=\"/js/lhgdialog/lhgdialog.min.js\"></script>     \r\n",
      "    <style type=\"text/css\">    \r\n",
      "       .headerCls \r\n",
      "       {\r\n",
      "           text-align:left;\r\n",
      "           color:White;\r\n",
      "           background:url('/js/jqueryeasyui/images/accordion_dy_h.gif');\r\n",
      "       }  \r\n",
      "       .menuS a\r\n",
      "        {\r\n",
      "            font-weight: normal;\r\n",
      "            font-size: 12px;\r\n",
      "            text-decoration: none;\r\n",
      "            color: White;\r\n",
      "        }\r\n",
      "        .menuS a:hover\r\n",
      "        {\r\n",
      "            font-weight: normal;\r\n",
      "            font-size: 12px;\r\n",
      "            text-decoration: none;\r\n",
      "            color:#ffb200;\r\n",
      "            border-bottom: 0px;\r\n",
      "        }\r\n",
      "    </style>\r\n",
      "</head>\r\n",
      "<body class=\"easyui-layout\">\r\n",
      "    <div region=\"north\"  border=\"false\" style=\"height: 113px; padding: 0px; margin:0px;overflow: hidden;\">\r\n",
      "     <div class=\"index_more\" style=\"height: 80px; width:100%;text-align: left; margin:1px; padding:0px\">\r\n",
      "        <img src=\"../images/login/banner.png\" height=\"100%\" /><span style=\"position: absolute; left:250px;\r\n",
      "            top: 30px; font-size: 24px; font-weight: bolder; color: White; font-family: 楷体,楷体_GB2312;\">\r\n",
      "            研究生信息数字化管理系统</span>\r\n",
      "<div style =\"float:right;width:160px;height:80px\">\r\n",
      "<div style =\"margin-top:10px;width:20px;float:left;color:red\">\r\n",
      "微<br/>信<br/>关<br/>注</div>\r\n",
      "<div style =\"float:right;margin-right:60px;\">\r\n",
      "     <img src=\"/images/qrcode.jpg\" width=\"79\" height=\"79\"  />\r\n",
      "</div>\r\n",
      "    </div>\r\n",
      "    </div>\r\n",
      "     <div style=\"height: 30px;width:100%; margin: 1px;padding:0px\">\r\n",
      "        <iframe id=\"topmenuFrame\" name=\"topmenuFrame\" frameborder=\"0\" width=\"100%\"  scrolling=\"no\"\r\n",
      "            height=\"100%\"></iframe>\r\n",
      "    </div>\r\n",
      "    </div>  \r\n",
      "    <div region=\"west\" split=\"true\" title=\"<div class='menuS'><a title='快捷菜单' style='margin-left:10px;height:18px' href='LeftMenu.aspx?menu=00' target='MenuFrame'>快捷</a> <a title='搜索菜单功能' style='margin-left:10px;height:18px' href='javascript:void(0)' onclick=$.dialog({id:'menuID',title:'搜索菜单功能',content:'url:/Gstudent/LeftMenuSearch.aspx',width:'300px',height:'100px',lock:false,min:true,max:false,drag:true,resize:false});>搜索</a></div>\" style=\"width: 160px;overflow: hidden;\" headerCls=\"headerCls\" >\r\n",
      "          <iframe id=\"MenuFrame\" name=\"MenuFrame\" width=\"100%\" scrolling=\"no\" frameborder=\"0\" \r\n",
      "                height=\"100%\"></iframe>\r\n",
      "    </div>\r\n",
      "   \r\n",
      "    <div region=\"center\" style=\"overflow:hidden;\"  border=\"0\" >\r\n",
      "        <iframe id=\"PageFrame\" name=\"PageFrame\" frameborder=\"0\" width=\"100%\" scrolling=\"auto\"\r\n",
      "                height=\"100%\"></iframe>\r\n",
      "    </div> \r\n",
      "      <script type=\"text/javascript\">\r\n",
      "          var url = location.href;\r\n",
      "          var uid = url.split(\"?\")[1];\r\n",
      "          document.getElementById(\"MenuFrame\").src = \"leftmenu.aspx?\" + uid;\r\n",
      "          document.getElementById(\"PageFrame\").src = \"loging.aspx?\" + uid;\r\n",
      "          document.getElementById(\"topmenuFrame\").src = \"topmenu.aspx?\" + uid;\r\n",
      "    </script> \r\n",
      "</body>\r\n",
      "</html>\r\n",
      "\n"
     ]
    }
   ],
   "source": [
    "import http.cookiejar as cookielib\n",
    "import urllib\n",
    " \n",
    "filename = 'cookie1.txt'\n",
    "#声明一个MozillaCookieJar对象实例来保存cookie，之后写入文件\n",
    "cookie = cookielib.MozillaCookieJar(filename)\n",
    "opener = urllib.request.build_opener(urllib.request.HTTPCookieProcessor(cookie))\n",
    "postdata = urllib.parse.urlencode({\n",
    "            'stuid':'2016140268',\n",
    "            'pwd':'421182199411230039'\n",
    "        }).encode()\n",
    "#登录教务系统的URL\n",
    "loginUrl = 'http://jwxt.bupt.edu.cn/'\n",
    "#模拟登录，并把cookie保存到变量\n",
    "result = opener.open(loginUrl,postdata)\n",
    "#保存cookie到cookie.txt中\n",
    "cookie.save(ignore_discard=True, ignore_expires=True)\n",
    "#利用cookie请求访问另一个网址，此网址是成绩查询网址\n",
    "#http://yjxt.bupt.edu.cn/Gstudent/Default.aspx?UID=2016140268\n",
    "gradeUrl = 'http://yjxt.bupt.edu.cn/Gstudent/Default.aspx'\n",
    "#请求访问成绩查询网址\n",
    "result = opener.open(gradeUrl)\n",
    "print (result.read().decode())"
   ]
  },
  {
   "cell_type": "markdown",
   "metadata": {},
   "source": [
    "### Python爬虫抓取 python tutorial中文版，保存为word "
   ]
  },
  {
   "cell_type": "code",
   "execution_count": 31,
   "metadata": {
    "collapsed": false
   },
   "outputs": [
    {
     "name": "stdout",
     "output_type": "stream",
     "text": [
      "<Element html at 0x2922d4eec08>\n",
      "2\n",
      "Python 入门指南¶\n",
      "[<Element li at 0x2922f4b9848>, <Element li at 0x2922f4b9888>, <Element li at 0x2922f4b9708>, <Element li at 0x2922f4b9788>, <Element li at 0x2922f4b9588>, <Element li at 0x2922f4b9748>, <Element li at 0x2922f4b97c8>, <Element li at 0x2922f4b9808>, <Element li at 0x2922f4b96c8>, <Element li at 0x2922f4b9548>, <Element li at 0x2922f4b9288>, <Element li at 0x2922f4b9508>, <Element li at 0x2922d48bb48>, <Element li at 0x2922d4ee188>, <Element li at 0x2922d53ae48>, <Element li at 0x2922d53ab08>]\n",
      "1. 开胃菜\n",
      "2. 使用 Python 解释器\n",
      "3. Python 简介\n",
      "4. 深入 Python 流程控制\n",
      "5. 数据结构\n",
      "6. 模块\n",
      "7. 输入和输出\n",
      "8. 错误和异常\n",
      "9. 类\n",
      "10. Python 标准库概览\n",
      "11. 标准库浏览 – Part II\n",
      "12. 虚拟环境和包\n",
      "13. 接下来？\n",
      "14. 交互式输入行编辑历史回溯\n",
      "15. 浮点数算法：争议和限制\n",
      "16. 附录\n",
      "['http://www.pythondoc.com/pythontutorial3/appetite.html', 'http://www.pythondoc.com/pythontutorial3/interpreter.html', 'http://www.pythondoc.com/pythontutorial3/introduction.html', 'http://www.pythondoc.com/pythontutorial3/controlflow.html', 'http://www.pythondoc.com/pythontutorial3/datastructures.html', 'http://www.pythondoc.com/pythontutorial3/modules.html', 'http://www.pythondoc.com/pythontutorial3/inputoutput.html', 'http://www.pythondoc.com/pythontutorial3/errors.html', 'http://www.pythondoc.com/pythontutorial3/classes.html', 'http://www.pythondoc.com/pythontutorial3/stdlib.html', 'http://www.pythondoc.com/pythontutorial3/stdlib2.html', 'http://www.pythondoc.com/pythontutorial3/venv.html', 'http://www.pythondoc.com/pythontutorial3/whatnow.html', 'http://www.pythondoc.com/pythontutorial3/interactive.html', 'http://www.pythondoc.com/pythontutorial3/floatingpoint.html', 'http://www.pythondoc.com/pythontutorial3/appendix.html']\n",
      "2\n",
      "1. 开胃菜¶\n",
      "2\n",
      "2. 使用 Python 解释器¶\n",
      "2\n",
      "3. Python 简介¶\n",
      "2\n",
      "4. 深入 Python 流程控制¶\n",
      "2\n",
      "5. 数据结构¶\n",
      "2\n",
      "6. 模块¶\n",
      "2\n",
      "7. 输入和输出¶\n",
      "2\n",
      "8. 错误和异常¶\n",
      "2\n",
      "9. 类¶\n",
      "2\n",
      "10. Python 标准库概览¶\n",
      "2\n",
      "11. 标准库浏览 – Part II¶\n",
      "2\n",
      "12. 虚拟环境和包¶\n",
      "2\n",
      "13. 接下来？¶\n",
      "2\n",
      "14. 交互式输入行编辑历史回溯¶\n",
      "2\n",
      "15. 浮点数算法：争议和限制¶\n",
      "2\n",
      "16. 附录¶\n"
     ]
    }
   ],
   "source": [
    "from bs4 import BeautifulSoup\n",
    "from lxml import etree\n",
    "import os #将其放置于顶部\n",
    "import requests\n",
    "\n",
    "def introduce(url):\n",
    "    res = requests.get(url)\n",
    "    res.encoding = 'utf-8'\n",
    "    soup = BeautifulSoup(res.text, 'html.parser')\n",
    "    title = soup.select('h1')[0].text\n",
    "    content = '\\n  '.join([p.text.strip() for p in soup.select('.section')])\n",
    "    \n",
    "    with open('python.doc', 'a+', encoding='utf-8') as f:\n",
    "        f.write(content)\n",
    "    print (2)\n",
    "    print(title)\n",
    "#     print (1)\n",
    "#     print(content)\n",
    "    \n",
    "# 返回目录所对应的地址\n",
    "def get_url(selector):\n",
    "    sites = selector.xpath('//div[@class=\"toctree-wrapper compound\"]/ul/li')\n",
    "    print (sites)\n",
    "    address = []\n",
    "    for site in sites:\n",
    "        directory = ''.join(site.xpath('a/text()'))\n",
    "        print (directory)\n",
    "        new_url = site.xpath('a/@href')\n",
    "        address.append('http://www.pythondoc.com/pythontutorial3/' + ''.join(new_url))\n",
    "    return address\n",
    "\n",
    "def main(): \n",
    "    url = 'http://www.pythondoc.com/pythontutorial3/index.html#'\n",
    "    html = requests.get(url)\n",
    "    html.encoding = 'utf-8'\n",
    "    #print (html.text) 获得代码\n",
    "    selector = etree.HTML(html.text)\n",
    "    print (selector)\n",
    "    introduce(url)\n",
    "    url_list = get_url(selector)\n",
    "    print (url_list)\n",
    "    for url in url_list:\n",
    "        introduce(url)\n",
    "\n",
    "if __name__ == '__main__':\n",
    "    main()"
   ]
  },
  {
   "cell_type": "markdown",
   "metadata": {
    "collapsed": true
   },
   "source": [
    "XPath的使用方法： \n",
    "首先讲一下XPath的基本语法知识： \n",
    "四种标签的使用方法 \n",
    "1) // 双斜杠 定位根节点，会对全文进行扫描，在文档中选取所有符合条件的内容，以列表的形式返回。 \n",
    "2) / 单斜杠 寻找当前标签路径的下一层路径标签或者对当前路标签内容进行操作 \n",
    "3) /text() 获取当前路径下的文本内容 \n",
    "4) /@xxxx 提取当前路径下标签的属性值 \n",
    "5) | 可选符 使用|可选取若干个路径 如//p | //div 即在当前路径下选取所有符合条件的p标签和div标签。 \n",
    "6) . 点 用来选取当前节点 \n",
    "7) .. 双点 选取当前节点的父节点 \n",
    "另外还有starts-with(@属性名称,属性字符相同部分)，string(.)两种重要的特殊方法后面将重点讲。"
   ]
  },
  {
   "cell_type": "code",
   "execution_count": 109,
   "metadata": {
    "collapsed": false
   },
   "outputs": [
    {
     "name": "stdout",
     "output_type": "stream",
     "text": [
      "NO.1\n",
      "NO.2\n",
      "NO.3\n"
     ]
    }
   ],
   "source": [
    "from lxml import etree\n",
    "html=\"\"\"\n",
    "    <!DOCTYPE html>\n",
    "    <html>\n",
    "        <head lang=\"en\">\n",
    "        <title>测试</title>\n",
    "        <meta http-equiv=\"Content-Type\" content=\"text/html; charset=utf-8\" />\n",
    "        </head>\n",
    "        <body>\n",
    "            <div id=\"content\">\n",
    "                <ul id=\"ul\">\n",
    "                    <li>NO.1</li>\n",
    "                    <li>NO.2</li>\n",
    "                    <li>NO.3</li>\n",
    "                </ul>\n",
    "                <ul id=\"ul2\">\n",
    "                    <li>one</li>\n",
    "                    <li>two</li>\n",
    "                </ul>\n",
    "            </div>\n",
    "            <div id=\"url\">\n",
    "                <a href=\"http:www.58.com\" title=\"58\">58</a>\n",
    "                <a href=\"http:www.csdn.net\" title=\"CSDN\">CSDN</a>\n",
    "            </div>\n",
    "        </body>\n",
    "    </html>\n",
    "\"\"\"\n",
    "selector=etree.HTML(html)\n",
    "content=selector.xpath('//div[@id=\"content\"]/ul[@id=\"ul\"]/li/text()') #这里使用id属性来定位哪个div和ul被匹配 使用text()获取文本内容\n",
    "for i in content:\n",
    "    print (i)"
   ]
  },
  {
   "cell_type": "code",
   "execution_count": 110,
   "metadata": {
    "collapsed": false
   },
   "outputs": [
    {
     "name": "stdout",
     "output_type": "stream",
     "text": [
      "http:www.58.com\n",
      "http:www.csdn.net\n"
     ]
    }
   ],
   "source": [
    "con=selector.xpath('//a/@href') #这里使用//从全文中定位符合条件的a标签，使用“@标签属性”获取a便签的href属性值\n",
    "for each in con:\n",
    "    print (each)"
   ]
  },
  {
   "cell_type": "code",
   "execution_count": 112,
   "metadata": {
    "collapsed": false
   },
   "outputs": [
    {
     "name": "stdout",
     "output_type": "stream",
     "text": [
      "2\n",
      "58 CSDN\n"
     ]
    }
   ],
   "source": [
    "con=selector.xpath('/html/body/div/a/@title') #使用绝对路径定位a标签的title\n",
    "con=selector.xpath('//a/@title') #使用相对路径定位 两者效果是一样的\n",
    "print (len(con))\n",
    "print (con[0],con[1])"
   ]
  },
  {
   "cell_type": "markdown",
   "metadata": {},
   "source": [
    "#### 介绍XPath的特殊用法： \n",
    "1) starts-with 解决标签属性值以相同字符串开头的情况"
   ]
  },
  {
   "cell_type": "code",
   "execution_count": 114,
   "metadata": {
    "collapsed": false
   },
   "outputs": [
    {
     "name": "stdout",
     "output_type": "stream",
     "text": [
      "aa\n",
      "ab\n",
      "ac\n"
     ]
    }
   ],
   "source": [
    "from lxml import etree\n",
    "html=\"\"\"\n",
    "    <body>\n",
    "        <div id=\"aa\">aa</div>\n",
    "        <div id=\"ab\">ab</div>\n",
    "        <div id=\"ac\">ac</div>\n",
    "    </body>\n",
    "    \"\"\"\n",
    "selector=etree.HTML(html)\n",
    "content=selector.xpath('//div[starts-with(@id,\"a\")]/text()') #这里使用starts-with方法提取div的id标签属性值开头为a的div标签\n",
    "for each in content:\n",
    "    print (each)"
   ]
  },
  {
   "cell_type": "markdown",
   "metadata": {},
   "source": [
    "2） string(.) 标签套标签"
   ]
  },
  {
   "cell_type": "code",
   "execution_count": 28,
   "metadata": {
    "collapsed": false
   },
   "outputs": [
    {
     "name": "stdout",
     "output_type": "stream",
     "text": [
      "\n",
      "    left\n",
      "        \n",
      "\n",
      "        west\n",
      "    \n",
      "l\n",
      "e\n",
      "f\n",
      "t\n",
      "r\n",
      "i\n",
      "g\n",
      "h\n",
      "t\n",
      "u\n",
      "p\n",
      "d\n",
      "o\n",
      "w\n",
      "n\n",
      "e\n",
      "a\n",
      "s\n",
      "t\n",
      "w\n",
      "e\n",
      "s\n",
      "t\n"
     ]
    }
   ],
   "source": [
    "from lxml import etree\n",
    "html=\"\"\"\n",
    "    <div id=\"a\">\n",
    "    left\n",
    "        <span id=\"b\">\n",
    "        right\n",
    "            <ul>\n",
    "            up\n",
    "                <li>down</li>\n",
    "            </ul>\n",
    "        east\n",
    "        </span>\n",
    "        west\n",
    "    </div>\n",
    "\"\"\"\n",
    "#下面是没有用string方法的输出\n",
    "sel=etree.HTML(html)\n",
    "con=sel.xpath('//div[@id=\"a\"]/text()')\n",
    "for i in con:\n",
    "    print (i)   #输出内容为left west\n",
    "\n",
    "data=sel.xpath('//div[@id=\"a\"]')[0]\n",
    "info=data.xpath('string(.)')\n",
    "content=info.replace('\\n','').replace(' ','')\n",
    "for i in content:\n",
    "    print (i) #输出为 全部内容"
   ]
  },
  {
   "cell_type": "markdown",
   "metadata": {},
   "source": [
    "#### XPath提供的几个特殊的方法： \n",
    "XPath中需要取的标签如果没有属性，可以使用text()，posision()来识别标签。"
   ]
  },
  {
   "cell_type": "code",
   "execution_count": 125,
   "metadata": {
    "collapsed": false
   },
   "outputs": [
    {
     "name": "stdout",
     "output_type": "stream",
     "text": [
      "[]\n"
     ]
    }
   ],
   "source": [
    "from lxml import etree\n",
    "html=\"\"\"\n",
    "    <div>hello\n",
    "        <p>H</p>\n",
    "</div>\n",
    "<div>hehe</div>\n",
    "\"\"\"\n",
    "sel=etree.HTML(html)\n",
    "con=sel.xpath('//div[text()=\"hello\"]/p/text()')\n",
    "print (con)"
   ]
  },
  {
   "cell_type": "code",
   "execution_count": 122,
   "metadata": {
    "collapsed": false
   },
   "outputs": [
    {
     "name": "stdout",
     "output_type": "stream",
     "text": [
      "[]\n"
     ]
    }
   ],
   "source": [
    "from lxml import etree\n",
    "html=\"\"\"\n",
    "    <div>hello\n",
    "        <p>H</p>\n",
    "        <p>J</p>\n",
    "        <p>I</p>\n",
    "</div>\n",
    "<div>hehe</div>\n",
    "\"\"\"\n",
    "sel=etree.HTML(html)\n",
    "con=sel.xpath('//div[text()=\"hello\"]/p[posision()=2]/text()')\n",
    "print (con)"
   ]
  },
  {
   "cell_type": "markdown",
   "metadata": {},
   "source": [
    "### 爬取糗事百科段子"
   ]
  },
  {
   "cell_type": "code",
   "execution_count": 155,
   "metadata": {
    "collapsed": false
   },
   "outputs": [],
   "source": [
    "#把 python 伪装成 chrome 去获取糗百的网页，可以顺利的得到数据\n",
    "# -*- coding:utf-8 -*-\n",
    "import urllib\n",
    " \n",
    "page = 1\n",
    "url = 'http://www.qiushibaike.com/hot/page/' + str(page)\n",
    "\n",
    "def getHTML(url):  \n",
    "    headers = {'User-Agent': 'User-Agent:Mozilla/5.0 (Macintosh; Intel Mac OS X 10_12_3) AppleWebKit/537.36 (KHTML, like Gecko) Chrome/56.0.2924.87 Safari/537.36'}  \n",
    "    req = urllib.request.Request(url, headers=headers)  \n",
    "    return urllib.request.urlopen(req)  \n",
    "try:\n",
    "    response = getHTML(url)\n",
    "except urllib.request.URLError as e:\n",
    "    if hasattr(e,\"code\"):\n",
    "        print (e.code)\n",
    "    if hasattr(e,\"reason\"):\n",
    "        print (e.reason)"
   ]
  },
  {
   "cell_type": "code",
   "execution_count": 156,
   "metadata": {
    "collapsed": false
   },
   "outputs": [
    {
     "name": "stdout",
     "output_type": "stream",
     "text": [
      "<!DOCTYPE html PUBLIC \"-//W3C//DTD XHTML 1.0 Transitional//EN\" \"http://www.w3.org/TR/xhtml1/DTD/xhtm\n",
      "[]\n"
     ]
    }
   ],
   "source": [
    "import re\n",
    "content=response.read().decode()\n",
    "print (content[0:100])\n",
    "pattern = re.compile('<div.*?author\">.*?<a.*?<img.*?>(.*?)</a>.*?<div.*?'+\n",
    "                         'content\">(.*?)<!--(.*?)-->.*?</div>(.*?)<div class=\"stats.*?class=\"number\">(.*?)</i>',re.S)\n",
    "items = re.findall(pattern,content)\n",
    "print (items)\n",
    "for item in items:\n",
    "    print (item)"
   ]
  },
  {
   "cell_type": "code",
   "execution_count": null,
   "metadata": {
    "collapsed": true
   },
   "outputs": [],
   "source": [
    "import urllib\n",
    "import re\n",
    " \n",
    "page = 1\n",
    "url = 'http://www.qiushibaike.com/hot/page/' + str(page)\n",
    "user_agent = 'Mozilla/4.0 (compatible; MSIE 5.5; Windows NT)'\n",
    "headers = { 'User-Agent' : user_agent }\n",
    "try:\n",
    "    request = urllib.request.Request(url,headers = headers)\n",
    "    response = urllib.request.urlopen(request)\n",
    "    content = response.read().decode('utf-8')\n",
    "    print (content[0:100])\n",
    "    pattern = re.compile('<h2>(.*?)</h2>.*?<div class=\"content\">(.*?)</div>.*?<i class=\"number\">(.*?)</i>(.*?)</span>',re.S)\n",
    "    items = re.findall(pattern,content)\n",
    "    #print (items)\n",
    "    for item in items:\n",
    "        haveImg = re.search(\"img\",item[3])\n",
    "        if not haveImg:\n",
    "            print (item[0],item[1],item[2],item[3])\n",
    "except urllib.request.URLError as e:\n",
    "    if hasattr(e,\"code\"):\n",
    "        print (e.code)\n",
    "    if hasattr(e,\"reason\"):\n",
    "        print (e.reason)"
   ]
  },
  {
   "cell_type": "code",
   "execution_count": 163,
   "metadata": {
    "collapsed": false
   },
   "outputs": [
    {
     "name": "stdout",
     "output_type": "stream",
     "text": [
      "人间正道是沧桑// \n",
      "\n",
      "\n",
      "\n",
      "<span>四大第三方物流集于一身，哥 这工资得上二万啊</span>\n",
      "\n",
      "\n",
      " 342  好笑\n",
      "日出。等你来 \n",
      "\n",
      "\n",
      "\n",
      "<span>哈哈对胃吗？那蛋疼呢？</span>\n",
      "\n",
      "\n",
      " 299  好笑\n",
      "喜欢捏的笑 \n",
      "\n",
      "\n",
      "\n",
      "<span>去练车的时候，有个美女把安全带系到了副驾驶上<br/>教练问她没感觉不对啊<br/>姑娘说没有啊<br/>教练指着安全带的卡带说</span>\n",
      "\n",
      "\n",
      " 421  好笑\n",
      "寒竹夜家 \n",
      "\n",
      "\n",
      "\n",
      "<span>手术前准备时间，麻醉师陪孩子看动画片，消除孩子的紧张心理！必须点赞～</span>\n",
      "\n",
      "\n",
      " 710  好笑\n",
      "欲湖冰心 \n",
      "\n",
      "\n",
      "\n",
      "<span>暑期，小姨子一家三口来家短住，我正坐客厅沙发，高翘二郎腿陪妹夫聊天，上幼儿园儿子噌噌噌跑过来，把我翘起的腿掰下来，还板着小脸大声呵斥：“爸爸，老师说了，翘二郎腿对身体不好！”<br/>妹夫笑问：“怎么对身体不好？”<br/>小家伙张嘴就回：“鸡～鸡长不大！妈妈还说，爸爸鸡～鸡本来就小！”</span>\n",
      "\n",
      "\n",
      " 2547  好笑\n",
      "匿名用户 \n",
      "\n",
      "\n",
      "\n",
      "<span>生活，活着，珍惜，坚强</span>\n",
      "\n",
      "\n",
      " 309  好笑\n",
      "云栈洞总书记 \n",
      "\n",
      "\n",
      "\n",
      "<span>熊孩子把二哈欺负的离家出走，打过也骂过，然并卵，心想就换个方法吓唬吓唬他吧，或许有用。我：“再淘气就把你卖了！”熊孩子：“谁敢买？”</span>\n",
      "\n",
      "\n",
      " 2112  好笑\n",
      "绦子 \n",
      "\n",
      "\n",
      "\n",
      "<span>标语太扎心了有木有？</span>\n",
      "\n",
      "\n",
      " 430  好笑\n",
      "对方正在偷人…. \n",
      "\n",
      "\n",
      "\n",
      "<span>结婚前…<br/>女朋友跟我说：以后结婚了，工资卡要交给我。<br/>我：凭什么啊？<br/>女朋友：响应国家号召，让一部分人先富起来。<br/><br/>我…</span>\n",
      "\n",
      "\n",
      " 1847  好笑\n",
      "喂~喂~喂！ \n",
      "\n",
      "\n",
      "\n",
      "<span>女友在微信上发来了吃午餐的照片，我关心地问：你中午就吃馒头？女友：瞎扯，人家吃的是小笼包。我：小笼包？怎么连褶子都没有？！她：妹的用美颜拍的，褶子都没了！</span>\n",
      "\n",
      "\n",
      " 1719  好笑\n",
      "周家姑爷 \n",
      "\n",
      "\n",
      "\n",
      "<span>好敬业的摄影师</span>\n",
      "\n",
      "\n",
      " 303  好笑\n",
      "云栈洞总书记 \n",
      "\n",
      "\n",
      "\n",
      "<span>一哥们摆地摊，被城管追，哥们实在跑不动了停下来气喘吁吁的对城管说：“你看新闻没？有个人捅死了六个井查。”城管：“你在说什么？”哥们：“那傻逼都能捅死六个，我不比他强？”然后哥们在城管呆滞的目光中，从容的走了。</span>\n",
      "\n",
      "\n",
      " 2519  好笑\n",
      "走走停停看风景～ \n",
      "\n",
      "\n",
      "\n",
      "<span>老爸过生日。楼主穿着流行的长款白色防晒衫、提着大蛋糕就往家赶……<br/>一进门，老爸接过蛋糕，说：闺女啊，今天你可别喝酒啊……<br/>楼主：高兴的日子，为啥不让我喝？<br/>老爸：你喝酒就醉，一醉就哭～～你穿个大白袍子嚎啕大哭，知道滴，是给我过生日。不知道滴，以为我驾崩、祭日呢……<br/>楼主：……</span>\n",
      "\n",
      "\n",
      " 3716  好笑\n",
      "素·敵 \n",
      "\n",
      "\n",
      "\n",
      "<span>今天下班……路过一位打电话的大爷……<br/><br/>只见大爷环顾下四周，甩着半截狗链子冲着电话崩溃道“闺女，我也不知道这是哪啊…”<br/><br/>“狗跑啦，我他娘的被它遛丢了”……</span>\n",
      "\n",
      "\n",
      " 4589  好笑\n",
      "某年某月： \n",
      "\n",
      "\n",
      "\n",
      "<span>小侄子沉迷游戏…割…<br/>嫂子找小侄子谈话，严肃地问他：怎样你才能不玩游戏？<br/>小屁孩来一句：姑姑能不玩手机我就能不玩游戏…<br/>我在旁边一脸懵，怎么躺着也中枪，关我啥事啊……</span>\n",
      "\n",
      "\n",
      " 2860  好笑\n",
      "双手发抖 \n",
      "\n",
      "\n",
      "\n",
      "<span>来了不少亲戚，我不打牌，帮忙带孩子，小家伙们一人一个手机玩王 者 荣 耀。<br/>“这咋玩的，我也下一个玩玩。”我没话找话的说道。<br/>小朋友们都诧异的看着我，表弟的儿子咋舌道，“你们大人也玩这个啊？”</span>\n",
      "\n",
      "\n",
      " 1773  好笑\n",
      "叶隐孤城 \n",
      "\n",
      "\n",
      "\n",
      "<span>隔壁来了个小孩，于是我常常会听见“鼓掌，我饿了。鼓掌，我要拉屎。鼓掌，我要出去玩。鼓掌，我摔倒了。”<br/>我说现在小孩怎么这么矫情，什么都要鼓掌，过了好久我才知道，人家叫的是姑丈。o(╯□╰)o</span>\n",
      "\n",
      "\n",
      " 1502  好笑\n",
      "抖哥的小傻晴 \n",
      "\n",
      "\n",
      "\n",
      "<span>公公属于那种超级啰嗦型的！婆婆都说他投胎投错了男人！每天家里大大小小的事都得过问一遍！连别人吃块豆腐乳都得管别人一口吃多少的那种！<br/>下午的时候，公公对着镜子唉声叹气道又长了白头发！婆婆翻了个白眼道：拉个屎都要想着一次拉多长的性格，能不白头发吗？</span>\n",
      "\n",
      "\n",
      " 2828  好笑\n",
      "某年某月： \n",
      "\n",
      "\n",
      "\n",
      "<span>一顾客来店里买东西，眼睛对着我一直眨，LZ心想，这人有毛病吧……<br/>观察了一会儿发现，这人还真有毛病…眼病！</span>\n",
      "\n",
      "\n",
      " 1837  好笑\n",
      "云栈洞总书记 \n",
      "\n",
      "\n",
      "\n",
      "<span>几个应届生来公司面试，我是面试官之一。有个挺白静的姑娘在特长栏里写着跳舞，我：“你就跳一段拿手的舞蹈吧。”只见那姑娘淡定的拿出手机打开音乐播放器：“现在开始做第八套广播体操……”我被雷到了，外焦里嫩。当她跳到第七节时，我知道她今天是有备而来！</span>\n",
      "\n",
      "\n",
      " 3423  好笑\n"
     ]
    }
   ],
   "source": [
    "# -*- coding:utf-8 -*-\n",
    "import urllib\n",
    "import re\n",
    "\n",
    "page = 1\n",
    "url = 'http://www.qiushibaike.com/hot/page/' + str(page)\n",
    "#需要加上headers验证\n",
    "user_agent = 'Mozilla/4.0 (compatible; MSIE 5.5; Windows NT)'\n",
    "headers = {'User-Agent':user_agent}\n",
    "try:\n",
    "    request = urllib.request.Request(url,headers = headers)\n",
    "    response = urllib.request.urlopen(request)\n",
    "    #使用utf-8编码方式\n",
    "    content = response.read().decode('utf-8')\n",
    "    #<div class=\"author clearfix\">.*?href.*?<img src.*?title=.*?<h2>(.*?)</h2>.*?\n",
    "    pattern = re.compile('<h2>(.*?)</h2>.*?<div class=\"content\">(.*?)</div>.*?<i class=\"number\">(.*?)</i>(.*?)</span>',re.S)\n",
    "\n",
    "    #.*?代表任意无限个字符\n",
    "    #(.*?)代表要取得的内容\n",
    "    #re.S 标志代表在匹配时为点任意匹配模式，点 . 也可以代表换行符。\n",
    "\n",
    "    #上面的正则翻译过来就是-<h2>(.*?)</h2>,<div class=\"content\">(.*?)</div>,<i class=\"number\">(.*?)</i>(.*?)</span>\n",
    "\n",
    "    # print content\n",
    "\n",
    "    items = re.findall(pattern,content)\n",
    "\n",
    "    #print (items)\n",
    "    items = re.findall(pattern, content)\n",
    "    for item in items:\n",
    "        print (item[0],item [1],item[2],item[3])\n",
    "\n",
    "\n",
    "except urllib.request.URLError as e:\n",
    "    if hasattr(e,\"code\"):\n",
    "        print (e.code)\n",
    "        if hasattr(e,\"reason\"):\n",
    "            print (e.reason)"
   ]
  },
  {
   "cell_type": "code",
   "execution_count": 1,
   "metadata": {
    "collapsed": false
   },
   "outputs": [
    {
     "name": "stdout",
     "output_type": "stream",
     "text": [
      "正在读取糗事百科,按回车查看新段子，Q退出\n",
      "Q\n"
     ]
    }
   ],
   "source": [
    "#把上面的代码封装一下\n",
    "# -*- coding:utf-8 -*-\n",
    "import urllib.request\n",
    "import re\n",
    "import  _thread as thread\n",
    "import time\n",
    "\n",
    "#糗事百科爬虫类\n",
    "class QSBK:\n",
    "\n",
    "    #初始化方法，定义一些变量\n",
    "    def __init__(self):\n",
    "        self.pageIndex = 1\n",
    "        self.user_agent = 'Mozilla/4.0 (compatible; MSIE 5.5; Windows NT)'\n",
    "        #初始化headers\n",
    "        self.headers = { 'User-Agent' : self.user_agent }\n",
    "        #存放段子的变量，每一个元素是每一页的段子们\n",
    "        self.stories = []\n",
    "        #存放程序是否继续运行的变量\n",
    "        self.enable = False\n",
    "    #传入某一页的索引获得页面代码\n",
    "    def getPage(self,pageIndex):\n",
    "        try:\n",
    "            url = 'http://www.qiushibaike.com/hot/page/' + str(pageIndex)\n",
    "            #构建请求的request\n",
    "            req = urllib.request.Request(url,headers = self.headers)\n",
    "            #利用urlopen获取页面代码\n",
    "            response = urllib.request.urlopen(req)\n",
    "            #将页面转化为UTF-8编码\n",
    "            pageCode = response.read().decode('utf-8')\n",
    "            return pageCode\n",
    "\n",
    "        except urllib.request.URLError as e:\n",
    "            if hasattr(e,\"reason\"):\n",
    "                print (u\"连接糗事百科失败,错误原因\",e.reason)\n",
    "                return None\n",
    "\n",
    "    #传入某一页代码，返回本页不带图片的段子列表\n",
    "    def getPageItems(self,pageIndex):\n",
    "        pageCode = self.getPage(pageIndex)\n",
    "        if not pageCode:\n",
    "            print (\"页面加载失败....\")\n",
    "            return None\n",
    "        #名字,内容,好笑数量,评论\n",
    "        #'<div class=\"author clearfix\">.*?href.*?<img src.*?title=.*?<h2>(.*?)</h2>.*?<div class=\"content\">(.*?)</div>.*?<i class=\"number\">(.*?)</i>(.*?)</a>\n",
    "        pattern = re.compile('<div class=\"author clearfix\">.*?<h2>(.*?)</h2>.*?<div class=\"content\">(.*?)</div>.*?'+\n",
    "                             '<span class=\"stats-vote\">.*?<i class=\"number\">(.*?)</i>.*?'+\n",
    "                             '<span class=\"stats-comments\">.*?<i class=\"number\">(.*?)</i>',re.S)\n",
    "        items = re.findall(pattern,pageCode)\n",
    "        #用来存储每页的段子们\n",
    "        pageStories = []\n",
    "        #遍历正则表达式匹配的信息\n",
    "        for item in items:\n",
    "            replaceBR = re.compile('<br/>')\n",
    "            text = re.sub(replaceBR,\"\\n\",item[1])\n",
    "             #item[0]是一个段子的发布者，item[1]是内容，item[2]是发布时间,item[4]是点赞数\n",
    "            pageStories.append([item[0].strip(),text.strip(),item[2].strip(),item[3].strip()])\n",
    "        return pageStories\n",
    "\n",
    "    #加载并提取页面的内容，加入到列表中\n",
    "    def loadPage(self):\n",
    "        #如果当前未看的页数少于2页，则加载新一页\n",
    "        if self.enable == True:\n",
    "            if len(self.stories) < 2:\n",
    "                #获取新一页\n",
    "                pageStories = self.getPageItems(self.pageIndex)\n",
    "                #将该页的段子存放到全局list中\n",
    "                if pageStories:\n",
    "                    self.stories.append(pageStories)\n",
    "                    #获取完之后页码索引加一，表示下次读取下一页\n",
    "                    self.pageIndex += 1\n",
    "\n",
    "    #调用该方法，每次敲回车打印输出一个段子\n",
    "    def getOneStory(self,pageStories,page):\n",
    "        #遍历一页的段子\n",
    "        for story in pageStories:\n",
    "            #等待用户输入\n",
    "            input1 = input()\n",
    "            #每当输入回车一次，判断一下是否要加载新页面\n",
    "            self.loadPage()\n",
    "            #如果输入Q则程序结束\n",
    "            if input1 == \"Q\":\n",
    "                self.enable = False\n",
    "                return\n",
    "            print (u\"第%d页\\t发布人:%s\\t好笑:%s\\t评论:%s\\n内容:\\n%s\" %(page,story[0],story[2],story[3],story[1]))\n",
    "\n",
    "    #开始方法\n",
    "    def start(self):\n",
    "        print (u\"正在读取糗事百科,按回车查看新段子，Q退出\")\n",
    "        #使变量为True，程序可以正常运行\n",
    "        self.enable = True\n",
    "        #先加载一页内容\n",
    "        self.loadPage()\n",
    "        #局部变量，控制当前读到了第几页\n",
    "        nowPage = 0\n",
    "        while self.enable:\n",
    "            if len(self.stories)>0:\n",
    "                #从全局list中获取一页的段子\n",
    "                pageStories = self.stories[0]\n",
    "                #当前读到的页数加一\n",
    "                nowPage += 1\n",
    "                #将全局list中第一个元素删除，因为已经取出\n",
    "                del self.stories[0]\n",
    "                #输出该页的段子\n",
    "                self.getOneStory(pageStories,nowPage)\n",
    "\n",
    "spider = QSBK()\n",
    "spider.start()"
   ]
  },
  {
   "cell_type": "markdown",
   "metadata": {
    "collapsed": true
   },
   "source": [
    "### 爬百度百科"
   ]
  },
  {
   "cell_type": "code",
   "execution_count": 3,
   "metadata": {
    "collapsed": false
   },
   "outputs": [
    {
     "name": "stdout",
     "output_type": "stream",
     "text": [
      "http://tieba.baidu.com/p/3138733512?see_lz=1&pn=1\n",
      "\n",
      "<!DOCTYPE html><!--STATUS OK--><html><head><meta name=\"keywords\" content=\"百度贴吧,nba2014,50,纯原\"/><met\n"
     ]
    },
    {
     "data": {
      "text/plain": [
       "<http.client.HTTPResponse at 0x2922d34a860>"
      ]
     },
     "execution_count": 3,
     "metadata": {},
     "output_type": "execute_result"
    }
   ],
   "source": [
    "#百度贴吧爬虫类\n",
    "import urllib.request\n",
    "import re\n",
    "class BDTB:\n",
    " \n",
    "    #初始化，传入基地址，是否只看楼主的参数\n",
    "    def __init__(self,baseUrl,seeLZ):\n",
    "        self.baseURL = baseUrl\n",
    "        self.seeLZ = '?see_lz='+str(seeLZ)\n",
    " \n",
    "    #传入页码，获取该页帖子的代码\n",
    "    def getPage(self,pageNum):\n",
    "        try:\n",
    "            url = self.baseURL+ self.seeLZ + '&pn=' + str(pageNum)\n",
    "            print (url)\n",
    "            request = urllib.request.Request(url)\n",
    "            response = urllib.request.urlopen(request)\n",
    "            print (response.read().decode()[0:100])\n",
    "            return response\n",
    "        except urllib.request.URLError as e:\n",
    "            if hasattr(e,\"reason\"):\n",
    "                print (u\"连接百度贴吧失败,错误原因\",e.reason)\n",
    "                return None\n",
    " \n",
    "baseURL = 'http://tieba.baidu.com/p/3138733512'\n",
    "bdtb = BDTB(baseURL,1)\n",
    "bdtb.getPage(1)\n"
   ]
  },
  {
   "cell_type": "code",
   "execution_count": 18,
   "metadata": {
    "collapsed": false
   },
   "outputs": [
    {
     "name": "stdout",
     "output_type": "stream",
     "text": [
      "https://imgsa.baidu.com/forum/w%3D580/sign=c5453a27fbfaaf5184e381b7bc5594ed/1bfae6cd7b899e5104eda81544a7d933c8950d4b.jpg\n",
      "https://imgsa.baidu.com/forum/w%3D580/sign=3c7e9b1bc05c1038247ececa8211931c/d31f4134970a304ef0313bfbd7c8a786c9175ca4.jpg\n",
      "https://imgsa.baidu.com/forum/w%3D580/sign=576abc1544a7d933bfa8e47b9d4ad194/682309f7905298222ad7bfc2d1ca7bcb0b46d4cf.jpg\n",
      "https://imgsa.baidu.com/forum/w%3D580/sign=4cfb0b2ab651f819f1250342eab54a76/1487e950352ac65c65d1eb72fdf2b21192138adf.jpg\n",
      "https://imgsa.baidu.com/forum/w%3D580/sign=4c6d1529912bd40742c7d3f54b899e9c/77ee3d6d55fbb2fb065fd313494a20a44623dcbf.jpg\n",
      "https://imgsa.baidu.com/forum/w%3D580/sign=886111f9a186c91708035231f93c70c6/187adab44aed2e73967f732d8101a18b87d6fa19.jpg\n",
      "https://imgsa.baidu.com/forum/w%3D580/sign=bc5312b9d23f8794d3ff4826e21b0ead/2c087bf40ad162d9dcc5931d17dfa9ec8a13cd8c.jpg\n",
      "https://imgsa.baidu.com/forum/w%3D580/sign=b3e6993edff9d72a17641015e42b282a/2723dd54564e925878a37bef9a82d158ccbf4e18.jpg\n",
      "https://imgsa.baidu.com/forum/w%3D580/sign=998b2d0f76cf3bc7e800cde4e101babd/9d1c8701a18b87d6d9fd7a1d010828381f30fd72.jpg\n",
      "https://imgsa.baidu.com/forum/w%3D580/sign=b5b1776ad709b3deebbfe460fcbe6cd3/81c379310a55b319083b527745a98226cefc17f6.jpg\n",
      "https://imgsa.baidu.com/forum/w%3D580/sign=dc0b5d7745a98226b8c12b2fba83b97a/0b2dd42a2834349b34f4b187cfea15ce37d3bec6.jpg\n",
      "https://imgsa.baidu.com/forum/w%3D580/sign=a9a1d4b5ef50352ab16125006343fb1a/881ea8d3fd1f41340458de7c231f95cad1c85e41.jpg\n",
      "https://imgsa.baidu.com/forum/w%3D580/sign=bcfeaa1e17dfa9ecfd2e561f52d0f754/2fe93901213fb80e35c1a9d530d12f2eb93894a4.jpg\n",
      "https://imgsa.baidu.com/forum/w%3D580/sign=127eb128b651f819f1250342eab54a76/1487e950352ac65c3b545170fdf2b21193138a5b.jpg\n",
      "https://imgsa.baidu.com/forum/w%3D580/sign=8588187f570fd9f9a0175561152cd42b/67540923dd54564efc28d33ab5de9c82d1584f67.jpg\n",
      "https://imgsa.baidu.com/forum/w%3D580/sign=3a3f0de264d9f2d3201124e799ed8a53/8dcc7cd98d1001e978ca260cbe0e7bec54e7973a.jpg\n",
      "https://imgsa.baidu.com/forum/w%3D580/sign=dc20602ab8096b6381195e583c328733/cefe9925bc315c60e2ceccea8bb1cb1349547758.jpg\n",
      "https://imgsa.baidu.com/forum/w%3D580/sign=37de03baa6ec08fa260013af69ef3d4d/012eb9389b504fc215bf1700e3dde71191ef6dd7.jpg\n",
      "https://imgsa.baidu.com/forum/w%3D580/sign=b979f4ecf4d3572c66e29cd4ba126352/52d98d1001e9390192972e3b7dec54e736d1961a.jpg\n",
      "https://imgsa.baidu.com/forum/w%3D580/sign=177029298101a18bf0eb1247ae2e0761/9e7eca8065380cd70d870de8a744ad345982811e.jpg\n",
      "20\n",
      "https://imgsa.baidu.com/forum/w%3D580/sign=43ea203f1fd8bc3ec60806c2b28aa6c8/ac26cffc1e178a82966aeaa5f003738da977e865.jpg\n",
      "https://imgsa.baidu.com/forum/w%3D580/sign=1ff63b6409b30f24359aec0bf894d192/614a20a4462309f7f42d3d17740e0cf3d7cad671.jpg\n",
      "https://imgsa.baidu.com/forum/w%3D580/sign=7778dab8af773912c4268569c8188675/fb39b6003af33a87682b9c1fc05c10385343b575.jpg\n",
      "https://imgsa.baidu.com/forum/w%3D580/sign=325a1d64fe1986184147ef8c7aed2e69/c750352ac65c1038d20256c7b4119313b07e89b3.jpg\n",
      "https://imgsa.baidu.com/forum/w%3D580/sign=92008e50d6160924dc25a213e406359b/26fa513d269759ee199089cdb4fb43166c22dff0.jpg\n",
      "https://imgsa.baidu.com/forum/w%3D580/sign=be6fd6ad053b5bb5bed720f606d2d523/ff58ccbf6c81800a8f835e08b73533fa828b4756.jpg\n",
      "https://imgsa.baidu.com/forum/w%3D580/sign=c70e9cbf98510fb37819779fe932c893/43224f4a20a44623283477649e22720e0cf3d73e.jpg\n",
      "https://imgsa.baidu.com/forum/w%3D580/sign=5853fef830d3d539c13d0fcb0a86e927/37d8bc3eb13533fa13324d28aed3fd1f41345b34.jpg\n",
      "https://imgsa.baidu.com/forum/w%3D580/sign=2fcb7713ba315c6043956be7bdb1cbe6/ff1373f082025aaf6b3aa5cdfdedab64034f1aa8.jpg\n",
      "https://imgsa.baidu.com/forum/w%3D580/sign=3ecb5f025f82b2b7a79f39cc01accb0a/b13df8dcd100baa1529e80bd4110b912c8fc2e02.jpg\n",
      "https://imgsa.baidu.com/forum/w%3D580/sign=b8af8cfd0c46f21fc9345e5bc6256b31/14292df5e0fe9925d354ab5632a85edf8db17158.jpg\n",
      "https://imgsa.baidu.com/forum/w%3D580/sign=97f2e3ed87cb39dbc1c0675ee01609a7/4cd0f703918fa0ec42cce30a209759ee3d6ddbaa.jpg\n",
      "https://imgsa.baidu.com/forum/w%3D580/sign=41f8ff27bf12c8fcb4f3f6c5cc0292b4/c724b899a9014c085d75a5a20c7b02087bf4f46f.jpg\n",
      "https://imgsa.baidu.com/forum/w%3D580/sign=039f6163504e9258a63486e6ac83d1d1/56f0f736afc3793100e90f2eedc4b74543a91137.jpg\n",
      "https://imgsa.baidu.com/forum/w%3D580/sign=d0deef19bf389b5038ffe05ab535e5f1/836eddc451da81cbdfd476ca5466d01609243183.jpg\n",
      "https://imgsa.baidu.com/forum/w%3D580/sign=7685afeef4d3572c66e29cd4ba126352/52d98d1001e939015d6b75397dec54e736d19648.jpg\n",
      "https://imgsa.baidu.com/forum/w%3D580/sign=a9629e74fdf2b211e42e8546fa816511/1e4e251f95cad1c81edc0420793e6709c93d5156.jpg\n",
      "https://imgsa.baidu.com/forum/w%3D580/sign=0aa5a13e4d36acaf59e096f44cd98d03/9712c8fcc3cec3fd3d494572d088d43f87942746.jpg\n",
      "https://imgsa.baidu.com/forum/w%3D580/sign=d1e382e88bb1cb133e693c1bed5456da/8a0f4bfbfbedab64e604a4c7f136afc379311e47.jpg\n",
      "39\n",
      "https://imgsa.baidu.com/forum/w%3D580/sign=fb1958e1217f9e2f70351d002f31e962/22d7912397dda144f7a686b5b4b7d0a20cf4860e.jpg\n",
      "https://imgsa.baidu.com/forum/w%3D580/sign=c55290bc4110b912bfc1f6f6f3fdfcb5/3130e924b899a901444b8c311b950a7b0208f5bf.jpg\n",
      "https://imgsa.baidu.com/forum/w%3D580/sign=7e176411c9fc1e17fdbf8c397a91f67c/0634349b033b5bb5f454f3f930d3d539b600bc32.jpg\n",
      "https://imgsa.baidu.com/forum/w%3D580/sign=74c1d31dc05c1038247ececa8210931c/d31f4134970a304eb88e73fdd7c8a786c9175c0d.jpg\n",
      "https://imgsa.baidu.com/forum/w%3D580/sign=0426c65a53fbb2fb342b581a7f4b2043/cbdde71190ef76c6fa27352c9b16fdfaae5167c4.jpg\n",
      "https://imgsa.baidu.com/forum/w%3D580/sign=2718f7eb512c11dfded1bf2b53266255/a31001e93901213ffdcf7ed452e736d12f2e953d.jpg\n",
      "https://imgsa.baidu.com/forum/w%3D580/sign=8f8ad72308f41bd5da53e8fc61db81a0/792c11dfa9ec8a1391b367e8f103918fa0ecc009.jpg\n",
      "https://imgsa.baidu.com/forum/w%3D580/sign=79a98b3a5cafa40f3cc6ced59b65038c/2446f21fbe096b63fc7d62580a338744ebf8ac55.jpg\n",
      "https://imgsa.baidu.com/forum/w%3D580/sign=b697b3367dec54e741ec1a1689399bfd/531ed21b0ef41bd53ac6d6fc57da81cb39db3d24.jpg\n",
      "https://imgsa.baidu.com/forum/w%3D580/sign=98592712c05c1038247ececa8211931c/d31f4134970a304e541687f2d7c8a786c9175c85.jpg\n",
      "https://imgsa.baidu.com/forum/w%3D580/sign=3ef810307df40ad115e4c7eb672d1151/82af2edda3cc7cd9b99313d13f01213fb80e917f.jpg\n",
      "https://imgsa.baidu.com/forum/w%3D580/sign=a5dbac316d63f6241c5d390bb745eb32/b725bc315c6034a8091b9f89cd13495409237638.jpg\n",
      "https://imgsa.baidu.com/forum/w%3D580/sign=5f812276231f95caa6f592bef9167fc5/9e51f8198618367a123f58d528738bd4b31ce500.jpg\n",
      "https://imgsa.baidu.com/forum/w%3D580/sign=6dbf576c0f23dd542173a760e108b3df/8564034f78f0f736096f67090c55b319ebc41320.jpg\n",
      "https://imgsa.baidu.com/forum/w%3D580/sign=787392e69a82d158bb8259b9b00b19d5/2455b319ebc4b745ead3a31ec9fc1e178a821576.jpg\n",
      "https://imgsa.baidu.com/forum/w%3D580/sign=d8f5b2b7a6ec08fa260013af69ef3d4d/012eb9389b504fc2fa94a60de3dde71191ef6dea.jpg\n",
      "https://imgsa.baidu.com/forum/w%3D580/sign=78e32e035db5c9ea62f303ebe538b622/e2bf6c81800a19d8f0469c0d35fa828ba61e4674.jpg\n",
      "https://imgsa.baidu.com/forum/w%3D580/sign=672e8899cb11728b302d8c2af8fcc3b3/290828381f30e9240eb79b394a086e061d95f7a3.jpg\n",
      "https://imgsa.baidu.com/forum/w%3D580/sign=d2169c56dbc451daf6f60ce386fc52a5/a413632762d0f703584c91d40efa513d2697c538.jpg\n",
      "https://imgsa.baidu.com/forum/w%3D580/sign=fdb0ff6849c2d562f208d0e5d71090f3/7fda81cb39dbb6fd16eeb42e0f24ab18972b3704.jpg\n",
      "https://imgsa.baidu.com/forum/w%3D580/sign=3eefb5fc57da81cb4ee683c56267d0a4/4d2762d0f703918f336d60c2573d269759eec47e.jpg\n",
      "https://imgsa.baidu.com/forum/w%3D580/sign=df899e273c292df597c3ac1d8c305ce2/f733c895d143ad4b9a741dc884025aafa40f065b.jpg\n",
      "https://imgsa.baidu.com/forum/w%3D580/sign=1e1144ebd339b6004dce0fbfd9513526/923eb13533fa828badc1daebfb1f4134960a5ad3.jpg\n",
      "https://imgsa.baidu.com/forum/w%3D580/sign=4d9805c884025aafd3327ec3cbecab8d/55cb0a46f21fbe09f7e8801c6d600c338744ad00.jpg\n",
      "https://imgsa.baidu.com/forum/w%3D580/sign=3a56dab381d6277fe912323018391f63/4b380cd7912397dd1c13d60c5f82b2b7d0a28754.jpg\n",
      "https://imgsa.baidu.com/forum/w%3D580/sign=6ae8be9058df8db1bc2e7c6c3922dddb/74afa40f4bfbfbed9dec89777ef0f736afc31f04.jpg\n",
      "65\n",
      "https://imgsa.baidu.com/forum/w%3D580/sign=a07a5d2b4f540923aa696376a259d1dc/d5edab64034f78f0dafd39fb7f310a55b2191cc7.jpg\n",
      "https://imgsa.baidu.com/forum/w%3D580/sign=e093d91b0ff79052ef1f47363cf3d738/d3faaf51f3deb48f4c630bd6f61f3a292df578b4.jpg\n",
      "https://imgsa.baidu.com/forum/w%3D580/sign=50fffe1417dfa9ecfd2e561f52d0f754/2fe93901213fb80ed9c0fddf30d12f2eb93894a1.jpg\n",
      "https://imgsa.baidu.com/forum/w%3D580/sign=45e0000c5f82b2b7a79f39cc01accb0a/b13df8dcd100baa129b5dfb34110b912c8fc2e19.jpg\n",
      "https://imgsa.baidu.com/forum/w%3D580/sign=c67ee37bfdf2b211e42e8546fa806511/1e4e251f95cad1c871c0792f793e6709c93d51bb.jpg\n",
      "https://imgsa.baidu.com/forum/w%3D580/sign=015c491a740e0cf3a0f74ef33a46f23d/9a8f8c5494eef01fab27fccde6fe9925bc317d83.jpg\n",
      "https://imgsa.baidu.com/forum/w%3D580/sign=0ac6581ec9fc1e17fdbf8c397a91f67c/0634349b033b5bb58085cff630d3d539b600bc6c.jpg\n",
      "https://imgsa.baidu.com/forum/w%3D580/sign=714c030bce95d143da76e42b43f18296/be529822720e0cf3e421a1f30c46f21fbf09aae0.jpg\n",
      "https://imgsa.baidu.com/forum/w%3D580/sign=43e70a1cbe99a9013b355b3e2d940a58/9cb7d0a20cf431ad973895314d36acaf2fdd98d4.jpg\n",
      "https://imgsa.baidu.com/forum/w%3D580/sign=4a9a66d6f61f3a295ac8d5c6a924bce3/6ca7d933c895d1436b85232b75f082025baf07c3.jpg\n",
      "https://imgsa.baidu.com/forum/w%3D580/sign=bc2cd847982f07085f052a08d925b865/bf2397dda144ad3462784d8fd6a20cf430ad85f7.jpg\n",
      "https://imgsa.baidu.com/forum/w%3D580/sign=103e14e6afec8a13141a57e8c7039157/1701213fb80e7bec13f533e8292eb9389b506b8f.jpg\n",
      "https://imgsa.baidu.com/forum/w%3D580/sign=88a35096a20f4bfb8cd09e5c334e788f/dc1fbe096b63f62461c1060a8144ebf81a4ca31e.jpg\n",
      "https://imgsa.baidu.com/forum/w%3D580/sign=4c46cd65163853438ccf8729a312b01f/6f34970a304e251feca6daf1a186c9177f3e5361.jpg\n",
      "https://imgsa.baidu.com/forum/w%3D580/sign=5ce99c6b9e22720e7bcee2f24bcb0a3a/dddeb48f8c5494eea50136102bf5e0fe99257e93.jpg\n",
      "https://imgsa.baidu.com/forum/w%3D580/sign=d49db10d5f82b2b7a79f39cc01accb0a/b13df8dcd100baa1b8c86eb24110b912c9fc2ed6.jpg\n",
      "https://imgsa.baidu.com/forum/w%3D580/sign=cf43bd61d709b3deebbfe460fcbf6cd3/81c379310a55b31972c9987c45a98226cffc1782.jpg\n",
      "https://imgsa.baidu.com/forum/w%3D580/sign=712ee42a75f082022d9291377bfafb8a/f9ca7bcb0a46f21f626c5e5af0246b600c33ae5b.jpg\n",
      "https://imgsa.baidu.com/forum/w%3D580/sign=6b8e41076109c93d07f20effaf3cf8bb/00738bd4b31c87010312b9ef217f9e2f0708ff17.jpg\n",
      "https://imgsa.baidu.com/forum/w%3D580/sign=4ce01c96a20f4bfb8cd09e5c334e788f/dc1fbe096b63f624a5824a0a8144ebf81b4ca3d8.jpg\n",
      "85\n",
      "https://imgsa.baidu.com/forum/w%3D580/sign=f1a84c75570fd9f9a0175561152dd42b/67540923dd54564e88088730b5de9c82d1584f4d.jpg\n",
      "https://imgsa.baidu.com/forum/w%3D580/sign=3eafcd1a91dda144da096cba82b6d009/e73d70cf3bc79f3dcaa48d39bca1cd11728b2975.jpg\n",
      "https://imgsa.baidu.com/forum/w%3D580/sign=e60e18cd0cd162d985ee621421dfa950/00dda3cc7cd98d10e5ef5a38273fb80e7bec9084.jpg\n",
      "https://imgsa.baidu.com/forum/w%3D580/sign=23e361025db5c9ea62f303ebe538b622/e2bf6c81800a19d8ab46d30c35fa828ba61e4675.jpg\n",
      "https://imgsa.baidu.com/forum/w%3D580/sign=16195ee2b0fd5266a72b3c1c9b199799/bf8fa0ec08fa513db1453ed73b6d55fbb3fbd9c8.jpg\n",
      "https://imgsa.baidu.com/forum/w%3D580/sign=d3c1faf13fdbb6fd255be52e3924aba6/d903918fa0ec08fad3265dad5fee3d6d55fbda92.jpg\n",
      "https://imgsa.baidu.com/forum/w%3D580/sign=122b3e938426cffc692abfba89004a7d/fa2a2834349b033bfedbb4d013ce36d3d539bd6d.jpg\n",
      "https://imgsa.baidu.com/forum/w%3D580/sign=ea2d48e9d339b6004dce0fbfd9513526/923eb13533fa828b59fdd6e9fb1f4134960a5ada.jpg\n",
      "https://imgsa.baidu.com/forum/w%3D580/sign=8cee137fd088d43ff0a991fa4d1fd2aa/247b02087bf40ad1123473e9512c11dfa8ecceec.jpg\n",
      "https://imgsa.baidu.com/forum/w%3D580/sign=b48646254734970a47731027a5cbd1c0/87773912b31bb051e44c3d22307adab44aede054.jpg\n",
      "https://imgsa.baidu.com/forum/w%3D580/sign=2377370ca9c379317d688621dbc5b784/c5f81a4c510fd9f98cada063232dd42a2834a406.jpg\n",
      "https://imgsa.baidu.com/forum/w%3D580/sign=716cde025543fbf2c52ca62b807eca1e/b90a304e251f95ca66f869bccf177f3e670952af.jpg\n",
      "https://imgsa.baidu.com/forum/w%3D580/sign=aaec438bcd1349547e1ee86c664e92dd/65fbfbedab64034f8cc3390ca9c379310a551daa.jpg\n",
      "https://imgsa.baidu.com/forum/w%3D580/sign=d2a5bda5af014c08193b28ad3a7a025b/fea20cf431adcbef4d884e0aaaaf2edda3cc9f79.jpg\n",
      "https://imgsa.baidu.com/forum/w%3D580/sign=4d284101209759ee4a5060c382fa434e/61c2d5628535e5dda2c380d370c6a7efcf1b62ca.jpg\n",
      "https://imgsa.baidu.com/forum/w%3D580/sign=2526b0d08c13632715edc23ba18ea056/0f3fb80e7bec54e702283612bf389b504ec26af1.jpg\n",
      "https://imgsa.baidu.com/forum/w%3D580/sign=a1e444040ad79123e0e0947c9d355917/513e6709c93d70cf50a3be01fedcd100baa12b64.jpg\n",
      "https://imgsa.baidu.com/forum/w%3D580/sign=beb8c9c29f25bc312b5d01906edf8de7/834bd11373f08202c9e28d334dfbfbedab641b4d.jpg\n",
      "103\n",
      "https://imgsa.baidu.com/forum/w%3D580/sign=fbe296a5af014c08193b28ad3a7a025b/fea20cf431adcbef64cf650aaaaf2edda2cc9fc6.jpg\n",
      "https://imgsa.baidu.com/forum/w%3D580/sign=44c17b7626a446237ecaa56aa8237246/e01b9d16fdfaaf51da3d80b38a5494eef11f7adb.jpg\n",
      "https://imgsa.baidu.com/forum/w%3D580/sign=3130df978426cffc692abfba89004a7d/fa2a2834349b033bddc055d413ce36d3d539bd70.jpg\n",
      "https://imgsa.baidu.com/forum/w%3D580/sign=bbd3ad78f41fbe091c5ec31c5b600c30/03f5e0fe9925bc319c78939658df8db1cb137093.jpg\n",
      "https://imgsa.baidu.com/forum/w%3D580/sign=0cbe3103fedcd100cd9cf829428a47be/a9d6277f9e2f07081f41b10eef24b899a901f27c.jpg\n",
      "https://imgsa.baidu.com/forum/w%3D580/sign=bbf41dfc7b1ed21b79c92eed9d6fddae/4cd9f2d3572c11df958c332d652762d0f703c25b.jpg\n",
      "https://imgsa.baidu.com/forum/w%3D580/sign=ef63333d978fa0ec7fc764051696594a/18d12f2eb9389b50c271115c8335e5dde7116e36.jpg\n",
      "https://imgsa.baidu.com/forum/w%3D580/sign=d69c103933fae6cd0cb4ab693fb20f9e/7bfbb2fb43166d220efde49a402309f79052d232.jpg\n",
      "https://imgsa.baidu.com/forum/w%3D580/sign=d49a253d9445d688a302b2ac94c37dab/33950a7b02087bf41db6bbe7f4d3572c11dfcf62.jpg\n",
      "https://imgsa.baidu.com/forum/w%3D580/sign=56393276aaaf2eddd4f149e1bd100102/e6fcc3cec3fdfc03b275afc8d23f8794a4c226b4.jpg\n",
      "https://imgsa.baidu.com/forum/w%3D580/sign=b9bca89da5cc7cd9fa2d34d109012104/edfdfc039245d688c12c01d4a2c27d1ed21b2497.jpg\n",
      "https://imgsa.baidu.com/forum/w%3D580/sign=249002b2d1ca7bcb7d7bc7278e086b3f/baeef01f3a292df5b6609764ba315c6034a8731b.jpg\n",
      "https://imgsa.baidu.com/forum/w%3D580/sign=1f8e47af3b6d55fbc5c6762e5d224f40/ab35e5dde71190ef4fdfb9aec81b9d16fdfa609e.jpg\n",
      "https://imgsa.baidu.com/forum/w%3D580/sign=edf8b952b67eca80120539efa1229712/ffc8a786c9177f3e38e0e37c76cf3bc79e3d56ee.jpg\n",
      "117\n",
      "https://imgsa.baidu.com/forum/w%3D580/sign=6997ce04d088d43ff0a991fa4d1fd2aa/247b02087bf40ad1f74dae92512c11dfa9ecce12.jpg\n",
      "https://imgsa.baidu.com/forum/w%3D580/sign=d87e21620ff79052ef1f47363cf2d738/d3faaf51f3deb48f748ef3aff61f3a292cf578d8.jpg\n",
      "https://imgsa.baidu.com/forum/w%3D580/sign=507ddde0cb11728b302d8c2af8fdc3b3/290828381f30e92439e4ce404a086e061d95f77b.jpg\n",
      "https://imgsa.baidu.com/forum/w%3D580/sign=563a106664d0f703e6b295d438fa5148/55ec54e736d12f2e6511e81149c2d562853568af.jpg\n",
      "https://imgsa.baidu.com/forum/w%3D580/sign=f44fcb6fbf389b5038ffe05ab534e5f1/836eddc451da81cbfb4552bc5466d01609243124.jpg\n",
      "https://imgsa.baidu.com/forum/w%3D580/sign=af1bb24b6d63f6241c5d390bb744eb32/b725bc315c6034a803db81f3cd13495409237682.jpg\n",
      "https://imgsa.baidu.com/forum/w%3D580/sign=d1dc23b13c87e9504217f3642039531b/ac8ba61ea8d3fd1f26e88e48364e251f94ca5fda.jpg\n",
      "https://imgsa.baidu.com/forum/w%3D580/sign=e19d6080d362853592e0d229a0ee76f2/afcb39dbb6fd5266aadb2666ad18972bd50736cb.jpg\n",
      "https://imgsa.baidu.com/forum/w%3D580/sign=6cab4e8d3dc79f3d8fe1e4388aa0cdbc/a901a18b87d6277f3bb9394a2e381f30e924fc1d.jpg\n",
      "https://imgsa.baidu.com/forum/w%3D580/sign=6055f85e8101a18bf0eb1247ae2e0761/9e7eca8065380cd77aa2dc9fa744ad3459828100.jpg\n",
      "https://imgsa.baidu.com/forum/w%3D580/sign=8eddad63ad18972ba33a00c2d6cc7b9d/089759ee3d6d55fbec30e7516b224f4a21a4ddd7.jpg\n",
      "https://imgsa.baidu.com/forum/w%3D580/sign=ceda18999a82d158bb8259b9b00b19d5/2455b319ebc4b7455c7a2961c9fc1e178b8215de.jpg\n",
      "https://imgsa.baidu.com/forum/w%3D580/sign=c37a85348dd4b31cf03c94b3b7d7276f/9c119313b07eca80ecafa790972397dda144831b.jpg\n",
      "https://imgsa.baidu.com/forum/w%3D580/sign=1d1bbe4f2e381f309e198da199014c67/8f44ad345982b2b75396b5b337adcbef76099bb8.jpg\n",
      "https://imgsa.baidu.com/forum/w%3D580/sign=7817be9e8b1001e94e3c1407880f7b06/bc45d688d43f87947f19bf59d41b0ef41ad53ae7.jpg\n",
      "https://imgsa.baidu.com/forum/w%3D580/sign=4b56b18c0c46f21fc9345e5bc6256b31/14292df5e0fe992520ad962732a85edf8db17120.jpg\n",
      "133\n",
      "133\n"
     ]
    }
   ],
   "source": [
    "# -*- coding : utf-8 -*-\n",
    "import urllib\n",
    "import re\n",
    "\n",
    "\n",
    "class imgTest:\n",
    "\n",
    "    def __init__(self, baseUrl, seeLZ):\n",
    "        self.baseUrl = baseUrl\n",
    "        self.seeLZ = '?see_lz='+str(seeLZ)\n",
    "        # self.tool = Tool()\n",
    "    #save a single img \n",
    "    def saveImg(self,imageURL,filename):\n",
    "        u = urllib.request.urlopen(imageURL)\n",
    "        data = u.read()\n",
    "        f = open(filename,'wb')\n",
    "        f.write(data)\n",
    "        f.close()\n",
    "    #download images\n",
    "    def saveImgs(self, images, name, num):\n",
    "        number = num\n",
    "        for imageURL in images:\n",
    "            splitPath = imageURL.split('.')\n",
    "            fTail = splitPath.pop()\n",
    "            if len(fTail)>3:\n",
    "                fTail = \"jpg\"\n",
    "            fileName = name+\"/\"+str(number)+\".\"+fTail\n",
    "            self.saveImg(imageURL,fileName)\n",
    "            number += 1\n",
    "    #get img urls        \n",
    "    def getAllImageURLs(self,pageNum):\n",
    "        page = self.getPage(pageNum).decode()        \n",
    "        patternImg = re.compile(r'<img class=\"BDE_Image\" pic_type=\"0\".*?src=\"(.+?\\.jpg)\" pic_ext=\"jpeg\"')\n",
    "        images = re.findall(patternImg, page)\n",
    "        for item in images:\n",
    "            print (item)\n",
    "            self.printToLog(\"\".join(item))\n",
    "            # print(\"\\n\\n\")\n",
    "        return images\n",
    "    #print to log.txt\n",
    "    def printToLog(self,mystr):\n",
    "        f = open('D:/python_code/log.txt', 'a')\n",
    "        # f = open('txt/log.txt')\n",
    "        f.write(mystr+\"\\n\")\n",
    "        f.close()\n",
    "\n",
    "    #get the title of the bbs\n",
    "    def getTitle(self):\n",
    "        page = self.getPage(1)\n",
    "        pattern = re.compile('<h3 class=\"core_title_txt.*?>(.*?)</h3>',re.S)\n",
    "        result = re.search(pattern, page)\n",
    "        if result:\n",
    "            self.printToLog(\"bbs title:\"+result.group(1))\n",
    "            return result.group(1).strip()\n",
    "        else:\n",
    "            return None\n",
    "    #get the total number of the tiezi\n",
    "    def getPageNum(self):\n",
    "        page = self.getPage(1).decode()\n",
    "        pattern = re.compile('<li class=\"l_reply_num\".*?<span .*?</span>.*?<span.*?>(.*?)</span>',re.S)\n",
    "        result = re.search(pattern, page)\n",
    "        if result:\n",
    "            self.printToLog(\"page total num:\"+result.group(1))\n",
    "            return result.group(1).strip()\n",
    "        else:\n",
    "            return None\n",
    "    #get the html source code\n",
    "    def getPage(self, pageNum):\n",
    "\n",
    "        try:\n",
    "            url = self.baseUrl+self.seeLZ +'&pn='+str(pageNum)\n",
    "            request = urllib.request.Request(url)\n",
    "            response = urllib.request.urlopen(request)\n",
    "            content = response.read()\n",
    "            return content\n",
    "        except urllib.request.URLError as e:\n",
    "            if hasattr(e, \"reason\"):\n",
    "                print (\"failed to connect baidutieba.\",e.reason)\n",
    "                return None\n",
    "\n",
    "baseURL = 'http://tieba.baidu.com/p/3925387672'\n",
    "imgtest = imgTest(baseURL,1)\n",
    "totalnum = int(imgtest.getPageNum())\n",
    "\n",
    "imageCount = 0\n",
    "for i in range(1, totalnum+1):\n",
    "    imageURLs = imgtest.getAllImageURLs(i)\n",
    "    imgtest.saveImgs(imageURLs,\"D:/python_code/image/pachong\",imageCount)\n",
    "    imageCount += len(imageURLs)\n",
    "    print (imageCount)"
   ]
  },
  {
   "cell_type": "code",
   "execution_count": 19,
   "metadata": {
    "collapsed": false
   },
   "outputs": [
    {
     "data": {
      "text/plain": [
       "8"
      ]
     },
     "execution_count": 19,
     "metadata": {},
     "output_type": "execute_result"
    }
   ],
   "source": [
    "totalnum"
   ]
  },
  {
   "cell_type": "code",
   "execution_count": 23,
   "metadata": {
    "collapsed": false
   },
   "outputs": [],
   "source": [
    "imageURL2='https://imgsa.baidu.com/forum/w%3D580/sign=3c7e9b1bc05c1038247ececa8211931c/d31f4134970a304ef0313bfbd7c8a786c9175ca4.jpg'\n",
    "splitPath=imageURL2.split('.')"
   ]
  },
  {
   "cell_type": "code",
   "execution_count": 24,
   "metadata": {
    "collapsed": false
   },
   "outputs": [
    {
     "data": {
      "text/plain": [
       "'jpg'"
      ]
     },
     "execution_count": 24,
     "metadata": {},
     "output_type": "execute_result"
    }
   ],
   "source": [
    "splitPath.pop()"
   ]
  },
  {
   "cell_type": "code",
   "execution_count": null,
   "metadata": {
    "collapsed": true
   },
   "outputs": [],
   "source": [
    "#爬文字\n",
    "import  requests\n",
    "from bs4 import BeautifulSoup\n",
    "import re\n",
    "\n",
    "\n",
    "class Tools:\n",
    "    removeImg = re.compile('<img.*?>')\n",
    "    removBr = re.compile('<br>')\n",
    "    removeHef = re.compile('<a href.*?>')\n",
    "    removeA = re.compile('</a>')\n",
    "    removeClass = re.compile('<a class.*?>|<aclass.*?>')\n",
    "    removeNull = re.compile(' ')\n",
    "\n",
    "\n",
    "    def remove(self,te):\n",
    "        te = re.sub(self.removeImg,'',te)\n",
    "        te = re. sub(self.removBr,'\\n',te)\n",
    "        te = re.sub(self.removeHef,'',te)\n",
    "        te = re.sub(self.removeA,'',te)\n",
    "        te = re.sub(self.removeClass,'',te)\n",
    "        te = re.sub(self.removeNull, '', te)\n",
    "        return  te\n",
    "\n",
    "textTools = Tools()\n",
    "\n",
    "def getHTMLText(url):\n",
    "    try:\n",
    "        user_agent = 'Mozilla/4.0 (compatible; MSIE 5.5; Windows NT)'\n",
    "        headers = {'User-Agent': user_agent}\n",
    "        r = requests.get(url,headers = headers)\n",
    "        r.raise_for_status() #抛出异常\n",
    "        r.encoding = r.apparent_encoding\n",
    "        return r.text\n",
    "    except:\n",
    "        return \"\"\n",
    "\n",
    "def printTitle(html):\n",
    "    try:\n",
    "        soup = BeautifulSoup(html, \"html.parser\")\n",
    "        titleTag = soup.find_all('title')\n",
    "        patten = re.compile(r'<title>(.*?)</title>', re.S)\n",
    "        title = re.findall(patten, str(titleTag))\n",
    "        return title\n",
    "    except:\n",
    "        return \"\"\n",
    "\n",
    "def fillUnivlist(lis,li,html):\n",
    "    try:\n",
    "        patten = re.compile(r'<div id=\"post_content_\\d*\" class=\"d_post_content j_d_post_content \">(.*?)</div>', re.S)\n",
    "        nbaInfo = re.findall(patten, str(html))\n",
    "        pattenFloor = re.compile(r'<span class=\"tail-info\">(\\d*楼)</span><span class=\"tail-info\">', re.S)\n",
    "        floorText = re.findall(pattenFloor, str(html))\n",
    "        number = len(nbaInfo)\n",
    "        for i in range(number):\n",
    "            Info = textTools.remove(nbaInfo[i])\n",
    "            Info1 = textTools.remove(floorText[i])\n",
    "            lis.append(Info1)\n",
    "            li.append(Info)\n",
    "    except:\n",
    "        return \"\"\n",
    "\n",
    "def writeText(titleText,fpath):\n",
    "    try:\n",
    "        with open(fpath, 'a', encoding='utf-8') as f:\n",
    "            f.write(str(titleText) + '\\n')\n",
    "            f.write('\\n')\n",
    "            f.close()\n",
    "    except:\n",
    "        return \"\"\n",
    "\n",
    "def writeUnivlist(lis,li,fpath,num):\n",
    "    with open(fpath, 'a', encoding='utf-8') as f:\n",
    "        for i in range(num):\n",
    "            f.write(str(lis[i])+'\\n')\n",
    "            f.write('*'*50 + '\\n')\n",
    "            f.write(str(li[i]) + '\\n')\n",
    "            f.write('*' * 50 + '\\n')\n",
    "        f.close()\n",
    "\n",
    "def main():\n",
    "    count = 0\n",
    "    url = 'https://tieba.baidu.com/p/3138733512?see_lz=1&pn=1'\n",
    "    output_file = 'D:/python_code/txt/StockInfo.txt'\n",
    "    html = getHTMLText(url)\n",
    "    titleText = printTitle(html)\n",
    "    writeText(titleText, output_file)\n",
    "    for i in range(5):\n",
    "        i = i + 1\n",
    "        lis = []\n",
    "        li = []\n",
    "        url = 'https://tieba.baidu.com/p/3138733512?see_lz=1&pn=' + str(i)\n",
    "        html = getHTMLText(url)\n",
    "        fillUnivlist(lis, li, html)\n",
    "        writeUnivlist(lis, li, output_file, len(lis))\n",
    "        count = count + 1\n",
    "        print(\"\\r当前进度: {:.2f}%\".format(count * 100 / 5), end=\"\")\n",
    "\n",
    "main()"
   ]
  },
  {
   "cell_type": "markdown",
   "metadata": {},
   "source": [
    "### 爬教务系统成绩"
   ]
  },
  {
   "cell_type": "code",
   "execution_count": 44,
   "metadata": {
    "collapsed": false
   },
   "outputs": [
    {
     "name": "stdout",
     "output_type": "stream",
     "text": [
      "\r\n",
      "\r\n",
      "\r\n",
      "\r\n",
      "\r\n",
      "\r\n",
      "<!DOCTYPE HTML PUBLIC \"-//W3C//DTD HTML 4.01 Transitional//EN\"\r\n",
      "        \"http://www.w3.org/TR/html4/loose.dtd\">\r\n",
      "<html>\r\n",
      "<head>\r\n",
      "    <meta http-equiv=\"X-UA-Compatible\" content=\"IE=edge\">\r\n",
      "\t<meta http-equiv=\"Content-Type\" content=\"text/html; charset=utf-8\" />\r\n",
      "\t\r\n",
      "    <link rel=\"stylesheet\"  type=\"text/css\" href=\"js/jquery-ui.css\" />\r\n",
      "\t<script type=\"text/javascript\" src=\"/authserver/js/jquery.min.js\"></script>\r\n",
      "    <script type=\"text/javascript\" src=\"/authserver/js/jquery-validation/jquery.validate.js\"></script>\r\n",
      "    <script type=\"text/javascript\" src=\"/authserver/js/jquery-validation/messages_cn.js\"></script>\r\n",
      "\r\n",
      "<meta name=\"viewport\" content=\"width=device-width, initial-scale=1\">\r\n",
      "<link href=\"bupt/css/bootstrap.min.css\" rel=\"stylesheet\">\r\n",
      "<link href=\"bupt/css/mystyle.css\" rel=\"stylesheet\">\r\n",
      "<link href=\"bupt/css/auth.css\" rel=\"stylesheet\">\r\n",
      "<!--[if lt IE 9]>\r\n",
      "<script src=\"bupt/js/html5shiv.min.js\"></script>\r\n",
      "<script src=\"bupt/js/respond.min.js\"></script>\r\n",
      "<![endif]-->\r\n",
      "\r\n",
      "\r\n",
      "<title>统一身份认证平台-北京邮电大学</title>\r\n",
      "</head>\r\n",
      "\r\n",
      "<body>\r\n",
      "\r\n",
      "<div class=\"wbox logobox clearfix\">\r\n",
      "\t<a class=\"logo pull-left\" href=\"\"><img src=\"bupt/images/logo.png\" class=\"img-responsive\"></a>\r\n",
      "    <div class=\"searchbox pull-right\">\r\n",
      "\t\t<div class=\"input-group\">\r\n",
      "\t\t \r\n",
      "\t\t</div><!-- /input-group -->\r\n",
      "\t</div>\r\n",
      "</div>\r\n",
      "\r\n",
      "<div class=\"slidebox\">\r\n",
      "    <!--slide-->\r\n",
      "    <div class=\"fullSlide\">\r\n",
      "\t\t<div class=\"bd\">\r\n",
      "\t\t\t<ul class=\"list-unstyled\">\r\n",
      "\t\t\t\t<li style=\"background:url(bupt/images/banner1010.jpg) center 0 no-repeat;\"></li>\r\n",
      "\t\t\t\t<!-- <li style=\"background:url(bupt/images/banner1.jpg) 20% 0 no-repeat;\"></li>\r\n",
      "\t\t\t\t<li style=\"background:url(bupt/images/banner21.jpg) 20% 0 no-repeat;\"></li>\r\n",
      "\t\t\t\t<li style=\"background:url(bupt/images/banner31.jpg) 20% 0 no-repeat;\"></li> -->\r\n",
      "\t\t\t</ul>\r\n",
      "\t\t</div>\r\n",
      "\t</div>\r\n",
      "    <!--slide--->\r\n",
      "\r\n",
      "    <div class=\"regbox\">\r\n",
      "    \t<div class=\"wbox clearfix\">\r\n",
      "        \t<div class=\"loginbox\"style=\"background:rgba(255,255,255,.25);padding:70px 70px;\">\r\n",
      "            \t<h3 style=\"color:white;\">欢迎登录</h3>\r\n",
      "                <form id=\"casLoginForm\" class=\"fm-v clearfix\" action=\"/authserver/login?service=http%3a%2f%2fyjxt.bupt.edu.cn%2fULogin.aspx\" method=\"post\">\r\n",
      "\t\t\t\t\t<!-- 密码错误信息 -->\r\n",
      "\t\t\t\t\t\r\n",
      "                \t<div class=\"userbox clearfix\">\r\n",
      "                    \t<div class=\"iconuser\" style=\"background-color:#aaabab;\"></div>\r\n",
      "\t\t\t\t\t\t<input id=\"username\" name=\"username\" class=\"inputuser required\" tabindex=\"1\" placeholder=\"请输入学工号／手机号／邮箱\" type=\"text\" value=\"\" size=\"25\" autocomplete=\"false\"/>\r\n",
      "                    </div>\r\n",
      "                    <div class=\"userbox clearfix\">\r\n",
      "                    \t<div class=\"iconpass\"></div>\r\n",
      "\t\t\t\t\t\t<input id=\"password\" name=\"password\" class=\"required inputuser\" tabindex=\"2\" placeholder=\"请输入密码\" type=\"password\" value=\"\" size=\"25\" autocomplete=\"off\"/>\r\n",
      "                    </div>\r\n",
      "\t\t\t\t\t<div id=\"casCaptcha\" class=\"userbox clearfix hidden\" style=\"margin:10px 0;\">\r\n",
      "\t\t\t\t\t\t\r\n",
      "\t\t\t\t\t</div>\r\n",
      "\r\n",
      "                    <div class=\"login-link\"style=\"font-color:white;\">\r\n",
      "\t\t\t\t\t\t<span class=\"login-forpwd\"><a  style=\"color:white;\"href=\"#;\" onclick=\"javascript:window.location.href='getBackPasswordMainPage.do'\">忘记密码?</a></span>\r\n",
      "\t\t\t\t\t\t<span class=\"login-help\"><a style=\"color:white\"href=\"#;\"  onclick=\"javascript:window.location.href='/authserver/loginHelp.jsp'\">登录帮助</a></span>\r\n",
      "\t\t\t\t\t</div>\r\n",
      "                    \r\n",
      "\t\t\t\t\t<input type=\"hidden\" name=\"lt\" value=\"LT-116462-0me62z0oNdArzmbzYJucqPvD0hHxUo-1499851423135\" />\r\n",
      "\t\t\t\t\t<input type=\"hidden\" name=\"execution\" value=\"e1s1\" />\r\n",
      "\t\t\t\t\t<input type=\"hidden\" name=\"_eventId\" value=\"submit\" />\r\n",
      "\t\t\t\t\t<input type=\"submit\" value=\"立即登录\" class=\"btnsubmit btn btn-primary btn-lg\" style=\"background-color:#39abea\">\r\n",
      "\t\t\t\t\t <div style=\"display: none\">\r\n",
      "\t\t\t\t\t\t<input id=\"warn\" name=\"warn\" value=\"true\" tabindex=\"3\" accesskey=\"w\" type=\"checkbox\" />\r\n",
      "\t\t\t\t\t\t<strong class=\"remember-label\">\r\n",
      "\t\t\t\t\t\t\t<span class=\"accesskey\">W</span>arn me before logging me into other sites.\r\n",
      "\t\t\t\t\t\t</strong>\r\n",
      "\t\t\t\t\t</div>\r\n",
      "\t\t\t\t\t\r\n",
      "\t\t\t\t\t<label class=\"remember\" onclick=\"\">\r\n",
      "\t\t\t\t\t\t<a id=\"link-forgot-passwd\" href=\"\" target=\"_top\"></a>\r\n",
      "\t\t\t\t\t</label>\r\n",
      "\t\t\t\t\t<input type=\"hidden\" name=\"rmShown\" value=\"1\">\r\n",
      "                </form>\r\n",
      "            <a class=\"prevTheme\" title=\"上一张\"></a>\r\n",
      "\t\t\t<a class=\"nextTheme\" title=\"下一张\"></a>\r\n",
      "            </div>\r\n",
      "\t\t\t\r\n",
      "        </div>\r\n",
      "    </div>\r\n",
      "<script type=\"text/javascript\" src=\"js/cas-wisedu.js\" ></script>\r\n",
      "\r\n",
      "</div>\r\n",
      "\r\n",
      "<div class=\"bgwhite pdtb45\">\r\n",
      "\t<div class=\"wbox clearfix\">\r\n",
      "    \t<div class=\"groupgird group1\">\r\n",
      "        \t<h4>数字校园</h4>\r\n",
      "            <p>数据互联互通，信息高度共享。</p>\r\n",
      "        </div>\r\n",
      "        <div class=\"groupgird group2\">\r\n",
      "        \t<h4>泛在校园</h4>\r\n",
      "            <p>数据广泛获取，感知无处不在。</p>\r\n",
      "        </div>\r\n",
      "        <div class=\"groupgird group3\">\r\n",
      "        \t<h4>智慧校园</h4>\r\n",
      "            <p>数据认知计算，服务持续创新。</p>\r\n",
      "        </div>\r\n",
      "        <div class=\"weixingird pull-left\">\r\n",
      "        \t校园微信\r\n",
      "            <div class=\"bgwechat\">\r\n",
      "            \t<img src=\"bupt/images/wx.jpg\" width='152' height='152'>\r\n",
      "                <div class=\"wechatname\">微信企业号</div>\r\n",
      "            </div>\r\n",
      "        </div>\r\n",
      "        <div class=\"weixingird pull-left\">\r\n",
      "        \t移动校园IOS\r\n",
      "            <div class=\"bgwechat\">\r\n",
      "            \t<img src=\"bupt/images/ios.jpg\">\r\n",
      "                <div class=\"wechatname\">IOS版本</div>\r\n",
      "            </div>\r\n",
      "        </div>\r\n",
      "        <div class=\"weixingird pull-right\">\r\n",
      "        \t移动校园Android\r\n",
      "            <div class=\"bgwechat\">\r\n",
      "            \t<img src=\"bupt/images/android.jpg\">\r\n",
      "                <div class=\"wechatname\">Android</div>\r\n",
      "            </div>\r\n",
      "        </div>\r\n",
      "    </div>\r\n",
      "</div>\r\n",
      "\r\n",
      "<div class=\"copyright text-center bgeee\">版权所有 &copy 北京邮电大学  地址:北京市西土城路10号  邮编:100876  京ICP备 05064445号 京公网安备110402430070</div>\r\n",
      "<script type=\"text/javascript\" src=\"/authserver/js/cas-wisedu.js\"></script>\r\n",
      "<script src=\"bupt/js/texiao.js\"></script>\r\n",
      "<script>\r\n",
      "//jQuery(\".fullSlide\").slide({ titCell:\".hd li\", mainCell:\".bd ul\", effect:\"fold\",  autoPlay:true, delayTime:6400 });\r\n",
      "jQuery(function(){\r\n",
      "    var speed=4000;var i=parseInt(3*Math.random());\r\n",
      "    jQuery(\".fullSlide .bd li\").width(jQuery(window).width())\r\n",
      "    jQuery(\".list-unstyled li\").eq(i).show().siblings().hide();\r\n",
      "    jQuery(\".prevTheme\").click(function(){\r\n",
      "        i--;\r\n",
      "        i<0?i=2:i=i;\r\n",
      "        jQuery(\".list-unstyled li\").eq(i).fadeIn(\"slow\").siblings().hide();\r\n",
      "        \r\n",
      "    })\r\n",
      "    jQuery(\".nextTheme\").click(function(){\r\n",
      "        i++;\r\n",
      "        i>=3?i=0:i=i;\r\n",
      "        jQuery(\".list-unstyled li\").eq(i).fadeIn(\"slow\").siblings().hide();\r\n",
      "    })\r\n",
      "})\r\n",
      "</script>\r\n",
      "</body>\r\n",
      "</html>\r\n",
      "\r\n",
      "\r\n",
      "\r\n",
      "\n"
     ]
    }
   ],
   "source": [
    "import urllib\n",
    "import http.cookiejar as cookielib\n",
    "import re\n",
    " \n",
    "#山东大学绩点运算\n",
    "class SDU:\n",
    " \n",
    "    def __init__(self):\n",
    "        self.loginUrl = 'http://auth.bupt.edu.cn/authserver/login?service=http%3a%2f%2fyjxt.bupt.edu.cn%2fULogin.aspx'\n",
    "        self.cookies = cookielib.CookieJar()\n",
    "        self.postdata = urllib.parse.urlencode({\n",
    "            'username':'2016140268',\n",
    "            'password':'421182199411230039'\n",
    "         })\n",
    "        self.opener = urllib.request.build_opener(urllib.request.HTTPCookieProcessor(self.cookies))\n",
    " \n",
    "    def getPage(self):\n",
    "        request  = urllib.request.Request(\n",
    "            url = self.loginUrl,\n",
    "            data = self.postdata.encode())\n",
    "        result = self.opener.open(request)\n",
    "        #打印登录内容\n",
    "        print (result.read().decode())\n",
    " \n",
    " \n",
    "sdu = SDU()\n",
    "sdu.getPage()\n"
   ]
  },
  {
   "cell_type": "code",
   "execution_count": 49,
   "metadata": {
    "collapsed": false
   },
   "outputs": [
    {
     "ename": "UnknownProtocol",
     "evalue": "HTTP/0.0",
     "output_type": "error",
     "traceback": [
      "\u001b[1;31m---------------------------------------------------------------------------\u001b[0m",
      "\u001b[1;31mUnknownProtocol\u001b[0m                           Traceback (most recent call last)",
      "\u001b[1;32m<ipython-input-49-c60058c202d5>\u001b[0m in \u001b[0;36m<module>\u001b[1;34m()\u001b[0m\n\u001b[0;32m     26\u001b[0m \u001b[1;31m#第一次请求网页得到cookie\u001b[0m\u001b[1;33m\u001b[0m\u001b[1;33m\u001b[0m\u001b[0m\n\u001b[0;32m     27\u001b[0m \u001b[0mreq\u001b[0m \u001b[1;33m=\u001b[0m \u001b[0murllib\u001b[0m\u001b[1;33m.\u001b[0m\u001b[0mrequest\u001b[0m\u001b[1;33m.\u001b[0m\u001b[0mRequest\u001b[0m\u001b[1;33m(\u001b[0m\u001b[0mloginUrl\u001b[0m\u001b[1;33m,\u001b[0m\u001b[0mpostdata\u001b[0m\u001b[1;33m,\u001b[0m\u001b[0mheaders\u001b[0m\u001b[1;33m=\u001b[0m\u001b[0mheader\u001b[0m\u001b[1;33m)\u001b[0m\u001b[1;33m\u001b[0m\u001b[0m\n\u001b[1;32m---> 28\u001b[1;33m \u001b[0mresponse\u001b[0m \u001b[1;33m=\u001b[0m \u001b[0mopener\u001b[0m\u001b[1;33m.\u001b[0m\u001b[0mopen\u001b[0m\u001b[1;33m(\u001b[0m\u001b[0mreq\u001b[0m\u001b[1;33m)\u001b[0m\u001b[1;33m\u001b[0m\u001b[0m\n\u001b[0m\u001b[0;32m     29\u001b[0m \u001b[0mprint\u001b[0m \u001b[1;33m(\u001b[0m\u001b[1;34m'第一次请求网页得到cookie:'\u001b[0m\u001b[1;33m)\u001b[0m\u001b[1;33m\u001b[0m\u001b[0m\n\u001b[0;32m     30\u001b[0m \u001b[0mprint\u001b[0m \u001b[1;33m(\u001b[0m\u001b[0mresponse\u001b[0m\u001b[1;33m.\u001b[0m\u001b[0mgetcode\u001b[0m\u001b[1;33m(\u001b[0m\u001b[1;33m)\u001b[0m\u001b[1;33m)\u001b[0m\u001b[1;33m\u001b[0m\u001b[0m\n",
      "\u001b[1;32mD:\\anaconda1\\lib\\urllib\\request.py\u001b[0m in \u001b[0;36mopen\u001b[1;34m(self, fullurl, data, timeout)\u001b[0m\n\u001b[0;32m    469\u001b[0m         \u001b[1;32mfor\u001b[0m \u001b[0mprocessor\u001b[0m \u001b[1;32min\u001b[0m \u001b[0mself\u001b[0m\u001b[1;33m.\u001b[0m\u001b[0mprocess_response\u001b[0m\u001b[1;33m.\u001b[0m\u001b[0mget\u001b[0m\u001b[1;33m(\u001b[0m\u001b[0mprotocol\u001b[0m\u001b[1;33m,\u001b[0m \u001b[1;33m[\u001b[0m\u001b[1;33m]\u001b[0m\u001b[1;33m)\u001b[0m\u001b[1;33m:\u001b[0m\u001b[1;33m\u001b[0m\u001b[0m\n\u001b[0;32m    470\u001b[0m             \u001b[0mmeth\u001b[0m \u001b[1;33m=\u001b[0m \u001b[0mgetattr\u001b[0m\u001b[1;33m(\u001b[0m\u001b[0mprocessor\u001b[0m\u001b[1;33m,\u001b[0m \u001b[0mmeth_name\u001b[0m\u001b[1;33m)\u001b[0m\u001b[1;33m\u001b[0m\u001b[0m\n\u001b[1;32m--> 471\u001b[1;33m             \u001b[0mresponse\u001b[0m \u001b[1;33m=\u001b[0m \u001b[0mmeth\u001b[0m\u001b[1;33m(\u001b[0m\u001b[0mreq\u001b[0m\u001b[1;33m,\u001b[0m \u001b[0mresponse\u001b[0m\u001b[1;33m)\u001b[0m\u001b[1;33m\u001b[0m\u001b[0m\n\u001b[0m\u001b[0;32m    472\u001b[0m \u001b[1;33m\u001b[0m\u001b[0m\n\u001b[0;32m    473\u001b[0m         \u001b[1;32mreturn\u001b[0m \u001b[0mresponse\u001b[0m\u001b[1;33m\u001b[0m\u001b[0m\n",
      "\u001b[1;32mD:\\anaconda1\\lib\\urllib\\request.py\u001b[0m in \u001b[0;36mhttp_response\u001b[1;34m(self, request, response)\u001b[0m\n\u001b[0;32m    579\u001b[0m         \u001b[1;32mif\u001b[0m \u001b[1;32mnot\u001b[0m \u001b[1;33m(\u001b[0m\u001b[1;36m200\u001b[0m \u001b[1;33m<=\u001b[0m \u001b[0mcode\u001b[0m \u001b[1;33m<\u001b[0m \u001b[1;36m300\u001b[0m\u001b[1;33m)\u001b[0m\u001b[1;33m:\u001b[0m\u001b[1;33m\u001b[0m\u001b[0m\n\u001b[0;32m    580\u001b[0m             response = self.parent.error(\n\u001b[1;32m--> 581\u001b[1;33m                 'http', request, response, code, msg, hdrs)\n\u001b[0m\u001b[0;32m    582\u001b[0m \u001b[1;33m\u001b[0m\u001b[0m\n\u001b[0;32m    583\u001b[0m         \u001b[1;32mreturn\u001b[0m \u001b[0mresponse\u001b[0m\u001b[1;33m\u001b[0m\u001b[0m\n",
      "\u001b[1;32mD:\\anaconda1\\lib\\urllib\\request.py\u001b[0m in \u001b[0;36merror\u001b[1;34m(self, proto, *args)\u001b[0m\n\u001b[0;32m    501\u001b[0m             \u001b[0mhttp_err\u001b[0m \u001b[1;33m=\u001b[0m \u001b[1;36m0\u001b[0m\u001b[1;33m\u001b[0m\u001b[0m\n\u001b[0;32m    502\u001b[0m         \u001b[0margs\u001b[0m \u001b[1;33m=\u001b[0m \u001b[1;33m(\u001b[0m\u001b[0mdict\u001b[0m\u001b[1;33m,\u001b[0m \u001b[0mproto\u001b[0m\u001b[1;33m,\u001b[0m \u001b[0mmeth_name\u001b[0m\u001b[1;33m)\u001b[0m \u001b[1;33m+\u001b[0m \u001b[0margs\u001b[0m\u001b[1;33m\u001b[0m\u001b[0m\n\u001b[1;32m--> 503\u001b[1;33m         \u001b[0mresult\u001b[0m \u001b[1;33m=\u001b[0m \u001b[0mself\u001b[0m\u001b[1;33m.\u001b[0m\u001b[0m_call_chain\u001b[0m\u001b[1;33m(\u001b[0m\u001b[1;33m*\u001b[0m\u001b[0margs\u001b[0m\u001b[1;33m)\u001b[0m\u001b[1;33m\u001b[0m\u001b[0m\n\u001b[0m\u001b[0;32m    504\u001b[0m         \u001b[1;32mif\u001b[0m \u001b[0mresult\u001b[0m\u001b[1;33m:\u001b[0m\u001b[1;33m\u001b[0m\u001b[0m\n\u001b[0;32m    505\u001b[0m             \u001b[1;32mreturn\u001b[0m \u001b[0mresult\u001b[0m\u001b[1;33m\u001b[0m\u001b[0m\n",
      "\u001b[1;32mD:\\anaconda1\\lib\\urllib\\request.py\u001b[0m in \u001b[0;36m_call_chain\u001b[1;34m(self, chain, kind, meth_name, *args)\u001b[0m\n\u001b[0;32m    441\u001b[0m         \u001b[1;32mfor\u001b[0m \u001b[0mhandler\u001b[0m \u001b[1;32min\u001b[0m \u001b[0mhandlers\u001b[0m\u001b[1;33m:\u001b[0m\u001b[1;33m\u001b[0m\u001b[0m\n\u001b[0;32m    442\u001b[0m             \u001b[0mfunc\u001b[0m \u001b[1;33m=\u001b[0m \u001b[0mgetattr\u001b[0m\u001b[1;33m(\u001b[0m\u001b[0mhandler\u001b[0m\u001b[1;33m,\u001b[0m \u001b[0mmeth_name\u001b[0m\u001b[1;33m)\u001b[0m\u001b[1;33m\u001b[0m\u001b[0m\n\u001b[1;32m--> 443\u001b[1;33m             \u001b[0mresult\u001b[0m \u001b[1;33m=\u001b[0m \u001b[0mfunc\u001b[0m\u001b[1;33m(\u001b[0m\u001b[1;33m*\u001b[0m\u001b[0margs\u001b[0m\u001b[1;33m)\u001b[0m\u001b[1;33m\u001b[0m\u001b[0m\n\u001b[0m\u001b[0;32m    444\u001b[0m             \u001b[1;32mif\u001b[0m \u001b[0mresult\u001b[0m \u001b[1;32mis\u001b[0m \u001b[1;32mnot\u001b[0m \u001b[1;32mNone\u001b[0m\u001b[1;33m:\u001b[0m\u001b[1;33m\u001b[0m\u001b[0m\n\u001b[0;32m    445\u001b[0m                 \u001b[1;32mreturn\u001b[0m \u001b[0mresult\u001b[0m\u001b[1;33m\u001b[0m\u001b[0m\n",
      "\u001b[1;32mD:\\anaconda1\\lib\\urllib\\request.py\u001b[0m in \u001b[0;36mhttp_error_302\u001b[1;34m(self, req, fp, code, msg, headers)\u001b[0m\n\u001b[0;32m    684\u001b[0m         \u001b[0mfp\u001b[0m\u001b[1;33m.\u001b[0m\u001b[0mclose\u001b[0m\u001b[1;33m(\u001b[0m\u001b[1;33m)\u001b[0m\u001b[1;33m\u001b[0m\u001b[0m\n\u001b[0;32m    685\u001b[0m \u001b[1;33m\u001b[0m\u001b[0m\n\u001b[1;32m--> 686\u001b[1;33m         \u001b[1;32mreturn\u001b[0m \u001b[0mself\u001b[0m\u001b[1;33m.\u001b[0m\u001b[0mparent\u001b[0m\u001b[1;33m.\u001b[0m\u001b[0mopen\u001b[0m\u001b[1;33m(\u001b[0m\u001b[0mnew\u001b[0m\u001b[1;33m,\u001b[0m \u001b[0mtimeout\u001b[0m\u001b[1;33m=\u001b[0m\u001b[0mreq\u001b[0m\u001b[1;33m.\u001b[0m\u001b[0mtimeout\u001b[0m\u001b[1;33m)\u001b[0m\u001b[1;33m\u001b[0m\u001b[0m\n\u001b[0m\u001b[0;32m    687\u001b[0m \u001b[1;33m\u001b[0m\u001b[0m\n\u001b[0;32m    688\u001b[0m     \u001b[0mhttp_error_301\u001b[0m \u001b[1;33m=\u001b[0m \u001b[0mhttp_error_303\u001b[0m \u001b[1;33m=\u001b[0m \u001b[0mhttp_error_307\u001b[0m \u001b[1;33m=\u001b[0m \u001b[0mhttp_error_302\u001b[0m\u001b[1;33m\u001b[0m\u001b[0m\n",
      "\u001b[1;32mD:\\anaconda1\\lib\\urllib\\request.py\u001b[0m in \u001b[0;36mopen\u001b[1;34m(self, fullurl, data, timeout)\u001b[0m\n\u001b[0;32m    463\u001b[0m             \u001b[0mreq\u001b[0m \u001b[1;33m=\u001b[0m \u001b[0mmeth\u001b[0m\u001b[1;33m(\u001b[0m\u001b[0mreq\u001b[0m\u001b[1;33m)\u001b[0m\u001b[1;33m\u001b[0m\u001b[0m\n\u001b[0;32m    464\u001b[0m \u001b[1;33m\u001b[0m\u001b[0m\n\u001b[1;32m--> 465\u001b[1;33m         \u001b[0mresponse\u001b[0m \u001b[1;33m=\u001b[0m \u001b[0mself\u001b[0m\u001b[1;33m.\u001b[0m\u001b[0m_open\u001b[0m\u001b[1;33m(\u001b[0m\u001b[0mreq\u001b[0m\u001b[1;33m,\u001b[0m \u001b[0mdata\u001b[0m\u001b[1;33m)\u001b[0m\u001b[1;33m\u001b[0m\u001b[0m\n\u001b[0m\u001b[0;32m    466\u001b[0m \u001b[1;33m\u001b[0m\u001b[0m\n\u001b[0;32m    467\u001b[0m         \u001b[1;31m# post-process response\u001b[0m\u001b[1;33m\u001b[0m\u001b[1;33m\u001b[0m\u001b[0m\n",
      "\u001b[1;32mD:\\anaconda1\\lib\\urllib\\request.py\u001b[0m in \u001b[0;36m_open\u001b[1;34m(self, req, data)\u001b[0m\n\u001b[0;32m    481\u001b[0m         \u001b[0mprotocol\u001b[0m \u001b[1;33m=\u001b[0m \u001b[0mreq\u001b[0m\u001b[1;33m.\u001b[0m\u001b[0mtype\u001b[0m\u001b[1;33m\u001b[0m\u001b[0m\n\u001b[0;32m    482\u001b[0m         result = self._call_chain(self.handle_open, protocol, protocol +\n\u001b[1;32m--> 483\u001b[1;33m                                   '_open', req)\n\u001b[0m\u001b[0;32m    484\u001b[0m         \u001b[1;32mif\u001b[0m \u001b[0mresult\u001b[0m\u001b[1;33m:\u001b[0m\u001b[1;33m\u001b[0m\u001b[0m\n\u001b[0;32m    485\u001b[0m             \u001b[1;32mreturn\u001b[0m \u001b[0mresult\u001b[0m\u001b[1;33m\u001b[0m\u001b[0m\n",
      "\u001b[1;32mD:\\anaconda1\\lib\\urllib\\request.py\u001b[0m in \u001b[0;36m_call_chain\u001b[1;34m(self, chain, kind, meth_name, *args)\u001b[0m\n\u001b[0;32m    441\u001b[0m         \u001b[1;32mfor\u001b[0m \u001b[0mhandler\u001b[0m \u001b[1;32min\u001b[0m \u001b[0mhandlers\u001b[0m\u001b[1;33m:\u001b[0m\u001b[1;33m\u001b[0m\u001b[0m\n\u001b[0;32m    442\u001b[0m             \u001b[0mfunc\u001b[0m \u001b[1;33m=\u001b[0m \u001b[0mgetattr\u001b[0m\u001b[1;33m(\u001b[0m\u001b[0mhandler\u001b[0m\u001b[1;33m,\u001b[0m \u001b[0mmeth_name\u001b[0m\u001b[1;33m)\u001b[0m\u001b[1;33m\u001b[0m\u001b[0m\n\u001b[1;32m--> 443\u001b[1;33m             \u001b[0mresult\u001b[0m \u001b[1;33m=\u001b[0m \u001b[0mfunc\u001b[0m\u001b[1;33m(\u001b[0m\u001b[1;33m*\u001b[0m\u001b[0margs\u001b[0m\u001b[1;33m)\u001b[0m\u001b[1;33m\u001b[0m\u001b[0m\n\u001b[0m\u001b[0;32m    444\u001b[0m             \u001b[1;32mif\u001b[0m \u001b[0mresult\u001b[0m \u001b[1;32mis\u001b[0m \u001b[1;32mnot\u001b[0m \u001b[1;32mNone\u001b[0m\u001b[1;33m:\u001b[0m\u001b[1;33m\u001b[0m\u001b[0m\n\u001b[0;32m    445\u001b[0m                 \u001b[1;32mreturn\u001b[0m \u001b[0mresult\u001b[0m\u001b[1;33m\u001b[0m\u001b[0m\n",
      "\u001b[1;32mD:\\anaconda1\\lib\\urllib\\request.py\u001b[0m in \u001b[0;36mhttp_open\u001b[1;34m(self, req)\u001b[0m\n\u001b[0;32m   1266\u001b[0m \u001b[1;33m\u001b[0m\u001b[0m\n\u001b[0;32m   1267\u001b[0m     \u001b[1;32mdef\u001b[0m \u001b[0mhttp_open\u001b[0m\u001b[1;33m(\u001b[0m\u001b[0mself\u001b[0m\u001b[1;33m,\u001b[0m \u001b[0mreq\u001b[0m\u001b[1;33m)\u001b[0m\u001b[1;33m:\u001b[0m\u001b[1;33m\u001b[0m\u001b[0m\n\u001b[1;32m-> 1268\u001b[1;33m         \u001b[1;32mreturn\u001b[0m \u001b[0mself\u001b[0m\u001b[1;33m.\u001b[0m\u001b[0mdo_open\u001b[0m\u001b[1;33m(\u001b[0m\u001b[0mhttp\u001b[0m\u001b[1;33m.\u001b[0m\u001b[0mclient\u001b[0m\u001b[1;33m.\u001b[0m\u001b[0mHTTPConnection\u001b[0m\u001b[1;33m,\u001b[0m \u001b[0mreq\u001b[0m\u001b[1;33m)\u001b[0m\u001b[1;33m\u001b[0m\u001b[0m\n\u001b[0m\u001b[0;32m   1269\u001b[0m \u001b[1;33m\u001b[0m\u001b[0m\n\u001b[0;32m   1270\u001b[0m     \u001b[0mhttp_request\u001b[0m \u001b[1;33m=\u001b[0m \u001b[0mAbstractHTTPHandler\u001b[0m\u001b[1;33m.\u001b[0m\u001b[0mdo_request_\u001b[0m\u001b[1;33m\u001b[0m\u001b[0m\n",
      "\u001b[1;32mD:\\anaconda1\\lib\\urllib\\request.py\u001b[0m in \u001b[0;36mdo_open\u001b[1;34m(self, http_class, req, **http_conn_args)\u001b[0m\n\u001b[0;32m   1241\u001b[0m             \u001b[1;32mexcept\u001b[0m \u001b[0mOSError\u001b[0m \u001b[1;32mas\u001b[0m \u001b[0merr\u001b[0m\u001b[1;33m:\u001b[0m \u001b[1;31m# timeout error\u001b[0m\u001b[1;33m\u001b[0m\u001b[0m\n\u001b[0;32m   1242\u001b[0m                 \u001b[1;32mraise\u001b[0m \u001b[0mURLError\u001b[0m\u001b[1;33m(\u001b[0m\u001b[0merr\u001b[0m\u001b[1;33m)\u001b[0m\u001b[1;33m\u001b[0m\u001b[0m\n\u001b[1;32m-> 1243\u001b[1;33m             \u001b[0mr\u001b[0m \u001b[1;33m=\u001b[0m \u001b[0mh\u001b[0m\u001b[1;33m.\u001b[0m\u001b[0mgetresponse\u001b[0m\u001b[1;33m(\u001b[0m\u001b[1;33m)\u001b[0m\u001b[1;33m\u001b[0m\u001b[0m\n\u001b[0m\u001b[0;32m   1244\u001b[0m         \u001b[1;32mexcept\u001b[0m\u001b[1;33m:\u001b[0m\u001b[1;33m\u001b[0m\u001b[0m\n\u001b[0;32m   1245\u001b[0m             \u001b[0mh\u001b[0m\u001b[1;33m.\u001b[0m\u001b[0mclose\u001b[0m\u001b[1;33m(\u001b[0m\u001b[1;33m)\u001b[0m\u001b[1;33m\u001b[0m\u001b[0m\n",
      "\u001b[1;32mD:\\anaconda1\\lib\\http\\client.py\u001b[0m in \u001b[0;36mgetresponse\u001b[1;34m(self)\u001b[0m\n\u001b[0;32m   1172\u001b[0m         \u001b[1;32mtry\u001b[0m\u001b[1;33m:\u001b[0m\u001b[1;33m\u001b[0m\u001b[0m\n\u001b[0;32m   1173\u001b[0m             \u001b[1;32mtry\u001b[0m\u001b[1;33m:\u001b[0m\u001b[1;33m\u001b[0m\u001b[0m\n\u001b[1;32m-> 1174\u001b[1;33m                 \u001b[0mresponse\u001b[0m\u001b[1;33m.\u001b[0m\u001b[0mbegin\u001b[0m\u001b[1;33m(\u001b[0m\u001b[1;33m)\u001b[0m\u001b[1;33m\u001b[0m\u001b[0m\n\u001b[0m\u001b[0;32m   1175\u001b[0m             \u001b[1;32mexcept\u001b[0m \u001b[0mConnectionError\u001b[0m\u001b[1;33m:\u001b[0m\u001b[1;33m\u001b[0m\u001b[0m\n\u001b[0;32m   1176\u001b[0m                 \u001b[0mself\u001b[0m\u001b[1;33m.\u001b[0m\u001b[0mclose\u001b[0m\u001b[1;33m(\u001b[0m\u001b[1;33m)\u001b[0m\u001b[1;33m\u001b[0m\u001b[0m\n",
      "\u001b[1;32mD:\\anaconda1\\lib\\http\\client.py\u001b[0m in \u001b[0;36mbegin\u001b[1;34m(self)\u001b[0m\n\u001b[0;32m    302\u001b[0m             \u001b[0mself\u001b[0m\u001b[1;33m.\u001b[0m\u001b[0mversion\u001b[0m \u001b[1;33m=\u001b[0m \u001b[1;36m11\u001b[0m   \u001b[1;31m# use HTTP/1.1 code for HTTP/1.x where x>=1\u001b[0m\u001b[1;33m\u001b[0m\u001b[0m\n\u001b[0;32m    303\u001b[0m         \u001b[1;32melse\u001b[0m\u001b[1;33m:\u001b[0m\u001b[1;33m\u001b[0m\u001b[0m\n\u001b[1;32m--> 304\u001b[1;33m             \u001b[1;32mraise\u001b[0m \u001b[0mUnknownProtocol\u001b[0m\u001b[1;33m(\u001b[0m\u001b[0mversion\u001b[0m\u001b[1;33m)\u001b[0m\u001b[1;33m\u001b[0m\u001b[0m\n\u001b[0m\u001b[0;32m    305\u001b[0m \u001b[1;33m\u001b[0m\u001b[0m\n\u001b[0;32m    306\u001b[0m         \u001b[0mself\u001b[0m\u001b[1;33m.\u001b[0m\u001b[0mheaders\u001b[0m \u001b[1;33m=\u001b[0m \u001b[0mself\u001b[0m\u001b[1;33m.\u001b[0m\u001b[0mmsg\u001b[0m \u001b[1;33m=\u001b[0m \u001b[0mparse_headers\u001b[0m\u001b[1;33m(\u001b[0m\u001b[0mself\u001b[0m\u001b[1;33m.\u001b[0m\u001b[0mfp\u001b[0m\u001b[1;33m)\u001b[0m\u001b[1;33m\u001b[0m\u001b[0m\n",
      "\u001b[1;31mUnknownProtocol\u001b[0m: HTTP/0.0"
     ]
    }
   ],
   "source": [
    "# coding:utf8\n",
    "\n",
    "import re\n",
    "import urllib\n",
    "import http.cookiejar as cookielib\n",
    "\n",
    "loginUrl = 'http://jwxt.bupt.edu.cn/loginAction.do'\n",
    "\n",
    "#cookie\n",
    "cookie = cookielib.CookieJar()\n",
    "handler = urllib.request.HTTPCookieProcessor(cookie)\n",
    "opener = urllib.request.build_opener(handler)\n",
    "#postdata\n",
    "values = {\n",
    "    'zjh':'2012210556',\n",
    "    'mm':'cdk120803',\n",
    "    'v_yzm':''\n",
    "}\n",
    "postdata = urllib.parse.urlencode(values).encode()\n",
    "#headers\n",
    "header = {\n",
    "    'User-Agent':'Mozilla/5.0 (Windows NT 6.3; Win64; x64) AppleWebKit/537.36 (KHTML, like Gecko) Chrome/56.0.2924.87 Safari/537.36',\n",
    "    'Referer':'http://115.24.160.162/loginAction.do'\n",
    "}\n",
    "\n",
    "#第一次请求网页得到cookie\n",
    "req = urllib.request.Request(loginUrl,postdata,headers=header)\n",
    "response = opener.open(req)\n",
    "print ('第一次请求网页得到cookie:')\n",
    "print (response.getcode())\n",
    "\n",
    "#获取验证码----------------!!!问题一直出在这，要用带cookie的方法访问验证码的网页---这样的话进入的验证码的页面对应的验证码就是登陆页面的验证码了哈哈哈哈哈(之前用的是不带cookie的urlopen()方法...)\n",
    "yzm = opener.open('http://jwxt.bupt.edu.cn/loginAction.do')\n",
    "yzm_data =  yzm.read()\n",
    "yzm_pic = file('yzm.jpg','wb')\n",
    "yzm_pic.write(yzm_data)\n",
    "yzm_pic.close()\n",
    "\n",
    "#用户输入验证码\n",
    "print ('请输入验证码：')\n",
    "values['v_yzm'] = input()\n",
    "#带验证码模拟登陆\n",
    "postdata = urllib.request.urlencode(values).encode()\n",
    "request = urllib.request.Request(loginUrl,postdata,header)\n",
    "response = opener.open(request)\n",
    "print ('Response of loginAction.do')\n",
    "print (response.read().decode('gbk'))"
   ]
  },
  {
   "cell_type": "code",
   "execution_count": null,
   "metadata": {
    "collapsed": true
   },
   "outputs": [],
   "source": [
    "import requests\n",
    "#取我们从Fiddler中得到的Request URL\n",
    "url='http://ssfw.xmu.edu.cn/cmstar/userPasswordValidate.portal'\n",
    "#将POST需要的参数放入data字典中\n",
    "data = {}\n",
    "data['Login.Token1'] = 'xxxxxxxx'  #帐号\n",
    "data['Login.Token2'] = 'xxxxxx'  #密码\n",
    "data['goto'] = 'http: // ssfw.xmu.edu.cn / cmstar / loginSuccess.portal'\n",
    "data['gotoOnFail'] = 'http: // ssfw.xmu.edu.cn / cmstar / loginFailure.portal'\n",
    "headers = {'User-Agent':'Mozilla/5.0 (Windows NT 10.0; WOW64) AppleWebKit/537.36 (KHTML, like Gecko) Chrome/55.0.2883.103 Safari/537.36', 'Connection':'keep-alive'}\n",
    "#用POST的方法进行参数传递\n",
    "response = requests.post(url=url, data=data, headers=headers)\n",
    "html = response.text\n",
    "print(html)"
   ]
  },
  {
   "cell_type": "code",
   "execution_count": 1,
   "metadata": {
    "collapsed": false
   },
   "outputs": [
    {
     "name": "stdout",
     "output_type": "stream",
     "text": [
      "请输入你的 email\n",
      ">  chendeken@126.com\n",
      "请输入你的密码\n",
      ">  cdk120803\n",
      "\n",
      "\n",
      "\n",
      "\n",
      "\n",
      "\n",
      "\n",
      "\n",
      "<html><head><script type=\"text/javascript\">top.location.href = \"http://mail.126.com/js6/main.jsp?sid=OAIyOUlWyccrpTjDQjWWrGpyHDcSTXqb&df=mail126_letter\";</script></head><body></body></html>\n",
      "\n",
      "\n",
      "[(\"'messageCount'\", \"'unreadMessageCount':21\"), (\"'messageCount'\", \"'unreadMessageCount':0\"), (\"'messageCount'\", \"'unreadMessageCount':0\"), (\"'messageCount'\", \"'unreadMessageCount':0\"), (\"'messageCount'\", \"'unreadMessageCount':1\"), (\"'messageCount'\", \"'unreadMessageCount':0\"), (\"'messageCount'\", \"'unreadMessageCount':0\"), (\"'messageCount'\", \"'unreadMessageCount':6\"), (\"'messageCount'\", \"'unreadMessageCount':27\")]\n"
     ]
    }
   ],
   "source": [
    "import requests\n",
    "import re\n",
    "\n",
    "\n",
    "# 构造 Request headers\n",
    "agent = 'Mozilla/5.0 (Windows NT 5.1; rv:33.0) Gecko/20100101 Firefox/33.0'\n",
    "headers = {\n",
    "    'User-Agent': agent\n",
    "}\n",
    "\n",
    "session = requests.session()\n",
    "\n",
    "\n",
    "def login(email, secret):\n",
    "    session.get(\"http://126.com\", headers=headers)\n",
    "    params = {\n",
    "        'df': 'mail126_letter',\n",
    "        'from': 'web',\n",
    "        'funcid': 'loginone',\n",
    "        'iframe': '1',\n",
    "        'language': '-1',\n",
    "        'passtype': '1',\n",
    "        'product': 'mail126',\n",
    "        'verifycookie': '-1',\n",
    "        'net': 'failed',\n",
    "        'style': '-1',\n",
    "        'race': '-2_-2_-2_db',\n",
    "        'uid': email,\n",
    "        'hid': '10010102'\n",
    "    }\n",
    "    postdata = {\n",
    "        \"username\": email,\n",
    "        \"savelogin\": \"1\",\n",
    "        \"url2\": \"http://mail.126.com/errorpage/error126.htm\",\n",
    "        \"password\": secret\n",
    "    }\n",
    "    url = \"https://mail.126.com/entry/cgi/ntesdoor?\"\n",
    "    login = session.post(url, data=postdata, headers=headers, params=params)\n",
    "    print (login.text)\n",
    "    pa = r'href = \"(.*?)\"'\n",
    "    res = re.findall(pa, login.text)\n",
    "    index_page = session.get(res[0])\n",
    "    pa_index = r\"('messageCount'.*?).*?('unreadMessageCount'.*?),\"\n",
    "    res_index = re.findall(pa_index, index_page.text)\n",
    "    print(res_index)\n",
    "\n",
    "    return index_page\n",
    "\n",
    "try:\n",
    "    input = raw_input\n",
    "except:\n",
    "    pass\n",
    "\n",
    "\n",
    "if __name__ == '__main__':\n",
    "    email = input('请输入你的 email\\n>  ')\n",
    "    secret = input(\"请输入你的密码\\n>  \")\n",
    "    login(email, secret)"
   ]
  },
  {
   "cell_type": "code",
   "execution_count": null,
   "metadata": {
    "collapsed": true
   },
   "outputs": [],
   "source": [
    "#爬取成绩\n",
    "import urllib\n",
    "import urllib2\n",
    "import cookielib\n",
    "import re\n",
    "import string\n",
    " \n",
    "#绩点运算\n",
    "class SDU:\n",
    "   \n",
    "   #类的初始化\n",
    "   def __init__(self):\n",
    "      #登录URL\n",
    "      self.loginUrl = 'http://jwxt.sdu.edu.cn:7890/pls/wwwbks/bks_login2.login'\n",
    "      #成绩URL\n",
    "      self.gradeUrl = 'http://jwxt.sdu.edu.cn:7890/pls/wwwbks/bkscjcx.curscopre'\n",
    "      #CookieJar对象\n",
    "      self.cookies = cookielib.CookieJar()\n",
    "      #表单数据\n",
    "      self.postdata = urllib.urlencode({\n",
    "            'stuid':'201200131012',\n",
    "            'pwd':'xxxxx'\n",
    "         })\n",
    "      #构建opener\n",
    "      self.opener = urllib2.build_opener(urllib2.HTTPCookieProcessor(self.cookies))\n",
    "      #学分list\n",
    "      self.credit = []\n",
    "      #成绩list\n",
    "      self.grades = []\n",
    "      \n",
    "   def getPage(self):\n",
    "      req  = urllib2.Request(\n",
    "            url = self.loginUrl,\n",
    "            data = self.postdata)\n",
    "      result = self.opener.open(req)\n",
    "      result = self.opener.open(self.gradeUrl)\n",
    "      #返回本学期成绩页面\n",
    "      return result.read().decode('gbk')\n",
    "   \n",
    "   def getGrades(self):\n",
    "      #获得本学期成绩页面\n",
    "      page = self.getPage()\n",
    "      #正则匹配\n",
    "      myItems = re.findall('<TR>.*?<p.*?<p.*?<p.*?<p.*?<p.*?>(.*?)</p>.*?<p.*?<p.*?>(.*?)</p>.*?</TR>',page,re.S) \n",
    "      for item in myItems:\n",
    "         self.credit.append(item[0].encode('gbk'))\n",
    "         self.grades.append(item[1].encode('gbk'))\n",
    "      self.getGrade()\n",
    "      \n",
    "   def getGrade(self):\n",
    "      #计算总绩点\n",
    "      sum = 0.0\n",
    "      weight = 0.0\n",
    "      for i in range(len(self.credit)):\n",
    "         if(self.grades[i].isdigit()):\n",
    "            sum += string.atof(self.credit[i])*string.atof(self.grades[i])\n",
    "            weight += string.atof(self.credit[i])\n",
    "      \n",
    "      print u\"本学期绩点为:\",sum/weight\n",
    "      \n",
    "sdu = SDU()\n",
    "sdu.getGrades()\n"
   ]
  },
  {
   "cell_type": "code",
   "execution_count": null,
   "metadata": {
    "collapsed": true
   },
   "outputs": [],
   "source": [
    "### 抓取带有验证码的网站\n",
    "import urllib2\n",
    "import cookielib\n",
    "import urllib\n",
    "import re\n",
    "import sys\n",
    "'''模拟登录'''\n",
    "reload(sys)\n",
    "sys.setdefaultencoding(\"utf-8\")\n",
    "# 防止中文报错\n",
    "\n",
    "CaptchaUrl = \"http://202.115.80.153/CheckCode.aspx\"\n",
    "PostUrl = \"http://202.115.80.153/default2.aspx\"\n",
    "# 验证码地址和post地址\n",
    "\n",
    "\n",
    "cookie = cookielib.CookieJar()\n",
    "handler = urllib2.HTTPCookieProcessor(cookie)\n",
    "opener = urllib2.build_opener(handler)\n",
    "# 将cookies绑定到一个opener  cookie由cookielib自动管理\n",
    "\n",
    "\n",
    "username = 'username'\n",
    "password = 'password123'\n",
    "# 用户名和密码\n",
    "\n",
    "picture = opener.open(CaptchaUrl).read()\n",
    "# 用openr访问验证码地址,获取cookie\n",
    "\n",
    "local = open('e:/image.jpg', 'wb')\n",
    "local.write(picture)\n",
    "local.close()\n",
    "# 保存验证码到本地\n",
    "\n",
    "SecretCode = raw_input('输入验证码： ')\n",
    "# 打开保存的验证码图片 输入\n",
    "\n",
    "postData = {\n",
    "    '__VIEWSTATE': 'dDwyODE2NTM0OTg7Oz6pH0TWZk5t0lupp/tlA1L+rmL83g==',\n",
    "    'txtUserName': username,\n",
    "    'TextBox2': password,\n",
    "    'txtSecretCode': SecretCode,\n",
    "    'RadioButtonList1': '学生',\n",
    "    'Button1': '',\n",
    "    'lbLanguage': '',\n",
    "    'hidPdrs': '',\n",
    "    'hidsc': '',\n",
    "}\n",
    "# 根据抓包信息 构造表单\n",
    "\n",
    "headers = {\n",
    "    'Accept': 'text/html,application/xhtml+xml,application/xml;q=0.9,image/webp,*/*;q=0.8',\n",
    "    'Accept-Language': 'zh-CN,zh;q=0.8',\n",
    "    'Connection': 'keep-alive',\n",
    "    'Content-Type': 'application/x-www-form-urlencoded',\n",
    "    'User-Agent': 'Mozilla/5.0 (Windows NT 6.1) AppleWebKit/537.36 (KHTML, like Gecko) Chrome/46.0.2490.86 Safari/537.36',\n",
    "}\n",
    "# 根据抓包信息 构造headers\n",
    "\n",
    "\n",
    "data = urllib.urlencode(postData)\n",
    "# 生成post数据 ?key1=value1&key2=value2的形式\n",
    "request = urllib2.Request(PostUrl, data, headers)\n",
    "# 构造request请求\n",
    "\n",
    "try:\n",
    "    response = opener.open(request)\n",
    "    result = response.read().decode('gb2312')\n",
    "    # 由于该网页是gb2312的编码，所以需要解码\n",
    "    print result\n",
    "    # 打印登录后的页面\n",
    "except urllib2.HTTPError, e:\n",
    "    print e.code"
   ]
  }
 ],
 "metadata": {
  "anaconda-cloud": {},
  "kernelspec": {
   "display_name": "Python [Root]",
   "language": "python",
   "name": "Python [Root]"
  },
  "language_info": {
   "codemirror_mode": {
    "name": "ipython",
    "version": 3
   },
   "file_extension": ".py",
   "mimetype": "text/x-python",
   "name": "python",
   "nbconvert_exporter": "python",
   "pygments_lexer": "ipython3",
   "version": "3.5.1"
  }
 },
 "nbformat": 4,
 "nbformat_minor": 0
}
