{
 "cells": [
  {
   "cell_type": "code",
   "execution_count": 3,
   "metadata": {
    "collapsed": true
   },
   "outputs": [],
   "source": [
    "import tkinter\n",
    "top=tkinter.Tk()\n",
    "top.mainloop()"
   ]
  },
  {
   "cell_type": "markdown",
   "metadata": {},
   "source": [
    "### Tk 控件 "
   ]
  },
  {
   "cell_type": "markdown",
   "metadata": {},
   "source": [
    "Button  与 Label 类似，但提供额外的功能，如鼠标悬浮、按下、释放以及键盘活动/事件 \n",
    "Canvas  提供绘制形状的功能（线段、椭圆、多边形、矩形），可以包含图像或位图 \n",
    "Checkbutton  一组选框，可以勾选其中的任意个（与 HTML 的 checkbox 输入类似） \n",
    "Entry  单行文本框，用于收集键盘输入（与 HTML 的文本输入类似） Frame  包含其他控件的纯容器 \n",
    "Label 用于包含文本或图像 \n",
    "LabelFrame  标签和框架的组合，拥有额外的标签属性 \n",
    "Listbox  给用户显示一个选项列表来进行选择 \n",
    "Menu  按下 Menubutton 后弹出的选项列表，用户可以从中选择 \n",
    "Menubutton  用于包含菜单（下拉、级联等） Message  消息。与 Label类似，不过可以显示成多行 \n",
    "PanedWindow  一个可以控制其他控件在其中摆放的容器控件 \n",
    "Radiobutton  一组按钮，其中只有一个可以“按下”（与 HTML 的 radio 输入类似） \n",
    "Scale  线性“滑块”控件，根据已设定的起始值和终止值，给出当前设定的精确值 \n",
    "Scrollbar  为 Text、Canvas、Listbox、Enter 等支持的控件提供滚动功能 \n",
    "Spinbox  Entry和 Button 的组合，允许对值进行调整 \n",
    "Text  多行文本框，用于收集（或显示）用户输入的文本（与 HTML的 textarea 类似） \n",
    "Toplevel 与 Frame 类似，不过它提供了一个单独的窗口容器  "
   ]
  },
  {
   "cell_type": "code",
   "execution_count": 4,
   "metadata": {
    "collapsed": true
   },
   "outputs": [],
   "source": [
    "import tkinter as Tkinter\n",
    "\n",
    "top = Tkinter.Tk()\n",
    "label = Tkinter.Label(top, text='Hello World!')\n",
    "label.pack()\n",
    "Tkinter.mainloop()"
   ]
  },
  {
   "cell_type": "code",
   "execution_count": 7,
   "metadata": {
    "collapsed": false
   },
   "outputs": [],
   "source": [
    "import tkinter as Tkinter\n",
    "\n",
    "top = Tkinter.Tk()\n",
    "quit = Tkinter.Button(top, text='Hello World!',\n",
    "    command=top.destroy)  #destroy quit\n",
    "quit.pack()\n",
    "Tkinter.mainloop()"
   ]
  },
  {
   "cell_type": "code",
   "execution_count": 2,
   "metadata": {
    "collapsed": false
   },
   "outputs": [],
   "source": [
    "import tkinter as Tkinter\n",
    "top = Tkinter.Tk()\n",
    "\n",
    "hello = Tkinter.Label(top, text='Hello World!')\n",
    "hello.pack()\n",
    "\n",
    "quit = Tkinter.Button(top, text='QUIT',\n",
    "    command=top.destroy, bg='red', fg='white')\n",
    "quit.pack(fill=Tkinter.X, expand=1)\n",
    "\n",
    "Tkinter.mainloop()"
   ]
  },
  {
   "cell_type": "markdown",
   "metadata": {},
   "source": [
    "pack 参数说明 \n",
    "fill -- x 横向填充（默认,各组件自上而下）， y竖向填充（各组件自左往右），both都填充 \n",
    "expand -- 1 父外框大小改变时，自动扩充大小，0为false \n",
    "side -- left right top bottom 停靠在父组件的哪一边上 \n",
    "anchor -- 对齐方式 \n",
    " \n",
    "grid  参数说明 \n",
    "row -- 行号 \n",
    "rowspan -- 合并行 \n",
    "column -- 列号 \n",
    "columnspan -- 合并列 \n",
    "sticky -- 组件紧靠所在单元格的某一边角 "
   ]
  },
  {
   "cell_type": "code",
   "execution_count": 5,
   "metadata": {
    "collapsed": true
   },
   "outputs": [],
   "source": [
    "from tkinter import *\n",
    "\n",
    "def resize(ev=None):\n",
    "    label.config(font='Helvetica -%d bold' % \\\n",
    "        scale.get())\n",
    "\n",
    "top = Tk()\n",
    "top.geometry('250x150') #设置窗口大小\n",
    "\n",
    "label = Label(top, text='Hello World!',\n",
    "    font='Helvetica -12 bold')\n",
    "label.pack(fill=Y, expand=1)\n",
    "\n",
    "scale = Scale(top, from_=10, to=40,\n",
    "    orient=HORIZONTAL,  #设置水平方向\n",
    "    command=resize)  \n",
    "scale.set(12)\n",
    "scale.pack(fill=X, expand=1)\n",
    "\n",
    "quit = Button(top, text='QUIT',\n",
    "    command=top.destroy, activeforeground='white',\n",
    "    activebackground='red')\n",
    "quit.pack()\n",
    "\n",
    "mainloop()\n"
   ]
  },
  {
   "cell_type": "markdown",
   "metadata": {},
   "source": [
    "pto-偏函数的定义\n",
    "使用偏函数可以通过有效地“冻结”那些预先确定的参数，来缓存函数参数，然后在运行时，当获得需要的剩余参数后，可以将他们解冻，传递到最终的参数中，从而使用最终确定的所有参数去调用函数。"
   ]
  },
  {
   "cell_type": "code",
   "execution_count": 4,
   "metadata": {
    "collapsed": false
   },
   "outputs": [
    {
     "name": "stdout",
     "output_type": "stream",
     "text": [
      "109\n"
     ]
    }
   ],
   "source": [
    "def add(a,b):\n",
    "      return a+b;\n",
    "from functools import partial as pto\n",
    "puls = pto(add,100)\n",
    "result = puls(9)\n",
    "print (result)"
   ]
  },
  {
   "cell_type": "code",
   "execution_count": 6,
   "metadata": {
    "collapsed": false
   },
   "outputs": [],
   "source": [
    "import pdb\n",
    "from functools import partial as pto\n",
    "from tkinter import Tk, Button, X\n",
    "from tkinter.messagebox import showinfo, showwarning, showerror\n",
    "\n",
    "WARN = 'warn'\n",
    "CRIT = 'crit'\n",
    "REGU = 'regu'\n",
    "\n",
    "SIGNS = {\n",
    "'do not enter': CRIT,\n",
    "'railroad crossing': WARN,\n",
    "'55\\nspeed limit': REGU,\n",
    "'wrong way':CRIT,\n",
    "'merging traffic':WARN,\n",
    "'one way': REGU,\n",
    "}\n",
    "\n",
    "critCB = lambda: showerror('Error','Error Button Pressed!')\n",
    "warnCB = lambda: showwarning('warning','Warning Button Pressed!')\n",
    "infoCB = lambda: showinfo('Info','Info Button Pressed')\n",
    "\n",
    "top = Tk()\n",
    "top.title('Road Signs')\n",
    "Button(top, text='QUIT',command=top.destroy,bg='red',fg='white').pack()\n",
    "\n",
    "MyButton = pto(Button,top)\n",
    "CritButton = pto(MyButton, command=critCB, bg='white',fg='red')\n",
    "WarnButton = pto(MyButton, command=warnCB, bg='goldenrod1')\n",
    "ReguButton = pto(MyButton, command=infoCB, bg='white')\n",
    "\n",
    "for eachSign in SIGNS:\n",
    "    #pdb.set_trace()\n",
    "    signType = SIGNS[eachSign]\n",
    "    cmd = '%sButton(text=%r%s).pack(fill=X,expand=True)'%\\\n",
    "          (signType.title(),eachSign,'.upper()' if signType==CRIT else '.title()')\n",
    "    eval(cmd)\n",
    "\n",
    "top.mainloop()"
   ]
  },
  {
   "cell_type": "markdown",
   "metadata": {
    "collapsed": true
   },
   "source": [
    "### Tk接口扩展(Tix)"
   ]
  },
  {
   "cell_type": "code",
   "execution_count": 11,
   "metadata": {
    "collapsed": false
   },
   "outputs": [],
   "source": [
    "from tkinter import Button, END, Label, W\n",
    "from Pmw import initialise, ComboBox, Counter\n",
    "\n",
    "top = initialise()\n",
    "\n",
    "lb = Label(top,\n",
    "    text='Animals (in pairs; min: pair, max: dozen)')\n",
    "lb.pack()\n",
    "\n",
    "ct = Counter(top, labelpos=W, label_text='Number:',\n",
    "    datatype='integer', entryfield_value=2,\n",
    "    increment=2, entryfield_validate={'validator':\n",
    "    'integer', 'min': 2, 'max': 12})\n",
    "ct.pack()\n",
    "\n",
    "cb = ComboBox(top, labelpos=W, label_text='Type:')\n",
    "for animal in ('dog', 'cat', 'hamster', 'python'):\n",
    "    cb.insert(END, animal)\n",
    "cb.pack()\n",
    "\n",
    "qb = Button(top, text='QUIT',\n",
    "    command=top.destroy, bg='red', fg='white')\n",
    "qb.pack()\n",
    "\n",
    "top.mainloop()"
   ]
  },
  {
   "cell_type": "markdown",
   "metadata": {},
   "source": [
    "## 学习PyQt"
   ]
  },
  {
   "cell_type": "code",
   "execution_count": null,
   "metadata": {
    "collapsed": true
   },
   "outputs": [],
   "source": []
  }
 ],
 "metadata": {
  "anaconda-cloud": {},
  "kernelspec": {
   "display_name": "Python [Root]",
   "language": "python",
   "name": "Python [Root]"
  },
  "language_info": {
   "codemirror_mode": {
    "name": "ipython",
    "version": 3
   },
   "file_extension": ".py",
   "mimetype": "text/x-python",
   "name": "python",
   "nbconvert_exporter": "python",
   "pygments_lexer": "ipython3",
   "version": "3.5.1"
  }
 },
 "nbformat": 4,
 "nbformat_minor": 0
}
