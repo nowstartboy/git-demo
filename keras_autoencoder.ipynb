{
 "cells": [
  {
   "cell_type": "code",
   "execution_count": 1,
   "metadata": {
    "collapsed": false
   },
   "outputs": [
    {
     "name": "stderr",
     "output_type": "stream",
     "text": [
      "Using TensorFlow backend.\n"
     ]
    }
   ],
   "source": [
    "import numpy as np  \n",
    "np.random.seed(1337)  # for reproducibility  \n",
    "  \n",
    "from keras.datasets import mnist  \n",
    "from keras.models import Model #泛型模型  \n",
    "from keras.layers import Dense, Input  \n",
    "import matplotlib.pyplot as plt  \n",
    "  \n",
    "# X shape (60,000 28x28), y shape (10,000, )  \n",
    "(x_train, _), (x_test, y_test) = mnist.load_data()  "
   ]
  },
  {
   "cell_type": "code",
   "execution_count": 2,
   "metadata": {
    "collapsed": false
   },
   "outputs": [
    {
     "name": "stdout",
     "output_type": "stream",
     "text": [
      "(60000, 784)\n",
      "(10000, 784)\n"
     ]
    }
   ],
   "source": [
    "# 数据预处理  \n",
    "x_train = x_train.astype('float32') / 255. - 0.5       # minmax_normalized  \n",
    "x_test = x_test.astype('float32') / 255. - 0.5         # minmax_normalized  \n",
    "x_train = x_train.reshape((x_train.shape[0], -1))  \n",
    "x_test = x_test.reshape((x_test.shape[0], -1))  \n",
    "print(x_train.shape)  \n",
    "print(x_test.shape)  \n",
    "  "
   ]
  },
  {
   "cell_type": "code",
   "execution_count": 41,
   "metadata": {
    "collapsed": false
   },
   "outputs": [
    {
     "name": "stdout",
     "output_type": "stream",
     "text": [
      "<class 'numpy.ndarray'>\n"
     ]
    }
   ],
   "source": [
    "print (type(x_test))"
   ]
  },
  {
   "cell_type": "code",
   "execution_count": 3,
   "metadata": {
    "collapsed": true
   },
   "outputs": [],
   "source": [
    "# 压缩特征维度至2维  \n",
    "encoding_dim = 2  \n",
    "  \n",
    "# this is our input placeholder  \n",
    "input_img = Input(shape=(784,))  \n",
    "  \n",
    "# 编码层  \n",
    "encoded = Dense(128, activation='relu')(input_img)  \n",
    "encoded = Dense(64, activation='relu')(encoded)  \n",
    "encoded = Dense(10, activation='relu')(encoded)  \n",
    "encoder_output = Dense(encoding_dim)(encoded)  \n",
    " \n",
    "# 解码层  \n",
    "decoded = Dense(10, activation='relu')(encoder_output)  \n",
    "decoded = Dense(64, activation='relu')(decoded)  \n",
    "decoded = Dense(128, activation='relu')(decoded)  \n",
    "decoded = Dense(784, activation='tanh')(decoded)  "
   ]
  },
  {
   "cell_type": "code",
   "execution_count": 4,
   "metadata": {
    "collapsed": true
   },
   "outputs": [],
   "source": [
    "# 构建自编码模型  \n",
    "autoencoder = Model(inputs=input_img, outputs=decoded)  \n",
    "\n",
    "# 构建编码模型  \n",
    "encoder = Model(inputs=input_img, outputs=encoder_output)  "
   ]
  },
  {
   "cell_type": "code",
   "execution_count": 5,
   "metadata": {
    "collapsed": false,
    "scrolled": true
   },
   "outputs": [
    {
     "name": "stdout",
     "output_type": "stream",
     "text": [
      "Epoch 1/20\n",
      "60000/60000 [==============================] - 3s - loss: 0.0685     \n",
      "Epoch 2/20\n",
      "60000/60000 [==============================] - 2s - loss: 0.0563     \n",
      "Epoch 3/20\n",
      "60000/60000 [==============================] - 2s - loss: 0.0513     \n",
      "Epoch 4/20\n",
      "60000/60000 [==============================] - 2s - loss: 0.0485     \n",
      "Epoch 5/20\n",
      "60000/60000 [==============================] - 2s - loss: 0.0468     \n",
      "Epoch 6/20\n",
      "60000/60000 [==============================] - 2s - loss: 0.0454     \n",
      "Epoch 7/20\n",
      "60000/60000 [==============================] - 2s - loss: 0.0444     \n",
      "Epoch 8/20\n",
      "60000/60000 [==============================] - 2s - loss: 0.0436     \n",
      "Epoch 9/20\n",
      "60000/60000 [==============================] - 2s - loss: 0.0427     \n",
      "Epoch 10/20\n",
      "60000/60000 [==============================] - 2s - loss: 0.0421     \n",
      "Epoch 11/20\n",
      "60000/60000 [==============================] - 2s - loss: 0.0417     \n",
      "Epoch 12/20\n",
      "60000/60000 [==============================] - 2s - loss: 0.0413     \n",
      "Epoch 13/20\n",
      "60000/60000 [==============================] - 2s - loss: 0.0410     \n",
      "Epoch 14/20\n",
      "60000/60000 [==============================] - 2s - loss: 0.0407     \n",
      "Epoch 15/20\n",
      "60000/60000 [==============================] - 2s - loss: 0.0406     \n",
      "Epoch 16/20\n",
      "60000/60000 [==============================] - 2s - loss: 0.0403     \n",
      "Epoch 17/20\n",
      "60000/60000 [==============================] - 2s - loss: 0.0401     \n",
      "Epoch 18/20\n",
      "60000/60000 [==============================] - 2s - loss: 0.0400     \n",
      "Epoch 19/20\n",
      "60000/60000 [==============================] - 2s - loss: 0.0398     \n",
      "Epoch 20/20\n",
      "60000/60000 [==============================] - 2s - loss: 0.0397     \n"
     ]
    },
    {
     "data": {
      "text/plain": [
       "<keras.callbacks.History at 0x1750d4b2438>"
      ]
     },
     "execution_count": 5,
     "metadata": {},
     "output_type": "execute_result"
    }
   ],
   "source": [
    "# compile autoencoder  \n",
    "autoencoder.compile(optimizer='adam', loss='mse')  \n",
    "  \n",
    "# training  \n",
    "autoencoder.fit(x_train, x_train, epochs=20, batch_size=256, shuffle=True)  "
   ]
  },
  {
   "cell_type": "code",
   "execution_count": 6,
   "metadata": {
    "collapsed": false
   },
   "outputs": [],
   "source": [
    "# plotting  \n",
    "encoded_imgs = encoder.predict(x_test)  "
   ]
  },
  {
   "cell_type": "code",
   "execution_count": 7,
   "metadata": {
    "collapsed": false
   },
   "outputs": [],
   "source": [
    "#做更多的一些测试\n",
    "autoencoder_imgs=autoencoder.predict(x_test)"
   ]
  },
  {
   "cell_type": "code",
   "execution_count": 9,
   "metadata": {
    "collapsed": false
   },
   "outputs": [
    {
     "data": {
      "text/plain": [
       "(10000, 784)"
      ]
     },
     "execution_count": 9,
     "metadata": {},
     "output_type": "execute_result"
    }
   ],
   "source": [
    "autoencoder_imgs.shape"
   ]
  },
  {
   "cell_type": "code",
   "execution_count": 13,
   "metadata": {
    "collapsed": false
   },
   "outputs": [],
   "source": [
    "imgs1=np.reshape(autoencoder_imgs[0,:], (28, 28))"
   ]
  },
  {
   "cell_type": "code",
   "execution_count": 14,
   "metadata": {
    "collapsed": false,
    "scrolled": true
   },
   "outputs": [
    {
     "data": {
      "text/plain": [
       "<matplotlib.image.AxesImage at 0x17511c96a20>"
      ]
     },
     "execution_count": 14,
     "metadata": {},
     "output_type": "execute_result"
    },
    {
     "data": {
      "image/png": "[encoded data removed]",
      "text/plain": [
       "<matplotlib.figure.Figure at 0x17511c41438>"
      ]
     },
     "metadata": {},
     "output_type": "display_data"
    }
   ],
   "source": [
    "%matplotlib inline\n",
    "plt.matshow(imgs1, cmap=plt.get_cmap('gray'))"
   ]
  },
  {
   "cell_type": "code",
   "execution_count": 45,
   "metadata": {
    "collapsed": false
   },
   "outputs": [
    {
     "name": "stdout",
     "output_type": "stream",
     "text": [
      "<class 'numpy.ndarray'>\n",
      "[[-0.50698227 -0.51297432 -0.50367695 -0.51000994 -0.50519419 -0.51339209\n",
      "  -0.51554811 -0.50604331 -0.5067693  -0.50459212 -0.50868607 -0.51239765\n",
      "  -0.49712259 -0.50763267 -0.50913203 -0.50545424 -0.50172752 -0.51243806\n",
      "  -0.50423574 -0.51087248 -0.51263797 -0.50642312 -0.50207424 -0.50993943\n",
      "  -0.50958002 -0.50859958 -0.5081861  -0.5125823  -0.50633091 -0.50579232\n",
      "  -0.50720692 -0.51168048 -0.51220679 -0.50456995 -0.50833094 -0.49972695\n",
      "  -0.50606889 -0.50623935 -0.51496649 -0.507891   -0.50271225 -0.5060429\n",
      "  -0.5062502  -0.51754886 -0.49650544 -0.51733595 -0.51397556 -0.50300783\n",
      "  -0.5031271  -0.5030874  -0.50725919 -0.50738275 -0.50819737 -0.50392747\n",
      "  -0.5065254  -0.50956243 -0.50448424 -0.50984961 -0.50904399 -0.50479251\n",
      "  -0.50706524 -0.50561136 -0.50718516 -0.50436139 -0.50364476 -0.50772405\n",
      "  -0.51909626 -0.5119974  -0.50409806 -0.48873571 -0.50877982 -0.51554418\n",
      "  -0.51128399 -0.49188906 -0.48798829 -0.49194551 -0.51670784 -0.50303847\n",
      "  -0.50946277 -0.51468617 -0.50620055 -0.50797135 -0.50325215 -0.52524185\n",
      "  -0.50211549 -0.50985271 -0.51071829 -0.51395309 -0.50799245 -0.51055187\n",
      "  -0.50735974 -0.49464166 -0.51662159 -0.49897814 -0.4980894  -0.48095062\n",
      "  -0.4880456  -0.48852304 -0.51390302 -0.52508157 -0.53217256 -0.52574229\n",
      "  -0.50365913 -0.49186736 -0.4946005  -0.50470245 -0.50911307 -0.49397835\n",
      "  -0.50558364 -0.50848687 -0.510355   -0.517717   -0.50308859 -0.50425088\n",
      "  -0.50544715 -0.50762725 -0.51508713 -0.50165939 -0.50595272 -0.50694066\n",
      "  -0.50610143 -0.49268875 -0.49279818 -0.50021183 -0.52368152 -0.52436018\n",
      "  -0.55528194 -0.57633567 -0.54903698 -0.52345431 -0.52146041 -0.4926101\n",
      "  -0.51061296 -0.50339669 -0.50419295 -0.50345731 -0.52180558 -0.50273669\n",
      "  -0.50390637 -0.50822634 -0.50183058 -0.51130933 -0.5051868  -0.51566029\n",
      "  -0.51986712 -0.50284183 -0.49914706 -0.49493441 -0.49025112 -0.49524379\n",
      "  -0.49342638 -0.49460453 -0.51262277 -0.51889694 -0.54719657 -0.53260398\n",
      "  -0.52726263 -0.48828581 -0.48517576 -0.48660105 -0.47886312 -0.47896978\n",
      "  -0.49892935 -0.5073002  -0.49060979 -0.50484347 -0.5017913  -0.49781644\n",
      "  -0.5182001  -0.51204211 -0.5102818  -0.51372778 -0.49504739 -0.49029616\n",
      "  -0.48506692 -0.47412306 -0.45034033 -0.45359263 -0.43189272 -0.44937965\n",
      "  -0.47233886 -0.47202477 -0.46835902 -0.45112413 -0.41501561 -0.38611436\n",
      "  -0.40141061 -0.45452508 -0.45662606 -0.46351755 -0.4731001  -0.48456603\n",
      "  -0.50619972 -0.5032087  -0.51270813 -0.51691604 -0.51316994 -0.50536644\n",
      "  -0.50730449 -0.4951897  -0.46917182 -0.43212849 -0.36617261 -0.30534559\n",
      "  -0.25484118 -0.21138328 -0.19135885 -0.15670919 -0.13222776 -0.09674571\n",
      "  -0.04819238 -0.02902119  0.01160128  0.03036667 -0.0384203  -0.16864006\n",
      "  -0.28543466 -0.40398395 -0.44035819 -0.47907647 -0.50078321 -0.49558422\n",
      "  -0.50957662 -0.50747699 -0.51211435 -0.50364    -0.51571083 -0.47776461\n",
      "  -0.43973252 -0.36015615 -0.24839227 -0.12217933 -0.00253641  0.1293001\n",
      "   0.20983577  0.26662445  0.31529996  0.31188777  0.34168854  0.32832789\n",
      "   0.32053727  0.34810391  0.33184618  0.15662059 -0.08540746 -0.32544908\n",
      "  -0.43223855 -0.48166296 -0.51237941 -0.50980437 -0.50126141 -0.50681621\n",
      "  -0.5122869  -0.50978988 -0.516837   -0.46837461 -0.42962173 -0.30814603\n",
      "  -0.1858682   0.01452953  0.15738659  0.30487674  0.3706907   0.35108665\n",
      "   0.32505366  0.30310783  0.29271394  0.24261734  0.26767498  0.35970858\n",
      "   0.39359587  0.2794286   0.01484093 -0.24504562 -0.4151257  -0.48706323\n",
      "  -0.52682656 -0.51828784 -0.50844198 -0.50836307 -0.50843608 -0.50866306\n",
      "  -0.50705463 -0.47704887 -0.4349148  -0.34216917 -0.21439859 -0.02352095\n",
      "   0.1198662   0.20069765  0.16434503  0.09817637  0.01257486 -0.04359838\n",
      "  -0.07992733 -0.12960908 -0.0314361   0.22313243  0.37842596  0.29545614\n",
      "   0.0275558  -0.26918453 -0.41620174 -0.51185083 -0.49950787 -0.50875539\n",
      "  -0.50916493 -0.49973616 -0.51979774 -0.50337207 -0.48791009 -0.4876644\n",
      "  -0.46845382 -0.42461449 -0.27980676 -0.14233819 -0.05810431 -0.02610942\n",
      "  -0.1390897  -0.24961966 -0.31147623 -0.34281901 -0.36772138 -0.37430632\n",
      "  -0.17813991  0.13884701  0.34008026  0.25571281 -0.08327822 -0.32458684\n",
      "  -0.43697211 -0.50203449 -0.50974524 -0.50147086 -0.51300412 -0.50792086\n",
      "  -0.50768602 -0.51594472 -0.50123423 -0.50270391 -0.4974387  -0.44803452\n",
      "  -0.3511948  -0.25364253 -0.20111777 -0.22332659 -0.34363228 -0.40103003\n",
      "  -0.43432075 -0.43619472 -0.45508635 -0.39423013 -0.13628903  0.22001088\n",
      "   0.32243469  0.13595454 -0.18651034 -0.38554573 -0.45418414 -0.48767322\n",
      "  -0.49340791 -0.5029127  -0.51411253 -0.50513887 -0.51426613 -0.50713181\n",
      "  -0.50533313 -0.50788635 -0.50048089 -0.46642736 -0.41901234 -0.34057626\n",
      "  -0.30597273 -0.35237628 -0.42596307 -0.43309295 -0.43006977 -0.41323766\n",
      "  -0.44110799 -0.32264599 -0.0027734   0.31416002  0.28483739  0.01095938\n",
      "  -0.30816236 -0.42089117 -0.46667451 -0.48638088 -0.50253612 -0.49670017\n",
      "  -0.51091731 -0.51695639 -0.50841719 -0.50571197 -0.50573993 -0.51380712\n",
      "  -0.51373506 -0.48793936 -0.46332401 -0.40567479 -0.40949214 -0.43549377\n",
      "  -0.44169891 -0.42929354 -0.42447141 -0.4369522  -0.43328494 -0.24655646\n",
      "   0.14015271  0.34002087  0.21985613 -0.16729455 -0.38528007 -0.45004794\n",
      "  -0.46760198 -0.48815086 -0.49739474 -0.51088053 -0.50711012 -0.50816578\n",
      "  -0.51708102 -0.50400841 -0.50759786 -0.51676124 -0.51097798 -0.50165224\n",
      "  -0.50042647 -0.48295334 -0.47591329 -0.50248122 -0.4936468  -0.48571029\n",
      "  -0.47463539 -0.4391315  -0.38075805 -0.09424228  0.27195022  0.34411508\n",
      "   0.08443175 -0.26957485 -0.4470014  -0.47434956 -0.47499409 -0.47133896\n",
      "  -0.48277855 -0.50478554 -0.50356287 -0.51045656 -0.49940801 -0.50822401\n",
      "  -0.50081259 -0.51788789 -0.50511354 -0.50597149 -0.50176042 -0.5143224\n",
      "  -0.50317204 -0.50603181 -0.51224941 -0.52648282 -0.49992529 -0.48175997\n",
      "  -0.29327497  0.12225879  0.36705771  0.26729313 -0.06701968 -0.3608821\n",
      "  -0.47727528 -0.4824529  -0.46418315 -0.45247    -0.48659819 -0.50375032\n",
      "  -0.51886344 -0.51447934 -0.50378889 -0.51379824 -0.51745993 -0.52678388\n",
      "  -0.49180672 -0.48415476 -0.49211243 -0.50764591 -0.47061414 -0.46383122\n",
      "  -0.4553009  -0.47854239 -0.49136943 -0.45065764 -0.09141545  0.36458623\n",
      "   0.41574866  0.12443588 -0.24724215 -0.45331126 -0.49826339 -0.47610319\n",
      "  -0.44914383 -0.46305275 -0.49089897 -0.50187564 -0.50911164 -0.51132125\n",
      "  -0.5120095  -0.49516159 -0.51275021 -0.51793498 -0.49015608 -0.47358528\n",
      "  -0.48189622 -0.46119708 -0.44176444 -0.4183512  -0.43079388 -0.48163921\n",
      "  -0.49683216 -0.31832492  0.21386316  0.54380965  0.38541195 -0.12208907\n",
      "  -0.42616844 -0.50603735 -0.48819992 -0.45945337 -0.44569328 -0.47373417\n",
      "  -0.51460522 -0.49111566 -0.51619381 -0.51107603 -0.51193184 -0.51617235\n",
      "  -0.50044554 -0.51158249 -0.47724277 -0.4895322  -0.49839473 -0.46697772\n",
      "  -0.44335842 -0.44756955 -0.47277245 -0.51341021 -0.49377048 -0.08507851\n",
      "   0.51181579  0.58762765  0.13867755 -0.38040477 -0.53445017 -0.50973958\n",
      "  -0.47497207 -0.4407534  -0.45580453 -0.46896681 -0.50179976 -0.5143097\n",
      "  -0.50040746 -0.51889682 -0.50795943 -0.51143807 -0.52345484 -0.49367815\n",
      "  -0.47367954 -0.50482541 -0.5044257  -0.4736627  -0.45715052 -0.4820182\n",
      "  -0.51654464 -0.52980429 -0.35350549  0.2516582   0.63380134  0.46888581\n",
      "  -0.17212407 -0.54437906 -0.5494349  -0.50440848 -0.46757653 -0.47220004\n",
      "  -0.46540123 -0.48693672 -0.50284129 -0.50531846 -0.51081246 -0.5190708\n",
      "  -0.51183271 -0.51211077 -0.51215696 -0.4990848  -0.47915024 -0.49403274\n",
      "  -0.48108783 -0.47975758 -0.46384722 -0.49416867 -0.53015268 -0.49554139\n",
      "  -0.11306302  0.47532934  0.59965885  0.14385366 -0.41994745 -0.56894189\n",
      "  -0.52922058 -0.46826771 -0.4634077  -0.47050056 -0.49770802 -0.50265324\n",
      "  -0.5158537  -0.51217616 -0.50886065 -0.50053638 -0.50970751 -0.51637733\n",
      "  -0.51735771 -0.50518876 -0.48129794 -0.49098551 -0.46460137 -0.46518558\n",
      "  -0.47386244 -0.512155   -0.4915804  -0.317267    0.21362858  0.57636255\n",
      "   0.41087228 -0.18400285 -0.53651941 -0.55957133 -0.50020653 -0.47042811\n",
      "  -0.4824411  -0.49821192 -0.50997287 -0.5069598  -0.51625693 -0.50649172\n",
      "  -0.5094164  -0.50960141 -0.50338435 -0.50107253 -0.51010942 -0.50934148\n",
      "  -0.50539023 -0.50229329 -0.47410142 -0.4693419  -0.48774955 -0.49145454\n",
      "  -0.39653236 -0.04871175  0.40742898  0.51685613  0.17204683 -0.34825307\n",
      "  -0.59096038 -0.54578012 -0.48444009 -0.47608206 -0.50245649 -0.50987989\n",
      "  -0.51979637 -0.52235001 -0.51546305 -0.5113973  -0.50960177 -0.50927198\n",
      "  -0.51045746 -0.50604355 -0.50932205 -0.50000089 -0.50845647 -0.50472409\n",
      "  -0.49753013 -0.50061023 -0.49164861 -0.48780349 -0.29944596  0.15219294\n",
      "   0.47063637  0.42276949 -0.02889857 -0.46289364 -0.58764261 -0.53994977\n",
      "  -0.48018479 -0.49221003 -0.50863087 -0.51122284 -0.51389349 -0.50835937\n",
      "  -0.51026171 -0.51519638 -0.51051408 -0.50497574 -0.51607358 -0.50430554\n",
      "  -0.50059116 -0.50782913 -0.51403081 -0.51078975 -0.51336187 -0.53504062\n",
      "  -0.51564509 -0.48122746 -0.22811548  0.16714743  0.37490007  0.22201158\n",
      "  -0.18952787 -0.4804422  -0.55161047 -0.52841681 -0.49864373 -0.4994131\n",
      "  -0.51197028 -0.50790137 -0.51446229 -0.50897908 -0.50760347 -0.50327814\n",
      "  -0.50207484 -0.50389808 -0.5104056  -0.51034105 -0.51682937 -0.50494522\n",
      "  -0.5090515  -0.50754666 -0.51943034 -0.51682377 -0.50425887 -0.45568079\n",
      "  -0.30323407 -0.08382287  0.02403272 -0.09558374 -0.34274441 -0.47259262\n",
      "  -0.49819604 -0.51815397 -0.50376445 -0.50250787 -0.50533211 -0.51815397\n",
      "  -0.5111599  -0.50787723 -0.51777184 -0.51007026 -0.5075928  -0.50498521\n",
      "  -0.50573772 -0.5052036  -0.51087064 -0.50338763 -0.51472187 -0.5098781\n",
      "  -0.51195174 -0.49750632 -0.50887233 -0.49345478 -0.46584594 -0.46018061\n",
      "  -0.46557778 -0.48427838 -0.49293533 -0.5102787  -0.5172143  -0.51609492\n",
      "  -0.504053   -0.49922603 -0.50144976 -0.50365037 -0.50389946 -0.51613814\n",
      "  -0.51189518 -0.50891703 -0.50076163 -0.50339913]]\n"
     ]
    },
    {
     "data": {
      "text/plain": [
       "<matplotlib.image.AxesImage at 0x1751d3ffd30>"
      ]
     },
     "execution_count": 45,
     "metadata": {},
     "output_type": "execute_result"
    },
    {
     "data": {
      "image/png": "[encoded data removed]",
      "text/plain": [
       "<matplotlib.figure.Figure at 0x1751d34b240>"
      ]
     },
     "metadata": {},
     "output_type": "display_data"
    }
   ],
   "source": [
    "a=autoencoder_imgs[0,:]\n",
    "a=np.reshape(a,(1,784))\n",
    "print (type(a))\n",
    "print (a)\n",
    "autoencoder_imgs1=autoencoder.predict(a)\n",
    "%matplotlib inline\n",
    "plt.matshow(np.reshape(autoencoder_imgs1, (28, 28)), cmap=plt.get_cmap('gray'))"
   ]
  },
  {
   "cell_type": "code",
   "execution_count": 34,
   "metadata": {
    "collapsed": false
   },
   "outputs": [
    {
     "name": "stdout",
     "output_type": "stream",
     "text": [
      "<class 'numpy.ndarray'>\n",
      "(10000, 784)\n"
     ]
    }
   ],
   "source": [
    "print (type (autoencoder_imgs))\n",
    "print (autoencoder_imgs.shape)\n"
   ]
  },
  {
   "cell_type": "markdown",
   "metadata": {},
   "source": [
    "下面来画压缩成两维的点图"
   ]
  },
  {
   "cell_type": "code",
   "execution_count": 7,
   "metadata": {
    "collapsed": false
   },
   "outputs": [
    {
     "data": {
      "image/png": "[encoded data removed]",
      "text/plain": [
       "<matplotlib.figure.Figure at 0x1f25968fa90>"
      ]
     },
     "metadata": {},
     "output_type": "display_data"
    }
   ],
   "source": [
    "%matplotlib inline\n",
    "label=np.array(y_test)\n",
    "plt.scatter(encoded_imgs[:, 0], encoded_imgs[:, 1], c=label,s=8)  \n",
    "plt.colorbar()  \n",
    "plt.show()  "
   ]
  },
  {
   "cell_type": "code",
   "execution_count": 8,
   "metadata": {
    "collapsed": false
   },
   "outputs": [
    {
     "data": {
      "text/plain": [
       "(10000, 2)"
      ]
     },
     "execution_count": 8,
     "metadata": {},
     "output_type": "execute_result"
    }
   ],
   "source": [
    "encoded_imgs.shape"
   ]
  },
  {
   "cell_type": "code",
   "execution_count": 9,
   "metadata": {
    "collapsed": false
   },
   "outputs": [
    {
     "name": "stdout",
     "output_type": "stream",
     "text": [
      "[7 2 1 0 4]\n"
     ]
    }
   ],
   "source": [
    "print (y_test[0:5])"
   ]
  },
  {
   "cell_type": "code",
   "execution_count": 11,
   "metadata": {
    "collapsed": true
   },
   "outputs": [],
   "source": [
    "decoded_imgs = autoencoder.predict(x_test)  "
   ]
  },
  {
   "cell_type": "code",
   "execution_count": 13,
   "metadata": {
    "collapsed": false
   },
   "outputs": [
    {
     "name": "stdout",
     "output_type": "stream",
     "text": [
      "[-0.5        -0.5        -0.5        -0.5        -0.5        -0.5        -0.5\n",
      " -0.5        -0.5        -0.5        -0.5        -0.5        -0.5        -0.5\n",
      " -0.5        -0.5        -0.5        -0.5        -0.5        -0.5        -0.5\n",
      " -0.5        -0.5        -0.5        -0.5        -0.5        -0.5        -0.5\n",
      " -0.5        -0.5        -0.5        -0.5        -0.5        -0.5        -0.5\n",
      " -0.5        -0.5        -0.5        -0.5        -0.5        -0.5        -0.5\n",
      " -0.5        -0.5        -0.5        -0.5        -0.5        -0.5        -0.5\n",
      " -0.5        -0.5        -0.5        -0.5        -0.5        -0.5        -0.5\n",
      " -0.5        -0.5        -0.5        -0.5        -0.5        -0.5        -0.5\n",
      " -0.5        -0.5        -0.5        -0.5        -0.5        -0.5        -0.5\n",
      " -0.5        -0.5        -0.5        -0.5        -0.5        -0.5        -0.5\n",
      " -0.5        -0.5        -0.5        -0.5        -0.5        -0.5        -0.5\n",
      " -0.5        -0.5        -0.5        -0.5        -0.5        -0.5        -0.5\n",
      " -0.5        -0.5        -0.5        -0.5        -0.5        -0.5        -0.5\n",
      " -0.5        -0.5        -0.5        -0.5        -0.5        -0.5        -0.5\n",
      " -0.5        -0.5        -0.5        -0.5        -0.5        -0.5        -0.5\n",
      " -0.5        -0.5        -0.5        -0.5        -0.5        -0.5        -0.5\n",
      " -0.5        -0.5        -0.5        -0.5        -0.5        -0.5        -0.5\n",
      " -0.5        -0.5        -0.5        -0.5        -0.5        -0.5        -0.5\n",
      " -0.5        -0.5        -0.5        -0.5        -0.5        -0.5        -0.5\n",
      " -0.5        -0.5        -0.5        -0.5        -0.5        -0.5        -0.5\n",
      " -0.5        -0.5        -0.5        -0.5        -0.5        -0.5        -0.5\n",
      " -0.5        -0.5        -0.5        -0.5        -0.5        -0.5        -0.5\n",
      " -0.5        -0.5        -0.5        -0.5        -0.5        -0.5        -0.5\n",
      " -0.5        -0.5        -0.5        -0.5        -0.5        -0.5        -0.5\n",
      " -0.5        -0.5        -0.5        -0.5        -0.5        -0.5        -0.5\n",
      " -0.5        -0.5        -0.5        -0.5        -0.5        -0.5        -0.5\n",
      " -0.5        -0.5        -0.5        -0.5        -0.5        -0.5        -0.5\n",
      " -0.5        -0.5        -0.5        -0.5        -0.5        -0.5\n",
      " -0.17058823  0.22549021  0.12352943  0.09215689 -0.2647059  -0.35882354\n",
      " -0.5        -0.5        -0.5        -0.5        -0.5        -0.5        -0.5\n",
      " -0.5        -0.5        -0.5        -0.5        -0.5        -0.5        -0.5\n",
      " -0.5        -0.5        -0.5        -0.5        -0.5        -0.5        -0.5\n",
      " -0.5         0.37058824  0.49607843  0.49607843  0.49607843  0.49607843\n",
      "  0.44509804  0.2764706   0.2764706   0.2764706   0.2764706   0.2764706\n",
      "  0.2764706   0.2764706   0.2764706   0.16666669 -0.29607844 -0.5        -0.5\n",
      " -0.5        -0.5        -0.5        -0.5        -0.5        -0.5        -0.5\n",
      " -0.5        -0.5        -0.5        -0.23725489 -0.05294117 -0.21764705\n",
      " -0.05294117  0.13921571  0.39019608  0.49607843  0.38235295  0.49607843\n",
      "  0.49607843  0.49607843  0.48039216  0.39803922  0.49607843  0.49607843\n",
      "  0.04901963 -0.5        -0.5        -0.5        -0.5        -0.5        -0.5\n",
      " -0.5        -0.5        -0.5        -0.5        -0.5        -0.5        -0.5\n",
      " -0.5        -0.5        -0.5        -0.5        -0.43333334 -0.24117646\n",
      " -0.44509804 -0.23725489 -0.23725489 -0.23725489 -0.26862746 -0.41764706\n",
      "  0.4254902   0.49607843 -0.08431372 -0.5        -0.5        -0.5        -0.5\n",
      " -0.5        -0.5        -0.5        -0.5        -0.5        -0.5        -0.5\n",
      " -0.5        -0.5        -0.5        -0.5        -0.5        -0.5        -0.5\n",
      " -0.5        -0.5        -0.5        -0.5        -0.5        -0.5\n",
      " -0.17450979  0.49215686  0.31960785 -0.42941177 -0.5        -0.5        -0.5\n",
      " -0.5        -0.5        -0.5        -0.5        -0.5        -0.5        -0.5\n",
      " -0.5        -0.5        -0.5        -0.5        -0.5        -0.5        -0.5\n",
      " -0.5        -0.5        -0.5        -0.5        -0.5        -0.5\n",
      " -0.4137255   0.4137255   0.5        -0.17450979 -0.5        -0.5        -0.5\n",
      " -0.5        -0.5        -0.5        -0.5        -0.5        -0.5        -0.5\n",
      " -0.5        -0.5        -0.5        -0.5        -0.5        -0.5        -0.5\n",
      " -0.5        -0.5        -0.5        -0.5        -0.5        -0.5        -0.5\n",
      "  0.00588238  0.49607843  0.43333334 -0.32745099 -0.5        -0.5        -0.5\n",
      " -0.5        -0.5        -0.5        -0.5        -0.5        -0.5        -0.5\n",
      " -0.5        -0.5        -0.5        -0.5        -0.5        -0.5        -0.5\n",
      " -0.5        -0.5        -0.5        -0.5        -0.5        -0.5\n",
      " -0.26862746  0.47647059  0.49607843 -0.25686276 -0.5        -0.5        -0.5\n",
      " -0.5        -0.5        -0.5        -0.5        -0.5        -0.5        -0.5\n",
      " -0.5        -0.5        -0.5        -0.5        -0.5        -0.5        -0.5\n",
      " -0.5        -0.5        -0.5        -0.5        -0.5        -0.5        -0.5\n",
      "  0.02156866  0.49607843  0.23333335 -0.48039216 -0.5        -0.5        -0.5\n",
      " -0.5        -0.5        -0.5        -0.5        -0.5        -0.5        -0.5\n",
      " -0.5        -0.5        -0.5        -0.5        -0.5        -0.5        -0.5\n",
      " -0.5        -0.5        -0.5        -0.5        -0.5        -0.5\n",
      " -0.46470588  0.30392158  0.47254902 -0.27254903 -0.5        -0.5        -0.5\n",
      " -0.5        -0.5        -0.5        -0.5        -0.5        -0.5        -0.5\n",
      " -0.5        -0.5        -0.5        -0.5        -0.5        -0.5        -0.5\n",
      " -0.5        -0.5        -0.5        -0.5        -0.5        -0.5        -0.5\n",
      " -0.00588235  0.49607843  0.21372551 -0.5        -0.5        -0.5        -0.5\n",
      " -0.5        -0.5        -0.5        -0.5        -0.5        -0.5        -0.5\n",
      " -0.5        -0.5        -0.5        -0.5        -0.5        -0.5        -0.5\n",
      " -0.5        -0.5        -0.5        -0.5        -0.5        -0.5\n",
      " -0.20588234  0.48431373  0.44117647 -0.2764706  -0.5        -0.5        -0.5\n",
      " -0.5        -0.5        -0.5        -0.5        -0.5        -0.5        -0.5\n",
      " -0.5        -0.5        -0.5        -0.5        -0.5        -0.5        -0.5\n",
      " -0.5        -0.5        -0.5        -0.5        -0.5        -0.5\n",
      " -0.4254902   0.36666667  0.49607843  0.15098041 -0.5        -0.5        -0.5\n",
      " -0.5        -0.5        -0.5        -0.5        -0.5        -0.5        -0.5\n",
      " -0.5        -0.5        -0.5        -0.5        -0.5        -0.5        -0.5\n",
      " -0.5        -0.5        -0.5        -0.5        -0.5        -0.5\n",
      " -0.48823529  0.29607844  0.49607843  0.35882354 -0.36274511 -0.5        -0.5\n",
      " -0.5        -0.5        -0.5        -0.5        -0.5        -0.5        -0.5\n",
      " -0.5        -0.5        -0.5        -0.5        -0.5        -0.5        -0.5\n",
      " -0.5        -0.5        -0.5        -0.5        -0.5        -0.5        -0.5\n",
      " -0.3509804   0.49607843  0.49607843 -0.1980392  -0.5        -0.5        -0.5\n",
      " -0.5        -0.5        -0.5        -0.5        -0.5        -0.5        -0.5\n",
      " -0.5        -0.5        -0.5        -0.5        -0.5        -0.5        -0.5\n",
      " -0.5        -0.5        -0.5        -0.5        -0.5        -0.5\n",
      " -0.37843138  0.37843138  0.49607843 -0.0490196  -0.49607843 -0.5        -0.5\n",
      " -0.5        -0.5        -0.5        -0.5        -0.5        -0.5        -0.5\n",
      " -0.5        -0.5        -0.5        -0.5        -0.5        -0.5        -0.5\n",
      " -0.5        -0.5        -0.5        -0.5        -0.5        -0.5        -0.5\n",
      "  0.02156866  0.49607843  0.49607843 -0.29607844 -0.5        -0.5        -0.5\n",
      " -0.5        -0.5        -0.5        -0.5        -0.5        -0.5        -0.5\n",
      " -0.5        -0.5        -0.5        -0.5        -0.5        -0.5        -0.5\n",
      " -0.5        -0.5        -0.5        -0.5        -0.5        -0.5\n",
      " -0.26078433  0.44901961  0.49607843  0.49607843 -0.29607844 -0.5        -0.5\n",
      " -0.5        -0.5        -0.5        -0.5        -0.5        -0.5        -0.5\n",
      " -0.5        -0.5        -0.5        -0.5        -0.5        -0.5        -0.5\n",
      " -0.5        -0.5        -0.5        -0.5        -0.5        -0.5        -0.5\n",
      " -0.02549019  0.49607843  0.49607843  0.35882354 -0.34313726 -0.5        -0.5\n",
      " -0.5        -0.5        -0.5        -0.5        -0.5        -0.5        -0.5\n",
      " -0.5        -0.5        -0.5        -0.5        -0.5        -0.5        -0.5\n",
      " -0.5        -0.5        -0.5        -0.5        -0.5        -0.5        -0.5\n",
      " -0.02549019  0.49607843  0.31176472 -0.42941177 -0.5        -0.5        -0.5\n",
      " -0.5        -0.5        -0.5        -0.5        -0.5        -0.5        -0.5\n",
      " -0.5        -0.5        -0.5        -0.5        -0.5        -0.5        -0.5\n",
      " -0.5        -0.5        -0.5        -0.5        -0.5        -0.5        -0.5\n",
      " -0.5        -0.5        -0.5        -0.5        -0.5        -0.5        -0.5\n",
      " -0.5        -0.5        -0.5        -0.5        -0.5        -0.5        -0.5\n",
      " -0.5        -0.5        -0.5        -0.5       ]\n",
      "[-0.49220276 -0.48987132 -0.49840769 -0.48896551 -0.50665754 -0.49345669\n",
      " -0.4980455  -0.4937824  -0.49264729 -0.49378759 -0.48421624 -0.49958941\n",
      " -0.49062049 -0.49707904 -0.49887216 -0.49171892 -0.49409571 -0.49557546\n",
      " -0.48926586 -0.49125603 -0.49361211 -0.4934305  -0.48981762 -0.48997381\n",
      " -0.49504989 -0.49678349 -0.49336839 -0.48987624 -0.48784244 -0.48689076\n",
      " -0.49385354 -0.50611639 -0.49613234 -0.50066864 -0.49248624 -0.48554099\n",
      " -0.49406281 -0.49220055 -0.49304143 -0.4899185  -0.48269242 -0.48976707\n",
      " -0.48455322 -0.49605381 -0.49641076 -0.49641874 -0.49154109 -0.48602867\n",
      " -0.49419478 -0.49643168 -0.49187922 -0.48787546 -0.49305263 -0.49015531\n",
      " -0.47870418 -0.49510056 -0.48473835 -0.49558714 -0.49666446 -0.49343172\n",
      " -0.49278906 -0.48743585 -0.49178097 -0.48488241 -0.49270824 -0.4962512\n",
      " -0.50795889 -0.50880378 -0.49123952 -0.48098114 -0.48590922 -0.49556026\n",
      " -0.50432533 -0.49886423 -0.50318122 -0.5032692  -0.50457346 -0.49964887\n",
      " -0.4967775  -0.49493518 -0.4927215  -0.5003565  -0.50021005 -0.49868128\n",
      " -0.49392307 -0.49757501 -0.49218497 -0.48452985 -0.49691668 -0.49698722\n",
      " -0.49657589 -0.48893183 -0.49215809 -0.5018571  -0.49468964 -0.48214021\n",
      " -0.48174432 -0.48191261 -0.48470917 -0.50448483 -0.51710093 -0.52462828\n",
      " -0.50982356 -0.49479169 -0.4712252  -0.47820207 -0.48915663 -0.501118\n",
      " -0.48842117 -0.499006   -0.49444532 -0.49387553 -0.50055063 -0.50124228\n",
      " -0.48906544 -0.49912125 -0.49408978 -0.49381426 -0.49425876 -0.48020205\n",
      " -0.50986856 -0.49704042 -0.48195067 -0.49366149 -0.5131219  -0.50958115\n",
      " -0.4992803  -0.48290545 -0.49728185 -0.50533402 -0.49759674 -0.49130288\n",
      " -0.47983313 -0.50140119 -0.49804538 -0.49900025 -0.49372029 -0.48822856\n",
      " -0.50126314 -0.49497834 -0.4872672  -0.48813003 -0.4775877  -0.49534532\n",
      " -0.49739787 -0.49026442 -0.49914789 -0.50713831 -0.50894523 -0.51879251\n",
      " -0.5118196  -0.50928164 -0.52441937 -0.50712854 -0.50106049 -0.4762761\n",
      " -0.48148662 -0.49844134 -0.51660466 -0.50705433 -0.48820901 -0.53450108\n",
      " -0.53931314 -0.53861576 -0.48722136 -0.48517159 -0.49557769 -0.4949522\n",
      " -0.50296158 -0.5081684  -0.49009177 -0.4932707  -0.49332127 -0.4674713\n",
      " -0.47914204 -0.48562622 -0.47575989 -0.45701301 -0.44093609 -0.42922974\n",
      " -0.44996944 -0.46159065 -0.47140294 -0.45229939 -0.44315171 -0.44781396\n",
      " -0.48455518 -0.50622362 -0.51569659 -0.54904044 -0.53058821 -0.52509564\n",
      " -0.50789893 -0.48024857 -0.49563074 -0.49161309 -0.49170801 -0.49653533\n",
      " -0.49384412 -0.46908465 -0.44250077 -0.40774879 -0.35593832 -0.28674352\n",
      " -0.22059986 -0.15826875 -0.13142127 -0.11288408 -0.09324566 -0.12105263\n",
      " -0.08832736 -0.03011292  0.02118113 -0.00401691 -0.06092918 -0.1592156\n",
      " -0.29837692 -0.43712536 -0.49351653 -0.51349515 -0.5035184  -0.47152248\n",
      " -0.48951796 -0.49084401 -0.487104   -0.50246114 -0.49541512 -0.46249914\n",
      " -0.42515725 -0.31400967 -0.18928233 -0.05522259  0.07969161  0.21237457\n",
      "  0.2783663   0.30408326  0.31379694  0.29750109  0.33222714  0.39511627\n",
      "  0.40583366  0.39438611  0.36065552  0.23246527 -0.04486148 -0.28790569\n",
      " -0.44710246 -0.4741222  -0.4849529  -0.49469236 -0.48625481 -0.49698156\n",
      " -0.49062872 -0.49455458 -0.50358975 -0.46322659 -0.40126348 -0.27674544\n",
      " -0.10653691  0.09831145  0.25864214  0.36482599  0.40870163  0.36326632\n",
      "  0.31989315  0.32355815  0.35312486  0.38083431  0.3938784   0.4076435\n",
      "  0.47621962  0.39315608  0.11639156 -0.21255411 -0.38118738 -0.47896042\n",
      " -0.50739759 -0.49224567 -0.48044944 -0.497866   -0.49237251 -0.49290037\n",
      " -0.4885276  -0.47683108 -0.42901188 -0.31556228 -0.14616591  0.05972204\n",
      "  0.20196731  0.24358195  0.16617489  0.06132684 -0.01605979 -0.03386313\n",
      " -0.00745531 -0.02900705  0.00649523  0.2096297   0.40148655  0.41220817\n",
      "  0.10181717 -0.23489706 -0.39839444 -0.49230573 -0.48544323 -0.48919332\n",
      " -0.50311828 -0.48898944 -0.4926855  -0.4900296  -0.48678988 -0.47546005\n",
      " -0.47497043 -0.41963902 -0.26274994 -0.10438605  0.0268513  -0.00309721\n",
      " -0.18467483 -0.2994248  -0.30372423 -0.33354318 -0.36061522 -0.37869787\n",
      " -0.25554213  0.09736     0.3671512   0.32891366 -0.02612397 -0.29288223\n",
      " -0.42807186 -0.50168824 -0.48730481 -0.48734543 -0.49233067 -0.50040388\n",
      " -0.49329433 -0.49420384 -0.49164322 -0.49492624 -0.50234503 -0.44489715\n",
      " -0.35953847 -0.21616918 -0.15666342 -0.22968271 -0.40430799 -0.45662326\n",
      " -0.44190341 -0.44061926 -0.47077218 -0.45728064 -0.22657265  0.18158869\n",
      "  0.36980823  0.20725645 -0.13621067 -0.37479722 -0.46843499 -0.49957788\n",
      " -0.48678419 -0.47666705 -0.49522176 -0.49517381 -0.49111161 -0.49106663\n",
      " -0.49435598 -0.50747591 -0.50553292 -0.46963477 -0.41706091 -0.31829673\n",
      " -0.28498539 -0.35955861 -0.48717451 -0.48101121 -0.44792271 -0.44171554\n",
      " -0.47705084 -0.40752539 -0.06911267  0.31557411  0.34699413  0.0662768\n",
      " -0.31300518 -0.43334568 -0.47079182 -0.51095098 -0.50008029 -0.4935624\n",
      " -0.49278197 -0.49795866 -0.48980165 -0.49083343 -0.48870108 -0.50224507\n",
      " -0.50486541 -0.49742648 -0.45982757 -0.40439919 -0.40094113 -0.44335881\n",
      " -0.4611429  -0.45610482 -0.44110721 -0.46685499 -0.49670893 -0.33310184\n",
      "  0.10139573  0.41001585  0.32252571 -0.14499067 -0.40755904 -0.46257836\n",
      " -0.46403962 -0.49051076 -0.50559056 -0.49561757 -0.49891254 -0.49035347\n",
      " -0.49801111 -0.48535785 -0.50008821 -0.50053406 -0.50307995 -0.52416897\n",
      " -0.51231897 -0.4966827  -0.4725     -0.49673    -0.47898883 -0.4846721\n",
      " -0.4966796  -0.49487475 -0.44212475 -0.14980324  0.31625059  0.47842598\n",
      "  0.18690267 -0.29189581 -0.47251755 -0.50615752 -0.49852946 -0.48906723\n",
      " -0.50001389 -0.51402491 -0.49854854 -0.50367302 -0.48519567 -0.50192255\n",
      " -0.49363273 -0.49589121 -0.5163734  -0.52904016 -0.53452528 -0.53061604\n",
      " -0.52970701 -0.50459492 -0.50042421 -0.51415062 -0.52469349 -0.52505887\n",
      " -0.35953668  0.06818116  0.44603997  0.40729725  0.02394736 -0.38113815\n",
      " -0.50601709 -0.49746168 -0.49215707 -0.49782863 -0.49184245 -0.49730629\n",
      " -0.50021511 -0.49830964 -0.49510202 -0.49579328 -0.50172919 -0.50025064\n",
      " -0.50399083 -0.50660831 -0.50819218 -0.50905097 -0.47823662 -0.4709456\n",
      " -0.48730817 -0.51265562 -0.52184361 -0.48197556 -0.1701825   0.28438365\n",
      "  0.49313807  0.27202669 -0.20378052 -0.46737751 -0.50414753 -0.48156592\n",
      " -0.49318135 -0.50805366 -0.50272161 -0.50668389 -0.49345088 -0.48537308\n",
      " -0.49993172 -0.49249342 -0.4975763  -0.50275296 -0.51720577 -0.50481349\n",
      " -0.50060993 -0.47024125 -0.4458172  -0.44066939 -0.46264541 -0.48850653\n",
      " -0.46431121 -0.32512477  0.11575419  0.46416706  0.43400329  0.00958966\n",
      " -0.37363538 -0.50882572 -0.47942686 -0.46595505 -0.49090442 -0.50620288\n",
      " -0.51449215 -0.49701115 -0.50075305 -0.50034893 -0.49407887 -0.49138522\n",
      " -0.49128103 -0.4960711  -0.50181764 -0.50206441 -0.50196624 -0.48318702\n",
      " -0.44687852 -0.44728047 -0.4755033  -0.49094236 -0.43339521 -0.05777341\n",
      "  0.41845655  0.53100711  0.17857094 -0.32444432 -0.50460708 -0.48914233\n",
      " -0.47337309 -0.47066814 -0.48427159 -0.47974464 -0.49384931 -0.49767971\n",
      " -0.47852683 -0.49923414 -0.49961385 -0.48349765 -0.49237493 -0.49906048\n",
      " -0.50907886 -0.52209896 -0.48458338 -0.47693375 -0.45813474 -0.47755304\n",
      " -0.49018794 -0.45230085 -0.23992035  0.30277622  0.57734621  0.40779567\n",
      " -0.15853766 -0.51898342 -0.52667761 -0.46952567 -0.44957405 -0.48324323\n",
      " -0.49497384 -0.48550713 -0.49195835 -0.49576589 -0.50668973 -0.48508814\n",
      " -0.49232471 -0.49463144 -0.50422966 -0.50833821 -0.49936759 -0.52659285\n",
      " -0.4864141  -0.48706782 -0.489869   -0.48761693 -0.47100875 -0.38174799\n",
      " -0.00123176  0.50158846  0.55358201  0.10941681 -0.44252071 -0.57503033\n",
      " -0.51255107 -0.44640937 -0.47577387 -0.49965885 -0.51640403 -0.50410151\n",
      " -0.49787647 -0.49528089 -0.48687333 -0.49136412 -0.48652932 -0.48638919\n",
      " -0.50359035 -0.49598873 -0.50788862 -0.52716357 -0.50208962 -0.48481354\n",
      " -0.48336679 -0.48312426 -0.45324609 -0.23571536  0.26590744  0.54854667\n",
      "  0.38608569 -0.20791489 -0.56614429 -0.5524109  -0.45024273 -0.4386476\n",
      " -0.4820658  -0.49086565 -0.52315307 -0.5113014  -0.50458628 -0.49441734\n",
      " -0.49751019 -0.49515665 -0.49198085 -0.49372891 -0.48947686 -0.49152848\n",
      " -0.50935346 -0.51375663 -0.49851087 -0.49206492 -0.47765291 -0.46077421\n",
      " -0.35211486 -0.01948828  0.37622106  0.50214034  0.14451154 -0.38966152\n",
      " -0.59194446 -0.48772448 -0.43069109 -0.45564154 -0.48464331 -0.48741612\n",
      " -0.50864488 -0.51454216 -0.51164126 -0.49099618 -0.47847658 -0.49572036\n",
      " -0.49325186 -0.49434873 -0.50083679 -0.49318483 -0.48801658 -0.50083077\n",
      " -0.49815997 -0.50723398 -0.46494442 -0.45581391 -0.26347089  0.09557328\n",
      "  0.39218843  0.39563003 -0.00875508 -0.41445997 -0.5389356  -0.49360666\n",
      " -0.4461267  -0.48270759 -0.50346142 -0.502334   -0.5012759  -0.49170414\n",
      " -0.49579194 -0.4915109  -0.48736125 -0.49231637 -0.49598119 -0.48749951\n",
      " -0.49715903 -0.49407598 -0.50341451 -0.49561039 -0.50070506 -0.51076931\n",
      " -0.46316946 -0.39770973 -0.16361731  0.16527499  0.36516979  0.23433752\n",
      " -0.14384446 -0.46800756 -0.55003905 -0.51205611 -0.49800697 -0.50088876\n",
      " -0.49657777 -0.49411148 -0.50696403 -0.49332306 -0.49608311 -0.4957248\n",
      " -0.49752566 -0.49398693 -0.49184349 -0.49848276 -0.48341995 -0.49625543\n",
      " -0.49761149 -0.49502802 -0.5055868  -0.50012636 -0.46690115 -0.38438183\n",
      " -0.24297471 -0.04075437  0.0593747  -0.09469777 -0.32946146 -0.48560405\n",
      " -0.5186162  -0.50674653 -0.49605414 -0.49131832 -0.48435006 -0.49523446\n",
      " -0.48972067 -0.49911109 -0.50116891 -0.4864037  -0.48410484 -0.49739289\n",
      " -0.49852926 -0.48793802 -0.49393633 -0.49357656 -0.49379823 -0.48141003\n",
      " -0.49042675 -0.48645189 -0.47791934 -0.48392531 -0.4634344  -0.42726654\n",
      " -0.44518882 -0.47113639 -0.49602246 -0.51067817 -0.50043815 -0.50218457\n",
      " -0.49300462 -0.4846049  -0.48833719 -0.49208641 -0.49707085 -0.49732903\n",
      " -0.4944084  -0.50110334 -0.49954194 -0.4968645 ]\n"
     ]
    }
   ],
   "source": [
    "print (x_test[0])\n",
    "print (decoded_imgs[0])"
   ]
  },
  {
   "cell_type": "code",
   "execution_count": 10,
   "metadata": {
    "collapsed": false
   },
   "outputs": [
    {
     "name": "stdout",
     "output_type": "stream",
     "text": [
      "[1.0, 1.0, 1.0, 1.0, 1.0, 1.0, 1.0, 1.0, 1.0, 1.0, 1.0, 1.0, 1.0, 1.0, 1.0, 1.0, 1.0, 1.0, 1.0, 1.0, 2.0, 2.0, 2.0, 2.0, 2.0, 2.0, 2.0, 2.0, 2.0, 2.0, 2.0, 2.0, 2.0, 2.0, 2.0, 3.0, 3.0, 3.0, 3.0, 3.0, 3.0, 3.0, 3.0, 3.0, 3.0, 3.0, 3.0, 3.0, 3.0, 3.0]\n"
     ]
    },
    {
     "data": {
      "image/png": "[encoded data removed]",
      "text/plain": [
       "<matplotlib.figure.Figure at 0x1f265d00a90>"
      ]
     },
     "metadata": {},
     "output_type": "display_data"
    }
   ],
   "source": [
    "#画点图示范代码\n",
    "%matplotlib inline\n",
    "x = np.random.rand(50,30)  \n",
    "label = list(np.ones(20))+list(2*np.ones(15))+list(3*np.ones(15))  \n",
    "print (label)\n",
    "label = np.array(label)  \n",
    "plt.scatter(x[:,1],x[:,0],15.0*label,15.0*label)  \n",
    "plt.colorbar()  \n",
    "plt.show() "
   ]
  },
  {
   "cell_type": "code",
   "execution_count": null,
   "metadata": {
    "collapsed": true
   },
   "outputs": [],
   "source": [
    "import numpy as np  \n",
    "np.random.seed(1337)  # for reproducibility  \n",
    "  \n",
    "from keras.datasets import mnist  \n",
    "from keras.models import Model #泛型模型  \n",
    "from keras.layers import Dense, Input  \n",
    "import matplotlib.pyplot as plt  \n",
    "  \n",
    "# X shape (60,000 28x28), y shape (10,000, )  \n",
    "(x_train, _), (x_test, y_test) = mnist.load_data()  \n",
    "  \n",
    "# 数据预处理  \n",
    "x_train = x_train.astype('float32') / 255. - 0.5       # minmax_normalized  \n",
    "x_test = x_test.astype('float32') / 255. - 0.5         # minmax_normalized  \n",
    "x_train = x_train.reshape((x_train.shape[0], -1))  \n",
    "x_test = x_test.reshape((x_test.shape[0], -1))  \n",
    "print(x_train.shape)  \n",
    "print(x_test.shape)  \n",
    "  \n",
    "# 压缩特征维度至2维  \n",
    "encoding_dim = 2  \n",
    "  \n",
    "# this is our input placeholder  \n",
    "input_img = Input(shape=(784,))  \n",
    "  \n",
    "# 编码层  \n",
    "encoded = Dense(128, activation='relu')(input_img)  \n",
    "encoded = Dense(64, activation='relu')(encoded)  \n",
    "encoded = Dense(10, activation='relu')(encoded)  \n",
    "encoder_output = Dense(encoding_dim)(encoded)  \n",
    " \n",
    "# 解码层  \n",
    "decoded = Dense(10, activation='relu')(encoder_output)  \n",
    "decoded = Dense(64, activation='relu')(decoded)  \n",
    "decoded = Dense(128, activation='relu')(decoded)  \n",
    "decoded = Dense(784, activation='tanh')(decoded)  \n",
    "  \n",
    "# 构建自编码模型  \n",
    "autoencoder = Model(inputs=input_img, outputs=decoded)  \n",
    "  \n",
    "# 构建编码模型  \n",
    "encoder = Model(inputs=input_img, outputs=encoder_output)  \n",
    "  \n",
    "# compile autoencoder  \n",
    "autoencoder.compile(optimizer='adam', loss='mse')  \n",
    "  \n",
    "# training  \n",
    "autoencoder.fit(x_train, x_train, epochs=20, batch_size=256, shuffle=True)  \n",
    "  \n",
    "# plotting  \n",
    "encoded_imgs = encoder.predict(x_test)  \n",
    "plt.scatter(encoded_imgs[:, 0], encoded_imgs[:, 1], c=y_test, s=10)  \n",
    "plt.colorbar()  \n",
    "plt.show()  \n"
   ]
  }
 ],
 "metadata": {
  "anaconda-cloud": {},
  "kernelspec": {
   "display_name": "Python [Root]",
   "language": "python",
   "name": "Python [Root]"
  },
  "language_info": {
   "codemirror_mode": {
    "name": "ipython",
    "version": 3
   },
   "file_extension": ".py",
   "mimetype": "text/x-python",
   "name": "python",
   "nbconvert_exporter": "python",
   "pygments_lexer": "ipython3",
   "version": "3.5.1"
  }
 },
 "nbformat": 4,
 "nbformat_minor": 0
}
