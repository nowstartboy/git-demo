{
 "cells": [
  {
   "cell_type": "code",
   "execution_count": 2,
   "metadata": {
    "collapsed": true
   },
   "outputs": [],
   "source": [
    "import tensorflow as tf\n",
    "import numpy as np"
   ]
  },
  {
   "cell_type": "markdown",
   "metadata": {},
   "source": [
    "# 分段讲解"
   ]
  },
  {
   "cell_type": "markdown",
   "metadata": {},
   "source": [
    "总的来看，这份代码主要由三步分组成。 \n",
    "\n",
    " 第一部分，是PTBModel,也是最核心的部分，负责tf中模型的构建和各种操作(op)的定义。\n",
    " \n",
    " 第二部分，是run_epoch函数，负责将所有文本内容分批喂给模型（PTBModel）训练。 \n",
    " \n",
    " 第三部分，就是main函数了，负责将第二部分的run_epoch运行多遍，也就是说，文本中的每个内容都会被重复多次的输入到模型中进行训练。随着训练的进行，会适当的进行一些参数的调整。 "
   ]
  },
  {
   "cell_type": "markdown",
   "metadata": {},
   "source": [
    "## 参数设置"
   ]
  },
  {
   "cell_type": "markdown",
   "metadata": {},
   "source": [
    "在构建模型和训练之前，我们首先需要设置一些参数。tf中可以使用tf.flags来进行全局的参数设置"
   ]
  },
  {
   "cell_type": "code",
   "execution_count": 3,
   "metadata": {
    "collapsed": false
   },
   "outputs": [],
   "source": [
    "flags = tf.flags\n",
    "logging = tf.logging    \n",
    "\n",
    "flags.DEFINE_string(    # 定义变量 model的值为small, 后面的是注释\n",
    "    \"model\", \"small\",\n",
    "    \"A type of model. Possible options are: small, medium, large.\")\n",
    "\n",
    "flags.DEFINE_string(\"data_path\",   #定义下载好的数据的存放位置\n",
    "                    'E:/machine_data/RNN1_LSTM1/simple-examples/data/', \n",
    "                    \"data_path\")\n",
    "flags.DEFINE_bool(\"use_fp16\", False,    # 是否使用 float16格式？\n",
    "                  \"Train using 16-bit floats instead of 32bit floats\")\n",
    "\n",
    "FLAGS = flags.FLAGS     # 可以使用FLAGS.model来调用变量 model的值。\n",
    "\n",
    "def data_type():\n",
    "    return tf.float16 if FLAGS.use_fp16 else tf.float32"
   ]
  },
  {
   "cell_type": "markdown",
   "metadata": {
    "collapsed": true
   },
   "source": [
    "细心的人可能会注意到上面有行代码定义了model的值为small.这个是什么意思呢？其实在后面的完整代码部分可以看到，作者在其中定义了几个参数类，分别有small,medium,large和test这4种参数。如果model的值为small，则会调用SmallConfig，其他同样。在SmallConfig中，有如下几个参数："
   ]
  },
  {
   "cell_type": "code",
   "execution_count": 3,
   "metadata": {
    "collapsed": true
   },
   "outputs": [],
   "source": [
    "init_scale = 0.1        # 相关参数的初始值为随机均匀分布，范围是[-init_scale,+init_scale]\n",
    "learning_rate = 1.0     # 学习速率,在文本循环次数超过max_epoch以后会逐渐降低\n",
    "max_grad_norm = 5       # 用于控制梯度膨胀，如果梯度向量的L2模超过max_grad_norm，则等比例缩小\n",
    "num_layers = 2          # lstm层数\n",
    "num_steps = 20          # 单个数据中，序列的长度。\n",
    "hidden_size = 200       # 隐藏层中单元数目\n",
    "max_epoch = 4           # epoch<max_epoch时，lr_decay值=1,epoch>max_epoch时,lr_decay逐渐减小\n",
    "max_max_epoch = 13      # 指的是整个文本循环次数。\n",
    "keep_prob = 1.0         # 用于dropout.每批数据输入时神经网络中的每个单元会以1-keep_prob的概率不工作，可以防止过拟合\n",
    "lr_decay = 0.5          # 学习速率衰减\n",
    "batch_size = 20         # 每批数据的规模，每批有20个。\n",
    "vocab_size = 10000      # 词典规模，总共10K个词"
   ]
  },
  {
   "cell_type": "markdown",
   "metadata": {},
   "source": [
    "### PTBModel"
   ]
  },
  {
   "cell_type": "markdown",
   "metadata": {},
   "source": [
    "这个可以说是核心部分了。而具体来说，又可以分成几个小部分：多层LSTM结构的构建，输入预处理，LSTM的循环，损失函数计算，梯度计算和修剪"
   ]
  },
  {
   "cell_type": "code",
   "execution_count": 3,
   "metadata": {
    "collapsed": false,
    "scrolled": true
   },
   "outputs": [
    {
     "ename": "NameError",
     "evalue": "name 'config' is not defined",
     "output_type": "error",
     "traceback": [
      "\u001b[1;31m---------------------------------------------------------------------------\u001b[0m",
      "\u001b[1;31mNameError\u001b[0m                                 Traceback (most recent call last)",
      "\u001b[1;32m<ipython-input-3-92bac7147f9c>\u001b[0m in \u001b[0;36m<module>\u001b[1;34m()\u001b[0m\n\u001b[0;32m      1\u001b[0m \u001b[1;31m#LSTM结构\u001b[0m\u001b[1;33m\u001b[0m\u001b[1;33m\u001b[0m\u001b[0m\n\u001b[1;32m----> 2\u001b[1;33m \u001b[0mself\u001b[0m\u001b[1;33m.\u001b[0m\u001b[0mbatch_size\u001b[0m \u001b[1;33m=\u001b[0m \u001b[0mbatch_size\u001b[0m \u001b[1;33m=\u001b[0m \u001b[0mconfig\u001b[0m\u001b[1;33m.\u001b[0m\u001b[0mbatch_size\u001b[0m\u001b[1;33m\u001b[0m\u001b[0m\n\u001b[0m\u001b[0;32m      3\u001b[0m \u001b[0mself\u001b[0m\u001b[1;33m.\u001b[0m\u001b[0mnum_steps\u001b[0m \u001b[1;33m=\u001b[0m \u001b[0mnum_steps\u001b[0m \u001b[1;33m=\u001b[0m \u001b[0mconfig\u001b[0m\u001b[1;33m.\u001b[0m\u001b[0mnum_steps\u001b[0m\u001b[1;33m\u001b[0m\u001b[0m\n\u001b[0;32m      4\u001b[0m \u001b[0msize\u001b[0m \u001b[1;33m=\u001b[0m \u001b[0mconfig\u001b[0m\u001b[1;33m.\u001b[0m\u001b[0mhidden_size\u001b[0m       \u001b[1;31m# 隐藏层规模\u001b[0m\u001b[1;33m\u001b[0m\u001b[0m\n\u001b[0;32m      5\u001b[0m \u001b[0mvocab_size\u001b[0m \u001b[1;33m=\u001b[0m \u001b[0mconfig\u001b[0m\u001b[1;33m.\u001b[0m\u001b[0mvocab_size\u001b[0m  \u001b[1;31m# 词典规模\u001b[0m\u001b[1;33m\u001b[0m\u001b[0m\n",
      "\u001b[1;31mNameError\u001b[0m: name 'config' is not defined"
     ]
    }
   ],
   "source": [
    "#LSTM结构\n",
    "self.batch_size = batch_size = config.batch_size\n",
    "self.num_steps = num_steps = config.num_steps\n",
    "size = config.hidden_size       # 隐藏层规模\n",
    "vocab_size = config.vocab_size  # 词典规模\n",
    "\n",
    "self._input_data = tf.placeholder(tf.int32, [batch_size, num_steps])    # 输入\n",
    "self._targets = tf.placeholder(tf.int32, [batch_size, num_steps])       # 预期输出，两者都是index序列，长度为num_steps"
   ]
  },
  {
   "cell_type": "code",
   "execution_count": null,
   "metadata": {
    "collapsed": false
   },
   "outputs": [
    {
     "name": "stdout",
     "output_type": "stream",
     "text": [
      "E:/machine_data/RNN1_LSTM1/simple-examples/data/\n",
      "WARNING:tensorflow:From <ipython-input-4-946e5928f55f>:291: initialize_all_variables (from tensorflow.python.ops.variables) is deprecated and will be removed after 2017-03-02.\n",
      "Instructions for updating:\n",
      "Use `tf.global_variables_initializer` instead.\n",
      "Epoch: 1 Learning rate: 1.000\n",
      "0.004 perplexity: 7862.781 speed: 1551 wps\n",
      "0.104 perplexity: 854.853 speed: 1775 wps\n"
     ]
    }
   ],
   "source": [
    "from __future__ import absolute_import\n",
    "from __future__ import division\n",
    "from __future__ import print_function\n",
    "\n",
    "import time\n",
    "\n",
    "import numpy as np\n",
    "import tensorflow as tf\n",
    "\n",
    "#from tensorflow.models.rnn.ptb import reader\n",
    "import reader\n",
    "\n",
    "\n",
    "\n",
    "\n",
    "\n",
    "\n",
    "class PTBModel(object):\n",
    "    \"\"\"The PTB model.\"\"\"\n",
    "\n",
    "    def __init__(self, is_training, config):\n",
    "        \"\"\"\n",
    "        :param is_training: 是否要进行训练.如果is_training=False,则不会进行参数的修正。\n",
    "        \"\"\"\n",
    "        self.batch_size = batch_size = config.batch_size\n",
    "        self.num_steps = num_steps = config.num_steps\n",
    "        size = config.hidden_size\n",
    "        vocab_size = config.vocab_size\n",
    "\n",
    "        self._input_data = tf.placeholder(tf.int32, [batch_size, num_steps])    # 输入\n",
    "        self._targets = tf.placeholder(tf.int32, [batch_size, num_steps])       # 预期输出，两者都是index序列，长度为num_step\n",
    "\n",
    "        # Slightly better results can be obtained with forget gate biases\n",
    "        # initialized to 1 but the hyperparameters of the model would need to be\n",
    "        # different than reported in the paper.\n",
    "        def lstm_cell():\n",
    "            return tf.contrib.rnn.BasicLSTMCell(size, forget_bias=0.0, state_is_tuple=True,reuse=tf.get_variable_scope().reuse)\n",
    "        attn_cell = lstm_cell\n",
    "        if is_training and config.keep_prob < 1:\n",
    "            def attn_cell():\n",
    "                return tf.contrib.rnn.DropoutWrapper(lstm_cell(), output_keep_prob=config.keep_prob)\n",
    "        \n",
    "#         def lstm_cell():\n",
    "#             return tf.contrib.rnn.BasicLSTMCell(size, forget_bias=0.0, state_is_tuple=True)\n",
    "#         attn_cell=lstm_cell\n",
    "#         if is_training and config.keep_prob < 1: # 在外面包裹一层dropout\n",
    "#             def attn_cell():\n",
    "#                 return tf.contrib.rnn.DropoutWrapper(lstm_cell(), output_keep_prob=config.keep_prob)\n",
    "        \n",
    "           \n",
    "        cell = tf.contrib.rnn.MultiRNNCell([attn_cell() for _ in range(config.num_layers)], state_is_tuple=True) # 多层lstm cell 堆叠起来\n",
    "\n",
    "        self._initial_state = cell.zero_state(batch_size, data_type()) # 参数初始化,rnn_cell.RNNCell.zero_state\n",
    "\n",
    "        with tf.device(\"/cpu:0\"):\n",
    "            embedding = tf.get_variable(\n",
    "                \"embedding\", [vocab_size, size], dtype=data_type()) # vocab size * hidden size, 将单词转成embedding描述\n",
    "            # 将输入seq用embedding表示, shape=[batch, steps, hidden_size]\n",
    "            inputs = tf.nn.embedding_lookup(embedding, self._input_data)\n",
    "\n",
    "        if is_training and config.keep_prob < 1:\n",
    "            inputs = tf.nn.dropout(inputs, config.keep_prob)\n",
    "\n",
    "        # Simplified version of tensorflow.models.rnn.rnn.py's rnn().\n",
    "        # This builds an unrolled LSTM for tutorial purposes only.\n",
    "        # In general, use the rnn() or state_saving_rnn() from rnn.py.\n",
    "        #\n",
    "        # The alternative version of the code below is:\n",
    "        #\n",
    "        # inputs = [tf.squeeze(input_, [1])\n",
    "        #           for input_ in tf.split(1, num_steps, inputs)]\n",
    "        # outputs, state = tf.nn.rnn(cell, inputs, initial_state=self._initial_state)\n",
    "        outputs = []\n",
    "        state = self._initial_state # state 表示 各个batch中的状态\n",
    "        with tf.variable_scope(\"RNN\"):\n",
    "            for time_step in range(num_steps):\n",
    "                if time_step > 0: \n",
    "                    tf.get_variable_scope().reuse_variables()\n",
    "                # cell_out: [batch, hidden_size]\n",
    "                #(cell_output, state) = tf.nn.dynamic_rnn(cell, inputs[:, time_step, :], time_major=False, scope='rnn')\n",
    "                (cell_output, state) = cell(inputs[:, time_step, :], state)\n",
    "                outputs.append(cell_output)  # output: shape[num_steps][batch,hidden_size]\n",
    "\n",
    "        # 把之前的list展开，成[batch, hidden_size*num_steps],然后 reshape, 成[batch*numsteps, hidden_size]\n",
    "        output = tf.reshape(tf.concat(outputs, 1), [-1, size])\n",
    "\n",
    "        # softmax_w , shape=[hidden_size, vocab_size], 用于将distributed表示的单词转化为one-hot表示\n",
    "        softmax_w = tf.get_variable(\n",
    "            \"softmax_w\", [size, vocab_size], dtype=data_type())\n",
    "        softmax_b = tf.get_variable(\"softmax_b\", [vocab_size], dtype=data_type())\n",
    "        # [batch*numsteps, vocab_size] 从隐藏语义转化成完全表示\n",
    "        logits = tf.matmul(output, softmax_w) + softmax_b\n",
    "\n",
    "        # loss , shape=[batch*num_steps]\n",
    "        # 带权重的交叉熵计算\n",
    "        loss = tf.contrib.legacy_seq2seq.sequence_loss_by_example(\n",
    "            [logits],   # output [batch*numsteps, vocab_size]\n",
    "            [tf.reshape(self._targets, [-1])],  # target, [batch_size, num_steps] 然后展开成一维【列表】\n",
    "            [tf.ones([batch_size * num_steps], dtype=data_type())]) # weight\n",
    "        self._cost = cost = tf.reduce_sum(loss) / batch_size # 计算得到平均每批batch的误差\n",
    "        self._final_state = state\n",
    "\n",
    "        if not is_training:  # 如果没有训练，则不需要更新state的值。\n",
    "            return\n",
    "\n",
    "        self._lr = tf.Variable(0.0, trainable=False)\n",
    "        tvars = tf.trainable_variables()\n",
    "        # clip_by_global_norm: 梯度衰减，具体算法为t_list[i] * clip_norm / max(global_norm, clip_norm)\n",
    "        # 这里gradients求导，ys和xs都是张量\n",
    "        # 返回一个长为len(xs)的张量，其中的每个元素都是\\grad{\\frac{dy}{dx}}\n",
    "        # clip_by_global_norm 用于控制梯度膨胀,前两个参数t_list, global_norm, 则\n",
    "        # t_list[i] * clip_norm / max(global_norm, clip_norm)\n",
    "        # 其中 global_norm = sqrt(sum([l2norm(t)**2 for t in t_list]))\n",
    "        grads, _ = tf.clip_by_global_norm(tf.gradients(cost, tvars),\n",
    "                                          config.max_grad_norm)\n",
    "\n",
    "        # 梯度下降优化，指定学习速率\n",
    "        optimizer = tf.train.GradientDescentOptimizer(self._lr)\n",
    "        # optimizer = tf.train.AdamOptimizer()\n",
    "        # optimizer = tf.train.GradientDescentOptimizer(0.5)\n",
    "        self._train_op = optimizer.apply_gradients(zip(grads, tvars))  # 将梯度应用于变量\n",
    "\n",
    "        self._new_lr = tf.placeholder(\n",
    "            tf.float32, shape=[], name=\"new_learning_rate\")     #   用于外部向graph输入新的 lr值\n",
    "        self._lr_update = tf.assign(self._lr, self._new_lr)     #   使用new_lr来更新lr的值\n",
    "\n",
    "    def assign_lr(self, session, lr_value):\n",
    "        # 使用 session 来调用 lr_update 操作\n",
    "        session.run(self._lr_update, feed_dict={self._new_lr: lr_value})\n",
    "\n",
    "    @property\n",
    "    def input_data(self):\n",
    "        return self._input_data\n",
    "\n",
    "    @property\n",
    "    def targets(self):\n",
    "        return self._targets\n",
    "\n",
    "    @property\n",
    "    def initial_state(self):\n",
    "        return self._initial_state\n",
    "\n",
    "    @property\n",
    "    def cost(self):\n",
    "        return self._cost\n",
    "\n",
    "    @property\n",
    "    def final_state(self):\n",
    "        return self._final_state\n",
    "\n",
    "    @property\n",
    "    def lr(self):\n",
    "        return self._lr\n",
    "\n",
    "    @property\n",
    "    def train_op(self):\n",
    "        return self._train_op\n",
    "\n",
    "\n",
    "class SmallConfig(object):\n",
    "    \"\"\"Small config.\"\"\"\n",
    "    init_scale = 0.1        #\n",
    "    learning_rate = 1.0     # 学习速率\n",
    "    max_grad_norm = 5       # 用于控制梯度膨胀，\n",
    "    num_layers = 2          # lstm层数\n",
    "    num_steps = 20          # 单个数据中，序列的长度。\n",
    "    hidden_size = 200       # 隐藏层规模\n",
    "    max_epoch = 4           # epoch<max_epoch时，lr_decay值=1,epoch>max_epoch时,lr_decay逐渐减小\n",
    "    max_max_epoch = 13      # 指的是整个文本循环13遍。\n",
    "    keep_prob = 1.0\n",
    "    lr_decay = 0.5          # 学习速率衰减\n",
    "    batch_size = 20         # 每批数据的规模，每批有20个。\n",
    "    vocab_size = 10000      # 词典规模，总共10K个词\n",
    "\n",
    "\n",
    "class MediumConfig(object):\n",
    "    \"\"\"Medium config.\"\"\"\n",
    "    init_scale = 0.05\n",
    "    learning_rate = 1.0\n",
    "    max_grad_norm = 5\n",
    "    num_layers = 2\n",
    "    num_steps = 35\n",
    "    hidden_size = 650\n",
    "    max_epoch = 6\n",
    "    max_max_epoch = 39\n",
    "    keep_prob = 0.5\n",
    "    lr_decay = 0.8\n",
    "    batch_size = 20\n",
    "    vocab_size = 10000\n",
    "\n",
    "\n",
    "class LargeConfig(object):\n",
    "    \"\"\"Large config.\"\"\"\n",
    "    init_scale = 0.04\n",
    "    learning_rate = 1.0\n",
    "    max_grad_norm = 10\n",
    "    num_layers = 2\n",
    "    num_steps = 35\n",
    "    hidden_size = 1500\n",
    "    max_epoch = 14\n",
    "    max_max_epoch = 55\n",
    "    keep_prob = 0.35\n",
    "    lr_decay = 1 / 1.15\n",
    "    batch_size = 20\n",
    "    vocab_size = 10000\n",
    "\n",
    "\n",
    "class TestConfig(object):\n",
    "    \"\"\"Tiny config, for testing.\"\"\"\n",
    "    init_scale = 0.1\n",
    "    learning_rate = 1.0\n",
    "    max_grad_norm = 1\n",
    "    num_layers = 1\n",
    "    num_steps = 2\n",
    "    hidden_size = 2\n",
    "    max_epoch = 1\n",
    "    max_max_epoch = 1\n",
    "    keep_prob = 1.0\n",
    "    lr_decay = 0.5\n",
    "    batch_size = 20\n",
    "    vocab_size = 10000\n",
    "\n",
    "\n",
    "def run_epoch(session, model, data, eval_op, verbose=False):\n",
    "    \"\"\"Runs the model on the given data.\"\"\"\n",
    "    # epoch_size 表示批次总数。也就是说，需要向session喂这么多次数据\n",
    "    epoch_size = ((len(data) // model.batch_size) - 1) // model.num_steps  # // 表示整数除法\n",
    "    start_time = time.time()\n",
    "    costs = 0.0\n",
    "    iters = 0\n",
    "    state = session.run(model.initial_state)\n",
    "    for step, (x, y) in enumerate(reader.ptb_iterator(data, model.batch_size,\n",
    "                                                      model.num_steps)):\n",
    "        fetches = [model.cost, model.final_state, eval_op] # 要进行的操作，注意训练时和其他时候eval_op的区别\n",
    "        feed_dict = {}      # 设定input和target的值\n",
    "        feed_dict[model.input_data] = x\n",
    "        feed_dict[model.targets] = y\n",
    "        for i, (c, h) in enumerate(model.initial_state):\n",
    "            feed_dict[c] = state[i].c   # 这部分有什么用？看不懂\n",
    "            feed_dict[h] = state[i].h\n",
    "        cost, state, _ = session.run(fetches, feed_dict) # 运行session,获得cost和state\n",
    "        costs += cost   # 将 cost 累积\n",
    "        iters += model.num_steps\n",
    "\n",
    "        if verbose and step % (epoch_size // 10) == 10:  # 也就是每个epoch要输出10个perplexity值\n",
    "            print(\"%.3f perplexity: %.3f speed: %.0f wps\" %\n",
    "                  (step * 1.0 / epoch_size, np.exp(costs / iters),\n",
    "                   iters * model.batch_size / (time.time() - start_time)))\n",
    "\n",
    "    return np.exp(costs / iters)\n",
    "\n",
    "\n",
    "def get_config():\n",
    "    if FLAGS.model == \"small\":\n",
    "        return SmallConfig()\n",
    "    elif FLAGS.model == \"medium\":\n",
    "        return MediumConfig()\n",
    "    elif FLAGS.model == \"large\":\n",
    "        return LargeConfig()\n",
    "    elif FLAGS.model == \"test\":\n",
    "        return TestConfig()\n",
    "    else:\n",
    "        raise ValueError(\"Invalid model: %s\", FLAGS.model)\n",
    "\n",
    "\n",
    "# def main(_):\n",
    "if __name__=='__main__':\n",
    "    if not FLAGS.data_path:\n",
    "        raise ValueError(\"Must set --data_path to PTB data directory\")\n",
    "    print(FLAGS.data_path)\n",
    "\n",
    "    raw_data = reader.ptb_raw_data(FLAGS.data_path) # 获取原始数据\n",
    "    train_data, valid_data, test_data, _ = raw_data\n",
    "\n",
    "    config = get_config()\n",
    "    eval_config = get_config()\n",
    "    eval_config.batch_size = 1\n",
    "    eval_config.num_steps = 1\n",
    "\n",
    "    with tf.Graph().as_default(), tf.Session() as session:\n",
    "        initializer = tf.random_uniform_initializer(-config.init_scale, # 定义如何对参数变量初始化\n",
    "                                                    config.init_scale)\n",
    "        with tf.variable_scope(\"model\", reuse=None,initializer=initializer):\n",
    "            m = PTBModel(is_training=True, config=config)   # 训练模型， is_trainable=True\n",
    "        with tf.variable_scope(\"model\", reuse=True,initializer=initializer):\n",
    "            mvalid = PTBModel(is_training=False, config=config) #  交叉检验和测试模型，is_trainable=False\n",
    "            mtest = PTBModel(is_training=False, config=eval_config)\n",
    "\n",
    "        summary_writer = tf.summary.FileWriter('/tmp/lstm_logs',session.graph)\n",
    "\n",
    "        tf.initialize_all_variables().run()  # 对参数变量初始化\n",
    "\n",
    "        for i in range(config.max_max_epoch):   # 所有文本要重复多次进入模型训练\n",
    "            # learning rate 衰减\n",
    "            # 在 遍数小于max epoch时， lr_decay = 1 ; > max_epoch时， lr_decay = 0.5^(i-max_epoch)\n",
    "            lr_decay = config.lr_decay ** max(i - config.max_epoch, 0.0)\n",
    "            m.assign_lr(session, config.learning_rate * lr_decay) # 设置learning rate\n",
    "\n",
    "            print(\"Epoch: %d Learning rate: %.3f\" % (i + 1, session.run(m.lr)))\n",
    "            train_perplexity = run_epoch(session, m, train_data, m.train_op,verbose=True) # 训练困惑度\n",
    "            print(\"Epoch: %d Train Perplexity: %.3f\" % (i + 1, train_perplexity))\n",
    "            valid_perplexity = run_epoch(session, mvalid, valid_data, tf.no_op()) # 检验困惑度\n",
    "            print(\"Epoch: %d Valid Perplexity: %.3f\" % (i + 1, valid_perplexity))\n",
    "\n",
    "        test_perplexity = run_epoch(session, mtest, test_data, tf.no_op())  # 测试困惑度\n",
    "        print(\"Test Perplexity: %.3f\" % test_perplexity)\n",
    "\n",
    "\n",
    "# if __name__ == \"__main__\":\n",
    "#     tf.app.run()\n"
   ]
  },
  {
   "cell_type": "code",
   "execution_count": 3,
   "metadata": {
    "collapsed": false
   },
   "outputs": [
    {
     "data": {
      "text/plain": [
       "'1.1.0'"
      ]
     },
     "execution_count": 3,
     "metadata": {},
     "output_type": "execute_result"
    }
   ],
   "source": [
    "import tensorflow as tf\n",
    "tf.__version__"
   ]
  },
  {
   "cell_type": "code",
   "execution_count": 4,
   "metadata": {
    "collapsed": true
   },
   "outputs": [],
   "source": [
    "from tensorflow.contrib import rnn "
   ]
  },
  {
   "cell_type": "code",
   "execution_count": 6,
   "metadata": {
    "collapsed": false
   },
   "outputs": [],
   "source": [
    "lstm_cell = rnn.BasicLSTMCell(100) "
   ]
  },
  {
   "cell_type": "code",
   "execution_count": null,
   "metadata": {
    "collapsed": true
   },
   "outputs": [],
   "source": [
    "[2 for _ in range]"
   ]
  }
 ],
 "metadata": {
  "anaconda-cloud": {},
  "kernelspec": {
   "display_name": "Python [Root]",
   "language": "python",
   "name": "Python [Root]"
  },
  "language_info": {
   "codemirror_mode": {
    "name": "ipython",
    "version": 3
   },
   "file_extension": ".py",
   "mimetype": "text/x-python",
   "name": "python",
   "nbconvert_exporter": "python",
   "pygments_lexer": "ipython3",
   "version": "3.5.1"
  }
 },
 "nbformat": 4,
 "nbformat_minor": 0
}
