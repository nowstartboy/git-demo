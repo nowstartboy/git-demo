{
 "cells": [
  {
   "cell_type": "code",
   "execution_count": 1,
   "metadata": {
    "collapsed": false
   },
   "outputs": [
    {
     "name": "stderr",
     "output_type": "stream",
     "text": [
      "Using TensorFlow backend.\n",
      "D:\\anaconda1\\lib\\site-packages\\sklearn\\cross_validation.py:44: DeprecationWarning: This module was deprecated in version 0.18 in favor of the model_selection module into which all the refactored classes and functions are moved. Also note that the interface of the new CV iterators are different from that of this module. This module will be removed in 0.20.\n",
      "  \"This module will be removed in 0.20.\", DeprecationWarning)\n",
      "D:\\anaconda1\\lib\\site-packages\\sklearn\\grid_search.py:43: DeprecationWarning: This module was deprecated in version 0.18 in favor of the model_selection module into which all the refactored classes and functions are moved. This module will be removed in 0.20.\n",
      "  DeprecationWarning)\n"
     ]
    }
   ],
   "source": [
    "import numpy as np \n",
    "from keras.datasets import mnist\n",
    "from keras.models import Sequential\n",
    "from keras.layers import Dense, Dropout, Activation, Flatten\n",
    "from keras.layers import Convolution2D, MaxPooling2D\n",
    "from keras.utils import np_utils\n",
    "# sklean接口的包装器KerasClassifier，作为sklearn的分类器接口\n",
    "from keras.wrappers.scikit_learn import KerasClassifier\n",
    "# 穷搜所有特定的参数值选出最好的模型参数\n",
    "from sklearn.grid_search import GridSearchCV"
   ]
  },
  {
   "cell_type": "code",
   "execution_count": 2,
   "metadata": {
    "collapsed": true
   },
   "outputs": [],
   "source": [
    "# 类别的数目\n",
    "nb_classes = 10\n",
    "# 输入图像的维度\n",
    "img_rows, img_cols = 28, 28\n",
    "# 读取数据\n",
    "(X_train, y_train), (X_test, y_test) = mnist.load_data()\n",
    "# 读取的数据不包含通道维，因此shape为(60000,28,28)\n",
    "# 为了保持和后端tensorflow的数据格式一致，将数据补上通道维\n",
    "X_train = X_train.reshape(X_train.shape[0], img_rows, img_cols, 1)\n",
    "X_test = X_test.reshape(X_test.shape[0], img_rows, img_cols, 1)\n",
    "# 新的数据shape为 (60000,28,28,1)， 1代表通道是1，也就是灰阶图片\n",
    "# 指明输入数据的大小，便于后面搭建网络的第一层传入该参数\n",
    "input_shape = (img_rows, img_cols, 1)\n",
    "# 数据类型改为float32，单精度浮点数\n",
    "X_train = X_train.astype('float32')\n",
    "X_test = X_test.astype('float32')\n",
    "# 数据归一化（图像数据常用）\n",
    "X_train /= 255\n",
    "X_test /= 255\n",
    "# 将类别标签转换为one-hot编码\n",
    "y_train = np_utils.to_categorical(y_train, nb_classes)\n",
    "y_test = np_utils.to_categorical(y_test, nb_classes)"
   ]
  },
  {
   "cell_type": "code",
   "execution_count": 3,
   "metadata": {
    "collapsed": true
   },
   "outputs": [],
   "source": [
    "# 定义配置卷积网络模型的函数\n",
    "def make_model(dense_layer_sizes, nb_filters, nb_conv, nb_pool):\n",
    "    model = Sequential()\n",
    "    model.add(Convolution2D(nb_filters, nb_conv, nb_conv,\n",
    "                            border_mode='valid',\n",
    "                            input_shape=input_shape))\n",
    "    model.add(Activation('relu'))\n",
    "    model.add(Convolution2D(nb_filters, nb_conv, nb_conv))\n",
    "    model.add(Activation('relu'))\n",
    "    model.add(MaxPooling2D(pool_size=(nb_pool, nb_pool)))\n",
    "    model.add(Dropout(0.25))\n",
    "    \n",
    "    model.add(Flatten())\n",
    "    for layer_size in dense_layer_sizes:\n",
    "        model.add(Dense(layer_size))\n",
    "    model.add(Activation('relu'))\n",
    "    model.add(Dropout(0.5))\n",
    "    model.add(Dense(nb_classes))\n",
    "    model.add(Activation('softmax'))\n",
    "    \n",
    "    model.compile(loss='categorical_crossentropy',\n",
    "                  optimizer='adadelta',\n",
    "                  metrics=['accuracy'])\n",
    "    return model "
   ]
  },
  {
   "cell_type": "code",
   "execution_count": 4,
   "metadata": {
    "collapsed": false
   },
   "outputs": [
    {
     "name": "stdout",
     "output_type": "stream",
     "text": [
      "Epoch 1/3\n",
      "40000/40000 [==============================] - 19s - loss: 0.8695 - acc: 0.7072    \n",
      "Epoch 2/3\n",
      "40000/40000 [==============================] - 20s - loss: 0.5314 - acc: 0.8258    \n",
      "Epoch 3/3\n",
      "40000/40000 [==============================] - 19s - loss: 0.4358 - acc: 0.8603    \n",
      "  928/20000 [>.............................] - ETA: 4s"
     ]
    },
    {
     "name": "stderr",
     "output_type": "stream",
     "text": [
      "D:\\anaconda1\\lib\\site-packages\\sklearn\\metrics\\scorer.py:127: DeprecationWarning: Scoring method log_loss was renamed to neg_log_loss in version 0.18 and will be removed in 0.20.\n",
      "  sample_weight=sample_weight)\n"
     ]
    },
    {
     "name": "stdout",
     "output_type": "stream",
     "text": [
      "20000/20000 [==============================] - 3s     \n",
      "Epoch 1/3\n",
      "40000/40000 [==============================] - 20s - loss: 0.7154 - acc: 0.7692    \n",
      "Epoch 2/3\n",
      "40000/40000 [==============================] - 20s - loss: 0.4404 - acc: 0.8626    \n",
      "Epoch 3/3\n",
      "40000/40000 [==============================] - 20s - loss: 0.3728 - acc: 0.8848    \n",
      "  864/20000 [>.............................] - ETA: 4s"
     ]
    },
    {
     "name": "stderr",
     "output_type": "stream",
     "text": [
      "D:\\anaconda1\\lib\\site-packages\\sklearn\\metrics\\scorer.py:127: DeprecationWarning: Scoring method log_loss was renamed to neg_log_loss in version 0.18 and will be removed in 0.20.\n",
      "  sample_weight=sample_weight)\n"
     ]
    },
    {
     "name": "stdout",
     "output_type": "stream",
     "text": [
      "20000/20000 [==============================] - 3s     \n",
      "Epoch 1/3\n",
      "40000/40000 [==============================] - 19s - loss: 0.8714 - acc: 0.7119    \n",
      "Epoch 2/3\n",
      "40000/40000 [==============================] - 19s - loss: 0.5244 - acc: 0.8347    \n",
      "Epoch 3/3\n",
      "40000/40000 [==============================] - 19s - loss: 0.4492 - acc: 0.8606    \n",
      "  800/20000 [>.............................] - ETA: 4s"
     ]
    },
    {
     "name": "stderr",
     "output_type": "stream",
     "text": [
      "D:\\anaconda1\\lib\\site-packages\\sklearn\\metrics\\scorer.py:127: DeprecationWarning: Scoring method log_loss was renamed to neg_log_loss in version 0.18 and will be removed in 0.20.\n",
      "  sample_weight=sample_weight)\n"
     ]
    },
    {
     "name": "stdout",
     "output_type": "stream",
     "text": [
      "19968/20000 [============================>.] - ETA: 0sEpoch 1/6\n",
      "40000/40000 [==============================] - 20s - loss: 0.8384 - acc: 0.7208    \n",
      "Epoch 2/6\n",
      "40000/40000 [==============================] - 20s - loss: 0.5314 - acc: 0.8299    \n",
      "Epoch 3/6\n",
      "40000/40000 [==============================] - 20s - loss: 0.4447 - acc: 0.8575    \n",
      "Epoch 4/6\n",
      "40000/40000 [==============================] - 19s - loss: 0.3940 - acc: 0.8765    \n",
      "Epoch 5/6\n",
      "40000/40000 [==============================] - 19s - loss: 0.3508 - acc: 0.8894    \n",
      "Epoch 6/6\n",
      "40000/40000 [==============================] - 19s - loss: 0.3189 - acc: 0.9009    \n",
      "  800/20000 [>.............................] - ETA: 4s"
     ]
    },
    {
     "name": "stderr",
     "output_type": "stream",
     "text": [
      "D:\\anaconda1\\lib\\site-packages\\sklearn\\metrics\\scorer.py:127: DeprecationWarning: Scoring method log_loss was renamed to neg_log_loss in version 0.18 and will be removed in 0.20.\n",
      "  sample_weight=sample_weight)\n"
     ]
    },
    {
     "name": "stdout",
     "output_type": "stream",
     "text": [
      "20000/20000 [==============================] - 4s     \n",
      "Epoch 1/6\n",
      "40000/40000 [==============================] - 20s - loss: 0.8284 - acc: 0.7264    \n",
      "Epoch 2/6\n",
      "40000/40000 [==============================] - 19s - loss: 0.5182 - acc: 0.8339    \n",
      "Epoch 3/6\n",
      "40000/40000 [==============================] - 20s - loss: 0.4423 - acc: 0.8611    \n",
      "Epoch 4/6\n",
      "40000/40000 [==============================] - 20s - loss: 0.3923 - acc: 0.8736    \n",
      "Epoch 5/6\n",
      "40000/40000 [==============================] - 19s - loss: 0.3632 - acc: 0.8860    \n",
      "Epoch 6/6\n",
      "40000/40000 [==============================] - 20s - loss: 0.3390 - acc: 0.8931    \n",
      "  608/20000 [..............................] - ETA: 6s"
     ]
    },
    {
     "name": "stderr",
     "output_type": "stream",
     "text": [
      "D:\\anaconda1\\lib\\site-packages\\sklearn\\metrics\\scorer.py:127: DeprecationWarning: Scoring method log_loss was renamed to neg_log_loss in version 0.18 and will be removed in 0.20.\n",
      "  sample_weight=sample_weight)\n"
     ]
    },
    {
     "name": "stdout",
     "output_type": "stream",
     "text": [
      "20000/20000 [==============================] - 3s     \n",
      "Epoch 1/6\n",
      "40000/40000 [==============================] - 20s - loss: 0.7882 - acc: 0.7429    \n",
      "Epoch 2/6\n",
      "40000/40000 [==============================] - 18s - loss: 0.4669 - acc: 0.8551    \n",
      "Epoch 3/6\n",
      "40000/40000 [==============================] - 19s - loss: 0.3944 - acc: 0.8776    \n",
      "Epoch 4/6\n",
      "40000/40000 [==============================] - 19s - loss: 0.3537 - acc: 0.8915    \n",
      "Epoch 5/6\n",
      "40000/40000 [==============================] - 19s - loss: 0.3330 - acc: 0.8972    \n",
      "Epoch 6/6\n",
      "40000/40000 [==============================] - 20s - loss: 0.3013 - acc: 0.9075    \n",
      "  416/20000 [..............................] - ETA: 9s"
     ]
    },
    {
     "name": "stderr",
     "output_type": "stream",
     "text": [
      "D:\\anaconda1\\lib\\site-packages\\sklearn\\metrics\\scorer.py:127: DeprecationWarning: Scoring method log_loss was renamed to neg_log_loss in version 0.18 and will be removed in 0.20.\n",
      "  sample_weight=sample_weight)\n"
     ]
    },
    {
     "name": "stdout",
     "output_type": "stream",
     "text": [
      "20000/20000 [==============================] - 4s     \n",
      "Epoch 1/3\n",
      "40000/40000 [==============================] - 21s - loss: 0.6637 - acc: 0.7891    \n",
      "Epoch 2/3\n",
      "40000/40000 [==============================] - 20s - loss: 0.3732 - acc: 0.8868    \n",
      "Epoch 3/3\n",
      "40000/40000 [==============================] - 21s - loss: 0.2952 - acc: 0.9111    \n",
      "  352/20000 [..............................] - ETA: 10s"
     ]
    },
    {
     "name": "stderr",
     "output_type": "stream",
     "text": [
      "D:\\anaconda1\\lib\\site-packages\\sklearn\\metrics\\scorer.py:127: DeprecationWarning: Scoring method log_loss was renamed to neg_log_loss in version 0.18 and will be removed in 0.20.\n",
      "  sample_weight=sample_weight)\n"
     ]
    },
    {
     "name": "stdout",
     "output_type": "stream",
     "text": [
      "19968/20000 [============================>.] - ETA: 0sEpoch 1/3\n",
      "40000/40000 [==============================] - 21s - loss: 0.5557 - acc: 0.8248    \n",
      "Epoch 2/3\n",
      "40000/40000 [==============================] - 20s - loss: 0.2957 - acc: 0.9120    \n",
      "Epoch 3/3\n",
      "40000/40000 [==============================] - 21s - loss: 0.2419 - acc: 0.9294    \n",
      "  352/20000 [..............................] - ETA: 10s"
     ]
    },
    {
     "name": "stderr",
     "output_type": "stream",
     "text": [
      "D:\\anaconda1\\lib\\site-packages\\sklearn\\metrics\\scorer.py:127: DeprecationWarning: Scoring method log_loss was renamed to neg_log_loss in version 0.18 and will be removed in 0.20.\n",
      "  sample_weight=sample_weight)\n"
     ]
    },
    {
     "name": "stdout",
     "output_type": "stream",
     "text": [
      "20000/20000 [==============================] - 4s     \n",
      "Epoch 1/3\n",
      "40000/40000 [==============================] - 21s - loss: 0.7203 - acc: 0.7680    \n",
      "Epoch 2/3\n",
      "40000/40000 [==============================] - 20s - loss: 0.4485 - acc: 0.8640    \n",
      "Epoch 3/3\n",
      "40000/40000 [==============================] - 21s - loss: 0.3503 - acc: 0.8938    \n",
      "  288/20000 [..............................] - ETA: 14s"
     ]
    },
    {
     "name": "stderr",
     "output_type": "stream",
     "text": [
      "D:\\anaconda1\\lib\\site-packages\\sklearn\\metrics\\scorer.py:127: DeprecationWarning: Scoring method log_loss was renamed to neg_log_loss in version 0.18 and will be removed in 0.20.\n",
      "  sample_weight=sample_weight)\n"
     ]
    },
    {
     "name": "stdout",
     "output_type": "stream",
     "text": [
      "20000/20000 [==============================] - 3s     \n",
      "Epoch 1/6\n",
      "40000/40000 [==============================] - 21s - loss: 0.6021 - acc: 0.8104    \n",
      "Epoch 2/6\n",
      "40000/40000 [==============================] - 20s - loss: 0.3368 - acc: 0.8985    \n",
      "Epoch 3/6\n",
      "40000/40000 [==============================] - 21s - loss: 0.2785 - acc: 0.9179    \n",
      "Epoch 4/6\n",
      "40000/40000 [==============================] - 21s - loss: 0.2352 - acc: 0.9317    \n",
      "Epoch 5/6\n",
      "40000/40000 [==============================] - 20s - loss: 0.2054 - acc: 0.9385    \n",
      "Epoch 6/6\n",
      "40000/40000 [==============================] - 21s - loss: 0.1893 - acc: 0.9455    \n",
      "  160/20000 [..............................] - ETA: 25s"
     ]
    },
    {
     "name": "stderr",
     "output_type": "stream",
     "text": [
      "D:\\anaconda1\\lib\\site-packages\\sklearn\\metrics\\scorer.py:127: DeprecationWarning: Scoring method log_loss was renamed to neg_log_loss in version 0.18 and will be removed in 0.20.\n",
      "  sample_weight=sample_weight)\n"
     ]
    },
    {
     "name": "stdout",
     "output_type": "stream",
     "text": [
      "20000/20000 [==============================] - 4s     \n",
      "Epoch 1/6\n",
      "40000/40000 [==============================] - 21s - loss: 0.6934 - acc: 0.7796    \n",
      "Epoch 2/6\n",
      "40000/40000 [==============================] - 20s - loss: 0.4526 - acc: 0.8619    \n",
      "Epoch 3/6\n",
      "40000/40000 [==============================] - 21s - loss: 0.3703 - acc: 0.8875    \n",
      "Epoch 4/6\n",
      "40000/40000 [==============================] - 21s - loss: 0.2992 - acc: 0.9109    \n",
      "Epoch 5/6\n",
      "40000/40000 [==============================] - 20s - loss: 0.2472 - acc: 0.9279    \n",
      "Epoch 6/6\n",
      "40000/40000 [==============================] - 21s - loss: 0.2140 - acc: 0.9374    \n",
      "   32/20000 [..............................] - ETA: 123s"
     ]
    },
    {
     "name": "stderr",
     "output_type": "stream",
     "text": [
      "D:\\anaconda1\\lib\\site-packages\\sklearn\\metrics\\scorer.py:127: DeprecationWarning: Scoring method log_loss was renamed to neg_log_loss in version 0.18 and will be removed in 0.20.\n",
      "  sample_weight=sample_weight)\n"
     ]
    },
    {
     "name": "stdout",
     "output_type": "stream",
     "text": [
      "20000/20000 [==============================] - 4s     \n",
      "Epoch 1/6\n",
      "40000/40000 [==============================] - 21s - loss: 0.6015 - acc: 0.8120    \n",
      "Epoch 2/6\n",
      "40000/40000 [==============================] - 20s - loss: 0.3491 - acc: 0.8953    \n",
      "Epoch 3/6\n",
      "40000/40000 [==============================] - 20s - loss: 0.2861 - acc: 0.9152    \n",
      "Epoch 4/6\n",
      "40000/40000 [==============================] - 21s - loss: 0.2400 - acc: 0.9292    \n",
      "Epoch 5/6\n",
      "40000/40000 [==============================] - 20s - loss: 0.2229 - acc: 0.9360    \n",
      "Epoch 6/6\n",
      "40000/40000 [==============================] - 21s - loss: 0.2029 - acc: 0.9403    \n"
     ]
    },
    {
     "name": "stderr",
     "output_type": "stream",
     "text": [
      "D:\\anaconda1\\lib\\site-packages\\sklearn\\metrics\\scorer.py:127: DeprecationWarning: Scoring method log_loss was renamed to neg_log_loss in version 0.18 and will be removed in 0.20.\n",
      "  sample_weight=sample_weight)\n"
     ]
    },
    {
     "name": "stdout",
     "output_type": "stream",
     "text": [
      "19968/20000 [============================>.] - ETA: 0sEpoch 1/3\n",
      "40000/40000 [==============================] - 20s - loss: 0.7549 - acc: 0.7509    \n",
      "Epoch 2/3\n",
      "40000/40000 [==============================] - 19s - loss: 0.4358 - acc: 0.8604    \n",
      "Epoch 3/3\n",
      "40000/40000 [==============================] - 21s - loss: 0.3569 - acc: 0.8888    \n"
     ]
    },
    {
     "name": "stderr",
     "output_type": "stream",
     "text": [
      "D:\\anaconda1\\lib\\site-packages\\sklearn\\metrics\\scorer.py:127: DeprecationWarning: Scoring method log_loss was renamed to neg_log_loss in version 0.18 and will be removed in 0.20.\n",
      "  sample_weight=sample_weight)\n"
     ]
    },
    {
     "name": "stdout",
     "output_type": "stream",
     "text": [
      "20000/20000 [==============================] - 4s     \n",
      "Epoch 1/3\n",
      "40000/40000 [==============================] - 21s - loss: 0.7674 - acc: 0.7504    \n",
      "Epoch 2/3\n",
      "40000/40000 [==============================] - 19s - loss: 0.4759 - acc: 0.8525    \n",
      "Epoch 3/3\n",
      "40000/40000 [==============================] - 20s - loss: 0.3960 - acc: 0.8756    \n"
     ]
    },
    {
     "name": "stderr",
     "output_type": "stream",
     "text": [
      "D:\\anaconda1\\lib\\site-packages\\sklearn\\metrics\\scorer.py:127: DeprecationWarning: Scoring method log_loss was renamed to neg_log_loss in version 0.18 and will be removed in 0.20.\n",
      "  sample_weight=sample_weight)\n"
     ]
    },
    {
     "name": "stdout",
     "output_type": "stream",
     "text": [
      "19968/20000 [============================>.] - ETA: 0sEpoch 1/3\n",
      "40000/40000 [==============================] - 21s - loss: 0.7275 - acc: 0.7593    \n",
      "Epoch 2/3\n",
      "40000/40000 [==============================] - 19s - loss: 0.4171 - acc: 0.8666    \n",
      "Epoch 3/3\n",
      "40000/40000 [==============================] - 20s - loss: 0.3561 - acc: 0.8851    \n"
     ]
    },
    {
     "name": "stderr",
     "output_type": "stream",
     "text": [
      "D:\\anaconda1\\lib\\site-packages\\sklearn\\metrics\\scorer.py:127: DeprecationWarning: Scoring method log_loss was renamed to neg_log_loss in version 0.18 and will be removed in 0.20.\n",
      "  sample_weight=sample_weight)\n"
     ]
    },
    {
     "name": "stdout",
     "output_type": "stream",
     "text": [
      "20000/20000 [==============================] - 4s     \n",
      "Epoch 1/6\n",
      "40000/40000 [==============================] - 21s - loss: 0.7924 - acc: 0.7348    \n",
      "Epoch 2/6\n",
      "40000/40000 [==============================] - 19s - loss: 0.4972 - acc: 0.8417    \n",
      "Epoch 3/6\n",
      "40000/40000 [==============================] - 19s - loss: 0.4155 - acc: 0.8698    \n",
      "Epoch 4/6\n",
      "40000/40000 [==============================] - 21s - loss: 0.3676 - acc: 0.8865    \n",
      "Epoch 5/6\n",
      "40000/40000 [==============================] - 20s - loss: 0.3276 - acc: 0.9005    \n",
      "Epoch 6/6\n",
      "40000/40000 [==============================] - 21s - loss: 0.3077 - acc: 0.9065    \n"
     ]
    },
    {
     "name": "stderr",
     "output_type": "stream",
     "text": [
      "D:\\anaconda1\\lib\\site-packages\\sklearn\\metrics\\scorer.py:127: DeprecationWarning: Scoring method log_loss was renamed to neg_log_loss in version 0.18 and will be removed in 0.20.\n",
      "  sample_weight=sample_weight)\n"
     ]
    },
    {
     "name": "stdout",
     "output_type": "stream",
     "text": [
      "19968/20000 [============================>.] - ETA: 0sEpoch 1/6\n",
      "40000/40000 [==============================] - 22s - loss: 0.7644 - acc: 0.7421    \n",
      "Epoch 2/6\n",
      "40000/40000 [==============================] - 20s - loss: 0.4385 - acc: 0.8619    \n",
      "Epoch 3/6\n",
      "40000/40000 [==============================] - 21s - loss: 0.3816 - acc: 0.8809    \n",
      "Epoch 4/6\n",
      "40000/40000 [==============================] - 20s - loss: 0.3397 - acc: 0.8967    \n",
      "Epoch 5/6\n",
      "40000/40000 [==============================] - 21s - loss: 0.3103 - acc: 0.9038    \n",
      "Epoch 6/6\n",
      "40000/40000 [==============================] - 21s - loss: 0.2992 - acc: 0.9083    \n"
     ]
    },
    {
     "name": "stderr",
     "output_type": "stream",
     "text": [
      "D:\\anaconda1\\lib\\site-packages\\sklearn\\metrics\\scorer.py:127: DeprecationWarning: Scoring method log_loss was renamed to neg_log_loss in version 0.18 and will be removed in 0.20.\n",
      "  sample_weight=sample_weight)\n"
     ]
    },
    {
     "name": "stdout",
     "output_type": "stream",
     "text": [
      "20000/20000 [==============================] - 4s     \n",
      "Epoch 1/6\n",
      "40000/40000 [==============================] - 22s - loss: 0.8491 - acc: 0.7147    \n",
      "Epoch 2/6\n",
      "40000/40000 [==============================] - 21s - loss: 0.4938 - acc: 0.8393    \n",
      "Epoch 3/6\n",
      "40000/40000 [==============================] - 20s - loss: 0.4012 - acc: 0.8708    \n",
      "Epoch 4/6\n",
      "40000/40000 [==============================] - 20s - loss: 0.3478 - acc: 0.8902    \n",
      "Epoch 5/6\n",
      "40000/40000 [==============================] - 21s - loss: 0.3106 - acc: 0.9009    \n",
      "Epoch 6/6\n",
      "40000/40000 [==============================] - 21s - loss: 0.2849 - acc: 0.9087    \n"
     ]
    },
    {
     "name": "stderr",
     "output_type": "stream",
     "text": [
      "D:\\anaconda1\\lib\\site-packages\\sklearn\\metrics\\scorer.py:127: DeprecationWarning: Scoring method log_loss was renamed to neg_log_loss in version 0.18 and will be removed in 0.20.\n",
      "  sample_weight=sample_weight)\n"
     ]
    },
    {
     "name": "stdout",
     "output_type": "stream",
     "text": [
      "19968/20000 [============================>.] - ETA: 0sEpoch 1/3\n",
      "40000/40000 [==============================] - 22s - loss: 0.5435 - acc: 0.8292    \n",
      "Epoch 2/3\n",
      "40000/40000 [==============================] - 21s - loss: 0.2591 - acc: 0.9250    \n",
      "Epoch 3/3\n",
      "40000/40000 [==============================] - 21s - loss: 0.2132 - acc: 0.9393    \n"
     ]
    },
    {
     "name": "stderr",
     "output_type": "stream",
     "text": [
      "D:\\anaconda1\\lib\\site-packages\\sklearn\\metrics\\scorer.py:127: DeprecationWarning: Scoring method log_loss was renamed to neg_log_loss in version 0.18 and will be removed in 0.20.\n",
      "  sample_weight=sample_weight)\n"
     ]
    },
    {
     "name": "stdout",
     "output_type": "stream",
     "text": [
      "20000/20000 [==============================] - 4s     \n",
      "Epoch 1/3\n",
      "40000/40000 [==============================] - 22s - loss: 0.5427 - acc: 0.8301    \n",
      "Epoch 2/3\n",
      "40000/40000 [==============================] - 22s - loss: 0.2825 - acc: 0.9180    \n",
      "Epoch 3/3\n",
      "40000/40000 [==============================] - 21s - loss: 0.2358 - acc: 0.9344    \n"
     ]
    },
    {
     "name": "stderr",
     "output_type": "stream",
     "text": [
      "D:\\anaconda1\\lib\\site-packages\\sklearn\\metrics\\scorer.py:127: DeprecationWarning: Scoring method log_loss was renamed to neg_log_loss in version 0.18 and will be removed in 0.20.\n",
      "  sample_weight=sample_weight)\n"
     ]
    },
    {
     "name": "stdout",
     "output_type": "stream",
     "text": [
      "19968/20000 [============================>.] - ETA: 0sEpoch 1/3\n",
      "40000/40000 [==============================] - 21s - loss: 0.5237 - acc: 0.8367    \n",
      "Epoch 2/3\n",
      "40000/40000 [==============================] - 22s - loss: 0.2563 - acc: 0.9251    \n",
      "Epoch 3/3\n",
      "40000/40000 [==============================] - 21s - loss: 0.2022 - acc: 0.9414    \n"
     ]
    },
    {
     "name": "stderr",
     "output_type": "stream",
     "text": [
      "D:\\anaconda1\\lib\\site-packages\\sklearn\\metrics\\scorer.py:127: DeprecationWarning: Scoring method log_loss was renamed to neg_log_loss in version 0.18 and will be removed in 0.20.\n",
      "  sample_weight=sample_weight)\n"
     ]
    },
    {
     "name": "stdout",
     "output_type": "stream",
     "text": [
      "20000/20000 [==============================] - 4s     \n",
      "Epoch 1/6\n",
      "40000/40000 [==============================] - 22s - loss: 0.6008 - acc: 0.8117    \n",
      "Epoch 2/6\n",
      "40000/40000 [==============================] - 21s - loss: 0.3120 - acc: 0.9076    \n",
      "Epoch 3/6\n",
      "40000/40000 [==============================] - 21s - loss: 0.2358 - acc: 0.9322    \n",
      "Epoch 4/6\n",
      "40000/40000 [==============================] - 21s - loss: 0.2010 - acc: 0.9419    \n",
      "Epoch 5/6\n",
      "40000/40000 [==============================] - 22s - loss: 0.1802 - acc: 0.9471    \n",
      "Epoch 6/6\n",
      "40000/40000 [==============================] - 22s - loss: 0.1636 - acc: 0.9524    \n"
     ]
    },
    {
     "name": "stderr",
     "output_type": "stream",
     "text": [
      "D:\\anaconda1\\lib\\site-packages\\sklearn\\metrics\\scorer.py:127: DeprecationWarning: Scoring method log_loss was renamed to neg_log_loss in version 0.18 and will be removed in 0.20.\n",
      "  sample_weight=sample_weight)\n"
     ]
    },
    {
     "name": "stdout",
     "output_type": "stream",
     "text": [
      "19968/20000 [============================>.] - ETA: 0sEpoch 1/6\n",
      "40000/40000 [==============================] - 23s - loss: 0.6006 - acc: 0.8088    \n",
      "Epoch 2/6\n",
      "40000/40000 [==============================] - 22s - loss: 0.3099 - acc: 0.9077    \n",
      "Epoch 3/6\n",
      "40000/40000 [==============================] - 21s - loss: 0.2356 - acc: 0.9313    \n",
      "Epoch 4/6\n",
      "40000/40000 [==============================] - 20s - loss: 0.2070 - acc: 0.9395    \n",
      "Epoch 5/6\n",
      "40000/40000 [==============================] - 21s - loss: 0.1822 - acc: 0.9473    \n",
      "Epoch 6/6\n",
      "40000/40000 [==============================] - 21s - loss: 0.1617 - acc: 0.9537    \n"
     ]
    },
    {
     "name": "stderr",
     "output_type": "stream",
     "text": [
      "D:\\anaconda1\\lib\\site-packages\\sklearn\\metrics\\scorer.py:127: DeprecationWarning: Scoring method log_loss was renamed to neg_log_loss in version 0.18 and will be removed in 0.20.\n",
      "  sample_weight=sample_weight)\n"
     ]
    },
    {
     "name": "stdout",
     "output_type": "stream",
     "text": [
      "19968/20000 [============================>.] - ETA: 0sEpoch 1/6\n",
      "40000/40000 [==============================] - 21s - loss: 0.5787 - acc: 0.8175    \n",
      "Epoch 2/6\n",
      "40000/40000 [==============================] - 23s - loss: 0.2871 - acc: 0.9145    \n",
      "Epoch 3/6\n",
      "40000/40000 [==============================] - 20s - loss: 0.2309 - acc: 0.9327    \n",
      "Epoch 4/6\n",
      "40000/40000 [==============================] - 21s - loss: 0.1983 - acc: 0.9423    \n",
      "Epoch 5/6\n",
      "40000/40000 [==============================] - 20s - loss: 0.1732 - acc: 0.9502    \n",
      "Epoch 6/6\n",
      "40000/40000 [==============================] - 20s - loss: 0.1541 - acc: 0.9549    \n"
     ]
    },
    {
     "name": "stderr",
     "output_type": "stream",
     "text": [
      "D:\\anaconda1\\lib\\site-packages\\sklearn\\metrics\\scorer.py:127: DeprecationWarning: Scoring method log_loss was renamed to neg_log_loss in version 0.18 and will be removed in 0.20.\n",
      "  sample_weight=sample_weight)\n"
     ]
    },
    {
     "name": "stdout",
     "output_type": "stream",
     "text": [
      "19968/20000 [============================>.] - ETA: 0sEpoch 1/6\n",
      "60000/60000 [==============================] - 31s - loss: 0.4721 - acc: 0.8531    \n",
      "Epoch 2/6\n",
      "60000/60000 [==============================] - 30s - loss: 0.2281 - acc: 0.9340    \n",
      "Epoch 3/6\n",
      "60000/60000 [==============================] - 31s - loss: 0.1836 - acc: 0.9482    \n",
      "Epoch 4/6\n",
      "60000/60000 [==============================] - 30s - loss: 0.1530 - acc: 0.9555    \n",
      "Epoch 5/6\n",
      "60000/60000 [==============================] - 35s - loss: 0.1420 - acc: 0.9593    \n",
      "Epoch 6/6\n",
      "60000/60000 [==============================] - 32s - loss: 0.1309 - acc: 0.9634    \n",
      "Yhe parameters of the best model are: \n",
      "{'dense_layer_sizes': [64, 64], 'nb_conv': 3, 'nb_pool': 2, 'nb_filters': 8, 'nb_epoch': 6}\n"
     ]
    }
   ],
   "source": [
    "# 全连接层的备选参数列表\n",
    "dense_size_candidates = [[32], [64], [32, 32], [64, 64]]\n",
    "# 实现为Keras准备的sklearn分类器接口，创建一个分类器/评估器对象\n",
    "# 传入的参数为：\n",
    "# build_fn: callable function or class instance\n",
    "# **sk_params: model parameters & fitting parameters\n",
    "# 具体分析如下：\n",
    "# 传入的第一个参数(build_fn)为可回调的函数，该函数建立、配置并返回一个Keras model，\n",
    "# 该model将被用来训练/预测，这里我们传入了刚刚定义好的make_model函数\n",
    "# 传入的第二个参数(**sk_params)为关键字参数(关键字参数在函数内部自动组装为一个dict),\n",
    "# 既可以是模型的参数，也可以是训练的参数，合法的模型参数就是build_fn的参数，\n",
    "# 注意，像所有sklearn中其他的评估器(estimator)一样，build_fn应当为其参数提供默认值，\n",
    "# 以便我们在建立estimator的时候不用向sk_params传入任何值。\n",
    "# sk_params也可以接收用来调用fit/predict/predict_proba/score方法的参数，\n",
    "# 例如'nb_epoch','batch_size'\n",
    "# fit/predict/predict_proba/score方法的参数将会优先从传入fit/predict/predict_proba/score\n",
    "# 的字典参数中选择，其次才从传入sk_params的参数中选，最后才选择keras的Sequential模型的默认参数中选择\n",
    "# 这里我们传入了用于调用fit方法的batch_size参数\n",
    "my_classifier = KerasClassifier(make_model, batch_size=32)\n",
    "# 当调用sklearn的grid_search接口时，合法的可调参数就是传给sk_params的参数，包括训练参数\n",
    "# 换句话说，就是可以用grid_search来选择最佳的batch_size/nb_epoch，或者其他的一些模型参数\n",
    "\n",
    "# GridSearchCV类，穷搜(Exhaustive search)评估器中所有特定的参数，\n",
    "# 其重要的两类方法为fit和predict\n",
    "# 传入参数为评估器对象my_classifier，由每一个grid point实例化一个estimator\n",
    "# 参数网格param_grid，类型为dict，需要尝试的参数名称以及对应的数值\n",
    "# 评估方式scoring，这里采用对数损失来评估\n",
    "validator = GridSearchCV(my_classifier,\n",
    "                         param_grid={'dense_layer_sizes': dense_size_candidates,\n",
    "                                     'nb_epoch': [3,6],\n",
    "                                     'nb_filters': [8],\n",
    "                                     'nb_conv': [3],\n",
    "                                     'nb_pool': [2]},\n",
    "                         scoring='log_loss')\n",
    "# 根据各个参数值的不同组合在(X_train, y_train)上训练模型\n",
    "validator.fit(X_train, y_train)\n",
    "# 打印出训练过程中找到的最佳参数\n",
    "print('Yhe parameters of the best model are: ')\n",
    "print(validator.best_params_)"
   ]
  },
  {
   "cell_type": "markdown",
   "metadata": {
    "collapsed": true
   },
   "source": [
    "## 利用keras与sklearn进行分类和回归"
   ]
  },
  {
   "cell_type": "code",
   "execution_count": null,
   "metadata": {
    "collapsed": true
   },
   "outputs": [],
   "source": [
    "import numpy\n",
    "import pandas\n",
    "from keras.models import Sequential\n",
    "from keras.layers import Dense\n",
    "from keras.wrappers.scikit_learn import KerasRegressor\n",
    "from sklearn.model_selection import cross_val_score\n",
    "from sklearn.model_selection import KFold\n",
    "from sklearn.preprocessing import StandardScaler\n",
    "from sklearn.pipeline import Pipeline\n",
    "\n",
    "# load dataset\n",
    "dataframe = pandas.read_csv(\"housing.csv\", delim_whitespace=True, header=None)\n",
    "dataset = dataframe.values\n",
    "# split into input (X) and output (Y) variables\n",
    "X = dataset[:, 0:13]\n",
    "Y = dataset[:, 13]\n",
    "# define base mode\n",
    "def baseline_model():\n",
    "    # create model\n",
    "    model = Sequential()\n",
    "    model.add(Dense(20, input_dim=13, init='normal', activation='relu'))\n",
    "    model.add(Dense(1, init='normal'))\n",
    "    # Compile model\n",
    "    model.compile(loss='mean_squared_error', optimizer='adam')\n",
    "    return model\n",
    "\n",
    "# fix random seed for reproducibility\n",
    "seed = 7\n",
    "numpy.random.seed(seed)\n",
    "# evaluate model with standardized dataset\n",
    "estimators = []\n",
    "estimators.append(('standardize', StandardScaler()))\n",
    "estimators.append(('mlp', KerasRegressor(build_fn=baseline_model, nb_epoch=50, batch_size=5, verbose=0)))\n",
    "pipeline = Pipeline(estimators)\n",
    "# use 10-fold cross validation to evaluate this baseline model\n",
    "kfold = KFold(n_splits=10, random_state=seed)\n",
    "results = cross_val_score(pipeline, X, Y, cv=kfold)\n",
    "print(\"Standardized: %.2f (%.2f) MSE\" % (results.mean(), results.std()))"
   ]
  }
 ],
 "metadata": {
  "anaconda-cloud": {},
  "kernelspec": {
   "display_name": "Python [Root]",
   "language": "python",
   "name": "Python [Root]"
  },
  "language_info": {
   "codemirror_mode": {
    "name": "ipython",
    "version": 3
   },
   "file_extension": ".py",
   "mimetype": "text/x-python",
   "name": "python",
   "nbconvert_exporter": "python",
   "pygments_lexer": "ipython3",
   "version": "3.5.1"
  }
 },
 "nbformat": 4,
 "nbformat_minor": 0
}
