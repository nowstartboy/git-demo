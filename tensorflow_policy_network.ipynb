{
 "cells": [
  {
   "cell_type": "code",
   "execution_count": 1,
   "metadata": {
    "collapsed": false
   },
   "outputs": [
    {
     "name": "stderr",
     "output_type": "stream",
     "text": [
      "[2017-06-01 16:18:27,754] Making new env: CartPole-v0\n"
     ]
    }
   ],
   "source": [
    "import numpy as np\n",
    "import tensorflow as tf\n",
    "import gym\n",
    "env = gym.make('CartPole-v0')"
   ]
  },
  {
   "cell_type": "code",
   "execution_count": 2,
   "metadata": {
    "collapsed": false
   },
   "outputs": [
    {
     "name": "stdout",
     "output_type": "stream",
     "text": [
      "Reward for this episode was: 25.0\n",
      "Reward for this episode was: 28.0\n",
      "Reward for this episode was: 14.0\n",
      "Reward for this episode was: 33.0\n",
      "Reward for this episode was: 12.0\n",
      "Reward for this episode was: 16.0\n",
      "Reward for this episode was: 27.0\n",
      "Reward for this episode was: 31.0\n",
      "Reward for this episode was: 14.0\n",
      "Reward for this episode was: 11.0\n"
     ]
    },
    {
     "data": {
      "text/plain": [
       "'\\nReward for this episode was: 52.0\\nReward for this episode was: 22.0\\nReward for this episode was: 15.0\\nReward for this episode was: 38.0\\nReward for this episode was: 19.0\\nReward for this episode was: 8.0\\nReward for this episode was: 19.0\\nReward for this episode was: 18.0\\nReward for this episode was: 34.0\\nReward for this episode was: 10.0\\n'"
      ]
     },
     "execution_count": 2,
     "metadata": {},
     "output_type": "execute_result"
    }
   ],
   "source": [
    "env.reset()\n",
    "random_episodes = 0\n",
    "reward_sum = 0\n",
    "while random_episodes < 10:\n",
    "    env.render()\n",
    "    observation, reward, done, _ = env.step(np.random.randint(0,2))\n",
    "    reward_sum += reward\n",
    "    if done:\n",
    "        random_episodes += 1\n",
    "        print('Reward for this episode was:', reward_sum)\n",
    "        reward_sum = 0\n",
    "        env.reset()\n",
    "'''\n",
    "Reward for this episode was: 52.0\n",
    "Reward for this episode was: 22.0\n",
    "Reward for this episode was: 15.0\n",
    "Reward for this episode was: 38.0\n",
    "Reward for this episode was: 19.0\n",
    "Reward for this episode was: 8.0\n",
    "Reward for this episode was: 19.0\n",
    "Reward for this episode was: 18.0\n",
    "Reward for this episode was: 34.0\n",
    "Reward for this episode was: 10.0\n",
    "'''\n"
   ]
  },
  {
   "cell_type": "code",
   "execution_count": 2,
   "metadata": {
    "collapsed": false
   },
   "outputs": [
    {
     "name": "stdout",
     "output_type": "stream",
     "text": [
      "[<tf.Variable 'W1:0' shape=(4, 50) dtype=float32_ref>, <tf.Variable 'W2:0' shape=(50, 1) dtype=float32_ref>]\n",
      "Average reward for episode 25: 24.360000.\n",
      "Average reward for episode 50: 36.360000.\n",
      "Average reward for episode 75: 58.080000.\n",
      "Average reward for episode 100: 59.600000.\n",
      "Average reward for episode 125: 65.240000.\n",
      "Average reward for episode 150: 75.480000.\n",
      "Average reward for episode 175: 77.720000.\n",
      "Average reward for episode 200: 82.440000.\n",
      "Average reward for episode 225: 95.920000.\n",
      "Average reward for episode 250: 98.320000.\n",
      "Average reward for episode 275: 109.560000.\n",
      "Average reward for episode 300: 118.480000.\n",
      "Average reward for episode 325: 131.880000.\n",
      "Average reward for episode 350: 117.040000.\n",
      "Average reward for episode 375: 153.280000.\n",
      "Average reward for episode 400: 177.440000.\n"
     ]
    }
   ],
   "source": [
    "H = 50\n",
    "batch_size = 25\n",
    "learning_rate = 1e-1\n",
    "D = 4\n",
    "gamma = 0.99\n",
    "\n",
    "observations = tf.placeholder(tf.float32, [None, D], name='input_x')\n",
    "W1 = tf.get_variable('W1', shape=[D, H], initializer=tf.contrib.layers.xavier_initializer())\n",
    "layer1 = tf.nn.relu(tf.matmul(observations, W1))\n",
    "W2 = tf.get_variable('W2', shape=[H, 1], initializer=tf.contrib.layers.xavier_initializer())\n",
    "score = tf.matmul(layer1, W2)\n",
    "probability = tf.nn.sigmoid(score)\n",
    "adam = tf.train.AdamOptimizer(learning_rate=learning_rate)\n",
    "W1Grad = tf.placeholder(tf.float32, name='batch_grad1')\n",
    "W2Grad = tf.placeholder(tf.float32, name='batch_grad2')\n",
    "batchGrad = [W1Grad, W2Grad]\n",
    "\n",
    "def discount_rewards(r):\n",
    "    discounted_r = np.zeros_like(r)\n",
    "    running_add = 0\n",
    "    for t in reversed(range(r.size)):\n",
    "        running_add = running_add * gamma + r[t]\n",
    "        discounted_r[t] = running_add\n",
    "    return discounted_r\n",
    "\n",
    "input_y = tf.placeholder(tf.float32, [None, 1], name='input_y')\n",
    "advantages = tf.placeholder(tf.float32, name='reward_signal')\n",
    "loglik = tf.log(input_y*(input_y - probability) + (1 - input_y)*(input_y + probability))\n",
    "loss = -tf.reduce_mean(loglik* advantages)\n",
    "tvars = tf.trainable_variables()\n",
    "print (tvars)\n",
    "newGrads = tf.gradients(loss, tvars)\n",
    "updateGrads = adam.apply_gradients(zip(batchGrad, tvars))\n",
    "\n",
    "xs, ys, drs = [], [], []\n",
    "reward_sum = 0\n",
    "episode_number = 1\n",
    "total_episodes = 400\n",
    "with tf.Session() as sess:\n",
    "    rendering = False\n",
    "    init = tf.global_variables_initializer()\n",
    "    sess.run(init)\n",
    "    observation = env.reset()\n",
    "    gradBuffer = sess.run(tvars)\n",
    "    for ix, grad in enumerate(gradBuffer):\n",
    "        gradBuffer[ix] = grad * 0\n",
    "\n",
    "    while episode_number <= total_episodes:\n",
    "        if reward_sum/batch_size > 100 or rendering == True:\n",
    "            env.render()\n",
    "            rendering = True\n",
    "\n",
    "        x = np.reshape(observation, [1, D])\n",
    "\n",
    "        tfprob = sess.run(probability, feed_dict={observations: x})\n",
    "        action = 1 if np.random.uniform() < tfprob else 0\n",
    "\n",
    "        xs.append(x)\n",
    "        y = 1 - action\n",
    "        ys.append(y)\n",
    "\n",
    "        observation, reward, done, info = env.step(action)\n",
    "        reward_sum += reward\n",
    "        drs.append(reward)\n",
    "        if done:\n",
    "            episode_number += 1\n",
    "            epx = np.vstack(xs)\n",
    "            epy = np.vstack(ys)\n",
    "            epr = np.vstack(drs)\n",
    "            xs, ys, drs = [],[],[]\n",
    "\n",
    "            discounted_epr = discount_rewards(epr)\n",
    "            discounted_epr -= np.mean(discounted_epr)\n",
    "            discounted_epr /= np.std(discounted_epr)\n",
    "\n",
    "            tGrad = sess.run(newGrads, feed_dict={observations: epx, input_y: epy, advantages:discounted_epr})\n",
    "            for ix, grad in enumerate(tGrad):\n",
    "                gradBuffer[ix] += grad\n",
    "\n",
    "            if episode_number % batch_size == 0:\n",
    "                sess.run(updateGrads, feed_dict={W1Grad: gradBuffer[0],W2Grad:gradBuffer[1]})\n",
    "                for ix, grad in enumerate(gradBuffer):\n",
    "                    gradBuffer[ix] = grad * 0\n",
    "                print('Average reward for episode %d: %f.' % (episode_number, reward_sum/batch_size))\n",
    "                if reward_sum/batch_size > 200:\n",
    "                    print(\"Task solved in \", episode_number, 'episodes!')\n",
    "                    break\n",
    "                reward_sum = 0\n",
    "            observation = env.reset()"
   ]
  },
  {
   "cell_type": "code",
   "execution_count": null,
   "metadata": {
    "collapsed": true
   },
   "outputs": [],
   "source": []
  }
 ],
 "metadata": {
  "anaconda-cloud": {},
  "kernelspec": {
   "display_name": "Python [Root]",
   "language": "python",
   "name": "Python [Root]"
  },
  "language_info": {
   "codemirror_mode": {
    "name": "ipython",
    "version": 3
   },
   "file_extension": ".py",
   "mimetype": "text/x-python",
   "name": "python",
   "nbconvert_exporter": "python",
   "pygments_lexer": "ipython3",
   "version": "3.5.1"
  }
 },
 "nbformat": 4,
 "nbformat_minor": 0
}
