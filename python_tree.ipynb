{
 "cells": [
  {
   "cell_type": "code",
   "execution_count": 7,
   "metadata": {
    "collapsed": false
   },
   "outputs": [
    {
     "name": "stdout",
     "output_type": "stream",
     "text": [
      "请输入root下成员个数:2\n",
      "请输入成员:\n",
      "1\n",
      "2\n",
      "请输入1成员下的成员个数:2\n",
      "请输入成员:\n",
      "3\n",
      "4\n",
      "请输入2成员下的成员个数:0\n",
      "请输入3成员下的成员个数:1\n",
      "请输入成员:\n",
      "5\n",
      "请输入4成员下的成员个数:0\n",
      "请输入5成员下的成员个数:1\n",
      "请输入成员:\n",
      "6\n",
      "请输入6成员下的成员个数:1\n",
      "请输入成员:\n",
      "7\n",
      "请输入7成员下的成员个数:0\n",
      "[\"root->['1', '2']\", \"1->['3', '4']\", \"3->['5']\", \"5->['6']\", \"6->['7']\"]\n"
     ]
    }
   ],
   "source": [
    "#coding:utf-8\n",
    "\n",
    "class Tree(object):\n",
    "    def __init__(self):\n",
    "        self.queue = []\n",
    "        self.list = []\n",
    "        self.finallist = []\n",
    "        self.topright = 0\n",
    "    def addin(self):\n",
    "        while True:\n",
    "            if self.queue == []:\n",
    "                num = input(\"请输入root下成员个数:\")\n",
    "                num=int(num)\n",
    "                print(\"请输入成员:\")\n",
    "                for i in range(num):\n",
    "                    ele = input()\n",
    "                    self.queue.append(ele)\n",
    "                    self.topright += 1\n",
    "                self.topright -= 1\n",
    "                self.finallist.append(\"root->%s\" %self.queue)\n",
    "            else:\n",
    "                x = self.queue[0]\n",
    "                self.queue.pop(0)\n",
    "                num = input(\"请输入%s成员下的成员个数:\" %x)\n",
    "                num=int(num)\n",
    "                if num != 0:\n",
    "                    print(\"请输入成员:\")\n",
    "                    for i in range(num):\n",
    "                        ele = input()\n",
    "                        self.queue.append(ele)\n",
    "                        self.list.append(ele)\n",
    "                        self.topright += 1\n",
    "                    self.topright -= 1\n",
    "                if self.list != []:\n",
    "                    self.finallist.append(\"%s->%s\" %(x, self.list))\n",
    "                    self.list = []\n",
    "                if self.queue == []:\n",
    "                    print(self.finallist)\n",
    "                    break\n",
    "\n",
    "s = Tree()\n",
    "s.addin()\n"
   ]
  },
  {
   "cell_type": "code",
   "execution_count": 8,
   "metadata": {
    "collapsed": false
   },
   "outputs": [
    {
     "data": {
      "text/plain": [
       "[]"
      ]
     },
     "execution_count": 8,
     "metadata": {},
     "output_type": "execute_result"
    }
   ],
   "source": [
    "s.list"
   ]
  },
  {
   "cell_type": "code",
   "execution_count": 9,
   "metadata": {
    "collapsed": false
   },
   "outputs": [
    {
     "data": {
      "text/plain": [
       "[\"root->['1', '2']\", \"1->['3', '4']\", \"3->['5']\", \"5->['6']\", \"6->['7']\"]"
      ]
     },
     "execution_count": 9,
     "metadata": {},
     "output_type": "execute_result"
    }
   ],
   "source": [
    "s.finallist"
   ]
  },
  {
   "cell_type": "code",
   "execution_count": 16,
   "metadata": {
    "collapsed": false
   },
   "outputs": [],
   "source": [
    "tree1={0:[1,2],1:[3,4],3:[5],5:[6],6:[7]}"
   ]
  },
  {
   "cell_type": "code",
   "execution_count": 17,
   "metadata": {
    "collapsed": false
   },
   "outputs": [
    {
     "data": {
      "text/plain": [
       "True"
      ]
     },
     "execution_count": 17,
     "metadata": {},
     "output_type": "execute_result"
    }
   ],
   "source": [
    "6 in tree1"
   ]
  },
  {
   "cell_type": "code",
   "execution_count": 18,
   "metadata": {
    "collapsed": false
   },
   "outputs": [
    {
     "data": {
      "text/plain": [
       "False"
      ]
     },
     "execution_count": 18,
     "metadata": {},
     "output_type": "execute_result"
    }
   ],
   "source": [
    "7 in tree1"
   ]
  },
  {
   "cell_type": "code",
   "execution_count": 87,
   "metadata": {
    "collapsed": true
   },
   "outputs": [],
   "source": [
    "longest=0\n",
    "\n",
    "def height(root):\n",
    "    heights=[]\n",
    "    if root not in tree1:\n",
    "        return 0\n",
    "    #print (tree1[root])\n",
    "    for i in range(0,len(tree1[root])):\n",
    "        print(\"访问节点：%s\" %tree1[root][i])\n",
    "        heights.append(height(tree1[root][i]))\n",
    "        print(\"当前节点子节点为：%s,子节点高度为:%s\" %(tree1[root][i],heights[i]))\n",
    "    heights=sorted(heights)\n",
    "    print (\"排序后的高度：%s\" %heights)\n",
    "    return heights[-1]+1"
   ]
  },
  {
   "cell_type": "code",
   "execution_count": 88,
   "metadata": {
    "collapsed": false,
    "scrolled": true
   },
   "outputs": [
    {
     "name": "stdout",
     "output_type": "stream",
     "text": [
      "访问节点：1\n",
      "访问节点：3\n",
      "访问节点：5\n",
      "访问节点：6\n",
      "访问节点：7\n",
      "当前节点子节点为：7,子节点高度为:0\n",
      "排序后的高度：[0]\n",
      "当前节点子节点为：6,子节点高度为:1\n",
      "排序后的高度：[1]\n",
      "当前节点子节点为：5,子节点高度为:2\n",
      "排序后的高度：[2]\n",
      "当前节点子节点为：3,子节点高度为:3\n",
      "访问节点：4\n",
      "当前节点子节点为：4,子节点高度为:0\n",
      "排序后的高度：[0, 3]\n",
      "当前节点子节点为：1,子节点高度为:4\n",
      "访问节点：2\n",
      "当前节点子节点为：2,子节点高度为:0\n",
      "排序后的高度：[0, 4]\n"
     ]
    },
    {
     "data": {
      "text/plain": [
       "5"
      ]
     },
     "execution_count": 88,
     "metadata": {},
     "output_type": "execute_result"
    }
   ],
   "source": [
    "height(0)"
   ]
  },
  {
   "cell_type": "code",
   "execution_count": 48,
   "metadata": {
    "collapsed": false,
    "scrolled": true
   },
   "outputs": [
    {
     "data": {
      "text/plain": [
       "[0, 1, 2, 3, 0, 1, 0]"
      ]
     },
     "execution_count": 48,
     "metadata": {},
     "output_type": "execute_result"
    }
   ],
   "source": [
    "heights"
   ]
  },
  {
   "cell_type": "code",
   "execution_count": 33,
   "metadata": {
    "collapsed": false
   },
   "outputs": [
    {
     "data": {
      "text/plain": [
       "[0, 0, 0, 1, 1, 2, 3]"
      ]
     },
     "execution_count": 33,
     "metadata": {},
     "output_type": "execute_result"
    }
   ],
   "source": [
    "sorted(heights)"
   ]
  },
  {
   "cell_type": "code",
   "execution_count": 89,
   "metadata": {
    "collapsed": false
   },
   "outputs": [
    {
     "name": "stdout",
     "output_type": "stream",
     "text": [
      "队列实现层次遍历:\n",
      "0\n",
      "1\n",
      "2\n",
      "3\n",
      "4\n",
      "5\n",
      "6\n",
      "7\n",
      "8\n",
      "9\n",
      "\n",
      "\n",
      "递归实现先序遍历:\n",
      "0\n",
      "1\n",
      "3\n",
      "7\n",
      "8\n",
      "4\n",
      "9\n",
      "2\n",
      "5\n",
      "6\n",
      "\n",
      "递归实现中序遍历:\n",
      "7\n",
      "3\n",
      "8\n",
      "1\n",
      "9\n",
      "4\n",
      "0\n",
      "5\n",
      "2\n",
      "6\n",
      "\n",
      "递归实现后序遍历:\n",
      "7\n",
      "8\n",
      "3\n",
      "9\n",
      "4\n",
      "1\n",
      "5\n",
      "6\n",
      "2\n",
      "0\n",
      "\n",
      "\n",
      "堆栈实现先序遍历:\n",
      "0\n",
      "1\n",
      "3\n",
      "7\n",
      "8\n",
      "4\n",
      "9\n",
      "2\n",
      "5\n",
      "6\n",
      "\n",
      "堆栈实现中序遍历:\n",
      "7\n",
      "3\n",
      "8\n",
      "1\n",
      "9\n",
      "4\n",
      "0\n",
      "5\n",
      "2\n",
      "6\n",
      "\n",
      "堆栈实现后序遍历:\n",
      "7\n",
      "8\n",
      "3\n",
      "9\n",
      "4\n",
      "1\n",
      "5\n",
      "6\n",
      "2\n",
      "0\n"
     ]
    }
   ],
   "source": [
    "#另一种实现树方法\n",
    "#coding=utf-8\n",
    "\n",
    "class Node(object):\n",
    "    \"\"\"节点类\"\"\"\n",
    "    def __init__(self, elem=-1, lchild=None, rchild=None):\n",
    "        self.elem = elem\n",
    "        self.lchild = lchild\n",
    "        self.rchild = rchild\n",
    "\n",
    "\n",
    "class Tree(object):\n",
    "    \"\"\"树类\"\"\"\n",
    "    def __init__(self):\n",
    "        self.root = Node()\n",
    "        self.myQueue = []\n",
    "\n",
    "    def add(self, elem):\n",
    "        \"\"\"为树添加节点\"\"\"\n",
    "        node = Node(elem)\n",
    "        if self.root.elem == -1:  # 如果树是空的，则对根节点赋值\n",
    "            self.root = node\n",
    "            self.myQueue.append(self.root)\n",
    "        else:\n",
    "            treeNode = self.myQueue[0]  # 此结点的子树还没有齐。\n",
    "            if treeNode.lchild == None:\n",
    "                treeNode.lchild = node\n",
    "                self.myQueue.append(treeNode.lchild)\n",
    "            else:\n",
    "                treeNode.rchild = node\n",
    "                self.myQueue.append(treeNode.rchild)\n",
    "                self.myQueue.pop(0)  # 如果该结点存在右子树，将此结点丢弃。\n",
    "\n",
    "\n",
    "    def front_digui(self, root):\n",
    "        \"\"\"利用递归实现树的先序遍历\"\"\"\n",
    "        if root == None:\n",
    "            return\n",
    "        print (root.elem,)\n",
    "        self.front_digui(root.lchild)\n",
    "        self.front_digui(root.rchild)\n",
    "\n",
    "\n",
    "    def middle_digui(self, root):\n",
    "        \"\"\"利用递归实现树的中序遍历\"\"\"\n",
    "        if root == None:\n",
    "            return\n",
    "        self.middle_digui(root.lchild)\n",
    "        print (root.elem,)\n",
    "        self.middle_digui(root.rchild)\n",
    "\n",
    "\n",
    "    def later_digui(self, root):\n",
    "        \"\"\"利用递归实现树的后序遍历\"\"\"\n",
    "        if root == None:\n",
    "            return\n",
    "        self.later_digui(root.lchild)\n",
    "        self.later_digui(root.rchild)\n",
    "        print (root.elem,)\n",
    "\n",
    "\n",
    "    def front_stack(self, root):\n",
    "        \"\"\"利用堆栈实现树的先序遍历\"\"\"\n",
    "        if root == None:\n",
    "            return\n",
    "        myStack = []\n",
    "        node = root\n",
    "        while node or myStack:\n",
    "            while node:                     #从根节点开始，一直找它的左子树\n",
    "                print (node.elem,)\n",
    "                myStack.append(node)\n",
    "                node = node.lchild\n",
    "            node = myStack.pop()            #while结束表示当前节点node为空，即前一个节点没有左子树了\n",
    "            node = node.rchild                  #开始查看它的右子树\n",
    "\n",
    "\n",
    "    def middle_stack(self, root):\n",
    "        \"\"\"利用堆栈实现树的中序遍历\"\"\"\n",
    "        if root == None:\n",
    "            return\n",
    "        myStack = []\n",
    "        node = root\n",
    "        while node or myStack:\n",
    "            while node:                     #从根节点开始，一直找它的左子树\n",
    "                myStack.append(node)\n",
    "                node = node.lchild\n",
    "            node = myStack.pop()            #while结束表示当前节点node为空，即前一个节点没有左子树了\n",
    "            print (node.elem,)\n",
    "            node = node.rchild                  #开始查看它的右子树\n",
    "\n",
    "\n",
    "    def later_stack(self, root):\n",
    "        \"\"\"利用堆栈实现树的后序遍历\"\"\"\n",
    "        if root == None:\n",
    "            return\n",
    "        myStack1 = []\n",
    "        myStack2 = []\n",
    "        node = root\n",
    "        myStack1.append(node)\n",
    "        while myStack1:                   #这个while循环的功能是找出后序遍历的逆序，存在myStack2里面\n",
    "            node = myStack1.pop()\n",
    "            if node.lchild:\n",
    "                myStack1.append(node.lchild)\n",
    "            if node.rchild:\n",
    "                myStack1.append(node.rchild)\n",
    "            myStack2.append(node)\n",
    "        while myStack2:                         #将myStack2中的元素出栈，即为后序遍历次序\n",
    "            print (myStack2.pop().elem,)\n",
    "\n",
    "\n",
    "    def level_queue(self, root):\n",
    "        \"\"\"利用队列实现树的层次遍历\"\"\"\n",
    "        if root == None:\n",
    "            return\n",
    "        myQueue = []\n",
    "        node = root\n",
    "        myQueue.append(node)\n",
    "        while myQueue:\n",
    "            node = myQueue.pop(0)\n",
    "            print (node.elem,)\n",
    "            if node.lchild != None:\n",
    "                myQueue.append(node.lchild)\n",
    "            if node.rchild != None:\n",
    "                myQueue.append(node.rchild)\n",
    "\n",
    "\n",
    "if __name__ == '__main__':\n",
    "    \"\"\"主函数\"\"\"\n",
    "    elems = range(10)           #生成十个数据作为树节点\n",
    "    tree = Tree()          #新建一个树对象\n",
    "    for elem in elems:                  \n",
    "        tree.add(elem)           #逐个添加树的节点\n",
    "\n",
    "    print ('队列实现层次遍历:')\n",
    "    tree.level_queue(tree.root)\n",
    "\n",
    "    print ('\\n\\n递归实现先序遍历:')\n",
    "    tree.front_digui(tree.root)\n",
    "    print ('\\n递归实现中序遍历:' )\n",
    "    tree.middle_digui(tree.root)\n",
    "    print ('\\n递归实现后序遍历:')\n",
    "    tree.later_digui(tree.root)\n",
    "\n",
    "    print ('\\n\\n堆栈实现先序遍历:')\n",
    "    tree.front_stack(tree.root)\n",
    "    print ('\\n堆栈实现中序遍历:')\n",
    "    tree.middle_stack(tree.root)\n",
    "    print ('\\n堆栈实现后序遍历:')\n",
    "    tree.later_stack(tree.root)"
   ]
  },
  {
   "cell_type": "code",
   "execution_count": null,
   "metadata": {
    "collapsed": true
   },
   "outputs": [],
   "source": []
  }
 ],
 "metadata": {
  "anaconda-cloud": {},
  "kernelspec": {
   "display_name": "Python [Root]",
   "language": "python",
   "name": "Python [Root]"
  },
  "language_info": {
   "codemirror_mode": {
    "name": "ipython",
    "version": 3
   },
   "file_extension": ".py",
   "mimetype": "text/x-python",
   "name": "python",
   "nbconvert_exporter": "python",
   "pygments_lexer": "ipython3",
   "version": "3.5.1"
  }
 },
 "nbformat": 4,
 "nbformat_minor": 0
}
