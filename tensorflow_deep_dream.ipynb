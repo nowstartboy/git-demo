{
 "cells": [
  {
   "cell_type": "code",
   "execution_count": 35,
   "metadata": {
    "collapsed": false
   },
   "outputs": [
    {
     "name": "stdout",
     "output_type": "stream",
     "text": [
      "1\n",
      "layers: 59\n",
      "feature: 7548\n",
      "(640, 1024, 3)\n",
      "hw: (640, 1024)\n",
      "lo: [[[ 148.          174.          190.        ]\n",
      "  [ 146.59918213  172.59918213  188.59918213]\n",
      "  [ 146.80163574  172.80163574  188.80163574]\n",
      "  ..., \n",
      "  [ 194.20239258  131.20239258   51.        ]\n",
      "  [ 191.19842529  130.19842529   50.19842529]\n",
      "  [ 192.59924316  131.59924316   51.59924316]]\n",
      "\n",
      " [[ 146.4004364   172.4004364   188.4004364 ]\n",
      "  [ 144.59918213  170.59918213  186.59918213]\n",
      "  [ 144.80163574  170.80163574  186.80163574]\n",
      "  ..., \n",
      "  [ 193.80195618  130.80195618   49.80195618]\n",
      "  [ 191.27787781  130.59886169   49.95690155]\n",
      "  [ 192.99967957  131.99967957   51.99967957]]\n",
      "\n",
      " [[ 147.8008728   173.8008728   189.8008728 ]\n",
      "  [ 146.20092773  172.20092773  188.20092773]\n",
      "  [ 145.76138306  171.76138306  187.76138306]\n",
      "  ..., \n",
      "  [ 193.20239258  130.20239258   49.20239258]\n",
      "  [ 193.32273865  131.35734558   50.07832336]\n",
      "  [ 193.59924316  133.40011597   51.79836655]]\n",
      "\n",
      " ..., \n",
      " [[  30.40270996   95.60406494   73.        ]\n",
      "  [  24.33149338   90.33149719   65.33148956]\n",
      "  [  25.81818771   92.61982727   66.01654816]\n",
      "  ..., \n",
      "  [ 111.7906189   113.83344269  101.38998413]\n",
      "  [ 111.95821381  111.75978851   99.67402649]\n",
      "  [ 102.3445816   101.3445816    90.53916168]]\n",
      "\n",
      " [[  45.38464355  110.38464355   88.38464355]\n",
      "  [  37.14153671  103.06173706   78.06173706]\n",
      "  [  40.90952301  106.06838989   80.26674652]\n",
      "  ..., \n",
      "  [ 102.66201782  105.15068817   99.33989716]\n",
      "  [ 111.39302826  110.51807404  105.67247772]\n",
      "  [ 111.47977448  108.44025421  104.23664093]]\n",
      "\n",
      " [[  45.21038818  110.21038818   88.21038818]\n",
      "  [  45.05118942  110.29113007   85.29113007]\n",
      "  [  51.45011902  116.45011902   90.64847565]\n",
      "  ..., \n",
      "  [  62.30698395   64.67580414   63.51041412]\n",
      "  [  73.23504639   72.19621277   71.79576111]\n",
      "  [  92.07836151   88.52059937   88.47942352]]]\n",
      "hi: [[[  0.00000000e+00   0.00000000e+00   0.00000000e+00]\n",
      "  [  0.00000000e+00   0.00000000e+00   0.00000000e+00]\n",
      "  [ -6.85775757e-01  -6.85775757e-01  -6.85775757e-01]\n",
      "  ..., \n",
      "  [ -6.23794556e-01  -3.40591431e-01  -3.11927795e-01]\n",
      "  [ -6.10351562e-05  -6.10351562e-05  -6.48498535e-05]\n",
      "  [  4.00756836e-01   4.00756836e-01   4.00756836e-01]]\n",
      "\n",
      " [[ -8.57818604e-01  -8.57818604e-01  -8.57818604e-01]\n",
      "  [ -6.53686523e-01  -6.53686523e-01  -6.53686523e-01]\n",
      "  [ -1.25764465e+00  -1.25764465e+00  -1.25764465e+00]\n",
      "  ..., \n",
      "  [ -6.32003784e-01  -5.45547485e-01  -4.27474976e-02]\n",
      "  [ -1.87957764e-01  -2.85995483e-01  -8.99276733e-02]\n",
      "  [  1.14822388e-01   1.14822388e-01   1.14818573e-01]]\n",
      "\n",
      " [[  0.00000000e+00   0.00000000e+00   0.00000000e+00]\n",
      "  [ -7.75665283e-01  -7.75665283e-01  -7.75665283e-01]\n",
      "  [ -1.25396729e+00  -1.25396729e+00  -1.25396729e+00]\n",
      "  ..., \n",
      "  [ -1.35043335e+00   1.29974365e-01  -9.43233490e-01]\n",
      "  [  2.15438843e-01   1.17492676e-01   9.01172638e-01]\n",
      "  [  7.43637085e-01   4.00756836e-01   1.08650589e+00]]\n",
      "\n",
      " ..., \n",
      " [[ -1.25448990e+00  -1.28311920e+00  -1.19723511e+00]\n",
      "  [ -4.59045410e+00  -4.26364136e+00  -5.09746552e+00]\n",
      "  [ -3.79314423e+00  -3.49409485e+00  -3.10245514e+00]\n",
      "  ..., \n",
      "  [  8.59053040e+00   8.91559601e+00   8.91505432e+00]\n",
      "  [ -7.33757019e-01  -1.82717896e+00  -1.37149811e+00]\n",
      "  [  3.81907654e+00   3.56861877e+00   3.71088409e+00]]\n",
      "\n",
      " [[  1.37150078e+01   1.37150040e+01   1.37150040e+01]\n",
      "  [  1.02993279e+01   1.09201355e+01   1.00617371e+01]\n",
      "  [  1.10799332e+01   1.07468567e+01   1.10897522e+01]\n",
      "  ..., \n",
      "  [ -3.15742493e+00  -4.66861725e+00  -3.24459839e+00]\n",
      "  [  4.24040222e+00   4.56374359e+00   5.59243774e+00]\n",
      "  [  1.26152878e+01   1.19511795e+01   1.27744217e+01]]\n",
      "\n",
      " [[ -9.21038818e+00  -9.21038818e+00  -9.21038818e+00]\n",
      "  [ -9.09674072e+00  -9.26802826e+00  -1.01264267e+01]\n",
      "  [ -3.78823090e+00  -3.92554474e+00  -3.58264923e+00]\n",
      "  ..., \n",
      "  [ -9.68761444e+00  -9.13130951e+00  -8.62254333e+00]\n",
      "  [ -1.50184250e+01  -1.45381012e+01  -1.43432465e+01]\n",
      "  [ -2.07836151e+00  -3.52059937e+00  -2.47942352e+00]]]\n",
      "hw: (457, 731)\n",
      "lo: [[[ 148.          174.          190.        ]\n",
      "  [ 146.68023682  172.68023682  188.68023682]\n",
      "  [ 146.96047974  172.96047974  188.96047974]\n",
      "  ..., \n",
      "  [ 195.88343811  132.48190308   51.4794426 ]\n",
      "  [ 193.60394287  131.00238037   50.84031296]\n",
      "  [ 192.03837585  131.03837585   51.03836823]]\n",
      "\n",
      " [[ 146.9631958   172.9631958   188.9631958 ]\n",
      "  [ 145.22059631  171.22059631  187.22059631]\n",
      "  [ 145.89170837  171.89170837  187.89170837]\n",
      "  ..., \n",
      "  [ 194.49423218  131.44816589   49.37910843]\n",
      "  [ 193.2698822   130.62928772   49.64961243]\n",
      "  [ 192.78375244  131.89828491   51.15280151]]\n",
      "\n",
      " [[ 148.60279846  174.60279846  190.60279846]\n",
      "  [ 145.56498718  171.56498718  187.56498718]\n",
      "  [ 145.74458313  171.74458313  187.74458313]\n",
      "  ..., \n",
      "  [ 194.97612     131.71810913   47.72110748]\n",
      "  [ 193.90611267  131.62237549   48.58405685]\n",
      "  [ 194.56159973  132.82633972   51.01755905]]\n",
      "\n",
      " ..., \n",
      " [[  31.10646439   97.31335449   71.90047455]\n",
      "  [  31.36094856   97.97584534   71.48414612]\n",
      "  [  26.01622772   93.60901642   64.80277252]\n",
      "  ..., \n",
      "  [ 115.76883698  117.48245239  101.23188019]\n",
      "  [ 124.56504822  125.08094788  109.68055725]\n",
      "  [ 121.20750427  120.85339355  105.76652527]]\n",
      "\n",
      " [[  33.34395599   98.50578308   76.02030945]\n",
      "  [  27.62091827   93.80335999   68.22444153]\n",
      "  [  31.035532     97.68047333   70.50443268]\n",
      "  ..., \n",
      "  [ 103.22012329  109.11193085   96.6749649 ]\n",
      "  [ 110.3667984   112.00675964  100.96044159]\n",
      "  [ 107.22470856  106.25239563   96.28058624]]\n",
      "\n",
      " [[  45.28041458  110.28041077   88.28041077]\n",
      "  [  44.0113678   109.34471893   84.02375031]\n",
      "  [  47.1246109   112.84249878   84.87645721]\n",
      "  ..., \n",
      "  [  64.75806427   71.99291992   66.36564636]\n",
      "  [  80.52506256   82.26670074   79.4029541 ]\n",
      "  [  95.34815979   92.95018768   91.04697418]]]\n",
      "hi: [[[  0.00000000e+00   0.00000000e+00   0.00000000e+00]\n",
      "  [ -4.58389282e-01  -4.58389282e-01  -4.58389282e-01]\n",
      "  [  1.40380859e-03   1.40380859e-03   1.40380859e-03]\n",
      "  ..., \n",
      "  [  2.74139404e-01  -1.04827881e-02   6.87561035e-02]\n",
      "  [ -1.51026917e+00  -8.24539185e-01  -7.55142212e-01]\n",
      "  [  5.60867310e-01   5.60867310e-01   5.60874939e-01]]\n",
      "\n",
      " [[ -8.59954834e-01  -8.59954834e-01  -8.59954834e-01]\n",
      "  [ -1.50340271e+00  -1.50340271e+00  -1.50340271e+00]\n",
      "  [ -1.07675171e+00  -1.07675171e+00  -1.07675171e+00]\n",
      "  ..., \n",
      "  [  2.19085693e-01  -7.77282715e-02  -1.87583923e-01]\n",
      "  [ -1.63284302e+00  -6.60919189e-01  -6.79672241e-01]\n",
      "  [  4.29595947e-01   3.47885132e-01   8.79680634e-01]]\n",
      "\n",
      " [[  1.38061523e-01   1.38061523e-01   1.38061523e-01]\n",
      "  [  1.77139282e-01   1.77139282e-01   1.77139282e-01]\n",
      "  [  1.96273804e-01   1.96273804e-01   1.96273804e-01]\n",
      "  ..., \n",
      "  [ -5.03784180e-01  -9.23248291e-01   8.19015503e-02]\n",
      "  [ -2.19192505e-01  -4.05487061e-01  -2.03201294e-01]\n",
      "  [  5.68847656e-02   1.10583496e+00   7.03273773e-01]]\n",
      "\n",
      " ..., \n",
      " [[ -2.62789536e+00  -2.73472595e+00  -2.44334412e+00]\n",
      "  [ -5.21012878e+00  -5.18585205e+00  -5.28289032e+00]\n",
      "  [ -3.26332474e+00  -2.93362427e+00  -3.10328674e+00]\n",
      "  ..., \n",
      "  [  4.85069275e-01   5.01281738e-01  -9.90066528e-02]\n",
      "  [  1.41704559e+00   1.09034729e+00   1.07170105e-01]\n",
      "  [ -6.83834839e+00  -6.95261383e+00  -7.06988525e+00]]\n",
      "\n",
      " [[  5.19747925e+00   5.12842560e+00   5.33557892e+00]\n",
      "  [ -7.82283783e-01  -3.78585815e-01  -8.69293213e-01]\n",
      "  [  2.50381470e+00   1.78813171e+00   2.35862732e+00]\n",
      "  ..., \n",
      "  [  1.11234818e+01   1.12077255e+01   1.20619888e+01]\n",
      "  [  1.40417099e+01   1.34630203e+01   1.43955688e+01]\n",
      "  [  1.10639267e+01   9.81405640e+00   1.09565048e+01]]\n",
      "\n",
      " [[ -7.00263977e-02  -7.00225830e-02  -7.00225830e-02]\n",
      "  [  6.76990509e-01   6.78886414e-01   5.03616333e-02]\n",
      "  [  6.10572052e+00   5.60771942e+00   6.25961304e+00]\n",
      "  ..., \n",
      "  [ -1.59748611e+01  -1.61292191e+01  -1.40376816e+01]\n",
      "  [ -1.57664337e+01  -1.61797180e+01  -1.42656937e+01]\n",
      "  [ -3.26979828e+00  -4.42958832e+00  -2.56755066e+00]]]\n",
      "hw: (326, 522)\n",
      "lo: [[[ 148.          174.          190.        ]\n",
      "  [ 146.79324341  172.79324341  188.79324341]\n",
      "  [ 146.11836243  172.11836243  188.11836243]\n",
      "  ..., \n",
      "  [ 196.88461304  132.40179443   49.17352295]\n",
      "  [ 195.44226074  132.19555664   51.35574341]\n",
      "  [ 192.66970825  131.02386475   50.95849991]]\n",
      "\n",
      " [[ 147.6275177   173.6275177   189.6275177 ]\n",
      "  [ 145.55044556  171.55044556  187.55044556]\n",
      "  [ 145.55450439  171.55450439  187.55450439]\n",
      "  ..., \n",
      "  [ 195.15400696  130.87149048   45.98463821]\n",
      "  [ 194.46461487  131.45576477   48.80614471]\n",
      "  [ 193.51359558  131.77319336   50.33982849]]\n",
      "\n",
      " [[ 148.44631958  174.44631958  190.44631958]\n",
      "  [ 144.70591736  170.70591736  186.70591736]\n",
      "  [ 145.28379822  171.28379822  187.28379822]\n",
      "  ..., \n",
      "  [ 197.26339722  133.35844421   45.52577591]\n",
      "  [ 196.69447327  133.46954346   48.16227341]\n",
      "  [ 195.25236511  133.3261261    49.11001968]]\n",
      "\n",
      " ..., \n",
      " [[  24.45055389   94.52191162   62.00583267]\n",
      "  [  19.07941628   90.0490799    55.82879639]\n",
      "  [  14.65708542   88.14676666   49.67329788]\n",
      "  ..., \n",
      "  [ 125.9806366   121.95857239  110.01438141]\n",
      "  [ 142.1174469   140.67338562  129.17129517]\n",
      "  [ 103.5790863   103.46653748   92.67250061]]\n",
      "\n",
      " [[  31.53084183   97.53952026   72.68186951]\n",
      "  [  29.16636086   96.05413055   68.85713959]\n",
      "  [  30.3102951    98.81182861   67.20724487]\n",
      "  ..., \n",
      "  [ 100.55409241  104.23843384   87.18037415]\n",
      "  [ 115.03064728  117.19281006  101.84993744]\n",
      "  [ 119.89291382  119.90565491  105.60430145]]\n",
      "\n",
      " [[  40.44434357  105.50990295   83.31321716]\n",
      "  [  38.67533112  104.52047729   78.199646  ]\n",
      "  [  45.73310089  112.64942169   81.83036041]\n",
      "  ..., \n",
      "  [  53.76412964   64.21593475   54.67744446]\n",
      "  [  82.71665192   88.44153595   80.48251343]\n",
      "  [  97.1175766    96.71701813   91.13883209]]]\n",
      "hi: [[[  0.           0.           0.        ]\n",
      "  [ -0.45977783  -0.45977783  -0.45977783]\n",
      "  [  0.45425415   0.45425415   0.45425415]\n",
      "  ..., \n",
      "  [  0.24221802   0.25790405   0.42471313]\n",
      "  [ -0.24491882  -0.51979065  -0.28713226]\n",
      "  [ -0.6313324    0.01451111   0.07986832]]\n",
      "\n",
      " [[ -0.77172852  -0.77172852  -0.77172852]\n",
      "  [ -1.21295166  -1.21295166  -1.21295166]\n",
      "  [  0.06443787   0.06443787   0.06443787]\n",
      "  ..., \n",
      "  [ -0.37731934  -0.17175293   0.20157242]\n",
      "  [ -0.6282196   -0.97544861  -0.45313263]\n",
      "  [ -0.48651123   0.34115601   0.63458252]]\n",
      "\n",
      " [[  0.62867737   0.62867737   0.62867737]\n",
      "  [ -0.42715454  -0.42715454  -0.42715454]\n",
      "  [  0.4466095    0.4466095    0.4466095 ]\n",
      "  ..., \n",
      "  [ -0.52047729  -0.53715515  -0.43408203]\n",
      "  [ -0.83639526  -0.75616455  -0.68840027]\n",
      "  [  0.31196594   0.39576721   1.19832611]]\n",
      "\n",
      " ..., \n",
      " [[  0.53120613   0.18110657   0.65948486]\n",
      "  [  2.75990677   2.18948364   3.19507599]\n",
      "  [ -1.95576477  -2.53998566  -1.33571625]\n",
      "  ..., \n",
      "  [ -0.88975525  -0.98522949  -2.1984024 ]\n",
      "  [  6.45063782   6.25637817   5.10778809]\n",
      "  [  3.51637268   3.16642761   1.907547  ]]\n",
      "\n",
      " [[ -3.3272171   -3.63018036  -2.79255676]\n",
      "  [ -7.6099472   -7.47788239  -7.33307648]\n",
      "  [ -5.55148888  -5.74628448  -4.33387756]\n",
      "  ..., \n",
      "  [  9.9730835   11.1832428   10.05674744]\n",
      "  [  8.01557159   7.99183655   6.98773956]\n",
      "  [  0.46611786  -0.28058624  -0.98161316]]\n",
      "\n",
      " [[  4.83607101   4.77050781   4.9671936 ]\n",
      "  [  4.82770157   4.53992462   4.35469055]\n",
      "  [  5.4477005    4.86488342   5.13271332]\n",
      "  ..., \n",
      "  [-13.96489716 -13.10694885 -10.55732727]\n",
      "  [-10.46790314 -10.93080902  -7.20381927]\n",
      "  [ -1.76941681  -3.76683044  -0.09185791]]]\n",
      "D:/python_code/deep_dream/output1.jpg\n",
      "D:/python_code/deep_dream/output2.jpg\n",
      "D:/python_code/deep_dream/output3.jpg\n",
      "D:/python_code/deep_dream/output4.jpg\n"
     ]
    }
   ],
   "source": [
    "import tensorflow as tf\n",
    "import numpy as np\n",
    "import cv2\n",
    "import matplotlib.pyplot as plt\n",
    "%matplotlib inline\n",
    " \n",
    "inception_model = 'D:/python_code/tensorflow_inception_graph/tensorflow_inception_graph.pb'\n",
    "print (1)\n",
    "# 加载inception模型\n",
    "graph = tf.Graph()\n",
    "sess = tf.InteractiveSession(graph=graph)\n",
    " \n",
    "X = tf.placeholder(np.float32, name='input')\n",
    "with tf.gfile.FastGFile(inception_model, 'rb') as f:\n",
    "\tgraph_def = tf.GraphDef()\n",
    "\tgraph_def.ParseFromString(f.read())\n",
    "imagenet_mean = 117.0\n",
    "preprocessed = tf.expand_dims(X-imagenet_mean, 0)\n",
    "tf.import_graph_def(graph_def, {'input':preprocessed})\n",
    " \n",
    "layers = [op.name for op in graph.get_operations() if op.type=='Conv2D' and 'import/' in op.name]\n",
    "feature_nums = [int(graph.get_tensor_by_name(name+':0').get_shape()[-1]) for name in layers]\n",
    " \n",
    "print('layers:', len(layers))   # 59\n",
    "print('feature:', sum(feature_nums))  # 7548\n",
    " \n",
    "# deep dream\n",
    "def deep_dream(obj, img_noise=np.random.uniform(size=(224,224,3)) + 100.0, iter_n=10, step=1.5, octave_n=4, octave_scale=1.4):\n",
    "\tscore = tf.reduce_mean(obj)\n",
    "\tgradi = tf.gradients(score, X)[0]\n",
    "\n",
    "    \n",
    " \n",
    "\timg = img_noise\n",
    "\toctaves = []\n",
    " \n",
    "\tdef tffunc(*argtypes):\n",
    "\t\tplaceholders = list(map(tf.placeholder, argtypes))\n",
    "\t\tdef wrap(f):\n",
    "\t\t\tout = f(*placeholders)\n",
    "\t\t\tdef wrapper(*args, **kw):\n",
    "\t\t\t\treturn out.eval(dict(zip(placeholders, args)), session=kw.get('session'))\n",
    "\t\t\treturn wrapper\n",
    "\t\treturn wrap\n",
    "\tdef resize(img, size):\n",
    "\t\timg = tf.expand_dims(img, 0)\n",
    "\t\treturn tf.image.resize_bilinear(img, size)[0,:,:,:]\n",
    " \n",
    "\tresize = tffunc(np.float32, np.int32)(resize)\n",
    "\n",
    "\tfor _ in range(octave_n-1):\n",
    "\t\thw = img.shape[:2]\n",
    "\t\tprint ('hw:',hw)\n",
    "\t\tlo = resize(img, np.int32(np.float32(hw)/octave_scale))\n",
    "\t\tprint ('lo:',lo)\n",
    "\t\thi = img-resize(lo, hw)\n",
    "\t\tprint ('hi:',hi)\n",
    "\t\timg = lo\n",
    "\t\toctaves.append(hi)\n",
    " \n",
    "\tdef calc_grad_tiled(img, t_grad, tile_size=512):\n",
    "\t\tsz = tile_size\n",
    "\t\th, w = img.shape[:2]\n",
    "\t\tsx, sy = np.random.randint(sz, size=2)\n",
    "\t\timg_shift = np.roll(np.roll(img, sx, 1), sy, 0)\n",
    "\t\tgrad = np.zeros_like(img)\n",
    "\t\tfor y in range(0, max(h-sz//2, sz),sz):\n",
    "\t\t\tfor x in range(0, max(w-sz//2, sz),sz):\n",
    "\t\t\t\tsub = img_shift[y:y+sz,x:x+sz]\n",
    "\t\t\t\tg = sess.run(t_grad, {X:sub})\n",
    "\t\t\t\tgrad[y:y+sz,x:x+sz] = g\n",
    "\t\treturn np.roll(np.roll(grad, -sx, 1), -sy, 0)   \n",
    " \n",
    "\tfor octave in range(octave_n):\n",
    "\t\tif octave>0:\n",
    "\t\t\thi = octaves[-octave]\n",
    "\t\t\timg = resize(img, hi.shape[:2])+hi\n",
    "\t\tfor _ in range(iter_n):\n",
    "\t\t\tg = calc_grad_tiled(img, gradi)\n",
    "\t\t\timg += g*(step / (np.abs(g).mean()+1e-7))\n",
    " \n",
    "\t\t# 保存图像\n",
    "\t\toutput_file = 'D:/python_code/deep_dream/output' + str(octave+1) + '.jpg'\n",
    "\t\tcv2.imwrite(output_file, img)\n",
    "\t\tprint(output_file)\n",
    "\n",
    " \n",
    "# 加载输入图像\n",
    "input_img = cv2.imread('D:/python_code/image/input.jpg')\n",
    "input_img = np.float32(input_img)\n",
    "print (input_img.shape)\n",
    "\n",
    " \n",
    "# 选择层\n",
    "layer = 'mixed4c'\n",
    " \n",
    "deep_dream(tf.square(graph.get_tensor_by_name(\"import/%s:0\"%layer)), input_img)"
   ]
  },
  {
   "cell_type": "code",
   "execution_count": 16,
   "metadata": {
    "collapsed": false
   },
   "outputs": [
    {
     "name": "stdout",
     "output_type": "stream",
     "text": [
      "['import/conv2d0_pre_relu/conv', 'import/conv2d1_pre_relu/conv', 'import/conv2d2_pre_relu/conv', 'import/mixed3a_1x1_pre_relu/conv', 'import/mixed3a_3x3_bottleneck_pre_relu/conv', 'import/mixed3a_3x3_pre_relu/conv', 'import/mixed3a_5x5_bottleneck_pre_relu/conv', 'import/mixed3a_5x5_pre_relu/conv', 'import/mixed3a_pool_reduce_pre_relu/conv', 'import/mixed3b_1x1_pre_relu/conv', 'import/mixed3b_3x3_bottleneck_pre_relu/conv', 'import/mixed3b_3x3_pre_relu/conv', 'import/mixed3b_5x5_bottleneck_pre_relu/conv', 'import/mixed3b_5x5_pre_relu/conv', 'import/mixed3b_pool_reduce_pre_relu/conv', 'import/mixed4a_1x1_pre_relu/conv', 'import/mixed4a_3x3_bottleneck_pre_relu/conv', 'import/mixed4a_3x3_pre_relu/conv', 'import/mixed4a_5x5_bottleneck_pre_relu/conv', 'import/mixed4a_5x5_pre_relu/conv', 'import/mixed4a_pool_reduce_pre_relu/conv', 'import/mixed4b_1x1_pre_relu/conv', 'import/mixed4b_3x3_bottleneck_pre_relu/conv', 'import/mixed4b_3x3_pre_relu/conv', 'import/mixed4b_5x5_bottleneck_pre_relu/conv', 'import/mixed4b_5x5_pre_relu/conv', 'import/mixed4b_pool_reduce_pre_relu/conv', 'import/mixed4c_1x1_pre_relu/conv', 'import/mixed4c_3x3_bottleneck_pre_relu/conv', 'import/mixed4c_3x3_pre_relu/conv', 'import/mixed4c_5x5_bottleneck_pre_relu/conv', 'import/mixed4c_5x5_pre_relu/conv', 'import/mixed4c_pool_reduce_pre_relu/conv', 'import/mixed4d_1x1_pre_relu/conv', 'import/mixed4d_3x3_bottleneck_pre_relu/conv', 'import/mixed4d_3x3_pre_relu/conv', 'import/mixed4d_5x5_bottleneck_pre_relu/conv', 'import/mixed4d_5x5_pre_relu/conv', 'import/mixed4d_pool_reduce_pre_relu/conv', 'import/mixed4e_1x1_pre_relu/conv', 'import/mixed4e_3x3_bottleneck_pre_relu/conv', 'import/mixed4e_3x3_pre_relu/conv', 'import/mixed4e_5x5_bottleneck_pre_relu/conv', 'import/mixed4e_5x5_pre_relu/conv', 'import/mixed4e_pool_reduce_pre_relu/conv', 'import/mixed5a_1x1_pre_relu/conv', 'import/mixed5a_3x3_bottleneck_pre_relu/conv', 'import/mixed5a_3x3_pre_relu/conv', 'import/mixed5a_5x5_bottleneck_pre_relu/conv', 'import/mixed5a_5x5_pre_relu/conv', 'import/mixed5a_pool_reduce_pre_relu/conv', 'import/mixed5b_1x1_pre_relu/conv', 'import/mixed5b_3x3_bottleneck_pre_relu/conv', 'import/mixed5b_3x3_pre_relu/conv', 'import/mixed5b_5x5_bottleneck_pre_relu/conv', 'import/mixed5b_5x5_pre_relu/conv', 'import/mixed5b_pool_reduce_pre_relu/conv', 'import/head0_bottleneck_pre_relu/conv', 'import/head1_bottleneck_pre_relu/conv']\n"
     ]
    }
   ],
   "source": [
    "print (layers)"
   ]
  },
  {
   "cell_type": "code",
   "execution_count": 17,
   "metadata": {
    "collapsed": false
   },
   "outputs": [
    {
     "data": {
      "text/plain": [
       "676"
      ]
     },
     "execution_count": 17,
     "metadata": {},
     "output_type": "execute_result"
    }
   ],
   "source": [
    "lay=[op.name for op in graph.get_operations()]\n",
    "len(lay)"
   ]
  },
  {
   "cell_type": "code",
   "execution_count": 19,
   "metadata": {
    "collapsed": false
   },
   "outputs": [
    {
     "data": {
      "text/plain": [
       "[64, 64, 192, 64, 96, 128, 16, 32, 32, 128]"
      ]
     },
     "execution_count": 19,
     "metadata": {},
     "output_type": "execute_result"
    }
   ],
   "source": [
    "feature_nums[0:10]"
   ]
  },
  {
   "cell_type": "code",
   "execution_count": 20,
   "metadata": {
    "collapsed": true
   },
   "outputs": [],
   "source": [
    "fea=[graph.get_tensor_by_name(name+':0') for name in layers]"
   ]
  },
  {
   "cell_type": "code",
   "execution_count": 21,
   "metadata": {
    "collapsed": false
   },
   "outputs": [
    {
     "data": {
      "text/plain": [
       "<tf.Tensor 'import/conv2d0_pre_relu/conv:0' shape=(?, ?, ?, 64) dtype=float32>"
      ]
     },
     "execution_count": 21,
     "metadata": {},
     "output_type": "execute_result"
    }
   ],
   "source": [
    "fea[0]"
   ]
  },
  {
   "cell_type": "code",
   "execution_count": 22,
   "metadata": {
    "collapsed": false
   },
   "outputs": [
    {
     "data": {
      "text/plain": [
       "<tf.Tensor 'import/conv2d1_pre_relu/conv:0' shape=(?, ?, ?, 64) dtype=float32>"
      ]
     },
     "execution_count": 22,
     "metadata": {},
     "output_type": "execute_result"
    }
   ],
   "source": [
    "fea[1]"
   ]
  },
  {
   "cell_type": "code",
   "execution_count": 23,
   "metadata": {
    "collapsed": false
   },
   "outputs": [
    {
     "data": {
      "text/plain": [
       "<tf.Tensor 'import/conv2d2_pre_relu/conv:0' shape=(?, ?, ?, 192) dtype=float32>"
      ]
     },
     "execution_count": 23,
     "metadata": {},
     "output_type": "execute_result"
    }
   ],
   "source": [
    "fea[2]"
   ]
  },
  {
   "cell_type": "code",
   "execution_count": 24,
   "metadata": {
    "collapsed": false
   },
   "outputs": [
    {
     "data": {
      "text/plain": [
       "<tf.Tensor 'import/mixed4c:0' shape=(?, ?, ?, 512) dtype=float32>"
      ]
     },
     "execution_count": 24,
     "metadata": {},
     "output_type": "execute_result"
    }
   ],
   "source": [
    "graph.get_tensor_by_name(\"import/%s:0\"%layer)"
   ]
  },
  {
   "cell_type": "code",
   "execution_count": 25,
   "metadata": {
    "collapsed": false
   },
   "outputs": [
    {
     "data": {
      "text/plain": [
       "<tf.Tensor 'Square_1:0' shape=(?, ?, ?, 512) dtype=float32>"
      ]
     },
     "execution_count": 25,
     "metadata": {},
     "output_type": "execute_result"
    }
   ],
   "source": [
    "tf.square(graph.get_tensor_by_name(\"import/%s:0\"%layer))"
   ]
  },
  {
   "cell_type": "code",
   "execution_count": 26,
   "metadata": {
    "collapsed": false
   },
   "outputs": [
    {
     "data": {
      "text/plain": [
       "<tf.Tensor 'Mean_1:0' shape=() dtype=float32>"
      ]
     },
     "execution_count": 26,
     "metadata": {},
     "output_type": "execute_result"
    }
   ],
   "source": [
    "tf.reduce_mean(tf.square(graph.get_tensor_by_name(\"import/%s:0\"%layer)))"
   ]
  },
  {
   "cell_type": "code",
   "execution_count": null,
   "metadata": {
    "collapsed": true
   },
   "outputs": [],
   "source": []
  }
 ],
 "metadata": {
  "anaconda-cloud": {},
  "kernelspec": {
   "display_name": "Python [Root]",
   "language": "python",
   "name": "Python [Root]"
  },
  "language_info": {
   "codemirror_mode": {
    "name": "ipython",
    "version": 3
   },
   "file_extension": ".py",
   "mimetype": "text/x-python",
   "name": "python",
   "nbconvert_exporter": "python",
   "pygments_lexer": "ipython3",
   "version": "3.5.1"
  }
 },
 "nbformat": 4,
 "nbformat_minor": 0
}
