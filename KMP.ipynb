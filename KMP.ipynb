{
 "cells": [
  {
   "cell_type": "code",
   "execution_count": 27,
   "metadata": {
    "collapsed": true
   },
   "outputs": [],
   "source": [
    "def partial_table(p):\n",
    "    prefix=set()\n",
    "    postfix=set()\n",
    "    ret=[0]\n",
    "    for i in range(1,len(p)):\n",
    "        prefix.add(p[:i])\n",
    "        print (prefix)\n",
    "        postfix={p[j:i+1] for j in range(1,i+1)}\n",
    "        print (postfix)\n",
    "        ret.append(len((prefix&postfix or {''}).pop()))\n",
    "        print (prefix&postfix or {''})\n",
    "    return ret"
   ]
  },
  {
   "cell_type": "code",
   "execution_count": 1,
   "metadata": {
    "collapsed": false
   },
   "outputs": [
    {
     "data": {
      "text/plain": [
       "[1]"
      ]
     },
     "execution_count": 1,
     "metadata": {},
     "output_type": "execute_result"
    }
   ],
   "source": [
    "p=[1,2,3]\n",
    "i=1;\n",
    "p[:1]"
   ]
  },
  {
   "cell_type": "code",
   "execution_count": 7,
   "metadata": {
    "collapsed": false
   },
   "outputs": [
    {
     "data": {
      "text/plain": [
       "[[2]]"
      ]
     },
     "execution_count": 7,
     "metadata": {},
     "output_type": "execute_result"
    }
   ],
   "source": [
    "postfix=set()\n",
    "postfix=[p[j:2] for j in range(1,2)]\n",
    "postfix"
   ]
  },
  {
   "cell_type": "code",
   "execution_count": 28,
   "metadata": {
    "collapsed": false
   },
   "outputs": [
    {
     "name": "stdout",
     "output_type": "stream",
     "text": [
      "{'A'}\n",
      "{'B'}\n",
      "{''}\n",
      "{'AB', 'A'}\n",
      "{'BC', 'C'}\n",
      "{''}\n",
      "{'ABC', 'AB', 'A'}\n",
      "{'BCD', 'CD', 'D'}\n",
      "{''}\n",
      "{'ABCD', 'ABC', 'AB', 'A'}\n",
      "{'DA', 'A', 'CDA', 'BCDA'}\n",
      "{'A'}\n",
      "{'ABCD', 'ABC', 'AB', 'A', 'ABCDA'}\n",
      "{'AB', 'BCDAB', 'CDAB', 'B', 'DAB'}\n",
      "{'AB'}\n",
      "{'ABCDAB', 'ABC', 'AB', 'ABCDA', 'ABCD', 'A'}\n",
      "{'BCDABD', 'D', 'ABD', 'CDABD', 'BD', 'DABD'}\n",
      "{''}\n"
     ]
    }
   ],
   "source": [
    "ret=partial_table(\"ABCDABD\")"
   ]
  },
  {
   "cell_type": "code",
   "execution_count": 24,
   "metadata": {
    "collapsed": false
   },
   "outputs": [
    {
     "name": "stdout",
     "output_type": "stream",
     "text": [
      "[0, 0, 0, 0, 1, 2, 0]\n"
     ]
    }
   ],
   "source": [
    "print (ret)"
   ]
  },
  {
   "cell_type": "code",
   "execution_count": 20,
   "metadata": {
    "collapsed": false
   },
   "outputs": [
    {
     "data": {
      "text/plain": [
       "str"
      ]
     },
     "execution_count": 20,
     "metadata": {},
     "output_type": "execute_result"
    }
   ],
   "source": [
    "a=\"sdf\"\n",
    "type (a)"
   ]
  },
  {
   "cell_type": "code",
   "execution_count": 21,
   "metadata": {
    "collapsed": false
   },
   "outputs": [
    {
     "data": {
      "text/plain": [
       "'sd'"
      ]
     },
     "execution_count": 21,
     "metadata": {},
     "output_type": "execute_result"
    }
   ],
   "source": [
    "a[:2]"
   ]
  },
  {
   "cell_type": "code",
   "execution_count": 23,
   "metadata": {
    "collapsed": false
   },
   "outputs": [
    {
     "data": {
      "text/plain": [
       "{'df'}"
      ]
     },
     "execution_count": 23,
     "metadata": {},
     "output_type": "execute_result"
    }
   ],
   "source": [
    "{a[1:2+1] for j in range(1,2+1)}"
   ]
  },
  {
   "cell_type": "code",
   "execution_count": 30,
   "metadata": {
    "collapsed": true
   },
   "outputs": [],
   "source": [
    "def kmp_match(s,p):\n",
    "    m=len(s)\n",
    "    n=len(p)\n",
    "    cur=0\n",
    "    table=partial_table(p)\n",
    "    while cur<=m-n:\n",
    "        for i in range(n):\n",
    "            if s[i+cur]!=p[i]:\n",
    "                cur+=max(i-table[i-1],1)\n",
    "                break\n",
    "            else:\n",
    "                return True\n",
    "    return False\n",
    "        "
   ]
  },
  {
   "cell_type": "code",
   "execution_count": 31,
   "metadata": {
    "collapsed": false
   },
   "outputs": [
    {
     "name": "stdout",
     "output_type": "stream",
     "text": [
      "{'A'}\n",
      "{'B'}\n",
      "{''}\n",
      "{'AB', 'A'}\n",
      "{'BC', 'C'}\n",
      "{''}\n",
      "{'ABC', 'AB', 'A'}\n",
      "{'BCD', 'CD', 'D'}\n",
      "{''}\n",
      "{'ABCD', 'ABC', 'AB', 'A'}\n",
      "{'DA', 'A', 'CDA', 'BCDA'}\n",
      "{'A'}\n",
      "{'ABCD', 'ABC', 'AB', 'A', 'ABCDA'}\n",
      "{'AB', 'BCDAB', 'CDAB', 'B', 'DAB'}\n",
      "{'AB'}\n",
      "{'ABCDAB', 'ABC', 'AB', 'ABCDA', 'ABCD', 'A'}\n",
      "{'BCDABD', 'D', 'ABD', 'CDABD', 'BD', 'DABD'}\n",
      "{''}\n"
     ]
    },
    {
     "data": {
      "text/plain": [
       "True"
      ]
     },
     "execution_count": 31,
     "metadata": {},
     "output_type": "execute_result"
    }
   ],
   "source": [
    "s=\"BBC ABCDAB ABCDABCDABDE\"\n",
    "p=\"ABCDABD\"\n",
    "kmp_match(s,p)"
   ]
  },
  {
   "cell_type": "code",
   "execution_count": null,
   "metadata": {
    "collapsed": true
   },
   "outputs": [],
   "source": []
  }
 ],
 "metadata": {
  "anaconda-cloud": {},
  "kernelspec": {
   "display_name": "Python [Root]",
   "language": "python",
   "name": "Python [Root]"
  },
  "language_info": {
   "codemirror_mode": {
    "name": "ipython",
    "version": 3
   },
   "file_extension": ".py",
   "mimetype": "text/x-python",
   "name": "python",
   "nbconvert_exporter": "python",
   "pygments_lexer": "ipython3",
   "version": "3.5.1"
  }
 },
 "nbformat": 4,
 "nbformat_minor": 0
}
