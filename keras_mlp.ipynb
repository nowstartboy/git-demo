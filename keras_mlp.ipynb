{
 "cells": [
  {
   "cell_type": "code",
   "execution_count": 1,
   "metadata": {
    "collapsed": false
   },
   "outputs": [
    {
     "name": "stderr",
     "output_type": "stream",
     "text": [
      "Using TensorFlow backend.\n"
     ]
    }
   ],
   "source": [
    "from keras.models import Sequential\n",
    "from keras.layers.core import Dense, Dropout, Activation,Flatten\n",
    "from keras.optimizers import SGD"
   ]
  },
  {
   "cell_type": "code",
   "execution_count": 4,
   "metadata": {
    "collapsed": true
   },
   "outputs": [],
   "source": [
    "#coding:utf-8\n",
    "\"\"\"\n",
    "Author:wepon\n",
    "Source:https://github.com/wepe\n",
    "file:data.py\n",
    "\"\"\"\n",
    "\n",
    "import os\n",
    "from PIL import Image\n",
    "import numpy as np\n",
    "\n",
    "#读取文件夹mnist下的42000张图片，图片为灰度图，所以为1通道，\n",
    "#如果是将彩色图作为输入,则将1替换为3，并且data[i,:,:,:] = arr改为data[i,:,:,:] = [arr[:,:,0],arr[:,:,1],arr[:,:,2]]\n",
    "def load_data():\n",
    "    data = np.empty((42000,1,28,28),dtype=\"float32\") #42000个一通道的数组，数组格式为28*28\n",
    "    label = np.empty((42000,),dtype=\"uint8\")\n",
    "\n",
    "    imgs = os.listdir(\"E:/machine_data/mnist\")   #os.listdir获取目录的内容\n",
    "    num = len(imgs)\n",
    "    for i in range(num):\n",
    "        img = Image.open(\"E:/machine_data/mnist/\"+imgs[i])\n",
    "        arr = np.asarray(img,dtype=\"float32\")  #将输入数据（列表的列表，元组的元组，元组的列表等）转换为矩阵形式\n",
    "        data[i,:,:,:] = arr\n",
    "        label[i] = int(imgs[i].split('.')[0])\n",
    "    return data,label"
   ]
  },
  {
   "cell_type": "code",
   "execution_count": 5,
   "metadata": {
    "collapsed": true
   },
   "outputs": [],
   "source": [
    "from keras.utils import np_utils, generic_utils"
   ]
  },
  {
   "cell_type": "code",
   "execution_count": 21,
   "metadata": {
    "collapsed": false
   },
   "outputs": [
    {
     "name": "stdout",
     "output_type": "stream",
     "text": [
      "(42000, 1, 28, 28)  samples\n",
      "[[ 1.  0.  0.  0.  0.  0.  0.  0.  0.  0.]\n",
      " [ 1.  0.  0.  0.  0.  0.  0.  0.  0.  0.]]\n"
     ]
    }
   ],
   "source": [
    "#加载数据\n",
    "data, label = load_data()\n",
    "print(data.shape, ' samples')\n",
    "\n",
    "#label为0~9共10个类别，keras要求格式为binary class matrices,转化一下，直接调用keras提供的这个函数\n",
    "label1 = np_utils.to_categorical(label, 10)\n",
    "print (label1[1:3])"
   ]
  },
  {
   "cell_type": "code",
   "execution_count": 22,
   "metadata": {
    "collapsed": true
   },
   "outputs": [],
   "source": [
    "X_train=data\n",
    "Y_train=label1"
   ]
  },
  {
   "cell_type": "code",
   "execution_count": 23,
   "metadata": {
    "collapsed": false
   },
   "outputs": [
    {
     "data": {
      "text/plain": [
       "(42000, 28, 28)"
      ]
     },
     "execution_count": 23,
     "metadata": {},
     "output_type": "execute_result"
    }
   ],
   "source": [
    "X_train[:,0,:,:].shape"
   ]
  },
  {
   "cell_type": "code",
   "execution_count": 24,
   "metadata": {
    "collapsed": false
   },
   "outputs": [],
   "source": [
    "X_train = X_train[:,0,:,:].reshape(42000, 784)"
   ]
  },
  {
   "cell_type": "code",
   "execution_count": 25,
   "metadata": {
    "collapsed": false
   },
   "outputs": [
    {
     "data": {
      "text/plain": [
       "(42000, 784)"
      ]
     },
     "execution_count": 25,
     "metadata": {},
     "output_type": "execute_result"
    }
   ],
   "source": [
    "X_train.shape"
   ]
  },
  {
   "cell_type": "code",
   "execution_count": null,
   "metadata": {
    "collapsed": true
   },
   "outputs": [],
   "source": [
    "\n",
    "model = Sequential()\n",
    "# Dense(64) is a fully-connected layer with 64 hidden units.\n",
    "# in the first layer, you must specify the expected input data shape:\n",
    "# here, 784-dimensional vectors.\n",
    "model.add(Dense(512, input_shape=(784,)))   # 全连接层， 64个神经元\n",
    "model.add(Activation('tanh'))\n",
    "model.add(Dropout(0.5))\n",
    "model.add(Dense(512))\n",
    "model.add(Activation('tanh'))\n",
    "model.add(Dropout(0.5))\n",
    "model.add(Dense(10))\n",
    "model.add(Activation('softmax'))         # 最后一个全连接层用 softmax当激活函数\n",
    "\n",
    "sgd = SGD(lr=0.05, decay=1e-6, momentum=0.9, nesterov=False)  # 用随机梯度下降优化，nesterov？？？？？\n",
    "model.compile(loss='categorical_crossentropy', optimizer=sgd ,metrics=['accuracy'])\n",
    "#model.compile(loss='categorical_crossentropy',optimizer=RMSprop(),metrics=['accuracy'])\n",
    "\n",
    "model.fit(X_train, Y_train, nb_epoch=20, batch_size=200,shuffle=True,verbose=1)\n",
    "#score = model.evaluate(X_test, Y_test, batch_size=16)"
   ]
  },
  {
   "cell_type": "code",
   "execution_count": 79,
   "metadata": {
    "collapsed": false
   },
   "outputs": [
    {
     "name": "stdout",
     "output_type": "stream",
     "text": [
      "Test score: 0.0899575967312\n",
      "Test accuracy: 0.1135\n"
     ]
    }
   ],
   "source": [
    "# 输出训练好的模型在测试集上的表现\n",
    "print('Test score:', score[0])\n",
    "print('Test accuracy:', score[1])"
   ]
  },
  {
   "cell_type": "code",
   "execution_count": 34,
   "metadata": {
    "collapsed": false
   },
   "outputs": [
    {
     "name": "stdout",
     "output_type": "stream",
     "text": [
      "____________________________________________________________________________________________________\n",
      "Layer (type)                     Output Shape          Param #     Connected to                     \n",
      "====================================================================================================\n",
      "dense_22 (Dense)                 (None, 512)           401920      dense_input_8[0][0]              \n",
      "____________________________________________________________________________________________________\n",
      "activation_22 (Activation)       (None, 512)           0           dense_22[0][0]                   \n",
      "____________________________________________________________________________________________________\n",
      "dropout_15 (Dropout)             (None, 512)           0           activation_22[0][0]              \n",
      "____________________________________________________________________________________________________\n",
      "dense_23 (Dense)                 (None, 256)           131328      dropout_15[0][0]                 \n",
      "____________________________________________________________________________________________________\n",
      "activation_23 (Activation)       (None, 256)           0           dense_23[0][0]                   \n",
      "____________________________________________________________________________________________________\n",
      "dropout_16 (Dropout)             (None, 256)           0           activation_23[0][0]              \n",
      "____________________________________________________________________________________________________\n",
      "dense_24 (Dense)                 (None, 10)            2570        dropout_16[0][0]                 \n",
      "____________________________________________________________________________________________________\n",
      "activation_24 (Activation)       (None, 10)            0           dense_24[0][0]                   \n",
      "====================================================================================================\n",
      "Total params: 535,818\n",
      "Trainable params: 535,818\n",
      "Non-trainable params: 0\n",
      "____________________________________________________________________________________________________\n"
     ]
    }
   ],
   "source": [
    "model.summary()"
   ]
  },
  {
   "cell_type": "markdown",
   "metadata": {
    "collapsed": true
   },
   "source": [
    "## 某博客中的例子"
   ]
  },
  {
   "cell_type": "code",
   "execution_count": 41,
   "metadata": {
    "collapsed": true
   },
   "outputs": [],
   "source": [
    "from __future__ import print_function\n",
    "# 导入numpy库， numpy是一个常用的科学计算库，优化矩阵的运算\n",
    "import numpy as np\n",
    "np.random.seed(1337)\n",
    "\n",
    "# 导入mnist数据库， mnist是常用的手写数字库\n",
    "from keras.datasets import mnist\n",
    "# 导入顺序模型\n",
    "from keras.models import Sequential\n",
    "# 导入全连接层Dense， 激活层Activation 以及 Dropout层\n",
    "from keras.layers.core import Dense, Dropout, Activation\n",
    "# 导入优化器RMSProp\n",
    "from keras.optimizers import RMSprop\n",
    "# 导入numpy工具，主要是用to_categorical来转换类别向量\n",
    "from keras.utils import np_utils"
   ]
  },
  {
   "cell_type": "code",
   "execution_count": 42,
   "metadata": {
    "collapsed": true
   },
   "outputs": [],
   "source": [
    "# 设置batch的大小\n",
    "batch_size = 128\n",
    "# 设置类别的个数\n",
    "nb_classes = 10\n",
    "# 设置迭代的次数\n",
    "nb_epoch = 20"
   ]
  },
  {
   "cell_type": "code",
   "execution_count": 31,
   "metadata": {
    "collapsed": false
   },
   "outputs": [
    {
     "name": "stdout",
     "output_type": "stream",
     "text": [
      "Downloading data from https://s3.amazonaws.com/img-datasets/mnist.pkl.gz\n",
      "15269888/15296311 [============================>.] - ETA: 0s"
     ]
    }
   ],
   "source": [
    "# keras中的mnist数据集已经被划分成了60,000个训练集，10,000个测试集的形式，按以下格式调用即可\n",
    "(X_train, y_train), (X_test, y_test) = mnist.load_data()"
   ]
  },
  {
   "cell_type": "code",
   "execution_count": 33,
   "metadata": {
    "collapsed": false
   },
   "outputs": [
    {
     "name": "stdout",
     "output_type": "stream",
     "text": [
      "(60000, 28, 28)\n",
      "(60000,)\n"
     ]
    }
   ],
   "source": [
    "print (X_train.shape)\n",
    "print (y_train.shape)"
   ]
  },
  {
   "cell_type": "code",
   "execution_count": 43,
   "metadata": {
    "collapsed": false
   },
   "outputs": [
    {
     "name": "stdout",
     "output_type": "stream",
     "text": [
      "60000 train samples\n",
      "10000 test samples\n"
     ]
    }
   ],
   "source": [
    "# X_train原本是一个60000*28*28的三维向量，将其转换为60000*784的二维向量\n",
    "X_train = X_train.reshape(60000, 784)\n",
    "# X_test原本是一个10000*28*28的三维向量，将其转换为10000*784的二维向量\n",
    "X_test = X_test.reshape(10000, 784)\n",
    "# 将X_train, X_test的数据格式转为float32存储\n",
    "X_train = X_train.astype('float32')\n",
    "X_test = X_test.astype('float32')\n",
    "# 归一化\n",
    "X_train /= 255\n",
    "X_test /= 255\n",
    "# 打印出训练集和测试集的信息\n",
    "print(X_train.shape[0], 'train samples')\n",
    "print(X_test.shape[0], 'test samples')"
   ]
  },
  {
   "cell_type": "code",
   "execution_count": 44,
   "metadata": {
    "collapsed": true
   },
   "outputs": [],
   "source": [
    "'''\n",
    "将类别向量(从0到nb_classes的整数向量)映射为二值类别矩阵，\n",
    "相当于将向量用one-hot重新编码'''\n",
    "Y_train = np_utils.to_categorical(y_train, nb_classes)\n",
    "Y_test = np_utils.to_categorical(y_test, nb_classes)"
   ]
  },
  {
   "cell_type": "code",
   "execution_count": 45,
   "metadata": {
    "collapsed": false
   },
   "outputs": [
    {
     "name": "stdout",
     "output_type": "stream",
     "text": [
      "____________________________________________________________________________________________________\n",
      "Layer (type)                     Output Shape          Param #     Connected to                     \n",
      "====================================================================================================\n",
      "dense_46 (Dense)                 (None, 512)           401920      dense_input_16[0][0]             \n",
      "____________________________________________________________________________________________________\n",
      "activation_46 (Activation)       (None, 512)           0           dense_46[0][0]                   \n",
      "____________________________________________________________________________________________________\n",
      "dropout_31 (Dropout)             (None, 512)           0           activation_46[0][0]              \n",
      "____________________________________________________________________________________________________\n",
      "dense_47 (Dense)                 (None, 512)           262656      dropout_31[0][0]                 \n",
      "____________________________________________________________________________________________________\n",
      "activation_47 (Activation)       (None, 512)           0           dense_47[0][0]                   \n",
      "____________________________________________________________________________________________________\n",
      "dropout_32 (Dropout)             (None, 512)           0           activation_47[0][0]              \n",
      "____________________________________________________________________________________________________\n",
      "dense_48 (Dense)                 (None, 10)            5130        dropout_32[0][0]                 \n",
      "____________________________________________________________________________________________________\n",
      "activation_48 (Activation)       (None, 10)            0           dense_48[0][0]                   \n",
      "====================================================================================================\n",
      "Total params: 669,706\n",
      "Trainable params: 669,706\n",
      "Non-trainable params: 0\n",
      "____________________________________________________________________________________________________\n"
     ]
    }
   ],
   "source": [
    "# 建立顺序型模型\n",
    "model = Sequential()\n",
    "'''\n",
    "模型需要知道输入数据的shape，\n",
    "因此，Sequential的第一层需要接受一个关于输入数据shape的参数，\n",
    "后面的各个层则可以自动推导出中间数据的shape，\n",
    "因此不需要为每个层都指定这个参数\n",
    "''' \n",
    "\n",
    "# 输入层有784个神经元\n",
    "# 第一个隐层有512个神经元，激活函数为ReLu，Dropout比例为0.2\n",
    "model.add(Dense(512, input_shape=(784,)))\n",
    "model.add(Activation('relu'))\n",
    "model.add(Dropout(0.2))\n",
    "\n",
    "# 第二个隐层有512个神经元，激活函数为ReLu，Dropout比例为0.2\n",
    "model.add(Dense(512))\n",
    "model.add(Activation('relu'))\n",
    "model.add(Dropout(0.2))\n",
    "\n",
    "# 输出层有10个神经元，激活函数为SoftMax，得到分类结果\n",
    "model.add(Dense(10))\n",
    "model.add(Activation('softmax'))\n",
    "\n",
    "# 输出模型的整体信息\n",
    "# 总共参数数量为784*512+512 + 512*512+512 + 512*10+10 = 669706\n",
    "model.summary()"
   ]
  },
  {
   "cell_type": "code",
   "execution_count": 46,
   "metadata": {
    "collapsed": false
   },
   "outputs": [
    {
     "name": "stdout",
     "output_type": "stream",
     "text": [
      "Train on 60000 samples, validate on 10000 samples\n",
      "Epoch 1/20\n",
      "60000/60000 [==============================] - 10s - loss: 0.8578 - acc: 0.7366 - val_loss: 0.4189 - val_acc: 0.8819\n",
      "Epoch 2/20\n",
      "60000/60000 [==============================] - 10s - loss: 0.3680 - acc: 0.8900 - val_loss: 0.2907 - val_acc: 0.9129\n",
      "Epoch 3/20\n",
      "60000/60000 [==============================] - 11s - loss: 0.2807 - acc: 0.9163 - val_loss: 0.2297 - val_acc: 0.9305\n",
      "Epoch 4/20\n",
      "60000/60000 [==============================] - 10s - loss: 0.2235 - acc: 0.9328 - val_loss: 0.1924 - val_acc: 0.9416\n",
      "Epoch 5/20\n",
      "60000/60000 [==============================] - 10s - loss: 0.1828 - acc: 0.9454 - val_loss: 0.1648 - val_acc: 0.9492\n",
      "Epoch 6/20\n",
      "60000/60000 [==============================] - 10s - loss: 0.1564 - acc: 0.9534 - val_loss: 0.1403 - val_acc: 0.9571\n",
      "Epoch 7/20\n",
      "60000/60000 [==============================] - 10s - loss: 0.1367 - acc: 0.9582 - val_loss: 0.1181 - val_acc: 0.9639\n",
      "Epoch 8/20\n",
      "60000/60000 [==============================] - 10s - loss: 0.1223 - acc: 0.9625 - val_loss: 0.1120 - val_acc: 0.9653\n",
      "Epoch 9/20\n",
      "60000/60000 [==============================] - 10s - loss: 0.1074 - acc: 0.9680 - val_loss: 0.1023 - val_acc: 0.9689\n",
      "Epoch 10/20\n",
      "60000/60000 [==============================] - 11s - loss: 0.0978 - acc: 0.9698 - val_loss: 0.0980 - val_acc: 0.9688\n",
      "Epoch 11/20\n",
      "60000/60000 [==============================] - 10s - loss: 0.0908 - acc: 0.9727 - val_loss: 0.0930 - val_acc: 0.9742\n",
      "Epoch 12/20\n",
      "60000/60000 [==============================] - 10s - loss: 0.0857 - acc: 0.9735 - val_loss: 0.0844 - val_acc: 0.9730\n",
      "Epoch 13/20\n",
      "60000/60000 [==============================] - 10s - loss: 0.0789 - acc: 0.9760 - val_loss: 0.0823 - val_acc: 0.9745\n",
      "Epoch 14/20\n",
      "60000/60000 [==============================] - 10s - loss: 0.0749 - acc: 0.9776 - val_loss: 0.0863 - val_acc: 0.9729\n",
      "Epoch 15/20\n",
      "60000/60000 [==============================] - 10s - loss: 0.0688 - acc: 0.9792 - val_loss: 0.0771 - val_acc: 0.9758\n",
      "Epoch 16/20\n",
      "60000/60000 [==============================] - 11s - loss: 0.0645 - acc: 0.9806 - val_loss: 0.0789 - val_acc: 0.9768\n",
      "Epoch 17/20\n",
      "60000/60000 [==============================] - 10s - loss: 0.0619 - acc: 0.9808 - val_loss: 0.0799 - val_acc: 0.9757\n",
      "Epoch 18/20\n",
      "60000/60000 [==============================] - 10s - loss: 0.0590 - acc: 0.9818 - val_loss: 0.0780 - val_acc: 0.9764\n",
      "Epoch 19/20\n",
      "60000/60000 [==============================] - 10s - loss: 0.0547 - acc: 0.9832 - val_loss: 0.0791 - val_acc: 0.9790\n",
      "Epoch 20/20\n",
      "60000/60000 [==============================] - 10s - loss: 0.0536 - acc: 0.9838 - val_loss: 0.0769 - val_acc: 0.9781\n"
     ]
    }
   ],
   "source": [
    "'''\n",
    "配置模型的学习过程\n",
    "compile接收三个参数：\n",
    "1.优化器optimizer：参数可指定为已预定义的优化器名，如rmsprop、adagrad，\n",
    "或一个Optimizer类对象，如此处的RMSprop()\n",
    "2.损失函数loss：参数为模型试图最小化的目标函数，可为预定义的损失函数，\n",
    "如categorical_crossentropy、mse，也可以为一个损失函数\n",
    "3.指标列表：对于分类问题，一般将该列表设置为metrics=['accuracy']\n",
    "'''\n",
    "model.compile(loss='categorical_crossentropy',\n",
    "              optimizer=RMSprop(),\n",
    "              metrics=['accuracy'])\n",
    "\n",
    "'''\n",
    "训练模型\n",
    "batch_size：指定梯度下降时每个batch包含的样本数\n",
    "nb_epoch：训练的轮数，nb指number of\n",
    "verbose：日志显示，0为不在标准输出流输出日志信息，1为输出进度条记录，2为epoch输出一行记录\n",
    "validation_data：指定验证集\n",
    "fit函数返回一个History的对象，其History.history属性记录了损失函数和其他指标的数值随epoch变化的情况，\n",
    "如果有验证集的话，也包含了验证集的这些指标变化情况\n",
    "'''\n",
    "history = model.fit(X_train, Y_train,\n",
    "                    batch_size = batch_size,\n",
    "                    nb_epoch = nb_epoch,\n",
    "                    verbose = 1,\n",
    "                    validation_data = (X_test, Y_test))"
   ]
  },
  {
   "cell_type": "code",
   "execution_count": 47,
   "metadata": {
    "collapsed": false
   },
   "outputs": [
    {
     "name": "stdout",
     "output_type": "stream",
     "text": [
      "Test score: 0.0768508187469\n",
      "Test accuracy: 0.9781\n"
     ]
    }
   ],
   "source": [
    "# 按batch计算在某些输入数据上模型的误差\n",
    "score = model.evaluate(X_test, Y_test, verbose=0)\n",
    "# 输出训练好的模型在测试集上的表现\n",
    "print('Test score:', score[0])\n",
    "print('Test accuracy:', score[1])"
   ]
  },
  {
   "cell_type": "code",
   "execution_count": null,
   "metadata": {
    "collapsed": true
   },
   "outputs": [],
   "source": []
  }
 ],
 "metadata": {
  "anaconda-cloud": {},
  "kernelspec": {
   "display_name": "Python [Root]",
   "language": "python",
   "name": "Python [Root]"
  },
  "language_info": {
   "codemirror_mode": {
    "name": "ipython",
    "version": 3
   },
   "file_extension": ".py",
   "mimetype": "text/x-python",
   "name": "python",
   "nbconvert_exporter": "python",
   "pygments_lexer": "ipython3",
   "version": "3.5.1"
  }
 },
 "nbformat": 4,
 "nbformat_minor": 0
}
