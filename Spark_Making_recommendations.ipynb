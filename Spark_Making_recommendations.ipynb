{
 "cells": [
  {
   "cell_type": "markdown",
   "metadata": {
    "collapsed": false
   },
   "source": [
    "------------------------------\n",
    "1 推荐模型的分类\n",
    "------------------------------"
   ]
  },
  {
   "cell_type": "markdown",
   "metadata": {
    "collapsed": true
   },
   "source": [
    "推荐系统的研究已经相当广泛,也存在很多设计方法。最为流行的两种方法是基于内容的过滤和协同过滤。另外,排名模型等近期也受到不少关注。实践中的方案很多是综合性的,它们将多种方法的元素合并到一个模型中或是进行组合。"
   ]
  },
  {
   "cell_type": "markdown",
   "metadata": {},
   "source": [
    "--------------------\n",
    "1.1 基于内容的过滤\n",
    "----------------------"
   ]
  },
  {
   "cell_type": "markdown",
   "metadata": {},
   "source": [
    "基于内容的过滤利用物品的内容或是属性信息以及某些相似度定义,来求出与该物品类似的物品。这些属性值通常是文本内容(比如标题、名称、标签及该物品的其他元数据)。对多媒体来说,可能还涉及从音频或视频中提取的其他属性。\n",
    "\n",
    "类似地,对用户的推荐可以根据用户的属性或是描述得出,之后再通过相同的相似度定义来与物品属性做匹配。比如,用户可以表示为他所接触过的各物品属性的综合。该表示可作为该用户的一种描述。之后可以用它来与物品的属性进行比较以找出符合用户描述的物品。\n"
   ]
  },
  {
   "cell_type": "markdown",
   "metadata": {},
   "source": [
    "-----------------\n",
    "1.2协同过滤\n",
    "-----------------"
   ]
  },
  {
   "cell_type": "markdown",
   "metadata": {},
   "source": [
    "协同过滤是一种借助众包智慧的途径。它利用大量已有的用户偏好来估计用户对其未接触过的物品的喜好程度。其内在思想是相似度的定义。\n",
    "\n",
    "在基于用户的方法的中,如果两个用户表现出相似的偏好(即对相同物品的偏好大体相同),那就认为他们的兴趣类似。要对他们中的一个用户推荐一个未知物品,便可选取若干与其类似的用户并根据他们的喜好计算出对各个物品的综合得分,再以得分来推荐物品。其整体的逻辑是,如果其他用户也偏好某些物品,那这些物品很可能值得推荐。\n",
    "\n",
    "同样也可以借助基于物品的方法来做推荐。这种方法通常根据现有用户对物品的偏好或是评级情况,来计算物品之间的某种相似度。这时,相似用户评级相同的那些物品会被认为更相近。一旦有了物品之间的相似度,便可用用户接触过的物品来表示这个用户,然后找出和这些已知物品相似的那些物品,并将这些物品推荐给用户。同样,与已有物品相似的物品被用来生成一个综合得分,而该得分用于评估未知物品的相似度。\n",
    "\n",
    "\n",
    "\n",
    "基于用户或物品的方法的得分取决于若干用户或是物品之间依据相似度所构成的集合(即邻居),故它们也常被称为最近邻模型。\n",
    "\n",
    "最后,也存在不少基于模型的方法是对“用户物品”偏好建模。这样,对未知“用户物品”组合上应用该模型便可得出新的偏好。\n"
   ]
  },
  {
   "cell_type": "markdown",
   "metadata": {},
   "source": [
    "----------------\n",
    "1.3 矩阵分解\n",
    "----------------"
   ]
  },
  {
   "cell_type": "markdown",
   "metadata": {},
   "source": [
    "Spark推荐模型库当前只包含基于矩阵分解(matrix factorization)的实现,由此我们也将重点关注这类模型。它们有吸引人的地方。首先,这些模型在协同过滤中的表现十分出色。而在Netflix Prize等知名比赛中的表现也很拔尖。"
   ]
  },
  {
   "cell_type": "markdown",
   "metadata": {},
   "source": [
    "-----------------\n",
    "2 提取有效特征\n",
    "-----------------"
   ]
  },
  {
   "cell_type": "markdown",
   "metadata": {},
   "source": [
    "这里,我们将采用显式评级数据,而不使用其他用户或物品的元数据以及“用户物品”交互数据。这样,所需的输入数据就只需包括每个评级对应的用户ID、影片ID和具体的星级。本文中使用显式数据也就是用户对movie的rating信息，这个数据来源于网络上的MovieLens标准数据集"
   ]
  },
  {
   "cell_type": "code",
   "execution_count": 1,
   "metadata": {
    "collapsed": true
   },
   "outputs": [],
   "source": [
    "from pyspark import SparkConf,SparkContext\n",
    "from pyspark import rdd\n",
    "conf=SparkConf().setMaster(\"local[*]\").setAppName(\"First_APP\")\n",
    "sc=SparkContext(conf=conf)"
   ]
  },
  {
   "cell_type": "code",
   "execution_count": 2,
   "metadata": {
    "collapsed": false
   },
   "outputs": [
    {
     "name": "stdout",
     "output_type": "stream",
     "text": [
      "196\t242\t3\t881250949\n"
     ]
    },
    {
     "data": {
      "text/plain": [
       "[['196', '242', '3', '881250949'],\n",
       " ['186', '302', '3', '891717742'],\n",
       " ['22', '377', '1', '878887116'],\n",
       " ['244', '51', '2', '880606923'],\n",
       " ['166', '346', '1', '886397596']]"
      ]
     },
     "execution_count": 2,
     "metadata": {},
     "output_type": "execute_result"
    }
   ],
   "source": [
    "rawData = sc.textFile(\"E:/machine_data/spark_test_data/ml-100k/u.data\")\n",
    "print (rawData.first())\n",
    "rawRatings = rawData.map(lambda x: x.split('\\t'))\n",
    "rawRatings.take(5)\n",
    "#数据分别是userId，itemId，rating和timestamp"
   ]
  },
  {
   "cell_type": "code",
   "execution_count": 3,
   "metadata": {
    "collapsed": false
   },
   "outputs": [
    {
     "data": {
      "text/plain": [
       "[Rating(user=196, product=242, rating=3.0),\n",
       " Rating(user=186, product=302, rating=3.0),\n",
       " Rating(user=22, product=377, rating=1.0),\n",
       " Rating(user=244, product=51, rating=2.0),\n",
       " Rating(user=166, product=346, rating=1.0)]"
      ]
     },
     "execution_count": 3,
     "metadata": {},
     "output_type": "execute_result"
    }
   ],
   "source": [
    "#导入Rating、ALS模块(最小二乘)，用于后面建模\n",
    "from pyspark.mllib.recommendation import Rating, ALS\n",
    "ratings = rawRatings.map(lambda x: Rating(int(x[0]),int(x[1]),float(x[2])))\n",
    "ratings.take(5)"
   ]
  },
  {
   "cell_type": "markdown",
   "metadata": {},
   "source": [
    "------------------------\n",
    "3 训练推荐模型\n",
    "========================"
   ]
  },
  {
   "cell_type": "markdown",
   "metadata": {},
   "source": [
    "\n",
    "\n",
    "现在可以开始训练模型了,所需的其他参数有以下几个。\n",
    "\n",
    "\n",
    "\n",
    "\n",
    " rank:对应ALS模型中的因子个数,也就是在低阶近似矩阵中的隐含特征个数。因子个数一般越多越好。但它也会直接影响模型训练和保存时所需的内存开销,尤其是在用户和物品很多的时候。因此实践中该参数常作为训练效果与系统开销之间的调节参数。通常,其合理取值为10到200。\n",
    "   对应ALS模型中的因子个数，即“两个小矩阵和”中的k\n",
    "\n",
    " iterations:对应运行时的迭代次数。ALS能确保每次迭代都能降低评级矩阵的重建误差,但一般经少数次迭代后ALS模型便已能收敛为一个比较合理的好模型。这样,大部分情况下都没必要迭代太多次(10次左右一般就挺好)。\n",
    "\n",
    " lambda:该参数控制模型的正则化过程,从而控制模型的过拟合情况。其值越高,正则化越严厉。该参数的赋值与实际数据的大小、特征和稀疏程度有关。和其他的机器学习模型一样,正则参数应该通过用非样本的测试数据进行交叉验证来调整。\n",
    "   控制模型的正则化过程，从而控制模型的过拟合情况。\n",
    "\n",
    "\n",
    "\n",
    "\n",
    "作为示例,这里将使用的rank、iterations和lambda参数的值分别为50、10和0.01:\n"
   ]
  },
  {
   "cell_type": "code",
   "execution_count": 4,
   "metadata": {
    "collapsed": false,
    "scrolled": true
   },
   "outputs": [
    {
     "data": {
      "text/plain": [
       "[(4,\n",
       "  array('d', [0.6825532913208008, -0.08277151733636856, -0.5213354229927063, -0.11160024255514145, 0.23231713473796844, 0.35927271842956543, -0.15395067632198334, 0.3292972445487976, -0.10530982911586761, -0.45273345708847046, 0.13377642631530762, 0.4834160804748535, 0.12130600959062576, 0.1699017584323883, -0.19415707886219025, 0.4661986231803894, -0.2508096694946289, -0.22582422196865082, 0.008530866354703903, -0.4816049337387085, 0.10357516258955002, -0.528141438961029, -0.14657121896743774, -0.022775448858737946, -0.04532771185040474, 0.3767406642436981, 0.6552073359489441, -0.0724124163389206, 0.254604309797287, -0.311857134103775, -0.18600477278232574, 0.30310359597206116, -0.5999680161476135, 0.4510653018951416, 0.10150831192731857, 0.043596796691417694, 0.10472331941127777, -0.17609846591949463, 0.25088027119636536, 0.0338578037917614, 0.21619196236133575, -0.013780420646071434, -0.005915130954235792, -0.18161839246749878, -0.01525501161813736, 0.3262485861778259, -0.1970226913690567, -0.3311103284358978, 0.004905391950160265, 0.14131459593772888])),\n",
       " (8,\n",
       "  array('d', [0.36486393213272095, -0.41770821809768677, -0.43548452854156494, -0.0896928459405899, 0.2667999267578125, -0.7160951495170593, -0.06097859516739845, 0.051559604704380035, 0.33861809968948364, 0.36871737241744995, 0.36068421602249146, 0.5104472041130066, -0.09788674116134644, 0.08604130148887634, -0.22378842532634735, 0.41948238015174866, 0.10583911836147308, -0.3536832332611084, 0.03525839000940323, 0.3170055150985718, -0.050615344196558, -0.9822832942008972, -0.4649195969104767, 0.08948788046836853, 0.09588916599750519, -0.7461251616477966, -0.3794602155685425, 0.30233073234558105, -0.2202705442905426, -0.023764541372656822, -0.38533681631088257, -0.0689961314201355, -0.5598065257072449, 0.2737385034561157, -0.35961970686912537, -0.4737411141395569, 0.033275093883275986, -0.40739330649375916, -0.8958965539932251, 0.5210685729980469, 0.29901498556137085, -0.10486585646867752, -0.39394107460975647, -0.3446507751941681, -0.033154554665088654, -0.01085317600518465, 0.1398152858018875, 0.17895780503749847, -0.11429344117641449, 0.41455379128456116]))]"
      ]
     },
     "execution_count": 4,
     "metadata": {},
     "output_type": "execute_result"
    }
   ],
   "source": [
    "model = ALS.train(ratings, 50, 10, 0.01)\n",
    "userFeatures = model.userFeatures()\n",
    "userFeatures.take(2)"
   ]
  },
  {
   "cell_type": "code",
   "execution_count": 5,
   "metadata": {
    "collapsed": false
   },
   "outputs": [
    {
     "data": {
      "text/plain": [
       "[(4,\n",
       "  array('d', [0.7801207304000854, 0.8949319124221802, -0.9001529216766357, -0.03314482048153877, -0.10774897038936615, 0.26987990736961365, 0.8206261992454529, 0.6646865606307983, 0.6464346051216125, 0.4607182443141937, 0.4361865520477295, -0.47185373306274414, 0.5803003907203674, 1.125365972518921, -0.14290845394134521, 0.5238562226295471, 0.2841642200946808, -1.4662121534347534, -0.04852978512644768, -0.9764675498008728, -1.0508042573928833, -1.356313705444336, -0.9136911630630493, -0.19573234021663666, -0.467304527759552, 0.24956005811691284, 0.3283959627151489, -0.16028010845184326, 0.6407354474067688, -0.16508187353610992, -0.017425725236535072, -0.28238147497177124, -0.6315313577651978, -0.4000170826911926, -0.3455822467803955, -0.19245243072509766, 1.189756989479065, 0.4005597233772278, -1.3466495275497437, 1.1558536291122437, 0.21020039916038513, -0.2203013151884079, 0.2319221943616867, -0.42747271060943604, 0.9779833555221558, -0.04015105590224266, -0.77442866563797, 0.11756648868322372, -1.2453620433807373, -0.2553527057170868])),\n",
       " (8,\n",
       "  array('d', [1.691706895828247, 0.9434493184089661, -1.2623286247253418, 0.17449675500392914, 0.1648886501789093, 0.788760781288147, 0.5089986324310303, 0.7239363193511963, 1.1799376010894775, -0.303976446390152, 0.08817125856876373, -0.372177392244339, 0.6044362187385559, 1.0811659097671509, -0.2543865740299225, 0.3840547502040863, -0.6494828462600708, -0.6318134069442749, -0.1159200593829155, -1.4768742322921753, -1.0898884534835815, -1.4300531148910522, -1.1385143995285034, 0.8413426876068115, -0.12366688251495361, 0.29999014735221863, 0.2550530433654785, 0.0364985391497612, 0.8411740660667419, 0.21526271104812622, -1.1017751693725586, -0.6515480875968933, -0.3363041281700134, -0.05159452185034752, -0.744290828704834, 0.2471466362476349, 0.46052828431129456, -0.07219300419092178, -0.41612890362739563, 0.8972941637039185, -0.2423045039176941, -0.28780585527420044, 0.8673447370529175, -0.32783615589141846, 0.8600180149078369, 0.4394230842590332, -0.6114358901977539, -0.42816686630249023, -1.6654020547866821, 0.15662607550621033]))]"
      ]
     },
     "execution_count": 5,
     "metadata": {},
     "output_type": "execute_result"
    }
   ],
   "source": [
    "productFeatures = model.productFeatures()\n",
    "productFeatures.take(2)"
   ]
  },
  {
   "cell_type": "code",
   "execution_count": 6,
   "metadata": {
    "collapsed": false
   },
   "outputs": [
    {
     "name": "stdout",
     "output_type": "stream",
     "text": [
      "943\n",
      "1682\n"
     ]
    }
   ],
   "source": [
    "print (model.userFeatures().count())\n",
    "print (model.productFeatures().count())"
   ]
  },
  {
   "cell_type": "markdown",
   "metadata": {},
   "source": [
    "\n",
    "\n",
    "使用隐式反馈数据训练模型\n",
    "\n",
    "\n",
    "\n",
    "\n",
    "MLlib中标准的矩阵分解模型用于显式评级数据的处理。若要处理隐式数据,则可使用trainImplicit函数。其调用方式和标准的train模式类似,但多了一个可设置的alpha参数（也是一个正则化参数,lambda应通过测试和交叉验证法来设置）。\n",
    "alpha参数指定了信心权重所应达到的基准线。该值越高则所训练出的模型越认为用户与他所没评级过的电影之间没有相关性。 "
   ]
  },
  {
   "cell_type": "markdown",
   "metadata": {},
   "source": [
    "-----------------\n",
    "4 使用推荐模型\n",
    "-----------------"
   ]
  },
  {
   "cell_type": "markdown",
   "metadata": {},
   "source": [
    "--------------\n",
    "4.1用户推荐\n",
    "--------------"
   ]
  },
  {
   "cell_type": "markdown",
   "metadata": {},
   "source": [
    "有了训练好的模型后便可用它来做预测。预测通常有两种:为某个用户推荐物品,或找出与某个物品相关或相似的其他物品。\n",
    "\n",
    "\n",
    "\n",
    "\n",
    "\n",
    "\n",
    "从MovieLens 100k数据集生成电影推荐\n",
    "\n",
    "MLlib的推荐模型基于矩阵分解,因此可用模型所求得的因子矩阵来计算用户对物品的预计评级。下面只针对利用MovieLens中显式数据做推荐的情形,使用隐式模型时的方法与之相同。\n"
   ]
  },
  {
   "cell_type": "code",
   "execution_count": 7,
   "metadata": {
    "collapsed": false
   },
   "outputs": [
    {
     "name": "stdout",
     "output_type": "stream",
     "text": [
      "50\n",
      "4.643654084950845\n"
     ]
    }
   ],
   "source": [
    "print (len(userFeatures.first()[1]))\n",
    "predictRating = model.predict(789,123)\n",
    "print (predictRating)"
   ]
  },
  {
   "cell_type": "markdown",
   "metadata": {},
   "source": [
    "可以看到,该模型预测用户789对电影123的评级为3.658。\n",
    "\n",
    "\n",
    "\n",
    "\n",
    "predict函数同样可以以(user, item)ID对类型的RDD对象为输入,这时它将为每一对都生成相应的预测得分。我们可以借助这个函数来同时为多个用户和物品\n",
    "\n",
    "进行预测。\n",
    "\n",
    "\n",
    "\n",
    "\n",
    "要为某个用户生成前K个推荐物品,可借助MatrixFactorizationModel所提供的recommendProducts函数来实现。该函数需两个输入参数:user和num。其中user\n",
    "\n",
    "是用户ID,而num是要推荐的物品个数。\n",
    "\n",
    "\n",
    "\n",
    "\n",
    "返回值为预测得分最高的前num个物品。这些物品的序列按得分排序。该得分为相应的用户因子向量和各个物品因子向量的点积。\n",
    "\n",
    "\n",
    "\n",
    "\n",
    "现在,计算给用户789推荐的前10个物品，代码如下：\n",
    "\n",
    "\n",
    "\n",
    "\n"
   ]
  },
  {
   "cell_type": "code",
   "execution_count": 8,
   "metadata": {
    "collapsed": false
   },
   "outputs": [
    {
     "name": "stdout",
     "output_type": "stream",
     "text": [
      "给用户userId推荐其喜欢的item：\n",
      "Rating(user=789, product=187, rating=5.614482532373878)\n",
      "Rating(user=789, product=517, rating=5.590638326236133)\n",
      "Rating(user=789, product=654, rating=5.406477736839683)\n",
      "Rating(user=789, product=302, rating=5.307652387214368)\n",
      "Rating(user=789, product=518, rating=5.272251750771314)\n",
      "Rating(user=789, product=195, rating=5.221785802007747)\n",
      "Rating(user=789, product=48, rating=5.215569331702351)\n",
      "Rating(user=789, product=429, rating=5.168334110934902)\n",
      "Rating(user=789, product=127, rating=5.054994031204602)\n",
      "Rating(user=789, product=129, rating=5.0350278294993585)\n"
     ]
    }
   ],
   "source": [
    "topKRecs = model.recommendProducts(789,10)\n",
    "print ('给用户userId推荐其喜欢的item：')\n",
    "for rec in topKRecs:\n",
    "    print (rec)"
   ]
  },
  {
   "cell_type": "markdown",
   "metadata": {},
   "source": [
    "检验推荐内容\n",
    "\n",
    "\n",
    "\n",
    "\n",
    "要直观地检验推荐的效果,可以简单比对下用户所评级过的电影和被推荐的那些电影\n",
    "\n",
    "下面查看用户789评级过的电影，代码如下：\n",
    "\n",
    "\n",
    "\n",
    "\n",
    "\n",
    "\n",
    "\n",
    "\n",
    "\n",
    "\n"
   ]
  },
  {
   "cell_type": "code",
   "execution_count": 9,
   "metadata": {
    "collapsed": false
   },
   "outputs": [
    {
     "name": "stdout",
     "output_type": "stream",
     "text": [
      "用户对33部电影进行了评级\n",
      "源数据中用户(userId=789)喜欢的电影(item)：\n",
      "1012 4.0\n",
      "127 5.0\n",
      "475 5.0\n",
      "93 4.0\n",
      "1161 3.0\n",
      "286 1.0\n",
      "293 4.0\n",
      "9 5.0\n",
      "50 5.0\n",
      "294 3.0\n",
      "181 4.0\n",
      "1 3.0\n",
      "1008 4.0\n",
      "508 4.0\n",
      "284 3.0\n",
      "1017 3.0\n",
      "137 2.0\n",
      "111 3.0\n",
      "742 3.0\n",
      "248 3.0\n",
      "249 3.0\n",
      "1007 4.0\n",
      "591 3.0\n",
      "150 5.0\n",
      "276 5.0\n",
      "151 2.0\n",
      "129 5.0\n",
      "100 5.0\n",
      "741 5.0\n",
      "288 3.0\n",
      "762 3.0\n",
      "628 3.0\n",
      "124 4.0\n"
     ]
    }
   ],
   "source": [
    "moviesForUser = ratings.groupBy(lambda x : x.user).mapValues(list)\n",
    "#print ratings.groupBy(lambda x : x.user).mapValues(list).lookup(789)\n",
    "#print ratings.groupBy(lambda x : x.user).map(lambda (x,y): (x, list(y))).lookup(789)\n",
    "#print moviesForUser\n",
    "moviesForUser=moviesForUser.collect()\n",
    "moviesForUser=sc.parallelize([(x, y) for (x, y) in moviesForUser]).lookup(789)\n",
    "\n",
    "print ('用户对%d部电影进行了评级'%len(moviesForUser[0]))\n",
    "print ('源数据中用户(userId=789)喜欢的电影(item)：')\n",
    "#for i in sorted(moviesForUser[0],key=lambda x:x.rating,reverse=True):\n",
    "for i in moviesForUser[0]:\n",
    "    print (i.product,i.rating)\n",
    "\n"
   ]
  },
  {
   "cell_type": "code",
   "execution_count": 13,
   "metadata": {
    "collapsed": false,
    "scrolled": false
   },
   "outputs": [
    {
     "name": "stdout",
     "output_type": "stream",
     "text": [
      "[Rating(user=789, product=1012, rating=4.0), Rating(user=789, product=127, rating=5.0), Rating(user=789, product=475, rating=5.0), Rating(user=789, product=93, rating=4.0), Rating(user=789, product=1161, rating=3.0), Rating(user=789, product=286, rating=1.0), Rating(user=789, product=293, rating=4.0), Rating(user=789, product=9, rating=5.0), Rating(user=789, product=50, rating=5.0), Rating(user=789, product=294, rating=3.0), Rating(user=789, product=181, rating=4.0), Rating(user=789, product=1, rating=3.0), Rating(user=789, product=1008, rating=4.0), Rating(user=789, product=508, rating=4.0), Rating(user=789, product=284, rating=3.0), Rating(user=789, product=1017, rating=3.0), Rating(user=789, product=137, rating=2.0), Rating(user=789, product=111, rating=3.0), Rating(user=789, product=742, rating=3.0), Rating(user=789, product=248, rating=3.0), Rating(user=789, product=249, rating=3.0), Rating(user=789, product=1007, rating=4.0), Rating(user=789, product=591, rating=3.0), Rating(user=789, product=150, rating=5.0), Rating(user=789, product=276, rating=5.0), Rating(user=789, product=151, rating=2.0), Rating(user=789, product=129, rating=5.0), Rating(user=789, product=100, rating=5.0), Rating(user=789, product=741, rating=5.0), Rating(user=789, product=288, rating=3.0), Rating(user=789, product=762, rating=3.0), Rating(user=789, product=628, rating=3.0), Rating(user=789, product=124, rating=4.0)]\n",
      "33\n"
     ]
    }
   ],
   "source": [
    "print (moviesForUser[0])\n",
    "print (len(moviesForUser[0]))"
   ]
  },
  {
   "cell_type": "code",
   "execution_count": 14,
   "metadata": {
    "collapsed": false
   },
   "outputs": [
    {
     "name": "stdout",
     "output_type": "stream",
     "text": [
      "<class 'pyspark.rdd.RDD'>\n",
      "[(0, 0), (1, 1), (2, 2), (3, 3)]\n"
     ]
    },
    {
     "data": {
      "text/plain": [
       "[42]"
      ]
     },
     "execution_count": 14,
     "metadata": {},
     "output_type": "execute_result"
    }
   ],
   "source": [
    "l = range(1000)\n",
    "rdd = sc.parallelize(zip(l, l), 10)\n",
    "print (type(rdd))\n",
    "print (rdd.take(4))\n",
    "rdd.lookup(42)  #slow"
   ]
  },
  {
   "cell_type": "code",
   "execution_count": 32,
   "metadata": {
    "collapsed": false
   },
   "outputs": [
    {
     "data": {
      "text/plain": [
       "[42]"
      ]
     },
     "execution_count": 32,
     "metadata": {},
     "output_type": "execute_result"
    }
   ],
   "source": [
    "sorted = rdd.sortByKey()\n",
    "sorted.lookup(42) #fast"
   ]
  },
  {
   "cell_type": "code",
   "execution_count": 98,
   "metadata": {
    "collapsed": false
   },
   "outputs": [
    {
     "data": {
      "text/plain": [
       "[1, 2]"
      ]
     },
     "execution_count": 98,
     "metadata": {},
     "output_type": "execute_result"
    }
   ],
   "source": [
    "rdd2 = sc.parallelize([('a',1),('a', 2),('b',1),('b', 2)])\n",
    "rdd2.lookup('a')"
   ]
  },
  {
   "cell_type": "code",
   "execution_count": 80,
   "metadata": {
    "collapsed": false,
    "scrolled": true
   },
   "outputs": [
    {
     "data": {
      "text/plain": [
       "395"
      ]
     },
     "execution_count": 80,
     "metadata": {},
     "output_type": "execute_result"
    }
   ],
   "source": [
    "rdd2 = sc.parallelize([('a',1),('a', 2),('b',1),('b', 2)]).groupByKey()\n",
    "rdd2.id()"
   ]
  },
  {
   "cell_type": "code",
   "execution_count": null,
   "metadata": {
    "collapsed": true
   },
   "outputs": [],
   "source": []
  },
  {
   "cell_type": "code",
   "execution_count": 15,
   "metadata": {
    "collapsed": false
   },
   "outputs": [
    {
     "name": "stdout",
     "output_type": "stream",
     "text": [
      "Toy Story (1995)\n"
     ]
    }
   ],
   "source": [
    "movies = sc.textFile(\"E:/machine_data/spark_test_data/ml-100k/u.item\")\n",
    "titles = movies.map(lambda line: (int(line.split('|')[0]),line.split('|')[1])).collectAsMap()\n",
    "print (titles[1])"
   ]
  },
  {
   "cell_type": "code",
   "execution_count": 16,
   "metadata": {
    "collapsed": false
   },
   "outputs": [
    {
     "data": {
      "text/plain": [
       "'1|Toy Story (1995)|01-Jan-1995||http://us.imdb.com/M/title-exact?Toy%20Story%20(1995)|0|0|0|1|1|1|0|0|0|0|0|0|0|0|0|0|0|0|0'"
      ]
     },
     "execution_count": 16,
     "metadata": {},
     "output_type": "execute_result"
    }
   ],
   "source": [
    "movies.first()"
   ]
  },
  {
   "cell_type": "code",
   "execution_count": 86,
   "metadata": {
    "collapsed": false
   },
   "outputs": [
    {
     "name": "stdout",
     "output_type": "stream",
     "text": [
      "{1: 'Toy Story (1995)', 2: 'GoldenEye (1995)', 3: 'Four Rooms (1995)', 4: 'Get Shorty (1995)', 5: 'Copycat (1995)', 6: 'Shanghai Triad (Yao a yao yao dao waipo qiao) (1995)', 7: 'Twelve Monkeys (1995)', 8: 'Babe (1995)', 9: 'Dead Man Walking (1995)', 10: 'Richard III (1995)', 11: 'Seven (Se7en) (1995)', 12: 'Usual Suspects, The (1995)', 13: 'Mighty Aphrodite (1995)', 14: 'Postino, Il (1994)', 15: \"Mr. Holland's Opus (1995)\", 16: 'French Twist (Gazon maudit) (1995)', 17: 'From Dusk Till Dawn (1996)', 18: 'White Balloon, The (1995)', 19: \"Antonia's Line (1995)\", 20: 'Angels and Insects (1995)', 21: 'Muppet Treasure Island (1996)', 22: 'Braveheart (1995)', 23: 'Taxi Driver (1976)', 24: 'Rumble in the Bronx (1995)', 25: 'Birdcage, The (1996)', 26: 'Brothers McMullen, The (1995)', 27: 'Bad Boys (1995)', 28: 'Apollo 13 (1995)', 29: 'Batman Forever (1995)', 30: 'Belle de jour (1967)', 31: 'Crimson Tide (1995)', 32: 'Crumb (1994)', 33: 'Desperado (1995)', 34: 'Doom Generation, The (1995)', 35: 'Free Willy 2: The Adventure Home (1995)', 36: 'Mad Love (1995)', 37: 'Nadja (1994)', 38: 'Net, The (1995)', 39: 'Strange Days (1995)', 40: 'To Wong Foo, Thanks for Everything! Julie Newmar (1995)', 41: 'Billy Madison (1995)', 42: 'Clerks (1994)', 43: 'Disclosure (1994)', 44: 'Dolores Claiborne (1994)', 45: 'Eat Drink Man Woman (1994)', 46: 'Exotica (1994)', 47: 'Ed Wood (1994)', 48: 'Hoop Dreams (1994)', 49: 'I.Q. (1994)', 50: 'Star Wars (1977)', 51: 'Legends of the Fall (1994)', 52: 'Madness of King George, The (1994)', 53: 'Natural Born Killers (1994)', 54: 'Outbreak (1995)', 55: 'Professional, The (1994)', 56: 'Pulp Fiction (1994)', 57: 'Priest (1994)', 58: 'Quiz Show (1994)', 59: 'Three Colors: Red (1994)', 60: 'Three Colors: Blue (1993)', 61: 'Three Colors: White (1994)', 62: 'Stargate (1994)', 63: 'Santa Clause, The (1994)', 64: 'Shawshank Redemption, The (1994)', 65: \"What's Eating Gilbert Grape (1993)\", 66: 'While You Were Sleeping (1995)', 67: 'Ace Ventura: Pet Detective (1994)', 68: 'Crow, The (1994)', 69: 'Forrest Gump (1994)', 70: 'Four Weddings and a Funeral (1994)', 71: 'Lion King, The (1994)', 72: 'Mask, The (1994)', 73: 'Maverick (1994)', 74: 'Faster Pussycat! Kill! Kill! (1965)', 75: 'Brother Minister: The Assassination of Malcolm X (1994)', 76: \"Carlito's Way (1993)\", 77: 'Firm, The (1993)', 78: 'Free Willy (1993)', 79: 'Fugitive, The (1993)', 80: 'Hot Shots! Part Deux (1993)', 81: 'Hudsucker Proxy, The (1994)', 82: 'Jurassic Park (1993)', 83: 'Much Ado About Nothing (1993)', 84: \"Robert A. Heinlein's The Puppet Masters (1994)\", 85: 'Ref, The (1994)', 86: 'Remains of the Day, The (1993)', 87: 'Searching for Bobby Fischer (1993)', 88: 'Sleepless in Seattle (1993)', 89: 'Blade Runner (1982)', 90: 'So I Married an Axe Murderer (1993)', 91: 'Nightmare Before Christmas, The (1993)', 92: 'True Romance (1993)', 93: 'Welcome to the Dollhouse (1995)', 94: 'Home Alone (1990)', 95: 'Aladdin (1992)', 96: 'Terminator 2: Judgment Day (1991)', 97: 'Dances with Wolves (1990)', 98: 'Silence of the Lambs, The (1991)', 99: 'Snow White and the Seven Dwarfs (1937)', 100: 'Fargo (1996)', 101: 'Heavy Metal (1981)', 102: 'Aristocats, The (1970)', 103: 'All Dogs Go to Heaven 2 (1996)', 104: 'Theodore Rex (1995)', 105: 'Sgt. Bilko (1996)', 106: 'Diabolique (1996)', 107: 'Moll Flanders (1996)', 108: 'Kids in the Hall: Brain Candy (1996)', 109: 'Mystery Science Theater 3000: The Movie (1996)', 110: 'Operation Dumbo Drop (1995)', 111: 'Truth About Cats & Dogs, The (1996)', 112: 'Flipper (1996)', 113: 'Horseman on the Roof, The (Hussard sur le toit, Le) (1995)', 114: 'Wallace & Gromit: The Best of Aardman Animation (1996)', 115: 'Haunted World of Edward D. Wood Jr., The (1995)', 116: 'Cold Comfort Farm (1995)', 117: 'Rock, The (1996)', 118: 'Twister (1996)', 119: 'Maya Lin: A Strong Clear Vision (1994)', 120: 'Striptease (1996)', 121: 'Independence Day (ID4) (1996)', 122: 'Cable Guy, The (1996)', 123: 'Frighteners, The (1996)', 124: 'Lone Star (1996)', 125: 'Phenomenon (1996)', 126: 'Spitfire Grill, The (1996)', 127: 'Godfather, The (1972)', 128: 'Supercop (1992)', 129: 'Bound (1996)', 130: 'Kansas City (1996)', 131: \"Breakfast at Tiffany's (1961)\", 132: 'Wizard of Oz, The (1939)', 133: 'Gone with the Wind (1939)', 134: 'Citizen Kane (1941)', 135: '2001: A Space Odyssey (1968)', 136: 'Mr. Smith Goes to Washington (1939)', 137: 'Big Night (1996)', 138: 'D3: The Mighty Ducks (1996)', 139: 'Love Bug, The (1969)', 140: 'Homeward Bound: The Incredible Journey (1993)', 141: '20,000 Leagues Under the Sea (1954)', 142: 'Bedknobs and Broomsticks (1971)', 143: 'Sound of Music, The (1965)', 144: 'Die Hard (1988)', 145: 'Lawnmower Man, The (1992)', 146: 'Unhook the Stars (1996)', 147: 'Long Kiss Goodnight, The (1996)', 148: 'Ghost and the Darkness, The (1996)', 149: 'Jude (1996)', 150: 'Swingers (1996)', 151: 'Willy Wonka and the Chocolate Factory (1971)', 152: 'Sleeper (1973)', 153: 'Fish Called Wanda, A (1988)', 154: \"Monty Python's Life of Brian (1979)\", 155: 'Dirty Dancing (1987)', 156: 'Reservoir Dogs (1992)', 157: 'Platoon (1986)', 158: \"Weekend at Bernie's (1989)\", 159: 'Basic Instinct (1992)', 160: 'Glengarry Glen Ross (1992)', 161: 'Top Gun (1986)', 162: 'On Golden Pond (1981)', 163: 'Return of the Pink Panther, The (1974)', 164: 'Abyss, The (1989)', 165: 'Jean de Florette (1986)', 166: 'Manon of the Spring (Manon des sources) (1986)', 167: 'Private Benjamin (1980)', 168: 'Monty Python and the Holy Grail (1974)', 169: 'Wrong Trousers, The (1993)', 170: 'Cinema Paradiso (1988)', 171: 'Delicatessen (1991)', 172: 'Empire Strikes Back, The (1980)', 173: 'Princess Bride, The (1987)', 174: 'Raiders of the Lost Ark (1981)', 175: 'Brazil (1985)', 176: 'Aliens (1986)', 177: 'Good, The Bad and The Ugly, The (1966)', 178: '12 Angry Men (1957)', 179: 'Clockwork Orange, A (1971)', 180: 'Apocalypse Now (1979)', 181: 'Return of the Jedi (1983)', 182: 'GoodFellas (1990)', 183: 'Alien (1979)', 184: 'Army of Darkness (1993)', 185: 'Psycho (1960)', 186: 'Blues Brothers, The (1980)', 187: 'Godfather: Part II, The (1974)', 188: 'Full Metal Jacket (1987)', 189: 'Grand Day Out, A (1992)', 190: 'Henry V (1989)', 191: 'Amadeus (1984)', 192: 'Raging Bull (1980)', 193: 'Right Stuff, The (1983)', 194: 'Sting, The (1973)', 195: 'Terminator, The (1984)', 196: 'Dead Poets Society (1989)', 197: 'Graduate, The (1967)', 198: 'Nikita (La Femme Nikita) (1990)', 199: 'Bridge on the River Kwai, The (1957)', 200: 'Shining, The (1980)', 201: 'Evil Dead II (1987)', 202: 'Groundhog Day (1993)', 203: 'Unforgiven (1992)', 204: 'Back to the Future (1985)', 205: 'Patton (1970)', 206: 'Akira (1988)', 207: 'Cyrano de Bergerac (1990)', 208: 'Young Frankenstein (1974)', 209: 'This Is Spinal Tap (1984)', 210: 'Indiana Jones and the Last Crusade (1989)', 211: 'M*A*S*H (1970)', 212: 'Unbearable Lightness of Being, The (1988)', 213: 'Room with a View, A (1986)', 214: 'Pink Floyd - The Wall (1982)', 215: 'Field of Dreams (1989)', 216: 'When Harry Met Sally... (1989)', 217: \"Bram Stoker's Dracula (1992)\", 218: 'Cape Fear (1991)', 219: 'Nightmare on Elm Street, A (1984)', 220: 'Mirror Has Two Faces, The (1996)', 221: 'Breaking the Waves (1996)', 222: 'Star Trek: First Contact (1996)', 223: 'Sling Blade (1996)', 224: 'Ridicule (1996)', 225: '101 Dalmatians (1996)', 226: 'Die Hard 2 (1990)', 227: 'Star Trek VI: The Undiscovered Country (1991)', 228: 'Star Trek: The Wrath of Khan (1982)', 229: 'Star Trek III: The Search for Spock (1984)', 230: 'Star Trek IV: The Voyage Home (1986)', 231: 'Batman Returns (1992)', 232: 'Young Guns (1988)', 233: 'Under Siege (1992)', 234: 'Jaws (1975)', 235: 'Mars Attacks! (1996)', 236: 'Citizen Ruth (1996)', 237: 'Jerry Maguire (1996)', 238: 'Raising Arizona (1987)', 239: 'Sneakers (1992)', 240: 'Beavis and Butt-head Do America (1996)', 241: 'Last of the Mohicans, The (1992)', 242: 'Kolya (1996)', 243: 'Jungle2Jungle (1997)', 244: \"Smilla's Sense of Snow (1997)\", 245: \"Devil's Own, The (1997)\", 246: 'Chasing Amy (1997)', 247: 'Turbo: A Power Rangers Movie (1997)', 248: 'Grosse Pointe Blank (1997)', 249: 'Austin Powers: International Man of Mystery (1997)', 250: 'Fifth Element, The (1997)', 251: 'Shall We Dance? (1996)', 252: 'Lost World: Jurassic Park, The (1997)', 253: 'Pillow Book, The (1995)', 254: 'Batman & Robin (1997)', 255: \"My Best Friend's Wedding (1997)\", 256: 'When the Cats Away (Chacun cherche son chat) (1996)', 257: 'Men in Black (1997)', 258: 'Contact (1997)', 259: 'George of the Jungle (1997)', 260: 'Event Horizon (1997)', 261: 'Air Bud (1997)', 262: 'In the Company of Men (1997)', 263: 'Steel (1997)', 264: 'Mimic (1997)', 265: 'Hunt for Red October, The (1990)', 266: 'Kull the Conqueror (1997)', 267: 'unknown', 268: 'Chasing Amy (1997)', 269: 'Full Monty, The (1997)', 270: 'Gattaca (1997)', 271: 'Starship Troopers (1997)', 272: 'Good Will Hunting (1997)', 273: 'Heat (1995)', 274: 'Sabrina (1995)', 275: 'Sense and Sensibility (1995)', 276: 'Leaving Las Vegas (1995)', 277: 'Restoration (1995)', 278: 'Bed of Roses (1996)', 279: 'Once Upon a Time... When We Were Colored (1995)', 280: 'Up Close and Personal (1996)', 281: 'River Wild, The (1994)', 282: 'Time to Kill, A (1996)', 283: 'Emma (1996)', 284: 'Tin Cup (1996)', 285: 'Secrets & Lies (1996)', 286: 'English Patient, The (1996)', 287: \"Marvin's Room (1996)\", 288: 'Scream (1996)', 289: 'Evita (1996)', 290: 'Fierce Creatures (1997)', 291: 'Absolute Power (1997)', 292: 'Rosewood (1997)', 293: 'Donnie Brasco (1997)', 294: 'Liar Liar (1997)', 295: 'Breakdown (1997)', 296: 'Promesse, La (1996)', 297: \"Ulee's Gold (1997)\", 298: 'Face/Off (1997)', 299: 'Hoodlum (1997)', 300: 'Air Force One (1997)', 301: 'In & Out (1997)', 302: 'L.A. Confidential (1997)', 303: \"Ulee's Gold (1997)\", 304: 'Fly Away Home (1996)', 305: 'Ice Storm, The (1997)', 306: 'Mrs. Brown (Her Majesty, Mrs. Brown) (1997)', 307: \"Devil's Advocate, The (1997)\", 308: 'FairyTale: A True Story (1997)', 309: 'Deceiver (1997)', 310: 'Rainmaker, The (1997)', 311: 'Wings of the Dove, The (1997)', 312: 'Midnight in the Garden of Good and Evil (1997)', 313: 'Titanic (1997)', 314: '3 Ninjas: High Noon At Mega Mountain (1998)', 315: 'Apt Pupil (1998)', 316: 'As Good As It Gets (1997)', 317: 'In the Name of the Father (1993)', 318: \"Schindler's List (1993)\", 319: 'Everyone Says I Love You (1996)', 320: 'Paradise Lost: The Child Murders at Robin Hood Hills (1996)', 321: 'Mother (1996)', 322: 'Murder at 1600 (1997)', 323: \"Dante's Peak (1997)\", 324: 'Lost Highway (1997)', 325: 'Crash (1996)', 326: 'G.I. Jane (1997)', 327: 'Cop Land (1997)', 328: 'Conspiracy Theory (1997)', 329: 'Desperate Measures (1998)', 330: '187 (1997)', 331: 'Edge, The (1997)', 332: 'Kiss the Girls (1997)', 333: 'Game, The (1997)', 334: 'U Turn (1997)', 335: 'How to Be a Player (1997)', 336: 'Playing God (1997)', 337: 'House of Yes, The (1997)', 338: 'Bean (1997)', 339: 'Mad City (1997)', 340: 'Boogie Nights (1997)', 341: 'Critical Care (1997)', 342: 'Man Who Knew Too Little, The (1997)', 343: 'Alien: Resurrection (1997)', 344: 'Apostle, The (1997)', 345: 'Deconstructing Harry (1997)', 346: 'Jackie Brown (1997)', 347: 'Wag the Dog (1997)', 348: 'Desperate Measures (1998)', 349: 'Hard Rain (1998)', 350: 'Fallen (1998)', 351: 'Prophecy II, The (1998)', 352: 'Spice World (1997)', 353: 'Deep Rising (1998)', 354: 'Wedding Singer, The (1998)', 355: 'Sphere (1998)', 356: 'Client, The (1994)', 357: \"One Flew Over the Cuckoo's Nest (1975)\", 358: 'Spawn (1997)', 359: 'Assignment, The (1997)', 360: 'Wonderland (1997)', 361: 'Incognito (1997)', 362: 'Blues Brothers 2000 (1998)', 363: 'Sudden Death (1995)', 364: 'Ace Ventura: When Nature Calls (1995)', 365: 'Powder (1995)', 366: 'Dangerous Minds (1995)', 367: 'Clueless (1995)', 368: 'Bio-Dome (1996)', 369: 'Black Sheep (1996)', 370: 'Mary Reilly (1996)', 371: 'Bridges of Madison County, The (1995)', 372: 'Jeffrey (1995)', 373: 'Judge Dredd (1995)', 374: 'Mighty Morphin Power Rangers: The Movie (1995)', 375: 'Showgirls (1995)', 376: 'Houseguest (1994)', 377: 'Heavyweights (1994)', 378: 'Miracle on 34th Street (1994)', 379: 'Tales From the Crypt Presents: Demon Knight (1995)', 380: 'Star Trek: Generations (1994)', 381: \"Muriel's Wedding (1994)\", 382: 'Adventures of Priscilla, Queen of the Desert, The (1994)', 383: 'Flintstones, The (1994)', 384: 'Naked Gun 33 1/3: The Final Insult (1994)', 385: 'True Lies (1994)', 386: 'Addams Family Values (1993)', 387: 'Age of Innocence, The (1993)', 388: 'Beverly Hills Cop III (1994)', 389: 'Black Beauty (1994)', 390: 'Fear of a Black Hat (1993)', 391: 'Last Action Hero (1993)', 392: 'Man Without a Face, The (1993)', 393: 'Mrs. Doubtfire (1993)', 394: 'Radioland Murders (1994)', 395: 'Robin Hood: Men in Tights (1993)', 396: 'Serial Mom (1994)', 397: 'Striking Distance (1993)', 398: 'Super Mario Bros. (1993)', 399: 'Three Musketeers, The (1993)', 400: 'Little Rascals, The (1994)', 401: 'Brady Bunch Movie, The (1995)', 402: 'Ghost (1990)', 403: 'Batman (1989)', 404: 'Pinocchio (1940)', 405: 'Mission: Impossible (1996)', 406: 'Thinner (1996)', 407: 'Spy Hard (1996)', 408: 'Close Shave, A (1995)', 409: 'Jack (1996)', 410: 'Kingpin (1996)', 411: 'Nutty Professor, The (1996)', 412: 'Very Brady Sequel, A (1996)', 413: 'Tales from the Crypt Presents: Bordello of Blood (1996)', 414: 'My Favorite Year (1982)', 415: 'Apple Dumpling Gang, The (1975)', 416: 'Old Yeller (1957)', 417: 'Parent Trap, The (1961)', 418: 'Cinderella (1950)', 419: 'Mary Poppins (1964)', 420: 'Alice in Wonderland (1951)', 421: \"William Shakespeare's Romeo and Juliet (1996)\", 422: 'Aladdin and the King of Thieves (1996)', 423: 'E.T. the Extra-Terrestrial (1982)', 424: 'Children of the Corn: The Gathering (1996)', 425: 'Bob Roberts (1992)', 426: 'Transformers: The Movie, The (1986)', 427: 'To Kill a Mockingbird (1962)', 428: 'Harold and Maude (1971)', 429: 'Day the Earth Stood Still, The (1951)', 430: 'Duck Soup (1933)', 431: 'Highlander (1986)', 432: 'Fantasia (1940)', 433: 'Heathers (1989)', 434: 'Forbidden Planet (1956)', 435: 'Butch Cassidy and the Sundance Kid (1969)', 436: 'American Werewolf in London, An (1981)', 437: \"Amityville 1992: It's About Time (1992)\", 438: 'Amityville 3-D (1983)', 439: 'Amityville: A New Generation (1993)', 440: 'Amityville II: The Possession (1982)', 441: 'Amityville Horror, The (1979)', 442: 'Amityville Curse, The (1990)', 443: 'Birds, The (1963)', 444: 'Blob, The (1958)', 445: 'Body Snatcher, The (1945)', 446: 'Burnt Offerings (1976)', 447: 'Carrie (1976)', 448: 'Omen, The (1976)', 449: 'Star Trek: The Motion Picture (1979)', 450: 'Star Trek V: The Final Frontier (1989)', 451: 'Grease (1978)', 452: 'Jaws 2 (1978)', 453: 'Jaws 3-D (1983)', 454: 'Bastard Out of Carolina (1996)', 455: \"Jackie Chan's First Strike (1996)\", 456: 'Beverly Hills Ninja (1997)', 457: 'Free Willy 3: The Rescue (1997)', 458: 'Nixon (1995)', 459: 'Cry, the Beloved Country (1995)', 460: 'Crossing Guard, The (1995)', 461: 'Smoke (1995)', 462: 'Like Water For Chocolate (Como agua para chocolate) (1992)', 463: 'Secret of Roan Inish, The (1994)', 464: 'Vanya on 42nd Street (1994)', 465: 'Jungle Book, The (1994)', 466: 'Red Rock West (1992)', 467: 'Bronx Tale, A (1993)', 468: 'Rudy (1993)', 469: 'Short Cuts (1993)', 470: 'Tombstone (1993)', 471: 'Courage Under Fire (1996)', 472: 'Dragonheart (1996)', 473: 'James and the Giant Peach (1996)', 474: 'Dr. Strangelove or: How I Learned to Stop Worrying and Love the Bomb (1963)', 475: 'Trainspotting (1996)', 476: 'First Wives Club, The (1996)', 477: 'Matilda (1996)', 478: 'Philadelphia Story, The (1940)', 479: 'Vertigo (1958)', 480: 'North by Northwest (1959)', 481: 'Apartment, The (1960)', 482: 'Some Like It Hot (1959)', 483: 'Casablanca (1942)', 484: 'Maltese Falcon, The (1941)', 485: 'My Fair Lady (1964)', 486: 'Sabrina (1954)', 487: 'Roman Holiday (1953)', 488: 'Sunset Blvd. (1950)', 489: 'Notorious (1946)', 490: 'To Catch a Thief (1955)', 491: 'Adventures of Robin Hood, The (1938)', 492: 'East of Eden (1955)', 493: 'Thin Man, The (1934)', 494: 'His Girl Friday (1940)', 495: 'Around the World in 80 Days (1956)', 496: \"It's a Wonderful Life (1946)\", 497: 'Bringing Up Baby (1938)', 498: 'African Queen, The (1951)', 499: 'Cat on a Hot Tin Roof (1958)', 500: 'Fly Away Home (1996)', 501: 'Dumbo (1941)', 502: 'Bananas (1971)', 503: 'Candidate, The (1972)', 504: 'Bonnie and Clyde (1967)', 505: 'Dial M for Murder (1954)', 506: 'Rebel Without a Cause (1955)', 507: 'Streetcar Named Desire, A (1951)', 508: 'People vs. Larry Flynt, The (1996)', 509: 'My Left Foot (1989)', 510: 'Magnificent Seven, The (1954)', 511: 'Lawrence of Arabia (1962)', 512: 'Wings of Desire (1987)', 513: 'Third Man, The (1949)', 514: 'Annie Hall (1977)', 515: 'Boot, Das (1981)', 516: 'Local Hero (1983)', 517: 'Manhattan (1979)', 518: \"Miller's Crossing (1990)\", 519: 'Treasure of the Sierra Madre, The (1948)', 520: 'Great Escape, The (1963)', 521: 'Deer Hunter, The (1978)', 522: 'Down by Law (1986)', 523: 'Cool Hand Luke (1967)', 524: 'Great Dictator, The (1940)', 525: 'Big Sleep, The (1946)', 526: 'Ben-Hur (1959)', 527: 'Gandhi (1982)', 528: 'Killing Fields, The (1984)', 529: 'My Life as a Dog (Mitt liv som hund) (1985)', 530: 'Man Who Would Be King, The (1975)', 531: 'Shine (1996)', 532: 'Kama Sutra: A Tale of Love (1996)', 533: 'Daytrippers, The (1996)', 534: 'Traveller (1997)', 535: 'Addicted to Love (1997)', 536: 'Ponette (1996)', 537: 'My Own Private Idaho (1991)', 538: 'Anastasia (1997)', 539: 'Mouse Hunt (1997)', 540: 'Money Train (1995)', 541: 'Mortal Kombat (1995)', 542: 'Pocahontas (1995)', 543: 'Mis�rables, Les (1995)', 544: \"Things to Do in Denver when You're Dead (1995)\", 545: 'Vampire in Brooklyn (1995)', 546: 'Broken Arrow (1996)', 547: \"Young Poisoner's Handbook, The (1995)\", 548: 'NeverEnding Story III, The (1994)', 549: 'Rob Roy (1995)', 550: 'Die Hard: With a Vengeance (1995)', 551: 'Lord of Illusions (1995)', 552: 'Species (1995)', 553: 'Walk in the Clouds, A (1995)', 554: 'Waterworld (1995)', 555: \"White Man's Burden (1995)\", 556: 'Wild Bill (1995)', 557: 'Farinelli: il castrato (1994)', 558: 'Heavenly Creatures (1994)', 559: 'Interview with the Vampire (1994)', 560: \"Kid in King Arthur's Court, A (1995)\", 561: \"Mary Shelley's Frankenstein (1994)\", 562: 'Quick and the Dead, The (1995)', 563: \"Stephen King's The Langoliers (1995)\", 564: 'Tales from the Hood (1995)', 565: 'Village of the Damned (1995)', 566: 'Clear and Present Danger (1994)', 567: \"Wes Craven's New Nightmare (1994)\", 568: 'Speed (1994)', 569: 'Wolf (1994)', 570: 'Wyatt Earp (1994)', 571: 'Another Stakeout (1993)', 572: 'Blown Away (1994)', 573: 'Body Snatchers (1993)', 574: 'Boxing Helena (1993)', 575: \"City Slickers II: The Legend of Curly's Gold (1994)\", 576: 'Cliffhanger (1993)', 577: 'Coneheads (1993)', 578: 'Demolition Man (1993)', 579: 'Fatal Instinct (1993)', 580: 'Englishman Who Went Up a Hill, But Came Down a Mountain, The (1995)', 581: 'Kalifornia (1993)', 582: 'Piano, The (1993)', 583: 'Romeo Is Bleeding (1993)', 584: 'Secret Garden, The (1993)', 585: 'Son in Law (1993)', 586: 'Terminal Velocity (1994)', 587: 'Hour of the Pig, The (1993)', 588: 'Beauty and the Beast (1991)', 589: 'Wild Bunch, The (1969)', 590: 'Hellraiser: Bloodline (1996)', 591: 'Primal Fear (1996)', 592: 'True Crime (1995)', 593: 'Stalingrad (1993)', 594: 'Heavy (1995)', 595: 'Fan, The (1996)', 596: 'Hunchback of Notre Dame, The (1996)', 597: 'Eraser (1996)', 598: 'Big Squeeze, The (1996)', 599: 'Police Story 4: Project S (Chao ji ji hua) (1993)', 600: \"Daniel Defoe's Robinson Crusoe (1996)\", 601: 'For Whom the Bell Tolls (1943)', 602: 'American in Paris, An (1951)', 603: 'Rear Window (1954)', 604: 'It Happened One Night (1934)', 605: 'Meet Me in St. Louis (1944)', 606: 'All About Eve (1950)', 607: 'Rebecca (1940)', 608: 'Spellbound (1945)', 609: 'Father of the Bride (1950)', 610: 'Gigi (1958)', 611: 'Laura (1944)', 612: 'Lost Horizon (1937)', 613: 'My Man Godfrey (1936)', 614: 'Giant (1956)', 615: '39 Steps, The (1935)', 616: 'Night of the Living Dead (1968)', 617: 'Blue Angel, The (Blaue Engel, Der) (1930)', 618: 'Picnic (1955)', 619: 'Extreme Measures (1996)', 620: 'Chamber, The (1996)', 621: 'Davy Crockett, King of the Wild Frontier (1955)', 622: 'Swiss Family Robinson (1960)', 623: 'Angels in the Outfield (1994)', 624: 'Three Caballeros, The (1945)', 625: 'Sword in the Stone, The (1963)', 626: 'So Dear to My Heart (1949)', 627: 'Robin Hood: Prince of Thieves (1991)', 628: 'Sleepers (1996)', 629: 'Victor/Victoria (1982)', 630: 'Great Race, The (1965)', 631: 'Crying Game, The (1992)', 632: \"Sophie's Choice (1982)\", 633: 'Christmas Carol, A (1938)', 634: \"Microcosmos: Le peuple de l'herbe (1996)\", 635: 'Fog, The (1980)', 636: 'Escape from New York (1981)', 637: 'Howling, The (1981)', 638: 'Return of Martin Guerre, The (Retour de Martin Guerre, Le) (1982)', 639: 'Tin Drum, The (Blechtrommel, Die) (1979)', 640: 'Cook the Thief His Wife & Her Lover, The (1989)', 641: 'Paths of Glory (1957)', 642: 'Grifters, The (1990)', 643: 'The Innocent (1994)', 644: 'Thin Blue Line, The (1988)', 645: 'Paris Is Burning (1990)', 646: 'Once Upon a Time in the West (1969)', 647: 'Ran (1985)', 648: 'Quiet Man, The (1952)', 649: 'Once Upon a Time in America (1984)', 650: 'Seventh Seal, The (Sjunde inseglet, Det) (1957)', 651: 'Glory (1989)', 652: 'Rosencrantz and Guildenstern Are Dead (1990)', 653: 'Touch of Evil (1958)', 654: 'Chinatown (1974)', 655: 'Stand by Me (1986)', 656: 'M (1931)', 657: 'Manchurian Candidate, The (1962)', 658: 'Pump Up the Volume (1990)', 659: 'Arsenic and Old Lace (1944)', 660: 'Fried Green Tomatoes (1991)', 661: 'High Noon (1952)', 662: 'Somewhere in Time (1980)', 663: 'Being There (1979)', 664: 'Paris, Texas (1984)', 665: 'Alien 3 (1992)', 666: \"Blood For Dracula (Andy Warhol's Dracula) (1974)\", 667: 'Audrey Rose (1977)', 668: 'Blood Beach (1981)', 669: 'Body Parts (1991)', 670: 'Body Snatchers (1993)', 671: 'Bride of Frankenstein (1935)', 672: 'Candyman (1992)', 673: 'Cape Fear (1962)', 674: 'Cat People (1982)', 675: 'Nosferatu (Nosferatu, eine Symphonie des Grauens) (1922)', 676: 'Crucible, The (1996)', 677: 'Fire on the Mountain (1996)', 678: 'Volcano (1997)', 679: 'Conan the Barbarian (1981)', 680: 'Kull the Conqueror (1997)', 681: 'Wishmaster (1997)', 682: 'I Know What You Did Last Summer (1997)', 683: 'Rocket Man (1997)', 684: 'In the Line of Fire (1993)', 685: 'Executive Decision (1996)', 686: 'Perfect World, A (1993)', 687: \"McHale's Navy (1997)\", 688: 'Leave It to Beaver (1997)', 689: 'Jackal, The (1997)', 690: 'Seven Years in Tibet (1997)', 691: 'Dark City (1998)', 692: 'American President, The (1995)', 693: 'Casino (1995)', 694: 'Persuasion (1995)', 695: 'Kicking and Screaming (1995)', 696: 'City Hall (1996)', 697: 'Basketball Diaries, The (1995)', 698: 'Browning Version, The (1994)', 699: 'Little Women (1994)', 700: 'Miami Rhapsody (1995)', 701: 'Wonderful, Horrible Life of Leni Riefenstahl, The (1993)', 702: 'Barcelona (1994)', 703: \"Widows' Peak (1994)\", 704: 'House of the Spirits, The (1993)', 705: \"Singin' in the Rain (1952)\", 706: 'Bad Moon (1996)', 707: 'Enchanted April (1991)', 708: 'Sex, Lies, and Videotape (1989)', 709: 'Strictly Ballroom (1992)', 710: 'Better Off Dead... (1985)', 711: 'Substance of Fire, The (1996)', 712: 'Tin Men (1987)', 713: 'Othello (1995)', 714: 'Carrington (1995)', 715: 'To Die For (1995)', 716: 'Home for the Holidays (1995)', 717: 'Juror, The (1996)', 718: 'In the Bleak Midwinter (1995)', 719: 'Canadian Bacon (1994)', 720: 'First Knight (1995)', 721: 'Mallrats (1995)', 722: 'Nine Months (1995)', 723: 'Boys on the Side (1995)', 724: 'Circle of Friends (1995)', 725: 'Exit to Eden (1994)', 726: 'Fluke (1995)', 727: 'Immortal Beloved (1994)', 728: 'Junior (1994)', 729: 'Nell (1994)', 730: 'Queen Margot (Reine Margot, La) (1994)', 731: 'Corrina, Corrina (1994)', 732: 'Dave (1993)', 733: 'Go Fish (1994)', 734: 'Made in America (1993)', 735: 'Philadelphia (1993)', 736: 'Shadowlands (1993)', 737: 'Sirens (1994)', 738: 'Threesome (1994)', 739: 'Pretty Woman (1990)', 740: 'Jane Eyre (1996)', 741: 'Last Supper, The (1995)', 742: 'Ransom (1996)', 743: 'Crow: City of Angels, The (1996)', 744: 'Michael Collins (1996)', 745: 'Ruling Class, The (1972)', 746: 'Real Genius (1985)', 747: 'Benny & Joon (1993)', 748: 'Saint, The (1997)', 749: 'MatchMaker, The (1997)', 750: 'Amistad (1997)', 751: 'Tomorrow Never Dies (1997)', 752: 'Replacement Killers, The (1998)', 753: 'Burnt By the Sun (1994)', 754: 'Red Corner (1997)', 755: 'Jumanji (1995)', 756: 'Father of the Bride Part II (1995)', 757: 'Across the Sea of Time (1995)', 758: 'Lawnmower Man 2: Beyond Cyberspace (1996)', 759: 'Fair Game (1995)', 760: 'Screamers (1995)', 761: 'Nick of Time (1995)', 762: 'Beautiful Girls (1996)', 763: 'Happy Gilmore (1996)', 764: 'If Lucy Fell (1996)', 765: 'Boomerang (1992)', 766: 'Man of the Year (1995)', 767: 'Addiction, The (1995)', 768: 'Casper (1995)', 769: 'Congo (1995)', 770: 'Devil in a Blue Dress (1995)', 771: 'Johnny Mnemonic (1995)', 772: 'Kids (1995)', 773: 'Mute Witness (1994)', 774: 'Prophecy, The (1995)', 775: 'Something to Talk About (1995)', 776: 'Three Wishes (1995)', 777: 'Castle Freak (1995)', 778: 'Don Juan DeMarco (1995)', 779: 'Drop Zone (1994)', 780: 'Dumb & Dumber (1994)', 781: 'French Kiss (1995)', 782: 'Little Odessa (1994)', 783: 'Milk Money (1994)', 784: 'Beyond Bedlam (1993)', 785: 'Only You (1994)', 786: 'Perez Family, The (1995)', 787: 'Roommates (1995)', 788: 'Relative Fear (1994)', 789: 'Swimming with Sharks (1995)', 790: 'Tommy Boy (1995)', 791: 'Baby-Sitters Club, The (1995)', 792: 'Bullets Over Broadway (1994)', 793: 'Crooklyn (1994)', 794: 'It Could Happen to You (1994)', 795: 'Richie Rich (1994)', 796: 'Speechless (1994)', 797: 'Timecop (1994)', 798: 'Bad Company (1995)', 799: 'Boys Life (1995)', 800: 'In the Mouth of Madness (1995)', 801: 'Air Up There, The (1994)', 802: 'Hard Target (1993)', 803: 'Heaven & Earth (1993)', 804: 'Jimmy Hollywood (1994)', 805: 'Manhattan Murder Mystery (1993)', 806: 'Menace II Society (1993)', 807: 'Poetic Justice (1993)', 808: 'Program, The (1993)', 809: 'Rising Sun (1993)', 810: 'Shadow, The (1994)', 811: 'Thirty-Two Short Films About Glenn Gould (1993)', 812: 'Andre (1994)', 813: 'Celluloid Closet, The (1995)', 814: 'Great Day in Harlem, A (1994)', 815: 'One Fine Day (1996)', 816: 'Candyman: Farewell to the Flesh (1995)', 817: 'Frisk (1995)', 818: 'Girl 6 (1996)', 819: 'Eddie (1996)', 820: 'Space Jam (1996)', 821: 'Mrs. Winterbourne (1996)', 822: 'Faces (1968)', 823: 'Mulholland Falls (1996)', 824: 'Great White Hype, The (1996)', 825: 'Arrival, The (1996)', 826: 'Phantom, The (1996)', 827: 'Daylight (1996)', 828: 'Alaska (1996)', 829: 'Fled (1996)', 830: 'Power 98 (1995)', 831: 'Escape from L.A. (1996)', 832: 'Bogus (1996)', 833: 'Bulletproof (1996)', 834: 'Halloween: The Curse of Michael Myers (1995)', 835: 'Gay Divorcee, The (1934)', 836: 'Ninotchka (1939)', 837: 'Meet John Doe (1941)', 838: 'In the Line of Duty 2 (1987)', 839: 'Loch Ness (1995)', 840: 'Last Man Standing (1996)', 841: 'Glimmer Man, The (1996)', 842: 'Pollyanna (1960)', 843: 'Shaggy Dog, The (1959)', 844: 'Freeway (1996)', 845: 'That Thing You Do! (1996)', 846: 'To Gillian on Her 37th Birthday (1996)', 847: 'Looking for Richard (1996)', 848: 'Murder, My Sweet (1944)', 849: 'Days of Thunder (1990)', 850: 'Perfect Candidate, A (1996)', 851: 'Two or Three Things I Know About Her (1966)', 852: 'Bloody Child, The (1996)', 853: 'Braindead (1992)', 854: 'Bad Taste (1987)', 855: 'Diva (1981)', 856: 'Night on Earth (1991)', 857: 'Paris Was a Woman (1995)', 858: 'Amityville: Dollhouse (1996)', 859: \"April Fool's Day (1986)\", 860: 'Believers, The (1987)', 861: 'Nosferatu a Venezia (1986)', 862: 'Jingle All the Way (1996)', 863: 'Garden of Finzi-Contini, The (Giardino dei Finzi-Contini, Il) (1970)', 864: 'My Fellow Americans (1996)', 865: 'Ice Storm, The (1997)', 866: 'Michael (1996)', 867: 'Whole Wide World, The (1996)', 868: 'Hearts and Minds (1996)', 869: 'Fools Rush In (1997)', 870: 'Touch (1997)', 871: 'Vegas Vacation (1997)', 872: 'Love Jones (1997)', 873: 'Picture Perfect (1997)', 874: 'Career Girls (1997)', 875: \"She's So Lovely (1997)\", 876: 'Money Talks (1997)', 877: 'Excess Baggage (1997)', 878: 'That Darn Cat! (1997)', 879: 'Peacemaker, The (1997)', 880: 'Soul Food (1997)', 881: 'Money Talks (1997)', 882: 'Washington Square (1997)', 883: 'Telling Lies in America (1997)', 884: 'Year of the Horse (1997)', 885: 'Phantoms (1998)', 886: 'Life Less Ordinary, A (1997)', 887: \"Eve's Bayou (1997)\", 888: 'One Night Stand (1997)', 889: 'Tango Lesson, The (1997)', 890: 'Mortal Kombat: Annihilation (1997)', 891: 'Bent (1997)', 892: 'Flubber (1997)', 893: 'For Richer or Poorer (1997)', 894: 'Home Alone 3 (1997)', 895: 'Scream 2 (1997)', 896: 'Sweet Hereafter, The (1997)', 897: 'Time Tracers (1995)', 898: 'Postman, The (1997)', 899: 'Winter Guest, The (1997)', 900: 'Kundun (1997)', 901: 'Mr. Magoo (1997)', 902: 'Big Lebowski, The (1998)', 903: 'Afterglow (1997)', 904: 'Ma vie en rose (My Life in Pink) (1997)', 905: 'Great Expectations (1998)', 906: 'Oscar & Lucinda (1997)', 907: 'Vermin (1998)', 908: 'Half Baked (1998)', 909: 'Dangerous Beauty (1998)', 910: 'Nil By Mouth (1997)', 911: 'Twilight (1998)', 912: 'U.S. Marshalls (1998)', 913: 'Love and Death on Long Island (1997)', 914: 'Wild Things (1998)', 915: 'Primary Colors (1998)', 916: 'Lost in Space (1998)', 917: 'Mercury Rising (1998)', 918: 'City of Angels (1998)', 919: 'City of Lost Children, The (1995)', 920: 'Two Bits (1995)', 921: 'Farewell My Concubine (1993)', 922: 'Dead Man (1995)', 923: 'Raise the Red Lantern (1991)', 924: 'White Squall (1996)', 925: 'Unforgettable (1996)', 926: 'Down Periscope (1996)', 927: 'Flower of My Secret, The (Flor de mi secreto, La) (1995)', 928: 'Craft, The (1996)', 929: 'Harriet the Spy (1996)', 930: 'Chain Reaction (1996)', 931: 'Island of Dr. Moreau, The (1996)', 932: 'First Kid (1996)', 933: 'Funeral, The (1996)', 934: \"Preacher's Wife, The (1996)\", 935: 'Paradise Road (1997)', 936: 'Brassed Off (1996)', 937: 'Thousand Acres, A (1997)', 938: 'Smile Like Yours, A (1997)', 939: 'Murder in the First (1995)', 940: 'Airheads (1994)', 941: 'With Honors (1994)', 942: \"What's Love Got to Do with It (1993)\", 943: 'Killing Zoe (1994)', 944: 'Renaissance Man (1994)', 945: 'Charade (1963)', 946: 'Fox and the Hound, The (1981)', 947: 'Big Blue, The (Grand bleu, Le) (1988)', 948: 'Booty Call (1997)', 949: 'How to Make an American Quilt (1995)', 950: 'Georgia (1995)', 951: 'Indian in the Cupboard, The (1995)', 952: 'Blue in the Face (1995)', 953: 'Unstrung Heroes (1995)', 954: 'Unzipped (1995)', 955: 'Before Sunrise (1995)', 956: \"Nobody's Fool (1994)\", 957: 'Pushing Hands (1992)', 958: 'To Live (Huozhe) (1994)', 959: 'Dazed and Confused (1993)', 960: 'Naked (1993)', 961: 'Orlando (1993)', 962: 'Ruby in Paradise (1993)', 963: 'Some Folks Call It a Sling Blade (1993)', 964: 'Month by the Lake, A (1995)', 965: 'Funny Face (1957)', 966: 'Affair to Remember, An (1957)', 967: 'Little Lord Fauntleroy (1936)', 968: 'Inspector General, The (1949)', 969: 'Winnie the Pooh and the Blustery Day (1968)', 970: 'Hear My Song (1991)', 971: 'Mediterraneo (1991)', 972: 'Passion Fish (1992)', 973: 'Grateful Dead (1995)', 974: 'Eye for an Eye (1996)', 975: 'Fear (1996)', 976: 'Solo (1996)', 977: 'Substitute, The (1996)', 978: \"Heaven's Prisoners (1996)\", 979: 'Trigger Effect, The (1996)', 980: 'Mother Night (1996)', 981: 'Dangerous Ground (1997)', 982: 'Maximum Risk (1996)', 983: \"Rich Man's Wife, The (1996)\", 984: 'Shadow Conspiracy (1997)', 985: 'Blood & Wine (1997)', 986: 'Turbulence (1997)', 987: 'Underworld (1997)', 988: 'Beautician and the Beast, The (1997)', 989: \"Cats Don't Dance (1997)\", 990: 'Anna Karenina (1997)', 991: 'Keys to Tulsa (1997)', 992: 'Head Above Water (1996)', 993: 'Hercules (1997)', 994: 'Last Time I Committed Suicide, The (1997)', 995: 'Kiss Me, Guido (1997)', 996: 'Big Green, The (1995)', 997: 'Stuart Saves His Family (1995)', 998: 'Cabin Boy (1994)', 999: 'Clean Slate (1994)', 1000: 'Lightning Jack (1994)', 1001: 'Stupids, The (1996)', 1002: 'Pest, The (1997)', 1003: 'That Darn Cat! (1997)', 1004: 'Geronimo: An American Legend (1993)', 1005: 'Double vie de V�ronique, La (Double Life of Veronique, The) (1991)', 1006: 'Until the End of the World (Bis ans Ende der Welt) (1991)', 1007: 'Waiting for Guffman (1996)', 1008: 'I Shot Andy Warhol (1996)', 1009: 'Stealing Beauty (1996)', 1010: 'Basquiat (1996)', 1011: '2 Days in the Valley (1996)', 1012: 'Private Parts (1997)', 1013: 'Anaconda (1997)', 1014: \"Romy and Michele's High School Reunion (1997)\", 1015: 'Shiloh (1997)', 1016: 'Con Air (1997)', 1017: 'Trees Lounge (1996)', 1018: 'Tie Me Up! Tie Me Down! (1990)', 1019: 'Die xue shuang xiong (Killer, The) (1989)', 1020: 'Gaslight (1944)', 1021: '8 1/2 (1963)', 1022: 'Fast, Cheap & Out of Control (1997)', 1023: \"Fathers' Day (1997)\", 1024: 'Mrs. Dalloway (1997)', 1025: 'Fire Down Below (1997)', 1026: 'Lay of the Land, The (1997)', 1027: 'Shooter, The (1995)', 1028: 'Grumpier Old Men (1995)', 1029: 'Jury Duty (1995)', 1030: 'Beverly Hillbillies, The (1993)', 1031: 'Lassie (1994)', 1032: 'Little Big League (1994)', 1033: 'Homeward Bound II: Lost in San Francisco (1996)', 1034: 'Quest, The (1996)', 1035: 'Cool Runnings (1993)', 1036: 'Drop Dead Fred (1991)', 1037: 'Grease 2 (1982)', 1038: 'Switchback (1997)', 1039: 'Hamlet (1996)', 1040: 'Two if by Sea (1996)', 1041: 'Forget Paris (1995)', 1042: 'Just Cause (1995)', 1043: 'Rent-a-Kid (1995)', 1044: 'Paper, The (1994)', 1045: 'Fearless (1993)', 1046: 'Malice (1993)', 1047: 'Multiplicity (1996)', 1048: \"She's the One (1996)\", 1049: 'House Arrest (1996)', 1050: 'Ghost and Mrs. Muir, The (1947)', 1051: 'Associate, The (1996)', 1052: 'Dracula: Dead and Loving It (1995)', 1053: 'Now and Then (1995)', 1054: 'Mr. Wrong (1996)', 1055: 'Simple Twist of Fate, A (1994)', 1056: 'Cronos (1992)', 1057: 'Pallbearer, The (1996)', 1058: 'War, The (1994)', 1059: \"Don't Be a Menace to South Central While Drinking Your Juice in the Hood (1996)\", 1060: 'Adventures of Pinocchio, The (1996)', 1061: 'Evening Star, The (1996)', 1062: 'Four Days in September (1997)', 1063: 'Little Princess, A (1995)', 1064: 'Crossfire (1947)', 1065: 'Koyaanisqatsi (1983)', 1066: 'Balto (1995)', 1067: 'Bottle Rocket (1996)', 1068: \"Star Maker, The (Uomo delle stelle, L') (1995)\", 1069: 'Amateur (1994)', 1070: 'Living in Oblivion (1995)', 1071: 'Party Girl (1995)', 1072: \"Pyromaniac's Love Story, A (1995)\", 1073: 'Shallow Grave (1994)', 1074: 'Reality Bites (1994)', 1075: 'Man of No Importance, A (1994)', 1076: 'Pagemaster, The (1994)', 1077: 'Love and a .45 (1994)', 1078: 'Oliver & Company (1988)', 1079: \"Joe's Apartment (1996)\", 1080: 'Celestial Clockwork (1994)', 1081: 'Curdled (1996)', 1082: 'Female Perversions (1996)', 1083: 'Albino Alligator (1996)', 1084: 'Anne Frank Remembered (1995)', 1085: 'Carried Away (1996)', 1086: \"It's My Party (1995)\", 1087: 'Bloodsport 2 (1995)', 1088: 'Double Team (1997)', 1089: 'Speed 2: Cruise Control (1997)', 1090: 'Sliver (1993)', 1091: \"Pete's Dragon (1977)\", 1092: 'Dear God (1996)', 1093: 'Live Nude Girls (1995)', 1094: 'Thin Line Between Love and Hate, A (1996)', 1095: 'High School High (1996)', 1096: 'Commandments (1997)', 1097: 'Hate (Haine, La) (1995)', 1098: 'Flirting With Disaster (1996)', 1099: 'Red Firecracker, Green Firecracker (1994)', 1100: 'What Happened Was... (1994)', 1101: 'Six Degrees of Separation (1993)', 1102: 'Two Much (1996)', 1103: 'Trust (1990)', 1104: \"C'est arriv� pr�s de chez vous (1992)\", 1105: 'Firestorm (1998)', 1106: 'Newton Boys, The (1998)', 1107: 'Beyond Rangoon (1995)', 1108: 'Feast of July (1995)', 1109: 'Death and the Maiden (1994)', 1110: 'Tank Girl (1995)', 1111: 'Double Happiness (1994)', 1112: 'Cobb (1994)', 1113: 'Mrs. Parker and the Vicious Circle (1994)', 1114: 'Faithful (1996)', 1115: 'Twelfth Night (1996)', 1116: 'Mark of Zorro, The (1940)', 1117: 'Surviving Picasso (1996)', 1118: 'Up in Smoke (1978)', 1119: 'Some Kind of Wonderful (1987)', 1120: \"I'm Not Rappaport (1996)\", 1121: 'Umbrellas of Cherbourg, The (Parapluies de Cherbourg, Les) (1964)', 1122: 'They Made Me a Criminal (1939)', 1123: 'Last Time I Saw Paris, The (1954)', 1124: 'Farewell to Arms, A (1932)', 1125: 'Innocents, The (1961)', 1126: 'Old Man and the Sea, The (1958)', 1127: 'Truman Show, The (1998)', 1128: 'Heidi Fleiss: Hollywood Madam (1995) ', 1129: 'Chungking Express (1994)', 1130: \"Jupiter's Wife (1994)\", 1131: 'Safe (1995)', 1132: 'Feeling Minnesota (1996)', 1133: 'Escape to Witch Mountain (1975)', 1134: 'Get on the Bus (1996)', 1135: 'Doors, The (1991)', 1136: 'Ghosts of Mississippi (1996)', 1137: 'Beautiful Thing (1996)', 1138: 'Best Men (1997)', 1139: 'Hackers (1995)', 1140: 'Road to Wellville, The (1994)', 1141: 'War Room, The (1993)', 1142: 'When We Were Kings (1996)', 1143: 'Hard Eight (1996)', 1144: 'Quiet Room, The (1996)', 1145: 'Blue Chips (1994)', 1146: 'Calendar Girl (1993)', 1147: 'My Family (1995)', 1148: 'Tom & Viv (1994)', 1149: 'Walkabout (1971)', 1150: 'Last Dance (1996)', 1151: 'Original Gangstas (1996)', 1152: 'In Love and War (1996)', 1153: 'Backbeat (1993)', 1154: 'Alphaville (1965)', 1155: 'Rendezvous in Paris (Rendez-vous de Paris, Les) (1995)', 1156: 'Cyclo (1995)', 1157: 'Relic, The (1997)', 1158: 'Fille seule, La (A Single Girl) (1995)', 1159: 'Stalker (1979)', 1160: 'Love! Valour! Compassion! (1997)', 1161: 'Palookaville (1996)', 1162: 'Phat Beach (1996)', 1163: 'Portrait of a Lady, The (1996)', 1164: 'Zeus and Roxanne (1997)', 1165: 'Big Bully (1996)', 1166: 'Love & Human Remains (1993)', 1167: 'Sum of Us, The (1994)', 1168: 'Little Buddha (1993)', 1169: 'Fresh (1994)', 1170: 'Spanking the Monkey (1994)', 1171: 'Wild Reeds (1994)', 1172: 'Women, The (1939)', 1173: 'Bliss (1997)', 1174: 'Caught (1996)', 1175: 'Hugo Pool (1997)', 1176: 'Welcome To Sarajevo (1997)', 1177: 'Dunston Checks In (1996)', 1178: 'Major Payne (1994)', 1179: 'Man of the House (1995)', 1180: 'I Love Trouble (1994)', 1181: 'Low Down Dirty Shame, A (1994)', 1182: 'Cops and Robbersons (1994)', 1183: 'Cowboy Way, The (1994)', 1184: 'Endless Summer 2, The (1994)', 1185: 'In the Army Now (1994)', 1186: 'Inkwell, The (1994)', 1187: 'Switchblade Sisters (1975)', 1188: 'Young Guns II (1990)', 1189: 'Prefontaine (1997)', 1190: 'That Old Feeling (1997)', 1191: 'Letter From Death Row, A (1998)', 1192: 'Boys of St. Vincent, The (1993)', 1193: 'Before the Rain (Pred dozhdot) (1994)', 1194: 'Once Were Warriors (1994)', 1195: 'Strawberry and Chocolate (Fresa y chocolate) (1993)', 1196: 'Savage Nights (Nuits fauves, Les) (1992)', 1197: 'Family Thing, A (1996)', 1198: 'Purple Noon (1960)', 1199: 'Cemetery Man (Dellamorte Dellamore) (1994)', 1200: 'Kim (1950)', 1201: 'Marlene Dietrich: Shadow and Light (1996) ', 1202: 'Maybe, Maybe Not (Bewegte Mann, Der) (1994)', 1203: 'Top Hat (1935)', 1204: 'To Be or Not to Be (1942)', 1205: 'Secret Agent, The (1996)', 1206: 'Amos & Andrew (1993)', 1207: 'Jade (1995)', 1208: 'Kiss of Death (1995)', 1209: 'Mixed Nuts (1994)', 1210: 'Virtuosity (1995)', 1211: 'Blue Sky (1994)', 1212: 'Flesh and Bone (1993)', 1213: 'Guilty as Sin (1993)', 1214: 'In the Realm of the Senses (Ai no corrida) (1976)', 1215: 'Barb Wire (1996)', 1216: 'Kissed (1996)', 1217: 'Assassins (1995)', 1218: 'Friday (1995)', 1219: 'Goofy Movie, A (1995)', 1220: 'Higher Learning (1995)', 1221: 'When a Man Loves a Woman (1994)', 1222: 'Judgment Night (1993)', 1223: 'King of the Hill (1993)', 1224: 'Scout, The (1994)', 1225: 'Angus (1995)', 1226: 'Night Falls on Manhattan (1997)', 1227: 'Awfully Big Adventure, An (1995)', 1228: 'Under Siege 2: Dark Territory (1995)', 1229: 'Poison Ivy II (1995)', 1230: 'Ready to Wear (Pret-A-Porter) (1994)', 1231: 'Marked for Death (1990)', 1232: 'Madonna: Truth or Dare (1991)', 1233: 'N�nette et Boni (1996)', 1234: 'Chairman of the Board (1998)', 1235: 'Big Bang Theory, The (1994)', 1236: 'Other Voices, Other Rooms (1997)', 1237: 'Twisted (1996)', 1238: 'Full Speed (1996)', 1239: 'Cutthroat Island (1995)', 1240: 'Ghost in the Shell (Kokaku kidotai) (1995)', 1241: 'Van, The (1996)', 1242: 'Old Lady Who Walked in the Sea, The (Vieille qui marchait dans la mer, La) (1991)', 1243: 'Night Flier (1997)', 1244: 'Metro (1997)', 1245: \"Gridlock'd (1997)\", 1246: 'Bushwhacked (1995)', 1247: 'Bad Girls (1994)', 1248: 'Blink (1994)', 1249: 'For Love or Money (1993)', 1250: 'Best of the Best 3: No Turning Back (1995)', 1251: 'A Chef in Love (1996)', 1252: 'Contempt (M�pris, Le) (1963)', 1253: 'Tie That Binds, The (1995)', 1254: \"Gone Fishin' (1997)\", 1255: 'Broken English (1996)', 1256: 'Designated Mourner, The (1997)', 1257: 'Designated Mourner, The (1997)', 1258: 'Trial and Error (1997)', 1259: 'Pie in the Sky (1995)', 1260: 'Total Eclipse (1995)', 1261: 'Run of the Country, The (1995)', 1262: 'Walking and Talking (1996)', 1263: 'Foxfire (1996)', 1264: 'Nothing to Lose (1994)', 1265: 'Star Maps (1997)', 1266: 'Bread and Chocolate (Pane e cioccolata) (1973)', 1267: 'Clockers (1995)', 1268: 'Bitter Moon (1992)', 1269: 'Love in the Afternoon (1957)', 1270: 'Life with Mikey (1993)', 1271: 'North (1994)', 1272: 'Talking About Sex (1994)', 1273: 'Color of Night (1994)', 1274: 'Robocop 3 (1993)', 1275: 'Killer (Bulletproof Heart) (1994)', 1276: 'Sunset Park (1996)', 1277: 'Set It Off (1996)', 1278: 'Selena (1997)', 1279: 'Wild America (1997)', 1280: 'Gang Related (1997)', 1281: 'Manny & Lo (1996)', 1282: 'Grass Harp, The (1995)', 1283: 'Out to Sea (1997)', 1284: 'Before and After (1996)', 1285: 'Princess Caraboo (1994)', 1286: 'Shall We Dance? (1937)', 1287: 'Ed (1996)', 1288: 'Denise Calls Up (1995)', 1289: 'Jack and Sarah (1995)', 1290: 'Country Life (1994)', 1291: 'Celtic Pride (1996)', 1292: 'Simple Wish, A (1997)', 1293: 'Star Kid (1997)', 1294: 'Ayn Rand: A Sense of Life (1997)', 1295: 'Kicked in the Head (1997)', 1296: 'Indian Summer (1996)', 1297: 'Love Affair (1994)', 1298: 'Band Wagon, The (1953)', 1299: 'Penny Serenade (1941)', 1300: \"'Til There Was You (1997)\", 1301: 'Stripes (1981)', 1302: 'Late Bloomers (1996)', 1303: 'Getaway, The (1994)', 1304: 'New York Cop (1996)', 1305: \"National Lampoon's Senior Trip (1995)\", 1306: 'Delta of Venus (1994)', 1307: 'Carmen Miranda: Bananas Is My Business (1994)', 1308: 'Babyfever (1994)', 1309: 'Very Natural Thing, A (1974)', 1310: 'Walk in the Sun, A (1945)', 1311: 'Waiting to Exhale (1995)', 1312: 'Pompatus of Love, The (1996)', 1313: 'Palmetto (1998)', 1314: 'Surviving the Game (1994)', 1315: 'Inventing the Abbotts (1997)', 1316: 'Horse Whisperer, The (1998)', 1317: 'Journey of August King, The (1995)', 1318: 'Catwalk (1995)', 1319: 'Neon Bible, The (1995)', 1320: 'Homage (1995)', 1321: 'Open Season (1996)', 1322: 'Metisse (Caf� au Lait) (1993)', 1323: \"Wooden Man's Bride, The (Wu Kui) (1994)\", 1324: 'Loaded (1994)', 1325: 'August (1996)', 1326: 'Boys (1996)', 1327: 'Captives (1994)', 1328: 'Of Love and Shadows (1994)', 1329: 'Low Life, The (1994)', 1330: 'An Unforgettable Summer (1994)', 1331: 'Last Klezmer: Leopold Kozlowski, His Life and Music, The (1995)', 1332: \"My Life and Times With Antonin Artaud (En compagnie d'Antonin Artaud) (1993)\", 1333: 'Midnight Dancers (Sibak) (1994)', 1334: 'Somebody to Love (1994)', 1335: 'American Buffalo (1996)', 1336: 'Kazaam (1996)', 1337: 'Larger Than Life (1996)', 1338: 'Two Deaths (1995)', 1339: 'Stefano Quantestorie (1993)', 1340: 'Crude Oasis, The (1995)', 1341: 'Hedd Wyn (1992)', 1342: 'Convent, The (Convento, O) (1995)', 1343: 'Lotto Land (1995)', 1344: 'Story of Xinghua, The (1993)', 1345: 'Day the Sun Turned Cold, The (Tianguo niezi) (1994)', 1346: 'Dingo (1992)', 1347: 'Ballad of Narayama, The (Narayama Bushiko) (1958)', 1348: 'Every Other Weekend (1990)', 1349: 'Mille bolle blu (1993)', 1350: 'Crows and Sparrows (1949)', 1351: \"Lover's Knot (1996)\", 1352: 'Shadow of Angels (Schatten der Engel) (1976)', 1353: '1-900 (1994)', 1354: 'Venice/Venice (1992)', 1355: 'Infinity (1996)', 1356: \"Ed's Next Move (1996)\", 1357: 'For the Moment (1994)', 1358: 'The Deadly Cure (1996)', 1359: 'Boys in Venice (1996)', 1360: 'Sexual Life of the Belgians, The (1994)', 1361: 'Search for One-eye Jimmy, The (1996)', 1362: 'American Strays (1996)', 1363: 'Leopard Son, The (1996)', 1364: 'Bird of Prey (1996)', 1365: 'Johnny 100 Pesos (1993)', 1366: 'JLG/JLG - autoportrait de d�cembre (1994)', 1367: 'Faust (1994)', 1368: 'Mina Tannenbaum (1994)', 1369: 'Forbidden Christ, The (Cristo proibito, Il) (1950)', 1370: \"I Can't Sleep (J'ai pas sommeil) (1994)\", 1371: 'Machine, The (1994)', 1372: 'Stranger, The (1994)', 1373: 'Good Morning (1971)', 1374: 'Falling in Love Again (1980)', 1375: 'Cement Garden, The (1993)', 1376: 'Meet Wally Sparks (1997)', 1377: 'Hotel de Love (1996)', 1378: 'Rhyme & Reason (1997)', 1379: 'Love and Other Catastrophes (1996)', 1380: 'Hollow Reed (1996)', 1381: 'Losing Chase (1996)', 1382: 'Bonheur, Le (1965)', 1383: 'Second Jungle Book: Mowgli & Baloo, The (1997)', 1384: 'Squeeze (1996)', 1385: \"Roseanna's Grave (For Roseanna) (1997)\", 1386: 'Tetsuo II: Body Hammer (1992)', 1387: 'Fall (1997)', 1388: 'Gabbeh (1996)', 1389: 'Mondo (1996)', 1390: 'Innocent Sleep, The (1995)', 1391: 'For Ever Mozart (1996)', 1392: 'Locusts, The (1997)', 1393: 'Stag (1997)', 1394: 'Swept from the Sea (1997)', 1395: 'Hurricane Streets (1998)', 1396: 'Stonewall (1995)', 1397: 'Of Human Bondage (1934)', 1398: 'Anna (1996)', 1399: 'Stranger in the House (1997)', 1400: 'Picture Bride (1995)', 1401: 'M. Butterfly (1993)', 1402: 'Ciao, Professore! (1993)', 1403: 'Caro Diario (Dear Diary) (1994)', 1404: 'Withnail and I (1987)', 1405: \"Boy's Life 2 (1997)\", 1406: 'When Night Is Falling (1995)', 1407: 'Specialist, The (1994)', 1408: 'Gordy (1995)', 1409: 'Swan Princess, The (1994)', 1410: 'Harlem (1993)', 1411: 'Barbarella (1968)', 1412: 'Land Before Time III: The Time of the Great Giving (1995) (V)', 1413: 'Street Fighter (1994)', 1414: 'Coldblooded (1995)', 1415: 'Next Karate Kid, The (1994)', 1416: 'No Escape (1994)', 1417: 'Turning, The (1992)', 1418: 'Joy Luck Club, The (1993)', 1419: 'Highlander III: The Sorcerer (1994)', 1420: \"Gilligan's Island: The Movie (1998)\", 1421: 'My Crazy Life (Mi vida loca) (1993)', 1422: 'Suture (1993)', 1423: 'Walking Dead, The (1995)', 1424: 'I Like It Like That (1994)', 1425: \"I'll Do Anything (1994)\", 1426: 'Grace of My Heart (1996)', 1427: 'Drunks (1995)', 1428: 'SubUrbia (1997)', 1429: 'Sliding Doors (1998)', 1430: 'Ill Gotten Gains (1997)', 1431: 'Legal Deceit (1997)', 1432: 'Mighty, The (1998)', 1433: 'Men of Means (1998)', 1434: 'Shooting Fish (1997)', 1435: 'Steal Big, Steal Little (1995)', 1436: 'Mr. Jones (1993)', 1437: 'House Party 3 (1994)', 1438: 'Panther (1995)', 1439: \"Jason's Lyric (1994)\", 1440: 'Above the Rim (1994)', 1441: 'Moonlight and Valentino (1995)', 1442: 'Scarlet Letter, The (1995)', 1443: '8 Seconds (1994)', 1444: 'That Darn Cat! (1965)', 1445: 'Ladybird Ladybird (1994)', 1446: 'Bye Bye, Love (1995)', 1447: 'Century (1993)', 1448: 'My Favorite Season (1993)', 1449: 'Pather Panchali (1955)', 1450: 'Golden Earrings (1947)', 1451: 'Foreign Correspondent (1940)', 1452: 'Lady of Burlesque (1943)', 1453: 'Angel on My Shoulder (1946)', 1454: 'Angel and the Badman (1947)', 1455: 'Outlaw, The (1943)', 1456: 'Beat the Devil (1954)', 1457: 'Love Is All There Is (1996)', 1458: 'Damsel in Distress, A (1937)', 1459: 'Madame Butterfly (1995)', 1460: 'Sleepover (1995)', 1461: 'Here Comes Cookie (1935)', 1462: 'Thieves (Voleurs, Les) (1996)', 1463: 'Boys, Les (1997)', 1464: 'Stars Fell on Henrietta, The (1995)', 1465: 'Last Summer in the Hamptons (1995)', 1466: \"Margaret's Museum (1995)\", 1467: 'Saint of Fort Washington, The (1993)', 1468: 'Cure, The (1995)', 1469: 'Tom and Huck (1995)', 1470: 'Gumby: The Movie (1995)', 1471: 'Hideaway (1995)', 1472: 'Visitors, The (Visiteurs, Les) (1993)', 1473: 'Little Princess, The (1939)', 1474: 'Nina Takes a Lover (1994)', 1475: 'Bhaji on the Beach (1993)', 1476: 'Raw Deal (1948)', 1477: 'Nightwatch (1997)', 1478: 'Dead Presidents (1995)', 1479: 'Reckless (1995)', 1480: 'Herbie Rides Again (1974)', 1481: 'S.F.W. (1994)', 1482: 'Gate of Heavenly Peace, The (1995)', 1483: 'Man in the Iron Mask, The (1998)', 1484: 'Jerky Boys, The (1994)', 1485: 'Colonel Chabert, Le (1994)', 1486: 'Girl in the Cadillac (1995)', 1487: 'Even Cowgirls Get the Blues (1993)', 1488: 'Germinal (1993)', 1489: 'Chasers (1994)', 1490: 'Fausto (1993)', 1491: 'Tough and Deadly (1995)', 1492: 'Window to Paris (1994)', 1493: 'Modern Affair, A (1995)', 1494: 'Mostro, Il (1994)', 1495: 'Flirt (1995)', 1496: 'Carpool (1996)', 1497: 'Line King: Al Hirschfeld, The (1996)', 1498: 'Farmer & Chase (1995)', 1499: 'Grosse Fatigue (1994)', 1500: 'Santa with Muscles (1996)', 1501: 'Prisoner of the Mountains (Kavkazsky Plennik) (1996)', 1502: 'Naked in New York (1994)', 1503: 'Gold Diggers: The Secret of Bear Mountain (1995)', 1504: 'Bewegte Mann, Der (1994)', 1505: 'Killer: A Journal of Murder (1995)', 1506: 'Nelly & Monsieur Arnaud (1995)', 1507: 'Three Lives and Only One Death (1996)', 1508: 'Babysitter, The (1995)', 1509: 'Getting Even with Dad (1994)', 1510: 'Mad Dog Time (1996)', 1511: 'Children of the Revolution (1996)', 1512: 'World of Apu, The (Apur Sansar) (1959)', 1513: 'Sprung (1997)', 1514: 'Dream With the Fishes (1997)', 1515: 'Wings of Courage (1995)', 1516: 'Wedding Gift, The (1994)', 1517: 'Race the Sun (1996)', 1518: 'Losing Isaiah (1995)', 1519: 'New Jersey Drive (1995)', 1520: 'Fear, The (1995)', 1521: 'Mr. Wonderful (1993)', 1522: 'Trial by Jury (1994)', 1523: 'Good Man in Africa, A (1994)', 1524: 'Kaspar Hauser (1993)', 1525: 'Object of My Affection, The (1998)', 1526: 'Witness (1985)', 1527: 'Senseless (1998)', 1528: 'Nowhere (1997)', 1529: 'Underground (1995)', 1530: 'Jefferson in Paris (1995)', 1531: 'Far From Home: The Adventures of Yellow Dog (1995)', 1532: 'Foreign Student (1994)', 1533: \"I Don't Want to Talk About It (De eso no se habla) (1993)\", 1534: 'Twin Town (1997)', 1535: \"Enfer, L' (1994)\", 1536: 'Aiqing wansui (1994)', 1537: 'Cosi (1996)', 1538: 'All Over Me (1997)', 1539: 'Being Human (1993)', 1540: 'Amazing Panda Adventure, The (1995)', 1541: 'Beans of Egypt, Maine, The (1994)', 1542: 'Scarlet Letter, The (1926)', 1543: 'Johns (1996)', 1544: 'It Takes Two (1995)', 1545: 'Frankie Starlight (1995)', 1546: 'Shadows (Cienie) (1988)', 1547: 'Show, The (1995)', 1548: 'The Courtyard (1995)', 1549: 'Dream Man (1995)', 1550: 'Destiny Turns on the Radio (1995)', 1551: 'Glass Shield, The (1994)', 1552: 'Hunted, The (1995)', 1553: 'Underneath, The (1995)', 1554: 'Safe Passage (1994)', 1555: 'Secret Adventures of Tom Thumb, The (1993)', 1556: 'Condition Red (1995)', 1557: 'Yankee Zulu (1994)', 1558: 'Aparajito (1956)', 1559: 'Hostile Intentions (1994)', 1560: 'Clean Slate (Coup de Torchon) (1981)', 1561: 'Tigrero: A Film That Was Never Made (1994)', 1562: \"Eye of Vichy, The (Oeil de Vichy, L') (1993)\", 1563: 'Promise, The (Versprechen, Das) (1994)', 1564: 'To Cross the Rubicon (1991)', 1565: 'Daens (1992)', 1566: 'Man from Down Under, The (1943)', 1567: 'Careful (1992)', 1568: 'Vermont Is For Lovers (1992)', 1569: 'Vie est belle, La (Life is Rosey) (1987)', 1570: 'Quartier Mozart (1992)', 1571: 'Touki Bouki (Journey of the Hyena) (1973)', 1572: \"Wend Kuuni (God's Gift) (1982)\", 1573: 'Spirits of the Dead (Tre passi nel delirio) (1968)', 1574: \"Pharaoh's Army (1995)\", 1575: 'I, Worst of All (Yo, la peor de todas) (1990)', 1576: 'Hungarian Fairy Tale, A (1987)', 1577: 'Death in the Garden (Mort en ce jardin, La) (1956)', 1578: 'Collectionneuse, La (1967)', 1579: 'Baton Rouge (1988)', 1580: 'Liebelei (1933)', 1581: 'Woman in Question, The (1950)', 1582: 'T-Men (1947)', 1583: 'Invitation, The (Zaproszenie) (1986)', 1584: 'Symphonie pastorale, La (1946)', 1585: 'American Dream (1990)', 1586: 'Lashou shentan (1992)', 1587: 'Terror in a Texas Town (1958)', 1588: 'Salut cousin! (1996)', 1589: 'Schizopolis (1996)', 1590: 'To Have, or Not (1995)', 1591: 'Duoluo tianshi (1995)', 1592: 'Magic Hour, The (1998)', 1593: 'Death in Brunswick (1991)', 1594: 'Everest (1998)', 1595: 'Shopping (1994)', 1596: 'Nemesis 2: Nebula (1995)', 1597: 'Romper Stomper (1992)', 1598: 'City of Industry (1997)', 1599: \"Someone Else's America (1995)\", 1600: 'Guantanamera (1994)', 1601: 'Office Killer (1997)', 1602: 'Price Above Rubies, A (1998)', 1603: 'Angela (1995)', 1604: 'He Walked by Night (1948)', 1605: 'Love Serenade (1996)', 1606: 'Deceiver (1997)', 1607: 'Hurricane Streets (1998)', 1608: 'Buddy (1997)', 1609: 'B*A*P*S (1997)', 1610: 'Truth or Consequences, N.M. (1997)', 1611: 'Intimate Relations (1996)', 1612: 'Leading Man, The (1996)', 1613: 'Tokyo Fist (1995)', 1614: 'Reluctant Debutante, The (1958)', 1615: 'Warriors of Virtue (1997)', 1616: 'Desert Winds (1995)', 1617: 'Hugo Pool (1997)', 1618: 'King of New York (1990)', 1619: 'All Things Fair (1996)', 1620: 'Sixth Man, The (1997)', 1621: 'Butterfly Kiss (1995)', 1622: 'Paris, France (1993)', 1623: 'C�r�monie, La (1995)', 1624: 'Hush (1998)', 1625: 'Nightwatch (1997)', 1626: 'Nobody Loves Me (Keiner liebt mich) (1994)', 1627: 'Wife, The (1995)', 1628: 'Lamerica (1994)', 1629: 'Nico Icon (1995)', 1630: 'Silence of the Palace, The (Saimt el Qusur) (1994)', 1631: 'Slingshot, The (1993)', 1632: 'Land and Freedom (Tierra y libertad) (1995)', 1633: '� k�ldum klaka (Cold Fever) (1994)', 1634: 'Etz Hadomim Tafus (Under the Domin Tree) (1994)', 1635: 'Two Friends (1986) ', 1636: 'Brothers in Trouble (1995)', 1637: 'Girls Town (1996)', 1638: 'Normal Life (1996)', 1639: 'Bitter Sugar (Azucar Amargo) (1996)', 1640: 'Eighth Day, The (1996)', 1641: 'Dadetown (1995)', 1642: \"Some Mother's Son (1996)\", 1643: 'Angel Baby (1995)', 1644: 'Sudden Manhattan (1996)', 1645: 'Butcher Boy, The (1998)', 1646: 'Men With Guns (1997)', 1647: 'Hana-bi (1997)', 1648: 'Niagara, Niagara (1997)', 1649: 'Big One, The (1997)', 1650: 'Butcher Boy, The (1998)', 1651: 'Spanish Prisoner, The (1997)', 1652: 'Temptress Moon (Feng Yue) (1996)', 1653: 'Entertaining Angels: The Dorothy Day Story (1996)', 1654: 'Chairman of the Board (1998)', 1655: 'Favor, The (1994)', 1656: 'Little City (1998)', 1657: 'Target (1995)', 1658: 'Substance of Fire, The (1996)', 1659: 'Getting Away With Murder (1996)', 1660: 'Small Faces (1995)', 1661: 'New Age, The (1994)', 1662: 'Rough Magic (1995)', 1663: 'Nothing Personal (1995)', 1664: '8 Heads in a Duffel Bag (1997)', 1665: \"Brother's Kiss, A (1997)\", 1666: 'Ripe (1996)', 1667: 'Next Step, The (1995)', 1668: 'Wedding Bell Blues (1996)', 1669: 'MURDER and murder (1996)', 1670: 'Tainted (1998)', 1671: 'Further Gesture, A (1996)', 1672: 'Kika (1993)', 1673: 'Mirage (1995)', 1674: 'Mamma Roma (1962)', 1675: 'Sunchaser, The (1996)', 1676: 'War at Home, The (1996)', 1677: 'Sweet Nothing (1995)', 1678: \"Mat' i syn (1997)\", 1679: 'B. Monkey (1998)', 1680: 'Sliding Doors (1998)', 1681: 'You So Crazy (1994)', 1682: 'Scream of Stone (Schrei aus Stein) (1991)'}\n"
     ]
    }
   ],
   "source": [
    "print (titles)"
   ]
  },
  {
   "cell_type": "code",
   "execution_count": 17,
   "metadata": {
    "collapsed": false
   },
   "outputs": [
    {
     "name": "stdout",
     "output_type": "stream",
     "text": [
      "rank:0 Godfather: Part II, The (1974):5.614482532373878\n",
      "rank:1 Manhattan (1979):5.590638326236133\n",
      "rank:2 Chinatown (1974):5.406477736839683\n",
      "rank:3 L.A. Confidential (1997):5.307652387214368\n",
      "rank:4 Miller's Crossing (1990):5.272251750771314\n",
      "rank:5 Terminator, The (1984):5.221785802007747\n",
      "rank:6 Hoop Dreams (1994):5.215569331702351\n",
      "rank:7 Day the Earth Stood Still, The (1951):5.168334110934902\n",
      "rank:8 Godfather, The (1972):5.054994031204602\n",
      "rank:9 Bound (1996):5.0350278294993585\n"
     ]
    }
   ],
   "source": [
    "for i,rec in enumerate(topKRecs):\n",
    "    print ('rank:'+str(i)+' '+str(titles[rec.product])+':'+str(rec.rating))\n",
    "\n",
    "\n"
   ]
  },
  {
   "cell_type": "markdown",
   "metadata": {},
   "source": [
    "使用recommendProducts来为用户789推荐top10的items，其items顺序为降序。MoviesForUser是从ratings数据中找出的用户789rating最高的数据，仔细看下发现数据和我们的ratings里面找出的数据貌似一个都没有相同的，那么是不是说明我们的算法不给力呢？这个可不一定，想想看，如果推荐系统只是推荐给你看过的电影，那么它一定是一个失败的，并且完全对系统的kpi数据无提升作用，前面提到，MF的实质是通过latent feature去找到与用户过去偏好高的有某些隐性相同特征的电影（这些由整体用户的集体智慧得到），比如可能是某一类型的电影、又或者相同的演员等等，所以这里不能说明推荐系统不给力，但是确实也很难具有解释性。 "
   ]
  },
  {
   "cell_type": "markdown",
   "metadata": {},
   "source": [
    "-----------------------\n",
    "4.2 物品推荐\n",
    "-----------------------"
   ]
  },
  {
   "cell_type": "markdown",
   "metadata": {},
   "source": [
    "物品推荐是为回答如下问题:给定一个物品,有哪些物品与它最相似?这里,相似的确切定义取决于所使用的模型。大多数情况下,相似度是通过某种方式比较表示两个物品的向量而得到的。常见的相似度衡量方法包括皮尔森相关系数(Pearson correlation)、针对实数向量的余弦相似度(cosine similarity)和针对二元向量的杰卡德相似系数(Jaccard similarity)。"
   ]
  },
  {
   "cell_type": "markdown",
   "metadata": {},
   "source": [
    "\n",
    "\n",
    "从MovieLens 100k数据集生成相似电影\n",
    "\n",
    "\n",
    "\n",
    "\n",
    "MatrixFactorizationModel当前的API不能直接支持物品之间相似度的计算。所以我们要自己实现。这里我们使用余弦相似度来衡量相似度。\n"
   ]
  },
  {
   "cell_type": "code",
   "execution_count": 18,
   "metadata": {
    "collapsed": false
   },
   "outputs": [
    {
     "name": "stdout",
     "output_type": "stream",
     "text": [
      "1.0\n"
     ]
    }
   ],
   "source": [
    "import numpy as np\n",
    "def cosineSImilarity(x,y):\n",
    "    return np.dot(x,y)/(np.linalg.norm(x)*np.linalg.norm(y))\n",
    "testx = np.array([1.0,2.0,3.0])\n",
    "print (cosineSImilarity(testx,testx))"
   ]
  },
  {
   "cell_type": "code",
   "execution_count": 19,
   "metadata": {
    "collapsed": false
   },
   "outputs": [
    {
     "name": "stdout",
     "output_type": "stream",
     "text": [
      "array('d', [1.3959728479385376, -0.32170650362968445, -1.589107871055603, -0.24735496938228607, -0.09870206564664841, 1.2067121267318726, 0.8226302266120911, -0.011584000661969185, 0.7589138150215149, -0.16595466434955597, 0.11890197545289993, -0.6180840134620667, 0.3590054214000702, 0.4999312162399292, 0.2935958504676819, 0.012971253134310246, 0.31235596537590027, -0.9185784459114075, -0.3205436170101166, -0.26075801253318787, -0.7303558588027954, -0.7694108486175537, -0.5730422735214233, 0.07830443233251572, -0.16548651456832886, 0.15430086851119995, -0.6806657314300537, 0.5374705195426941, 0.49215051531791687, 0.11401540786027908, 0.631446897983551, 0.1660444140434265, -0.03138217329978943, -0.35071438550949097, 0.11190352588891983, -0.2576572895050049, 0.7578253149986267, -0.6897003650665283, -0.5767093300819397, -0.5592586398124695, 0.477077454328537, -0.13024748861789703, 0.8320048451423645, -0.3771703839302063, -0.1656838208436966, 0.025560475885868073, -0.4893408715724945, 0.03609854727983475, -0.0541042722761631, 0.03371948376297951])\n"
     ]
    },
    {
     "data": {
      "text/plain": [
       "[(567, 1.0),\n",
       " (642, 0.70063739485500198),\n",
       " (257, 0.69057993350143687),\n",
       " (636, 0.68806967734139302),\n",
       " (670, 0.68437271936248811),\n",
       " (1169, 0.67968316901992409),\n",
       " (106, 0.66842863474932324),\n",
       " (355, 0.66669706468211187),\n",
       " (7, 0.66549710867942158),\n",
       " (288, 0.66441772300960988)]"
      ]
     },
     "execution_count": 19,
     "metadata": {},
     "output_type": "execute_result"
    }
   ],
   "source": [
    "#下面以itemId = 567为例，计算所有与物品itemId = 567的的相似度，并取其相似度最高的前十个，代码如下:\n",
    "itemId = 567\n",
    "itemFactor = model.productFeatures().lookup(itemId)[0]\n",
    "print (itemFactor)\n",
    "\n",
    "#print model.productFeatures().collect()\n",
    "#print model.productFeatures().take(1)\n",
    "sims = model.productFeatures().map(lambda kv:(kv[0],cosineSImilarity(np.array(kv[1]),\n",
    "             np.array(itemFactor))))\n",
    "\n",
    "sims.sortBy(lambda kv:kv[1],ascending=False).take(10)\n"
   ]
  },
  {
   "cell_type": "markdown",
   "metadata": {},
   "source": [
    "-----------------------\n",
    "5 推荐模型效果的评估\n",
    "-----------------------"
   ]
  },
  {
   "cell_type": "markdown",
   "metadata": {},
   "source": [
    "\n",
    "\n",
    "如何知道训练出来的模型是一个好模型?这就需要某种方式来评估它的预测效果。评估指标(evaluation metric)指那些衡量模型预测能力或准确度的方法。它们有些直接度量模型的预测目标变量的好坏(比如均方差),有些则关注模型对那些其并未针对性优化过但又十分接近真实应用场景数据的预测能力(比如平均准确率)。\n",
    "\n",
    "\n",
    "\n",
    "评估指标提供了同一模型在不同参数下,又或是不同模型之间进行比较的标准方法。通过这些指标,人们可以从待选的模型中找出表现最好的那个模型。本博文主要介绍推荐系统和协同过滤模型里常用的两个指标:均方差以及K值平均准确率。\n"
   ]
  },
  {
   "cell_type": "markdown",
   "metadata": {},
   "source": [
    "--------------\n",
    "5.1 均方差\n",
    "--------------"
   ]
  },
  {
   "cell_type": "markdown",
   "metadata": {},
   "source": [
    "\n",
    "\n",
    "均方差(Mean Squared Error,MSE)直接衡量“用户物品”评级矩阵的重建误差。它也是一些模型里所采用的最小化目标函数,特别是许多矩阵分解类方法,比如ALS。因此,它常用于显式评级的情形。\n",
    "\n",
    "\n",
    "\n",
    "\n",
    "它的定义为各平方误差的和与总数目的商。其中平方误差是指预测到的评级与真实评级的差值的平方。下面以用户789为例做讲解。现在从之前计算的moviesForUser这个Ratings集合里找出该用户的第一个评级:\n"
   ]
  },
  {
   "cell_type": "code",
   "execution_count": 20,
   "metadata": {
    "collapsed": false
   },
   "outputs": [
    {
     "name": "stdout",
     "output_type": "stream",
     "text": [
      "用户789对电影1012的实际评级 4.0\n",
      "用户789对电影1012的预测评级 3.978939980004587\n",
      "实际评级与预测评级的MSE 0.000443524442207\n"
     ]
    }
   ],
   "source": [
    "actual = moviesForUser[0][0]\n",
    "actualRating = actual.rating\n",
    "print ('用户789对电影1012的实际评级',actualRating)\n",
    "predictedRating = model.predict(789, actual.product)\n",
    "print ('用户789对电影1012的预测评级',predictedRating)\n",
    "squaredError = np.power(actualRating-predictedRating,2)\n",
    "print ('实际评级与预测评级的MSE',squaredError)"
   ]
  },
  {
   "cell_type": "markdown",
   "metadata": {},
   "source": [
    "要计算整个数据集上的MSE,需要对每一条(user, movie, actual rating, predictedrating)记录都计算该平均误差,然后求和,再除以总的评级次数。具体实现如下:"
   ]
  },
  {
   "cell_type": "code",
   "execution_count": 21,
   "metadata": {
    "collapsed": false
   },
   "outputs": [
    {
     "name": "stdout",
     "output_type": "stream",
     "text": [
      "实际的评分: [(196, 242), (186, 302), (22, 377), (244, 51), (166, 346)]\n",
      "Rating(user=316, product=1084, rating=4.087165993469001)\n",
      "预测的评分: [((316, 1084), 4.087165993469001), ((504, 1084), 3.9465249959951514), ((424, 1084), 4.88215498786934), ((541, 1084), 3.9893203891299764), ((181, 1084), 1.9961869306829314)]\n",
      "组合预测的评分和实际的评分: [((711, 707), (5.0, 5.008434839376742)), ((650, 622), (3.0, 3.0118055017330714)), ((731, 1), (2.0, 2.4430638270113585)), ((752, 316), (3.0, 3.0000103178325035)), ((18, 428), (3.0, 3.3634323463366558))]\n",
      "模型的均方误差: 0.0843347796363\n",
      "模型的均方根误差: 0.290404510358\n"
     ]
    }
   ],
   "source": [
    "userProducts = ratings.map(lambda rating:(rating.user,rating.product))\n",
    "print ('实际的评分:',userProducts.take(5))\n",
    "\n",
    "#预测所有用户对电影的相应评分\n",
    "print (model.predictAll(userProducts).collect()[0])\n",
    "predictions = model.predictAll(userProducts).map(lambda rating:((rating.user,rating.product), rating.rating))\n",
    "print ('预测的评分:',predictions.take(5))\n",
    "\n",
    "ratingsAndPredictions = ratings.map(lambda rating:((rating.user,rating.product),rating.rating)).join(predictions)\n",
    "print ('组合预测的评分和实际的评分:',ratingsAndPredictions.take(5))\n",
    "\n",
    "MSE = ratingsAndPredictions.map(lambda kv:np.power(kv[1][0]-kv[1][1],2)).reduce(lambda x,y:x+y)/ratingsAndPredictions.count() \n",
    "print ('模型的均方误差:',MSE )\n",
    "print ('模型的均方根误差:',np.sqrt(MSE))"
   ]
  },
  {
   "cell_type": "code",
   "execution_count": 22,
   "metadata": {
    "collapsed": false
   },
   "outputs": [],
   "source": [
    "#简单地测试一下map(lambda)多参数的情况\n",
    "a=sc.parallelize([((1,2),(2,3)),((2,3),(3,4))])\n",
    "b=a.map(lambda kv:(kv[0][0]+kv[1][0],kv[0][1]+kv[1][1]))"
   ]
  },
  {
   "cell_type": "code",
   "execution_count": 23,
   "metadata": {
    "collapsed": false
   },
   "outputs": [
    {
     "data": {
      "text/plain": [
       "[(3, 5), (5, 7)]"
      ]
     },
     "execution_count": 23,
     "metadata": {},
     "output_type": "execute_result"
    }
   ],
   "source": [
    "b.collect()"
   ]
  },
  {
   "cell_type": "markdown",
   "metadata": {},
   "source": [
    "-------------------\n",
    "5.2 K值平均准确率\n",
    "-------------------"
   ]
  },
  {
   "cell_type": "markdown",
   "metadata": {},
   "source": [
    "\n",
    "\n",
    "K值平均准确率(MAP)的意思是整个数据集上的K值平均准确率(Average Precision at Kmetric,MAP)的均值。APK是信息检索中常用的一个指标。它用于衡量针对某个查询所返回的“前K个”文档的平均相关性。对于每次查询,我们会将结果中的前K个与实际相关的文档进行比较。\n",
    "\n",
    "用MAP指标计算时,结果中文档的排名十分重要。如果结果中文档的实际相关性越高且排名也更靠前,那APK分值也就越高。由此,它也很适合评估推荐的好坏。因为推荐系统也会计算“前K个”推荐物,然后呈现给用户。如果在预测结果中得分更高(在推荐列表中排名也更靠前)的物品实际上也与用户更相关,那自然这个模型就更好。MAP和其他基于排名的指标同样也更适合评估隐式数据集上的推荐。这里用MSE相对就不那么合适。\n",
    "\n",
    "\n",
    "\n",
    "\n"
   ]
  },
  {
   "cell_type": "markdown",
   "metadata": {},
   "source": [
    "当用MAP来做评估推荐模型时,每一个用户相当于一个查询,而每一个“前K个”推荐物组成的集合则相当于一个查到的文档结果集合。用户对电影的实际评级便对应着文档的实际相关性。这样，APK所试图衡量的是模型对用户感兴趣和会去接触的物品的预测能力，MAP的Python脚本如下："
   ]
  },
  {
   "cell_type": "code",
   "execution_count": 24,
   "metadata": {
    "collapsed": true
   },
   "outputs": [],
   "source": [
    "def avgPrecisionK(actual, predicted, k): \n",
    "    if len(predicted) > k:\n",
    "        predK = predicted[:k]\n",
    "    else:\n",
    "        predK = predicted\n",
    "    score = 0.0\n",
    "    numHits = 0.0\n",
    "    for i,p in enumerate(predK):\n",
    "        #print (i,p)\n",
    "        if p in actual and p not in predK:\n",
    "            numHits = numHits + 1\n",
    "            score = score + numHits/(i+1)\n",
    "    if not actual:\n",
    "        return 1.0\n",
    "    else:\n",
    "        return score/min(len(actual),k)\n",
    "\n"
   ]
  },
  {
   "cell_type": "code",
   "execution_count": 25,
   "metadata": {
    "collapsed": false
   },
   "outputs": [
    {
     "name": "stdout",
     "output_type": "stream",
     "text": [
      "实际的电影： [1012, 127, 475, 93, 1161, 286, 293, 9, 50, 294, 181, 1, 1008, 508, 284, 1017, 137, 111, 742, 248, 249, 1007, 591, 150, 276, 151, 129, 100, 741, 288, 762, 628, 124]\n",
      "预测的电影： [187, 517, 654, 302, 518, 195, 48, 429, 127, 129]\n"
     ]
    }
   ],
   "source": [
    "actualMovies = [rating.product for rating in moviesForUser[0]]\n",
    "predictMovies = [rating.product for rating in topKRecs]\n",
    "print ('实际的电影：',actualMovies)\n",
    "print ('预测的电影：',predictMovies)\n",
    "\n"
   ]
  },
  {
   "cell_type": "code",
   "execution_count": 26,
   "metadata": {
    "collapsed": false,
    "scrolled": true
   },
   "outputs": [
    {
     "name": "stdout",
     "output_type": "stream",
     "text": [
      "0.0\n"
     ]
    }
   ],
   "source": [
    "MAP10 = avgPrecisionK(actualMovies,predictMovies,10)\n",
    "print (MAP10)"
   ]
  },
  {
   "cell_type": "markdown",
   "metadata": {},
   "source": [
    "这里,APK的得分为0,这表明该模型在为该用户做相关电影预测上的表现并不理想。\n",
    "\n",
    "\n",
    "\n",
    "\n",
    "\n",
    "全局MAPK的求解要计算对每一个用户的APK得分,再求其平均。这就要为每一个用户都生成相应的推荐列表。针对大规模数据处理时,这并不容易,但我们可以通过Spark将该计算分布式进行。不过,这就会有一个限制,即每个工作节点都要有完整的物品因子矩阵。这样它们才能独立地计算某个物品向量与其他所有物品向量之间的相关性。然而当物品数量众多时,单个节点的内存可能保存不下这个矩阵。此时,这个限制也就成了问题。\n",
    "\n",
    "\n",
    "\n",
    "\n",
    "下面看一看如何求解。首先,取回物品因子向量并用它来构建一个DoubleMatrix对象\n"
   ]
  },
  {
   "cell_type": "code",
   "execution_count": 27,
   "metadata": {
    "collapsed": false
   },
   "outputs": [
    {
     "name": "stdout",
     "output_type": "stream",
     "text": [
      "[[ 0.78012073  0.89493191 -0.90015292 ...,  0.11756649 -1.24536204\n",
      "  -0.25535271]\n",
      " [ 1.6917069   0.94344932 -1.26232862 ..., -0.42816687 -1.66540205\n",
      "   0.15662608]\n",
      " [ 1.56437778  0.62693602 -1.27876437 ...,  0.4456602  -1.7033087\n",
      "   0.44060752]\n",
      " ..., \n",
      " [ 0.12371797 -0.01746471 -0.09462035 ...,  0.06462495 -0.1179217\n",
      "   0.01217086]\n",
      " [-0.00573086  0.01318853 -0.26214176 ...,  0.25771117  0.13779758\n",
      "   0.12126365]\n",
      " [ 0.14654826 -0.12719707 -0.25111821 ...,  0.04560006 -0.17178555\n",
      "   0.13437787]]\n",
      "(1682, 50)\n"
     ]
    }
   ],
   "source": [
    "itemFactors = model.productFeatures().map(lambda kv:kv[1]).collect()\n",
    "itemMatrix = np.array(itemFactors)\n",
    "print (itemMatrix)\n",
    "print (itemMatrix.shape)"
   ]
  },
  {
   "cell_type": "markdown",
   "metadata": {},
   "source": [
    "这说明itemMatrix的行列数分别为1682和50。这正常,因为电影数目和因子维数分别就是这么多。接下来,我们将该矩阵以一个广播变量的方式分发出去,以便每个工作节点都能访问到:"
   ]
  },
  {
   "cell_type": "code",
   "execution_count": 28,
   "metadata": {
    "collapsed": false,
    "scrolled": true
   },
   "outputs": [
    {
     "name": "stdout",
     "output_type": "stream",
     "text": [
      "[[ 0.78012073  0.89493191 -0.90015292 ...,  0.11756649 -1.24536204\n",
      "  -0.25535271]\n",
      " [ 1.6917069   0.94344932 -1.26232862 ..., -0.42816687 -1.66540205\n",
      "   0.15662608]\n",
      " [ 1.56437778  0.62693602 -1.27876437 ...,  0.4456602  -1.7033087\n",
      "   0.44060752]\n",
      " ..., \n",
      " [ 0.12371797 -0.01746471 -0.09462035 ...,  0.06462495 -0.1179217\n",
      "   0.01217086]\n",
      " [-0.00573086  0.01318853 -0.26214176 ...,  0.25771117  0.13779758\n",
      "   0.12126365]\n",
      " [ 0.14654826 -0.12719707 -0.25111821 ...,  0.04560006 -0.17178555\n",
      "   0.13437787]]\n",
      "(1682, 50)\n"
     ]
    }
   ],
   "source": [
    "#便于后面进行map计算的时候使所有map都有效，这里在实际当中的意思是把数据广播到任何一个节点\n",
    "imBroadcast = sc.broadcast(itemMatrix)\n",
    "print (imBroadcast.value)\n",
    "print (imBroadcast.value.shape)"
   ]
  },
  {
   "cell_type": "code",
   "execution_count": 29,
   "metadata": {
    "collapsed": false
   },
   "outputs": [
    {
     "name": "stdout",
     "output_type": "stream",
     "text": [
      "[(4, array([ 0.68255329, -0.08277152, -0.52133542, -0.11160024,  0.23231713,\n",
      "        0.35927272, -0.15395068,  0.32929724, -0.10530983, -0.45273346,\n",
      "        0.13377643,  0.48341608,  0.12130601,  0.16990176, -0.19415708,\n",
      "        0.46619862, -0.25080967, -0.22582422,  0.00853087, -0.48160493,\n",
      "        0.10357516, -0.52814144, -0.14657122, -0.02277545, -0.04532771,\n",
      "        0.37674066,  0.65520734, -0.07241242,  0.25460431, -0.31185713,\n",
      "       -0.18600477,  0.3031036 , -0.59996802,  0.4510653 ,  0.10150831,\n",
      "        0.0435968 ,  0.10472332, -0.17609847,  0.25088027,  0.0338578 ,\n",
      "        0.21619196, -0.01378042, -0.00591513, -0.18161839, -0.01525501,\n",
      "        0.32624859, -0.19702269, -0.33111033,  0.00490539,  0.1413146 ])), (8, array([ 0.36486393, -0.41770822, -0.43548453, -0.08969285,  0.26679993,\n",
      "       -0.71609515, -0.0609786 ,  0.0515596 ,  0.3386181 ,  0.36871737,\n",
      "        0.36068422,  0.5104472 , -0.09788674,  0.0860413 , -0.22378843,\n",
      "        0.41948238,  0.10583912, -0.35368323,  0.03525839,  0.31700552,\n",
      "       -0.05061534, -0.98228329, -0.4649196 ,  0.08948788,  0.09588917,\n",
      "       -0.74612516, -0.37946022,  0.30233073, -0.22027054, -0.02376454,\n",
      "       -0.38533682, -0.06899613, -0.55980653,  0.2737385 , -0.35961971,\n",
      "       -0.47374111,  0.03327509, -0.40739331, -0.89589655,  0.52106857,\n",
      "        0.29901499, -0.10486586, -0.39394107, -0.34465078, -0.03315455,\n",
      "       -0.01085318,  0.13981529,  0.17895781, -0.11429344,  0.41455379]))]\n",
      "943\n",
      "(50,)\n",
      "(1682,)\n",
      "[(4, array([ 3.21133125,  5.28423016,  4.72464772, ...,  0.31838576,\n",
      "        0.67388038,  0.2731451 ])), (8, array([ 4.38385429,  3.3272131 ,  3.46259136, ...,  0.11364495,\n",
      "        1.29909532,  0.21362982]))]\n",
      "(1682,)\n",
      "[(4, array([ 3.21133125,  5.28423016,  4.72464772, ...,  0.31838576,\n",
      "        0.67388038,  0.2731451 ])), (8, array([ 4.38385429,  3.3272131 ,  3.46259136, ...,  0.11364495,\n",
      "        1.29909532,  0.21362982]))]\n",
      "<class 'pyspark.rdd.PipelinedRDD'>\n"
     ]
    },
    {
     "data": {
      "text/plain": [
       "943"
      ]
     },
     "execution_count": 29,
     "metadata": {},
     "output_type": "execute_result"
    }
   ],
   "source": [
    "userVector = model.userFeatures().map(lambda kv:(kv[0],np.array(kv[1])))\n",
    "print (userVector.take(2))\n",
    "print (userVector.count())\n",
    "print (userVector.collect()[0][1].shape)\n",
    "userVector = userVector.map(lambda kv: (kv[0],imBroadcast.value.dot((np.array(kv[1]).transpose()))))\n",
    "print (userVector.collect()[0][1].shape)\n",
    "print (userVector.take(2))\n",
    "userVectorId = userVector.map(lambda kv: (kv[0],[(xx,i) for i,xx in enumerate(kv[1].tolist())]))\n",
    "print (userVector.collect()[0][1].shape)\n",
    "print (userVector.take(2))\n",
    "#print userVectorId.collect()[0]\n",
    "sortUserVectorId = userVectorId.map(lambda kv:(kv[0],sorted(kv[1],key=lambda x:x[0],reverse=True)))\n",
    "\n",
    "print (type(sortUserVectorId))\n",
    "sortUserVectorRecId = sortUserVectorId.map(lambda kv: (kv[0],[xx[1] for xx in kv[1]]))\n",
    "\n",
    "#sortUserVectorRecId.take(2)\n",
    "sortUserVectorRecId.count()"
   ]
  },
  {
   "cell_type": "code",
   "execution_count": 30,
   "metadata": {
    "collapsed": false
   },
   "outputs": [
    {
     "name": "stdout",
     "output_type": "stream",
     "text": [
      "[(1, 2), (2, 3), (3, 4), (0, 9)]\n"
     ]
    }
   ],
   "source": [
    "a=[(1,(2,2)),(2,(3,3)),(0,(9,9)),(3,(4,4))]\n",
    "a=sc.parallelize(a)\n",
    "b = a.map(lambda kv:(kv[0],sorted(kv[1],key=lambda x:x[0],reverse=True)))\n",
    "#b=a.takeOrdered(4, key=lambda x:-x[1])\n",
    "a1=[(1,2),(2,3),(0,9),(3,4)]\n",
    "print (sorted(a1,key=lambda x:x[1]))\n",
    "#b.collect()"
   ]
  },
  {
   "cell_type": "code",
   "execution_count": 10,
   "metadata": {
    "collapsed": false
   },
   "outputs": [
    {
     "name": "stdout",
     "output_type": "stream",
     "text": [
      "<class 'list'>\n"
     ]
    },
    {
     "data": {
      "text/plain": [
       "[(1, 2), (2, 3), (3, 4), (0, 9)]"
      ]
     },
     "execution_count": 10,
     "metadata": {},
     "output_type": "execute_result"
    }
   ],
   "source": [
    "a1=[(1,2),(2,3),(0,9),(3,4)]\n",
    "print (type (a1))\n",
    "sorted(a1,key=lambda x:x[1])"
   ]
  },
  {
   "cell_type": "code",
   "execution_count": 32,
   "metadata": {
    "collapsed": false
   },
   "outputs": [
    {
     "name": "stdout",
     "output_type": "stream",
     "text": [
      "[(2, <pyspark.resultiterable.ResultIterable object at 0x000001BB73FF23C8>), (4, <pyspark.resultiterable.ResultIterable object at 0x000001BB73FF2F28>), (6, <pyspark.resultiterable.ResultIterable object at 0x000001BB73FF2E10>)]\n",
      "0.0\n"
     ]
    }
   ],
   "source": [
    "userMovies = ratings.map(lambda rating: (rating.user,rating.product)).groupBy(lambda kv:kv[0])\n",
    "print (userMovies.take(3))\n",
    "#print (userMovies.collect()[0:2])\n",
    "userMovies = userMovies.map(lambda kv:(kv[0], [xx[1] for xx in kv[1]] ))\n",
    "#print userMovies.take(1)\n",
    "#allAPK=sortUserVectorRecId.join(userMovies).map(lambda (userId,(predicted, actual)):(userId,avgPrecisionK(actual,predicted,10)))\n",
    "#print allAPK.map(lambda (x,y):y).reduce(lambda x,y:x+y)/sortUserVectorRecId.count()\n",
    "allAPK=sortUserVectorRecId.join(userMovies).map(lambda kv:avgPrecisionK(kv[1][1],kv[1][0],2000))\n",
    "# print allAPK.take(10)\n",
    "print (allAPK.reduce(lambda x,y:x+y)/allAPK.count())\n",
    "\n"
   ]
  },
  {
   "cell_type": "markdown",
   "metadata": {},
   "source": [
    "---------------------------------\n",
    "5.3 使用MLlib内置的评估函数\n",
    "---------------------------------"
   ]
  },
  {
   "cell_type": "markdown",
   "metadata": {},
   "source": [
    "\n",
    "\n",
    "RMSE和MSE\n",
    "\n",
    "\n",
    "\n",
    "\n",
    "\n",
    "\n",
    "\n",
    "前面我们从零开始对模型进行了MSE、RMSE和MAP三方面的评估。这是一段很有用的练习。同样, MLlib下的RegressionMetrics和RankingMetrics类也提供了相应的函数以方便模型评估。\n"
   ]
  },
  {
   "cell_type": "code",
   "execution_count": 33,
   "metadata": {
    "collapsed": false
   },
   "outputs": [
    {
     "name": "stdout",
     "output_type": "stream",
     "text": [
      "[(5.0, 5.008434839376742), (3.0, 3.0118055017330714), (2.0, 2.4430638270113585), (3.0, 3.0000103178325035), (3.0, 3.3634323463366558)]\n",
      "均方误差 = 0.084335\n",
      "均方根误差 = 0.290405\n"
     ]
    }
   ],
   "source": [
    "from pyspark.mllib.evaluation import RegressionMetrics\n",
    "from pyspark.mllib.evaluation import RankingMetrics\n",
    "predictedAndTrue = ratingsAndPredictions.map(lambda kv:(kv[1][0],kv[1][1]))\n",
    "print (predictedAndTrue.take(5))\n",
    "regressionMetrics = RegressionMetrics(predictedAndTrue)\n",
    "print (\"均方误差 = %f\"%regressionMetrics.meanSquaredError)\n",
    "print (\"均方根误差 = %f\"% regressionMetrics.rootMeanSquaredError)"
   ]
  },
  {
   "cell_type": "markdown",
   "metadata": {},
   "source": [
    "\n",
    "\n",
    "MAP\n",
    "\n",
    "\n",
    "\n",
    "\n",
    "与计算MSE和RMSE一样,可以使用MLlib的RankingMetrics类来计算基于排名的评估指标。类似地,需要向我们之前的平均准确率函数传入一个键值对类型的RDD。其键为给定用户预测的推荐物品的ID数组,而值则是实际的物品ID数组。\n",
    "\n",
    "RankingMetrics中的K值平均准确率函数的实现与我们的有所不同,因而结果会不同。但全局平均准确率(Mean Average Precision,MAP,并不设定阈值K)会和当K值较大(比如设为总的物品数目)时我们模型的计算结果相同。\n"
   ]
  },
  {
   "cell_type": "code",
   "execution_count": 34,
   "metadata": {
    "collapsed": false
   },
   "outputs": [
    {
     "name": "stdout",
     "output_type": "stream",
     "text": [
      "Mean Average Precision = 0.072590\n",
      "Mean Average Precision(at K=10) = 0.070732\n"
     ]
    }
   ],
   "source": [
    "sortedLabels = sortUserVectorRecId.join(userMovies).map(lambda kv:(kv[1][0],kv[1][1]))\n",
    "# print sortedLabels.take(1)\n",
    "rankMetrics = RankingMetrics(sortedLabels)\n",
    "print (\"Mean Average Precision = %f\" % rankMetrics.meanAveragePrecision)\n",
    "print (\"Mean Average Precision(at K=10) = %f\" % rankMetrics.precisionAt(10))"
   ]
  },
  {
   "cell_type": "code",
   "execution_count": null,
   "metadata": {
    "collapsed": true
   },
   "outputs": [],
   "source": []
  }
 ],
 "metadata": {
  "anaconda-cloud": {},
  "kernelspec": {
   "display_name": "Python [Root]",
   "language": "python",
   "name": "Python [Root]"
  },
  "language_info": {
   "codemirror_mode": {
    "name": "ipython",
    "version": 3
   },
   "file_extension": ".py",
   "mimetype": "text/x-python",
   "name": "python",
   "nbconvert_exporter": "python",
   "pygments_lexer": "ipython3",
   "version": "3.5.1"
  }
 },
 "nbformat": 4,
 "nbformat_minor": 0
}
