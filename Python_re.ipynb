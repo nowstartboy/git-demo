{
 "cells": [
  {
   "cell_type": "markdown",
   "metadata": {},
   "source": [
    "## 一、正则表达式"
   ]
  },
  {
   "cell_type": "code",
   "execution_count": null,
   "metadata": {
    "collapsed": true
   },
   "outputs": [],
   "source": [
    "literal 匹配文本字符串的字面值 literal foo \n",
    "re1|re2 匹配正则表达式 re1 或者 re2 foo|bar \n",
    ". 匹配任何字符（除了\\n 之外） b.b \n",
    "^ 匹配字符串起始部分 ^Dear \n",
    "$ 匹配字符串终止部分 /bin/*sh$ \n",
    "* 匹配 0 次或者多次前面出现的正则表达式 [A-Za-z0-9]* \n",
    "+ 匹配 1 次或者多次前面出现的正则表达式 [a-z]+\\.com \n",
    "? 匹配 0 次或者 1 次前面出现的正则表达式 goo? \n",
    "{N} 匹配 N 次前面出现的正则表达式 [0-9]{3} \n",
    "{M,N} 匹配 M～N 次前面出现的正则表达式 [0-9]{5,9} \n",
    "[…] 匹配来自字符集的任意单一字符 [aeiou] \n",
    "[..x−y..] 匹配 x ～ y 范围中的任意单一字符 [0-9], [A-Za-z] \n",
    "[^…] 不匹配此字符集中出现的任何一个字符，包括某一范围的字符（如果在此字符集中出现） [^aeiou], [^A-Za-z0-9] \n",
    "(*|+|?|{})? 用于匹配上面频繁出现/重复出现符号的非贪婪版本（*、+、?、{}） .*?[a-z] \n",
    "(…) 匹配封闭的正则表达式，然后另存为子组 ([0-9]{3})?,f(oo|u)bar "
   ]
  },
  {
   "cell_type": "code",
   "execution_count": null,
   "metadata": {
    "collapsed": true
   },
   "outputs": [],
   "source": [
    "特殊字符  \n",
    "\\d 匹配任何十进制数字，与[0-9]一致（\\D 与\\d 相反，不匹配任何非数值型的数字） data\\d+.txt \n",
    "\\w 匹配任何字母数字字符，与[A-Za-z0-9_]相同（\\W与之相反） [A-Za-z_]\\w+ \n",
    "\\s 匹配任何空格字符，与[\\n\\t\\r\\v\\f]相同（\\S 与之相反） of\\sthe \n",
    "\\b 匹配任何单词边界（\\B 与之相反） \\bThe\\b \n",
    "\\N 匹配已保存的子组 N（参见上面的(…)) price: \\16 \n",
    "\\c 逐字匹配任何特殊字符 c（即，仅按照字面意义匹配，不匹配特殊含义） \\., \\\\, \\* \n",
    "\\A(\\Z) 匹配字符串的起始（结束）（另见上面介绍的^和$） \\ADear \n",
    "扩展表示法  \n",
    "(?iLmsux) 在正则表达式中嵌入一个或者多个特殊“标记”参数（或者通过函数/方法） （?x），（？ im） \n",
    "(?:…) 表示一个匹配不用保存的分组 (?:\\w+\\.)* (?P<name>…) 像一个仅由 name 标识而不是数字 ID 标识的正则分组匹配 \n",
    "(?P<data>) (?P=name)  在同一字符串中匹配由\n",
    "(?P<name)分组的之前文本 (?P=data) \n",
    "(?#…) 表示注释，所有内容都被忽略 (?#comment) \n",
    "(?=…) 匹配条件是如果…出现在之后的位置，而不使用输入字符串；称作正向前视断言 (?=.com) \n",
    "(?!…) 匹配条件是如果…不出现在之后的位置，而不使用输入字符串；称作负向前视断言 (?!.net) \n",
    "(?<=…) 匹配条件是如果…出现在之前的位置，而不使用输入字符串；称作正向后视断言 (?<=800-) \n",
    "(?<!…) 匹配条件是如果…不出现在之前的位置，而不使用输入字符串；称作负向后视断言 (?<!192\\.168\\.) \n",
    "(?(id/name)Y|N ) 如果分组所提供的 id 或者 name（名称）存在，就返回正则表达式的条件匹配 Y，如"
   ]
  },
  {
   "cell_type": "markdown",
   "metadata": {},
   "source": [
    "#### re模块"
   ]
  },
  {
   "cell_type": "code",
   "execution_count": 2,
   "metadata": {
    "collapsed": false
   },
   "outputs": [
    {
     "name": "stdout",
     "output_type": "stream",
     "text": [
      "hello\n"
     ]
    }
   ],
   "source": [
    "# encoding: UTF-8\n",
    "import re\n",
    " \n",
    "# 将正则表达式编译成Pattern对象\n",
    "pattern = re.compile(r'hello')\n",
    " \n",
    "# 使用Pattern匹配文本，获得匹配结果，无法匹配时将返回None\n",
    "match = pattern.match('hello world!')\n",
    " \n",
    "if match:\n",
    "    # 使用Match获得分组信息\n",
    "    print (match.group())\n",
    " \n",
    "### 输出 ###\n",
    "# hello"
   ]
  },
  {
   "cell_type": "code",
   "execution_count": null,
   "metadata": {
    "collapsed": true
   },
   "outputs": [],
   "source": [
    "re.compile(strPattern[, flag]):\n",
    "\n",
    "这个方法是Pattern类的工厂方法，用于将字符串形式的正则表达式编译为Pattern对象。 第二个参数flag是匹配模式，取值可以使用按位或运算符'|'表示同时生效，比如re.I | re.M。另外，你也可以在regex字符串中指定模式，比如re.compile('pattern', re.I | re.M)与re.compile('(?im)pattern')是等价的。 \n",
    "可选值有：\n",
    "\n",
    "re.I(re.IGNORECASE): 忽略大小写（括号内是完整写法，下同）\n",
    "M(MULTILINE): 多行模式，改变'^'和'$'的行为（参见上图）\n",
    "S(DOTALL): 点任意匹配模式，改变'.'的行为\n",
    "L(LOCALE): 使预定字符类 \\w \\W \\b \\B \\s \\S 取决于当前区域设定\n",
    "U(UNICODE): 使预定字符类 \\w \\W \\b \\B \\s \\S \\d \\D 取决于unicode定义的字符属性\n",
    "X(VERBOSE): 详细模式。这个模式下正则表达式可以是多行，忽略空白字符，并可以加入注释。以下两个正则表达式是等价的："
   ]
  },
  {
   "cell_type": "code",
   "execution_count": null,
   "metadata": {
    "collapsed": true
   },
   "outputs": [],
   "source": [
    "a = re.compile(r\"\"\"\\d +  # the integral part\n",
    "                   \\.    # the decimal point\n",
    "                   \\d *  # some fractional digits\"\"\", re.X)\n",
    "b = re.compile(r\"\\d+\\.\\d*\")"
   ]
  },
  {
   "cell_type": "code",
   "execution_count": 3,
   "metadata": {
    "collapsed": false
   },
   "outputs": [
    {
     "name": "stdout",
     "output_type": "stream",
     "text": [
      "hello\n"
     ]
    }
   ],
   "source": [
    "m = re.match(r'hello', 'hello world!')\n",
    "print (m.group())"
   ]
  },
  {
   "cell_type": "markdown",
   "metadata": {},
   "source": [
    "#### Match"
   ]
  },
  {
   "cell_type": "markdown",
   "metadata": {},
   "source": [
    "Match对象是一次匹配的结果，包含了很多关于此次匹配的信息，可以使用Match提供的可读属性或方法来获取这些信息。\n",
    "\n",
    "属性：\n",
    "\n",
    "string: 匹配时使用的文本。\n",
    "re: 匹配时使用的Pattern对象。\n",
    "pos: 文本中正则表达式开始搜索的索引。值与Pattern.match()和Pattern.seach()方法的同名参数相同。\n",
    "endpos: 文本中正则表达式结束搜索的索引。值与Pattern.match()和Pattern.seach()方法的同名参数相同。\n",
    "lastindex: 最后一个被捕获的分组在文本中的索引。如果没有被捕获的分组，将为None。\n",
    "lastgroup: 最后一个被捕获的分组的别名。如果这个分组没有别名或者没有被捕获的分组，将为None。\n",
    "方法：\n",
    "\n",
    "group([group1, …]): \n",
    "获得一个或多个分组截获的字符串；指定多个参数时将以元组形式返回。group1可以使用编号也可以使用别名；编号0代表整个匹配的子串；不填写参数时，返回group(0)；没有截获字符串的组返回None；截获了多次的组返回最后一次截获的子串。\n",
    "groups([default]): \n",
    "以元组形式返回全部分组截获的字符串。相当于调用group(1,2,…last)。default表示没有截获字符串的组以这个值替代，默认为None。\n",
    "groupdict([default]): \n",
    "返回以有别名的组的别名为键、以该组截获的子串为值的字典，没有别名的组不包含在内。default含义同上。\n",
    "start([group]): \n",
    "返回指定的组截获的子串在string中的起始索引（子串第一个字符的索引）。group默认值为0。\n",
    "end([group]): \n",
    "返回指定的组截获的子串在string中的结束索引（子串最后一个字符的索引+1）。group默认值为0。\n",
    "span([group]): \n",
    "返回(start(group), end(group))。\n",
    "expand(template): \n",
    "将匹配到的分组代入template中然后返回。template中可以使用\\id或\\g<id>、\\g<name>引用分组，但不能使用编号0。\\id与\\g<id>是等价的；但\\10将被认为是第10个分组，如果你想表达\\1之后是字符'0'，只能使用\\g<1>0。"
   ]
  },
  {
   "cell_type": "code",
   "execution_count": null,
   "metadata": {
    "collapsed": true
   },
   "outputs": [],
   "source": [
    "import re\n",
    "m = re.match(r'(\\w+) (\\w+)(?P<sign>.*)', 'hello world!')\n",
    " \n",
    "print \"m.string:\", m.string\n",
    "print \"m.re:\", m.re\n",
    "print \"m.pos:\", m.pos\n",
    "print \"m.endpos:\", m.endpos\n",
    "print \"m.lastindex:\", m.lastindex\n",
    "print \"m.lastgroup:\", m.lastgroup\n",
    " \n",
    "print \"m.group(1,2):\", m.group(1, 2)\n",
    "print \"m.groups():\", m.groups()\n",
    "print \"m.groupdict():\", m.groupdict()\n",
    "print \"m.start(2):\", m.start(2)\n",
    "print \"m.end(2):\", m.end(2)\n",
    "print \"m.span(2):\", m.span(2)\n",
    "print r\"m.expand(r'\\2 \\1\\3'):\", m.expand(r'\\2 \\1\\3')\n",
    " \n",
    "### output ###\n",
    "# m.string: hello world!\n",
    "# m.re: <_sre.SRE_Pattern object at 0x016E1A38>\n",
    "# m.pos: 0\n",
    "# m.endpos: 12\n",
    "# m.lastindex: 3\n",
    "# m.lastgroup: sign\n",
    "# m.group(1,2): ('hello', 'world')\n",
    "# m.groups(): ('hello', 'world', '!')\n",
    "# m.groupdict(): {'sign': '!'}\n",
    "# m.start(2): 6\n",
    "# m.end(2): 11\n",
    "# m.span(2): (6, 11)\n",
    "# m.expand(r'\\2 \\1\\3'): world hello!"
   ]
  },
  {
   "cell_type": "code",
   "execution_count": 4,
   "metadata": {
    "collapsed": true
   },
   "outputs": [],
   "source": [
    "m=re.match('(ab)','ab') #()括号代表着分组 要不然m.groups()就没有值了"
   ]
  },
  {
   "cell_type": "code",
   "execution_count": 5,
   "metadata": {
    "collapsed": true
   },
   "outputs": [],
   "source": [
    "n=m.groups()"
   ]
  },
  {
   "cell_type": "code",
   "execution_count": 6,
   "metadata": {
    "collapsed": false
   },
   "outputs": [
    {
     "name": "stdout",
     "output_type": "stream",
     "text": [
      "('ab',)\n",
      "<class 'tuple'>\n"
     ]
    }
   ],
   "source": [
    "print (n)\n",
    "print (type(n))"
   ]
  },
  {
   "cell_type": "code",
   "execution_count": 7,
   "metadata": {
    "collapsed": false
   },
   "outputs": [
    {
     "name": "stdout",
     "output_type": "stream",
     "text": [
      "('a', 'b')\n",
      "<class 'tuple'>\n"
     ]
    }
   ],
   "source": [
    "m=re.match('(a)(b)','ab')\n",
    "n=m.groups()\n",
    "print (n)\n",
    "print (type(n))"
   ]
  },
  {
   "cell_type": "code",
   "execution_count": 8,
   "metadata": {
    "collapsed": false
   },
   "outputs": [
    {
     "data": {
      "text/plain": [
       "[('This', 'that')]"
      ]
     },
     "execution_count": 8,
     "metadata": {},
     "output_type": "execute_result"
    }
   ],
   "source": [
    "s = 'This and that.' \n",
    "re.findall(r'(th\\w+) and (th\\w+)', s, re.I)  #re.I忽略大小写"
   ]
  },
  {
   "cell_type": "code",
   "execution_count": 10,
   "metadata": {
    "collapsed": false,
    "scrolled": true
   },
   "outputs": [
    {
     "ename": "AttributeError",
     "evalue": "'callable_iterator' object has no attribute 'next'",
     "output_type": "error",
     "traceback": [
      "\u001b[1;31m---------------------------------------------------------------------------\u001b[0m",
      "\u001b[1;31mAttributeError\u001b[0m                            Traceback (most recent call last)",
      "\u001b[1;32m<ipython-input-10-fd11d2e8e731>\u001b[0m in \u001b[0;36m<module>\u001b[1;34m()\u001b[0m\n\u001b[1;32m----> 1\u001b[1;33m \u001b[0mre\u001b[0m\u001b[1;33m.\u001b[0m\u001b[0mfinditer\u001b[0m\u001b[1;33m(\u001b[0m\u001b[1;34mr'(th\\w+) and (th\\w+)'\u001b[0m\u001b[1;33m,\u001b[0m\u001b[0ms\u001b[0m\u001b[1;33m,\u001b[0m\u001b[0mre\u001b[0m\u001b[1;33m.\u001b[0m\u001b[0mI\u001b[0m\u001b[1;33m)\u001b[0m\u001b[1;33m.\u001b[0m\u001b[0mnext\u001b[0m\u001b[1;33m(\u001b[0m\u001b[1;33m)\u001b[0m\u001b[1;33m.\u001b[0m\u001b[0mgroups\u001b[0m\u001b[1;33m(\u001b[0m\u001b[1;33m)\u001b[0m\u001b[1;33m\u001b[0m\u001b[0m\n\u001b[0m",
      "\u001b[1;31mAttributeError\u001b[0m: 'callable_iterator' object has no attribute 'next'"
     ]
    }
   ],
   "source": [
    "re.finditer(r'(th\\w+) and (th\\w+)',s,re.I).next().groups() "
   ]
  },
  {
   "cell_type": "code",
   "execution_count": 14,
   "metadata": {
    "collapsed": false,
    "scrolled": true
   },
   "outputs": [
    {
     "name": "stdout",
     "output_type": "stream",
     "text": [
      "('This', 'that')\n"
     ]
    }
   ],
   "source": [
    "for m in re.finditer(r'(th\\w+) and (th\\w+)',s,re.I):  \n",
    "...     print (m.groups() )"
   ]
  },
  {
   "cell_type": "code",
   "execution_count": 15,
   "metadata": {
    "collapsed": false
   },
   "outputs": [
    {
     "data": {
      "text/plain": [
       "'attn: Mr. Smith\\n\\nDear Mr. Smith,\\n'"
      ]
     },
     "execution_count": 15,
     "metadata": {},
     "output_type": "execute_result"
    }
   ],
   "source": [
    "#替代\n",
    "re.sub('X', 'Mr. Smith', 'attn: X\\n\\nDear X,\\n') "
   ]
  },
  {
   "cell_type": "code",
   "execution_count": 16,
   "metadata": {
    "collapsed": false
   },
   "outputs": [
    {
     "data": {
      "text/plain": [
       "('attn: Mr. Smith\\n\\nDear Mr. Smith,\\n', 2)"
      ]
     },
     "execution_count": 16,
     "metadata": {},
     "output_type": "execute_result"
    }
   ],
   "source": [
    "#替代后返回替代的个数\n",
    "re.subn('X', 'Mr. Smith', 'attn: X\\n\\nDear X,\\n') "
   ]
  },
  {
   "cell_type": "code",
   "execution_count": 17,
   "metadata": {
    "collapsed": false
   },
   "outputs": [
    {
     "data": {
      "text/plain": [
       "'20/2/91'"
      ]
     },
     "execution_count": 17,
     "metadata": {},
     "output_type": "execute_result"
    }
   ],
   "source": [
    "re.sub(r'(\\d{1,2})/(\\d{1,2})/(\\d{2}|\\d{4})', r'\\2/\\1/\\3', '2/20/91') "
   ]
  },
  {
   "cell_type": "code",
   "execution_count": 18,
   "metadata": {
    "collapsed": false
   },
   "outputs": [
    {
     "data": {
      "text/plain": [
       "'20/2/1991'"
      ]
     },
     "execution_count": 18,
     "metadata": {},
     "output_type": "execute_result"
    }
   ],
   "source": [
    " re.sub(r'(\\d{1,2})/(\\d{1,2})/(\\d{2}|\\d{4})', r'\\2/\\1/\\3', '2/20/1991') "
   ]
  },
  {
   "cell_type": "code",
   "execution_count": 19,
   "metadata": {
    "collapsed": false
   },
   "outputs": [
    {
     "data": {
      "text/plain": [
       "['str1', 'str2', 'str3']"
      ]
     },
     "execution_count": 19,
     "metadata": {},
     "output_type": "execute_result"
    }
   ],
   "source": [
    " re.split(':', 'str1:str2:str3') "
   ]
  },
  {
   "cell_type": "markdown",
   "metadata": {},
   "source": [
    "我们还没介绍过的正则表达式的最后一个方面是扩展表示法，它们是以问号开始（?…） 。 我们不会为此花费太多时间，因为它们通常用于在判断匹配之前提供标记，实现一个前视（或者后视）匹配，或者条件检查。尽管圆括号使用这些符号"
   ]
  },
  {
   "cell_type": "code",
   "execution_count": 21,
   "metadata": {
    "collapsed": false
   },
   "outputs": [
    {
     "name": "stdout",
     "output_type": "stream",
     "text": [
      "['Mountain View', 'CA', '94040']\n",
      "['Sunnyvale', 'CA']\n",
      "['Los Altos', '94023']\n",
      "['Cupertino', '95014']\n",
      "['Palo Alto', 'CA']\n"
     ]
    }
   ],
   "source": [
    "import re \n",
    "DATA = ( 'Mountain View, CA 94040','Sunnyvale, CA', 'Los Altos, 94023','Cupertino 95014','Palo Alto CA',) \n",
    "for datum in DATA:\n",
    "    print (re.split(', |(?= (?:\\d{5}|[A-Z]{2})) ', datum) )"
   ]
  },
  {
   "cell_type": "code",
   "execution_count": 26,
   "metadata": {
    "collapsed": false,
    "scrolled": false
   },
   "outputs": [
    {
     "data": {
      "text/plain": [
       "['Los Altos,', '94023']"
      ]
     },
     "execution_count": 26,
     "metadata": {},
     "output_type": "execute_result"
    }
   ],
   "source": [
    "re.split('(?= (?:\\d{5})) ', 'Los Altos, 94023')"
   ]
  },
  {
   "cell_type": "code",
   "execution_count": 27,
   "metadata": {
    "collapsed": false
   },
   "outputs": [
    {
     "data": {
      "text/plain": [
       "['yes', 'Yes', 'YES']"
      ]
     },
     "execution_count": 27,
     "metadata": {},
     "output_type": "execute_result"
    }
   ],
   "source": [
    "re.findall(r'(?i)yes', 'yes? Yes. YES!!') "
   ]
  },
  {
   "cell_type": "code",
   "execution_count": 28,
   "metadata": {
    "collapsed": false
   },
   "outputs": [
    {
     "data": {
      "text/plain": [
       "['The', 'through', 'this']"
      ]
     },
     "execution_count": 28,
     "metadata": {},
     "output_type": "execute_result"
    }
   ],
   "source": [
    "re.findall(r'(?i)th\\w+', 'The quickest way is through this tunnel.') #re.I忽略大小写"
   ]
  },
  {
   "cell_type": "code",
   "execution_count": 17,
   "metadata": {
    "collapsed": false
   },
   "outputs": [
    {
     "data": {
      "text/plain": [
       "['This line is the first', 'that line']"
      ]
     },
     "execution_count": 17,
     "metadata": {},
     "output_type": "execute_result"
    }
   ],
   "source": [
    "re.findall(r'(?im)(^th[\\w ]+)', \"\"\" \n",
    "... This line is the first, \n",
    "... another line, \n",
    "... that line, \n",
    "... it's the best\"\"\") #re.M 实现多行混合"
   ]
  },
  {
   "cell_type": "code",
   "execution_count": 18,
   "metadata": {
    "collapsed": false
   },
   "outputs": [
    {
     "data": {
      "text/plain": [
       "[]"
      ]
     },
     "execution_count": 18,
     "metadata": {},
     "output_type": "execute_result"
    }
   ],
   "source": [
    "re.findall(r'(?i)(^th[\\w ]+)', \"\"\" \n",
    "... This line is the first, \n",
    "... another line, \n",
    "... that line, \n",
    "... it's the best\"\"\") #无re.M 实现多行混合"
   ]
  },
  {
   "cell_type": "markdown",
   "metadata": {},
   "source": [
    "下一组演示使用 re.S/DOTALL。该标记表明点号（.）能够用来表示\\n 符号（反之其通常 用于表示除了\\n 之外的全部字符）："
   ]
  },
  {
   "cell_type": "code",
   "execution_count": 33,
   "metadata": {
    "collapsed": false
   },
   "outputs": [
    {
     "data": {
      "text/plain": [
       "['the second line ', 'the third line ']"
      ]
     },
     "execution_count": 33,
     "metadata": {},
     "output_type": "execute_result"
    }
   ],
   "source": [
    " re.findall(r'th.+', ''' \n",
    " ... The first line \n",
    " ... the second line \n",
    " ... the third line \n",
    " ... ''') "
   ]
  },
  {
   "cell_type": "code",
   "execution_count": 34,
   "metadata": {
    "collapsed": false
   },
   "outputs": [
    {
     "data": {
      "text/plain": [
       "['the second line \\nthe third line \\n']"
      ]
     },
     "execution_count": 34,
     "metadata": {},
     "output_type": "execute_result"
    }
   ],
   "source": [
    "re.findall(r'(?s)th.+', '''   #re.S能够使得（.）表示\\n符号\n",
    "... The first line \n",
    "... the second line \n",
    "... the third line \n",
    "... ''') "
   ]
  },
  {
   "cell_type": "code",
   "execution_count": 35,
   "metadata": {
    "collapsed": false
   },
   "outputs": [
    {
     "data": {
      "text/plain": [
       "['The first line \\nthe second line \\nthe third line \\n']"
      ]
     },
     "execution_count": 35,
     "metadata": {},
     "output_type": "execute_result"
    }
   ],
   "source": [
    "re.findall(r'(?is)th.+', ''' \n",
    "... The first line \n",
    "... the second line \n",
    "... the third line \n",
    "... ''') "
   ]
  },
  {
   "cell_type": "code",
   "execution_count": 1,
   "metadata": {
    "collapsed": true
   },
   "outputs": [],
   "source": [
    "import re"
   ]
  },
  {
   "cell_type": "markdown",
   "metadata": {},
   "source": [
    "re.X/VERBOSE 标记非常有趣；该标记允许用户通过抑制在正则表达式中使用空白符（除 了在字符类中或者在反斜线转义中）来创建更易读的正则表达式。此外，散列、注释和井号 也可以用于一个注释的起始，只要它们不在一个用反斜线转义的字符类中。 "
   ]
  },
  {
   "cell_type": "code",
   "execution_count": null,
   "metadata": {
    "collapsed": true
   },
   "outputs": [],
   "source": [
    "#通过分组来提取字符串中的所需要的信息"
   ]
  },
  {
   "cell_type": "code",
   "execution_count": 2,
   "metadata": {
    "collapsed": false,
    "scrolled": true
   },
   "outputs": [
    {
     "data": {
      "text/plain": [
       "('800', '555', '1212')"
      ]
     },
     "execution_count": 2,
     "metadata": {},
     "output_type": "execute_result"
    }
   ],
   "source": [
    " re.search(r'''(?x) \n",
    " ...     \\((\\d{3})\\) # 区号 \n",
    " ...     [ ]         # 空白符 \n",
    " ...     (\\d{3})     # 前缀 \n",
    " ...     -           # 横线 \n",
    " ...     (\\d{4})     # 终点数字 \n",
    " ... ''', '(800) 555-1212').groups() "
   ]
  },
  {
   "cell_type": "markdown",
   "metadata": {},
   "source": [
    "(?:…)符号将更流行；通过使用该符号，可以对部分正则表达式进行分组，但是并不会保存该分组用于后续的检索或者应用。当不想保存今后永远不会使用的多余匹配时，这个符号 就非常有用。  "
   ]
  },
  {
   "cell_type": "markdown",
   "metadata": {},
   "source": [
    "正则表达式模式 匹配的字符串 \n",
    "(?:\\w+\\.)* 以句点作为结尾的字符串，例如“google.”、“ twitter.”、“ facebook.”，但是这些匹配不会保存下来 供后续的使用和数据检索 \n",
    "(?#comment) 此处并不做匹配，只是作为注释 \n",
    "(?=.com) 如果一个字符串后面跟着“.com”才做匹配操作，并不使用任何目标字符串 \n",
    "(?!.net) 如果一个字符串后面不是跟着“.net”才做匹配操作 \n",
    "(?<=800-) 如果字符串之前为“800-”才做匹配，假定为电话号码，同样，并不使用任何输入字符串 \n",
    "(?<!192\\.168\\.) 如果一个字符串之前不是“192.168.”才做匹配操作，假定用于过滤掉一组 C 类 IP 地址 \n",
    "(?(1)y|x) 如果一个匹配组 1（\\1）存在，就与 y匹配；否则，就与 x 匹配 "
   ]
  },
  {
   "cell_type": "code",
   "execution_count": 7,
   "metadata": {
    "collapsed": false
   },
   "outputs": [
    {
     "data": {
      "text/plain": [
       "['google.com', 'google.com', 'google.com']"
      ]
     },
     "execution_count": 7,
     "metadata": {},
     "output_type": "execute_result"
    }
   ],
   "source": [
    "re.findall(r'http://(?:\\w+\\.)*(\\w+\\.com)',  \n",
    "...     'http://google.com http://www.google.com http://code.google.com')  #使用？： 并不会保存当前匹配的字符串"
   ]
  },
  {
   "cell_type": "code",
   "execution_count": 8,
   "metadata": {
    "collapsed": false
   },
   "outputs": [
    {
     "data": {
      "text/plain": [
       "{'areacode': '800', 'prefix': '555'}"
      ]
     },
     "execution_count": 8,
     "metadata": {},
     "output_type": "execute_result"
    }
   ],
   "source": [
    "re.search(r'\\((?P<areacode>\\d{3})\\) (?P<prefix>\\d{3})-(?:\\d{4})',  \n",
    "...     '(800) 555-1212').groupdict() "
   ]
  },
  {
   "cell_type": "markdown",
   "metadata": {},
   "source": [
    "可以使用一个类似风格的\\g<name> 来检索它们"
   ]
  },
  {
   "cell_type": "code",
   "execution_count": 11,
   "metadata": {
    "collapsed": false
   },
   "outputs": [
    {
     "data": {
      "text/plain": [
       "'(800) 555-xxxx'"
      ]
     },
     "execution_count": 11,
     "metadata": {},
     "output_type": "execute_result"
    }
   ],
   "source": [
    "re.sub(r'\\((?P<areacode>\\d{3})\\) (?P<prefix>\\d{3})-(?:\\d{4})',  \n",
    "...     '(\\g<areacode>) \\g<prefix>-xxxx', '(800) 555-1212') "
   ]
  },
  {
   "cell_type": "code",
   "execution_count": 13,
   "metadata": {
    "collapsed": false
   },
   "outputs": [
    {
     "data": {
      "text/plain": [
       "False"
      ]
     },
     "execution_count": 13,
     "metadata": {},
     "output_type": "execute_result"
    }
   ],
   "source": [
    "bool(re.match(r'\\((?P<areacode>\\d{3})\\) (?P<prefix>\\d{3})- (?P<number>\\d{4}) (?P=areacode)-(?P=prefix)-(?P=number) 1(?P=areacode)(?P=prefix)(?P=number)', \n",
    "...     '(800) 555-1212 800-555-1212 18005551212')) "
   ]
  },
  {
   "cell_type": "code",
   "execution_count": 14,
   "metadata": {
    "collapsed": false
   },
   "outputs": [
    {
     "data": {
      "text/plain": [
       "['Guido', 'Just']"
      ]
     },
     "execution_count": 14,
     "metadata": {},
     "output_type": "execute_result"
    }
   ],
   "source": [
    "re.findall(r'\\w+(?= van Rossum)', \n",
    "... ''' \n",
    "...     Guido van Rossum \n",
    "...     Tim Peters \n",
    "...     Alex Martelli \n",
    "...     Just van Rossum \n",
    "...     Raymond Hettinger ... ''')"
   ]
  },
  {
   "cell_type": "code",
   "execution_count": 15,
   "metadata": {
    "collapsed": false
   },
   "outputs": [
    {
     "data": {
      "text/plain": [
       "['sales', 'eng', 'admin']"
      ]
     },
     "execution_count": 15,
     "metadata": {},
     "output_type": "execute_result"
    }
   ],
   "source": [
    "re.findall(r'(?m)^\\s+(?!noreply|postmaster)(\\w+)',  #\\s匹配字符串\n",
    "... ''' \n",
    "...     sales@phptr.com \n",
    "...     postmaster@phptr.com \n",
    "...     eng@phptr.com \n",
    "...     noreply@phptr.com \n",
    "...     admin@phptr.com \n",
    "... ''')"
   ]
  },
  {
   "cell_type": "code",
   "execution_count": 21,
   "metadata": {
    "collapsed": false
   },
   "outputs": [
    {
     "data": {
      "text/plain": [
       "['sales@aw.com', 'eng@aw.com', 'admin@aw.com']"
      ]
     },
     "execution_count": 21,
     "metadata": {},
     "output_type": "execute_result"
    }
   ],
   "source": [
    "['%s@aw.com' % e.group(1) for e in  re.finditer(r'(?m)^\\s+(?!noreply|postmaster)(\\w+)', \n",
    "... ''' \n",
    "...     sales@phptr.com \n",
    "...     postmaster@phptr.com \n",
    "...     eng@phptr.com \n",
    "...     noreply@phptr.com \n",
    "...     admin@phptr.com \n",
    "... ''')] "
   ]
  },
  {
   "cell_type": "markdown",
   "metadata": {},
   "source": [
    "最后一个示例展示了使用条件正则表达式匹配。假定我们拥有另一个特殊字符，它仅仅包含字母“x”和“y”，我们此时仅仅想要这样限定字符串：两字母的字符串必须由一个字母跟着另一个字母。换句话说，你不能同时拥有两个相同的字母；要么由“x”跟着 “y”，要么相反"
   ]
  },
  {
   "cell_type": "code",
   "execution_count": 22,
   "metadata": {
    "collapsed": false
   },
   "outputs": [
    {
     "data": {
      "text/plain": [
       "True"
      ]
     },
     "execution_count": 22,
     "metadata": {},
     "output_type": "execute_result"
    }
   ],
   "source": [
    "bool(re.search(r'(?:(x)|y)(?(1)y|x)', 'xy')) "
   ]
  },
  {
   "cell_type": "code",
   "execution_count": 23,
   "metadata": {
    "collapsed": false
   },
   "outputs": [
    {
     "data": {
      "text/plain": [
       "False"
      ]
     },
     "execution_count": 23,
     "metadata": {},
     "output_type": "execute_result"
    }
   ],
   "source": [
    "bool(re.search(r'(?:(x)|y)(?(1)y|x)', 'xx'))"
   ]
  },
  {
   "cell_type": "markdown",
   "metadata": {},
   "source": [
    "读者可能在之前的一些示例中见过原始字符串的使用。正则表达式对于探索原始字符 串有着强大的动力，原因就在于 ASCII 字符和正则表达式的特殊字符之间存在冲突。作为 一个特殊符号， \\b 表示 ASCII 字符的退格符，但是\\b 同时也是一个正则表达式的特殊符号， 表示匹配一个单词的边界。对于正则表达式编译器而言，若它把两个\\b 视为字符串内容而 不是单个退格符，就需要在字符串中再使用一个反斜线转义反斜线，就像这样：\\\\b。 "
   ]
  },
  {
   "cell_type": "code",
   "execution_count": 29,
   "metadata": {
    "collapsed": false
   },
   "outputs": [],
   "source": [
    "m=re.match('\\bblow', 'blow') # backspace、no match \n",
    "if m:\n",
    "    print (m.group())"
   ]
  },
  {
   "cell_type": "code",
   "execution_count": 30,
   "metadata": {
    "collapsed": false
   },
   "outputs": [
    {
     "name": "stdout",
     "output_type": "stream",
     "text": [
      "blow\n"
     ]
    }
   ],
   "source": [
    "m=re.match('\\\\bblow', 'blow')  # escaped\\，now it works\n",
    "if m:\n",
    "    print (m.group())"
   ]
  },
  {
   "cell_type": "code",
   "execution_count": 31,
   "metadata": {
    "collapsed": false
   },
   "outputs": [
    {
     "name": "stdout",
     "output_type": "stream",
     "text": [
      "blow\n"
     ]
    }
   ],
   "source": [
    "m=re.match(r'\\bblow', 'blow') # use raw string instead \n",
    "if m:\n",
    "    print (m.group())"
   ]
  },
  {
   "cell_type": "code",
   "execution_count": 33,
   "metadata": {
    "collapsed": false
   },
   "outputs": [
    {
     "name": "stdout",
     "output_type": "stream",
     "text": [
      "this is string example....wow!!!\n"
     ]
    }
   ],
   "source": [
    "str = \"this is string example....wow!!!     \";\n",
    "print (str.rstrip()) #rstrip 去除指定字符串"
   ]
  },
  {
   "cell_type": "code",
   "execution_count": null,
   "metadata": {
    "collapsed": true
   },
   "outputs": [],
   "source": [
    "#比较以下不同情况,正则表达式的贪婪匹配"
   ]
  },
  {
   "cell_type": "code",
   "execution_count": 35,
   "metadata": {
    "collapsed": true
   },
   "outputs": [],
   "source": [
    "data = 'Thu Feb 15 17:46:04 2007::uzifzf@dpyivihw.gov::1171590364-6-8' "
   ]
  },
  {
   "cell_type": "code",
   "execution_count": 36,
   "metadata": {
    "collapsed": false
   },
   "outputs": [
    {
     "data": {
      "text/plain": [
       "'1171590364-6-8'"
      ]
     },
     "execution_count": 36,
     "metadata": {},
     "output_type": "execute_result"
    }
   ],
   "source": [
    "patt = '\\d+-\\d+-\\d+'\n",
    "re.search(patt, data).group() "
   ]
  },
  {
   "cell_type": "code",
   "execution_count": 37,
   "metadata": {
    "collapsed": false
   },
   "outputs": [
    {
     "data": {
      "text/plain": [
       "'Thu Feb 15 17:46:04 2007::uzifzf@dpyivihw.gov::1171590364-6-8'"
      ]
     },
     "execution_count": 37,
     "metadata": {},
     "output_type": "execute_result"
    }
   ],
   "source": [
    "patt = '.+\\d+-\\d+-\\d+'\n",
    "re.match(patt, data).group() "
   ]
  },
  {
   "cell_type": "code",
   "execution_count": 38,
   "metadata": {
    "collapsed": false
   },
   "outputs": [
    {
     "data": {
      "text/plain": [
       "'4-6-8'"
      ]
     },
     "execution_count": 38,
     "metadata": {},
     "output_type": "execute_result"
    }
   ],
   "source": [
    "patt = '.+(\\d+-\\d+-\\d+)' \n",
    "re.match(patt, data).group(1) "
   ]
  },
  {
   "cell_type": "markdown",
   "metadata": {},
   "source": [
    "发生了什么？我们将提取 1171590364-6-8，而不仅仅是 4-6-8。第一个整数的其余部分在哪儿？问题在于正则表达式本质上实现贪婪匹配。这就意味着对于该通配符模式，将对正则表达 式从左至右按顺序求值，而且试图获取匹配该模式的尽可能多的字符。在之前的示例中，使用 “.+”获取从字符串起始位置开始的全部单个字符，包括所期望的第一个整数字段。"
   ]
  },
  {
   "cell_type": "markdown",
   "metadata": {},
   "source": [
    "其中的一个方案是使用“非贪婪”操作符“?”。读者可以在“*”、“ +”或者“?”之后使 用该操作符。该操作符将要求正则表达式引擎匹配尽可能少的字符。因此，如果在“.+”之 后放置一个“?”，我们将获得所期望的结果，"
   ]
  },
  {
   "cell_type": "code",
   "execution_count": 39,
   "metadata": {
    "collapsed": false
   },
   "outputs": [
    {
     "data": {
      "text/plain": [
       "'1171590364-6-8'"
      ]
     },
     "execution_count": 39,
     "metadata": {},
     "output_type": "execute_result"
    }
   ],
   "source": [
    "patt = '.+?(\\d+-\\d+-\\d+)'\n",
    "re.match(patt, data).group(1) "
   ]
  },
  {
   "cell_type": "code",
   "execution_count": 40,
   "metadata": {
    "collapsed": false
   },
   "outputs": [
    {
     "name": "stdout",
     "output_type": "stream",
     "text": [
      "-6-\n"
     ]
    }
   ],
   "source": [
    "patt = '-(\\d+)-'\n",
    "m = re.search(patt, data)\n",
    "print (m.group())               "
   ]
  },
  {
   "cell_type": "code",
   "execution_count": null,
   "metadata": {
    "collapsed": true
   },
   "outputs": [],
   "source": []
  }
 ],
 "metadata": {
  "kernelspec": {
   "display_name": "Python [Root]",
   "language": "python",
   "name": "Python [Root]"
  },
  "language_info": {
   "codemirror_mode": {
    "name": "ipython",
    "version": 3
   },
   "file_extension": ".py",
   "mimetype": "text/x-python",
   "name": "python",
   "nbconvert_exporter": "python",
   "pygments_lexer": "ipython3",
   "version": "3.5.1"
  }
 },
 "nbformat": 4,
 "nbformat_minor": 0
}
