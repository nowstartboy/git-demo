{
 "cells": [
  {
   "cell_type": "code",
   "execution_count": 1,
   "metadata": {
    "collapsed": false
   },
   "outputs": [],
   "source": [
    "import collections\n",
    "import math\n",
    "import os\n",
    "import random\n",
    "import zipfile\n",
    "import numpy as np\n",
    "import urllib\n",
    "import tensorflow as tf"
   ]
  },
  {
   "cell_type": "code",
   "execution_count": 2,
   "metadata": {
    "collapsed": true
   },
   "outputs": [],
   "source": [
    "url='http://mattmahoney.net/dc/'\n",
    "def maybe_download(filename,expected_bytes):\n",
    "    if not os.path.exists(filename):\n",
    "        filename,_=urllib.request.urlretrieve(url+filename,filename)\n",
    "    statinfo=os.stat(filename)\n",
    "    if statinfo.st_size==expected_bytes:\n",
    "        print ('Found and verfied',filename)\n",
    "    else:\n",
    "        print (statinfo.st_size)\n",
    "        raise Exception('Failed to verify'+filename+'. Can you get to it with a browser')\n",
    "    return filename"
   ]
  },
  {
   "cell_type": "code",
   "execution_count": 3,
   "metadata": {
    "collapsed": false
   },
   "outputs": [
    {
     "name": "stdout",
     "output_type": "stream",
     "text": [
      "Found and verfied text8.zip\n"
     ]
    }
   ],
   "source": [
    "filename=maybe_download('text8.zip',31344016)"
   ]
  },
  {
   "cell_type": "code",
   "execution_count": 4,
   "metadata": {
    "collapsed": false
   },
   "outputs": [
    {
     "name": "stdout",
     "output_type": "stream",
     "text": [
      "Data size 17005208\n"
     ]
    }
   ],
   "source": [
    "def read_data(filename):\n",
    "    with zipfile.ZipFile(filename) as f:\n",
    "        data=tf.compat.as_str(f.read(f.namelist()[0])).split(\" \")\n",
    "    return data\n",
    "words=read_data(filename)\n",
    "print ('Data size',len(words))"
   ]
  },
  {
   "cell_type": "code",
   "execution_count": 5,
   "metadata": {
    "collapsed": false
   },
   "outputs": [
    {
     "name": "stdout",
     "output_type": "stream",
     "text": [
      "['', 'anarchism', 'originated']\n"
     ]
    }
   ],
   "source": [
    "print (words[0:3])"
   ]
  },
  {
   "cell_type": "code",
   "execution_count": 6,
   "metadata": {
    "collapsed": false
   },
   "outputs": [],
   "source": [
    "#创建vocabulary词汇表\n",
    "vocabulary_size=50000\n",
    "\n",
    "def build_dataset(words):\n",
    "    count=[['UNK',-1]] \n",
    "    #most_common方法： 去top50000的频数的单词，创建一个dict,放进去。以词频排序\n",
    "    counter=collections.Counter(words).most_common(vocabulary_size-1) #length of all counter:22159 取top1999频数的单词作为vocabulary，其他的作为unknown\n",
    "    # print('123  :', type(count))  #list类型\n",
    "    # print(len(counter)) #1999个\n",
    "    print(counter[0:5])\n",
    "    #[('the', 51897), ('and', 27525), ('to', 26996), ('he', 22203), ('of', 21851), ('a', 21043), ('harry', 18165), ('was', 15637), ('you', 14627), ('it', 14489),。 ('member', 49), ('fake', 49)。]\n",
    "    count.extend(counter)\n",
    "    #搭建dictionary\n",
    "    dictionary={}\n",
    "    for word,_ in count:\n",
    "        dictionary[word]=len(dictionary)\n",
    "    print('第一个单词the排名为   :',dictionary.get('the'))   #输出为1\n",
    "    data=[]\n",
    "    #全部单词转为编号\n",
    "    #先判断这个单词是否出现在dictionary，如果是，就转成编号，如果不是，则转为编号0（代表UNK）\n",
    "    unk_count=0\n",
    "    for word in words:\n",
    "        if word in dictionary:\n",
    "            index=dictionary[word]\n",
    "        else:\n",
    "            index=0\n",
    "            unk_count+=1\n",
    "        data.append(index)\n",
    "\n",
    "    count[0][1]=unk_count\n",
    "    reverse_dictionary=dict(zip(dictionary.values(),dictionary.keys()))\n",
    "    # print('aaaaa   ',data)                 #根据文章，将全文每个数，对应的排名标记， 比如 the 出现最多，则对应的数为1，不在前1999的标记为0  【959, 18, 7, 6, 1728, 0, 306, 13, 450, 1175, 32, 180, 265, 3, 9, 205,】\n",
    "    # print('00000   ',count)               #前1999，个对应的出现的次数，第一个数是 总共多少不在前1999的字数   比如： the:51897\n",
    "    # print('bbbbb   ',dictionary)          #前1999的数的dict  ['the':1]这种\n",
    "    # print('1111   :',reverse_dictionary)  #按照dict值来排序，变得有规律起来。{0: 'UNK', 1: 'the', 2: 'and', 3: 'to', 4: 'he', 5: 'of', 6: 'a', 7: 'harry', 8: 'was', 9:}\n",
    "    return data,count,dictionary,reverse_dictionary"
   ]
  },
  {
   "cell_type": "code",
   "execution_count": 7,
   "metadata": {
    "collapsed": false
   },
   "outputs": [
    {
     "name": "stdout",
     "output_type": "stream",
     "text": [
      "[('the', 1061396), ('of', 593677), ('and', 416629), ('one', 411764), ('in', 372201)]\n",
      "第一个单词the排名为   : 1\n"
     ]
    }
   ],
   "source": [
    "data,count,dictionary,reverse_dictionary=build_dataset(words) "
   ]
  },
  {
   "cell_type": "code",
   "execution_count": 8,
   "metadata": {
    "collapsed": false
   },
   "outputs": [
    {
     "name": "stdout",
     "output_type": "stream",
     "text": [
      "[0, 5238, 3082, 12, 6]\n",
      "[['UNK', 418392], ('the', 1061396), ('of', 593677), ('and', 416629), ('one', 411764)]\n"
     ]
    }
   ],
   "source": [
    "print(data[0:5])\n",
    "print (count[0:5])"
   ]
  },
  {
   "cell_type": "code",
   "execution_count": 9,
   "metadata": {
    "collapsed": false
   },
   "outputs": [
    {
     "name": "stdout",
     "output_type": "stream",
     "text": [
      "Sample data [0, 5238, 3082, 12, 6, 195, 2, 3134, 46, 59, 156, 128, 742, 477, 10577, 134, 1, 27722, 2, 1] ['UNK', 'anarchism', 'originated', 'as', 'a', 'term', 'of', 'abuse', 'first', 'used', 'against', 'early', 'working', 'class', 'radicals', 'including', 'the', 'diggers', 'of', 'the']\n"
     ]
    }
   ],
   "source": [
    "print ('Sample data',data[:20],[reverse_dictionary[i] for i in data[:20]])"
   ]
  },
  {
   "cell_type": "code",
   "execution_count": 10,
   "metadata": {
    "collapsed": true
   },
   "outputs": [],
   "source": [
    "data_index=0\n",
    "\n",
    "'''\n",
    "采用Skip-Gram模式,  生成我们需要的 input label 的那种格式。，可以参看第二个小例子。\n",
    "生成word2vec训练样本\n",
    "@param batch_size:每个批次训练多少样本\n",
    "@param num_skips: 为每个单词生成多少样本（本次实验是2个），batch_size必须是num_skips的整数倍,这样可以确保由一个目标词汇生成的样本在同一个批次中。\n",
    "@param skip_window:单词最远可以联系的距离（本次实验设为1，即目标单词只能和相邻的两个单词生成样本），2*skip_window>=num_skips\n",
    "'''\n",
    "def generate_batch(batch_size,num_skips,skip_window):\n",
    "\n",
    "    global data_index\n",
    "    assert batch_size%num_skips==0\n",
    "    assert num_skips<=2*skip_window\n",
    "\n",
    "    batch=np.ndarray(shape=(batch_size),dtype=np.int32)\n",
    "    # print(batch)  128个一维数组\n",
    "    labels=np.ndarray(shape=(batch_size,1),dtype=np.int32)\n",
    "    # print(labels)  128个二维数组\n",
    "    span=2*skip_window+1   #入队长度\n",
    "    # print(span)\n",
    "    buffer=collections.deque(maxlen=span)\n",
    "    \n",
    "    for _ in range(span):  #双向队列填入初始值\n",
    "\n",
    "        buffer.append(data[data_index])\n",
    "        data_index=(data_index+1)%len(data)  \n",
    "    # print('cishu :000', batch_size//num_skips)\n",
    "    for i in range(batch_size//num_skips):  #第一次循环，i表示第几次入双向队列deque\n",
    "        for j in range(span):  #内部循环，处理deque\n",
    "            if j>skip_window:\n",
    "                batch[i*num_skips+j-1]=buffer[skip_window]\n",
    "                labels[i*num_skips+j-1,0]=buffer[j]\n",
    "            elif j==skip_window:\n",
    "                continue\n",
    "            else:\n",
    "                batch[i*num_skips+j]=buffer[skip_window]\n",
    "                labels[i*num_skips+j,0]=buffer[j]\n",
    "        buffer.append(data[data_index])  #入队一个单词，出队一个单词\n",
    "        data_index=(data_index+1)%len(data)\n",
    "    # print('batch    :',batch)\n",
    "    # print('label    :',labels)\n",
    "    return batch,labels    \n"
   ]
  },
  {
   "cell_type": "code",
   "execution_count": 11,
   "metadata": {
    "collapsed": false
   },
   "outputs": [
    {
     "name": "stdout",
     "output_type": "stream",
     "text": [
      "5238 anarchism -> 0 UNK\n",
      "5238 anarchism -> 3082 originated\n",
      "3082 originated -> 5238 anarchism\n",
      "3082 originated -> 12 as\n",
      "12 as -> 3082 originated\n",
      "12 as -> 6 a\n",
      "6 a -> 12 as\n",
      "6 a -> 195 term\n"
     ]
    }
   ],
   "source": [
    "batch,labels=generate_batch(batch_size=8,num_skips=2,skip_window=1)\n",
    "for i in range(8):\n",
    "    print (batch[i],reverse_dictionary[batch[i]],'->',labels[i,0],reverse_dictionary[labels[i,0]])"
   ]
  },
  {
   "cell_type": "code",
   "execution_count": 12,
   "metadata": {
    "collapsed": false
   },
   "outputs": [
    {
     "name": "stdout",
     "output_type": "stream",
     "text": [
      "(8, 1)\n"
     ]
    }
   ],
   "source": [
    "print (labels.shape)"
   ]
  },
  {
   "cell_type": "code",
   "execution_count": 13,
   "metadata": {
    "collapsed": true
   },
   "outputs": [],
   "source": [
    "#开始训练\n",
    "batch_size=128   \n",
    "embedding_size=128\n",
    "skip_window=1\n",
    "num_skips=2\n",
    "num_sampled=64  #训练时用来做负样本的噪声单词的数量\n",
    "#验证数据\n",
    "valid_size=16 #抽取的验证单词数\n",
    "valid_window=100 #验证单词只从频数最高的100个单词中抽取\n",
    "valid_examples=np.random.choice(valid_window,valid_size,replace=False)#不重复在0——10l里取16个\n"
   ]
  },
  {
   "cell_type": "code",
   "execution_count": 14,
   "metadata": {
    "collapsed": false,
    "scrolled": true
   },
   "outputs": [
    {
     "name": "stdout",
     "output_type": "stream",
     "text": [
      "相似性： Tensor(\"MatMul_1:0\", shape=(16, 50000), dtype=float32)\n"
     ]
    }
   ],
   "source": [
    "graph=tf.Graph()\n",
    "with graph.as_default():\n",
    "    train_inputs=tf.placeholder(tf.int32, shape=[batch_size])\n",
    "    train_labels=tf.placeholder(tf.int32, shape=[batch_size,1])\n",
    "    valid_dataset=tf.constant(valid_examples,dtype=tf.int32)\n",
    "    #单词维度为 50000单词大小，128向量维度\n",
    "    embeddings=tf.Variable(tf.random_uniform([vocabulary_size,embedding_size], -1.0, 1.0))   #初始化embedding vector\n",
    "    #使用tf.nn.embedding_lookup查找输入train_inputs 对应的向量embed\n",
    "    embed=tf.nn.embedding_lookup(embeddings, train_inputs) \n",
    "    \n",
    "    #用NCE loss作为优化训练的目标\n",
    "    #tf.truncated_normal初始化nce loss中的权重参数 nce_weights,并将nce_biases初始化为0\n",
    "    nce_weights=tf.Variable(tf.truncated_normal([vocabulary_size,embedding_size], stddev=1.0/np.math.sqrt(embedding_size)))\n",
    "    nce_bias=tf.Variable(tf.zeros([vocabulary_size]))\n",
    "    #计算学习出的词向量embedding在训练数据上的loss,并使用tf.reduce_mean进行魂汇总\n",
    "    loss=tf.reduce_mean(tf.nn.nce_loss(nce_weights, nce_bias, train_labels, embed, num_sampled, num_classes=vocabulary_size))\n",
    "    #学习率为1.0，L2范式标准化后的enormalized_embedding。\n",
    "    #通过cos方式来测试  两个之间的相似性，与向量的长度没有关系。\n",
    "    optimizer=tf.train.GradientDescentOptimizer(1.0).minimize(loss)\n",
    "    norm=tf.sqrt(tf.reduce_sum(tf.square(embeddings), axis=1, keep_dims=True))\n",
    "    normalized_embeddings=embeddings/norm   #除以其L2范数后得到标准化后的normalized_embeddings\n",
    "    \n",
    "    valid_embeddings=tf.nn.embedding_lookup(normalized_embeddings,valid_dataset)    #如果输入的是64，那么对应的embedding是normalized_embeddings第64行的vector\n",
    "    similarity=tf.matmul(valid_embeddings,normalized_embeddings,transpose_b=True)   #计算验证单词的嵌入向量与词汇表中所有单词的相似性\n",
    "    print('相似性：',similarity)\n",
    "    init=tf.global_variables_initializer()"
   ]
  },
  {
   "cell_type": "code",
   "execution_count": 15,
   "metadata": {
    "collapsed": false
   },
   "outputs": [
    {
     "name": "stdout",
     "output_type": "stream",
     "text": [
      "Initialized\n",
      "Avg loss at step  0 :  307.468139648\n",
      "Nearest to so: overlord, scruggs, expounded, mizrahi, fingertips, anesthesia, quimby, factorials,\n",
      "Nearest to many: goodnight, ecowas, sih, hurtful, jurists, turnovers, cjd, hauling,\n",
      "Nearest to a: mussorgsky, halide, smoothing, hudsucker, qwerty, priscus, cts, amending,\n",
      "Nearest to called: enya, dodecahedron, stomp, andrews, scipio, spaceflight, descending, commemorative,\n",
      "Nearest to system: moselle, burning, bigelow, technique, replicated, wormwood, nonsense, swabia,\n",
      "Nearest to four: calderas, buteo, unquestioned, lusignan, commemorate, abitibi, laughton, dutchman,\n",
      "Nearest to to: live, feynman, viceroy, fullerene, heinrich, devalued, bold, pivots,\n",
      "Nearest to as: mendelevium, biotic, placentia, suetonius, funimation, exacerbating, faculty, broadcasting,\n",
      "Nearest to of: doth, fraud, diasporas, alistair, ampersand, dawkins, pie, twenty,\n",
      "Nearest to world: decorations, schneier, bc, stray, beluga, endian, roadster, seperate,\n",
      "Nearest to can: farian, leukemia, nanotech, de, xers, recorder, neberg, gemini,\n",
      "Nearest to up: kinky, ghq, contrapuntal, cps, justin, caracalla, supranational, capitalize,\n",
      "Nearest to were: guin, jeong, synagogue, calorimetry, pantomime, virtuous, nessie, menai,\n",
      "Nearest to also: dewey, expanse, kain, noxious, foolish, boroughs, orgy, easy,\n",
      "Nearest to on: iraq, prepared, md, horrendous, banished, partnered, yeshiva, speech,\n",
      "Nearest to all: caribbean, curran, venatici, nsdap, variously, piloted, tuscan, golda,\n",
      "Avg loss at step  2000 :  113.67635084\n",
      "Avg loss at step  4000 :  52.9886438017\n",
      "Avg loss at step  6000 :  33.3246606932\n",
      "Avg loss at step  8000 :  23.5754595845\n",
      "Avg loss at step  10000 :  17.516844141\n",
      "Nearest to so: graphical, expounded, cc, anesthesia, guilty, chord, christians, goes,\n",
      "Nearest to many: ex, occurred, the, oceans, impact, funeral, decides, brought,\n",
      "Nearest to a: the, an, UNK, reginae, and, bicycle, one, cassady,\n",
      "Nearest to called: austin, bantam, systems, attempts, spaceflight, reginae, that, construction,\n",
      "Nearest to system: technique, reginae, expressed, austin, burning, looks, berlin, state,\n",
      "Nearest to four: victoriae, zero, reginae, altenberg, six, nine, three, amazing,\n",
      "Nearest to to: and, in, agave, victoriae, gollancz, ari, austin, reginae,\n",
      "Nearest to as: and, november, in, analogue, is, be, former, sixties,\n",
      "Nearest to of: in, and, for, from, with, or, nine, on,\n",
      "Nearest to world: bc, decorations, stray, reginae, ch, of, prehistoric, fails,\n",
      "Nearest to can: leukemia, victoriae, ottoman, was, slot, agnostic, gemini, amo,\n",
      "Nearest to up: babbage, justin, vinyl, po, music, phi, unlike, forgotten,\n",
      "Nearest to were: is, are, altenberg, and, modulated, dairy, virtuous, gland,\n",
      "Nearest to also: boroughs, and, ibid, foolish, easy, murdered, cassady, critics,\n",
      "Nearest to on: in, of, and, infections, prepared, speech, bang, austin,\n",
      "Nearest to all: reginae, caribbean, alice, measures, amo, one, opposed, discuss,\n",
      "Avg loss at step  12000 :  14.0340526289\n",
      "Avg loss at step  14000 :  11.8796178515\n",
      "Avg loss at step  16000 :  9.84066931796\n",
      "Avg loss at step  18000 :  8.76334935796\n",
      "Avg loss at step  20000 :  7.83848405325\n",
      "Nearest to so: expounded, graphical, anesthesia, overlord, chord, cc, guilty, christians,\n",
      "Nearest to many: ex, the, occurred, all, decides, dictator, comedian, his,\n",
      "Nearest to a: the, dasyprocta, aquila, wattle, his, agouti, this, gemological,\n",
      "Nearest to called: systems, austin, antibody, dasyprocta, agouti, descending, bros, bantam,\n",
      "Nearest to system: technique, dasyprocta, expressed, reginae, agouti, state, looks, mcbeal,\n",
      "Nearest to four: six, three, eight, zero, nine, five, two, seven,\n",
      "Nearest to to: for, agouti, nine, in, msg, highlighting, from, through,\n",
      "Nearest to as: and, is, analogue, agouti, by, was, in, astoria,\n",
      "Nearest to of: and, in, for, from, nine, with, dasyprocta, agouti,\n",
      "Nearest to world: bc, decorations, iota, stray, schneier, belladonna, fails, reginae,\n",
      "Nearest to can: leukemia, was, victoriae, gemini, not, do, agnostic, ottoman,\n",
      "Nearest to up: dasyprocta, bmp, presiding, unlike, configuration, eligible, forgotten, babbage,\n",
      "Nearest to were: are, is, was, dairy, altenberg, gland, could, modulated,\n",
      "Nearest to also: boroughs, which, murdered, not, agouti, ibid, it, mauchly,\n",
      "Nearest to on: in, for, and, against, of, dasyprocta, two, before,\n",
      "Nearest to all: reginae, one, caribbean, many, measures, photos, constituent, discuss,\n",
      "Avg loss at step  22000 :  7.31520424843\n",
      "Avg loss at step  24000 :  7.01852894056\n",
      "Avg loss at step  26000 :  6.70924051917\n",
      "Avg loss at step  28000 :  6.13760041428\n",
      "Avg loss at step  30000 :  6.19829038787\n",
      "Nearest to so: overlord, expounded, chord, graphical, anesthesia, notebook, goes, experience,\n",
      "Nearest to many: some, rodin, all, ex, the, decides, occurred, dictator,\n",
      "Nearest to a: the, dasyprocta, aquila, akita, agouti, wattle, this, or,\n",
      "Nearest to called: austin, systems, bros, agouti, dasyprocta, antibody, descending, and,\n",
      "Nearest to system: technique, dasyprocta, expressed, agouti, reginae, state, looks, swabia,\n",
      "Nearest to four: six, five, eight, three, seven, nine, two, zero,\n",
      "Nearest to to: for, agouti, in, nine, would, not, philippi, from,\n",
      "Nearest to as: is, agouti, by, analogue, astoria, and, with, former,\n",
      "Nearest to of: and, in, from, for, s, nine, or, eight,\n",
      "Nearest to world: decorations, iota, bc, schneier, fails, belladonna, stray, reginae,\n",
      "Nearest to can: may, would, should, could, leukemia, to, gemini, victoriae,\n",
      "Nearest to up: eligible, bmp, presiding, dasyprocta, configuration, vinyl, music, presbyters,\n",
      "Nearest to were: are, was, is, have, by, dairy, tnf, be,\n",
      "Nearest to also: which, boroughs, it, murdered, agouti, not, that, ibid,\n",
      "Nearest to on: in, for, two, against, and, of, one, dasyprocta,\n",
      "Nearest to all: many, reginae, some, measures, dope, photos, caribbean, amo,\n",
      "Avg loss at step  32000 :  5.86191397536\n",
      "Avg loss at step  34000 :  5.86540166628\n",
      "Avg loss at step  36000 :  5.66166135371\n",
      "Avg loss at step  38000 :  5.26544827807\n",
      "Avg loss at step  40000 :  5.48251235563\n",
      "Nearest to so: overlord, notebook, expounded, graphical, chord, goes, anesthesia, experience,\n",
      "Nearest to many: some, all, rodin, the, decides, ex, dictator, occurred,\n",
      "Nearest to a: the, dasyprocta, aquila, wattle, francesco, akita, six, agouti,\n",
      "Nearest to called: austin, UNK, bros, agouti, and, dasyprocta, wattle, systems,\n",
      "Nearest to system: technique, dasyprocta, swabia, expressed, agouti, reginae, state, looks,\n",
      "Nearest to four: five, six, three, seven, eight, two, zero, dasyprocta,\n",
      "Nearest to to: agouti, for, through, not, philippi, would, nine, aosta,\n",
      "Nearest to as: agouti, is, astoria, analogue, continuo, by, akita, hbf,\n",
      "Nearest to of: in, from, for, aediles, and, agouti, dasyprocta, separable,\n",
      "Nearest to world: decorations, schneier, bc, iota, belladonna, fails, prehistoric, stray,\n",
      "Nearest to can: may, would, should, could, victoriae, do, will, leukemia,\n",
      "Nearest to up: eligible, dasyprocta, bmp, presiding, configuration, vinyl, unlike, akita,\n",
      "Nearest to were: are, was, is, have, tnf, be, gland, being,\n",
      "Nearest to also: which, it, boroughs, not, agouti, now, that, murdered,\n",
      "Nearest to on: in, at, against, dasyprocta, for, before, from, cy,\n",
      "Nearest to all: many, some, lemmy, reginae, both, measures, photos, two,\n",
      "Avg loss at step  42000 :  5.30202832866\n",
      "Avg loss at step  44000 :  5.29095677137\n",
      "Avg loss at step  46000 :  5.27656331992\n",
      "Avg loss at step  48000 :  5.05259784722\n",
      "Avg loss at step  50000 :  5.16519412267\n",
      "Nearest to so: overlord, notebook, expounded, chord, goes, graphical, performs, experience,\n",
      "Nearest to many: some, all, other, rodin, decides, several, the, ex,\n",
      "Nearest to a: the, aquila, dasyprocta, wattle, no, francesco, any, this,\n",
      "Nearest to called: austin, bros, UNK, agouti, dasyprocta, wattle, thibetanus, ariane,\n",
      "Nearest to system: technique, swabia, btu, dasyprocta, state, looks, seize, expressed,\n",
      "Nearest to four: six, five, three, seven, eight, two, one, nine,\n",
      "Nearest to to: agouti, nine, through, would, not, will, from, msg,\n",
      "Nearest to as: agouti, is, analogue, astoria, akita, continuo, nn, hbf,\n",
      "Nearest to of: in, and, from, nine, for, agouti, aediles, thibetanus,\n",
      "Nearest to world: decorations, bc, schneier, iota, belladonna, fails, prehistoric, abbreviations,\n",
      "Nearest to can: would, may, should, could, will, must, do, to,\n",
      "Nearest to up: eligible, chanter, contrapuntal, bmp, presiding, dasyprocta, mature, vinyl,\n",
      "Nearest to were: are, was, have, is, be, had, being, tnf,\n",
      "Nearest to also: which, now, it, boroughs, agouti, not, that, clearly,\n",
      "Nearest to on: in, against, at, roshan, two, from, before, upon,\n",
      "Nearest to all: many, some, two, both, lemmy, three, reginae, measures,\n",
      "Avg loss at step  52000 :  5.16787346399\n",
      "Avg loss at step  54000 :  5.1011500138\n",
      "Avg loss at step  56000 :  5.0432978313\n",
      "Avg loss at step  58000 :  5.07911564124\n",
      "Avg loss at step  60000 :  4.9301280508\n",
      "Nearest to so: overlord, notebook, chord, expounded, goes, performs, nsc, reuptake,\n",
      "Nearest to many: some, all, other, several, these, rodin, decides, tamarin,\n",
      "Nearest to a: the, any, dasyprocta, aquila, no, pulau, wattle, francesco,\n",
      "Nearest to called: austin, tamarin, michelob, bros, agouti, dasyprocta, pulau, wattle,\n",
      "Nearest to system: technique, dasyprocta, state, swabia, btu, agouti, reginae, pulau,\n",
      "Nearest to four: five, six, three, eight, seven, nine, two, zero,\n",
      "Nearest to to: agouti, would, nine, not, through, will, msg, callithrix,\n",
      "Nearest to as: agouti, callithrix, astoria, analogue, continuo, akita, michelob, thriller,\n",
      "Nearest to of: in, agouti, callithrix, microcebus, for, nine, dasyprocta, six,\n",
      "Nearest to world: bc, decorations, schneier, iota, beluga, belladonna, fails, prehistoric,\n",
      "Nearest to can: may, would, could, should, will, must, to, victoriae,\n",
      "Nearest to up: chanter, eligible, bmp, contrapuntal, dasyprocta, down, callithrix, comparable,\n",
      "Nearest to were: are, was, have, being, had, be, is, tnf,\n",
      "Nearest to also: which, now, it, agouti, still, employed, boroughs, that,\n",
      "Nearest to on: in, against, upon, at, roshan, before, dasyprocta, ssbn,\n",
      "Nearest to all: some, many, both, tamarin, reginae, lemmy, three, dope,\n",
      "Avg loss at step  62000 :  4.77899437344\n",
      "Avg loss at step  64000 :  4.82060387206\n",
      "Avg loss at step  66000 :  4.9743492316\n",
      "Avg loss at step  68000 :  4.90805183148\n",
      "Avg loss at step  70000 :  4.76532584047\n",
      "Nearest to so: chord, performs, overlord, goes, notebook, reuptake, nsc, wct,\n",
      "Nearest to many: some, all, several, other, these, tamarin, most, decides,\n",
      "Nearest to a: the, any, dasyprocta, wattle, aquila, pulau, francesco, callithrix,\n",
      "Nearest to called: UNK, austin, and, tamarin, michelob, bros, agouti, pulau,\n",
      "Nearest to system: technique, dasyprocta, state, swabia, ecc, btu, good, agouti,\n",
      "Nearest to four: five, six, three, seven, eight, two, zero, nine,\n",
      "Nearest to to: through, agouti, will, can, would, not, for, nine,\n",
      "Nearest to as: agouti, mitral, analogue, callithrix, continuo, cerro, astoria, akita,\n",
      "Nearest to of: for, in, microcebus, agouti, and, callithrix, upanija, separable,\n",
      "Nearest to world: bc, decorations, iota, schneier, lcc, beluga, belladonna, callithrix,\n",
      "Nearest to can: may, would, will, could, should, must, to, cannot,\n",
      "Nearest to up: contrapuntal, chanter, eligible, down, bmp, comparable, dasyprocta, callithrix,\n",
      "Nearest to were: are, have, was, be, being, had, these, is,\n",
      "Nearest to also: which, now, still, it, agouti, often, sometimes, employed,\n",
      "Nearest to on: in, upon, against, roshan, before, at, dasyprocta, and,\n",
      "Nearest to all: many, some, both, tamarin, three, these, reginae, lemmy,\n",
      "Avg loss at step  72000 :  4.8149292568\n",
      "Avg loss at step  74000 :  4.7839700824\n",
      "Avg loss at step  76000 :  4.87366001868\n",
      "Avg loss at step  78000 :  4.80205237436\n",
      "Avg loss at step  80000 :  4.82231685436\n",
      "Nearest to so: performs, goes, chord, wct, reuptake, nsc, overlord, notebook,\n",
      "Nearest to many: some, several, these, other, all, most, tamarin, such,\n",
      "Nearest to a: the, francesco, any, dasyprocta, another, wattle, aquila, pulau,\n",
      "Nearest to called: ocaml, tamarin, austin, michelob, agouti, wattle, pontificia, iit,\n",
      "Nearest to system: technique, dasyprocta, state, swabia, ecc, btu, seize, agouti,\n",
      "Nearest to four: five, six, seven, eight, three, two, nine, zero,\n",
      "Nearest to to: agouti, would, through, will, not, clodius, can, msg,\n",
      "Nearest to as: agouti, analogue, continuo, when, cerro, astoria, michelob, wcw,\n",
      "Nearest to of: clodius, separable, nine, microcebus, in, agouti, thibetanus, amps,\n",
      "Nearest to world: bc, decorations, iota, schneier, beluga, lcc, belladonna, iit,\n",
      "Nearest to can: may, would, will, could, should, must, cannot, might,\n",
      "Nearest to up: contrapuntal, down, chanter, comparable, peirce, eligible, bmp, out,\n",
      "Nearest to were: are, have, was, had, being, be, is, these,\n",
      "Nearest to also: which, now, still, it, often, sometimes, agouti, employed,\n",
      "Nearest to on: in, upon, against, at, roshan, before, ssbn, dasyprocta,\n",
      "Nearest to all: both, some, many, tamarin, these, two, three, lemmy,\n",
      "Avg loss at step  82000 :  4.81412895298\n",
      "Avg loss at step  84000 :  4.78354953098\n",
      "Avg loss at step  86000 :  4.80645738351\n",
      "Avg loss at step  88000 :  4.68955954528\n",
      "Avg loss at step  90000 :  4.75876261306\n",
      "Nearest to so: goes, performs, reuptake, nsc, chord, wct, notebook, sorrow,\n",
      "Nearest to many: some, several, these, all, other, most, prokaryotes, tamarin,\n",
      "Nearest to a: the, any, dasyprocta, wattle, francesco, aquila, pulau, callithrix,\n",
      "Nearest to called: ocaml, tamarin, michelob, wattle, austin, agouti, pulau, complicated,\n",
      "Nearest to system: dasyprocta, technique, agouti, state, reginae, pulau, seize, swabia,\n",
      "Nearest to four: five, seven, six, eight, three, two, nine, zero,\n",
      "Nearest to to: agouti, through, would, nine, clodius, will, pontificia, msg,\n",
      "Nearest to as: agouti, when, michelob, extremophiles, cerro, astoria, continuo, before,\n",
      "Nearest to of: clodius, in, for, same, agouti, microcebus, from, separable,\n",
      "Nearest to world: bc, iota, decorations, movement, schneier, reginae, callithrix, abbreviations,\n",
      "Nearest to can: may, would, could, will, should, must, might, cannot,\n",
      "Nearest to up: down, contrapuntal, out, chanter, comparable, them, peirce, over,\n",
      "Nearest to were: are, have, was, had, being, be, is, tnf,\n",
      "Nearest to also: now, which, still, often, sometimes, agouti, it, commonly,\n",
      "Nearest to on: upon, in, against, at, roshan, dasyprocta, ssbn, under,\n",
      "Nearest to all: both, many, some, these, tamarin, lemmy, three, agouti,\n",
      "Avg loss at step  92000 :  4.72121544528\n",
      "Avg loss at step  94000 :  4.62552801466\n",
      "Avg loss at step  96000 :  4.73049234724\n",
      "Avg loss at step  98000 :  4.62942788458\n",
      "Avg loss at step  100000 :  4.67609447062\n",
      "Nearest to so: performs, goes, nsc, reuptake, wct, interpreter, cebus, chord,\n",
      "Nearest to many: some, several, these, all, other, most, various, prokaryotes,\n",
      "Nearest to a: the, any, dasyprocta, another, francesco, wattle, aquila, pulau,\n",
      "Nearest to called: ocaml, and, complicated, michelob, wattle, tamarin, austin, used,\n",
      "Nearest to system: technique, systems, dasyprocta, state, swabia, seize, agouti, btu,\n",
      "Nearest to four: five, six, seven, eight, three, two, nine, zero,\n",
      "Nearest to to: agouti, through, would, clodius, can, nine, could, pontificia,\n",
      "Nearest to as: agouti, when, analogue, continuo, extremophiles, cerro, astoria, callithrix,\n",
      "Nearest to of: clodius, in, agouti, nine, eight, seven, separable, callithrix,\n",
      "Nearest to world: bc, iota, movement, decorations, abbreviations, beluga, schneier, endian,\n",
      "Nearest to can: may, would, could, will, should, must, might, cannot,\n",
      "Nearest to up: out, down, contrapuntal, them, comparable, chanter, him, over,\n",
      "Nearest to were: are, have, was, had, being, be, cebus, tnf,\n",
      "Nearest to also: now, still, which, often, sometimes, usually, never, agouti,\n",
      "Nearest to on: in, upon, against, at, roshan, under, within, through,\n",
      "Nearest to all: both, many, some, these, tamarin, three, several, two,\n"
     ]
    }
   ],
   "source": [
    "num_steps=100001\n",
    "with tf.Session(graph=graph) as session:\n",
    "    init.run()\n",
    "    print(\"Initialized\")\n",
    "    avg_loss=0\n",
    "    for step in range(num_steps):\n",
    "        batch_inputs,batch_labels=generate_batch(batch_size, num_skips, skip_window)  #产生批次训练样本\n",
    "        feed_dict={train_inputs:batch_inputs,train_labels:batch_labels}   #赋值\n",
    "        _,loss_val=session.run([optimizer,loss],feed_dict=feed_dict)\n",
    "        avg_loss+=loss_val\n",
    "        #每2000次，计算一下平均loss并显示出来。\n",
    "        if step % 2000 ==0:\n",
    "            if step>0:\n",
    "                avg_loss/=2000\n",
    "            print(\"Avg loss at step \",step,\": \",avg_loss)\n",
    "            avg_loss=0\n",
    "            #每10000次，验证单词与全部单词的相似度，并将与每个验证单词最相似的8个找出来。\n",
    "        if step%10000==0:\n",
    "            sim=similarity.eval()\n",
    "            for i in range(valid_size):\n",
    "                valid_word=reverse_dictionary[valid_examples[i]]  #得到验证单词\n",
    "                top_k=8  \n",
    "                nearest=(-sim[i,:]).argsort()[1:top_k+1]     #每一个valid_example相似度最高的top-k个单词\n",
    "                log_str=\"Nearest to %s:\" % valid_word\n",
    "                for k in range(top_k):\n",
    "                    close_word=reverse_dictionary[nearest[k]]\n",
    "                    log_str=\"%s %s,\" %(log_str,close_word)\n",
    "                print(log_str)\n",
    "    final_embedding=normalized_embeddings.eval()"
   ]
  },
  {
   "cell_type": "code",
   "execution_count": 17,
   "metadata": {
    "collapsed": false,
    "scrolled": true
   },
   "outputs": [
    {
     "name": "stdout",
     "output_type": "stream",
     "text": [
      "(16, 50000)\n"
     ]
    }
   ],
   "source": [
    "print (sim.shape)"
   ]
  },
  {
   "cell_type": "code",
   "execution_count": 57,
   "metadata": {
    "collapsed": false
   },
   "outputs": [
    {
     "name": "stdout",
     "output_type": "stream",
     "text": [
      "123213123\n",
      "1231231\n"
     ]
    },
    {
     "data": {
      "image/png": "[encoded data removed]",
      "text/plain": [
       "<matplotlib.figure.Figure at 0x29c271a5198>"
      ]
     },
     "metadata": {},
     "output_type": "display_data"
    }
   ],
   "source": [
    "import matplotlib.pyplot as plt\n",
    "%matplotlib inline\n",
    "'''\n",
    "可视化Word2Vec散点图并保存\n",
    "'''\n",
    "def plot_with_labels(low_dim_embs,labels,filename):\n",
    "    #low_dim_embs 降维到2维的单词的空间向量\n",
    "    assert low_dim_embs.shape[0]>=len(labels),\"more labels than embedding\"\n",
    "    plt.figure(figsize=(18,18))\n",
    "    for i,label in enumerate(labels):\n",
    "        x,y=low_dim_embs[i,:]\n",
    "        plt.scatter(x, y)\n",
    "        #展示单词本身\n",
    "        plt.annotate(label,xy=(x,y),xytext=(5,2),textcoords='offset points',ha='right',va='bottom')\n",
    "    plt.savefig(filename)\n",
    "\n",
    "'''\n",
    "tsne实现降维，将原始的128维的嵌入向量降到2维\n",
    "'''\n",
    "print('123213123')\n",
    "tsne=TSNE(perplexity=30,n_components=2,init='pca',n_iter=5000)\n",
    "plot_number=100\n",
    "low_dim_embs=tsne.fit_transform(final_embedding[:plot_number,:])\n",
    "labels=[reverse_dictionary[i] for i in range(plot_number)]\n",
    "plot_with_labels(low_dim_embs, labels, 'E:/machine_data/picture/plot.png')\n",
    "print('1231231')"
   ]
  },
  {
   "cell_type": "code",
   "execution_count": 26,
   "metadata": {
    "collapsed": false
   },
   "outputs": [
    {
     "name": "stdout",
     "output_type": "stream",
     "text": [
      "[['UNK', -1]]\n"
     ]
    }
   ],
   "source": [
    "count=[['UNK',-1]]    #初始化单词频数统计集合\n",
    "print (count)"
   ]
  },
  {
   "cell_type": "code",
   "execution_count": 27,
   "metadata": {
    "collapsed": true
   },
   "outputs": [],
   "source": [
    "count.extend([(1,2),(2,3)])"
   ]
  },
  {
   "cell_type": "code",
   "execution_count": 28,
   "metadata": {
    "collapsed": false
   },
   "outputs": [
    {
     "data": {
      "text/plain": [
       "[['UNK', -1], (1, 2), (2, 3)]"
      ]
     },
     "execution_count": 28,
     "metadata": {},
     "output_type": "execute_result"
    }
   ],
   "source": [
    "count"
   ]
  },
  {
   "cell_type": "code",
   "execution_count": 29,
   "metadata": {
    "collapsed": false
   },
   "outputs": [
    {
     "name": "stdout",
     "output_type": "stream",
     "text": [
      "<class 'list'>\n",
      "<class 'tuple'>\n"
     ]
    }
   ],
   "source": [
    "print (type(count[0]))\n",
    "print (type(count[1]))"
   ]
  },
  {
   "cell_type": "code",
   "execution_count": 31,
   "metadata": {
    "collapsed": false
   },
   "outputs": [
    {
     "name": "stdout",
     "output_type": "stream",
     "text": [
      "1\n"
     ]
    }
   ],
   "source": [
    "print (count[1][0])"
   ]
  },
  {
   "cell_type": "code",
   "execution_count": null,
   "metadata": {
    "collapsed": true
   },
   "outputs": [],
   "source": []
  }
 ],
 "metadata": {
  "anaconda-cloud": {},
  "kernelspec": {
   "display_name": "Python [Root]",
   "language": "python",
   "name": "Python [Root]"
  },
  "language_info": {
   "codemirror_mode": {
    "name": "ipython",
    "version": 3
   },
   "file_extension": ".py",
   "mimetype": "text/x-python",
   "name": "python",
   "nbconvert_exporter": "python",
   "pygments_lexer": "ipython3",
   "version": "3.5.1"
  }
 },
 "nbformat": 4,
 "nbformat_minor": 0
}
