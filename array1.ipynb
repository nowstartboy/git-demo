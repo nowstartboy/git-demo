{
 "cells": [
  {
   "cell_type": "code",
   "execution_count": 2,
   "metadata": {
    "collapsed": true
   },
   "outputs": [],
   "source": [
    "class Solution(object):\n",
    "    def removeDuplicates(self, nums):\n",
    "        \"\"\"\n",
    "        :type nums: List[int]\n",
    "        :rtype: int\n",
    "        \"\"\"\n",
    "        return len(set(nums))"
   ]
  },
  {
   "cell_type": "code",
   "execution_count": 3,
   "metadata": {
    "collapsed": false
   },
   "outputs": [],
   "source": [
    "a=Solution()"
   ]
  },
  {
   "cell_type": "code",
   "execution_count": 4,
   "metadata": {
    "collapsed": false
   },
   "outputs": [
    {
     "data": {
      "text/plain": [
       "2"
      ]
     },
     "execution_count": 4,
     "metadata": {},
     "output_type": "execute_result"
    }
   ],
   "source": [
    "a.removeDuplicates([1,1,2])"
   ]
  },
  {
   "cell_type": "code",
   "execution_count": 3,
   "metadata": {
    "collapsed": true
   },
   "outputs": [],
   "source": [
    "class Solution1(object):\n",
    "    def removeDuplicates1(self, nums):\n",
    "        \"\"\"\n",
    "        :type nums: List[int]\n",
    "        :rtype: int\n",
    "        \"\"\"\n",
    "        a={}\n",
    "        n=len(nums)\n",
    "        for i in nums:\n",
    "            if i not in a:\n",
    "                a[i]=1\n",
    "            else:\n",
    "                n-=1\n",
    "        return n\n",
    "                "
   ]
  },
  {
   "cell_type": "code",
   "execution_count": 4,
   "metadata": {
    "collapsed": false
   },
   "outputs": [],
   "source": [
    "b=Solution1()"
   ]
  },
  {
   "cell_type": "code",
   "execution_count": 5,
   "metadata": {
    "collapsed": false
   },
   "outputs": [
    {
     "data": {
      "text/plain": [
       "2"
      ]
     },
     "execution_count": 5,
     "metadata": {},
     "output_type": "execute_result"
    }
   ],
   "source": [
    "b.removeDuplicates1([1,1,2])"
   ]
  },
  {
   "cell_type": "code",
   "execution_count": 10,
   "metadata": {
    "collapsed": false
   },
   "outputs": [
    {
     "data": {
      "text/plain": [
       "{2, 3}"
      ]
     },
     "execution_count": 10,
     "metadata": {},
     "output_type": "execute_result"
    }
   ],
   "source": [
    "a=[1,2,3]\n",
    "b=[2,3,4]\n",
    "set(a)&set(b)"
   ]
  },
  {
   "cell_type": "code",
   "execution_count": 6,
   "metadata": {
    "collapsed": false
   },
   "outputs": [
    {
     "ename": "AttributeError",
     "evalue": "'list' object has no attribute 'unique'",
     "output_type": "error",
     "traceback": [
      "\u001b[1;31m---------------------------------------------------------------------------\u001b[0m",
      "\u001b[1;31mAttributeError\u001b[0m                            Traceback (most recent call last)",
      "\u001b[1;32m<ipython-input-6-7c75830a9637>\u001b[0m in \u001b[0;36m<module>\u001b[1;34m()\u001b[0m\n\u001b[0;32m      1\u001b[0m \u001b[0ma\u001b[0m\u001b[1;33m=\u001b[0m\u001b[1;33m[\u001b[0m\u001b[1;36m1\u001b[0m\u001b[1;33m,\u001b[0m\u001b[1;36m2\u001b[0m\u001b[1;33m,\u001b[0m\u001b[1;36m3\u001b[0m\u001b[1;33m,\u001b[0m\u001b[1;36m4\u001b[0m\u001b[1;33m,\u001b[0m\u001b[1;36m3\u001b[0m\u001b[1;33m]\u001b[0m\u001b[1;33m\u001b[0m\u001b[0m\n\u001b[1;32m----> 2\u001b[1;33m \u001b[0ma\u001b[0m\u001b[1;33m.\u001b[0m\u001b[0munique\u001b[0m\u001b[1;33m(\u001b[0m\u001b[1;33m)\u001b[0m\u001b[1;33m\u001b[0m\u001b[0m\n\u001b[0m",
      "\u001b[1;31mAttributeError\u001b[0m: 'list' object has no attribute 'unique'"
     ]
    }
   ],
   "source": [
    "a=[1,2,3,4,3]\n",
    "a.unique()"
   ]
  },
  {
   "cell_type": "code",
   "execution_count": 1,
   "metadata": {
    "collapsed": true
   },
   "outputs": [],
   "source": [
    "a=[1,2,3,4]\n",
    "b=[i>2 for i in a]"
   ]
  },
  {
   "cell_type": "code",
   "execution_count": 2,
   "metadata": {
    "collapsed": false
   },
   "outputs": [
    {
     "data": {
      "text/plain": [
       "[False, False, True, True]"
      ]
     },
     "execution_count": 2,
     "metadata": {},
     "output_type": "execute_result"
    }
   ],
   "source": [
    "b\n"
   ]
  },
  {
   "cell_type": "code",
   "execution_count": 3,
   "metadata": {
    "collapsed": false
   },
   "outputs": [
    {
     "data": {
      "text/plain": [
       "True"
      ]
     },
     "execution_count": 3,
     "metadata": {},
     "output_type": "execute_result"
    }
   ],
   "source": [
    "bool(b)"
   ]
  },
  {
   "cell_type": "code",
   "execution_count": 4,
   "metadata": {
    "collapsed": false
   },
   "outputs": [
    {
     "data": {
      "text/plain": [
       "False"
      ]
     },
     "execution_count": 4,
     "metadata": {},
     "output_type": "execute_result"
    }
   ],
   "source": [
    "b[1]"
   ]
  },
  {
   "cell_type": "code",
   "execution_count": 5,
   "metadata": {
    "collapsed": false
   },
   "outputs": [
    {
     "ename": "AttributeError",
     "evalue": "'list' object has no attribute 'astype'",
     "output_type": "error",
     "traceback": [
      "\u001b[1;31m---------------------------------------------------------------------------\u001b[0m",
      "\u001b[1;31mAttributeError\u001b[0m                            Traceback (most recent call last)",
      "\u001b[1;32m<ipython-input-5-523ae7d433be>\u001b[0m in \u001b[0;36m<module>\u001b[1;34m()\u001b[0m\n\u001b[1;32m----> 1\u001b[1;33m \u001b[0mb\u001b[0m\u001b[1;33m.\u001b[0m\u001b[0mastype\u001b[0m\u001b[1;33m(\u001b[0m\u001b[0mint\u001b[0m\u001b[1;33m)\u001b[0m\u001b[1;33m\u001b[0m\u001b[0m\n\u001b[0m",
      "\u001b[1;31mAttributeError\u001b[0m: 'list' object has no attribute 'astype'"
     ]
    }
   ],
   "source": [
    "b.astype(int)"
   ]
  },
  {
   "cell_type": "code",
   "execution_count": 6,
   "metadata": {
    "collapsed": false
   },
   "outputs": [
    {
     "ename": "TypeError",
     "evalue": "int() argument must be a string, a bytes-like object or a number, not 'list'",
     "output_type": "error",
     "traceback": [
      "\u001b[1;31m---------------------------------------------------------------------------\u001b[0m",
      "\u001b[1;31mTypeError\u001b[0m                                 Traceback (most recent call last)",
      "\u001b[1;32m<ipython-input-6-ea313f36a39c>\u001b[0m in \u001b[0;36m<module>\u001b[1;34m()\u001b[0m\n\u001b[1;32m----> 1\u001b[1;33m \u001b[0mint\u001b[0m\u001b[1;33m(\u001b[0m\u001b[0mb\u001b[0m\u001b[1;33m)\u001b[0m\u001b[1;33m\u001b[0m\u001b[0m\n\u001b[0m",
      "\u001b[1;31mTypeError\u001b[0m: int() argument must be a string, a bytes-like object or a number, not 'list'"
     ]
    }
   ],
   "source": [
    "int(b)"
   ]
  },
  {
   "cell_type": "code",
   "execution_count": 7,
   "metadata": {
    "collapsed": false
   },
   "outputs": [
    {
     "data": {
      "text/plain": [
       "[1, 2, 3, 4]"
      ]
     },
     "execution_count": 7,
     "metadata": {},
     "output_type": "execute_result"
    }
   ],
   "source": [
    "a"
   ]
  },
  {
   "cell_type": "code",
   "execution_count": 8,
   "metadata": {
    "collapsed": true
   },
   "outputs": [],
   "source": [
    "a=1"
   ]
  },
  {
   "cell_type": "code",
   "execution_count": 9,
   "metadata": {
    "collapsed": false
   },
   "outputs": [
    {
     "data": {
      "text/plain": [
       "1"
      ]
     },
     "execution_count": 9,
     "metadata": {},
     "output_type": "execute_result"
    }
   ],
   "source": [
    "a"
   ]
  },
  {
   "cell_type": "code",
   "execution_count": 2,
   "metadata": {
    "collapsed": true
   },
   "outputs": [],
   "source": [
    "a=int(1)"
   ]
  },
  {
   "cell_type": "code",
   "execution_count": 5,
   "metadata": {
    "collapsed": false
   },
   "outputs": [
    {
     "data": {
      "text/plain": [
       "0"
      ]
     },
     "execution_count": 5,
     "metadata": {},
     "output_type": "execute_result"
    }
   ],
   "source": [
    "1//2"
   ]
  },
  {
   "cell_type": "code",
   "execution_count": 4,
   "metadata": {
    "collapsed": false
   },
   "outputs": [
    {
     "data": {
      "text/plain": [
       "4.0"
      ]
     },
     "execution_count": 4,
     "metadata": {},
     "output_type": "execute_result"
    }
   ],
   "source": [
    "2/0.5"
   ]
  },
  {
   "cell_type": "code",
   "execution_count": 5,
   "metadata": {
    "collapsed": false
   },
   "outputs": [
    {
     "data": {
      "text/plain": [
       "4.0"
      ]
     },
     "execution_count": 5,
     "metadata": {},
     "output_type": "execute_result"
    }
   ],
   "source": [
    "2//0.5"
   ]
  },
  {
   "cell_type": "code",
   "execution_count": 7,
   "metadata": {
    "collapsed": false
   },
   "outputs": [
    {
     "name": "stdout",
     "output_type": "stream",
     "text": [
      "1 2\n",
      "----------\n",
      "2 2\n",
      "----------\n",
      "3 3\n",
      "----------\n"
     ]
    }
   ],
   "source": [
    "nums=[2,2,3]\n",
    "for index, num in enumerate(nums, 1):\n",
    "    print (index,num)\n",
    "    print ('-'*10)"
   ]
  },
  {
   "cell_type": "code",
   "execution_count": 12,
   "metadata": {
    "collapsed": true
   },
   "outputs": [],
   "source": [
    "class Solution(object):\n",
    "    def search(self, nums, target):\n",
    "        \"\"\"\n",
    "        :type nums: List[int]\n",
    "        :type target: int\n",
    "        :rtype: bool\n",
    "        \"\"\"\n",
    "        if not nums:\n",
    "            return False\n",
    "        else:\n",
    "            i=0\n",
    "            n=len(nums)\n",
    "            j=n-1\n",
    "            while i<j:\n",
    "                mid=(i+j+1)//2\n",
    "                if nums[mid]>nums[j]:\n",
    "                    if nums[mid]>target>=nums[j]:\n",
    "                        i=mid\n",
    "                    else:\n",
    "                        j=mid\n",
    "                else:\n",
    "                    if nums[mid]<=target<nums[j]:\n",
    "                        i=mid\n",
    "                    else:\n",
    "                        j=mid\n",
    "            if nums[j]==target:\n",
    "                return True\n",
    "            else:\n",
    "                return False\n",
    "            "
   ]
  },
  {
   "cell_type": "code",
   "execution_count": 14,
   "metadata": {
    "collapsed": true
   },
   "outputs": [],
   "source": [
    "a=Solution()\n",
    "nums=[1,1]\n",
    "target=0"
   ]
  },
  {
   "cell_type": "code",
   "execution_count": 8,
   "metadata": {
    "collapsed": false
   },
   "outputs": [
    {
     "data": {
      "text/plain": [
       "True"
      ]
     },
     "execution_count": 8,
     "metadata": {},
     "output_type": "execute_result"
    }
   ],
   "source": [
    "a.search(nums,target)"
   ]
  },
  {
   "cell_type": "code",
   "execution_count": 15,
   "metadata": {
    "collapsed": false
   },
   "outputs": [
    {
     "name": "stdout",
     "output_type": "stream",
     "text": [
      "1\n"
     ]
    }
   ],
   "source": [
    "t=1\n",
    "print ('%d'%t)"
   ]
  },
  {
   "cell_type": "code",
   "execution_count": 34,
   "metadata": {
    "collapsed": false
   },
   "outputs": [],
   "source": [
    "class Solution(object):\n",
    "    def maxProduct(self, nums):\n",
    "        \"\"\"\n",
    "        :type nums: List[int]\n",
    "        :rtype: int\n",
    "        \"\"\"\n",
    "        product=1\n",
    "        a=1\n",
    "        transform=0\n",
    "        for num in nums:\n",
    "            a*=num\n",
    "            print (a)\n",
    "            if a>=1:\n",
    "                product*=a\n",
    "                a=1\n",
    "                transform=1\n",
    "        print (transform)\n",
    "        if (transform==0)&(product==1):\n",
    "            return max(nums)\n",
    "        else:\n",
    "            return product"
   ]
  },
  {
   "cell_type": "code",
   "execution_count": 35,
   "metadata": {
    "collapsed": false
   },
   "outputs": [
    {
     "name": "stdout",
     "output_type": "stream",
     "text": [
      "-1\n",
      "1\n",
      "1\n"
     ]
    },
    {
     "data": {
      "text/plain": [
       "1"
      ]
     },
     "execution_count": 35,
     "metadata": {},
     "output_type": "execute_result"
    }
   ],
   "source": [
    "a=Solution()\n",
    "nums=[-1,-1]\n",
    "a.maxProduct(nums)"
   ]
  },
  {
   "cell_type": "code",
   "execution_count": 12,
   "metadata": {
    "collapsed": true
   },
   "outputs": [],
   "source": [
    "class Solution(object):\n",
    "    def checkSubarraySum(self, nums, k):\n",
    "        \"\"\"\n",
    "        :type nums: List[int]\n",
    "        :type k: int\n",
    "        :rtype: bool\n",
    "        \"\"\"\n",
    "        i=0;\n",
    "        j=0;\n",
    "        L=len(nums)\n",
    "        if L==0:\n",
    "            return False\n",
    "        while j<=L:\n",
    "            while i<=j:\n",
    "                a=sum(nums[i:j+1])\n",
    "                if k==0:\n",
    "                    if a>0:\n",
    "                        return False\n",
    "                    else:\n",
    "                        return True\n",
    "                else:\n",
    "                    if a%k==0:\n",
    "                        return True,i,j\n",
    "                i+=1;\n",
    "            j+=1;\n",
    "        return False"
   ]
  },
  {
   "cell_type": "code",
   "execution_count": 13,
   "metadata": {
    "collapsed": false
   },
   "outputs": [
    {
     "name": "stdout",
     "output_type": "stream",
     "text": [
      "(True, 2, 2)\n"
     ]
    }
   ],
   "source": [
    "m=Solution()\n",
    "nums=[23,2,6,4,7]\n",
    "k=6\n",
    "\n",
    "result=m.checkSubarraySum(nums,k)\n",
    "print (result)"
   ]
  },
  {
   "cell_type": "code",
   "execution_count": 14,
   "metadata": {
    "collapsed": false
   },
   "outputs": [
    {
     "name": "stdout",
     "output_type": "stream",
     "text": [
      "[20, 43, 7, 72, 71, 55, 30, 78, 24, 90, 71, 12, 18, 29, 88, 12, 4]\n",
      "9\n",
      "(True, 3, 3)\n"
     ]
    }
   ],
   "source": [
    "import numpy as np\n",
    "nums=[np.random.randint(0,100) for i in range(np.random.randint(0,20))]\n",
    "print (nums)\n",
    "k=np.random.randint(0,20)\n",
    "print (k)\n",
    "\n",
    "result=m.checkSubarraySum(nums,k)\n",
    "print (result)"
   ]
  },
  {
   "cell_type": "code",
   "execution_count": 9,
   "metadata": {
    "collapsed": false
   },
   "outputs": [
    {
     "name": "stdout",
     "output_type": "stream",
     "text": [
      "[0, 5, 1, 5, 5, 0]\n"
     ]
    }
   ],
   "source": [
    "nums=[23,2,4,6,7]\n",
    "k=6\n",
    "sum=[0]\n",
    "for x in nums:\n",
    "    sum.append((sum[-1] + x) % k)\n",
    "print (sum)"
   ]
  },
  {
   "cell_type": "code",
   "execution_count": 12,
   "metadata": {
    "collapsed": false
   },
   "outputs": [
    {
     "name": "stdout",
     "output_type": "stream",
     "text": [
      "5\n",
      "5\n",
      "0\n"
     ]
    }
   ],
   "source": [
    "Dict = {}\n",
    "for i in range(0, len(sum)):\n",
    "    if sum[i] in Dict:\n",
    "        print (sum[i])\n",
    "        if i - Dict[sum[i]] > 1:\n",
    "            c=1\n",
    "    else:\n",
    "        Dict[sum[i]] = i"
   ]
  },
  {
   "cell_type": "code",
   "execution_count": 11,
   "metadata": {
    "collapsed": false
   },
   "outputs": [
    {
     "name": "stdout",
     "output_type": "stream",
     "text": [
      "{0: 0, 1: 2, 5: 1}\n"
     ]
    }
   ],
   "source": [
    "print (Dict)"
   ]
  },
  {
   "cell_type": "code",
   "execution_count": 1,
   "metadata": {
    "collapsed": false
   },
   "outputs": [
    {
     "data": {
      "text/plain": [
       "[1, 2, 3]"
      ]
     },
     "execution_count": 1,
     "metadata": {},
     "output_type": "execute_result"
    }
   ],
   "source": [
    "sorted([2,1,3])"
   ]
  },
  {
   "cell_type": "code",
   "execution_count": 2,
   "metadata": {
    "collapsed": false
   },
   "outputs": [
    {
     "data": {
      "text/plain": [
       "False"
      ]
     },
     "execution_count": 2,
     "metadata": {},
     "output_type": "execute_result"
    }
   ],
   "source": [
    "2%2!=0"
   ]
  },
  {
   "cell_type": "code",
   "execution_count": 16,
   "metadata": {
    "collapsed": false
   },
   "outputs": [],
   "source": [
    "class Solution(object):\n",
    "    def arrayPairSum(self, nums):\n",
    "        \"\"\"\n",
    "        :type nums: List[int]\n",
    "        :rtype: int\n",
    "        \"\"\"\n",
    "        l=len(nums)\n",
    "        if l==0 or l%2!=0:\n",
    "            return 0\n",
    "        else:\n",
    "            sort_nums=sorted(nums)\n",
    "            print (l)\n",
    "            return sum([sort_nums[i] for i in range(l) if i%2==0])\n"
   ]
  },
  {
   "cell_type": "code",
   "execution_count": 17,
   "metadata": {
    "collapsed": false
   },
   "outputs": [
    {
     "name": "stdout",
     "output_type": "stream",
     "text": [
      "4\n"
     ]
    },
    {
     "data": {
      "text/plain": [
       "4"
      ]
     },
     "execution_count": 17,
     "metadata": {},
     "output_type": "execute_result"
    }
   ],
   "source": [
    "m=Solution()\n",
    "nums=[1,4,2,3]\n",
    "m.arrayPairSum(nums)"
   ]
  },
  {
   "cell_type": "code",
   "execution_count": 15,
   "metadata": {
    "collapsed": false,
    "scrolled": true
   },
   "outputs": [
    {
     "name": "stdout",
     "output_type": "stream",
     "text": [
      "[0, 2]\n"
     ]
    }
   ],
   "source": [
    "a=[i for i in range(3) if i!=1]\n",
    "print(a)"
   ]
  },
  {
   "cell_type": "code",
   "execution_count": 18,
   "metadata": {
    "collapsed": true
   },
   "outputs": [],
   "source": [
    "a=[1,2,3,4,5,6]"
   ]
  },
  {
   "cell_type": "code",
   "execution_count": 19,
   "metadata": {
    "collapsed": false
   },
   "outputs": [
    {
     "data": {
      "text/plain": [
       "[1, 4]"
      ]
     },
     "execution_count": 19,
     "metadata": {},
     "output_type": "execute_result"
    }
   ],
   "source": [
    "a[::3]"
   ]
  },
  {
   "cell_type": "code",
   "execution_count": 20,
   "metadata": {
    "collapsed": false
   },
   "outputs": [
    {
     "data": {
      "text/plain": [
       "[2, 4]"
      ]
     },
     "execution_count": 20,
     "metadata": {},
     "output_type": "execute_result"
    }
   ],
   "source": [
    "a[1:5:2]"
   ]
  },
  {
   "cell_type": "code",
   "execution_count": 21,
   "metadata": {
    "collapsed": false
   },
   "outputs": [
    {
     "data": {
      "text/plain": [
       "[1, 3, 5]"
      ]
     },
     "execution_count": 21,
     "metadata": {},
     "output_type": "execute_result"
    }
   ],
   "source": [
    "a[0:5:2]"
   ]
  },
  {
   "cell_type": "code",
   "execution_count": 1,
   "metadata": {
    "collapsed": true
   },
   "outputs": [],
   "source": [
    "import numpy as np\n",
    "class Solution(object):\n",
    "    def matrixReshape(self, nums, r, c):\n",
    "        \"\"\"\n",
    "        :type nums: List[List[int]]\n",
    "        :type r: int\n",
    "        :type c: int\n",
    "        :rtype: List[List[int]]\n",
    "        \"\"\"\n",
    "        a=len(nums)\n",
    "        b=len(nums[0])\n",
    "        if r*c!=a*b:\n",
    "            return nums\n",
    "        else:\n",
    "            tran_nums=np.array(nums).flatten()\n",
    "            trans_nums=tran_nums.reshape(r,c)\n",
    "            return [list(trans_nums[i]) for i in range(r)]"
   ]
  },
  {
   "cell_type": "code",
   "execution_count": 2,
   "metadata": {
    "collapsed": false
   },
   "outputs": [
    {
     "data": {
      "text/plain": [
       "[[1, 2, 3, 4]]"
      ]
     },
     "execution_count": 2,
     "metadata": {},
     "output_type": "execute_result"
    }
   ],
   "source": [
    "m=Solution()\n",
    "nums=[[1,2],[3,4]]\n",
    "m.matrixReshape(nums,1,4)"
   ]
  },
  {
   "cell_type": "code",
   "execution_count": 7,
   "metadata": {
    "collapsed": false
   },
   "outputs": [
    {
     "name": "stdout",
     "output_type": "stream",
     "text": [
      "[1, 2, 3, 4, 2, 3, 4]\n"
     ]
    }
   ],
   "source": [
    "nums=[[1,2,3,4],[2,3,4]]\n",
    "m=sum(nums,[]) #代表着列表相加\n",
    "print (m)"
   ]
  },
  {
   "cell_type": "code",
   "execution_count": 13,
   "metadata": {
    "collapsed": false
   },
   "outputs": [
    {
     "name": "stdout",
     "output_type": "stream",
     "text": [
      "<list_iterator object at 0x000001AAF55F4160>\n"
     ]
    }
   ],
   "source": [
    "n=iter(m)#iter迭代器\n",
    "print (n)"
   ]
  },
  {
   "cell_type": "code",
   "execution_count": 14,
   "metadata": {
    "collapsed": false
   },
   "outputs": [
    {
     "name": "stdout",
     "output_type": "stream",
     "text": [
      "2\n",
      "3\n",
      "4\n",
      "2\n",
      "3\n",
      "4\n"
     ]
    }
   ],
   "source": [
    "n1=n\n",
    "next(n1) #迭代器内容有两种调用方式 访问下一个元素,next 和for 循环\n",
    "for i in n1:\n",
    "    print (i)"
   ]
  },
  {
   "cell_type": "code",
   "execution_count": 15,
   "metadata": {
    "collapsed": false
   },
   "outputs": [
    {
     "name": "stdout",
     "output_type": "stream",
     "text": [
      "[<list_iterator object at 0x000001AAF55F4160>, <list_iterator object at 0x000001AAF55F4160>]\n"
     ]
    }
   ],
   "source": [
    "n2=[n]*2\n",
    "print (n2)"
   ]
  },
  {
   "cell_type": "code",
   "execution_count": 16,
   "metadata": {
    "collapsed": false
   },
   "outputs": [
    {
     "name": "stdout",
     "output_type": "stream",
     "text": [
      "<zip object at 0x000001AAF55F7388>\n"
     ]
    }
   ],
   "source": [
    "n3=zip(*n2)\n",
    "print (n3)"
   ]
  },
  {
   "cell_type": "code",
   "execution_count": 20,
   "metadata": {
    "collapsed": false,
    "scrolled": true
   },
   "outputs": [
    {
     "name": "stdout",
     "output_type": "stream",
     "text": [
      "<map object at 0x000001AAF55FE4A8>\n"
     ]
    }
   ],
   "source": [
    "n4=map (list,n3)\n",
    "print (n4)"
   ]
  },
  {
   "cell_type": "markdown",
   "metadata": {},
   "source": [
    "zip()是Python的一个内建函数，它接受一系列可迭代的对象作为参数，将对象中对应的元素打包成一个个tuple（元组），然后返回由这些tuples组成的list（列表）。若传入参数的长度不等，则返回list的长度和参数中长度最短的对象相同。利用*号操作符，可以将list unzip（解压）"
   ]
  },
  {
   "cell_type": "code",
   "execution_count": 28,
   "metadata": {
    "collapsed": false
   },
   "outputs": [
    {
     "name": "stdout",
     "output_type": "stream",
     "text": [
      "(1, 'a')\n",
      "(2, 'b')\n"
     ]
    }
   ],
   "source": [
    "x=[1,2]\n",
    "y=['a','b','c']\n",
    "zip(x,y)\n",
    "for i in zip(x,y):\n",
    "    print (i)"
   ]
  },
  {
   "cell_type": "code",
   "execution_count": 29,
   "metadata": {
    "collapsed": false
   },
   "outputs": [
    {
     "name": "stdout",
     "output_type": "stream",
     "text": [
      "(1, 2)\n",
      "('a', 'b')\n"
     ]
    }
   ],
   "source": [
    "for i in zip(*zip(x,y)):\n",
    "    print (i)"
   ]
  },
  {
   "cell_type": "code",
   "execution_count": 9,
   "metadata": {
    "collapsed": false
   },
   "outputs": [
    {
     "name": "stdout",
     "output_type": "stream",
     "text": [
      "<zip object at 0x000001AAF55D9788>\n"
     ]
    }
   ],
   "source": [
    "mn=zip(n)\n",
    "print(mn)"
   ]
  },
  {
   "cell_type": "code",
   "execution_count": 24,
   "metadata": {
    "collapsed": false
   },
   "outputs": [],
   "source": [
    "def matrixReshape(nums, r, c):\n",
    "    flat = sum(nums, [])\n",
    "    if len(flat) != r * c:\n",
    "        return nums\n",
    "    tuples = zip(*([iter(flat)] * c))\n",
    "    return map(list, tuples)\n"
   ]
  },
  {
   "cell_type": "code",
   "execution_count": 40,
   "metadata": {
    "collapsed": false
   },
   "outputs": [
    {
     "name": "stdout",
     "output_type": "stream",
     "text": [
      "[1, 2, 3, 3, 4, 5]\n"
     ]
    }
   ],
   "source": [
    "nums=[[1,2,3],[3,4,5]]\n",
    "flat=sum(nums,[])\n",
    "print (flat)"
   ]
  },
  {
   "cell_type": "code",
   "execution_count": 41,
   "metadata": {
    "collapsed": false
   },
   "outputs": [
    {
     "name": "stdout",
     "output_type": "stream",
     "text": [
      "<zip object at 0x000001AAF55F8C88>\n"
     ]
    }
   ],
   "source": [
    "tuples = zip(*([iter(flat)] * 3))  #u=[iter(flat)] * 3 再利用zip取list_iter列表数据时，每取c个作为一个tuble,而且是 每取一个iter就往后迭代一下\n",
    "print (tuples)"
   ]
  },
  {
   "cell_type": "code",
   "execution_count": 42,
   "metadata": {
    "collapsed": false
   },
   "outputs": [
    {
     "name": "stdout",
     "output_type": "stream",
     "text": [
      "(1, 2, 3)\n",
      "(3, 4, 5)\n"
     ]
    }
   ],
   "source": [
    "for i in tuples:\n",
    "    print (i)"
   ]
  },
  {
   "cell_type": "code",
   "execution_count": 43,
   "metadata": {
    "collapsed": false
   },
   "outputs": [
    {
     "name": "stdout",
     "output_type": "stream",
     "text": [
      "[<list_iterator object at 0x000001AAF5616668>, <list_iterator object at 0x000001AAF5616668>, <list_iterator object at 0x000001AAF5616668>]\n"
     ]
    }
   ],
   "source": [
    "u=[iter(flat)] * 3\n",
    "print (u)"
   ]
  },
  {
   "cell_type": "code",
   "execution_count": 52,
   "metadata": {
    "collapsed": false
   },
   "outputs": [],
   "source": [
    "for j in u[2]:\n",
    "    print (j)"
   ]
  },
  {
   "cell_type": "code",
   "execution_count": 46,
   "metadata": {
    "collapsed": false
   },
   "outputs": [
    {
     "name": "stdout",
     "output_type": "stream",
     "text": [
      "<zip object at 0x000001AAF55C1248>\n"
     ]
    }
   ],
   "source": [
    "tuples1=zip(*u)\n",
    "print (tuples1)\n",
    "for i in tuples1:\n",
    "    print (i)"
   ]
  },
  {
   "cell_type": "code",
   "execution_count": 50,
   "metadata": {
    "collapsed": false
   },
   "outputs": [
    {
     "name": "stdout",
     "output_type": "stream",
     "text": [
      "(1, 1)\n",
      "(2, 2)\n",
      "(3, 3)\n"
     ]
    }
   ],
   "source": [
    "ab=zip(*[[1,2,3],[1,2,3]])\n",
    "for i in ab:\n",
    "    print (i)"
   ]
  },
  {
   "cell_type": "code",
   "execution_count": 65,
   "metadata": {
    "collapsed": true
   },
   "outputs": [],
   "source": [
    "def matrixReshape(nums, r, c):\n",
    "    if r * c != len(nums) * len(nums[0]):\n",
    "        return nums\n",
    "    it = itertools.chain(*nums)\n",
    "    return [list(itertools.islice(it, c)) for _ in range(r)]"
   ]
  },
  {
   "cell_type": "code",
   "execution_count": 66,
   "metadata": {
    "collapsed": false
   },
   "outputs": [
    {
     "name": "stdout",
     "output_type": "stream",
     "text": [
      "<itertools.chain object at 0x000001AAF56200F0>\n",
      "1\n",
      "2\n",
      "3\n",
      "3\n",
      "4\n",
      "5\n"
     ]
    }
   ],
   "source": [
    "import itertools\n",
    "nums=[[1,2,3],[3,4,5]]\n",
    "it=itertools.chain(*nums)\n",
    "print (it)\n",
    "for i in it:\n",
    "    print(i)"
   ]
  },
  {
   "cell_type": "code",
   "execution_count": 74,
   "metadata": {
    "collapsed": false
   },
   "outputs": [
    {
     "name": "stdout",
     "output_type": "stream",
     "text": [
      "[1, 2, 3]\n"
     ]
    }
   ],
   "source": [
    "print (list(itertools.islice(it,3)))"
   ]
  },
  {
   "cell_type": "code",
   "execution_count": 68,
   "metadata": {
    "collapsed": false
   },
   "outputs": [
    {
     "data": {
      "text/plain": [
       "[[1, 2], [3, 3], [4, 5]]"
      ]
     },
     "execution_count": 68,
     "metadata": {},
     "output_type": "execute_result"
    }
   ],
   "source": [
    "matrixReshape(nums,3,2)"
   ]
  },
  {
   "cell_type": "code",
   "execution_count": 71,
   "metadata": {
    "collapsed": false
   },
   "outputs": [
    {
     "name": "stdout",
     "output_type": "stream",
     "text": [
      "[]\n"
     ]
    }
   ],
   "source": [
    "u=list(itertools.islice(it, 2))\n",
    "print (u)"
   ]
  },
  {
   "cell_type": "code",
   "execution_count": 75,
   "metadata": {
    "collapsed": false
   },
   "outputs": [
    {
     "name": "stdout",
     "output_type": "stream",
     "text": [
      "{1: 3, 2: 4, 3: 5}\n"
     ]
    }
   ],
   "source": [
    "nums=[[1,2,3],[3,4,5]]\n",
    "a=dict(zip(*nums))\n",
    "print (a)"
   ]
  },
  {
   "cell_type": "code",
   "execution_count": 76,
   "metadata": {
    "collapsed": true
   },
   "outputs": [],
   "source": [
    "def nextGreaterElement(findNums, nums):\n",
    "    d = {}\n",
    "    st = []\n",
    "    ans = []\n",
    "\n",
    "    for x in nums:    #找出所有元素右侧比它大的第一个元素，组成字典\n",
    "        while len(st) and st[-1] < x:\n",
    "            d[st.pop()] = x\n",
    "        st.append(x)\n",
    "\n",
    "    for x in findNums:\n",
    "        ans.append(d.get(x, -1))\n",
    "\n",
    "    return ans"
   ]
  },
  {
   "cell_type": "code",
   "execution_count": 77,
   "metadata": {
    "collapsed": false
   },
   "outputs": [
    {
     "name": "stdout",
     "output_type": "stream",
     "text": [
      "[-1, 3, -1]\n"
     ]
    }
   ],
   "source": [
    "findNums=[4,1,2]\n",
    "nums=[1,3,4,2]\n",
    "ans=nextGreaterElement(findNums,nums)\n",
    "print (ans)"
   ]
  },
  {
   "cell_type": "code",
   "execution_count": 78,
   "metadata": {
    "collapsed": false
   },
   "outputs": [
    {
     "data": {
      "text/plain": [
       "3"
      ]
     },
     "execution_count": 78,
     "metadata": {},
     "output_type": "execute_result"
    }
   ],
   "source": [
    "st=[1,2,3]\n",
    "st.pop()"
   ]
  },
  {
   "cell_type": "code",
   "execution_count": 79,
   "metadata": {
    "collapsed": false
   },
   "outputs": [
    {
     "data": {
      "text/plain": [
       "[1, 2]"
      ]
     },
     "execution_count": 79,
     "metadata": {},
     "output_type": "execute_result"
    }
   ],
   "source": [
    "st"
   ]
  },
  {
   "cell_type": "code",
   "execution_count": 92,
   "metadata": {
    "collapsed": false
   },
   "outputs": [
    {
     "data": {
      "text/plain": [
       "3"
      ]
     },
     "execution_count": 92,
     "metadata": {},
     "output_type": "execute_result"
    }
   ],
   "source": [
    "def findMaxConsecutiveOnes(nums):\n",
    "\n",
    "    num_str = ''.join(map(str,nums))\n",
    "    num_list = num_str.split('0')\n",
    "    \n",
    "    return len(max(num_list))\n",
    "\n",
    "nums=[1,1,0,1,1,1]\n",
    "findMaxConsecutiveOnes(nums)"
   ]
  },
  {
   "cell_type": "code",
   "execution_count": 93,
   "metadata": {
    "collapsed": false
   },
   "outputs": [
    {
     "name": "stdout",
     "output_type": "stream",
     "text": [
      "110111\n"
     ]
    }
   ],
   "source": [
    "num_str = ''.join(map(str,nums))\n",
    "print (num_str)"
   ]
  },
  {
   "cell_type": "code",
   "execution_count": 82,
   "metadata": {
    "collapsed": false
   },
   "outputs": [
    {
     "data": {
      "text/plain": [
       "'[1, 1, 0, 1, 1, 1]'"
      ]
     },
     "execution_count": 82,
     "metadata": {},
     "output_type": "execute_result"
    }
   ],
   "source": [
    "str(nums)"
   ]
  },
  {
   "cell_type": "code",
   "execution_count": 83,
   "metadata": {
    "collapsed": false
   },
   "outputs": [
    {
     "data": {
      "text/plain": [
       "6"
      ]
     },
     "execution_count": 83,
     "metadata": {},
     "output_type": "execute_result"
    }
   ],
   "source": [
    "len(num_str)"
   ]
  },
  {
   "cell_type": "code",
   "execution_count": 88,
   "metadata": {
    "collapsed": false
   },
   "outputs": [
    {
     "name": "stdout",
     "output_type": "stream",
     "text": [
      "Counter({1: 5, 0: 1})\n"
     ]
    }
   ],
   "source": [
    "from collections import Counter\n",
    "u=Counter(nums)\n",
    "print (u)"
   ]
  },
  {
   "cell_type": "code",
   "execution_count": 91,
   "metadata": {
    "collapsed": false
   },
   "outputs": [
    {
     "name": "stdout",
     "output_type": "stream",
     "text": [
      "1\n",
      "5\n"
     ]
    }
   ],
   "source": [
    "for en in u:\n",
    "    print (u[en])"
   ]
  },
  {
   "cell_type": "markdown",
   "metadata": {},
   "source": [
    "#### 找出列表中唯一单个的元素"
   ]
  },
  {
   "cell_type": "code",
   "execution_count": null,
   "metadata": {
    "collapsed": true
   },
   "outputs": [],
   "source": [
    "from collections import Counter\n",
    "class Solution(object):\n",
    "    def singleNumber(self, nums):\n",
    "        \"\"\"\n",
    "        :type nums: List[int]\n",
    "        :rtype: int\n",
    "        \"\"\"\n",
    "        a={}\n",
    "        u=Counter(nums)\n",
    "        for num in u:\n",
    "            a[u[num]]=num\n",
    "        return a[1]"
   ]
  },
  {
   "cell_type": "code",
   "execution_count": null,
   "metadata": {
    "collapsed": true
   },
   "outputs": [],
   "source": [
    "def singleNumber1(self, nums):\n",
    "    dic = {}\n",
    "    for num in nums:\n",
    "        dic[num] = dic.get(num, 0)+1\n",
    "    for key, val in dic.items():\n",
    "        if val == 1:\n",
    "            return key\n",
    "\n",
    "def singleNumber2(self, nums):\n",
    "    res = 0\n",
    "    for num in nums:\n",
    "        res ^= num   #两个相同的元素异或会互相 抵消，最后只剩下单个的元素\n",
    "    return res\n",
    "    \n",
    "def singleNumber3(self, nums):\n",
    "    return 2*sum(set(nums))-sum(nums)\n",
    "    \n",
    "def singleNumber4(self, nums):\n",
    "    return reduce(lambda x, y: x ^ y, nums)\n",
    "    \n",
    "def singleNumber(self, nums):\n",
    "    return reduce(operator.xor, nums)"
   ]
  },
  {
   "cell_type": "code",
   "execution_count": 95,
   "metadata": {
    "collapsed": false
   },
   "outputs": [
    {
     "data": {
      "text/plain": [
       "4"
      ]
     },
     "execution_count": 95,
     "metadata": {},
     "output_type": "execute_result"
    }
   ],
   "source": [
    "2^6 #按位异或"
   ]
  },
  {
   "cell_type": "code",
   "execution_count": 100,
   "metadata": {
    "collapsed": false
   },
   "outputs": [
    {
     "name": "stdout",
     "output_type": "stream",
     "text": [
      "[1, 2, 3, 2, 3]\n"
     ]
    }
   ],
   "source": [
    "u=[1,2,3]\n",
    "a=u+[2,3]\n",
    "print (a)"
   ]
  },
  {
   "cell_type": "code",
   "execution_count": 103,
   "metadata": {
    "collapsed": false
   },
   "outputs": [
    {
     "name": "stdout",
     "output_type": "stream",
     "text": [
      "[1, 2, 3, 2, [1, 2], 1, 2]\n"
     ]
    }
   ],
   "source": [
    "u.extend([1,2])\n",
    "print (u)"
   ]
  },
  {
   "cell_type": "markdown",
   "metadata": {},
   "source": [
    "sorted(data, cmp=None, key=None, reverse=False)  \n",
    "\n",
    "其中，data是待排序数据，可以使List或者iterator, cmp和key都是函数，这两个函数作用与data的元素上产生一个结果，sorted方法根据这个结果来排序。 \n",
    "\n",
    "cmp(e1, e2) 是带两个参数的比较函数, 返回值: 负数: e1 < e2, 0: e1 == e2, 正数: e1 > e2. 默认为 None, 即用内建的比较函数. \n",
    "key 是带一个参数的函数, 用来为每个元素提取比较值. 默认为 None, 即直接比较每个元素. \n",
    "通常, key 和 reverse 比 cmp 快很多, 因为对每个元素它们只处理一次; 而 cmp 会处理多次. \n"
   ]
  },
  {
   "cell_type": "code",
   "execution_count": null,
   "metadata": {
    "collapsed": true
   },
   "outputs": [],
   "source": [
    "class Solution(object):\n",
    "    def moveZeroes(self, nums):\n",
    "        \"\"\"\n",
    "        :type nums: List[int]\n",
    "        :rtype: void Do not return anything, modify nums in-place instead.\n",
    "        \"\"\"\n",
    "        last0 = 0\n",
    "        for i in range(0,len(nums)):\n",
    "            if (nums[i]!=0):\n",
    "                nums[i],nums[last0] = nums[last0],nums[i]\n",
    "                last0+=1\n",
    "                \n",
    "class Solution(object):\n",
    "    def moveZeroes(self, nums):\n",
    "        \"\"\"\n",
    "        :type nums: List[int]\n",
    "        :rtype: void Do not return anything, modify nums in-place instead.\n",
    "        \"\"\"\n",
    "        nums.sort(cmp=lambda a,b: 0 if b else -1)\n",
    "        \n",
    "                \n",
    "for n in range(len(nums)-1,-1,-1):\n",
    "\n",
    "            if(nums[n] == 0):\n",
    "\n",
    "                nums.append(nums.pop(n))\n",
    "                \n",
    "def moveZeroes(self, nums):\n",
    "        \"\"\"\n",
    "        :type nums: List[int]\n",
    "        :rtype: void Do not return anything, modify nums in-place instead.\n",
    "        \"\"\"\n",
    "        for i in range(0,nums.count(0)):\n",
    "            nums.remove(0)   #remove 按顺序移除obj\n",
    "            nums.append(0)"
   ]
  },
  {
   "cell_type": "code",
   "execution_count": 106,
   "metadata": {
    "collapsed": false
   },
   "outputs": [
    {
     "name": "stdout",
     "output_type": "stream",
     "text": [
      "5\n",
      "3\n",
      "1\n"
     ]
    }
   ],
   "source": [
    "for i in range(5,-1,-2):\n",
    "    print (i)"
   ]
  },
  {
   "cell_type": "code",
   "execution_count": 107,
   "metadata": {
    "collapsed": false
   },
   "outputs": [
    {
     "data": {
      "text/plain": [
       "array([2, 2, 1, 2, 2, 1, 1, 1, 1])"
      ]
     },
     "execution_count": 107,
     "metadata": {},
     "output_type": "execute_result"
    }
   ],
   "source": [
    "import numpy as np\n",
    "a=np.array([[2, 2, 1],[2, 2, 1],[1, 1, 1]])\n",
    "a.flatten()"
   ]
  },
  {
   "cell_type": "code",
   "execution_count": 111,
   "metadata": {
    "collapsed": false
   },
   "outputs": [
    {
     "data": {
      "text/plain": [
       "4"
      ]
     },
     "execution_count": 111,
     "metadata": {},
     "output_type": "execute_result"
    }
   ],
   "source": [
    "sum(a.tolist(),[]).count(2)"
   ]
  },
  {
   "cell_type": "code",
   "execution_count": 118,
   "metadata": {
    "collapsed": true
   },
   "outputs": [],
   "source": [
    "class Solution(object):\n",
    "    def maxCount(self, m, n, ops):\n",
    "        \"\"\"\n",
    "        :type m: int\n",
    "        :type n: int\n",
    "        :type ops: List[List[int]]\n",
    "        :rtype: int\n",
    "        \"\"\"\n",
    "        if not ops:\n",
    "            return m*n\n",
    "        else:\n",
    "            a=[op[0] for op in ops]\n",
    "            b=[op[1] for op in ops]\n",
    "            if sum(a)*sum(b)==0:\n",
    "                return m*n\n",
    "        return min(a)*min(b)"
   ]
  },
  {
   "cell_type": "code",
   "execution_count": 119,
   "metadata": {
    "collapsed": false
   },
   "outputs": [
    {
     "data": {
      "text/plain": [
       "9"
      ]
     },
     "execution_count": 119,
     "metadata": {},
     "output_type": "execute_result"
    }
   ],
   "source": [
    "m=Solution()\n",
    "ops=[[0,0],[0,0]]\n",
    "m.maxCount(3,3,ops)"
   ]
  },
  {
   "cell_type": "code",
   "execution_count": null,
   "metadata": {
    "collapsed": true
   },
   "outputs": [],
   "source": [
    "def maxCount(self, R, C, ops):\n",
    "    if not ops: return R * C\n",
    "    X, Y = zip(*ops)\n",
    "    return min(X) * min(Y)"
   ]
  },
  {
   "cell_type": "code",
   "execution_count": 120,
   "metadata": {
    "collapsed": false
   },
   "outputs": [
    {
     "name": "stdout",
     "output_type": "stream",
     "text": [
      "1\n",
      "2\n",
      "3\n"
     ]
    }
   ],
   "source": [
    "for i in set([1,2,3,1]):\n",
    "    print (i)"
   ]
  },
  {
   "cell_type": "markdown",
   "metadata": {},
   "source": [
    "### 题目\n",
    "Given an array of size n, find the majority element. The majority element is the element that appears more than ⌊ n/2 ⌋ times.\n",
    "\n",
    "You may assume that the array is non-empty and the majority element always exist in the array.\n"
   ]
  },
  {
   "cell_type": "code",
   "execution_count": null,
   "metadata": {
    "collapsed": true
   },
   "outputs": [],
   "source": [
    "class Solution(object):\n",
    "    def majorityElement(self, nums):\n",
    "        \"\"\"\n",
    "        :type nums: List[int]\n",
    "        :rtype: int\n",
    "        \"\"\"\n",
    "        n=len(nums)\n",
    "        for num in set(nums):\n",
    "            if nums.count(num)>n/2:\n",
    "                return num\n",
    "            \n",
    "#上面函数与下面等价\n",
    "return sorted(num)[len(num)/2]\n",
    "\n",
    "# two pass + dictionary\n",
    "def majorityElement1(self, nums):\n",
    "    dic = {}\n",
    "    for num in nums:\n",
    "        dic[num] = dic.get(num, 0) + 1\n",
    "    for num in nums:\n",
    "        if dic[num] > len(nums)//2:\n",
    "            return num\n",
    "    \n",
    "# one pass + dictionary\n",
    "def majorityElement2(self, nums):\n",
    "    dic = {}\n",
    "    for num in nums:\n",
    "        if num not in dic:\n",
    "            dic[num] = 1\n",
    "        if dic[num] > len(nums)//2:\n",
    "            return num\n",
    "        else:\n",
    "            dic[num] += 1 \n",
    "\n",
    "# TLE\n",
    "def majorityElement3(self, nums):\n",
    "    for i in xrange(len(nums)):\n",
    "        count = 0\n",
    "        for j in xrange(len(nums)):\n",
    "            if nums[j] == nums[i]:\n",
    "                count += 1\n",
    "        if count > len(nums)//2:\n",
    "            return nums[i]\n",
    "            \n",
    "# Sotring            \n",
    "def majorityElement4(self, nums):\n",
    "    nums.sort()\n",
    "    return nums[len(nums)//2]\n",
    "    \n",
    "# Bit manipulation    \n",
    "def majorityElement5(self, nums):\n",
    "    bit = [0]*32\n",
    "    for num in nums:\n",
    "        for j in range(32):\n",
    "            bit[j] += num >> j & 1   #只保留最后一位\n",
    "    res = 0\n",
    "    for i, val in enumerate(bit):\n",
    "        if val > len(nums)//2:\n",
    "            # if the 31th bit if 1, \n",
    "            # it means it's a negative number \n",
    "            if i == 31:\n",
    "                res = -((1<<31)-res)\n",
    "            else:\n",
    "                res |= 1 << i\n",
    "    return res\n",
    "            \n",
    "# Divide and Conquer\n",
    "def majorityElement6(self, nums):\n",
    "    if not nums:\n",
    "        return None\n",
    "    if len(nums) == 1:\n",
    "        return nums[0]\n",
    "    a = self.majorityElement(nums[:len(nums)//2])\n",
    "    b = self.majorityElement(nums[len(nums)//2:])\n",
    "    if a == b:\n",
    "        return a\n",
    "    return [b, a][nums.count(a) > len(nums)//2]\n",
    "    \n",
    "# the idea here is if a pair of elements from the\n",
    "# list is not the same, then delete both, the last \n",
    "# remaining element is the majority number\n",
    "def majorityElement(self, nums):\n",
    "    count, cand = 0, 0\n",
    "    for num in nums:\n",
    "        if num == cand:\n",
    "            count += 1\n",
    "        elif count == 0:\n",
    "            cand, count = num, 1\n",
    "        else:\n",
    "            count -= 1\n",
    "    return cand\n"
   ]
  },
  {
   "cell_type": "code",
   "execution_count": 123,
   "metadata": {
    "collapsed": false
   },
   "outputs": [
    {
     "data": {
      "text/plain": [
       "2"
      ]
     },
     "execution_count": 123,
     "metadata": {},
     "output_type": "execute_result"
    }
   ],
   "source": [
    "5>>1"
   ]
  },
  {
   "cell_type": "code",
   "execution_count": 124,
   "metadata": {
    "collapsed": false
   },
   "outputs": [
    {
     "data": {
      "text/plain": [
       "0"
      ]
     },
     "execution_count": 124,
     "metadata": {},
     "output_type": "execute_result"
    }
   ],
   "source": [
    "(5>>1)&1"
   ]
  },
  {
   "cell_type": "code",
   "execution_count": 128,
   "metadata": {
    "collapsed": false
   },
   "outputs": [
    {
     "name": "stdout",
     "output_type": "stream",
     "text": [
      "[2, 3]\n"
     ]
    }
   ],
   "source": [
    "u=[1,2,3]\n",
    "u.remove(1)\n",
    "print (u)"
   ]
  },
  {
   "cell_type": "code",
   "execution_count": 130,
   "metadata": {
    "collapsed": false
   },
   "outputs": [
    {
     "data": {
      "text/plain": [
       "[1, 2, 3]"
      ]
     },
     "execution_count": 130,
     "metadata": {},
     "output_type": "execute_result"
    }
   ],
   "source": [
    "sorted([2,3,1])"
   ]
  },
  {
   "cell_type": "code",
   "execution_count": 132,
   "metadata": {
    "collapsed": false
   },
   "outputs": [
    {
     "data": {
      "text/plain": [
       "0"
      ]
     },
     "execution_count": 132,
     "metadata": {},
     "output_type": "execute_result"
    }
   ],
   "source": [
    "1&2"
   ]
  },
  {
   "cell_type": "code",
   "execution_count": 134,
   "metadata": {
    "collapsed": false
   },
   "outputs": [
    {
     "data": {
      "text/plain": [
       "-inf"
      ]
     },
     "execution_count": 134,
     "metadata": {},
     "output_type": "execute_result"
    }
   ],
   "source": [
    "-float('inf')"
   ]
  },
  {
   "cell_type": "code",
   "execution_count": 171,
   "metadata": {
    "collapsed": false
   },
   "outputs": [],
   "source": [
    "class Solution(object):\n",
    "    def maximumProduct(self, nums):\n",
    "        \"\"\"\n",
    "        :type nums: List[int]\n",
    "        :rtype: int\n",
    "        \"\"\"\n",
    "        max_num=-float('inf')\n",
    "        if len(nums)==3:\n",
    "            return nums[0]*nums[1]*nums[2]\n",
    "        num_neg=sorted([num for num in nums if num<0])\n",
    "        print (num_neg)\n",
    "        num_pos=sorted([num for num in nums if num>=0])\n",
    "        print (num_pos)\n",
    "        if len(num_pos)>=3:\n",
    "            max_num=num_pos[-1]*num_pos[-2]*num_pos[-3]\n",
    "        print (len(num_neg)>=2 & len(num_pos))\n",
    "        if len(num_neg)>=2 and len(num_pos)>=1:\n",
    "            max_num=max(max_num,num_neg[0]*num_neg[1]*num_pos[-1])\n",
    "            print (max_num)\n",
    "        if len(num_neg)>=3:\n",
    "            max_num=max(max_num,num_neg[0]*num_neg[1]*num_neg[2])\n",
    "        return max_num\n",
    "m=Solution()"
   ]
  },
  {
   "cell_type": "code",
   "execution_count": 172,
   "metadata": {
    "collapsed": false
   },
   "outputs": [
    {
     "name": "stdout",
     "output_type": "stream",
     "text": [
      "[-4, -3, -2, -1]\n",
      "[60]\n",
      "True\n",
      "720\n"
     ]
    },
    {
     "data": {
      "text/plain": [
       "720"
      ]
     },
     "execution_count": 172,
     "metadata": {},
     "output_type": "execute_result"
    }
   ],
   "source": [
    "m.maximumProduct([-4,-3,-2,-1,60])"
   ]
  },
  {
   "cell_type": "code",
   "execution_count": 157,
   "metadata": {
    "collapsed": false
   },
   "outputs": [
    {
     "data": {
      "text/plain": [
       "True"
      ]
     },
     "execution_count": 157,
     "metadata": {},
     "output_type": "execute_result"
    }
   ],
   "source": [
    "True & True"
   ]
  },
  {
   "cell_type": "code",
   "execution_count": null,
   "metadata": {
    "collapsed": true
   },
   "outputs": [],
   "source": [
    "class Solution(object):\n",
    "    def maximumProduct(self, nums):\n",
    "        \"\"\"\n",
    "        :type nums: List[int]\n",
    "        :rtype: int\n",
    "        \"\"\"\n",
    "        nums.sort()\n",
    "        return max(nums[-1]*nums[-2]*nums[-3], nums[0]*nums[1]*nums[-1])\n",
    "\n",
    "def maximumProduct(self, nums):\n",
    "    a, b = heapq.nlargest(3, nums), heapq.nsmallest(2, nums)\n",
    "    return max(a[0] * a[1] * a[2], b[0] * b[1] * a[0])\n",
    "\n",
    "def maximumProduct(self, nums):\n",
    "    return max(nums) * max(a * b for a, b in [heapq.nsmallest(2, nums), heapq.nlargest(3, nums)[1:]])"
   ]
  },
  {
   "cell_type": "code",
   "execution_count": 1,
   "metadata": {
    "collapsed": false
   },
   "outputs": [
    {
     "ename": "TypeError",
     "evalue": "unsupported operand type(s) for -: 'list' and 'list'",
     "output_type": "error",
     "traceback": [
      "\u001b[1;31m---------------------------------------------------------------------------\u001b[0m",
      "\u001b[1;31mTypeError\u001b[0m                                 Traceback (most recent call last)",
      "\u001b[1;32m<ipython-input-1-06add067ecf8>\u001b[0m in \u001b[0;36m<module>\u001b[1;34m()\u001b[0m\n\u001b[1;32m----> 1\u001b[1;33m \u001b[1;33m[\u001b[0m\u001b[1;36m1\u001b[0m\u001b[1;33m,\u001b[0m\u001b[1;36m2\u001b[0m\u001b[1;33m,\u001b[0m\u001b[1;36m3\u001b[0m\u001b[1;33m]\u001b[0m\u001b[1;33m-\u001b[0m\u001b[1;33m[\u001b[0m\u001b[1;36m1\u001b[0m\u001b[1;33m,\u001b[0m\u001b[1;36m2\u001b[0m\u001b[1;33m]\u001b[0m\u001b[1;33m\u001b[0m\u001b[0m\n\u001b[0m",
      "\u001b[1;31mTypeError\u001b[0m: unsupported operand type(s) for -: 'list' and 'list'"
     ]
    }
   ],
   "source": [
    "[1,2,3]-[1,2]"
   ]
  },
  {
   "cell_type": "code",
   "execution_count": 10,
   "metadata": {
    "collapsed": false
   },
   "outputs": [],
   "source": [
    "class Solution(object):\n",
    "    def missingNumber(self, nums):\n",
    "        \"\"\"\n",
    "        :type nums: List[int]\n",
    "        :rtype: int\n",
    "        \"\"\"\n",
    "        n=len(nums)\n",
    "        a=[]\n",
    "        if nums[0]>0:\n",
    "            for j in range(0,nums[0]):\n",
    "                a.append(j)\n",
    "        for i in range(1,n):\n",
    "            dec=nums[i]-nums[i-1]\n",
    "            if dec!=1:\n",
    "                for m in range(nums[i-1]+1,nums[i]):\n",
    "                    a.append(m)\n",
    "        return a\n",
    "\n",
    "m=Solution()"
   ]
  },
  {
   "cell_type": "code",
   "execution_count": 12,
   "metadata": {
    "collapsed": false
   },
   "outputs": [
    {
     "data": {
      "text/plain": [
       "[]"
      ]
     },
     "execution_count": 12,
     "metadata": {},
     "output_type": "execute_result"
    }
   ],
   "source": [
    "nums=[0]\n",
    "m.missingNumber(nums)"
   ]
  },
  {
   "cell_type": "code",
   "execution_count": 22,
   "metadata": {
    "collapsed": true
   },
   "outputs": [],
   "source": [
    "# #Time limit\n",
    "# class Solution(object):\n",
    "#     def findLHS(self, nums):\n",
    "#         \"\"\"\n",
    "#         :type nums: List[int]\n",
    "#         :rtype: int\n",
    "#         \"\"\"\n",
    "#         if not nums:\n",
    "#             return 0\n",
    "#         else:\n",
    "#             num_set=set(nums)\n",
    "#             nums_set_sort=sorted(num_set)\n",
    "#             count=0\n",
    "#             for i in range(1,len(nums_set_sort)):\n",
    "#                 if nums_set_sort[i]-nums_set_sort[i-1]==1:\n",
    "#                     count=max(count,nums.count(nums_set_sort[i])+nums.count(nums_set_sort[i-1]))\n",
    "#         return count\n",
    "    \n",
    "    \n",
    "class Solution(object):\n",
    "    def findLHS(self, nums):\n",
    "        count=0\n",
    "        if not nums:\n",
    "            return 0\n",
    "        min_num=min(nums)\n",
    "        u_back=min_num\n",
    "        a=Counter(nums)\n",
    "        for u in a:\n",
    "            if u!=min_num:\n",
    "                if u-u_back==1:\n",
    "                    count=max(count,a[u]+a[u_back])\n",
    "                    \n",
    "            u_back=u\n",
    "        return count\n",
    "m=Solution()"
   ]
  },
  {
   "cell_type": "code",
   "execution_count": 24,
   "metadata": {
    "collapsed": false
   },
   "outputs": [
    {
     "data": {
      "text/plain": [
       "5"
      ]
     },
     "execution_count": 24,
     "metadata": {},
     "output_type": "execute_result"
    }
   ],
   "source": [
    "nums=[1,2,3,4,5,2,3,4,2]\n",
    "m.findLHS(nums)"
   ]
  },
  {
   "cell_type": "code",
   "execution_count": 18,
   "metadata": {
    "collapsed": false
   },
   "outputs": [],
   "source": [
    "from collections import Counter\n",
    "a=Counter([1,2,4,3,2])"
   ]
  },
  {
   "cell_type": "code",
   "execution_count": 21,
   "metadata": {
    "collapsed": false
   },
   "outputs": [
    {
     "data": {
      "text/plain": [
       "2"
      ]
     },
     "execution_count": 21,
     "metadata": {},
     "output_type": "execute_result"
    }
   ],
   "source": [
    "a[2]"
   ]
  },
  {
   "cell_type": "code",
   "execution_count": 20,
   "metadata": {
    "collapsed": false
   },
   "outputs": [
    {
     "name": "stdout",
     "output_type": "stream",
     "text": [
      "1\n",
      "2\n",
      "3\n",
      "4\n",
      "5\n"
     ]
    }
   ],
   "source": [
    "for u in Counter([1,2,4,5,3,2]):\n",
    "    print (u)"
   ]
  },
  {
   "cell_type": "code",
   "execution_count": 25,
   "metadata": {
    "collapsed": false
   },
   "outputs": [
    {
     "data": {
      "text/plain": [
       "[2, 3]"
      ]
     },
     "execution_count": 25,
     "metadata": {},
     "output_type": "execute_result"
    }
   ],
   "source": [
    "a=[1,2,3]\n",
    "a[1:]"
   ]
  },
  {
   "cell_type": "code",
   "execution_count": 49,
   "metadata": {
    "collapsed": true
   },
   "outputs": [],
   "source": [
    "class Solution(object):\n",
    "    def searchInsert(self, nums, target):\n",
    "        \"\"\"\n",
    "        :type nums: List[int]\n",
    "        :type target: int\n",
    "        :rtype: int\n",
    "        \"\"\"\n",
    "        if not nums:\n",
    "            return 0\n",
    "        n=len(nums)\n",
    "        d=n//2\n",
    "        print (d)\n",
    "        if nums[d]>target:\n",
    "            return self.searchInsert(nums[0:d],target)\n",
    "        elif nums[d]<target:\n",
    "            return d+1+self.searchInsert(nums[d+1:],target)\n",
    "        else:\n",
    "            return d\n",
    "m=Solution()"
   ]
  },
  {
   "cell_type": "code",
   "execution_count": 50,
   "metadata": {
    "collapsed": false
   },
   "outputs": [
    {
     "data": {
      "text/plain": [
       "[]"
      ]
     },
     "execution_count": 50,
     "metadata": {},
     "output_type": "execute_result"
    }
   ],
   "source": [
    "nums=[0]\n",
    "nums[0:0]"
   ]
  },
  {
   "cell_type": "code",
   "execution_count": 51,
   "metadata": {
    "collapsed": false
   },
   "outputs": [
    {
     "name": "stdout",
     "output_type": "stream",
     "text": [
      "1\n"
     ]
    },
    {
     "data": {
      "text/plain": [
       "2"
      ]
     },
     "execution_count": 51,
     "metadata": {},
     "output_type": "execute_result"
    }
   ],
   "source": [
    "nums=[1,2]\n",
    "m.searchInsert(nums,3)"
   ]
  },
  {
   "cell_type": "code",
   "execution_count": null,
   "metadata": {
    "collapsed": true
   },
   "outputs": [],
   "source": [
    "class Solution(object):\n",
    "    def searchInsert(self, nums, target):\n",
    "        \"\"\"\n",
    "        :type nums: List[int]\n",
    "        :type target: int\n",
    "        :rtype: int\n",
    "        \"\"\"       \n",
    "        return len([x for x in nums if x<target])\n",
    "\n",
    "    \n",
    "class Solution(object):\n",
    "def searchInsert(self, nums, key):\n",
    "    if key > nums[len(nums) - 1]:\n",
    "        return len(nums)\n",
    "\n",
    "    if key < nums[0]:\n",
    "        return 0\n",
    "\n",
    "    l, r = 0, len(nums) - 1\n",
    "    while l <= r:\n",
    "        m = (l + r)/2\n",
    "        if nums[m] > key:\n",
    "            r = m - 1\n",
    "            if r >= 0:\n",
    "                if nums[r] < key:\n",
    "                    return r + 1\n",
    "            else:\n",
    "                return 0\n",
    "\n",
    "        elif nums[m] < key:\n",
    "            l = m + 1\n",
    "            if l < len(nums):\n",
    "                if nums[l] > key:\n",
    "                    return l\n",
    "            else:\n",
    "                return len(nums)\n",
    "        else:\n",
    "            return m"
   ]
  },
  {
   "cell_type": "code",
   "execution_count": 61,
   "metadata": {
    "collapsed": false
   },
   "outputs": [
    {
     "name": "stdout",
     "output_type": "stream",
     "text": [
      "0 3\n",
      "1 3\n",
      "2 3\n",
      "3 3\n"
     ]
    },
    {
     "data": {
      "text/plain": [
       "1"
      ]
     },
     "execution_count": 61,
     "metadata": {},
     "output_type": "execute_result"
    }
   ],
   "source": [
    "def removeElement(nums, val):\n",
    "  \n",
    "        start, end = 0, len(nums)-1 \n",
    "        f=0\n",
    "        while start <=end:\n",
    "            print (start,end)\n",
    "            if nums[start] == val:\n",
    "                start+=1\n",
    "            elif nums[end]==val:\n",
    "                end-=1\n",
    "            else:\n",
    "                nums[f]=nums[start]\n",
    "                f+=1\n",
    "                start+=1\n",
    "        return f\n",
    "removeElement([3,2,2,2],2)"
   ]
  },
  {
   "cell_type": "code",
   "execution_count": 54,
   "metadata": {
    "collapsed": false
   },
   "outputs": [
    {
     "data": {
      "text/plain": [
       "2"
      ]
     },
     "execution_count": 54,
     "metadata": {},
     "output_type": "execute_result"
    }
   ],
   "source": [
    "def removeElement(nums, val):\n",
    "    start, end = 0, len(nums) - 1\n",
    "    while start <= end:\n",
    "        if nums[start] == val:\n",
    "            nums[start], nums[end], end = nums[end], nums[start], end - 1\n",
    "        else:\n",
    "            start +=1\n",
    "    nums[:] = nums[:start]\n",
    "    return start\n",
    "removeElement([3,2,2,3],2)"
   ]
  },
  {
   "cell_type": "code",
   "execution_count": 62,
   "metadata": {
    "collapsed": false
   },
   "outputs": [
    {
     "data": {
      "text/plain": [
       "[3, 8, 2, 6]"
      ]
     },
     "execution_count": 62,
     "metadata": {},
     "output_type": "execute_result"
    }
   ],
   "source": [
    "num=3825\n",
    "[int(i) for i in str(num+1)]"
   ]
  },
  {
   "cell_type": "code",
   "execution_count": 63,
   "metadata": {
    "collapsed": false
   },
   "outputs": [
    {
     "data": {
      "text/plain": [
       "<map at 0x14e75513e10>"
      ]
     },
     "execution_count": 63,
     "metadata": {},
     "output_type": "execute_result"
    }
   ],
   "source": [
    "map(lambda x,y:(x,y),[3,2,1])"
   ]
  },
  {
   "cell_type": "code",
   "execution_count": 70,
   "metadata": {
    "collapsed": false
   },
   "outputs": [
    {
     "data": {
      "text/plain": [
       "[1, 2, 4]"
      ]
     },
     "execution_count": 70,
     "metadata": {},
     "output_type": "execute_result"
    }
   ],
   "source": [
    "from functools import reduce \n",
    "def plusOne(digits):\n",
    "    nums = reduce(lambda x,y:x*10+y,digits)+1\n",
    "    return [int(i) for i in str(nums)]\n",
    "\n",
    "plusOne([1,2,3])"
   ]
  },
  {
   "cell_type": "markdown",
   "metadata": {},
   "source": [
    "filter() 函数:\n",
    "filter 函数的功能相当于过滤器。调用一个布尔函数bool_func来迭代遍历每个seq中的元素；返回一个使bool_seq返回值为true的元素的序列。\n",
    ">>>a=[1,2,3,4,5,6,7]\n",
    ">>>b=filter(lambda x:x>5, a)\n",
    ">>>print b\n",
    ">>>[6,7]\n",
    "\n",
    "如果filter参数值为None，就使用identity（）函数，list参数中所有为假的元 素都将被删除。如下所示：\n",
    ">>>a=[0,1,2,3,4,5,6,7]\n",
    ">>>b=filter(None, a)\n",
    ">>>print b\n",
    ">>>[1,2,3,4,5,6,7]\n",
    "\n",
    "map() 函数：\n",
    "map函数func作用于给定序列的每个元素，并用一个列表来提供返回值。\n",
    ">>>map(lambda x:x+3, a) #这里的a同上\n",
    ">>>[3,4,5,6,7,8,9,10]\n",
    "\n",
    "#另一个例子\n",
    ">>>a=[1,2,3]\n",
    ">>>b=[4,5,6]\n",
    ">>>map(lambda x,y:x+y, a,b)\n",
    ">>>[5,7,9]\n",
    "\n",
    "reduce() 函数：\n",
    "reduce函数，func为二元函数，将func作用于seq序列的元素，每 次携带一对（先前的结果以及下一个序列的元素），连续的将现有的结果和下一个值作用在获得的随后的结果上，最后减少我们的序列为一个单一的返回值。\n",
    ">>>a = [1,2,3,4,5]\n",
    ">>>reduce(lambda x,y:x+y,a)\n",
    "15"
   ]
  },
  {
   "cell_type": "markdown",
   "metadata": {},
   "source": [
    "Given an array of integers, return indices of the two numbers such that they add up to a specific target.\n",
    "\n",
    "You may assume that each input would have exactly one solution, and you may not use the same element twice.\n",
    "\n",
    "Example:\n",
    "\n",
    "Given nums = [2, 7, 11, 15], target = 9,\n",
    "\n",
    "Because nums[0] + nums[1] = 2 + 7 = 9,\n",
    "return [0, 1].\n",
    "\n"
   ]
  },
  {
   "cell_type": "code",
   "execution_count": null,
   "metadata": {
    "collapsed": true
   },
   "outputs": [],
   "source": [
    "class Solution(object):\n",
    "    def twoSum(self, nums, target):\n",
    "        \"\"\"\n",
    "        :type nums: List[int]\n",
    "        :type target: int\n",
    "        :rtype: List[int]\n",
    "        \"\"\"\n",
    "        n=len(nums)\n",
    "        for i in range(n):\n",
    "            dec=target-nums[i]\n",
    "            if dec in nums:\n",
    "                pos=nums.index(dec)\n",
    "                if pos!=i:\n",
    "                    return [i,pos]\n",
    "\n",
    "#Python solution using hash \n",
    "class Solution(object):\n",
    "    def twoSum(self, nums, target):\n",
    "        if len(nums) <= 1:\n",
    "            return False\n",
    "        buff_dict = {}\n",
    "        for i in range(len(nums)):\n",
    "            if nums[i] in buff_dict:\n",
    "                return [buff_dict[nums[i]], i]\n",
    "            else:\n",
    "                buff_dict[target - nums[i]] = i\n"
   ]
  },
  {
   "cell_type": "markdown",
   "metadata": {},
   "source": [
    "Given m arrays, and each array is sorted in ascending order. Now you can pick up two integers from two different arrays (each array picks one) and calculate the distance. We define the distance between two integers a and b to be their absolute difference |a-b|. Your task is to find the maximum distance. \n",
    "\n",
    "Example 1:\n",
    "\n",
    "Input: \n",
    "[[1,2,3],\n",
    " [4,5],\n",
    " [1,2,3]]\n",
    "Output: 4\n",
    "Explanation: \n",
    "One way to reach the maximum distance 4 is to pick 1 in the first or third array and pick 5 in the second array.\n"
   ]
  },
  {
   "cell_type": "code",
   "execution_count": null,
   "metadata": {
    "collapsed": true
   },
   "outputs": [],
   "source": [
    "class Solution(object):\n",
    "    def maxDistance(self, arrays):\n",
    "        \"\"\"\n",
    "        :type arrays: List[List[int]]\n",
    "        :rtype: int\n",
    "        \"\"\"\n",
    "        min_array=[]\n",
    "        max_array=[]\n",
    "        dec_array=[]\n",
    "        for array in arrays:\n",
    "            if array:\n",
    "                array_min=min(array)\n",
    "                array_max=max(array)\n",
    "                min_array.append(array_min)\n",
    "                max_array.append(array_max)\n",
    "                dec_array.append(array_max-array_min)\n",
    "        if abs(min(min_array)-max(max_array))!=max(dec_array):\n",
    "            return  abs(min(min_array)-max(max_array))\n",
    "        else:\n",
    "            sort_min_array=sorted(min_array)\n",
    "            sort_max_array=sorted(max_array)\n",
    "            return max(abs(sort_max_array[-1]-sort_min_array[1]),abs(sort_max_array[-2]-sort_min_array[0]))\n",
    "        \n",
    "class Solution(object):\n",
    "    def maxDistance(self, arrays):\n",
    "        \"\"\"\n",
    "        :type arrays: List[List[int]]\n",
    "        :rtype: int\n",
    "        \"\"\"\n",
    "        m = len(arrays)\n",
    "        MAX, max_i = max([(arrays[i][-1], i) for i in range(m)])\n",
    "        MIN, min_i = min([(arrays[i][0], i) for i in range(m)])\n",
    "        a = max(abs(arrays[i][0] - MAX) for i in range(m) if i != max_i)\n",
    "        b = max(abs(arrays[i][-1] - MIN) for i in range(m) if i != min_i)\n",
    "        return max(a, b)\n",
    "    \n",
    "    \n",
    "class Solution(object):\n",
    "    def maxDistance(self, arrays):  #单纯遍历整个数组即可\n",
    "        res, curMin, curMax = 0, 10000, -10000\n",
    "        for a in arrays :\n",
    "            res = max(res, max(a[-1]-curMin, curMax-a[0]))\n",
    "            curMin, curMax = min(curMin, a[0]), max(curMax, a[-1])\n",
    "        return res"
   ]
  },
  {
   "cell_type": "markdown",
   "metadata": {},
   "source": [
    "Given an array of integers and an integer k, find out whether there are two distinct indices i and j in the array such that nums[i] = nums[j] and the absolute difference between i and j is at most k. "
   ]
  },
  {
   "cell_type": "code",
   "execution_count": null,
   "metadata": {
    "collapsed": true
   },
   "outputs": [],
   "source": [
    "class Solution(object):\n",
    "    def containsNearbyDuplicate(self, nums, k):\n",
    "        \"\"\"\n",
    "        :type nums: List[int]\n",
    "        :type k: int\n",
    "        :rtype: bool\n",
    "        \"\"\"\n",
    "        a={}\n",
    "        n=len(nums)\n",
    "        for i in range(n):\n",
    "            if nums[i] not in a:\n",
    "                a[nums[i]]=i\n",
    "            else:\n",
    "                if i-a[nums[i]]<=k:\n",
    "                    return True\n",
    "                else:\n",
    "                    a[nums[i]]=i\n",
    "        return  False\n",
    "\n",
    "def containsNearbyDuplicate(self, nums, k):\n",
    "    dic = {}\n",
    "    for i, v in enumerate(nums):\n",
    "        if v in dic and i - dic[v] <= k:\n",
    "            return True\n",
    "        dic[v] = i\n",
    "    return False\n",
    "\n",
    "#hash\n",
    "class Solution(object):\n",
    "    def containsNearbyDuplicate(self, nums, k):\n",
    "        \"\"\"\n",
    "        :type nums: List[int]\n",
    "        :type k: int\n",
    "        :rtype: bool\n",
    "        \"\"\"\n",
    "        if len(nums)<=k:\n",
    "            return len(nums) >  len(set(nums))\n",
    "\n",
    "        hashSet=set(nums[:k])\n",
    "        if len(hashSet) < k:\n",
    "            return True\n",
    "\n",
    "        for i in range(k,len(nums)):\n",
    "            hashSet.add(nums[i])\n",
    "            if len(hashSet)==k:\n",
    "                return True\n",
    "            else:\n",
    "                hashSet.remove(nums[i-k])\n",
    "        return False"
   ]
  },
  {
   "cell_type": "code",
   "execution_count": 76,
   "metadata": {
    "collapsed": false
   },
   "outputs": [
    {
     "name": "stdout",
     "output_type": "stream",
     "text": [
      "{1, 2, 3}\n"
     ]
    }
   ],
   "source": [
    "a=set([1,2,3])  #set 加入重复元素相当于没有加\n",
    "a.add(1)\n",
    "print(a)"
   ]
  },
  {
   "cell_type": "code",
   "execution_count": 78,
   "metadata": {
    "collapsed": false
   },
   "outputs": [
    {
     "data": {
      "text/plain": [
       "2.0"
      ]
     },
     "execution_count": 78,
     "metadata": {},
     "output_type": "execute_result"
    }
   ],
   "source": [
    "pow(4,0.5)"
   ]
  },
  {
   "cell_type": "code",
   "execution_count": 80,
   "metadata": {
    "collapsed": false
   },
   "outputs": [
    {
     "data": {
      "text/plain": [
       "<zip at 0x14e7564c8c8>"
      ]
     },
     "execution_count": 80,
     "metadata": {},
     "output_type": "execute_result"
    }
   ],
   "source": [
    "strs=['dsdf','dfes']\n",
    "zip(*strs)"
   ]
  },
  {
   "cell_type": "code",
   "execution_count": 81,
   "metadata": {
    "collapsed": false,
    "scrolled": true
   },
   "outputs": [
    {
     "name": "stdout",
     "output_type": "stream",
     "text": [
      "('d', 'd')\n",
      "('s', 'f')\n",
      "('d', 'e')\n",
      "('f', 's')\n"
     ]
    }
   ],
   "source": [
    "for i in zip(*strs):\n",
    "    print (i)"
   ]
  },
  {
   "cell_type": "markdown",
   "metadata": {},
   "source": [
    "编写一个函数来查找字符串数组中最长的公共前缀字符串。"
   ]
  },
  {
   "cell_type": "code",
   "execution_count": 84,
   "metadata": {
    "collapsed": true
   },
   "outputs": [],
   "source": [
    "class Solution(object):\n",
    "    # @return a string\n",
    "    def longestCommonPrefix(self, strs):\n",
    "        if not strs:\n",
    "            return \"\"\n",
    "            \n",
    "        for i, letter_group in enumerate(zip(*strs)):\n",
    "            print (i,letter_group)\n",
    "            if len(set(letter_group)) > 1:\n",
    "                return strs[0][:i]\n",
    "        else:\n",
    "            return min(strs)  #or min(strs,key=len)  如min('z','abc') 返回的是‘abc'\n",
    "m=Solution()"
   ]
  },
  {
   "cell_type": "code",
   "execution_count": 86,
   "metadata": {
    "collapsed": false
   },
   "outputs": [
    {
     "name": "stdout",
     "output_type": "stream",
     "text": [
      "0 ('d', 'd', 'd')\n",
      "1 ('f', 'f', 'f')\n",
      "2 ('d', 'e', 'g')\n"
     ]
    },
    {
     "data": {
      "text/plain": [
       "'df'"
      ]
     },
     "execution_count": 86,
     "metadata": {},
     "output_type": "execute_result"
    }
   ],
   "source": [
    "strs=['dfdf','dfes','dfge']\n",
    "m.longestCommonPrefix(strs)"
   ]
  },
  {
   "cell_type": "code",
   "execution_count": 88,
   "metadata": {
    "collapsed": false,
    "scrolled": true
   },
   "outputs": [
    {
     "data": {
      "text/plain": [
       "'123'"
      ]
     },
     "execution_count": 88,
     "metadata": {},
     "output_type": "execute_result"
    }
   ],
   "source": [
    "''.join('123')"
   ]
  },
  {
   "cell_type": "code",
   "execution_count": 94,
   "metadata": {
    "collapsed": false
   },
   "outputs": [
    {
     "name": "stdout",
     "output_type": "stream",
     "text": [
      "1\n",
      "2\n",
      "3\n",
      "4\n"
     ]
    }
   ],
   "source": [
    "nums=[1,2,3,4]\n",
    "num=map(str,nums)\n",
    "for i in num:\n",
    "    print (i)"
   ]
  },
  {
   "cell_type": "code",
   "execution_count": 95,
   "metadata": {
    "collapsed": false
   },
   "outputs": [
    {
     "name": "stdout",
     "output_type": "stream",
     "text": [
      "\n"
     ]
    }
   ],
   "source": [
    "num_str = ''.join(num)\n",
    "print (num_str)"
   ]
  },
  {
   "cell_type": "code",
   "execution_count": null,
   "metadata": {
    "collapsed": true
   },
   "outputs": [],
   "source": [
    "class Solution:\n",
    "\n",
    "    def lcp(self, str1, str2):\n",
    "        i = 0\n",
    "        while (i < len(str1) and i < len(str2)):\n",
    "            if str1[i] == str2[i]:\n",
    "                i = i+1\n",
    "            else:\n",
    "                break\n",
    "        return str1[:i]\n",
    "\n",
    "    # @return a string                                                                                                                                                          \n",
    "    def longestCommonPrefix(self, strs):\n",
    "        if not strs:\n",
    "            return ''\n",
    "        else:\n",
    "            return reduce(self.lcp,strs)"
   ]
  },
  {
   "cell_type": "code",
   "execution_count": 96,
   "metadata": {
    "collapsed": false
   },
   "outputs": [
    {
     "name": "stdout",
     "output_type": "stream",
     "text": [
      "0 4\n",
      "1 5\n",
      "2 3\n"
     ]
    }
   ],
   "source": [
    "a=[4,5,3]\n",
    "for index, i in enumerate(a):\n",
    "    print (index,i)"
   ]
  },
  {
   "cell_type": "markdown",
   "metadata": {},
   "source": [
    "Python solution, count number of Zero between one "
   ]
  },
  {
   "cell_type": "code",
   "execution_count": null,
   "metadata": {
    "collapsed": true
   },
   "outputs": [],
   "source": [
    "#直接判断每一点的左右零个数\n",
    "def canPlaceFlowers(self, A, N):\n",
    "    for i, x in enumerate(A):\n",
    "        if (not x and (i == 0 or A[i-1] == 0) \n",
    "                and (i == len(A)-1 or A[i+1] == 0)):\n",
    "            N -= 1\n",
    "            A[i] = 1\n",
    "    return N <= 0\n",
    "\n",
    "#立标志\n",
    "def canPlaceFlowers(self, A, n):\n",
    "    \"\"\"\n",
    "    :type A: List[int]\n",
    "    :type n: int\n",
    "    :rtype: bool\n",
    "    \"\"\"                \n",
    "    m=len(A)\n",
    "    if n==0: return True\n",
    "    cnt=0\n",
    "    start=-1\n",
    "    for i in range(m):\n",
    "        if A[i]==1:\n",
    "            if start<0:\n",
    "                x=i-start-1\n",
    "            else:\n",
    "                x=i-start-1-1\n",
    "            cnt+=x//2\n",
    "            start=i\n",
    "    if start<0:\n",
    "        cnt+=(m-start)//2\n",
    "    else:\n",
    "        cnt+=(m-start-1)//2\n",
    "    return cnt>=n"
   ]
  },
  {
   "cell_type": "markdown",
   "metadata": {},
   "source": [
    "Given an integer array, you need to find one continuous subarray that if you only sort this subarray in ascending order, then the whole array will be sorted in ascending order, too. \n",
    "\n",
    "You need to find the shortest such subarray and output its length.\n",
    "\n",
    "Example 1:\n",
    "\n",
    "Input: [2, 6, 4, 8, 10, 9, 15]\n",
    "Output: 5\n",
    "Explanation: You need to sort [6, 4, 8, 10, 9] in ascending order to make the whole array sorted in ascending order\n"
   ]
  },
  {
   "cell_type": "code",
   "execution_count": null,
   "metadata": {
    "collapsed": true
   },
   "outputs": [],
   "source": [
    "#any(x)判断x对象是否为空对象，如果都为空、0、false，则返回false，如果不都为空、0、false，则返回true\n",
    "#all(x)如果all(x)参数x对象的所有元素不为0、''、False或者x为空对象，则返回True，否则返回False"
   ]
  },
  {
   "cell_type": "code",
   "execution_count": null,
   "metadata": {
    "collapsed": true
   },
   "outputs": [],
   "source": [
    "#注意审题 one continuous subarray \n",
    "def findUnsortedSubarray(self, nums):\n",
    "        is_same = [a == b for a, b in zip(nums, sorted(nums))]\n",
    "        return 0 if all(is_same) else len(nums) - is_same.index(False) - is_same[::-1].index(False)\n"
   ]
  },
  {
   "cell_type": "code",
   "execution_count": 98,
   "metadata": {
    "collapsed": false
   },
   "outputs": [
    {
     "data": {
      "text/plain": [
       "0"
      ]
     },
     "execution_count": 98,
     "metadata": {},
     "output_type": "execute_result"
    }
   ],
   "source": [
    "a=[0,1,1,0,0,1,0,1]\n",
    "a.index(0)"
   ]
  },
  {
   "cell_type": "code",
   "execution_count": null,
   "metadata": {
    "collapsed": true
   },
   "outputs": [],
   "source": [
    "class Solution(object):\n",
    "    def findUnsortedSubarray(self, nums):\n",
    "        nums = [float('-inf')] + nums + [float('inf')]\n",
    "        '''find left boundary'''\n",
    "        left = 0\n",
    "        while left<len(nums)-1 and nums[left]<=nums[left+1]:\n",
    "            left += 1\n",
    "        # return 0 if already sorted ascending\n",
    "        if left == len(nums)-1:\n",
    "            return 0\n",
    "        min_num = min(nums[left+1:])\n",
    "        while nums[left] > min_num:\n",
    "            left -= 1\n",
    "        '''find right boundary'''\n",
    "        right = len(nums)-1\n",
    "        while right>0 and nums[right-1]<=nums[right]:\n",
    "            right -= 1\n",
    "        # return 0 if sorted descending\n",
    "        if right == 0:\n",
    "            return 0\n",
    "        max_num = max(nums[:right])\n",
    "        while nums[right] < max_num:\n",
    "            right += 1\n",
    "        return right - left - 1"
   ]
  },
  {
   "cell_type": "code",
   "execution_count": null,
   "metadata": {
    "collapsed": true
   },
   "outputs": [],
   "source": []
  },
  {
   "cell_type": "code",
   "execution_count": 101,
   "metadata": {
    "collapsed": false
   },
   "outputs": [
    {
     "ename": "TypeError",
     "evalue": "unsupported operand type(s) for +: 'int' and 'list'",
     "output_type": "error",
     "traceback": [
      "\u001b[1;31m---------------------------------------------------------------------------\u001b[0m",
      "\u001b[1;31mTypeError\u001b[0m                                 Traceback (most recent call last)",
      "\u001b[1;32m<ipython-input-101-f39bc264976c>\u001b[0m in \u001b[0;36m<module>\u001b[1;34m()\u001b[0m\n\u001b[0;32m      2\u001b[0m \u001b[0maccu\u001b[0m \u001b[1;33m=\u001b[0m \u001b[1;33m[\u001b[0m\u001b[1;36m0\u001b[0m\u001b[1;33m]\u001b[0m\u001b[1;33m\u001b[0m\u001b[0m\n\u001b[0;32m      3\u001b[0m \u001b[1;32mfor\u001b[0m \u001b[0mnum\u001b[0m \u001b[1;32min\u001b[0m \u001b[0mnums\u001b[0m\u001b[1;33m:\u001b[0m\u001b[1;33m\u001b[0m\u001b[0m\n\u001b[1;32m----> 4\u001b[1;33m     \u001b[0maccu\u001b[0m \u001b[1;33m+=\u001b[0m \u001b[0maccu\u001b[0m\u001b[1;33m[\u001b[0m\u001b[1;33m-\u001b[0m\u001b[1;36m1\u001b[0m\u001b[1;33m]\u001b[0m \u001b[1;33m+\u001b[0m \u001b[0mnum\u001b[0m\u001b[1;33m\u001b[0m\u001b[0m\n\u001b[0m\u001b[0;32m      5\u001b[0m     \u001b[0mprint\u001b[0m \u001b[1;33m(\u001b[0m\u001b[0maccu\u001b[0m\u001b[1;33m)\u001b[0m\u001b[1;33m\u001b[0m\u001b[0m\n",
      "\u001b[1;31mTypeError\u001b[0m: unsupported operand type(s) for +: 'int' and 'list'"
     ]
    }
   ],
   "source": [
    "nums = [[-2, 0, 3, -5, 2, -1]]\n",
    "accu = [0]\n",
    "for num in nums: \n",
    "    accu += accu[-1] + num\n",
    "    print (accu)"
   ]
  },
  {
   "cell_type": "code",
   "execution_count": 103,
   "metadata": {
    "collapsed": false
   },
   "outputs": [
    {
     "data": {
      "text/plain": [
       "[1, 2, 3]"
      ]
     },
     "execution_count": 103,
     "metadata": {},
     "output_type": "execute_result"
    }
   ],
   "source": [
    "sorted(set([1,2,3,2]))"
   ]
  },
  {
   "cell_type": "code",
   "execution_count": null,
   "metadata": {
    "collapsed": true
   },
   "outputs": [],
   "source": [
    "class Solution(object):\n",
    "    def thirdMax(self, nums):\n",
    "        \"\"\"\n",
    "        :type nums: List[int]\n",
    "        :rtype: int\n",
    "        \"\"\"\n",
    "        sort_nums=sorted(set(nums))\n",
    "        if len(sort_nums)<3:\n",
    "            return sort_nums[-1]\n",
    "        else:\n",
    "            return sort_nums[-3]\n",
    "        \n",
    "def thirdMax(self, nums):\n",
    "        nums = set(nums)\n",
    "        if len(nums) < 3:\n",
    "            return max(nums)\n",
    "        nums.remove(max(nums))\n",
    "        nums.remove(max(nums))\n",
    "        return max(nums)"
   ]
  },
  {
   "cell_type": "markdown",
   "metadata": {},
   "source": [
    "Given a non negative integer number num. For every numbers i in the range 0 ≤ i ≤ num calculate the number of 1's in their binary representation and return them as an array. \n",
    "\n",
    "Example:\n",
    " For num = 5 you should return [0,1,1,2,1,2]. \n"
   ]
  },
  {
   "cell_type": "code",
   "execution_count": 117,
   "metadata": {
    "collapsed": true
   },
   "outputs": [],
   "source": [
    "class Solution(object):\n",
    "    def countBits(self, num):\n",
    "        \"\"\"\n",
    "        :type num: int\n",
    "        :rtype: List[int]\n",
    "        \"\"\"\n",
    "        a=[]\n",
    "        b=0\n",
    "        for i in range(num+1):\n",
    "            while i//2!=0:\n",
    "                if i%2==1:\n",
    "                    b+=1\n",
    "                i=i//2\n",
    "            if i==1:\n",
    "                b+=1\n",
    "            a.append(b)\n",
    "            b=0\n",
    "        return a\n",
    "m=Solution()"
   ]
  },
  {
   "cell_type": "code",
   "execution_count": 118,
   "metadata": {
    "collapsed": false
   },
   "outputs": [
    {
     "data": {
      "text/plain": [
       "[0, 1, 1, 2, 1, 2, 2, 3, 1, 2, 2]"
      ]
     },
     "execution_count": 118,
     "metadata": {},
     "output_type": "execute_result"
    }
   ],
   "source": [
    "num=10\n",
    "m.countBits(num)"
   ]
  },
  {
   "cell_type": "code",
   "execution_count": 120,
   "metadata": {
    "collapsed": false
   },
   "outputs": [
    {
     "name": "stdout",
     "output_type": "stream",
     "text": [
      "[0, 1]\n",
      "[0, 1, 1, 2]\n",
      "[0, 1, 1, 2, 1, 2, 2, 3]\n",
      "[0, 1, 1, 2, 1, 2, 2, 3, 1, 2, 2, 3, 2, 3, 3, 4]\n"
     ]
    },
    {
     "data": {
      "text/plain": [
       "[0, 1, 1, 2, 1, 2, 2, 3, 1, 2, 2]"
      ]
     },
     "execution_count": 120,
     "metadata": {},
     "output_type": "execute_result"
    }
   ],
   "source": [
    "def countBits(num):\n",
    "        \"\"\"\n",
    "        :type num: int\n",
    "        :rtype: List[int]\n",
    "        \"\"\"\n",
    "        \n",
    "        iniArr = [0]\n",
    "        if num > 0:\n",
    "            amountToAdd = 1\n",
    "            while len(iniArr) < num + 1:\n",
    "                iniArr.extend([x+1 for x in iniArr])\n",
    "                print (iniArr)\n",
    "        \n",
    "        return iniArr[0:num+1]\n",
    "num=10\n",
    "countBits(num)"
   ]
  },
  {
   "cell_type": "code",
   "execution_count": null,
   "metadata": {
    "collapsed": true
   },
   "outputs": [],
   "source": [
    "def countBits(self, num):\n",
    "        \"\"\"\n",
    "        :type num: int\n",
    "        :rtype: List[int]\n",
    "        \"\"\"\n",
    "        answer = [0, 1]\n",
    "        \n",
    "        while len(answer) <= num:\n",
    "            answer.extend(map(lambda x:x+1, answer))\n",
    "            \n",
    "        return answer[:num+1]"
   ]
  },
  {
   "cell_type": "code",
   "execution_count": null,
   "metadata": {
    "collapsed": true
   },
   "outputs": [],
   "source": [
    "def countBits(self, num):\n",
    "    ones = [0]\n",
    "    power_of_two, j = 2, 0\n",
    "    for i in range(1,num+1):\n",
    "        ones.append(ones[j]+1)\n",
    "        j += 1\n",
    "        if i+1 == power_of_two:\n",
    "            j = 0\n",
    "            power_of_two *= 2\n",
    "        \n",
    "    return ones\n",
    "\n",
    "def countBits1(self, num):\n",
    "    ones = [0]\n",
    "    for i in range(1,num+1):\n",
    "        # bitwise trick from @fengcc 's solution\n",
    "        ones.append(ones[i&(i-1)]+1)    \n",
    "        \n",
    "    return ones"
   ]
  },
  {
   "cell_type": "markdown",
   "metadata": {},
   "source": [
    "Suppose you have N integers from 1 to N. We define a beautiful arrangement as an array that is constructed by these N numbers successfully if one of the following is true for the ith position (1 ≤ i ≤ N) in this array: \n",
    "\n",
    "1.The number at the ith position is divisible by i.\n",
    "\n",
    "2.i is divisible by the number at the ith position.\n",
    "\n",
    "\n",
    "Now given N, how many beautiful arrangements can you construct? \n"
   ]
  },
  {
   "cell_type": "code",
   "execution_count": 46,
   "metadata": {
    "collapsed": true
   },
   "outputs": [],
   "source": [
    "#goes downwards\n",
    "def countArrangement1(N):\n",
    "    def count(i, X):\n",
    "        if i == 1:\n",
    "            return 1\n",
    "        return sum(count(i - 1, X - {x})\n",
    "                   for x in X\n",
    "                   if x % i == 0 or i % x == 0)\n",
    "    return count(N, set(range(1, N + 1)))\n",
    "\n",
    "# #go upwards\n",
    "# def countArrangement(N):\n",
    "#     def count(i, X):\n",
    "#         if i > N:\n",
    "#             return 1\n",
    "#         return sum(count(i + 1, X - {x})\n",
    "#                    for x in X\n",
    "#                    if x % i == 0 or i % x == 0)\n",
    "#     return count(1, set(range(1, N + 1)))"
   ]
  },
  {
   "cell_type": "code",
   "execution_count": 71,
   "metadata": {
    "collapsed": false
   },
   "outputs": [
    {
     "data": {
      "text/plain": [
       "3"
      ]
     },
     "execution_count": 71,
     "metadata": {},
     "output_type": "execute_result"
    }
   ],
   "source": [
    "countArrangement1(3)"
   ]
  },
  {
   "cell_type": "code",
   "execution_count": 1,
   "metadata": {
    "collapsed": false
   },
   "outputs": [
    {
     "data": {
      "text/plain": [
       "{3}"
      ]
     },
     "execution_count": 1,
     "metadata": {},
     "output_type": "execute_result"
    }
   ],
   "source": [
    "set([1,2,3])-set([1,2])"
   ]
  },
  {
   "cell_type": "code",
   "execution_count": 2,
   "metadata": {
    "collapsed": true
   },
   "outputs": [],
   "source": [
    "a={1:2,2:3}"
   ]
  },
  {
   "cell_type": "code",
   "execution_count": 4,
   "metadata": {
    "collapsed": false,
    "scrolled": true
   },
   "outputs": [
    {
     "data": {
      "text/plain": [
       "5"
      ]
     },
     "execution_count": 4,
     "metadata": {},
     "output_type": "execute_result"
    }
   ],
   "source": [
    "sum(a.values())"
   ]
  },
  {
   "cell_type": "code",
   "execution_count": 12,
   "metadata": {
    "collapsed": false
   },
   "outputs": [
    {
     "data": {
      "text/plain": [
       "False"
      ]
     },
     "execution_count": 12,
     "metadata": {},
     "output_type": "execute_result"
    }
   ],
   "source": [
    "3 in a"
   ]
  },
  {
   "cell_type": "code",
   "execution_count": 15,
   "metadata": {
    "collapsed": true
   },
   "outputs": [],
   "source": [
    "a={}"
   ]
  },
  {
   "cell_type": "code",
   "execution_count": 23,
   "metadata": {
    "collapsed": false
   },
   "outputs": [],
   "source": [
    "a[str({1,2,3})]=1"
   ]
  },
  {
   "cell_type": "code",
   "execution_count": 24,
   "metadata": {
    "collapsed": false
   },
   "outputs": [
    {
     "name": "stdout",
     "output_type": "stream",
     "text": [
      "{'{1, 2, 3}': 1}\n"
     ]
    }
   ],
   "source": [
    "print (a)"
   ]
  },
  {
   "cell_type": "code",
   "execution_count": 25,
   "metadata": {
    "collapsed": false
   },
   "outputs": [
    {
     "data": {
      "text/plain": [
       "True"
      ]
     },
     "execution_count": 25,
     "metadata": {},
     "output_type": "execute_result"
    }
   ],
   "source": [
    "str({1,2,3}) in a"
   ]
  },
  {
   "cell_type": "code",
   "execution_count": 38,
   "metadata": {
    "collapsed": true
   },
   "outputs": [],
   "source": [
    "a=[]\n",
    "a.append({1,2,3})"
   ]
  },
  {
   "cell_type": "code",
   "execution_count": 72,
   "metadata": {
    "collapsed": false
   },
   "outputs": [],
   "source": [
    "a={}  #记录已经计算过的值\n",
    "def countArrangment(N):\n",
    "    def count(i,X):\n",
    "        total=0\n",
    "        print (i,X)\n",
    "        key=(i,X)\n",
    "        if key in a:\n",
    "            return a[key]\n",
    "        if i==1:\n",
    "            print (i)        \n",
    "            return 1\n",
    "        for x in X:\n",
    "            print (x)\n",
    "            if x%i==0 or i%x==0:\n",
    "                total+=count(i-1,tuple(set(X)-{x}))\n",
    "        a[key]=total\n",
    "        return total\n",
    "    \n",
    "    return count(N,tuple(range(1,N+1)))\n",
    "            "
   ]
  },
  {
   "cell_type": "code",
   "execution_count": 73,
   "metadata": {
    "collapsed": false
   },
   "outputs": [
    {
     "name": "stdout",
     "output_type": "stream",
     "text": [
      "3 (1, 2, 3)\n",
      "1\n",
      "2 (2, 3)\n",
      "2\n",
      "1 (3,)\n",
      "1\n",
      "3\n",
      "2\n",
      "3\n",
      "2 (1, 2)\n",
      "1\n",
      "1 (2,)\n",
      "1\n",
      "2\n",
      "1 (1,)\n",
      "1\n"
     ]
    },
    {
     "data": {
      "text/plain": [
       "3"
      ]
     },
     "execution_count": 73,
     "metadata": {},
     "output_type": "execute_result"
    }
   ],
   "source": [
    "countArrangment(3)"
   ]
  },
  {
   "cell_type": "code",
   "execution_count": 64,
   "metadata": {
    "collapsed": true
   },
   "outputs": [],
   "source": [
    "cache = {}\n",
    "class Solution(object):\n",
    "    def countArrangement(self, N):\n",
    "        def helper(i, X):\n",
    "            if i == 1:\n",
    "                return 1\n",
    "            key = (i, X)\n",
    "            if key in cache:\n",
    "                return cache[key]\n",
    "            total = 0\n",
    "            for j in range(len(X)):\n",
    "                if X[j] % i == 0 or i % X[j] == 0:\n",
    "                    total += helper(i - 1, X[:j] + X[j + 1:])\n",
    "            cache[key] = total\n",
    "            return total\n",
    "        return helper(N, tuple(range(1, N + 1)))\n",
    "m=Solution()"
   ]
  },
  {
   "cell_type": "code",
   "execution_count": 65,
   "metadata": {
    "collapsed": false
   },
   "outputs": [
    {
     "data": {
      "text/plain": [
       "2"
      ]
     },
     "execution_count": 65,
     "metadata": {},
     "output_type": "execute_result"
    }
   ],
   "source": [
    "m.countArrangement(2)"
   ]
  },
  {
   "cell_type": "markdown",
   "metadata": {},
   "source": [
    "Input: [1000,100,10,2]\n",
    "Output: \"1000/(100/10/2)\"\n",
    "Explanation:\n",
    "1000/(100/10/2) = 1000/((100/10)/2) = 200\n",
    "However, the bold parenthesis in \"1000/((100/10)/2)\" are redundant, \n",
    "since they don't influence the operation priority. So you should return \"1000/(100/10/2)\". \n",
    "\n",
    "Other cases:\n",
    "1000/(100/10)/2 = 50\n",
    "1000/(100/(10/2)) = 50\n",
    "1000/100/10/2 = 0.5\n",
    "1000/100/(10/2) = 2"
   ]
  },
  {
   "cell_type": "code",
   "execution_count": null,
   "metadata": {
    "collapsed": true
   },
   "outputs": [],
   "source": [
    "class Solution(object):\n",
    "    def optimalDivision(self, nums):\n",
    "        \"\"\"\n",
    "        :type nums: List[int]\n",
    "        :rtype: str\n",
    "        \"\"\"\n",
    "        A=map(str,nums)\n",
    "        if len(nums)<=2:\n",
    "            return '/'.join(A)\n",
    "        return '{}/({})'.format(A[0],'/'.join(A[1:]))"
   ]
  },
  {
   "cell_type": "code",
   "execution_count": null,
   "metadata": {
    "collapsed": true
   },
   "outputs": [],
   "source": [
    "class Solution(object):\n",
    "    def optimalDivision(self, nums):\n",
    "        \"\"\"\n",
    "        :type nums: List[int]\n",
    "        :rtype: str\n",
    "        \"\"\"\n",
    "        nums = list(map(str, nums))\n",
    "        if len(nums) > 2:\n",
    "            nums[1] = \"(\" + nums[1]\n",
    "            nums[-1] = nums[-1] + \")\"\n",
    "        return \"/\".join(nums)"
   ]
  },
  {
   "cell_type": "code",
   "execution_count": 80,
   "metadata": {
    "collapsed": false
   },
   "outputs": [],
   "source": [
    "num=list(map(str,[1,2,3]))"
   ]
  },
  {
   "cell_type": "code",
   "execution_count": 81,
   "metadata": {
    "collapsed": false
   },
   "outputs": [
    {
     "name": "stdout",
     "output_type": "stream",
     "text": [
      "['1', '2', '3']\n"
     ]
    }
   ],
   "source": [
    "print (num)"
   ]
  },
  {
   "cell_type": "code",
   "execution_count": 82,
   "metadata": {
    "collapsed": false
   },
   "outputs": [],
   "source": [
    "num[1]='e'+num[1]"
   ]
  },
  {
   "cell_type": "code",
   "execution_count": 83,
   "metadata": {
    "collapsed": false
   },
   "outputs": [
    {
     "name": "stdout",
     "output_type": "stream",
     "text": [
      "['1', 'e2', '3']\n"
     ]
    }
   ],
   "source": [
    "print (num)"
   ]
  },
  {
   "cell_type": "markdown",
   "metadata": {},
   "source": [
    "A sequence of number is called arithmetic if it consists of at least three elements and if the difference between any two consecutive elements is the same.\n",
    "\n",
    "A = [1, 2, 3, 4]\n",
    "\n",
    "return: 3, for 3 arithmetic slices in A: [1, 2, 3], [2, 3, 4] and [1, 2, 3, 4] itself.\n"
   ]
  },
  {
   "cell_type": "code",
   "execution_count": 94,
   "metadata": {
    "collapsed": true
   },
   "outputs": [],
   "source": [
    "class Solution(object):\n",
    "    def numberOfArithmeticSlices(self, A):\n",
    "        \"\"\"\n",
    "        :type A: List[int]\n",
    "        :rtype: int\n",
    "        \"\"\"\n",
    "        n=len(A)\n",
    "        i=0\n",
    "        j=2\n",
    "        total=0\n",
    "        while i<=n-3:\n",
    "            while j<n and (A[i]+A[j])*0.5*(j-i+1)==sum(A[i:j+1]):\n",
    "                print (i,j)\n",
    "                total+=1\n",
    "                j+=1                 \n",
    "            i+=1\n",
    "            j=i+2\n",
    "        return total\n",
    "m=Solution()"
   ]
  },
  {
   "cell_type": "code",
   "execution_count": 98,
   "metadata": {
    "collapsed": false
   },
   "outputs": [
    {
     "name": "stdout",
     "output_type": "stream",
     "text": [
      "0 2\n",
      "0 3\n",
      "0 4\n",
      "0 5\n",
      "0 6\n",
      "1 3\n",
      "1 4\n",
      "1 5\n",
      "1 6\n",
      "2 4\n",
      "2 5\n",
      "2 6\n",
      "3 5\n",
      "3 6\n",
      "4 6\n"
     ]
    },
    {
     "data": {
      "text/plain": [
       "15"
      ]
     },
     "execution_count": 98,
     "metadata": {},
     "output_type": "execute_result"
    }
   ],
   "source": [
    "A=[1,2,3,4,5,6,7]\n",
    "m.numberOfArithmeticSlices(A)"
   ]
  },
  {
   "cell_type": "code",
   "execution_count": null,
   "metadata": {
    "collapsed": true
   },
   "outputs": [],
   "source": [
    "#n长的等差数列数可以拆分成\n",
    "def numberOfArithmeticSlices(self, A):\n",
    "    \"\"\"\n",
    "    :type A: List[int]\n",
    "    :rtype: int\n",
    "    \"\"\"\n",
    "    opt, i = [0,0], 1\n",
    "    for j in range(2,len(A)):\n",
    "        if A[j]-A[j-1] == A[j-1]-A[j-2]:\n",
    "            opt.append(opt[j-1]+i)\n",
    "            i += 1\n",
    "        else:\n",
    "            opt.append(opt[j-1])\n",
    "            i = 1\n",
    "    return opt[-1]"
   ]
  }
 ],
 "metadata": {
  "anaconda-cloud": {},
  "kernelspec": {
   "display_name": "Python [Root]",
   "language": "python",
   "name": "Python [Root]"
  },
  "language_info": {
   "codemirror_mode": {
    "name": "ipython",
    "version": 3
   },
   "file_extension": ".py",
   "mimetype": "text/x-python",
   "name": "python",
   "nbconvert_exporter": "python",
   "pygments_lexer": "ipython3",
   "version": "3.5.1"
  }
 },
 "nbformat": 4,
 "nbformat_minor": 0
}
