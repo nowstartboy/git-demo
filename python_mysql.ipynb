{
 "cells": [
  {
   "cell_type": "markdown",
   "metadata": {},
   "source": [
    "## Connection 对象方法 "
   ]
  },
  {
   "cell_type": "markdown",
   "metadata": {},
   "source": [
    "close () 关闭数据库连接 \n",
    "commit() 提交当前事务 \n",
    "rollback() 取消当前事务 \n",
    "cursor() 使用该连接创建（并返回）一个游标或类游标的对象 \n",
    "errorhandler (cxn, cur, errcls, errval ) 作为给定连接的游标的处理程序  "
   ]
  },
  {
   "cell_type": "markdown",
   "metadata": {},
   "source": [
    "常用函数\n",
    "\n",
    "Python DB API 2.0 对事务提供了两个方法：\n",
    "\n",
    "commit() 提交\n",
    "rollback() 回滚\n",
    "cursor用来执行命令的方法:\n",
    "\n",
    "callproc(self, procname, args) 用来执行存储过程,接收的参数为存储过程名和参数列表,返回值为受影响的行数\n",
    "execute(self, query, args) 执行单条sql语句,接收的参数为sql语句本身和使用的参数列表,返回值为受影响的行数\n",
    "executemany(self, query, args) 执行单挑sql语句,但是重复执行参数列表里的参数,返回值为受影响的行数\n",
    "nextset(self) 移动到下一个结果集\n",
    "cursor用来接收返回值的方法:\n",
    "\n",
    "fetchall(self) 接收全部的返回结果行.\n",
    "fetchmany(self, size=None) 接收size条返回结果行.如果size的值大于返回的结果行的数量,则会返回cursor.arraysize条数据.\n",
    "fetchone(self) 返回一条结果行.\n",
    "rowcount 这是一个只读属性,并返回执行execute() 方法后影响的行数。\n",
    "scroll(self, value, mode='relative') 移动指针到某一行; 如果mode='relative',则表示从当前所在行移动value条,如果 mode='absolute',则表示从结果集的第一行移动value条."
   ]
  },
  {
   "cell_type": "code",
   "execution_count": 3,
   "metadata": {
    "collapsed": false
   },
   "outputs": [
    {
     "name": "stdout",
     "output_type": "stream",
     "text": [
      "Database version : 5.7.18 \n"
     ]
    }
   ],
   "source": [
    "import MySQLdb\n",
    "\n",
    "# 打开数据库连接\n",
    "db = MySQLdb.connect(\"localhost\",\"root\",\"cdk120803\",\"bmi\" )\n",
    "\n",
    "# 使用cursor()方法获取操作游标 \n",
    "#游标可以让用户提交数据库命令，并获得查询的结果行。\n",
    "cursor = db.cursor()\n",
    "\n",
    "# 使用execute方法执行SQL语句\n",
    "cursor.execute(\"SELECT VERSION()\")\n",
    "\n",
    "# 使用 fetchone() 方法获取一条数据库。\n",
    "data = cursor.fetchone()\n",
    "\n",
    "print (\"Database version : %s \" % data)\n",
    "\n",
    "# 关闭数据库连接\n",
    "db.close()"
   ]
  },
  {
   "cell_type": "markdown",
   "metadata": {},
   "source": [
    "### 创建数据库表"
   ]
  },
  {
   "cell_type": "code",
   "execution_count": null,
   "metadata": {
    "collapsed": true
   },
   "outputs": [],
   "source": [
    "\n",
    "import MySQLdb\n",
    "\n",
    "# 打开数据库连接\n",
    "db = MySQLdb.connect(\"localhost\",\"testuser\",\"test123\",\"TESTDB\" )\n",
    "\n",
    "# 使用cursor()方法获取操作游标 \n",
    "cursor = db.cursor()\n",
    "\n",
    "# 如果数据表已经存在使用 execute() 方法删除表。\n",
    "cursor.execute(\"DROP TABLE IF EXISTS EMPLOYEE\")\n",
    "\n",
    "# 创建数据表SQL语句\n",
    "sql = \"\"\"CREATE TABLE EMPLOYEE (\n",
    "         FIRST_NAME  CHAR(20) NOT NULL,\n",
    "         LAST_NAME  CHAR(20),\n",
    "         AGE INT,  \n",
    "         SEX CHAR(1),\n",
    "         INCOME FLOAT )\"\"\"\n",
    "\n",
    "cursor.execute(sql)\n",
    "\n",
    "# 关闭数据库连接\n",
    "db.close()"
   ]
  },
  {
   "cell_type": "code",
   "execution_count": 5,
   "metadata": {
    "collapsed": false
   },
   "outputs": [
    {
     "name": "stderr",
     "output_type": "stream",
     "text": [
      "D:\\anaconda1\\lib\\site-packages\\ipykernel\\__main__.py:6: DeprecationWarning: context interface will be changed.  Use explicit conn.commit() or conn.rollback().\n"
     ]
    }
   ],
   "source": [
    "import MySQLdb as mdb\n",
    "import sys\n",
    " \n",
    "#将 con 设定为全局连接\n",
    "con = mdb.connect('localhost', 'root', 'cdk120803', 'bmi');\n",
    "with con:\n",
    " \n",
    "    #获取连接的 cursor，只有获取了 cursor，我们才能进行各种操作\n",
    "    cur = con.cursor()\n",
    "\n",
    "    #创建一个数据表 writers(id,name)\n",
    "    cur.execute(\"CREATE TABLE IF NOT EXISTS Writers(Id INT PRIMARY KEY AUTO_INCREMENT, Name VARCHAR(25))\")\n",
    "\n",
    "    #以下插入了 5 条数据\n",
    "    cur.execute(\"INSERT INTO Writers(Name) VALUES('Jack London')\")\n",
    "    cur.execute(\"INSERT INTO Writers(Name) VALUES('Honore de Balzac')\")\n",
    "    cur.execute(\"INSERT INTO Writers(Name) VALUES('Lion Feuchtwanger')\")\n",
    "    cur.execute(\"INSERT INTO Writers(Name) VALUES('Emile Zola')\")\n",
    "    cur.execute(\"INSERT INTO Writers(Name) VALUES('Truman Capote')\")"
   ]
  },
  {
   "cell_type": "markdown",
   "metadata": {},
   "source": [
    "### 数据库插入操作"
   ]
  },
  {
   "cell_type": "code",
   "execution_count": null,
   "metadata": {
    "collapsed": true
   },
   "outputs": [],
   "source": [
    "\n",
    "import MySQLdb\n",
    "\n",
    "# 打开数据库连接\n",
    "db = MySQLdb.connect(\"localhost\",\"testuser\",\"test123\",\"TESTDB\" )\n",
    "\n",
    "# 使用cursor()方法获取操作游标 \n",
    "cursor = db.cursor()\n",
    "\n",
    "# SQL 插入语句\n",
    "sql = \"\"\"INSERT INTO EMPLOYEE(FIRST_NAME,\n",
    "         LAST_NAME, AGE, SEX, INCOME)\n",
    "         VALUES ('Mac', 'Mohan', 20, 'M', 2000)\"\"\"\n",
    "try:\n",
    "    # 执行sql语句\n",
    "    cursor.execute(sql)\n",
    "    # 提交到数据库执行\n",
    "    db.commit()\n",
    "except:\n",
    "    # Rollback in case there is any error\n",
    "    db.rollback()  #取消操作\n",
    "\n",
    "# 关闭数据库连接\n",
    "db.close()"
   ]
  },
  {
   "cell_type": "code",
   "execution_count": null,
   "metadata": {
    "collapsed": true
   },
   "outputs": [],
   "source": [
    "import MySQLdb\n",
    "\n",
    "# 打开数据库连接\n",
    "db = MySQLdb.connect(\"localhost\",\"testuser\",\"test123\",\"TESTDB\" )\n",
    "\n",
    "# 使用cursor()方法获取操作游标 \n",
    "cursor = db.cursor()\n",
    "\n",
    "# SQL 插入语句\n",
    "sql = \"INSERT INTO EMPLOYEE(FIRST_NAME, \\\n",
    "       LAST_NAME, AGE, SEX, INCOME) \\\n",
    "       VALUES ('%s', '%s', '%d', '%c', '%d' )\" % \\\n",
    "       ('Mac', 'Mohan', 20, 'M', 2000)\n",
    "try:\n",
    "    # 执行sql语句\n",
    "    cursor.execute(sql)\n",
    "    # 提交到数据库执行\n",
    "    db.commit()\n",
    "except:\n",
    "    # 发生错误时回滚\n",
    "    db.rollback()\n",
    "\n",
    "# 关闭数据库连接\n",
    "db.close()"
   ]
  },
  {
   "cell_type": "markdown",
   "metadata": {},
   "source": [
    "### 数据库查询操作"
   ]
  },
  {
   "cell_type": "markdown",
   "metadata": {},
   "source": [
    "Python查询Mysql使用 fetchone() 方法获取单条数据, 使用fetchall() 方法获取多条数据。\n",
    "fetchone(): 该方法获取下一个查询结果集。结果集是一个对象\n",
    "fetchall():接收全部的返回结果行.\n",
    "rowcount: 这是一个只读属性，并返回执行execute()方法后影响的行数。"
   ]
  },
  {
   "cell_type": "code",
   "execution_count": null,
   "metadata": {
    "collapsed": true
   },
   "outputs": [],
   "source": [
    "#查询EMPLOYEE表中salary（工资）字段大于1000的所有数据：\n",
    "import MySQLdb\n",
    "\n",
    "# 打开数据库连接\n",
    "db = MySQLdb.connect(\"localhost\",\"testuser\",\"test123\",\"TESTDB\" )\n",
    "\n",
    "# 使用cursor()方法获取操作游标 \n",
    "cursor = db.cursor()\n",
    "\n",
    "# SQL 查询语句\n",
    "sql = \"SELECT * FROM EMPLOYEE \\\n",
    "       WHERE INCOME > '%d'\" % (1000)\n",
    "try:\n",
    "   # 执行SQL语句\n",
    "   cursor.execute(sql)\n",
    "   # 获取所有记录列表\n",
    "   results = cursor.fetchall()\n",
    "   for row in results:\n",
    "      fname = row[0]\n",
    "      lname = row[1]\n",
    "      age = row[2]\n",
    "      sex = row[3]\n",
    "      income = row[4]\n",
    "      # 打印结果\n",
    "      print \"fname=%s,lname=%s,age=%d,sex=%s,income=%d\" % \\\n",
    "             (fname, lname, age, sex, income )\n",
    "except:\n",
    "   print \"Error: unable to fecth data\"\n",
    "\n",
    "# 关闭数据库连接\n",
    "db.close()"
   ]
  },
  {
   "cell_type": "code",
   "execution_count": 6,
   "metadata": {
    "collapsed": false
   },
   "outputs": [
    {
     "name": "stdout",
     "output_type": "stream",
     "text": [
      "(1, 'Jack London')\n",
      "(2, 'Honore de Balzac')\n",
      "(3, 'Lion Feuchtwanger')\n",
      "(4, 'Emile Zola')\n",
      "(5, 'Truman Capote')\n"
     ]
    },
    {
     "name": "stderr",
     "output_type": "stream",
     "text": [
      "D:\\anaconda1\\lib\\site-packages\\ipykernel\\__main__.py:6: DeprecationWarning: context interface will be changed.  Use explicit conn.commit() or conn.rollback().\n"
     ]
    }
   ],
   "source": [
    "import MySQLdb as mdb\n",
    "import sys\n",
    " \n",
    "#连接 mysql，获取连接的对象\n",
    "con = mdb.connect('localhost', 'root', 'cdk120803', 'bmi');\n",
    "with con:\n",
    "\n",
    "    #仍然是，第一步要获取连接的 cursor 对象，用于执行查询\n",
    "    cur = con.cursor()\n",
    "\n",
    "    #类似于其他语言的 query 函数， execute 是 python 中的执行查询函数\n",
    "    cur.execute(\"SELECT * FROM Writers\")\n",
    "\n",
    "    #使用 fetchall 函数，将结果集（多维元组）存入 rows 里面\n",
    "    rows = cur.fetchall()\n",
    "\n",
    "    #依次遍历结果集，发现每个元素，就是表中的一条记录，用一个元组来显示\n",
    "    for row in rows:\n",
    "        print (row)\n"
   ]
  },
  {
   "cell_type": "code",
   "execution_count": null,
   "metadata": {
    "collapsed": true
   },
   "outputs": [],
   "source": [
    "#单个取出打印\n",
    "import MySQLdb as mdb\n",
    "import sys\n",
    " \n",
    "#获取 mysql 的链接对象\n",
    "con = mdb.connect('localhost', 'root', 'root', 'test');\n",
    "with con:\n",
    "#获取执行查询的对象\n",
    "cur = con.cursor()\n",
    "#执行那个查询，这里用的是 select 语句\n",
    "cur.execute(\"SELECT * FROM Writers\")\n",
    "#使用 cur.rowcount 获取结果集的条数\n",
    "numrows = int(cur.rowcount)\n",
    "#循环 numrows 次，每次取出一行数据\n",
    "for i in range(numrows):\n",
    "#每次取出一行，放到 row 中，这是一个元组(id,name)\n",
    "row = cur.fetchone()\n",
    "#直接输出两个元素\n",
    "print row[0], row[1]"
   ]
  },
  {
   "cell_type": "markdown",
   "metadata": {},
   "source": [
    "##### 输出表格的字段"
   ]
  },
  {
   "cell_type": "code",
   "execution_count": 8,
   "metadata": {
    "collapsed": false
   },
   "outputs": [
    {
     "name": "stdout",
     "output_type": "stream",
     "text": [
      "cur.description: (('Id', 3, 1, 11, 11, 0, 0), ('Name', 253, 17, 25, 25, 0, 1))\n",
      "Id Name\n",
      " 1 Jack London\n",
      " 2 Honore de Balzac\n",
      " 3 Lion Feuchtwanger\n",
      " 4 Emile Zola\n",
      " 5 Truman Capote\n"
     ]
    },
    {
     "name": "stderr",
     "output_type": "stream",
     "text": [
      "D:\\anaconda1\\lib\\site-packages\\ipykernel\\__main__.py:6: DeprecationWarning: context interface will be changed.  Use explicit conn.commit() or conn.rollback().\n"
     ]
    }
   ],
   "source": [
    "#获取单个表的字段名和信息的方法\n",
    "import MySQLdb as mdb\n",
    "import sys\n",
    "#获取数据库的链接对象\n",
    "con = mdb.connect('localhost', 'root', 'cdk120803', 'bmi')\n",
    "with con:\n",
    "    #获取普通的查询 cursor\n",
    "    cur = con.cursor()\n",
    "    cur.execute(\"SELECT * FROM Writers\")\n",
    "    rows = cur.fetchall()\n",
    "    #获取连接对象的描述信息\n",
    "    desc = cur.description\n",
    "    print ('cur.description:',desc)\n",
    "    #打印表头，就是字段名字\n",
    "    print (\"%s %3s\" % (desc[0][0], desc[1][0]))\n",
    "    for row in rows:\n",
    "        #打印结果\n",
    "        print (\"%2s %3s\" % row)"
   ]
  },
  {
   "cell_type": "markdown",
   "metadata": {},
   "source": [
    "#### 把图片用二进制存入 MYSQL"
   ]
  },
  {
   "cell_type": "code",
   "execution_count": 20,
   "metadata": {
    "collapsed": false,
    "scrolled": true
   },
   "outputs": [
    {
     "name": "stdout",
     "output_type": "stream",
     "text": [
      "b'\\xff\\xd8\\xff\\xe0\\\\'\n",
      "Error 1064: You have an error in your SQL syntax; check the manual that corresponds to your MySQL server version for the right syntax to use near '\\xff\\xd8\\xff\\xe0\\\\0\\x10JFIF\\\\0\\x01\\x01\\\\0\\\\0\\x01\\\\0\\x01\\\\0\\\\0\\xff\\xfe\\\\0>CREATOR' at line 1\n",
      "3\n"
     ]
    },
    {
     "ename": "SystemExit",
     "evalue": "1",
     "output_type": "error",
     "traceback": [
      "An exception has occurred, use %tb to see the full traceback.\n",
      "\u001b[1;31mSystemExit\u001b[0m\u001b[1;31m:\u001b[0m 1\n"
     ]
    },
    {
     "name": "stderr",
     "output_type": "stream",
     "text": [
      "To exit: use 'exit', 'quit', or Ctrl-D.\n"
     ]
    }
   ],
   "source": [
    "# -*- coding: utf-8 -*-\n",
    "import MySQLdb as mdb\n",
    "import sys\n",
    " \n",
    "try:\n",
    "    #用读文件模式打开图片\n",
    "    fin = open(\"D:/python_code/image/image2.jpg\",'rb')\n",
    "    #将文本读入 img 对象中\n",
    "    img = fin.read()\n",
    "    #关闭文件\n",
    "    fin.close()\n",
    "except IOError as e:\n",
    "    #如果出错，打印错误信息\n",
    "    print (\"Error %d: %s\" % (e.args[0],e.args[1]))\n",
    "    print (2)\n",
    "    sys.exit(1)\n",
    "try:\n",
    "    #链接 mysql，获取对象\n",
    "    conn = mdb.connect(host='localhost',user='root',passwd='cdk120803',db='bmi')\n",
    "    #获取执行 cursor\n",
    "    cursor = conn.cursor()\n",
    "    #直接将数据作为字符串，插入数据库\n",
    "    print (mdb.escape_string(img)[0:5])\n",
    "    cursor.execute(\"INSERT INTO Images SET Data='%s'\" % mdb.escape_string(img))\n",
    "    #提交数据\n",
    "    conn.commit()\n",
    "    #提交之后，再关闭 cursor 和链接\n",
    "    cursor.close()\n",
    "    conn.close()\n",
    "except mdb.Error as e:\n",
    "    #若出现异常，打印信息\n",
    "    print (\"Error %d: %s\" % (e.args[0],e.args[1]))\n",
    "    print (3)\n",
    "    sys.exit(1)\n",
    " "
   ]
  },
  {
   "cell_type": "code",
   "execution_count": null,
   "metadata": {
    "collapsed": true
   },
   "outputs": [],
   "source": [
    "print "
   ]
  },
  {
   "cell_type": "markdown",
   "metadata": {},
   "source": [
    "#### 从数据库中把图片读出来"
   ]
  },
  {
   "cell_type": "code",
   "execution_count": null,
   "metadata": {
    "collapsed": true
   },
   "outputs": [],
   "source": [
    "import MySQLdb as mdb\n",
    "import sys\n",
    " \n",
    "try:\n",
    "    #连接 mysql，获取连接的对象\n",
    "    conn = mdb.connect('localhost', 'root', 'root', 'test');\n",
    "    cursor = conn.cursor()\n",
    "    #执行查询该图片字段的 SQL\n",
    "    cursor.execute(\"SELECT Data FROM Images LIMIT 1\")\n",
    "    #使用二进制写文件的方法，打开一个图片文件，若不存在则自动创建\n",
    "    fout = open('image.png','wb')\n",
    "    #直接将数据如文件\n",
    "    fout.write(cursor.fetchone()[0])\n",
    "    #关闭写入的文件\n",
    "    fout.close()\n",
    "    #释放查询数据的资源\n",
    "    cursor.close()\n",
    "    conn.close()\n",
    "except IOError, e:\n",
    "    #捕获 IO 的异常 ，主要是文件写入会发生错误\n",
    "    print \"Error %d: %s\" % (e.args[0],e.args[1])\n",
    "    sys.exit(1)\n"
   ]
  },
  {
   "cell_type": "markdown",
   "metadata": {},
   "source": [
    "### 数据库更新操作"
   ]
  },
  {
   "cell_type": "code",
   "execution_count": null,
   "metadata": {
    "collapsed": true
   },
   "outputs": [],
   "source": [
    "#将 EMPLOYEE 表中的 SEX 字段为 'M' 的 AGE 字段递增 1：\n",
    "import MySQLdb\n",
    "\n",
    "# 打开数据库连接\n",
    "db = MySQLdb.connect(\"localhost\",\"testuser\",\"test123\",\"TESTDB\" )\n",
    "\n",
    "# 使用cursor()方法获取操作游标 \n",
    "cursor = db.cursor()\n",
    "\n",
    "# SQL 更新语句\n",
    "sql = \"UPDATE EMPLOYEE SET AGE = AGE + 1 WHERE SEX = '%c'\" % ('M')\n",
    "try:\n",
    "   # 执行SQL语句\n",
    "   cursor.execute(sql)\n",
    "   # 提交到数据库执行\n",
    "   db.commit()\n",
    "except:\n",
    "   # 发生错误时回滚\n",
    "   db.rollback()\n",
    "\n",
    "# 关闭数据库连接\n",
    "db.close()"
   ]
  },
  {
   "cell_type": "markdown",
   "metadata": {},
   "source": [
    "### 删除操作"
   ]
  },
  {
   "cell_type": "code",
   "execution_count": null,
   "metadata": {
    "collapsed": true
   },
   "outputs": [],
   "source": [
    "#删除数据表 EMPLOYEE 中 AGE 大于 20 的所有数据：\n",
    "import MySQLdb\n",
    "\n",
    "# 打开数据库连接\n",
    "db = MySQLdb.connect(\"localhost\",\"testuser\",\"test123\",\"TESTDB\" )\n",
    "\n",
    "# 使用cursor()方法获取操作游标 \n",
    "cursor = db.cursor()\n",
    "\n",
    "# SQL 删除语句\n",
    "sql = \"DELETE FROM EMPLOYEE WHERE AGE > '%d'\" % (20)\n",
    "try:\n",
    "   # 执行SQL语句\n",
    "   cursor.execute(sql)\n",
    "   # 提交修改\n",
    "   db.commit()\n",
    "except:\n",
    "   # 发生错误时回滚\n",
    "   db.rollback()\n",
    "\n",
    "# 关闭连接\n",
    "db.close()"
   ]
  },
  {
   "cell_type": "markdown",
   "metadata": {},
   "source": [
    "### 错误处理"
   ]
  },
  {
   "cell_type": "markdown",
   "metadata": {},
   "source": [
    "Warning\t当有严重警告时触发，例如插入数据是被截断等等。必须是 StandardError 的子类。\n",
    "Error\t警告以外所有其他错误类。必须是 StandardError 的子类。\n",
    "InterfaceError\t当有数据库接口模块本身的错误（而不是数据库的错误）发生时触发。 必须是Error的子类。\n",
    "DatabaseError\t和数据库有关的错误发生时触发。 必须是Error的子类。\n",
    "DataError\t当有数据处理时的错误发生时触发，例如：除零错误，数据超范围等等。 必须是DatabaseError的子类。\n",
    "OperationalError\t指非用户控制的，而是操作数据库时发生的错误。例如：连接意外断开、 数据库名未找到、事务处理失败、内存分配错误等等操作数                     据库是发生的错误。 必须是DatabaseError的子类。\n",
    "IntegrityError\t完整性相关的错误，例如外键检查失败等。必须是DatabaseError子类。\n",
    "InternalError\t数据库的内部错误，例如游标（cursor）失效了、事务同步失败等等。 必须是DatabaseError子类。\n",
    "ProgrammingError\t程序错误，例如数据表（table）没找到或已存在、SQL语句语法错误、 参数数量错误等等。必须是DatabaseError的子类。\n",
    "NotSupportedError\t不支持错误，指使用了数据库不支持的函数或API等。例如在连接对象上 使用.rollback()函数，然而数据库并不支持事务或者事                     务已关闭。 必须是DatabaseError的子类。"
   ]
  },
  {
   "cell_type": "markdown",
   "metadata": {},
   "source": [
    "## 实例"
   ]
  },
  {
   "cell_type": "code",
   "execution_count": null,
   "metadata": {
    "collapsed": true
   },
   "outputs": [],
   "source": [
    "import MySQLdb as mdb\n",
    "\n",
    "# 连接数据库\n",
    "conn = mdb.connect('localhost', 'root', 'root')\n",
    "\n",
    "# 也可以使用关键字参数\n",
    "conn = mdb.connect(host='127.0.0.1', port=3306, user='root', passwd='root', db='test', charset='utf8')\n",
    "\n",
    "# 也可以使用字典进行连接参数的管理\n",
    "config = {\n",
    "    'host': '127.0.0.1',\n",
    "    'port': 3306,\n",
    "    'user': 'root',\n",
    "    'passwd': 'root',\n",
    "    'db': 'test',\n",
    "    'charset': 'utf8'\n",
    "}\n",
    "conn = mdb.connect(**config)\n",
    "\n",
    "# 如果使用事务引擎，可以设置自动提交事务，或者在每次操作完成后手动提交事务conn.commit()\n",
    "conn.autocommit(1)    # conn.autocommit(True) \n",
    "\n",
    "# 使用cursor()方法获取操作游标\n",
    "cursor = conn.cursor()\n",
    "# 因该模块底层其实是调用CAPI的，所以，需要先得到当前指向数据库的指针。\n",
    "\n",
    "try:\n",
    "    # 创建数据库\n",
    "    DB_NAME = 'test'\n",
    "    cursor.execute('DROP DATABASE IF EXISTS %s' %DB_NAME)\n",
    "    cursor.execute('CREATE DATABASE IF NOT EXISTS %s' %DB_NAME)\n",
    "    conn.select_db(DB_NAME)\n",
    "\n",
    "    #创建表\n",
    "    TABLE_NAME = 'user'\n",
    "    cursor.execute('CREATE TABLE %s(id int primary key,name varchar(30))' %TABLE_NAME)\n",
    "\n",
    "    # 插入单条数据\n",
    "    sql = 'INSERT INTO user values(\"%d\",\"%s\")' %(1,\"jack\")\n",
    "\n",
    "    # 不建议直接拼接sql，占位符方面可能会出问题，execute提供了直接传值\n",
    "    value = [2,'John']\n",
    "    cursor.execute('INSERT INTO test values(%s,%s)',value)\n",
    "\n",
    "    # 批量插入数据\n",
    "    values = []\n",
    "    for i in range(3, 20):\n",
    "        values.append((i,'kk'+str(i)))\n",
    "    cursor.executemany('INSERT INTO user values(%s,%s)',values) #同时插入多条数据\n",
    "\n",
    "    # 查询数据条目\n",
    "    count = cursor.execute('SELECT * FROM %s' %TABLE_NAME)\n",
    "    print 'total records: %d' %count\n",
    "    print 'total records:', cursor.rowcount\n",
    "\n",
    "    # 获取表名信息\n",
    "    desc = cursor.description\n",
    "    print \"%s %3s\" % (desc[0][0], desc[1][0])\n",
    "\n",
    "    # 查询一条记录\n",
    "    print 'fetch one record:'\n",
    "    result = cursor.fetchone()\n",
    "    print result\n",
    "    print 'id: %s,name: %s' %(result[0],result[1])\n",
    "\n",
    "    # 查询多条记录\n",
    "    print 'fetch five record:'\n",
    "    results = cursor.fetchmany(5)\n",
    "    for r in results:\n",
    "        print r\n",
    "\n",
    "    # 查询所有记录\n",
    "    # 重置游标位置，偏移量:大于0向后移动;小于0向前移动，mode默认是relative\n",
    "    # relative:表示从当前所在的行开始移动; absolute:表示从第一行开始移动\n",
    "    cursor.scroll(0,mode='absolute')\n",
    "    results = cursor.fetchall()\n",
    "    for r in results:\n",
    "        print r\n",
    "\n",
    "    cursor.scroll(-2)\n",
    "    results = cursor.fetchall()\n",
    "    for r in results:\n",
    "        print r\n",
    "\n",
    "    # 更新记录\n",
    "    cursor.execute('UPDATE %s SET name = \"%s\" WHERE id = %s' %(TABLE_NAME,'Jack',1))\n",
    "    # 删除记录\n",
    "    cursor.execute('DELETE FROM %s WHERE id = %s' %(TABLE_NAME,2))\n",
    "\n",
    "    # 如果没有设置自动提交事务，则这里需要手动提交一次\n",
    "    conn.commit()\n",
    "except:\n",
    "    import traceback\n",
    "    traceback.print_exc()\n",
    "    # 发生错误时会滚\n",
    "    conn.rollback()\n",
    "finally:\n",
    "    # 关闭游标连接\n",
    "    cursor.close()\n",
    "    # 关闭数据库连接\n",
    "    conn.close()"
   ]
  },
  {
   "cell_type": "markdown",
   "metadata": {},
   "source": [
    "### 查询时返回字典结构\n",
    "\n",
    "MySQLdb默认查询结果都是返回tuple，通过使用不同的游标可以改变输出格式，这里传递一个cursors.DictCursor参数。"
   ]
  },
  {
   "cell_type": "code",
   "execution_count": null,
   "metadata": {
    "collapsed": true
   },
   "outputs": [],
   "source": [
    "import MySQLdb.cursors\n",
    "\n",
    "conn = MySQLdb.connect(host='localhost', user='root', passwd='root', db='test', cursorclass=MySQLdb.cursors.DictCursor)\n",
    "cursor = conn.cursor()\n",
    "\n",
    "cursor.execute('select * from user')\n",
    "r = cursor.fetchall()\n",
    "print r\n",
    "# 当使用位置参数或字典管理参数时，必须导入MySQLdb.cursors模块\n",
    "\n",
    "# 也可以用下面的写法\n",
    "import MySQLdb as mdb\n",
    "conn  = mdb.connect('localhost', 'root', 'root', 'test')\n",
    "cursor = conn.cursor(cursorclass=mdb.cursors.DictCursor)\n",
    "\n",
    "cursor.execute('select * from user')\n",
    "r = cursor.fetchall()\n",
    "print r"
   ]
  },
  {
   "cell_type": "markdown",
   "metadata": {},
   "source": [
    "### MySQLdb取回大结果集的技巧\n",
    "\n",
    "普通的操作无论是fetchall()还是fetchone()都是先将数据载入到本地再进行计算，大量的数据会导致内存资源消耗光。解决办法是使用SSCurosr光标来处理。"
   ]
  },
  {
   "cell_type": "markdown",
   "metadata": {},
   "source": [
    "# PyMySQL"
   ]
  },
  {
   "cell_type": "markdown",
   "metadata": {},
   "source": [
    "PyMySQL是一个纯Python写的MySQL客户端，它的目标是替代MySQLdb，可以在CPython、PyPy、IronPython和Jython环境下运行。\n",
    "PyMySQL的使用方法和MySQLdb几乎一样。"
   ]
  },
  {
   "cell_type": "code",
   "execution_count": null,
   "metadata": {
    "collapsed": true
   },
   "outputs": [],
   "source": [
    "import pymysql\n",
    "\n",
    "config = {\n",
    "    'host': '127.0.0.1',\n",
    "    'port': 3306,\n",
    "    'user': 'root',\n",
    "    'passwd': 'cdk120803',\n",
    "    'db':'bmi'\n",
    "    'charset':'utf8mb4',\n",
    "    'cursorclass':pymysql.cursors.DictCursor\n",
    "    }\n",
    "conn = pymysql.connect(**config)\n",
    "conn.autocommit(1)\n",
    "cursor = conn.cursor()\n",
    "\n",
    "try:\n",
    "    # 创建数据库\n",
    "    DB_NAME = 'test'\n",
    "    cursor.execute('DROP DATABASE IF EXISTS %s' %DB_NAME)\n",
    "    cursor.execute('CREATE DATABASE IF NOT EXISTS %s' %DB_NAME)\n",
    "    conn.select_db(DB_NAME)\n",
    "\n",
    "    #创建表\n",
    "    TABLE_NAME = 'user'\n",
    "    cursor.execute('CREATE TABLE %s(id int primary key,name varchar(30))' %TABLE_NAME)\n",
    "\n",
    "    # 批量插入纪录\n",
    "    values = []\n",
    "    for i in range(20):\n",
    "        values.append((i,'kk'+str(i)))\n",
    "    cursor.executemany('INSERT INTO user values(%s,%s)',values)\n",
    "\n",
    "    # 查询数据条目\n",
    "    count = cursor.execute('SELECT * FROM %s' %TABLE_NAME)\n",
    "    print 'total records:', cursor.rowcount\n",
    "\n",
    "    # 获取表名信息\n",
    "    desc = cursor.description\n",
    "    print \"%s %3s\" % (desc[0][0], desc[1][0])\n",
    "\n",
    "    cursor.scroll(10,mode='absolute')\n",
    "    results = cursor.fetchall()\n",
    "    for result in results:\n",
    "        print result\n",
    "\n",
    "except:\n",
    "    import traceback\n",
    "    traceback.print_exc()\n",
    "    # 发生错误时会滚\n",
    "    conn.rollback()\n",
    "finally:\n",
    "    # 关闭游标连接\n",
    "    cursor.close()\n",
    "    # 关闭数据库连接\n",
    "    conn.close()"
   ]
  }
 ],
 "metadata": {
  "anaconda-cloud": {},
  "kernelspec": {
   "display_name": "Python [Root]",
   "language": "python",
   "name": "Python [Root]"
  },
  "language_info": {
   "codemirror_mode": {
    "name": "ipython",
    "version": 3
   },
   "file_extension": ".py",
   "mimetype": "text/x-python",
   "name": "python",
   "nbconvert_exporter": "python",
   "pygments_lexer": "ipython3",
   "version": "3.5.1"
  }
 },
 "nbformat": 4,
 "nbformat_minor": 0
}
