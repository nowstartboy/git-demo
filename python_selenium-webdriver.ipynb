{
 "cells": [
  {
   "cell_type": "markdown",
   "metadata": {},
   "source": [
    "http://www.cnblogs.com/jinxiao-pu/p/6677782.html"
   ]
  },
  {
   "cell_type": "code",
   "execution_count": 4,
   "metadata": {
    "collapsed": false
   },
   "outputs": [
    {
     "name": "stdout",
     "output_type": "stream",
     "text": [
      "浏览器最大化\n"
     ]
    }
   ],
   "source": [
    "from selenium import webdriver\n",
    "import time\n",
    "\n",
    "chromedriver =\"E:/chromedriver_win32/chromedriver.exe\"\n",
    "browser = webdriver.Chrome(chromedriver) \n",
    "browser.get(\"http://www.baidu.com\")\n",
    "\n",
    "print (\"浏览器最大化\")\n",
    "browser.maximize_window()  #将浏览器最大化显示\n",
    "time.sleep(2)\n",
    "\n",
    "# print (\"设置浏览器宽480、高800显示\")\n",
    "# browser.set_window_size(480, 800)  #参数数字为像素点\n",
    "\n",
    "browser.find_element_by_id(\"kw\").send_keys(\"selenium\")\n",
    "browser.find_element_by_id(\"su\").click()\n",
    "\n",
    "time.sleep(10)\n",
    "browser.quit()"
   ]
  },
  {
   "cell_type": "code",
   "execution_count": 5,
   "metadata": {
    "collapsed": false
   },
   "outputs": [
    {
     "name": "stdout",
     "output_type": "stream",
     "text": [
      "now access http://www.baidu.com\n",
      "now access http://news.baidu.com\n",
      "back to  http://www.baidu.com \n",
      "forward to  http://news.baidu.com\n"
     ]
    }
   ],
   "source": [
    "#操控浏览器前进、后退\n",
    "from selenium import webdriver\n",
    "import time\n",
    "\n",
    "chromedriver =\"E:/chromedriver_win32/chromedriver.exe\"\n",
    "browser = webdriver.Chrome(chromedriver) \n",
    "\n",
    "#访问百度首页\n",
    "first_url= 'http://www.baidu.com'\n",
    "print (\"now access %s\" %(first_url))\n",
    "browser.get(first_url)\n",
    "time.sleep(2)\n",
    "\n",
    "#访问新闻页面\n",
    "second_url='http://news.baidu.com'\n",
    "print (\"now access %s\" %(second_url))\n",
    "browser.get(second_url)\n",
    "time.sleep(2)\n",
    "\n",
    "#返回（后退）到百度首页\n",
    "print (\"back to  %s \"%(first_url))\n",
    "browser.back()\n",
    "time.sleep(1)\n",
    "\n",
    "#前进到新闻页\n",
    "print (\"forward to  %s\"%(second_url))\n",
    "browser.forward()\n",
    "time.sleep(2)\n",
    "\n",
    "browser.quit()"
   ]
  },
  {
   "cell_type": "code",
   "execution_count": null,
   "metadata": {
    "collapsed": true
   },
   "outputs": [],
   "source": [
    "#简单对象的定位\n",
    "from selenium import webdriver\n",
    "import time\n",
    "\n",
    "chromedriver =\"E:/chromedriver_win32/chromedriver.exe\"\n",
    "browser = webdriver.Chrome(chromedriver) \n",
    "\n",
    "browser.get(\"http://www.baidu.com\")\n",
    "time.sleep(2)\n",
    "\n",
    "#########百度输入框的定位方式##########\n",
    "\n",
    "#通过id方式定位\n",
    "browser.find_element_by_id(\"kw\").send_keys(\"selenium\")\n",
    "\n",
    "#通过name方式定位\n",
    "browser.find_element_by_name(\"wd\").send_keys(\"selenium\")\n",
    "\n",
    "#通过tag name方式定位\n",
    "browser.find_element_by_tag_name(\"input\").send_keys(\"selenium\")\n",
    "\n",
    "#通过class name 方式定位\n",
    "browser.find_element_by_class_name(\"s_ipt\").send_keys(\"selenium\")\n",
    "\n",
    "#通过CSS方式定位\n",
    "browser.find_element_by_css_selector(\"#kw\").send_keys(\"selenium\")\n",
    "\n",
    "#通过xphan方式定位\n",
    "browser.find_element_by_xpath(\"//input[@id='kw']\").send_keys(\"selenium\")\n",
    "\n",
    "############################################\n",
    "\n",
    "browser.find_element_by_id(\"su\").click()\n",
    "time.sleep(3)\n",
    "browser.quit()"
   ]
  },
  {
   "cell_type": "markdown",
   "metadata": {},
   "source": [
    "### 定位多个选项"
   ]
  },
  {
   "cell_type": "code",
   "execution_count": null,
   "metadata": {
    "collapsed": true
   },
   "outputs": [],
   "source": [
    "#多个复选框\n",
    "from selenium import webdriver\n",
    "import time\n",
    "import os\n",
    "\n",
    "dr = webdriver.Firefox()\n",
    "file_path =  'file:///' + os.path.abspath('checkbox.html')\n",
    "dr.get(file_path)\n",
    "\n",
    "# 选择页面上所有的input，然后从中过滤出所有的checkbox并勾选之\n",
    "inputs = dr.find_elements_by_tag_name('input')\n",
    "for input in inputs:\n",
    "    if input.get_attribute('type') == 'checkbox':\n",
    "        input.click()\n",
    "time.sleep(2)\n",
    "\n",
    "# 把页面上最后1个checkbox的勾给去掉\n",
    "dr.find_elements_by_css_selector('input[type=checkbox]').pop().click()\n",
    "\n",
    "dr.quit()\n",
    "\n",
    "'''\n",
    "from selenium import webdriver\n",
    "import time\n",
    "import os\n",
    "\n",
    "dr = webdriver.Firefox()\n",
    "file_path =  'file:///' + os.path.abspath('checkbox.html')\n",
    "dr.get(file_path)\n",
    "\n",
    "# 选择所有的checkbox并全部勾上\n",
    "checkboxes = dr.find_elements_by_css_selector('input[type=checkbox]')\n",
    "for checkbox in checkboxes:\n",
    "    checkbox.click()\n",
    "time.sleep(2)\n",
    "\n",
    "# 打印当前页面上有多少个checkbox\n",
    "print len(dr.find_elements_by_css_selector('input[type=checkbox]'))\n",
    "time.sleep(2)\n",
    "\n",
    "dr.quit()\n",
    "'''"
   ]
  },
  {
   "cell_type": "markdown",
   "metadata": {},
   "source": [
    "在实际的测试中也经常会遇到这种问题：页面上有很多个属性基本相同的元素，现在需要具体定位到其中的一个。由于属性基本相当，所以在定位的时候会有些麻烦，这时候就需要用到层级定位。先定位父元素，然后再通过父元素定位子孙元素。"
   ]
  },
  {
   "cell_type": "code",
   "execution_count": null,
   "metadata": {
    "collapsed": true
   },
   "outputs": [],
   "source": [
    "# -*- coding: utf-8 -*-\n",
    "from selenium import webdriver\n",
    "from selenium.webdriver.support.ui import WebDriverWait\n",
    "import time\n",
    "import os\n",
    "\n",
    "dr = webdriver.Firefox()\n",
    "file_path =  'file:///' + os.path.abspath('level_locate.html')\n",
    "dr.get(file_path)\n",
    "\n",
    "#点击Link1链接（弹出下拉列表）\n",
    "dr.find_element_by_link_text('Link1').click()\n",
    "\n",
    "#找到id 为dropdown1的父元素   is_displayed()该元素是否用户可见\n",
    "'''\n",
    "WebDriverWait(dr, 10) \n",
    "10秒内每隔500毫秒扫描1次页面变化，当出现指定的元素后结束。\n",
    "'''\n",
    "WebDriverWait(dr, 10).until(lambda the_driver: the_driver.find_element_by_id('dropdown1').is_displayed())\n",
    "#在父亲元件下找到link为Action的子元素\n",
    "menu = dr.find_element_by_id('dropdown1').find_element_by_link_text('Action')\n",
    "\n",
    "#鼠标定位到子元素上\n",
    "'''\n",
    "move_to_element(menu)\n",
    "移动鼠标到一个元素中，menu上面已经定义了他所指向的哪一个元素\n",
    "perform()\n",
    "执行所有存储的行为\n",
    "'''\n",
    "webdriver.ActionChains(dr).move_to_element(menu).perform()\n",
    "\n",
    "time.sleep(2)\n",
    "\n",
    "dr.quit()"
   ]
  },
  {
   "cell_type": "markdown",
   "metadata": {},
   "source": [
    "WebElement  另一些常用方法：\n",
    "\n",
    "· text  获取该元素的文本\n",
    "\n",
    "· submit  提交表单\n",
    "\n",
    "· get_attribute  获得属性值"
   ]
  },
  {
   "cell_type": "code",
   "execution_count": null,
   "metadata": {
    "collapsed": true
   },
   "outputs": [],
   "source": [
    "#对对象进行操作\n",
    "from selenium import webdriver\n",
    "\n",
    "browser = webdriver.Firefox()\n",
    "\n",
    "browser.get(\"http://www.baidu.com\")\n",
    "browser.find_element_by_id(\"kw\").clear()\n",
    "browser.find_element_by_id(\"kw\").send_keys(\"selenium\")\n",
    "browser.find_element_by_id(\"su\").click()\n",
    "browser.quit()"
   ]
  },
  {
   "cell_type": "markdown",
   "metadata": {},
   "source": [
    "WebElement  另一些常用方法：\n",
    "\n",
    " \n",
    "\n",
    "· text  获取该元素的文本\n",
    "\n",
    "· submit  提交表单\n",
    "\n",
    "· get_attribute  获得属性值"
   ]
  },
  {
   "cell_type": "code",
   "execution_count": null,
   "metadata": {
    "collapsed": true
   },
   "outputs": [],
   "source": [
    "from selenium import webdriver\n",
    "\n",
    "import  time\n",
    "\n",
    "driver = webdriver.Firefox()\n",
    "driver.get(\"http://www.baidu.com\")\n",
    "time.sleep(2)\n",
    "\n",
    "#id = cp 元素的文本信息\n",
    "data=driver.find_element_by_id(\"cp\").text\n",
    "print data   #打印信息\n",
    "\n",
    "#把“百度一下”的操作从click 换成submit \n",
    "driver.find_element_by_id(\"kw\").send_keys(\"selenium\")\n",
    "time.sleep(2)\n",
    "#通过submit() 来操作\n",
    "driver.find_element_by_id(\"su\").submit() \n",
    "\n",
    "#获得属性名\n",
    "select = driver.find_element_by_tag_name(\"select\")\n",
    "allOptions = select.find_elements_by_tag_name(\"option\")\n",
    "for option in allOptions:\n",
    "    print \"Value is: \" + option.get_attribute(\"value\")\n",
    "    option.click()\n",
    "\n",
    "time.sleep(3)\n",
    "driver.quit()"
   ]
  },
  {
   "cell_type": "code",
   "execution_count": null,
   "metadata": {
    "collapsed": true
   },
   "outputs": [],
   "source": [
    "#frame.html 中嵌套inner.html ，两个文件和我们的脚本文件放同一个目录下：switch_to_frame\n",
    "from selenium import webdriver\n",
    "import time\n",
    "import os\n",
    "\n",
    "browser = webdriver.Firefox()\n",
    "file_path =  'file:///' + os.path.abspath('frame.html')\n",
    "browser.get(file_path)\n",
    "\n",
    "browser.implicitly_wait(30)\n",
    "#先找到到ifrome1（id = f1）\n",
    "browser.switch_to_frame(\"f1\")\n",
    "#再找到其下面的ifrome2(id =f2)\n",
    "browser.switch_to_frame(\"f2\")\n",
    "\n",
    "\n",
    "#下面就可以正常的操作元素了\n",
    "browser.find_element_by_id(\"kw\").send_keys(\"selenium\")\n",
    "browser.find_element_by_id(\"su\").click()\n",
    "time.sleep(3)\n",
    "\n",
    "browser.quit()"
   ]
  },
  {
   "cell_type": "markdown",
   "metadata": {},
   "source": [
    "driver.switch_to_window()\n",
    "  有可能嵌套的不是框架，而是窗口，还有真对窗口的方法：switch_to_window用法与switch_to_frame 相同：\n",
    "  driver.switch_to_window(\"windowName\")\n",
    "  \n",
    "implicitly_wait()\n",
    "  细心的话会发现上面的例子中有browser.implicitly_wait(30)，它的用法应该比time.sleep() 更智能，后者只能选择一个固定的时间的等待，前者可以在一个时间范围内智能的等待。 隐式地等待一个无素被发现或一个命令完成；这个方法每次会话只需要调用一次"
   ]
  },
  {
   "cell_type": "code",
   "execution_count": null,
   "metadata": {
    "collapsed": true
   },
   "outputs": [],
   "source": [
    "调用js方法\n",
    "   execute_script(script, *args)  在当前窗口/框架 同步执行javaScript\n",
    "\n",
    "脚本：JavaScript的执行。\n",
    "   *参数：适用任何JavaScript脚本。\n",
    "    使用：driver.execute_script（‘document.title’）"
   ]
  },
  {
   "cell_type": "code",
   "execution_count": null,
   "metadata": {
    "collapsed": true
   },
   "outputs": [],
   "source": [
    "#使快播登陆用户名输入框标红显示：\n",
    "from selenium import webdriver\n",
    "import time\n",
    "\n",
    "chromedriver =\"E:/chromedriver_win32/chromedriver.exe\"\n",
    "driver = webdriver.Chrome(chromedriver) \n",
    "\n",
    "driver.get(\"http://passport.kuaibo.com/login/?referrer=http%3A%2F%2Fvod.kuaibo.com%2F%3Ft%3Dhome\")\n",
    "\n",
    "#给用户名的输入框标红\n",
    "js=\"var q=document.getElementById(\\\"user_name\\\");q.style.border=\\\"1px solid red\\\";\"\n",
    "#调用js\n",
    "driver.execute_script(js)\n",
    "time.sleep(3)\n",
    "\n",
    "driver.find_element_by_id(\"user_name\").send_keys(\"username\")\n",
    "driver.find_element_by_id(\"user_pwd\").send_keys(\"password\")\n",
    "driver.find_element_by_id(\"dl_an_submit\").click()\n",
    "time.sleep(3)\n",
    "\n",
    "driver.quit()\n",
    "'''\n",
    "js解释：q=document.getElementById(\\\"user_name\\\")\n",
    "元素q的id 为user_name\n",
    "q.style.border=\\\"1px solid red\\\n",
    "元素q的样式，边框为1个像素红色\n",
    "'''"
   ]
  },
  {
   "cell_type": "code",
   "execution_count": 4,
   "metadata": {
    "collapsed": false
   },
   "outputs": [],
   "source": [
    "#上传文件\n",
    "from selenium import webdriver\n",
    "import os,time\n",
    "\n",
    "chromedriver =\"E:/chromedriver_win32/chromedriver.exe\"\n",
    "driver = webdriver.Chrome(chromedriver) \n",
    "\n",
    "#脚本要与upload_file.html同一目录\n",
    "file_path =  'E:/HTML/file.html'\n",
    "driver.get(file_path)\n",
    "\n",
    "#定位上传按钮，添加本地文件\n",
    "driver.find_element_by_name(\"file\").send_keys('E:\\machine_data\\Titanic Machine Learning from Disaster\\2.txt')\n",
    "time.sleep(2)\n",
    "\n",
    "driver.quit()"
   ]
  },
  {
   "cell_type": "code",
   "execution_count": null,
   "metadata": {
    "collapsed": true
   },
   "outputs": [],
   "source": [
    "#登陆基础版的139邮箱\n",
    "from selenium import webdriver\n",
    "import os,time\n",
    "\n",
    "chromedriver =\"E:/chromedriver_win32/chromedriver.exe\"\n",
    "driver = webdriver.Chrome(chromedriver) \n",
    "\n",
    "driver.get(\"http://m.mail.10086.cn\")\n",
    "driver.implicitly_wait(30)\n",
    "\n",
    "#登陆\n",
    "driver.find_element_by_id(\"ur\").send_keys(\"手机号\")\n",
    "driver.find_element_by_id(\"pw\").send_keys(\"密码\")\n",
    "driver.find_element_by_class_name(\"loading_btn\").click()\n",
    "time.sleep(3)\n",
    "\n",
    "#进入139网盘模块\n",
    "driver.find_element_by_xpath(\"/html/body/div[3]/a[9]/span[2]\").click()\n",
    "time.sleep(3)\n",
    "\n",
    "#上传文件\n",
    "driver.find_element_by_id(\"id_file\").send_keys('D:\\\\selenium_use_case\\upload_file.txt')\n",
    "time.sleep(5)\n",
    "\n",
    "driver.quit()"
   ]
  },
  {
   "cell_type": "code",
   "execution_count": 14,
   "metadata": {
    "collapsed": true
   },
   "outputs": [],
   "source": [
    "#下拉框\n",
    "from selenium import webdriver\n",
    "\n",
    "import os,time\n",
    "\n",
    "chromedriver =\"E:/chromedriver_win32/chromedriver.exe\"\n",
    "driver = webdriver.Chrome(chromedriver) \n",
    " \n",
    "\n",
    "file_path =  'E:/HTML/drop_down.html'\n",
    "\n",
    "driver.get(file_path)\n",
    "\n",
    "time.sleep(2)\n",
    "\n",
    "m=driver.find_element_by_id(\"ShippingMethod\")\n",
    "\n",
    "m.find_element_by_xpath(\"//option[@value='10.69']\").click()\n",
    "\n",
    "time.sleep(3)\n",
    "\n",
    "driver.quit()"
   ]
  },
  {
   "cell_type": "code",
   "execution_count": 24,
   "metadata": {
    "collapsed": false
   },
   "outputs": [],
   "source": [
    "from selenium import webdriver\n",
    "\n",
    "import os,time\n",
    "\n",
    "chromedriver =\"E:/chromedriver_win32/chromedriver.exe\"\n",
    "driver = webdriver.Chrome(chromedriver) \n",
    "\n",
    "\n",
    "driver.get(\"https://www.baidu.com\")\n",
    "\n",
    "\n",
    "#进入搜索设置页\n",
    "\n",
    "driver.find_element_by_link_text(\"设置\").click()\n",
    "driver.find_element_by_link_text(\"搜索设置\").click()\n",
    "\n",
    "\n",
    "#设置每页搜索结果为100条  此行不匹配\n",
    "\n",
    "# m=driver.find_element_by_id(\"nr\")\n",
    "\n",
    "# m.find_element_by_xpath(\"//option[@value='50']\").click()\n",
    "\n",
    "time.sleep(2)\n",
    "\n",
    "\n",
    "#保存设置的信息\n",
    "\n",
    "\n",
    "driver.find_element_by_link_text(\"保存设置\").click()\n",
    "\n",
    "time.sleep(2)\n",
    "\n",
    "driver.switch_to_alert().accept()\n",
    "\n",
    "\n",
    "\n",
    "#跳转到百度首页后，进行搜索表（一页应该显示100条结果）\n",
    "\n",
    "driver.find_element_by_id(\"kw\").send_keys(\"selenium\")\n",
    "\n",
    "driver.find_element_by_id(\"su\").click()\n",
    "\n",
    "time.sleep(3)\n",
    "\n",
    "driver.quit()"
   ]
  },
  {
   "cell_type": "markdown",
   "metadata": {},
   "source": [
    "当我们在保存百度的设置时会会弹出一个确定按钮；我们并没按照常规的方法去定位弹窗上的“确定”按钮，而是使用：\n",
    "\n",
    "driver.switch_to_alert().accept()\n",
    "\n",
    " 完成了操作，这是因为弹窗比较是一个具有唯一性的警告信息，所以可以用这种简便的方法处理。\n",
    "\n",
    "–  switch_to_alert()  \n",
    "\n",
    "焦点集中到页面上的一个警告（提示）\n",
    "\n",
    "– accept()\n",
    "接受警告提示"
   ]
  },
  {
   "cell_type": "code",
   "execution_count": 27,
   "metadata": {
    "collapsed": false
   },
   "outputs": [],
   "source": [
    "#控制滚动条到底部\n",
    "from selenium import webdriver\n",
    "import time\n",
    "\n",
    "#访问百度\n",
    "chromedriver =\"E:/chromedriver_win32/chromedriver.exe\"\n",
    "driver = webdriver.Chrome(chromedriver) \n",
    "\n",
    "driver.get(\"http://www.baidu.com\")\n",
    "\n",
    "#搜索\n",
    "driver.find_element_by_id(\"kw\").send_keys(\"selenium\")\n",
    "driver.find_element_by_id(\"su\").click()\n",
    "time.sleep(3)\n",
    "\n",
    "#将页面滚动条拖到底部\n",
    "js=\"var q=document.documentElement.scrollTop=10000\"\n",
    "driver.execute_script(js)\n",
    "time.sleep(3)\n",
    "\n",
    "\n",
    "#将滚动条移动到页面的顶部\n",
    "js=\"var q=document.documentElement.scrollTop=0\"\n",
    "driver.execute_script(js)\n",
    "time.sleep(3)\n",
    "\n",
    "driver.quit()"
   ]
  },
  {
   "cell_type": "code",
   "execution_count": null,
   "metadata": {
    "collapsed": true
   },
   "outputs": [],
   "source": [
    "JS控制滚动条的位置：\n",
    "window.scrollTo(x,y);\n",
    "竖向滚动条置顶 window.scrollTo(0,0);\n",
    "竖向滚动条置底 window.scrollTo(0,document.body.scrollHeight)\n",
    "JS控制TextArea滚动条自动滚动到最下部\n",
    "document.getElementByIdx_x('textarea').scrollTop = document.getElementByIdx_x('textarea').scrollHeight"
   ]
  },
  {
   "cell_type": "code",
   "execution_count": null,
   "metadata": {
    "collapsed": true
   },
   "outputs": [],
   "source": [
    "#键盘按键键用法：\n",
    "from selenium import webdriver\n",
    "from selenium.webdriver.common.keys import Keys  #需要引入keys包\n",
    "import os,time\n",
    "\n",
    "driver = webdriver.Firefox()\n",
    "driver.get(\"http://passport.kuaibo.com/login/?referrer=http%3A%2F%2Fwebcloud.kuaibo.com%2F\")\n",
    "\n",
    "time.sleep(3)\n",
    "driver.maximize_window() # 浏览器全屏显示\n",
    "\n",
    "driver.find_element_by_id(\"user_name\").clear()\n",
    "driver.find_element_by_id(\"user_name\").send_keys(\"fnngj\")\n",
    "\n",
    "#tab的定位相相于清除了密码框的默认提示信息，等同上面的clear()\n",
    "driver.find_element_by_id(\"user_name\").send_keys(Keys.TAB)\n",
    "time.sleep(3)\n",
    "driver.find_element_by_id(\"user_pwd\").send_keys(\"123456\")\n",
    "\n",
    "#通过定位密码框，enter（回车）来代替登陆按钮\n",
    "driver.find_element_by_id(\"user_pwd\").send_keys(Keys.ENTER)\n",
    "'''\n",
    "#也可定位登陆按钮，通过enter（回车）代替click()\n",
    "driver.find_element_by_id(\"login\").send_keys(Keys.ENTER)\n",
    "'''\n",
    "time.sleep(3)\n",
    "\n",
    "time.sleep(3)\n",
    "driver.quit()"
   ]
  },
  {
   "cell_type": "code",
   "execution_count": 29,
   "metadata": {
    "collapsed": true
   },
   "outputs": [],
   "source": [
    "#键盘组合键用法：\n",
    "from selenium import webdriver\n",
    "from selenium.webdriver.common.keys import Keys\n",
    "import os,time\n",
    "\n",
    "chromedriver =\"E:/chromedriver_win32/chromedriver.exe\"\n",
    "driver = webdriver.Chrome(chromedriver) \n",
    "\n",
    "driver.get(\"http://www.baidu.com\")\n",
    "\n",
    "#输入框输入内容\n",
    "driver.find_element_by_id(\"kw\").send_keys(\"selenium\")\n",
    "time.sleep(3)\n",
    "\n",
    "#ctrl+a 全选输入框内容\n",
    "driver.find_element_by_id(\"kw\").send_keys(Keys.CONTROL,'a')\n",
    "time.sleep(3)\n",
    "\n",
    "#ctrl+x 剪切输入框内容\n",
    "driver.find_element_by_id(\"kw\").send_keys(Keys.CONTROL,'x')\n",
    "time.sleep(3)\n",
    "\n",
    "#输入框重新输入内容，搜索\n",
    "driver.find_element_by_id(\"kw\").send_keys(u\"虫师 cnblogs\")\n",
    "driver.find_element_by_id(\"su\").click()\n",
    "\n",
    "time.sleep(3)\n",
    "driver.quit()"
   ]
  },
  {
   "cell_type": "code",
   "execution_count": null,
   "metadata": {
    "collapsed": true
   },
   "outputs": [],
   "source": [
    "#输入中文问题 selenium2 python在send_keys()中输入中文一直报错，其实前面加个小u 就解决了：\n",
    "#   send_keys(u\"输入中文\")\n",
    "#基本上键盘上所有的按键都可以模拟\n",
    "module:selenium.webdriver.common.keys\n",
    "• class Keys()\n",
    "– NULL = u’ue000’\n",
    "– CANCEL = u’ue001’ # ^break\n",
    "– HELP = u’ue002’\n",
    "– BACK_SPACE = u’ue003’\n",
    "– TAB = u’ue004’\n",
    "– CLEAR = u’ue005’\n",
    "– RETURN = u’ue006’\n",
    "– ENTER = u’ue007’\n",
    "– SHIFT = u’ue008’\n",
    "– LEFT_SHIFT = u’ue008’ # alias\n",
    "– CONTROL = u’ue009’\n",
    "– LEFT_CONTROL = u’ue009’ # alias\n",
    "– ALT = u’ue00a’\n",
    "– LEFT_ALT = u’ue00a’ # alias\n",
    "– PAUSE = u’ue00b’\n",
    "– ESCAPE = u’ue00c’\n",
    "– SPACE = u’ue00d’\n",
    "– PAGE_UP = u’ue00e’\n",
    "– PAGE_DOWN = u’ue00f’\n",
    "– END = u’ue010’\n",
    "– HOME = u’ue011’\n",
    "– LEFT = u’ue012’\n",
    "– ARROW_LEFT = u’ue012’ # alias\n",
    "– UP = u’ue013’\n",
    "– ARROW_UP = u’ue013’ # alias\n",
    "– RIGHT = u’ue014’\n",
    "– ARROW_RIGHT = u’ue014’ # alias\n",
    "– DOWN = u’ue015’\n",
    "– ARROW_DOWN = u’ue015’ # alias\n",
    "– INSERT = u’ue016’\n",
    "– DELETE = u’ue017’\n",
    "– SEMICOLON = u’ue018’\n",
    "– EQUALS = u’ue019’\n",
    "– NUMPAD0 = u’ue01a’ # numbe pad keys\n",
    "– NUMPAD1 = u’ue01b’\n",
    "– NUMPAD2 = u’ue01c’\n",
    "– NUMPAD3 = u’ue01d’\n",
    "– NUMPAD4 = u’ue01e’\n",
    "– NUMPAD5 = u’ue01f’\n",
    "– NUMPAD6 = u’ue020’\n",
    "– NUMPAD7 = u’ue021’\n",
    "– NUMPAD8 = u’ue022’\n",
    "– NUMPAD9 = u’ue023’\n",
    "– MULTIPLY = u’ue024’\n",
    "– ADD = u’ue025’\n",
    "– SEPARATOR = u’ue026’\n",
    "– SUBTRACT = u’ue027’\n",
    "– DECIMAL = u’ue028’\n",
    "– DIVIDE = u’ue029’\n",
    "– F1 = u’ue031’ # function keys\n",
    "– F2 = u’ue032’\n",
    "– F3 = u’ue033’\n",
    "– F4 = u’ue034’\n",
    "– F5 = u’ue035’\n",
    "– F6 = u’ue036’\n",
    "– F7 = u’ue037’\n",
    "– F8 = u’ue038’\n",
    "– F9 = u’ue039’\n",
    "– F10 = u’ue03a’\n",
    "– F11 = u’ue03b’\n",
    "– F12 = u’ue03c’\n",
    "– META = u’ue03d’\n",
    "– COMMAND = u’ue03d’"
   ]
  },
  {
   "cell_type": "code",
   "execution_count": null,
   "metadata": {
    "collapsed": true
   },
   "outputs": [],
   "source": [
    "#cookie处理\n",
    "driver.get_cookies（） 获得cookie信息\n",
    "add_cookie(cookie_dict)  向cookie添加会话信息\n",
    "delete_cookie(name)   删除特定(部分)的cookie\n",
    "delete_all_cookies()    删除所有cookie"
   ]
  },
  {
   "cell_type": "code",
   "execution_count": 30,
   "metadata": {
    "collapsed": false
   },
   "outputs": [
    {
     "name": "stdout",
     "output_type": "stream",
     "text": [
      "[{'domain': '.youdao.com', 'expiry': 2446341954.69249, 'value': '-268567863@124.127.207.158', 'httpOnly': False, 'secure': False, 'path': '/', 'name': 'OUTFOX_SEARCH_USER_ID'}, {'domain': '.youdao.com', 'value': 'be3af0da19b5c5e6aa4e17bd8d90b28a|', 'httpOnly': False, 'secure': False, 'path': '/', 'name': 'DICT_UGC'}, {'domain': '.youdao.com', 'value': 'abcF3L57YwArue4rlLo1v', 'httpOnly': False, 'secure': False, 'path': '/', 'name': 'JSESSIONID'}, {'domain': 'www.youdao.com', 'value': '1500261954877', 'httpOnly': False, 'secure': False, 'path': '/', 'name': '___rl__test__cookies'}, {'domain': '.youdao.com', 'expiry': 1563333954, 'value': '1396835646.1681054', 'httpOnly': False, 'secure': False, 'path': '/', 'name': 'OUTFOX_SEARCH_USER_ID_NCOO'}]\n"
     ]
    }
   ],
   "source": [
    "from selenium import webdriver\n",
    "import time\n",
    "\n",
    "chromedriver =\"E:/chromedriver_win32/chromedriver.exe\"\n",
    "driver = webdriver.Chrome(chromedriver) \n",
    "driver.get(\"http://www.youdao.com\")\n",
    "\n",
    "# 获得cookie信息\n",
    "cookie= driver.get_cookies()\n",
    "\n",
    "#将获得cookie的信息打印\n",
    "print (cookie)\n",
    "\n",
    "driver.quit()"
   ]
  },
  {
   "cell_type": "code",
   "execution_count": 32,
   "metadata": {
    "collapsed": false
   },
   "outputs": [
    {
     "name": "stdout",
     "output_type": "stream",
     "text": [
      "key-aaaaaaa -> value-bbbb\n",
      "OUTFOX_SEARCH_USER_ID -> 647841391@124.127.207.158\n",
      "DICT_UGC -> be3af0da19b5c5e6aa4e17bd8d90b28a|\n",
      "JSESSIONID -> abcz-2XepvVtQbX2CLo1v\n",
      "___rl__test__cookies -> 1500262026633\n",
      "OUTFOX_SEARCH_USER_ID_NCOO -> 1924113083.0479224\n"
     ]
    }
   ],
   "source": [
    "#对cookie进行操作\n",
    "from selenium import webdriver\n",
    "import time\n",
    "\n",
    "chromedriver =\"E:/chromedriver_win32/chromedriver.exe\"\n",
    "driver = webdriver.Chrome(chromedriver)\n",
    "\n",
    "driver.get(\"http://www.youdao.com\")\n",
    "\n",
    "\n",
    "#向cookie的name 和value添加会话信息。\n",
    "driver.add_cookie({'name':'key-aaaaaaa', 'value':'value-bbbb'})\n",
    "\n",
    "#遍历cookies中的name 和value信息打印，当然还有上面添加的信息\n",
    "for cookie in driver.get_cookies():\n",
    "    print (\"%s -> %s\" % (cookie['name'], cookie['value']))\n",
    "\n",
    "\n",
    "# 下面可以通过两种方式删除cookie\n",
    "# 删除一个特定的cookie\n",
    "driver.delete_cookie(\"CookieName\")\n",
    "# 删除所有cookie\n",
    "driver.delete_all_cookies()\n",
    "\n",
    "time.sleep(2)\n",
    "driver.close()"
   ]
  },
  {
   "cell_type": "code",
   "execution_count": null,
   "metadata": {
    "collapsed": true
   },
   "outputs": [],
   "source": [
    "#通过博客园登陆来分析cookie\n",
    "from selenium import webdriver\n",
    "import time\n",
    "\n",
    "chromedriver =\"E:/chromedriver_win32/chromedriver.exe\"\n",
    "driver = webdriver.Chrome(chromedriver)\n",
    "\n",
    "driver.get(\"http://passport.cnblogs.com/login.aspx?ReturnUrl=http://www.cnblogs.com/fnng/admin/EditPosts.aspx\")\n",
    "\n",
    "time.sleep(3)\n",
    "driver.maximize_window() # 浏览器全屏显示\n",
    "\n",
    "#通过用户名密码登陆\n",
    "driver.find_element_by_id(\"tbUserName\").send_keys(\"fnngj\")\n",
    "driver.find_element_by_id(\"tbPassword\").send_keys(\"123456\")\n",
    "\n",
    "#勾选保存密码\n",
    "driver.find_element_by_id(\"chkRemember\").click()\n",
    "time.sleep(3)\n",
    "#点击登陆按钮\n",
    "driver.find_element_by_id(\"btnLogin\").click()\n",
    "\n",
    "#获取cookie信息并打印\n",
    "cookie= driver.get_cookies()\n",
    "print (cookie)\n",
    "\n",
    "time.sleep(2)\n",
    "driver.close()\n",
    "'''\n",
    "两次运行结果的cookie的何不同：\n",
    "u'expiry': None\n",
    "u'expiry': 1379502502\n",
    "'''"
   ]
  },
  {
   "cell_type": "markdown",
   "metadata": {},
   "source": [
    "ActionChains 类\n",
    "  context_click()  右击\n",
    "  double_click()   双击\n",
    "  drag_and_drop()  拖动"
   ]
  },
  {
   "cell_type": "code",
   "execution_count": null,
   "metadata": {
    "collapsed": true
   },
   "outputs": [],
   "source": [
    "from selenium import webdriver\n",
    "from selenium.webdriver.common.action_chains import ActionChains\n",
    "import time\n",
    "\n",
    "chromedriver =\"E:/chromedriver_win32/chromedriver.exe\"\n",
    "driver = webdriver.Chrome(chromedriver)\n",
    "\n",
    "driver.get(\"http://passport.kuaibo.com/login/?referrer=http%3A%2F%2Fwebcloud.kuaibo.com%2F\")\n",
    "\n",
    "#登陆快播私有云\n",
    "driver.find_element_by_id(\"user_name\").send_keys(\"username\")\n",
    "driver.find_element_by_id(\"user_pwd\").send_keys(\"123456\")\n",
    "driver.find_element_by_id(\"dl_an_submit\").click()\n",
    "time.sleep(3)\n",
    "\n",
    "#定位到要右击的元素\n",
    "qqq =driver.find_element_by_xpath(\"/html/body/div/div[2]/div[2]/div/div[3]/table/tbody/tr/td[2]\")\n",
    "#对定位到的元素执行鼠标右键操作\n",
    "ActionChains(driver).context_click(qqq).perform()\n",
    "\n",
    "\n",
    "'''\n",
    "#你也可以使用三行的写法，但我觉得上面两行写法更容易理解\n",
    "chain = ActionChains(driver)\n",
    "implement = driver.find_element_by_xpath(\"/html/body/div/div[2]/div[2]/div/div[3]/table/tbody/tr/td[2]\")\n",
    "chain.context_click(implement).perform()\n",
    "'''\n",
    "\n",
    "time.sleep(3) #休眠3秒\n",
    "driver.close()"
   ]
  },
  {
   "cell_type": "code",
   "execution_count": null,
   "metadata": {
    "collapsed": true
   },
   "outputs": [],
   "source": [
    "#定位到要双击的元素\n",
    "qqq =driver.find_element_by_xpath(\"xxx\")\n",
    "#对定位到的元素执行鼠标双击操作\n",
    "ActionChains(driver).double_click(qqq).perform()"
   ]
  },
  {
   "cell_type": "code",
   "execution_count": null,
   "metadata": {
    "collapsed": true
   },
   "outputs": [],
   "source": [
    "#定位元素的原位置\n",
    "element = driver.find_element_by_name(\"source\")\n",
    "#定位元素要移动到的目标位置\n",
    "target =  driver.find_element_by_name(\"target\")\n",
    "\n",
    "#执行元素的移动操作\n",
    "ActionChains(driver).drag_and_drop(element, target).perform()"
   ]
  },
  {
   "cell_type": "code",
   "execution_count": null,
   "metadata": {
    "collapsed": true
   },
   "outputs": [],
   "source": []
  }
 ],
 "metadata": {
  "anaconda-cloud": {},
  "kernelspec": {
   "display_name": "Python [Root]",
   "language": "python",
   "name": "Python [Root]"
  },
  "language_info": {
   "codemirror_mode": {
    "name": "ipython",
    "version": 3
   },
   "file_extension": ".py",
   "mimetype": "text/x-python",
   "name": "python",
   "nbconvert_exporter": "python",
   "pygments_lexer": "ipython3",
   "version": "3.5.1"
  }
 },
 "nbformat": 4,
 "nbformat_minor": 0
}
