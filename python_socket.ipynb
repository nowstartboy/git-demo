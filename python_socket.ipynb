{
 "cells": [
  {
   "cell_type": "markdown",
   "metadata": {},
   "source": [
    "### 套接字内接方法"
   ]
  },
  {
   "cell_type": "markdown",
   "metadata": {},
   "source": [
    "服务器套接字方法 \n",
    "s.bind() 将地址（主机名、端口号对）绑定到套接字上 \n",
    "s.listen() 设置并启动 TCP 监听器 \n",
    "s.accept() 被动接受 TCP 客户端连接，一直等待直到连接到达（阻塞） 客户端套接字方法 \n",
    "s.connect() 主动发起 TCP 服务器连接 \n",
    "s.connect_ex() connect()的扩展版本，此时会以错误码的形式返回问题，而不是抛出一个异常 普通的套接字方法 \n",
    "s.recv() 接收 TCP 消息 \n",
    "s.recv_into()  接收 TCP 消息到指定的缓冲区 "
   ]
  },
  {
   "cell_type": "markdown",
   "metadata": {},
   "source": [
    "s.send() 发送 TCP 消息 \n",
    "s.sendall() 完整地发送 TCP 消息 \n",
    "s.recvfrom() 接收 UDP 消息 \n",
    "s.recvfrom_into()  接收 UDP 消息到指定的缓冲区 \n",
    "s.sendto() 发送 UDP 消息 \n",
    "s.getpeername() 连接到套接字（TCP）的远程地址 \n",
    "s.getsockname() 当前套接字的地址 \n",
    "s.getsockopt() 返回给定套接字选项的值 \n",
    "s.setsockopt() 设置给定套接字选项的值 \n",
    "s.shutdown() 关闭连接 \n",
    "s.close() 关闭套接字 \n",
    "s.detach() 在未关闭文件描述符的情况下关闭套接字，返回文件描述符 \n",
    "s.ioctl()③ 控制套接字的模式（仅支持 Windows） \n",
    "\n",
    "面向阻塞的套接字方法 \n",
    "s.setblocking() 设置套接字的阻塞或非阻塞模式 \n",
    "s.settimeout() 设置阻塞套接字操作的超时时间 \n",
    "s.gettimeout() 获取阻塞套接字操作的超时时间 \n",
    "\n",
    "面向文件的套接字方法 \n",
    "s.fileno() 套接字的文件描述符 \n",
    "s.makefile() 创建与套接字关联的文件对象\n",
    "\n",
    "数据属性  \n",
    "s.family 套接字家族 \n",
    "s.type 套接字类型 \n",
    "s.proto 套接字协议"
   ]
  },
  {
   "cell_type": "code",
   "execution_count": null,
   "metadata": {
    "collapsed": true
   },
   "outputs": [],
   "source": [
    "③ Python 2.6 中新增，仅仅支持 Windows 平台；POSIX 系统可以使用 functl 模块函数。 "
   ]
  },
  {
   "cell_type": "markdown",
   "metadata": {},
   "source": [
    "在本章众多的例子中，你会经常看到指示主机“localhost”的代码和输出，或者看到 127.0.0.1 的 IP 地址。在这里的示例中，客户端和服务器运行在同一台计算机上。不过， 鼓励读者修改主机名，并将代码复制到不同的计算机上，因为这样开发的代码运行起来更 加有趣，让计算机通过网络相互通信，然后可以看到网络程序确实能够工作！  "
   ]
  },
  {
   "cell_type": "code",
   "execution_count": null,
   "metadata": {
    "collapsed": true
   },
   "outputs": [],
   "source": [
    "#创建TCP服务器伪代码\n",
    "ss = socket()          # 创建服务器套接字 \n",
    "ss.bind()                # 套接字与地址绑定 \n",
    "ss.listen()              # 监听连接 \n",
    "inf_loop:               # 服务器无限循环     \n",
    "   cs = ss.accept()        # 接受客户端连接     \n",
    "   comm_loop:            # 通信循环         \n",
    "         cs.recv()/cs.send()  # 对话（接收/发送）     \n",
    "   cs.close()              # 关闭客户端套接字 \n",
    "ss.close()               # 关闭服务器套接字#（可选） "
   ]
  },
  {
   "cell_type": "code",
   "execution_count": null,
   "metadata": {
    "collapsed": true
   },
   "outputs": [],
   "source": [
    "#创建 TCP 客户端 \n",
    "cs = socket()               # 创建客户端套接字 \n",
    "cs.connect()                # 尝试连接服务器 \n",
    "comm_loop:                  # 通信循环     \n",
    "    cs.send()/cs.recv()     # 对话（发送/接收） \n",
    "cs.close()                  # 关闭客户端套接字  "
   ]
  },
  {
   "cell_type": "code",
   "execution_count": 2,
   "metadata": {
    "collapsed": false
   },
   "outputs": [
    {
     "name": "stdout",
     "output_type": "stream",
     "text": [
      "raw_input: dsf\n"
     ]
    }
   ],
   "source": [
    "raw_input_A = input(\"raw_input: \")"
   ]
  },
  {
   "cell_type": "code",
   "execution_count": 3,
   "metadata": {
    "collapsed": false
   },
   "outputs": [
    {
     "data": {
      "text/plain": [
       "'dsf'"
      ]
     },
     "execution_count": 3,
     "metadata": {},
     "output_type": "execute_result"
    }
   ],
   "source": [
    "raw_input_A"
   ]
  },
  {
   "cell_type": "markdown",
   "metadata": {},
   "source": [
    "### socket 模块属性 "
   ]
  },
  {
   "cell_type": "markdown",
   "metadata": {},
   "source": [
    "数据属性 \n",
    "AF_UNIX、AF_INET、AF_INET6①、 AF_NETLINK②、AF_TIPC③  Python 中支持的套接字地址家族 \n",
    "SO_STREAM、SO_DGRAM 套接字类型（TCP=流，UDP=数据报） \n",
    "has_ipv6④ 指示是否支持 IPv6 的布尔标记 \n",
    "\n",
    "异常 \n",
    "error 套接字相关错误 \n",
    "herror① 主机和地址相关错误 \n",
    "gaierror① 地址相关错误 \n",
    "timeout 超时时间 \n",
    "\n",
    "函数 \n",
    "socket() 以给定的地址家族、套接字类型和协议类型（可选）创建一个套接字对象 \n",
    "socketpair()⑤ 以给定的地址家族、套接字类型和协议类型（可选）创建一对套接字对象 \n",
    "create_connection() 常规函数，它接收一个地址（主机名，端口号）对，返回套接字对象 \n",
    "fromfd() 以一个打开的文件描述符创建一个套接字对象 \n",
    "ssl() 通过套接字启动一个安全套接字层连接；不执行证书验证 \n",
    "getaddrinfo()① 获取一个五元组序列形式的地址信息 \n",
    "getnameinfo() 给定一个套接字地址，返回（主机名，端口号）二元组 \n",
    "getfqdn()⑥ 返回完整的域名 \n",
    "gethostname() 返回当前主机名 \n",
    "gethostbyname() 将一个主机名映射到它的 IP 地址 \n",
    "\n",
    "gethostbyname_ex() gethostbyname()的扩展版本，它返回主机名、别名主机集合和 IP 地址列表 \n",
    "gethostbyaddr() 将一个 IP 地址映射到 DNS 信息；返回与 gethostbyname_ex()相同的 3 元组 \n",
    "getprotobyname() 将一个协议名（如‘tcp’）映射到一个数字 \n",
    "getservbyname()/getservbyport() 将一个服务名映射到一个端口号，或者反过来；对于任何一个函数来说，协议名都是可 选的 \n",
    "ntohl()/ntohs() 将来自网络的整数转换为主机字节顺序 \n",
    "htonl()/htons() 将来自主机的整数转换为网络字节顺序 \n",
    "inet_aton()/inet_ntoa() 将 IP 地址八进制字符串转换成 32 位的包格式，或者反过来（仅用于 IPv4 地址） \n",
    "inet_pton()/inet_ntop() 将IP 地址字符串转换成打包的二进制格式，或者反过来（同时适用于 IPv4 和IPv6 地址） \n",
    "getdefaulttimeout()/setdefaulttimeout() 以秒（浮点数）为单位返回默认套接字超时时间；以秒（浮点数）为单位设置默认套接 字超时时间"
   ]
  },
  {
   "cell_type": "markdown",
   "metadata": {},
   "source": [
    "### SocketServer 模块 "
   ]
  },
  {
   "cell_type": "code",
   "execution_count": null,
   "metadata": {
    "collapsed": true
   },
   "outputs": [],
   "source": [
    "BaseServer 包含核心服务器功能和 mix-in 类的钩子；仅用于推导，这样不会创建这个类 的实例；可以用 TCPServer 或 UDPServer 创建类的实例 \n",
    "TCPServer/UDPServer 基础的网络同步 TCP/UDP 服务器 \n",
    "UnixStreamServer/UnixDatagramServer 基于文件的基础同步 TCP/UDP 服务器 \n",
    "ForkingMixIn/ThreadingMixIn 核心派出或线程功能；只用作 mix-in 类与一个服务器类配合实现一些异步 性；不能直接实例化这个类 \n",
    "ForkingTCPServer/ForkingUDPServer ForkingMixIn 和 TCPServer/UDPServer 的组合 \n",
    "ThreadingTCPServer/ThreadingUDPServer ThreadingMixIn 和 TCPServer/UDPServer 的组合 \n",
    "BaseRequestHandler 包含处理服务请求的核心功能；仅仅用于推导，这样无法创建这个类的实例； 可以使用 StreamRequestHandler 或 DatagramRequestHandler 创建类的实例 \n",
    "StreamRequestHandler/DatagramRequestHandler 实现 TCP/UDP 服务器的服务处理器  "
   ]
  },
  {
   "cell_type": "markdown",
   "metadata": {},
   "source": [
    "### Twisted 框架"
   ]
  },
  {
   "cell_type": "markdown",
   "metadata": {},
   "source": [
    "Twisted 是一个完整的事件驱动的网络框架，利用它既能使用也能开发完整的异步网络应 用程序和协议。在编写本书时，因为它还不是 Python 标准库的一部分，所以必须单独下载并 安装它（可以使用本章末尾的链接）。它提供了大量的支持来建立完整的系统，包括网络协议、 线程、安全性和身份验证、聊天/ IM、DBM 及 RDBMS 数据库集成、Web/因特网、电子邮件、 命令行参数、GUI 集成工具包等。"
   ]
  },
  {
   "cell_type": "markdown",
   "metadata": {},
   "source": [
    "### 半双工模式"
   ]
  },
  {
   "cell_type": "code",
   "execution_count": null,
   "metadata": {
    "collapsed": true
   },
   "outputs": [],
   "source": [
    "#服务器\n",
    "#!/usr/bin/python\n",
    "# Filename : 2.7_server.py\n",
    "\n",
    "from socket import *\n",
    "from time import ctime\n",
    "\n",
    "HOST = \"192.168.40.128\"\n",
    "PORT = 40027\n",
    "BUFSIZ = 10240\n",
    "ADDR = (HOST,PORT)\n",
    "\n",
    "tcpSerSock = socket(AF_INET,SOCK_STREAM)\n",
    "tcpSerSock.bind(ADDR)\n",
    "tcpSerSock.listen(5)\n",
    "print \"waiting for messages\"\n",
    "while True:\n",
    "  tcpCliSock,addr = tcpSerSock.accept()\n",
    "  print \"connected from :\",addr\n",
    "\n",
    "#这里可以实现从两端发起会话，但是会导致一段的消息在另外一端不能及时显示，必须输入要发送的消息之后才能看到上一条对方发送的消息。\n",
    "#  while True:\n",
    "#    data_local = raw_input(\"waiting for input>>>\")\n",
    "#    if not data_local:\n",
    "#      continue \n",
    "#    tcpCliSock.send(\"[%s] %s\"%(ctime(),data_local))\n",
    "#    print \"send message to client successful,waiting for response\"\n",
    "  while True:\n",
    "     data_remote = tcpCliSock.recv(BUFSIZ)\n",
    "     if not data_remote:\n",
    "       break\n",
    "     print \"He says : \",data_remote\n",
    "     while True:\n",
    "       data_local = raw_input(\"waitint for input>>>\")\n",
    "       if not data_local:\n",
    "         continue\n",
    "       tcpCliSock.send(\"[%s] %s\"%(ctime(),data_local))\n",
    "       print \"send message to client successful,waitinf for response\"\n",
    "       break\n",
    "tcpSerSock.close()"
   ]
  },
  {
   "cell_type": "code",
   "execution_count": null,
   "metadata": {
    "collapsed": true
   },
   "outputs": [],
   "source": [
    "#客户端\n",
    "#!/usr/bin/python\n",
    "# Filename : 2.7_client.py\n",
    "\n",
    "from socket import *\n",
    "from time import ctime\n",
    "\n",
    "HOST = \"192.168.40.128\"\n",
    "PORT = 40027\n",
    "BUFSIZ = 10240\n",
    "ADDR = (HOST,PORT)\n",
    "\n",
    "tcpCliSock = socket(AF_INET,SOCK_STREAM)\n",
    "tcpCliSock.connect(ADDR)\n",
    "print \"waiting for messages\"\n",
    "while True:\n",
    "  while True:\n",
    "    data_local = raw_input(\"waiting for input>>>\")\n",
    "    if not data_local:\n",
    "       continue\n",
    "    tcpCliSock.send(\"[%s] %s\"%(ctime(),data_local))\n",
    "    print \"send message to server successful,waiting for response\"\n",
    "    while True:\n",
    "       data_remote = tcpCliSock.recv(BUFSIZ)\n",
    "       if not data_remote:\n",
    "          break\n",
    "       print \"He says : \",data_remote\n",
    "       break\n",
    "\n",
    "tcpCliSock.close()"
   ]
  },
  {
   "cell_type": "markdown",
   "metadata": {},
   "source": [
    "### 全双工模式"
   ]
  },
  {
   "cell_type": "code",
   "execution_count": null,
   "metadata": {
    "collapsed": true
   },
   "outputs": [],
   "source": []
  },
  {
   "cell_type": "markdown",
   "metadata": {},
   "source": [
    "### FTP"
   ]
  },
  {
   "cell_type": "markdown",
   "metadata": {},
   "source": [
    "1．连接到服务器。 2．登录。 3．发出服务请求（希望能得到响应）。 4．退出"
   ]
  },
  {
   "cell_type": "code",
   "execution_count": null,
   "metadata": {
    "collapsed": true
   },
   "outputs": [],
   "source": [
    "#伪代码\n",
    "from ftplib import FTP \n",
    "f = FTP('some.ftp.server') \n",
    "f.login('anonymous', 'your@email.address')     \n",
    "   : \n",
    "f.quit()  "
   ]
  },
  {
   "cell_type": "markdown",
   "metadata": {},
   "source": [
    "### FTP对象方法"
   ]
  },
  {
   "cell_type": "code",
   "execution_count": null,
   "metadata": {
    "collapsed": true
   },
   "outputs": [],
   "source": [
    "login(user='anonymous', passwd='', acct='')  登录 FTP 服务器，所有参数都是可选的 \n",
    "pwd() 获得当前工作目录 \n",
    "cwd(path) 把当前工作目录设置为 path 所示的路径 \n",
    "dir ([path[,...[,cb]]) 显示 path 目录里的内容，可选的参数 \n",
    "cb 是一个回调函数，会传递给 retrlines()方法 \n",
    "nlst ([path[,...]) 与 dir()类似，但返回一个文件名列表，而不是显示这些文件名 \n",
    "retrlines(cmd [, cb]) 给定 FTP 命令（如“RETR filename”），用于下载文本文件。可选的回调函数 cb 用于处理文件的每一行 \n",
    "retrbinary(cmd, cb[,bs=8192[, ra]]) 与 retrlines()类似，只是这个指令处理二进制文件。回调函数 cb 用于处理每一块（块大小默认为 8KB） 下载的数据 \n",
    "storlines(cmd, f) 给定 FTP 命令（如“STOR filename”），用来上传文本文件。要给定一个文件对象 f \n",
    "storbinary(cmd, f [,bs=8192]) 与 storlines()类似，只是这个指令处理二进制文件。要给定一个文件对象 f，上传块大小 bs 默认为 8KB \n",
    "rename(old, new) 把远程文件 old 重命名为 new \n",
    "delete(path) 删除位于 path 的远程文件 \n",
    "mkd(directory) 创建远程目录 \n",
    "rmd(directory) 删除远程目录 \n",
    "quit() 关闭连接并退出 "
   ]
  },
  {
   "cell_type": "markdown",
   "metadata": {
    "collapsed": true
   },
   "source": [
    "### NNTP"
   ]
  },
  {
   "cell_type": "markdown",
   "metadata": {},
   "source": [
    "1．连接到服务器。 2．登录（根据需要）。 3．发出服务请求。 4．退出\n",
    "是不是有点熟悉？是的，这与 FTP 协议极其相似。唯一的区别是根据 NNTP 服务器配置的不同，登录这一步是可选的。 "
   ]
  },
  {
   "cell_type": "code",
   "execution_count": null,
   "metadata": {
    "collapsed": true
   },
   "outputs": [],
   "source": [
    "from nntplib import NNTP \n",
    "n = NNTP('your.nntp.server') \n",
    "r,c,f,l,g = n.group('comp.lang.python') \n",
    "... n.quit()"
   ]
  },
  {
   "cell_type": "markdown",
   "metadata": {},
   "source": [
    "### NNTP对象方法"
   ]
  },
  {
   "cell_type": "markdown",
   "metadata": {},
   "source": [
    "group(name) 选择一个组的名字，返回一个元组(rsp,ct,fst,lst,group)，分别表示服务器响应信息、文章数量、第一个和 最后一个文章的编号、组名，所有数据都是字符串。（返回的 group 与传进去的 name 应该是相同的） \n",
    "xhdr(hdr, artrg[, ofile]) 返回文章范围 artrg（“头 -尾”的格式）内文章 hdr 头的列表，或把数据输出到文件 ofile 中 \n",
    "body(id [, ofile]) 根据 id 获取文章正文，id 可以是消息的 ID（放在尖括号里），也可以是文章编号（以字符串形式表示），返回一个元组(rsp, anum, mid, data)，分别表示服务器响应信息、文章编号（以字符串形式表示）、 消息 ID（放在尖括号里）、文章所有行的列表，或把数据输出到文件 ofile 中 "
   ]
  },
  {
   "cell_type": "markdown",
   "metadata": {},
   "source": [
    "head(id) 与 body()类似，返回相同的元组，只是返回的行列表中只包括文章标题 \n",
    "article(id) 同样与 body()类似，返回相同的元组，只是返回的行列表中同时包括文章标题和正文 \n",
    "stat(id) 让文章的“指针”指向 id（即前面的消息 ID 或文章编号）。返回一个与 body()相同的元组(rsp, anum, mid)，但不包含文章的数据 \n",
    "next() 用法和 stat()类似，把文章指针移到下一篇文章，返回与 stat()相似的元组 \n",
    "last() 用法和 stat()类似，把文章指针移到最后一篇文章，返回与 stat()相似的元组 \n",
    "post(ufile) 上传 ufile文件对象里的内容（使用 ufile.readline()），并发布到当前新闻组中 \n",
    "quit() 关闭连接并退出  "
   ]
  },
  {
   "cell_type": "markdown",
   "metadata": {},
   "source": [
    "### SMTP 邮件"
   ]
  },
  {
   "cell_type": "code",
   "execution_count": null,
   "metadata": {
    "collapsed": true
   },
   "outputs": [],
   "source": [
    "#伪代码\n",
    "from smtplib import SMTP \n",
    "n = SMTP('smtp.yourdomain.com') \n",
    "... \n",
    "n.quit()  "
   ]
  },
  {
   "cell_type": "markdown",
   "metadata": {},
   "source": [
    "### SMTP 对象常见的方法"
   ]
  },
  {
   "cell_type": "markdown",
   "metadata": {},
   "source": [
    "sendmail(from, to, msg[, mopts, ropts])  将 msg 从 from 发送至 to（以列表或元组表示），还可以选择性地设置 ESMTP 邮件 （mopts）和收件人（ropts）选项 \n",
    "ehlo()或 helo() 使用 EHLO 或 HELO 初始化 SMTP 或 ESMTP 服务器的会话。这是可选的，因为 sendmail()会在需要时自动调用相关内容 \n",
    "starttls(keyfile=None, certfile=None) 让服务器启用 TLS 模式。如果给定了 keyfile 或 certfile，则它们用来创建安全套接字 set_debuglevel(level) 为服务器通信设置调试级别 \n",
    "quit() 关闭连接并退出 \n",
    "login(user, passwd)① 使用用户名和密码登录 SMTP 服务器 "
   ]
  },
  {
   "cell_type": "code",
   "execution_count": null,
   "metadata": {
    "collapsed": true
   },
   "outputs": [],
   "source": []
  }
 ],
 "metadata": {
  "anaconda-cloud": {},
  "kernelspec": {
   "display_name": "Python [Root]",
   "language": "python",
   "name": "Python [Root]"
  },
  "language_info": {
   "codemirror_mode": {
    "name": "ipython",
    "version": 3
   },
   "file_extension": ".py",
   "mimetype": "text/x-python",
   "name": "python",
   "nbconvert_exporter": "python",
   "pygments_lexer": "ipython3",
   "version": "3.5.1"
  }
 },
 "nbformat": 4,
 "nbformat_minor": 0
}
