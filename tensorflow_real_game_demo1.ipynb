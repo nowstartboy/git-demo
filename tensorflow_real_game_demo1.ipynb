{
 "cells": [
  {
   "cell_type": "code",
   "execution_count": 1,
   "metadata": {
    "collapsed": false,
    "scrolled": true
   },
   "outputs": [
    {
     "ename": "SystemExit",
     "evalue": "",
     "output_type": "error",
     "traceback": [
      "An exception has occurred, use %tb to see the full traceback.\n",
      "\u001b[1;31mSystemExit\u001b[0m\n"
     ]
    },
    {
     "name": "stderr",
     "output_type": "stream",
     "text": [
      "To exit: use 'exit', 'quit', or Ctrl-D.\n"
     ]
    }
   ],
   "source": [
    "#<span style=\"font-size:18px;\">\n",
    "import pygame  \n",
    "from pygame.locals import *  \n",
    "import sys  \n",
    "   \n",
    "BLACK     = (0  ,0  ,0  )  \n",
    "WHITE     = (255,255,255)  \n",
    "   \n",
    "SCREEN_SIZE = [320,400]  \n",
    "BAR_SIZE = [20, 5]  \n",
    "BALL_SIZE = [15, 15]  \n",
    "   \n",
    "class Game(object):  \n",
    "    def __init__(self):  \n",
    "        pygame.init()  \n",
    "        self.clock = pygame.time.Clock()  \n",
    "        self.screen = pygame.display.set_mode(SCREEN_SIZE)  \n",
    "        pygame.display.set_caption('Simple Game')  \n",
    "   \n",
    "        self.ball_pos_x = SCREEN_SIZE[0]//2 - BALL_SIZE[0]/2  \n",
    "        self.ball_pos_y = SCREEN_SIZE[1]//2 - BALL_SIZE[1]/2  \n",
    "        # ball移动方向  \n",
    "        self.ball_dir_x = -1 # -1 = left 1 = right    \n",
    "        self.ball_dir_y = -1 # -1 = up   1 = down  \n",
    "        self.ball_pos = pygame.Rect(self.ball_pos_x, self.ball_pos_y, BALL_SIZE[0], BALL_SIZE[1])  \n",
    "   \n",
    "        self.score = 0  \n",
    "        self.bar_pos_x = SCREEN_SIZE[0]//2-BAR_SIZE[0]//2  \n",
    "        self.bar_pos = pygame.Rect(self.bar_pos_x, SCREEN_SIZE[1]-BAR_SIZE[1], BAR_SIZE[0], BAR_SIZE[1])  \n",
    "   \n",
    "    def bar_move_left(self):  \n",
    "        self.bar_pos_x = self.bar_pos_x - 2  \n",
    "    def bar_move_right(self):  \n",
    "        self.bar_pos_x = self.bar_pos_x + 2  \n",
    "   \n",
    "    def run(self):  \n",
    "        pygame.mouse.set_visible(0) # make cursor invisible  \n",
    "   \n",
    "        bar_move_left = False  \n",
    "        bar_move_right = False  \n",
    "        while True:  \n",
    "            for event in pygame.event.get():  \n",
    "                if event.type == QUIT:  \n",
    "                    pygame.quit()  \n",
    "                    sys.exit() \n",
    "                    return\n",
    "                elif event.type == pygame.MOUSEBUTTONDOWN and event.button == 1:  # 鼠标左键按下(左移)  \n",
    "                    bar_move_left = True  \n",
    "                elif event.type == pygame.MOUSEBUTTONUP and event.button == 1: # 鼠标左键释放  \n",
    "                    bar_move_left = False  \n",
    "                elif event.type == pygame.MOUSEBUTTONDOWN and event.button == 3: #右键  \n",
    "                    bar_move_right = True  \n",
    "                elif event.type == pygame.MOUSEBUTTONUP and event.button == 3:  \n",
    "                    bar_move_right = False  \n",
    "   \n",
    "            if bar_move_left == True and bar_move_right == False:  \n",
    "                self.bar_move_left()  \n",
    "            if bar_move_left == False and bar_move_right == True:  \n",
    "                self.bar_move_right()  \n",
    "   \n",
    "            self.screen.fill(BLACK)  \n",
    "            self.bar_pos.left = self.bar_pos_x  \n",
    "            pygame.draw.rect(self.screen, WHITE, self.bar_pos)  \n",
    "   \n",
    "            self.ball_pos.left += self.ball_dir_x * 2  \n",
    "            self.ball_pos.bottom += self.ball_dir_y * 3  \n",
    "            pygame.draw.rect(self.screen, WHITE, self.ball_pos)  \n",
    "   \n",
    "            if self.ball_pos.top <= 0 or self.ball_pos.bottom >= (SCREEN_SIZE[1] - BAR_SIZE[1]+1):  \n",
    "                self.ball_dir_y = self.ball_dir_y * -1  \n",
    "            if self.ball_pos.left <= 0 or self.ball_pos.right >= (SCREEN_SIZE[0]):  \n",
    "                self.ball_dir_x = self.ball_dir_x * -1  \n",
    "   \n",
    "   \n",
    "            if self.bar_pos.top <= self.ball_pos.bottom and (self.bar_pos.left < self.ball_pos.right and self.bar_pos.right > self.ball_pos.left):  \n",
    "                self.score += 1  \n",
    "                print(\"Score: \", self.score, end='\\r')  \n",
    "            elif self.bar_pos.top <= self.ball_pos.bottom and (self.bar_pos.left > self.ball_pos.right or self.bar_pos.right < self.ball_pos.left):  \n",
    "                print(\"Game Over: \", self.score)  \n",
    "                return self.score  \n",
    "   \n",
    "            pygame.display.update()  \n",
    "            self.clock.tick(60)  \n",
    "   \n",
    "game = Game()  \n",
    "game.run() "
   ]
  },
  {
   "cell_type": "code",
   "execution_count": 12,
   "metadata": {
    "collapsed": false,
    "scrolled": true
   },
   "outputs": [
    {
     "ename": "ImportError",
     "evalue": "DLL load failed: 找不到指定的模块。",
     "output_type": "error",
     "traceback": [
      "\u001b[1;31m---------------------------------------------------------------------------\u001b[0m",
      "\u001b[1;31mImportError\u001b[0m                               Traceback (most recent call last)",
      "\u001b[1;32m<ipython-input-12-72fbbcfe2587>\u001b[0m in \u001b[0;36m<module>\u001b[1;34m()\u001b[0m\n\u001b[1;32m----> 1\u001b[1;33m \u001b[1;32mimport\u001b[0m \u001b[0mcv2\u001b[0m\u001b[1;33m\u001b[0m\u001b[0m\n\u001b[0m",
      "\u001b[1;32mD:\\anaconda1\\lib\\site-packages\\cv2\\__init__.py\u001b[0m in \u001b[0;36m<module>\u001b[1;34m()\u001b[0m\n\u001b[0;32m      5\u001b[0m \u001b[0mos\u001b[0m\u001b[1;33m.\u001b[0m\u001b[0menviron\u001b[0m\u001b[1;33m[\u001b[0m\u001b[1;34m\"PATH\"\u001b[0m\u001b[1;33m]\u001b[0m \u001b[1;33m+=\u001b[0m \u001b[0mos\u001b[0m\u001b[1;33m.\u001b[0m\u001b[0mpathsep\u001b[0m \u001b[1;33m+\u001b[0m \u001b[0mos\u001b[0m\u001b[1;33m.\u001b[0m\u001b[0mpath\u001b[0m\u001b[1;33m.\u001b[0m\u001b[0mdirname\u001b[0m\u001b[1;33m(\u001b[0m\u001b[0mos\u001b[0m\u001b[1;33m.\u001b[0m\u001b[0mpath\u001b[0m\u001b[1;33m.\u001b[0m\u001b[0mrealpath\u001b[0m\u001b[1;33m(\u001b[0m\u001b[0m__file__\u001b[0m\u001b[1;33m)\u001b[0m\u001b[1;33m)\u001b[0m\u001b[1;33m\u001b[0m\u001b[0m\n\u001b[0;32m      6\u001b[0m \u001b[1;33m\u001b[0m\u001b[0m\n\u001b[1;32m----> 7\u001b[1;33m \u001b[1;32mfrom\u001b[0m \u001b[1;33m.\u001b[0m \u001b[1;32mimport\u001b[0m \u001b[0mcv2\u001b[0m\u001b[1;33m\u001b[0m\u001b[0m\n\u001b[0m\u001b[0;32m      8\u001b[0m \u001b[0msys\u001b[0m\u001b[1;33m.\u001b[0m\u001b[0mmodules\u001b[0m\u001b[1;33m[\u001b[0m\u001b[1;34m'cv2'\u001b[0m\u001b[1;33m]\u001b[0m \u001b[1;33m=\u001b[0m \u001b[0mcv2\u001b[0m\u001b[1;33m\u001b[0m\u001b[0m\n",
      "\u001b[1;31mImportError\u001b[0m: DLL load failed: 找不到指定的模块。"
     ]
    }
   ],
   "source": [
    "import cv2"
   ]
  },
  {
   "cell_type": "code",
   "execution_count": 3,
   "metadata": {
    "collapsed": false
   },
   "outputs": [
    {
     "ename": "ImportError",
     "evalue": "DLL load failed: 找不到指定的模块。",
     "output_type": "error",
     "traceback": [
      "\u001b[1;31m---------------------------------------------------------------------------\u001b[0m",
      "\u001b[1;31mImportError\u001b[0m                               Traceback (most recent call last)",
      "\u001b[1;32m<ipython-input-3-dbd3266cb793>\u001b[0m in \u001b[0;36m<module>\u001b[1;34m()\u001b[0m\n\u001b[0;32m      5\u001b[0m \u001b[1;32mfrom\u001b[0m \u001b[0mcollections\u001b[0m \u001b[1;32mimport\u001b[0m \u001b[0mdeque\u001b[0m\u001b[1;33m\u001b[0m\u001b[0m\n\u001b[0;32m      6\u001b[0m \u001b[1;32mimport\u001b[0m \u001b[0mtensorflow\u001b[0m \u001b[1;32mas\u001b[0m \u001b[0mtf\u001b[0m  \u001b[1;31m# http://blog.topspeedsnail.com/archives/10116\u001b[0m\u001b[1;33m\u001b[0m\u001b[0m\n\u001b[1;32m----> 7\u001b[1;33m \u001b[1;32mimport\u001b[0m \u001b[0mcv2\u001b[0m               \u001b[1;31m# http://blog.topspeedsnail.com/archives/4755\u001b[0m\u001b[1;33m\u001b[0m\u001b[0m\n\u001b[0m\u001b[0;32m      8\u001b[0m \u001b[1;33m\u001b[0m\u001b[0m\n\u001b[0;32m      9\u001b[0m \u001b[0mBLACK\u001b[0m     \u001b[1;33m=\u001b[0m \u001b[1;33m(\u001b[0m\u001b[1;36m0\u001b[0m  \u001b[1;33m,\u001b[0m\u001b[1;36m0\u001b[0m  \u001b[1;33m,\u001b[0m\u001b[1;36m0\u001b[0m  \u001b[1;33m)\u001b[0m\u001b[1;33m\u001b[0m\u001b[0m\n",
      "\u001b[1;32mD:\\anaconda1\\lib\\site-packages\\cv2\\__init__.py\u001b[0m in \u001b[0;36m<module>\u001b[1;34m()\u001b[0m\n\u001b[0;32m      5\u001b[0m \u001b[0mos\u001b[0m\u001b[1;33m.\u001b[0m\u001b[0menviron\u001b[0m\u001b[1;33m[\u001b[0m\u001b[1;34m\"PATH\"\u001b[0m\u001b[1;33m]\u001b[0m \u001b[1;33m+=\u001b[0m \u001b[0mos\u001b[0m\u001b[1;33m.\u001b[0m\u001b[0mpathsep\u001b[0m \u001b[1;33m+\u001b[0m \u001b[0mos\u001b[0m\u001b[1;33m.\u001b[0m\u001b[0mpath\u001b[0m\u001b[1;33m.\u001b[0m\u001b[0mdirname\u001b[0m\u001b[1;33m(\u001b[0m\u001b[0mos\u001b[0m\u001b[1;33m.\u001b[0m\u001b[0mpath\u001b[0m\u001b[1;33m.\u001b[0m\u001b[0mrealpath\u001b[0m\u001b[1;33m(\u001b[0m\u001b[0m__file__\u001b[0m\u001b[1;33m)\u001b[0m\u001b[1;33m)\u001b[0m\u001b[1;33m\u001b[0m\u001b[0m\n\u001b[0;32m      6\u001b[0m \u001b[1;33m\u001b[0m\u001b[0m\n\u001b[1;32m----> 7\u001b[1;33m \u001b[1;32mfrom\u001b[0m \u001b[1;33m.\u001b[0m \u001b[1;32mimport\u001b[0m \u001b[0mcv2\u001b[0m\u001b[1;33m\u001b[0m\u001b[0m\n\u001b[0m\u001b[0;32m      8\u001b[0m \u001b[0msys\u001b[0m\u001b[1;33m.\u001b[0m\u001b[0mmodules\u001b[0m\u001b[1;33m[\u001b[0m\u001b[1;34m'cv2'\u001b[0m\u001b[1;33m]\u001b[0m \u001b[1;33m=\u001b[0m \u001b[0mcv2\u001b[0m\u001b[1;33m\u001b[0m\u001b[0m\n",
      "\u001b[1;31mImportError\u001b[0m: DLL load failed: 找不到指定的模块。"
     ]
    }
   ],
   "source": [
    "import pygame\n",
    "import random\n",
    "from pygame.locals import *\n",
    "import numpy as np\n",
    "from collections import deque\n",
    "import tensorflow as tf  # http://blog.topspeedsnail.com/archives/10116\n",
    "import cv2               # http://blog.topspeedsnail.com/archives/4755\n",
    " \n",
    "BLACK     = (0  ,0  ,0  )\n",
    "WHITE     = (255,255,255)\n",
    " \n",
    "SCREEN_SIZE = [320,400]\n",
    "BAR_SIZE = [50, 5]\n",
    "BALL_SIZE = [15, 15]\n",
    " \n",
    "# 神经网络的输出\n",
    "MOVE_STAY = [1, 0, 0]\n",
    "MOVE_LEFT = [0, 1, 0]\n",
    "MOVE_RIGHT = [0, 0, 1]\n",
    " \n",
    "class Game(object):\n",
    "\tdef __init__(self):\n",
    "\t\tpygame.init()\n",
    "\t\tself.clock = pygame.time.Clock()\n",
    "\t\tself.screen = pygame.display.set_mode(SCREEN_SIZE)\n",
    "\t\tpygame.display.set_caption('Simple Game')\n",
    " \n",
    "\t\tself.ball_pos_x = SCREEN_SIZE[0]//2 - BALL_SIZE[0]/2\n",
    "\t\tself.ball_pos_y = SCREEN_SIZE[1]//2 - BALL_SIZE[1]/2\n",
    " \n",
    "\t\tself.ball_dir_x = -1 # -1 = left 1 = right  \n",
    "\t\tself.ball_dir_y = -1 # -1 = up   1 = down\n",
    "\t\tself.ball_pos = pygame.Rect(self.ball_pos_x, self.ball_pos_y, BALL_SIZE[0], BALL_SIZE[1])\n",
    " \n",
    "\t\tself.bar_pos_x = SCREEN_SIZE[0]//2-BAR_SIZE[0]//2\n",
    "\t\tself.bar_pos = pygame.Rect(self.bar_pos_x, SCREEN_SIZE[1]-BAR_SIZE[1], BAR_SIZE[0], BAR_SIZE[1])\n",
    " \n",
    "\t# action是MOVE_STAY、MOVE_LEFT、MOVE_RIGHT\n",
    "\t# ai控制棒子左右移动；返回游戏界面像素数和对应的奖励。(像素->奖励->强化棒子往奖励高的方向移动)\n",
    "\tdef step(self, action):\n",
    " \n",
    "\t\tif action == MOVE_LEFT:\n",
    "\t\t\tself.bar_pos_x = self.bar_pos_x - 2\n",
    "\t\telif action == MOVE_RIGHT:\n",
    "\t\t\tself.bar_pos_x = self.bar_pos_x + 2\n",
    "\t\telse:\n",
    "\t\t\tpass\n",
    "\t\tif self.bar_pos_x < 0:\n",
    "\t\t\tself.bar_pos_x = 0\n",
    "\t\tif self.bar_pos_x > SCREEN_SIZE[0] - BAR_SIZE[0]:\n",
    "\t\t\tself.bar_pos_x = SCREEN_SIZE[0] - BAR_SIZE[0]\n",
    "\t\t\t\n",
    "\t\tself.screen.fill(BLACK)\n",
    "\t\tself.bar_pos.left = self.bar_pos_x\n",
    "\t\tpygame.draw.rect(self.screen, WHITE, self.bar_pos)\n",
    " \n",
    "\t\tself.ball_pos.left += self.ball_dir_x * 2\n",
    "\t\tself.ball_pos.bottom += self.ball_dir_y * 3\n",
    "\t\tpygame.draw.rect(self.screen, WHITE, self.ball_pos)\n",
    " \n",
    "\t\tif self.ball_pos.top <= 0 or self.ball_pos.bottom >= (SCREEN_SIZE[1] - BAR_SIZE[1]+1):\n",
    "\t\t\tself.ball_dir_y = self.ball_dir_y * -1\n",
    "\t\tif self.ball_pos.left <= 0 or self.ball_pos.right >= (SCREEN_SIZE[0]):\n",
    "\t\t\tself.ball_dir_x = self.ball_dir_x * -1\n",
    " \n",
    "\t\treward = 0\n",
    "\t\tif self.bar_pos.top <= self.ball_pos.bottom and (self.bar_pos.left < self.ball_pos.right and self.bar_pos.right > self.ball_pos.left):\n",
    "\t\t\treward = 1    # 击中奖励\n",
    "\t\telif self.bar_pos.top <= self.ball_pos.bottom and (self.bar_pos.left > self.ball_pos.right or self.bar_pos.right < self.ball_pos.left):\n",
    "\t\t\treward = -1   # 没击中惩罚\n",
    " \n",
    "\t\t# 获得游戏界面像素\n",
    "\t\tscreen_image = pygame.surfarray.array3d(pygame.display.get_surface())\n",
    "\t\tpygame.display.update()\n",
    "\t\t# 返回游戏界面像素和对应的奖励\n",
    "\t\treturn reward, screen_image\n",
    " \n",
    "# learning_rate\n",
    "LEARNING_RATE = 0.99\n",
    "# 更新梯度\n",
    "INITIAL_EPSILON = 1.0\n",
    "FINAL_EPSILON = 0.05\n",
    "# 测试观测次数\n",
    "EXPLORE = 500000 \n",
    "OBSERVE = 50000\n",
    "# 存储过往经验大小\n",
    "REPLAY_MEMORY = 500000\n",
    " \n",
    "BATCH = 100\n",
    " \n",
    "output = 3  # 输出层神经元数。代表3种操作-MOVE_STAY:[1, 0, 0]  MOVE_LEFT:[0, 1, 0]  MOVE_RIGHT:[0, 0, 1]\n",
    "input_image = tf.placeholder(\"float\", [None, 80, 100, 4])  # 游戏像素\n",
    "action = tf.placeholder(\"float\", [None, output])     # 操作\n",
    " \n",
    "# 定义CNN-卷积神经网络 参考:http://blog.topspeedsnail.com/archives/10451\n",
    "def convolutional_neural_network(input_image):\n",
    "\tweights = {'w_conv1':tf.Variable(tf.zeros([8, 8, 4, 32])),\n",
    "               'w_conv2':tf.Variable(tf.zeros([4, 4, 32, 64])),\n",
    "               'w_conv3':tf.Variable(tf.zeros([3, 3, 64, 64])),\n",
    "               'w_fc4':tf.Variable(tf.zeros([3456, 784])),\n",
    "               'w_out':tf.Variable(tf.zeros([784, output]))}\n",
    " \n",
    "\tbiases = {'b_conv1':tf.Variable(tf.zeros([32])),\n",
    "              'b_conv2':tf.Variable(tf.zeros([64])),\n",
    "              'b_conv3':tf.Variable(tf.zeros([64])),\n",
    "              'b_fc4':tf.Variable(tf.zeros([784])),\n",
    "              'b_out':tf.Variable(tf.zeros([output]))}\n",
    " \n",
    "\tconv1 = tf.nn.relu(tf.nn.conv2d(input_image, weights['w_conv1'], strides = [1, 4, 4, 1], padding = \"VALID\") + biases['b_conv1'])\n",
    "\tconv2 = tf.nn.relu(tf.nn.conv2d(conv1, weights['w_conv2'], strides = [1, 2, 2, 1], padding = \"VALID\") + biases['b_conv2'])\n",
    "\tconv3 = tf.nn.relu(tf.nn.conv2d(conv2, weights['w_conv3'], strides = [1, 1, 1, 1], padding = \"VALID\") + biases['b_conv3'])\n",
    "\tconv3_flat = tf.reshape(conv3, [-1, 3456])\n",
    "\tfc4 = tf.nn.relu(tf.matmul(conv3_flat, weights['w_fc4']) + biases['b_fc4'])\n",
    " \n",
    "\toutput_layer = tf.matmul(fc4, weights['w_out']) + biases['b_out']\n",
    "\treturn output_layer\n",
    " \n",
    "# 深度强化学习入门: https://www.nervanasys.com/demystifying-deep-reinforcement-learning/\n",
    "# 训练神经网络\n",
    "def train_neural_network(input_image):\n",
    "\tpredict_action = convolutional_neural_network(input_image)\n",
    " \n",
    "\targmax = tf.placeholder(\"float\", [None, output])\n",
    "\tgt = tf.placeholder(\"float\", [None])\n",
    " \n",
    "\taction = tf.reduce_sum(tf.mul(predict_action, argmax), reduction_indices = 1)\n",
    "\tcost = tf.reduce_mean(tf.square(action - gt))\n",
    "\toptimizer = tf.train.AdamOptimizer(1e-6).minimize(cost)\n",
    " \n",
    "\tgame = Game()\n",
    "\tD = deque()\n",
    " \n",
    "\t_, image = game.step(MOVE_STAY)\n",
    "\t# 转换为灰度值\n",
    "\timage = cv2.cvtColor(cv2.resize(image, (100, 80)), cv2.COLOR_BGR2GRAY)\n",
    "\t# 转换为二值\n",
    "\tret, image = cv2.threshold(image, 1, 255, cv2.THRESH_BINARY)\n",
    "\tinput_image_data = np.stack((image, image, image, image), axis = 2)\n",
    "\t\n",
    "\twith tf.Session() as sess:\n",
    "\t\tsess.run(tf.initialize_all_variables())\n",
    "\t\t\n",
    "\t\tsaver = tf.train.Saver()\n",
    "\t\t\n",
    "\t\tn = 0\n",
    "\t\tepsilon = INITIAL_EPSILON\n",
    "\t\twhile True:\n",
    "\t\t\taction_t = predict_action.eval(feed_dict = {input_image : [input_image_data]})[0]\n",
    " \n",
    "\t\t\targmax_t = np.zeros([output], dtype=np.int)\n",
    "\t\t\tif(random.random() <= INITIAL_EPSILON):\n",
    "\t\t\t\tmaxIndex = random.randrange(output)\n",
    "\t\t\telse:\n",
    "\t\t\t\tmaxIndex = np.argmax(action_t)\n",
    "\t\t\targmax_t[maxIndex] = 1\n",
    "\t\t\tif epsilon > FINAL_EPSILON:\n",
    "\t\t\t\tepsilon -= (INITIAL_EPSILON - FINAL_EPSILON) / EXPLORE\n",
    " \n",
    "\t\t\t#for event in pygame.event.get():  macOS需要事件循环，否则白屏\n",
    "\t\t\t#\tif event.type == QUIT:\n",
    "\t\t\t#\t\tpygame.quit()\n",
    "\t\t\t#\t\tsys.exit()\n",
    "\t\t\treward, image = game.step(list(argmax_t))\n",
    " \n",
    "\t\t\timage = cv2.cvtColor(cv2.resize(image, (100, 80)), cv2.COLOR_BGR2GRAY)\n",
    "\t\t\tret, image = cv2.threshold(image, 1, 255, cv2.THRESH_BINARY)\n",
    "\t\t\timage = np.reshape(image, (80, 100, 1))\n",
    "\t\t\tinput_image_data1 = np.append(image, input_image_data[:, :, 0:3], axis = 2)\n",
    " \n",
    "\t\t\tD.append((input_image_data, argmax_t, reward, input_image_data1))\n",
    " \n",
    "\t\t\tif len(D) > REPLAY_MEMORY:\n",
    "\t\t\t\tD.popleft()\n",
    " \n",
    "\t\t\tif n > OBSERVE:\n",
    "\t\t\t\tminibatch = random.sample(D, BATCH)\n",
    "\t\t\t\tinput_image_data_batch = [d[0] for d in minibatch]\n",
    "\t\t\t\targmax_batch = [d[1] for d in minibatch]\n",
    "\t\t\t\treward_batch = [d[2] for d in minibatch]\n",
    "\t\t\t\tinput_image_data1_batch = [d[3] for d in minibatch]\n",
    " \n",
    "\t\t\t\tgt_batch = []\n",
    " \n",
    "\t\t\t\tout_batch = predict_action.eval(feed_dict = {input_image : input_image_data1_batch})\n",
    " \n",
    "\t\t\t\tfor i in range(0, len(minibatch)):\n",
    "\t\t\t\t\tgt_batch.append(reward_batch[i] + LEARNING_RATE * np.max(out_batch[i]))\n",
    " \n",
    "\t\t\t\toptimizer.run(feed_dict = {gt : gt_batch, argmax : argmax_batch, input_image : input_image_data_batch})\n",
    " \n",
    "\t\t\tinput_image_data = input_image_data1\n",
    "\t\t\tn = n+1\n",
    " \n",
    "\t\t\tif n % 10000 == 0:\n",
    "\t\t\t\tsaver.save(sess, 'game.cpk', global_step = n)  # 保存模型\n",
    " \n",
    "\t\t\tprint(n, \"epsilon:\", epsilon, \" \" ,\"action:\", maxIndex, \" \" ,\"reward:\", reward)\n",
    " \n",
    " \n",
    "train_neural_network(input_image)"
   ]
  },
  {
   "cell_type": "code",
   "execution_count": 6,
   "metadata": {
    "collapsed": false
   },
   "outputs": [],
   "source": [
    "import tensorflow as tf\n",
    "import numpy as np\n",
    "a1=np.array([1,2,3])\n",
    "a2=np.array([2,3,4])\n",
    "en2=tf.multiply(a1,a2)"
   ]
  },
  {
   "cell_type": "code",
   "execution_count": 8,
   "metadata": {
    "collapsed": true
   },
   "outputs": [],
   "source": [
    "en1=tf.reduce_sum(en2)"
   ]
  },
  {
   "cell_type": "code",
   "execution_count": 7,
   "metadata": {
    "collapsed": false
   },
   "outputs": [
    {
     "name": "stdout",
     "output_type": "stream",
     "text": [
      "[ 2  6 12]\n"
     ]
    }
   ],
   "source": [
    "sess1 = tf.InteractiveSession()\n",
    "print(sess1.run(en2))"
   ]
  },
  {
   "cell_type": "code",
   "execution_count": 9,
   "metadata": {
    "collapsed": false
   },
   "outputs": [
    {
     "name": "stdout",
     "output_type": "stream",
     "text": [
      "20\n"
     ]
    }
   ],
   "source": [
    "print(sess1.run(en1))"
   ]
  },
  {
   "cell_type": "code",
   "execution_count": null,
   "metadata": {
    "collapsed": true
   },
   "outputs": [],
   "source": []
  }
 ],
 "metadata": {
  "anaconda-cloud": {},
  "kernelspec": {
   "display_name": "Python [Root]",
   "language": "python",
   "name": "Python [Root]"
  },
  "language_info": {
   "codemirror_mode": {
    "name": "ipython",
    "version": 3
   },
   "file_extension": ".py",
   "mimetype": "text/x-python",
   "name": "python",
   "nbconvert_exporter": "python",
   "pygments_lexer": "ipython3",
   "version": "3.5.1"
  }
 },
 "nbformat": 4,
 "nbformat_minor": 0
}
