{
 "cells": [
  {
   "cell_type": "code",
   "execution_count": 33,
   "metadata": {
    "collapsed": true
   },
   "outputs": [],
   "source": [
    "import pandas as pd\n",
    "I=pd.read_csv('E:\\\\autoencoder_matlab_signals\\\\I.csv',header=None)\n",
    "Q=pd.read_csv('E:\\\\autoencoder_matlab_signals\\\\Q.csv',header=None)"
   ]
  },
  {
   "cell_type": "code",
   "execution_count": 34,
   "metadata": {
    "collapsed": false
   },
   "outputs": [
    {
     "data": {
      "text/plain": [
       "131072"
      ]
     },
     "execution_count": 34,
     "metadata": {},
     "output_type": "execute_result"
    }
   ],
   "source": [
    "I.size"
   ]
  },
  {
   "cell_type": "code",
   "execution_count": 35,
   "metadata": {
    "collapsed": false
   },
   "outputs": [
    {
     "name": "stdout",
     "output_type": "stream",
     "text": [
      "<class 'pandas.core.frame.DataFrame'>\n"
     ]
    }
   ],
   "source": [
    "print (type(I))"
   ]
  },
  {
   "cell_type": "code",
   "execution_count": 36,
   "metadata": {
    "collapsed": false
   },
   "outputs": [
    {
     "name": "stdout",
     "output_type": "stream",
     "text": [
      "        0        1        2        3        4        5        6        7    \\\n",
      "0 -0.035312 -0.33871 -0.41662 -0.47729 -0.63300 -0.63380 -0.69400 -0.70591   \n",
      "1 -0.221950 -0.32525 -0.41295 -0.51232 -0.59317 -0.75874 -0.66699 -0.68936   \n",
      "\n",
      "       8        9      ...         118      119      120      121      122  \\\n",
      "0 -0.74858 -0.59679    ...     0.78949  0.66770  0.74841  0.67772  0.57917   \n",
      "1 -0.66288 -0.58652    ...    -0.72678 -0.75526 -0.75473 -0.62145 -0.53782   \n",
      "\n",
      "       123      124      125       126       127  \n",
      "0  0.53513  0.41053  0.30235  0.106680 -0.024510  \n",
      "1 -0.51271 -0.53082 -0.29139 -0.097903 -0.014101  \n",
      "\n",
      "[2 rows x 128 columns]\n"
     ]
    }
   ],
   "source": [
    "print (I.head(2))"
   ]
  },
  {
   "cell_type": "code",
   "execution_count": 37,
   "metadata": {
    "collapsed": false
   },
   "outputs": [
    {
     "name": "stdout",
     "output_type": "stream",
     "text": [
      "       0        1        2        3        4        5        6         7    \\\n",
      "0  0.71087  0.64651  0.69381  0.50525  0.30363  0.22575  0.21976 -0.043558   \n",
      "1  0.73298  0.53233  0.71315  0.45188  0.30102  0.24525  0.18756 -0.027465   \n",
      "\n",
      "        8        9     ...          118       119      120      121      122  \\\n",
      "0 -0.130530 -0.16671   ...    -0.066842  0.097331  0.24196  0.27239  0.42559   \n",
      "1 -0.027471 -0.23572   ...    -0.149270 -0.019008  0.15376  0.14695  0.38743   \n",
      "\n",
      "       123      124      125      126      127  \n",
      "0  0.50612  0.60869  0.59595  0.70472  0.65520  \n",
      "1  0.49483  0.58863  0.58593  0.69765  0.78369  \n",
      "\n",
      "[2 rows x 128 columns]\n"
     ]
    }
   ],
   "source": [
    "print (Q.head(2))"
   ]
  },
  {
   "cell_type": "code",
   "execution_count": 38,
   "metadata": {
    "collapsed": true
   },
   "outputs": [],
   "source": [
    "import numpy as np\n",
    "I_array=np.array(I.values)\n",
    "Q_array=np.array(Q.values)"
   ]
  },
  {
   "cell_type": "code",
   "execution_count": 10,
   "metadata": {
    "collapsed": false
   },
   "outputs": [
    {
     "data": {
      "text/plain": [
       "(1024, 128)"
      ]
     },
     "execution_count": 10,
     "metadata": {},
     "output_type": "execute_result"
    }
   ],
   "source": [
    "I_array.shape"
   ]
  },
  {
   "cell_type": "code",
   "execution_count": 39,
   "metadata": {
    "collapsed": true
   },
   "outputs": [],
   "source": [
    "#给I_array1增加维度\n",
    "I_array1=I_array[:,np.newaxis,:]"
   ]
  },
  {
   "cell_type": "code",
   "execution_count": 40,
   "metadata": {
    "collapsed": false
   },
   "outputs": [
    {
     "data": {
      "text/plain": [
       "(1024, 1, 128)"
      ]
     },
     "execution_count": 40,
     "metadata": {},
     "output_type": "execute_result"
    }
   ],
   "source": [
    "I_array1.shape"
   ]
  },
  {
   "cell_type": "code",
   "execution_count": 41,
   "metadata": {
    "collapsed": true
   },
   "outputs": [],
   "source": [
    "I_list=I_array1.tolist()"
   ]
  },
  {
   "cell_type": "code",
   "execution_count": 42,
   "metadata": {
    "collapsed": false
   },
   "outputs": [
    {
     "name": "stdout",
     "output_type": "stream",
     "text": [
      "1024\n",
      "1\n",
      "128\n"
     ]
    }
   ],
   "source": [
    "print (len(I_list))\n",
    "print (len(I_list[0]))\n",
    "print (len(I_list[0][0]))"
   ]
  },
  {
   "cell_type": "code",
   "execution_count": 43,
   "metadata": {
    "collapsed": false
   },
   "outputs": [],
   "source": [
    "for i in range(1024):\n",
    "    I_list[i].append(Q_array[i,:])"
   ]
  },
  {
   "cell_type": "code",
   "execution_count": 44,
   "metadata": {
    "collapsed": false
   },
   "outputs": [
    {
     "name": "stdout",
     "output_type": "stream",
     "text": [
      "1024\n",
      "2\n",
      "128\n"
     ]
    }
   ],
   "source": [
    "print (len(I_list))\n",
    "print (len(I_list[0]))\n",
    "print (len(I_list[0][0]))"
   ]
  },
  {
   "cell_type": "code",
   "execution_count": 45,
   "metadata": {
    "collapsed": false
   },
   "outputs": [
    {
     "name": "stdout",
     "output_type": "stream",
     "text": [
      "(1024, 2, 128)\n"
     ]
    }
   ],
   "source": [
    "IQ_data=np.array(I_list)\n",
    "print (IQ_data.shape)"
   ]
  },
  {
   "cell_type": "code",
   "execution_count": 47,
   "metadata": {
    "collapsed": false,
    "scrolled": true
   },
   "outputs": [
    {
     "name": "stdout",
     "output_type": "stream",
     "text": [
      "[[-0.035312  -0.33871   -0.41662   -0.47729   -0.633     -0.6338    -0.694\n",
      "  -0.70591   -0.74858   -0.59679   -0.62308   -0.4955    -0.2989    -0.36909\n",
      "  -0.091241   0.0682     0.15903    0.249      0.41988    0.53458    0.57115\n",
      "   0.60156    0.69031    0.7202     0.67608    0.6305     0.5357     0.57461\n",
      "   0.43139    0.21169    0.20108   -0.075976  -0.14622   -0.29468   -0.40697\n",
      "  -0.47077   -0.58865   -0.65865   -0.73436   -0.73633   -0.71501   -0.72325\n",
      "  -0.5544    -0.53067   -0.44136   -0.35869   -0.058208  -0.025293   0.13728\n",
      "   0.22998    0.41104    0.45703    0.53166    0.6468     0.74076    0.6436\n",
      "   0.69123    0.65062    0.59569    0.50919    0.37126    0.34462    0.20167\n",
      "   0.014384   0.16309    0.22429    0.3721     0.47947    0.57185    0.67789\n",
      "   0.62818    0.65161    0.69794    0.58969    0.6325     0.45107    0.41722\n",
      "   0.31738    0.080616   0.0092419 -0.17041   -0.28169   -0.41772   -0.48957\n",
      "  -0.66676   -0.67226   -0.70041   -0.66131   -0.67628   -0.64244   -0.64791\n",
      "  -0.58996   -0.34137   -0.34928   -0.075398  -0.0080941 -0.19643   -0.351\n",
      "  -0.48794   -0.51662   -0.53957   -0.6319    -0.62801   -0.74719   -0.71398\n",
      "  -0.67913   -0.65073   -0.56275   -0.36393   -0.27906   -0.21043\n",
      "   0.0029904  0.17129    0.29151    0.34036    0.52166    0.55271    0.67406\n",
      "   0.78949    0.6677     0.74841    0.67772    0.57917    0.53513    0.41053\n",
      "   0.30235    0.10668   -0.02451  ]\n",
      " [ 0.71087    0.64651    0.69381    0.50525    0.30363    0.22575    0.21976\n",
      "  -0.043558  -0.13053   -0.16671   -0.46765   -0.56399   -0.53362   -0.73436\n",
      "  -0.7262    -0.6731    -0.67095   -0.70825   -0.54678   -0.44842   -0.37434\n",
      "  -0.27404   -0.14001   -0.038053   0.18272    0.31274    0.44691    0.50017\n",
      "   0.54013    0.58979    0.7281     0.76071   -0.76989   -0.68586   -0.56835\n",
      "  -0.43997   -0.34802   -0.21141   -0.19851    0.024487   0.19129    0.28524\n",
      "   0.38516    0.44096    0.56017    0.65714    0.77009    0.69966    0.82588\n",
      "   0.63006    0.60263    0.44854    0.39103    0.33304    0.14158    0.022592\n",
      "  -0.041332  -0.19421   -0.353     -0.47454   -0.54358   -0.69508   -0.66606\n",
      "  -0.73359    0.64851    0.7151     0.5344     0.54362    0.3994     0.25801\n",
      "   0.16119    0.020307  -0.10479   -0.25892   -0.39477   -0.51642   -0.47632\n",
      "  -0.69541   -0.67395   -0.67319   -0.70777   -0.68584   -0.56486   -0.46833\n",
      "  -0.29036   -0.39379   -0.10744   -0.052277   0.12751    0.22034    0.30465\n",
      "   0.51317    0.57776    0.72961    0.7614     0.70178    0.67418    0.54458\n",
      "   0.41995    0.48495    0.4428     0.23601    0.098012   0.096035  -0.18383\n",
      "  -0.25882   -0.42118   -0.48362   -0.63122   -0.63909   -0.70561   -0.72546\n",
      "  -0.76045   -0.62786   -0.52119   -0.50111   -0.44619   -0.19007   -0.066842\n",
      "   0.097331   0.24196    0.27239    0.42559    0.50612    0.60869    0.59595\n",
      "   0.70472    0.6552   ]]\n"
     ]
    }
   ],
   "source": [
    "print (IQ_data[0,:,:])"
   ]
  },
  {
   "cell_type": "code",
   "execution_count": 4,
   "metadata": {
    "collapsed": false
   },
   "outputs": [
    {
     "name": "stdout",
     "output_type": "stream",
     "text": [
      "(4096, 1, 128)\n",
      "(4096, 2, 128)\n"
     ]
    }
   ],
   "source": [
    "#将上面数据处理代码汇总\n",
    "import numpy as np\n",
    "import pandas as pd\n",
    "I=pd.read_csv('E:\\\\autoencoder_matlab_signals\\\\I.csv',header=None)\n",
    "Q=pd.read_csv('E:\\\\autoencoder_matlab_signals\\\\Q.csv',header=None)\n",
    "I_array=np.array(I.values)\n",
    "Q_array=np.array(Q.values)\n",
    "\n",
    "#给I_array增加维度\n",
    "I_array1=I_array[:,np.newaxis,:]\n",
    "print (I_array1.shape)\n",
    "\n",
    "I_list=I_array1.tolist()\n",
    "\n",
    "for i in range(4096):\n",
    "    I_list[i].append(Q_array[i,:])\n",
    "\n",
    "IQ_data=np.array(I_list)\n",
    "print (IQ_data.shape)"
   ]
  },
  {
   "cell_type": "code",
   "execution_count": 5,
   "metadata": {
    "collapsed": false
   },
   "outputs": [
    {
     "name": "stdout",
     "output_type": "stream",
     "text": [
      "(4096, 2, 128, 1)\n",
      "(4096, 256)\n"
     ]
    }
   ],
   "source": [
    "IQ1=IQ_data[:,:,:,np.newaxis]\n",
    "print (IQ1.shape)\n",
    "IQ=IQ1.reshape((4096,-1))\n",
    "print (IQ.shape)"
   ]
  },
  {
   "cell_type": "code",
   "execution_count": 6,
   "metadata": {
    "collapsed": false
   },
   "outputs": [
    {
     "name": "stderr",
     "output_type": "stream",
     "text": [
      "Using TensorFlow backend.\n"
     ]
    }
   ],
   "source": [
    "from keras.models import Model #泛型模型  \n",
    "from keras.layers import Dense, Input  \n",
    "import matplotlib.pyplot as plt  "
   ]
  },
  {
   "cell_type": "code",
   "execution_count": 75,
   "metadata": {
    "collapsed": true
   },
   "outputs": [],
   "source": [
    "from keras.layers import Convolution2D, MaxPooling2D\n",
    "kernel_size = (2,64)\n",
    "input_shape=(2,128,1)\n",
    "nb_filters=1"
   ]
  },
  {
   "cell_type": "raw",
   "metadata": {
    "collapsed": false
   },
   "source": [
    "# this is our input placeholder  \n",
    "# 编码层  \n",
    "input_data= Input(shape=(256,))  \n",
    "encoded=Convolution2D(nb_filters, (kernel_size[0],kernel_size[1]),\n",
    "                                  activation='sigmoid',\n",
    "                                  padding='same',\n",
    "                                  name='1',\n",
    "                                  input_shape=input_shape)(input_data)\n",
    "encoded = MaxPooling2D((2, 2), padding='same',name='2')(encoded)  \n",
    "encoded_output = Dense(32, activation='relu',name='3')(encoded) \n",
    "\n",
    "# 解码层  \n",
    "decoded = Dense(2*128, activation='sigmoid',name='4')(encoded_output)  \n",
    "decoded = Convolution2D(2, (1,64),activation='sigmoid',\n",
    "                                 padding='same',name='5')(decoded) \n"
   ]
  },
  {
   "cell_type": "code",
   "execution_count": 7,
   "metadata": {
    "collapsed": false
   },
   "outputs": [],
   "source": [
    "# 编码层  \n",
    "input_data= Input(shape=(256,))   \n",
    "encoded = Dense(64, activation='tanh',name='1')(input_data) \n",
    "encoded_output = Dense(16, activation='relu',name='2')(encoded) \n",
    "\n",
    "# 解码层  \n",
    "decoded = Dense(16, activation='relu',name='3')(encoded_output)  \n",
    "decoded = Dense(64, activation='relu',name='4')(decoded) \n",
    "decoded = Dense(256, activation='tanh',name='5')(decoded) \n"
   ]
  },
  {
   "cell_type": "code",
   "execution_count": 8,
   "metadata": {
    "collapsed": true
   },
   "outputs": [],
   "source": [
    "# 构建自编码模型  \n",
    "autoencoder = Model(inputs=input_data, outputs=decoded)  \n",
    "\n",
    "# 构建编码模型  \n",
    "encoder = Model(inputs=input_data, outputs=encoded_output)  "
   ]
  },
  {
   "cell_type": "code",
   "execution_count": 9,
   "metadata": {
    "collapsed": false
   },
   "outputs": [
    {
     "name": "stdout",
     "output_type": "stream",
     "text": [
      "Epoch 1/20\n",
      "4096/4096 [==============================] - 0s - loss: 0.2492     \n",
      "Epoch 2/20\n",
      "4096/4096 [==============================] - 0s - loss: 0.2230     \n",
      "Epoch 3/20\n",
      "4096/4096 [==============================] - 0s - loss: 0.1797     \n",
      "Epoch 4/20\n",
      "4096/4096 [==============================] - 0s - loss: 0.1296     \n",
      "Epoch 5/20\n",
      "4096/4096 [==============================] - 0s - loss: 0.0867     \n",
      "Epoch 6/20\n",
      "4096/4096 [==============================] - 0s - loss: 0.0576     \n",
      "Epoch 7/20\n",
      "4096/4096 [==============================] - 0s - loss: 0.0331     \n",
      "Epoch 8/20\n",
      "4096/4096 [==============================] - 0s - loss: 0.0191     \n",
      "Epoch 9/20\n",
      "4096/4096 [==============================] - 0s - loss: 0.0129     \n",
      "Epoch 10/20\n",
      "4096/4096 [==============================] - 0s - loss: 0.0099     \n",
      "Epoch 11/20\n",
      "4096/4096 [==============================] - 0s - loss: 0.0081     \n",
      "Epoch 12/20\n",
      "4096/4096 [==============================] - 0s - loss: 0.0069     \n",
      "Epoch 13/20\n",
      "4096/4096 [==============================] - 0s - loss: 0.0060     \n",
      "Epoch 14/20\n",
      "4096/4096 [==============================] - 0s - loss: 0.0053     \n",
      "Epoch 15/20\n",
      "4096/4096 [==============================] - 0s - loss: 0.0048     \n",
      "Epoch 16/20\n",
      "4096/4096 [==============================] - 0s - loss: 0.0045     \n",
      "Epoch 17/20\n",
      "4096/4096 [==============================] - 0s - loss: 0.0042     \n",
      "Epoch 18/20\n",
      "4096/4096 [==============================] - 0s - loss: 0.0040     \n",
      "Epoch 19/20\n",
      "4096/4096 [==============================] - 0s - loss: 0.0038     \n",
      "Epoch 20/20\n",
      "4096/4096 [==============================] - 0s - loss: 0.0036     \n"
     ]
    },
    {
     "data": {
      "text/plain": [
       "<keras.callbacks.History at 0x1be66a5a898>"
      ]
     },
     "execution_count": 9,
     "metadata": {},
     "output_type": "execute_result"
    }
   ],
   "source": [
    "# compile autoencoder  \n",
    "autoencoder.compile(optimizer='adam', loss='mse')  \n",
    "  \n",
    "# training  \n",
    "autoencoder.fit(IQ, IQ, epochs=20, batch_size=256, shuffle=True)  "
   ]
  },
  {
   "cell_type": "code",
   "execution_count": 23,
   "metadata": {
    "collapsed": false
   },
   "outputs": [
    {
     "data": {
      "text/plain": [
       "<matplotlib.legend.Legend at 0x1be6880ab00>"
      ]
     },
     "execution_count": 23,
     "metadata": {},
     "output_type": "execute_result"
    },
    {
     "data": {
      "image/png": "[encoded data removed]",
      "text/plain": [
       "<matplotlib.figure.Figure at 0x1be68781a90>"
      ]
     },
     "metadata": {},
     "output_type": "display_data"
    }
   ],
   "source": [
    "I_1=IQ[0,0:127]\n",
    "Q_1=IQ[0,128:256]\n",
    "%matplotlib inline\n",
    "plt.plot(I_1,'r')\n",
    "plt.plot(Q_1,'g')\n",
    "plt.legend(['I','Q'])"
   ]
  },
  {
   "cell_type": "code",
   "execution_count": 24,
   "metadata": {
    "collapsed": false
   },
   "outputs": [],
   "source": [
    "IQ_predict=autoencoder.predict(IQ)"
   ]
  },
  {
   "cell_type": "code",
   "execution_count": 25,
   "metadata": {
    "collapsed": false
   },
   "outputs": [
    {
     "data": {
      "text/plain": [
       "<matplotlib.legend.Legend at 0x1be68c88b00>"
      ]
     },
     "execution_count": 25,
     "metadata": {},
     "output_type": "execute_result"
    },
    {
     "data": {
      "image/png": "[encoded data removed]",
      "text/plain": [
       "<matplotlib.figure.Figure at 0x1be68825160>"
      ]
     },
     "metadata": {},
     "output_type": "display_data"
    }
   ],
   "source": [
    "I_predict1=IQ_predict[0,0:127]\n",
    "Q_predict1=IQ_predict[0,128:256]\n",
    "%matplotlib inline\n",
    "plt.plot(I_predict1,'r')\n",
    "plt.plot(Q_predict1,'g')\n",
    "plt.legend(['I_predict','Q_predict'])"
   ]
  },
  {
   "cell_type": "code",
   "execution_count": 26,
   "metadata": {
    "collapsed": true
   },
   "outputs": [],
   "source": [
    "IQ_low_dim=encoder.predict(IQ)"
   ]
  },
  {
   "cell_type": "code",
   "execution_count": 27,
   "metadata": {
    "collapsed": false
   },
   "outputs": [
    {
     "data": {
      "text/plain": [
       "<Container object of 3 artists>"
      ]
     },
     "execution_count": 27,
     "metadata": {},
     "output_type": "execute_result"
    },
    {
     "data": {
      "image/png": "[encoded data removed]",
      "text/plain": [
       "<matplotlib.figure.Figure at 0x1be687c7240>"
      ]
     },
     "metadata": {},
     "output_type": "display_data"
    }
   ],
   "source": [
    "IQ_low_dim1=IQ_low_dim[0,:]\n",
    "%matplotlib inline\n",
    "plt.stem(np.arange(16),IQ_low_dim1)"
   ]
  },
  {
   "cell_type": "code",
   "execution_count": 28,
   "metadata": {
    "collapsed": false
   },
   "outputs": [
    {
     "name": "stdout",
     "output_type": "stream",
     "text": [
      "(4096, 1, 128)\n",
      "(4096, 2, 128)\n"
     ]
    }
   ],
   "source": [
    "I_test=pd.read_csv('E:\\\\autoencoder_matlab_signals\\\\I1.csv',header=None)\n",
    "Q_test=pd.read_csv('E:\\\\autoencoder_matlab_signals\\\\Q1.csv',header=None)\n",
    "I_test_array=np.array(I_test.values)\n",
    "Q_test_array=np.array(Q_test.values)\n",
    "\n",
    "#给I_array增加维度\n",
    "I_test_array1=I_test_array[:,np.newaxis,:]\n",
    "print (I_test_array1.shape)\n",
    "\n",
    "I_test_list=I_test_array1.tolist()\n",
    "\n",
    "for i in range(4096):\n",
    "    I_test_list[i].append(Q_test_array[i,:])\n",
    "\n",
    "IQ_test_data=np.array(I_list)\n",
    "print (IQ_test_data.shape)"
   ]
  },
  {
   "cell_type": "code",
   "execution_count": 29,
   "metadata": {
    "collapsed": false
   },
   "outputs": [
    {
     "name": "stdout",
     "output_type": "stream",
     "text": [
      "(4096, 2, 128, 1)\n",
      "(4096, 256)\n"
     ]
    }
   ],
   "source": [
    "IQ1_test=IQ_test_data[:,:,:,np.newaxis]\n",
    "print (IQ1_test.shape)\n",
    "IQ_test=IQ1_test.reshape((4096,-1))\n",
    "print (IQ_test.shape)"
   ]
  },
  {
   "cell_type": "code",
   "execution_count": 32,
   "metadata": {
    "collapsed": false
   },
   "outputs": [
    {
     "data": {
      "text/plain": [
       "<matplotlib.legend.Legend at 0x1be6a7e2fd0>"
      ]
     },
     "execution_count": 32,
     "metadata": {},
     "output_type": "execute_result"
    },
    {
     "data": {
      "image/png": "[encoded data removed]",
      "text/plain": [
       "<matplotlib.figure.Figure at 0x1be6a79b1d0>"
      ]
     },
     "metadata": {},
     "output_type": "display_data"
    }
   ],
   "source": [
    "I_test_1=IQ_test[1,0:127]\n",
    "Q_test_1=IQ_test[1,128:256]\n",
    "%matplotlib inline\n",
    "plt.plot(I_test_1,'r')\n",
    "plt.plot(Q_test_1,'g')\n",
    "plt.legend(['I_test','Q_test'])"
   ]
  },
  {
   "cell_type": "code",
   "execution_count": 33,
   "metadata": {
    "collapsed": true
   },
   "outputs": [],
   "source": [
    "IQ_test_predict=autoencoder.predict(IQ_test)"
   ]
  },
  {
   "cell_type": "code",
   "execution_count": 35,
   "metadata": {
    "collapsed": false
   },
   "outputs": [
    {
     "data": {
      "text/plain": [
       "<matplotlib.legend.Legend at 0x1be6858f320>"
      ]
     },
     "execution_count": 35,
     "metadata": {},
     "output_type": "execute_result"
    },
    {
     "data": {
      "image/png": "[encoded data removed]",
      "text/plain": [
       "<matplotlib.figure.Figure at 0x1be68652400>"
      ]
     },
     "metadata": {},
     "output_type": "display_data"
    }
   ],
   "source": [
    "I_test_predict1=IQ_test_predict[1,0:127]\n",
    "Q_test_predict1=IQ_test_predict[1,128:256]\n",
    "%matplotlib inline\n",
    "plt.plot(I_test_predict1,'r')\n",
    "plt.plot(Q_test_predict1,'g')\n",
    "plt.legend(['I_test_predict','Q_test_predict'])"
   ]
  },
  {
   "cell_type": "code",
   "execution_count": 36,
   "metadata": {
    "collapsed": true
   },
   "outputs": [],
   "source": [
    "IQ_test_low_dim=encoder.predict(IQ_test)"
   ]
  },
  {
   "cell_type": "code",
   "execution_count": 37,
   "metadata": {
    "collapsed": false
   },
   "outputs": [
    {
     "data": {
      "text/plain": [
       "<Container object of 3 artists>"
      ]
     },
     "execution_count": 37,
     "metadata": {},
     "output_type": "execute_result"
    },
    {
     "data": {
      "image/png": "[encoded data removed]",
      "text/plain": [
       "<matplotlib.figure.Figure at 0x1be6a8072e8>"
      ]
     },
     "metadata": {},
     "output_type": "display_data"
    }
   ],
   "source": [
    "IQ_test_low_dim1=IQ_test_low_dim[1,:]\n",
    "%matplotlib inline\n",
    "plt.stem(np.arange(16),IQ_test_low_dim1)"
   ]
  },
  {
   "cell_type": "code",
   "execution_count": 14,
   "metadata": {
    "collapsed": true
   },
   "outputs": [],
   "source": [
    "a=[[],[]]\n",
    "for u in a:\n",
    "    u.append(2)"
   ]
  },
  {
   "cell_type": "code",
   "execution_count": 15,
   "metadata": {
    "collapsed": false
   },
   "outputs": [
    {
     "data": {
      "text/plain": [
       "[[2], [2]]"
      ]
     },
     "execution_count": 15,
     "metadata": {},
     "output_type": "execute_result"
    }
   ],
   "source": [
    "a"
   ]
  },
  {
   "cell_type": "code",
   "execution_count": 22,
   "metadata": {
    "collapsed": false
   },
   "outputs": [
    {
     "data": {
      "text/plain": [
       "3"
      ]
     },
     "execution_count": 22,
     "metadata": {},
     "output_type": "execute_result"
    }
   ],
   "source": [
    "a=[[1,2,3][]]\n",
    "np.size(a)"
   ]
  },
  {
   "cell_type": "code",
   "execution_count": null,
   "metadata": {
    "collapsed": true
   },
   "outputs": [],
   "source": [
    "a[]"
   ]
  }
 ],
 "metadata": {
  "anaconda-cloud": {},
  "kernelspec": {
   "display_name": "Python [Root]",
   "language": "python",
   "name": "Python [Root]"
  },
  "language_info": {
   "codemirror_mode": {
    "name": "ipython",
    "version": 3
   },
   "file_extension": ".py",
   "mimetype": "text/x-python",
   "name": "python",
   "nbconvert_exporter": "python",
   "pygments_lexer": "ipython3",
   "version": "3.5.1"
  }
 },
 "nbformat": 4,
 "nbformat_minor": 0
}
