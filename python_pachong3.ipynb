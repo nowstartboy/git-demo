{
 "cells": [
  {
   "cell_type": "code",
   "execution_count": 8,
   "metadata": {
    "collapsed": false
   },
   "outputs": [
    {
     "name": "stdout",
     "output_type": "stream",
     "text": [
      "http://hbimg.b0.upaiyun.com/efdf2b131738ae8b48be0229d3b61af76ed1faef3b59e-g30yWe_sq236bl4\n",
      "http://hbimg.b0.upaiyun.com/17863f9395f8be2a768cd75d10c22463c770257b150b94-8ljipF_sq236bl4\n",
      "http://hbimg.b0.upaiyun.com/0d17cb83f001aa129ba8b5ffba80c565ba2d2f43edf4-oJMUOx_sq236bl4\n",
      "http://hbimg.b0.upaiyun.com/8539db1596129e09f461e52b44b8d8c2b29cfc56139157-DknzE6_sq236bl4\n",
      "http://hbimg.b0.upaiyun.com/1e413d98ec05a6ea24a31dced5d8def35b8f1bb726ab1-UndkkD_sq236bl4\n",
      "http://hbimg.b0.upaiyun.com/d73b15e1633074f31b743a61e94c6654d4171fbb24db1-EBCmr2_sq236bl4\n",
      "http://hbimg.b0.upaiyun.com/bffe68be61131d291131bde564828cb063904dfa182340-jcHU9L_sq236bl4\n",
      "http://hbimg.b0.upaiyun.com/090fd47c141d69672e6df4c61e0251c2033fe57814671-QNfhlS_sq320\n",
      "http://hbimg.b0.upaiyun.com/009061099d73b8cb2853d0cc2ca91c97bb47751ae9e2-ZJTarD_sq320\n",
      "http://hbimg.b0.upaiyun.com/1b58483b131edc15b004667e8df10296292e9837e808-FVqLg3_sq320\n",
      "http://hbimg.b0.upaiyun.com/cb0f84f5133dc99b29e047c23fec315583f0430b9a0f1-94TyCO_sq320\n",
      "http://hbimg.b0.upaiyun.com/cfb4e86acfc4f098ccd72bb76c77e9fb09a1a068a0f9-YMUPF5_sq320\n",
      "http://hbimg.b0.upaiyun.com/15061e81931857bca8f297d6a7105bb10e641e8e15f85-vdT1EZ_sq320\n",
      "http://hbimg.b0.upaiyun.com/e0b057701d06e470df81eb610094cab52cc9b76c171a-z3NORD_sq320\n",
      "http://hbimg.b0.upaiyun.com/c5ac5d2f39e2e7bbeebc5f365aeaa7b6677eeedc113d1-FMGtu3_sq320\n",
      "http://hbimg.b0.upaiyun.com/d6763b4ede85e278e03e88d2d1e7e06c98f29f97124d7-Fz3Nrm_sq320\n",
      "http://hbimg.b0.upaiyun.com/70a8e050ab26f8f5264b882bcd42d8787f3270d03e73-MQJ1OP_sq320\n",
      "http://hbimg.b0.upaiyun.com/8fc3486a5c0e04209a43b3ba2415389153daa40360a5-EdIfBv_sq320\n",
      "http://hbimg.b0.upaiyun.com/4f2c9caf5d49790c3416f5f522b6352c433ea46d554b-HcdvzY_sq320\n",
      "http://hbimg.b0.upaiyun.com/95696efbdbfa270db6c7cdc3267f13be6cbb98a0ef22-nft5zy_sq320\n",
      "http://hbimg.b0.upaiyun.com/e3fd24dd820c4fc685dada84992a78e013bcb5c831302-nsQ0jY_sq320\n",
      "http://hbimg.b0.upaiyun.com/2308a720a535a278628afa6438db0b467371b148249f2-EC39ed_sq320\n"
     ]
    }
   ],
   "source": [
    "from selenium import webdriver\n",
    "from bs4 import BeautifulSoup\n",
    "#打开一个浏览器，若phantomjs.exe或chromedriver.exe在环境变量中\n",
    "#可精简为driver = webdriver.PhantomJS()或driver = webdriver.Chrome()，否则要表明路径\n",
    "driver = webdriver.Chrome(executable_path=\"E:\\\\chromedriver_win32\\\\chromedriver.exe\")\n",
    "#窗口最大化\n",
    "#driver.maximize_window()\n",
    "#访问网站\n",
    "driver.get('http://huaban.com')\n",
    "#获得网页信息\n",
    "soup = BeautifulSoup(driver.page_source, \"lxml\")\n",
    "#利用开发者工具找到我们需要的图片地址\n",
    "results = soup.select('img[data-baiduimageplus-ignore=\"1\"]')\n",
    "#for r in results时发现有最后两个列表元素不是我们需要的网址，用[0:-2]去除\n",
    "for r in results[0:-2]:\n",
    "    print('http:'+r['src'])\n",
    "#关闭浏览器\n",
    "driver.quit()"
   ]
  },
  {
   "cell_type": "code",
   "execution_count": 9,
   "metadata": {
    "collapsed": false
   },
   "outputs": [
    {
     "name": "stdout",
     "output_type": "stream",
     "text": [
      "<img data-baiduimageplus-ignore=\"1\" src=\"//hbimg.b0.upaiyun.com/2308a720a535a278628afa6438db0b467371b148249f2-EC39ed_sq320\"/>\n"
     ]
    }
   ],
   "source": [
    "print (r)"
   ]
  },
  {
   "cell_type": "markdown",
   "metadata": {},
   "source": [
    "### 登录QQ"
   ]
  },
  {
   "cell_type": "markdown",
   "metadata": {},
   "source": [
    "frame框架是网页中常用的技术，可以让多个URL的内容显示在一个页面中。常用标签FRAMESET，FRAME实现。FRAMESET是用以划分框窗，每一框窗由一个FRAME标记所标示，FRAME必须在FRAMESET范围中使用。iframe在frame的基础上提供了更多好用的特性。"
   ]
  },
  {
   "cell_type": "code",
   "execution_count": 3,
   "metadata": {
    "collapsed": false
   },
   "outputs": [
    {
     "ename": "TimeoutException",
     "evalue": "Message: timeout\n  (Session info: chrome=59.0.3071.115)\n  (Driver info: chromedriver=2.30.477700 (0057494ad8732195794a7b32078424f92a5fce41),platform=Windows NT 10.0.10586 x86_64)\n",
     "output_type": "error",
     "traceback": [
      "\u001b[1;31m---------------------------------------------------------------------------\u001b[0m",
      "\u001b[1;31mTimeoutException\u001b[0m                          Traceback (most recent call last)",
      "\u001b[1;32m<ipython-input-3-18acd4eebc17>\u001b[0m in \u001b[0;36m<module>\u001b[1;34m()\u001b[0m\n\u001b[0;32m      4\u001b[0m \u001b[0murl\u001b[0m \u001b[1;33m=\u001b[0m \u001b[1;34m'http://user.qzone.qq.com/'\u001b[0m\u001b[1;33m\u001b[0m\u001b[0m\n\u001b[0;32m      5\u001b[0m \u001b[0mdriver\u001b[0m \u001b[1;33m=\u001b[0m \u001b[0mwebdriver\u001b[0m\u001b[1;33m.\u001b[0m\u001b[0mChrome\u001b[0m\u001b[1;33m(\u001b[0m\u001b[0mexecutable_path\u001b[0m\u001b[1;33m=\u001b[0m\u001b[1;34m\"E:/chromedriver_win32/chromedriver.exe\"\u001b[0m\u001b[1;33m)\u001b[0m\u001b[1;33m\u001b[0m\u001b[0m\n\u001b[1;32m----> 6\u001b[1;33m \u001b[0mdriver\u001b[0m\u001b[1;33m.\u001b[0m\u001b[0mget\u001b[0m\u001b[1;33m(\u001b[0m\u001b[0murl\u001b[0m\u001b[1;33m)\u001b[0m\u001b[1;33m\u001b[0m\u001b[0m\n\u001b[0m\u001b[0;32m      7\u001b[0m \u001b[0mtime\u001b[0m\u001b[1;33m.\u001b[0m\u001b[0msleep\u001b[0m\u001b[1;33m(\u001b[0m\u001b[1;36m5\u001b[0m\u001b[1;33m)\u001b[0m\u001b[1;33m\u001b[0m\u001b[0m\n\u001b[0;32m      8\u001b[0m \u001b[1;33m\u001b[0m\u001b[0m\n",
      "\u001b[1;32mD:\\anaconda1\\lib\\site-packages\\selenium\\webdriver\\remote\\webdriver.py\u001b[0m in \u001b[0;36mget\u001b[1;34m(self, url)\u001b[0m\n\u001b[0;32m    266\u001b[0m         \u001b[0mLoads\u001b[0m \u001b[0ma\u001b[0m \u001b[0mweb\u001b[0m \u001b[0mpage\u001b[0m \u001b[1;32min\u001b[0m \u001b[0mthe\u001b[0m \u001b[0mcurrent\u001b[0m \u001b[0mbrowser\u001b[0m \u001b[0msession\u001b[0m\u001b[1;33m.\u001b[0m\u001b[1;33m\u001b[0m\u001b[0m\n\u001b[0;32m    267\u001b[0m         \"\"\"\n\u001b[1;32m--> 268\u001b[1;33m         \u001b[0mself\u001b[0m\u001b[1;33m.\u001b[0m\u001b[0mexecute\u001b[0m\u001b[1;33m(\u001b[0m\u001b[0mCommand\u001b[0m\u001b[1;33m.\u001b[0m\u001b[0mGET\u001b[0m\u001b[1;33m,\u001b[0m \u001b[1;33m{\u001b[0m\u001b[1;34m'url'\u001b[0m\u001b[1;33m:\u001b[0m \u001b[0murl\u001b[0m\u001b[1;33m}\u001b[0m\u001b[1;33m)\u001b[0m\u001b[1;33m\u001b[0m\u001b[0m\n\u001b[0m\u001b[0;32m    269\u001b[0m \u001b[1;33m\u001b[0m\u001b[0m\n\u001b[0;32m    270\u001b[0m     \u001b[1;33m@\u001b[0m\u001b[0mproperty\u001b[0m\u001b[1;33m\u001b[0m\u001b[0m\n",
      "\u001b[1;32mD:\\anaconda1\\lib\\site-packages\\selenium\\webdriver\\remote\\webdriver.py\u001b[0m in \u001b[0;36mexecute\u001b[1;34m(self, driver_command, params)\u001b[0m\n\u001b[0;32m    254\u001b[0m         \u001b[0mresponse\u001b[0m \u001b[1;33m=\u001b[0m \u001b[0mself\u001b[0m\u001b[1;33m.\u001b[0m\u001b[0mcommand_executor\u001b[0m\u001b[1;33m.\u001b[0m\u001b[0mexecute\u001b[0m\u001b[1;33m(\u001b[0m\u001b[0mdriver_command\u001b[0m\u001b[1;33m,\u001b[0m \u001b[0mparams\u001b[0m\u001b[1;33m)\u001b[0m\u001b[1;33m\u001b[0m\u001b[0m\n\u001b[0;32m    255\u001b[0m         \u001b[1;32mif\u001b[0m \u001b[0mresponse\u001b[0m\u001b[1;33m:\u001b[0m\u001b[1;33m\u001b[0m\u001b[0m\n\u001b[1;32m--> 256\u001b[1;33m             \u001b[0mself\u001b[0m\u001b[1;33m.\u001b[0m\u001b[0merror_handler\u001b[0m\u001b[1;33m.\u001b[0m\u001b[0mcheck_response\u001b[0m\u001b[1;33m(\u001b[0m\u001b[0mresponse\u001b[0m\u001b[1;33m)\u001b[0m\u001b[1;33m\u001b[0m\u001b[0m\n\u001b[0m\u001b[0;32m    257\u001b[0m             response['value'] = self._unwrap_value(\n\u001b[0;32m    258\u001b[0m                 response.get('value', None))\n",
      "\u001b[1;32mD:\\anaconda1\\lib\\site-packages\\selenium\\webdriver\\remote\\errorhandler.py\u001b[0m in \u001b[0;36mcheck_response\u001b[1;34m(self, response)\u001b[0m\n\u001b[0;32m    192\u001b[0m         \u001b[1;32melif\u001b[0m \u001b[0mexception_class\u001b[0m \u001b[1;33m==\u001b[0m \u001b[0mUnexpectedAlertPresentException\u001b[0m \u001b[1;32mand\u001b[0m \u001b[1;34m'alert'\u001b[0m \u001b[1;32min\u001b[0m \u001b[0mvalue\u001b[0m\u001b[1;33m:\u001b[0m\u001b[1;33m\u001b[0m\u001b[0m\n\u001b[0;32m    193\u001b[0m             \u001b[1;32mraise\u001b[0m \u001b[0mexception_class\u001b[0m\u001b[1;33m(\u001b[0m\u001b[0mmessage\u001b[0m\u001b[1;33m,\u001b[0m \u001b[0mscreen\u001b[0m\u001b[1;33m,\u001b[0m \u001b[0mstacktrace\u001b[0m\u001b[1;33m,\u001b[0m \u001b[0mvalue\u001b[0m\u001b[1;33m[\u001b[0m\u001b[1;34m'alert'\u001b[0m\u001b[1;33m]\u001b[0m\u001b[1;33m.\u001b[0m\u001b[0mget\u001b[0m\u001b[1;33m(\u001b[0m\u001b[1;34m'text'\u001b[0m\u001b[1;33m)\u001b[0m\u001b[1;33m)\u001b[0m\u001b[1;33m\u001b[0m\u001b[0m\n\u001b[1;32m--> 194\u001b[1;33m         \u001b[1;32mraise\u001b[0m \u001b[0mexception_class\u001b[0m\u001b[1;33m(\u001b[0m\u001b[0mmessage\u001b[0m\u001b[1;33m,\u001b[0m \u001b[0mscreen\u001b[0m\u001b[1;33m,\u001b[0m \u001b[0mstacktrace\u001b[0m\u001b[1;33m)\u001b[0m\u001b[1;33m\u001b[0m\u001b[0m\n\u001b[0m\u001b[0;32m    195\u001b[0m \u001b[1;33m\u001b[0m\u001b[0m\n\u001b[0;32m    196\u001b[0m     \u001b[1;32mdef\u001b[0m \u001b[0m_value_or_default\u001b[0m\u001b[1;33m(\u001b[0m\u001b[0mself\u001b[0m\u001b[1;33m,\u001b[0m \u001b[0mobj\u001b[0m\u001b[1;33m,\u001b[0m \u001b[0mkey\u001b[0m\u001b[1;33m,\u001b[0m \u001b[0mdefault\u001b[0m\u001b[1;33m)\u001b[0m\u001b[1;33m:\u001b[0m\u001b[1;33m\u001b[0m\u001b[0m\n",
      "\u001b[1;31mTimeoutException\u001b[0m: Message: timeout\n  (Session info: chrome=59.0.3071.115)\n  (Driver info: chromedriver=2.30.477700 (0057494ad8732195794a7b32078424f92a5fce41),platform=Windows NT 10.0.10586 x86_64)\n"
     ]
    }
   ],
   "source": [
    "from selenium import webdriver\n",
    "import time\n",
    "\n",
    "url = 'http://user.qzone.qq.com/'\n",
    "driver = webdriver.Chrome(executable_path=\"E:/chromedriver_win32/chromedriver.exe\")\n",
    "driver.get(url)\n",
    "time.sleep(5)\n",
    "\n",
    "#点击“帐号密码登录”按钮\n",
    "driver.find_element_by_id('switcher_plogin').click()\n",
    "#定位帐号输入框\n",
    "username = driver.find_element_by_id('u')\n",
    "#清空帐号输入框内容\n",
    "username.clear()\n",
    "#填写帐号\n",
    "username.send_keys('1300724148')\n",
    "password = driver.find_element_by_id('p')\n",
    "password.clear()\n",
    "password.send_keys('cdk13476628712')\n",
    "#点击“登录”按钮\n",
    "driver.find_element_by_id('login_button').click()\n",
    "\n",
    "#driver.quit()"
   ]
  },
  {
   "cell_type": "code",
   "execution_count": 13,
   "metadata": {
    "collapsed": false,
    "scrolled": true
   },
   "outputs": [
    {
     "ename": "NameError",
     "evalue": "name 'find_element_by_xpath' is not defined",
     "output_type": "error",
     "traceback": [
      "\u001b[1;31m---------------------------------------------------------------------------\u001b[0m",
      "\u001b[1;31mNameError\u001b[0m                                 Traceback (most recent call last)",
      "\u001b[1;32m<ipython-input-13-00cb7205896b>\u001b[0m in \u001b[0;36m<module>\u001b[1;34m()\u001b[0m\n\u001b[0;32m      9\u001b[0m \u001b[1;31m#切换到登录的frame上\u001b[0m\u001b[1;33m\u001b[0m\u001b[1;33m\u001b[0m\u001b[0m\n\u001b[0;32m     10\u001b[0m \u001b[1;31m#driver.switch_to.frame('login_frame')\u001b[0m\u001b[1;33m\u001b[0m\u001b[1;33m\u001b[0m\u001b[0m\n\u001b[1;32m---> 11\u001b[1;33m \u001b[0melem\u001b[0m \u001b[1;33m=\u001b[0m \u001b[0mfind_element_by_xpath\u001b[0m\u001b[1;33m(\u001b[0m\u001b[1;34m\"//iframe[@id='login_frame']\"\u001b[0m\u001b[1;33m)\u001b[0m\u001b[1;33m;\u001b[0m \u001b[1;31m#since this has no id or name\u001b[0m\u001b[1;33m\u001b[0m\u001b[0m\n\u001b[0m\u001b[0;32m     12\u001b[0m \u001b[0mdriver\u001b[0m\u001b[1;33m.\u001b[0m\u001b[0mswitch_to\u001b[0m\u001b[1;33m(\u001b[0m\u001b[1;33m)\u001b[0m\u001b[1;33m.\u001b[0m\u001b[0mframe\u001b[0m\u001b[1;33m(\u001b[0m\u001b[0melem\u001b[0m\u001b[1;33m)\u001b[0m\u001b[1;33m;\u001b[0m\u001b[1;33m\u001b[0m\u001b[0m\n\u001b[0;32m     13\u001b[0m \u001b[1;31m#点击“帐号密码登录”按钮\u001b[0m\u001b[1;33m\u001b[0m\u001b[1;33m\u001b[0m\u001b[0m\n",
      "\u001b[1;31mNameError\u001b[0m: name 'find_element_by_xpath' is not defined"
     ]
    }
   ],
   "source": [
    "from selenium import webdriver\n",
    "import time\n",
    "\n",
    "url = 'https://user.qzone.qq.com/'\n",
    "driver = webdriver.Chrome(executable_path=\"E:/chromedriver_win32/chromedriver.exe\")\n",
    "driver.get(url)\n",
    "time.sleep(5)\n",
    "\n",
    "#切换到登录的frame上\n",
    "#driver.switch_to.frame('login_frame')\n",
    "elem = find_element_by_xpath(\"//iframe[@id='login_frame']\"); #since this has no id or name\n",
    "driver.switch_to().frame(elem);\n",
    "#点击“帐号密码登录”按钮\n",
    "driver.find_element_by_id('switcher_plogin').click()\n",
    "#定位帐号输入框\n",
    "username = driver.find_element_by_id('u')\n",
    "#清空帐号输入框内容\n",
    "username.clear()\n",
    "#填写帐号\n",
    "username.send_keys('1300724148')\n",
    "password = driver.find_element_by_id('p')\n",
    "password.clear()\n",
    "password.send_keys('cdk13476628712')\n",
    "#点击“登录”按钮\n",
    "driver.find_element_by_id('login_button').click()\n",
    "\n",
    "driver.quit()"
   ]
  },
  {
   "cell_type": "code",
   "execution_count": null,
   "metadata": {
    "collapsed": true
   },
   "outputs": [],
   "source": [
    "WebElement elem = null;\n",
    "driver.switchTo().defaultContent();\n",
    "elem = driver.findElement(By.xpath(\"//frame[1]\")); //since this has no id or name\n",
    "driver.switchTo().frame(elem);\n",
    "elem = driver.findElement(By.xpath(\"//frame[@id='head']\")); \n",
    "driver.switchTo().frame(elem);\n"
   ]
  },
  {
   "cell_type": "markdown",
   "metadata": {},
   "source": [
    "find_element(by='id', value=None) \n",
    "find_element_by_class_name(name) \n",
    "find_element_by_css_selector(css_selector) \n",
    "find_element_by_id(id) \n",
    "find_element_by_link_text(link_text) \n",
    "find_element_by_name(name) \n",
    "find_element_by_partial_link_text(link_text) \n",
    "find_element_by_tag_name(name) \n",
    "find_element_by_xpath(xpath) \n",
    "element后加s则返回一组对象 "
   ]
  },
  {
   "cell_type": "code",
   "execution_count": 12,
   "metadata": {
    "collapsed": false,
    "scrolled": true
   },
   "outputs": [
    {
     "ename": "InvalidSelectorException",
     "evalue": "Message: invalid selector: Compound class names not permitted\n  (Session info: chrome=59.0.3071.115)\n  (Driver info: chromedriver=2.30.477700 (0057494ad8732195794a7b32078424f92a5fce41),platform=Windows NT 10.0.10586 x86_64)\n",
     "output_type": "error",
     "traceback": [
      "\u001b[1;31m---------------------------------------------------------------------------\u001b[0m",
      "\u001b[1;31mInvalidSelectorException\u001b[0m                  Traceback (most recent call last)",
      "\u001b[1;32m<ipython-input-12-886de8ac9be5>\u001b[0m in \u001b[0;36m<module>\u001b[1;34m()\u001b[0m\n\u001b[0;32m     21\u001b[0m \u001b[0mpassword\u001b[0m\u001b[1;33m.\u001b[0m\u001b[0msend_keys\u001b[0m\u001b[1;33m(\u001b[0m\u001b[1;34m'421182199411230039'\u001b[0m\u001b[1;33m)\u001b[0m\u001b[1;33m\u001b[0m\u001b[0m\n\u001b[0;32m     22\u001b[0m \u001b[1;31m#点击“登录”按钮\u001b[0m\u001b[1;33m\u001b[0m\u001b[1;33m\u001b[0m\u001b[0m\n\u001b[1;32m---> 23\u001b[1;33m \u001b[0mdriver\u001b[0m\u001b[1;33m.\u001b[0m\u001b[0mfind_element_by_class_name\u001b[0m\u001b[1;33m(\u001b[0m\u001b[1;34m'btnsubmit btn btn-primary btn-lg'\u001b[0m\u001b[1;33m)\u001b[0m\u001b[1;33m.\u001b[0m\u001b[0mclick\u001b[0m\u001b[1;33m(\u001b[0m\u001b[1;33m)\u001b[0m\u001b[1;33m\u001b[0m\u001b[0m\n\u001b[0m\u001b[0;32m     24\u001b[0m \u001b[1;31m#driver.findElement(By.xpath(\"//*[text()=’立即登录’]\"));\u001b[0m\u001b[1;33m\u001b[0m\u001b[1;33m\u001b[0m\u001b[0m\n\u001b[0;32m     25\u001b[0m \u001b[0mdriver\u001b[0m\u001b[1;33m.\u001b[0m\u001b[0mfind_element\u001b[0m\u001b[1;33m(\u001b[0m\u001b[0mBy\u001b[0m\u001b[1;33m.\u001b[0m\u001b[0mcssSelector\u001b[0m\u001b[1;33m(\u001b[0m\u001b[1;34m\"btnsubmit btn btn-primary btn-lg\"\u001b[0m\u001b[1;33m)\u001b[0m\u001b[1;33m)\u001b[0m\u001b[1;33m\u001b[0m\u001b[0m\n",
      "\u001b[1;32mD:\\anaconda1\\lib\\site-packages\\selenium\\webdriver\\remote\\webdriver.py\u001b[0m in \u001b[0;36mfind_element_by_class_name\u001b[1;34m(self, name)\u001b[0m\n\u001b[0;32m    431\u001b[0m             \u001b[0mdriver\u001b[0m\u001b[1;33m.\u001b[0m\u001b[0mfind_element_by_class_name\u001b[0m\u001b[1;33m(\u001b[0m\u001b[1;34m'foo'\u001b[0m\u001b[1;33m)\u001b[0m\u001b[1;33m\u001b[0m\u001b[0m\n\u001b[0;32m    432\u001b[0m         \"\"\"\n\u001b[1;32m--> 433\u001b[1;33m         \u001b[1;32mreturn\u001b[0m \u001b[0mself\u001b[0m\u001b[1;33m.\u001b[0m\u001b[0mfind_element\u001b[0m\u001b[1;33m(\u001b[0m\u001b[0mby\u001b[0m\u001b[1;33m=\u001b[0m\u001b[0mBy\u001b[0m\u001b[1;33m.\u001b[0m\u001b[0mCLASS_NAME\u001b[0m\u001b[1;33m,\u001b[0m \u001b[0mvalue\u001b[0m\u001b[1;33m=\u001b[0m\u001b[0mname\u001b[0m\u001b[1;33m)\u001b[0m\u001b[1;33m\u001b[0m\u001b[0m\n\u001b[0m\u001b[0;32m    434\u001b[0m \u001b[1;33m\u001b[0m\u001b[0m\n\u001b[0;32m    435\u001b[0m     \u001b[1;32mdef\u001b[0m \u001b[0mfind_elements_by_class_name\u001b[0m\u001b[1;33m(\u001b[0m\u001b[0mself\u001b[0m\u001b[1;33m,\u001b[0m \u001b[0mname\u001b[0m\u001b[1;33m)\u001b[0m\u001b[1;33m:\u001b[0m\u001b[1;33m\u001b[0m\u001b[0m\n",
      "\u001b[1;32mD:\\anaconda1\\lib\\site-packages\\selenium\\webdriver\\remote\\webdriver.py\u001b[0m in \u001b[0;36mfind_element\u001b[1;34m(self, by, value)\u001b[0m\n\u001b[0;32m    789\u001b[0m         return self.execute(Command.FIND_ELEMENT, {\n\u001b[0;32m    790\u001b[0m             \u001b[1;34m'using'\u001b[0m\u001b[1;33m:\u001b[0m \u001b[0mby\u001b[0m\u001b[1;33m,\u001b[0m\u001b[1;33m\u001b[0m\u001b[0m\n\u001b[1;32m--> 791\u001b[1;33m             'value': value})['value']\n\u001b[0m\u001b[0;32m    792\u001b[0m \u001b[1;33m\u001b[0m\u001b[0m\n\u001b[0;32m    793\u001b[0m     \u001b[1;32mdef\u001b[0m \u001b[0mfind_elements\u001b[0m\u001b[1;33m(\u001b[0m\u001b[0mself\u001b[0m\u001b[1;33m,\u001b[0m \u001b[0mby\u001b[0m\u001b[1;33m=\u001b[0m\u001b[0mBy\u001b[0m\u001b[1;33m.\u001b[0m\u001b[0mID\u001b[0m\u001b[1;33m,\u001b[0m \u001b[0mvalue\u001b[0m\u001b[1;33m=\u001b[0m\u001b[1;32mNone\u001b[0m\u001b[1;33m)\u001b[0m\u001b[1;33m:\u001b[0m\u001b[1;33m\u001b[0m\u001b[0m\n",
      "\u001b[1;32mD:\\anaconda1\\lib\\site-packages\\selenium\\webdriver\\remote\\webdriver.py\u001b[0m in \u001b[0;36mexecute\u001b[1;34m(self, driver_command, params)\u001b[0m\n\u001b[0;32m    254\u001b[0m         \u001b[0mresponse\u001b[0m \u001b[1;33m=\u001b[0m \u001b[0mself\u001b[0m\u001b[1;33m.\u001b[0m\u001b[0mcommand_executor\u001b[0m\u001b[1;33m.\u001b[0m\u001b[0mexecute\u001b[0m\u001b[1;33m(\u001b[0m\u001b[0mdriver_command\u001b[0m\u001b[1;33m,\u001b[0m \u001b[0mparams\u001b[0m\u001b[1;33m)\u001b[0m\u001b[1;33m\u001b[0m\u001b[0m\n\u001b[0;32m    255\u001b[0m         \u001b[1;32mif\u001b[0m \u001b[0mresponse\u001b[0m\u001b[1;33m:\u001b[0m\u001b[1;33m\u001b[0m\u001b[0m\n\u001b[1;32m--> 256\u001b[1;33m             \u001b[0mself\u001b[0m\u001b[1;33m.\u001b[0m\u001b[0merror_handler\u001b[0m\u001b[1;33m.\u001b[0m\u001b[0mcheck_response\u001b[0m\u001b[1;33m(\u001b[0m\u001b[0mresponse\u001b[0m\u001b[1;33m)\u001b[0m\u001b[1;33m\u001b[0m\u001b[0m\n\u001b[0m\u001b[0;32m    257\u001b[0m             response['value'] = self._unwrap_value(\n\u001b[0;32m    258\u001b[0m                 response.get('value', None))\n",
      "\u001b[1;32mD:\\anaconda1\\lib\\site-packages\\selenium\\webdriver\\remote\\errorhandler.py\u001b[0m in \u001b[0;36mcheck_response\u001b[1;34m(self, response)\u001b[0m\n\u001b[0;32m    192\u001b[0m         \u001b[1;32melif\u001b[0m \u001b[0mexception_class\u001b[0m \u001b[1;33m==\u001b[0m \u001b[0mUnexpectedAlertPresentException\u001b[0m \u001b[1;32mand\u001b[0m \u001b[1;34m'alert'\u001b[0m \u001b[1;32min\u001b[0m \u001b[0mvalue\u001b[0m\u001b[1;33m:\u001b[0m\u001b[1;33m\u001b[0m\u001b[0m\n\u001b[0;32m    193\u001b[0m             \u001b[1;32mraise\u001b[0m \u001b[0mexception_class\u001b[0m\u001b[1;33m(\u001b[0m\u001b[0mmessage\u001b[0m\u001b[1;33m,\u001b[0m \u001b[0mscreen\u001b[0m\u001b[1;33m,\u001b[0m \u001b[0mstacktrace\u001b[0m\u001b[1;33m,\u001b[0m \u001b[0mvalue\u001b[0m\u001b[1;33m[\u001b[0m\u001b[1;34m'alert'\u001b[0m\u001b[1;33m]\u001b[0m\u001b[1;33m.\u001b[0m\u001b[0mget\u001b[0m\u001b[1;33m(\u001b[0m\u001b[1;34m'text'\u001b[0m\u001b[1;33m)\u001b[0m\u001b[1;33m)\u001b[0m\u001b[1;33m\u001b[0m\u001b[0m\n\u001b[1;32m--> 194\u001b[1;33m         \u001b[1;32mraise\u001b[0m \u001b[0mexception_class\u001b[0m\u001b[1;33m(\u001b[0m\u001b[0mmessage\u001b[0m\u001b[1;33m,\u001b[0m \u001b[0mscreen\u001b[0m\u001b[1;33m,\u001b[0m \u001b[0mstacktrace\u001b[0m\u001b[1;33m)\u001b[0m\u001b[1;33m\u001b[0m\u001b[0m\n\u001b[0m\u001b[0;32m    195\u001b[0m \u001b[1;33m\u001b[0m\u001b[0m\n\u001b[0;32m    196\u001b[0m     \u001b[1;32mdef\u001b[0m \u001b[0m_value_or_default\u001b[0m\u001b[1;33m(\u001b[0m\u001b[0mself\u001b[0m\u001b[1;33m,\u001b[0m \u001b[0mobj\u001b[0m\u001b[1;33m,\u001b[0m \u001b[0mkey\u001b[0m\u001b[1;33m,\u001b[0m \u001b[0mdefault\u001b[0m\u001b[1;33m)\u001b[0m\u001b[1;33m:\u001b[0m\u001b[1;33m\u001b[0m\u001b[0m\n",
      "\u001b[1;31mInvalidSelectorException\u001b[0m: Message: invalid selector: Compound class names not permitted\n  (Session info: chrome=59.0.3071.115)\n  (Driver info: chromedriver=2.30.477700 (0057494ad8732195794a7b32078424f92a5fce41),platform=Windows NT 10.0.10586 x86_64)\n"
     ]
    }
   ],
   "source": [
    "from selenium import webdriver\n",
    "import time\n",
    "\n",
    "url = 'https://auth.bupt.edu.cn/authserver/login?service=http%3a%2f%2fyjxt.bupt.edu.cn%2fULogin.aspx'\n",
    "driver = webdriver.Chrome(executable_path=\"E:/chromedriver_win32/chromedriver.exe\")\n",
    "driver.get(url)\n",
    "time.sleep(5)\n",
    "\n",
    "# #切换到登录的frame上\n",
    "# driver.switch_to.frame('login_frame')\n",
    "# #点击“帐号密码登录”按钮\n",
    "# driver.find_element_by_id('switcher_plogin').click()\n",
    "#定位帐号输入框\n",
    "username = driver.find_element_by_id('username')\n",
    "#清空帐号输入框内容\n",
    "username.clear()\n",
    "#填写帐号\n",
    "username.send_keys('2016140268')\n",
    "password = driver.find_element_by_id('password')\n",
    "password.clear()\n",
    "password.send_keys('421182199411230039')\n",
    "#点击“登录”按钮\n",
    "driver.find_element_by_class_name('btnsubmit btn btn-primary btn-lg').click()\n",
    "#driver.findElement(By.xpath(\"//*[text()=’立即登录’]\"));\n",
    "driver.find_element(By.cssSelector(\"btnsubmit btn btn-primary btn-lg\"))  \n",
    "\n",
    "driver.quit()"
   ]
  },
  {
   "cell_type": "markdown",
   "metadata": {},
   "source": [
    "### selenium+python+PhantomJS的使用"
   ]
  },
  {
   "cell_type": "code",
   "execution_count": 11,
   "metadata": {
    "collapsed": false
   },
   "outputs": [
    {
     "name": "stdout",
     "output_type": "stream",
     "text": [
      "【去哪儿酒店】酒店预订, 酒店查询-去哪儿网Qunar.com\n"
     ]
    }
   ],
   "source": [
    "from selenium import webdriver\n",
    "#driver = webdriver.PhantomJS()\n",
    "driver = webdriver.Chrome(executable_path=\"E:/chromedriver_win32/chromedriver.exe\")\n",
    "driver.get(\"https://hotel.qunar.com/\")\n",
    "data = driver.title\n",
    "print (data)"
   ]
  },
  {
   "cell_type": "code",
   "execution_count": 1,
   "metadata": {
    "collapsed": false,
    "scrolled": true
   },
   "outputs": [
    {
     "name": "stdout",
     "output_type": "stream",
     "text": [
      "1\n",
      "共62个   共11页 1 2 3 4 5 6 下一页  尾页\n",
      "['共62', '共11', '1', '2', '3', '4', '5', '6']\n",
      "页数：共11\n",
      "下载列表URL: http://download.csdn.net/user/eastmount/uploads/1 utf-8\n",
      "[<selenium.webdriver.remote.webelement.WebElement (session=\"e2809db0-6a05-11e7-a96f-018ec6996bee\", element=\":wdc:1500195920553\")>, <selenium.webdriver.remote.webelement.WebElement (session=\"e2809db0-6a05-11e7-a96f-018ec6996bee\", element=\":wdc:1500195920554\")>, <selenium.webdriver.remote.webelement.WebElement (session=\"e2809db0-6a05-11e7-a96f-018ec6996bee\", element=\":wdc:1500195920555\")>, <selenium.webdriver.remote.webelement.WebElement (session=\"e2809db0-6a05-11e7-a96f-018ec6996bee\", element=\":wdc:1500195920556\")>, <selenium.webdriver.remote.webelement.WebElement (session=\"e2809db0-6a05-11e7-a96f-018ec6996bee\", element=\":wdc:1500195920557\")>, <selenium.webdriver.remote.webelement.WebElement (session=\"e2809db0-6a05-11e7-a96f-018ec6996bee\", element=\":wdc:1500195920558\")>]\n",
      "Num1\n",
      "标题: PHP实现select新闻查询及超链接详情跳转（基础代码）\n",
      "链接: http://download.csdn.net/detail/eastmount/9831256\n",
      "所需积分：0\n",
      " \n",
      "Num2\n",
      "标题: [Python] VCForPython27\n",
      "链接: http://download.csdn.net/detail/eastmount/9788218\n",
      "所需积分：0\n",
      "评论：好东西，多谢分享\n",
      " \n",
      "Num3\n",
      "标题: MFC 鼠标按下释放移动绘制图形及键盘操作\n",
      "链接: http://download.csdn.net/detail/eastmount/9687719\n",
      "所需积分：0\n",
      " \n",
      "Num4\n",
      "标题: Python趣味代码实现: 绘制过期、俄罗斯方块、人脸识别等 [源代码]\n",
      "链接: http://download.csdn.net/detail/eastmount/9662828\n",
      "所需积分：0\n",
      "评论：很好的资源\n",
      "评论：谢谢分享 谢谢分享\n",
      "评论：谢谢分享 谢谢分享\n",
      " \n",
      "Num5\n",
      "标题: 《Oracle查询优化改写 技巧与案例》书籍分享 PDF\n",
      "链接: http://download.csdn.net/detail/eastmount/9609905\n",
      "所需积分：0\n",
      " \n",
      "Num6\n",
      "标题: Python安装MySQL安装包 64位 py2.7 [exe文件]\n",
      "链接: http://download.csdn.net/detail/eastmount/9598651\n",
      "所需积分：0\n",
      "评论：phthon2.7.3安装成功\n",
      "评论：没有安装成功 应该是 我自己python版本的问题\n",
      " \n",
      " \n",
      "SUmResouces: 6\n",
      "Load Over\n",
      "Time: 8.408124 s\n"
     ]
    }
   ],
   "source": [
    "from selenium import webdriver    \n",
    "from selenium.webdriver.common.keys import Keys    \n",
    "import selenium.webdriver.support.ui as ui    \n",
    "from selenium.webdriver.common.action_chains import ActionChains    \n",
    "import time        \n",
    "import re        \n",
    "import os    \n",
    "    \n",
    "#打开Firefox浏览器 设定等待加载时间 访问URL    \n",
    "driver = webdriver.PhantomJS(executable_path=\"E:/phantomjs/phantomjs-2.1.1-windows/bin/phantomjs.exe\")    \n",
    "driver_detail = webdriver.PhantomJS(executable_path=\"E:/phantomjs/phantomjs-2.1.1-windows/bin/phantomjs.exe\")    \n",
    "wait = ui.WebDriverWait(driver,10)    \n",
    "driver.get(\"http://download.csdn.net/user/eastmount/uploads\")    \n",
    "SUMRESOURCES = 0 #全局变量 记录资源总数(尽量避免) \n",
    "print (1)\n",
    "    \n",
    "    \n",
    "#获取列表页数 <div class=\"page_nav>共46个 共8页..</div>    \n",
    "def getPage():    \n",
    "    number = 0    \n",
    "    wait.until(lambda driver: driver.find_element_by_xpath(\"//div[@class='page_nav']\"))    \n",
    "    texts = driver.find_element_by_xpath(\"//div[@class='page_nav']\").text    \n",
    "    print (texts)    \n",
    "    m = re.findall(r'(\\w*[0-9]+)\\w*',texts) #正则表达式寻找数字   \n",
    "    print (m)\n",
    "    print ('页数：' + str(m[1]) )  \n",
    "    return int(m[1][1])    \n",
    "    \n",
    "    \n",
    "#获取URL和文章标题     \n",
    "def getURL_Title(num):   \n",
    "    global SUMRESOURCES    \n",
    "    url = 'http://download.csdn.net/user/eastmount/uploads/' + str(num)    \n",
    "    print ('下载列表URL: ' + url,'utf-8') \n",
    "    '''\n",
    "    ' 等待最下面页面加载成功 获取URL和标题  \n",
    "    ' 源码  \n",
    "    ' <div class='list-container mb-bg'>  \n",
    "    '     <dl>  \n",
    "    '        <dt>  \n",
    "    '           <div class=\"icon\"><img src=\"xxx\"></img></div>  \n",
    "    '           <h3><a href=\"/detail/eastmount/8757243\">MFC显示BMP图片</a></h3>  \n",
    "    '        </dt>  \n",
    "    '     </dl>  \n",
    "    ' </div>  \n",
    "    ' get_attribute('href')获取URL且自动补齐  \n",
    "    ' unicode防止报错 - s.encode('utf8')unicode转换成utf8编码 decode表示utf8转换成unicode  \n",
    "    '''    \n",
    "    driver.get(url)    \n",
    "    wait.until(lambda driver: driver.find_element_by_xpath(\"//div[@class='page_nav']\"))    \n",
    "    list_container = driver.find_elements_by_xpath(\"//div[@class='content']/h3/a\")   \n",
    "    print (list_container)\n",
    "    for title in list_container:    \n",
    "        print ('Num' + str(SUMRESOURCES +1))    \n",
    "        print (u'标题: ' + title.text)    \n",
    "        print (u'链接: ' + title.get_attribute('href'))    \n",
    "        SUMRESOURCES = SUMRESOURCES +1    \n",
    "        #    \n",
    "        #获取具体内容和评论    \n",
    "        getDetails( str(title.get_attribute('href')) )    \n",
    "    else:    \n",
    "        print (' ') #换行    \n",
    "            \n",
    "    \n",
    "#获取详细信息 因前定义的driver正在使用中 故调用driver_detail    \n",
    "#否则报错 Message: Error Message => 'Element does not exist in cache'    \n",
    "def getDetails(url):    \n",
    "    #获取infobox    \n",
    "    driver_detail.get(url)    \n",
    "    details = driver_detail.find_element_by_xpath(\"//div[@class='dl_download']//label\").text \n",
    "    print (details)    \n",
    "    #加载评论 <dl><dt></dt><dd></dd></dl>    \n",
    "    comments = driver_detail.find_elements_by_xpath(\"//dd[@class='detal']\")    \n",
    "    for com in comments:    \n",
    "        print (u'评论：' + com.text)    \n",
    "    else:    \n",
    "        print (' ') #换行    \n",
    "         \n",
    "    \n",
    "#主函数    \n",
    "def main():    \n",
    "    start = time.clock()    \n",
    "    pageNum = getPage()    \n",
    "    i=1    \n",
    "    #循环获取标题和URL    \n",
    "    while(i<=pageNum):    \n",
    "        getURL_Title(i)     \n",
    "        i = i + 1    \n",
    "    else:    \n",
    "        print ('SUmResouces: ' + str(SUMRESOURCES) )   \n",
    "        print ('Load Over') \n",
    "    end = time.clock()    \n",
    "    print (\"Time: %f s\" % (end - start))    \n",
    "            \n",
    "main()    "
   ]
  },
  {
   "cell_type": "code",
   "execution_count": 23,
   "metadata": {
    "collapsed": true
   },
   "outputs": [],
   "source": [
    "m='嗯1'"
   ]
  },
  {
   "cell_type": "code",
   "execution_count": 41,
   "metadata": {
    "collapsed": false
   },
   "outputs": [
    {
     "ename": "NoSuchElementException",
     "evalue": "Message: no such element: Unable to locate element: {\"method\":\"id\",\"selector\":\"x_URS_iframe\"}\n  (Session info: chrome=59.0.3071.115)\n  (Driver info: chromedriver=2.30.477700 (0057494ad8732195794a7b32078424f92a5fce41),platform=Windows NT 10.0.10586 x86_64)\n",
     "output_type": "error",
     "traceback": [
      "\u001b[1;31m---------------------------------------------------------------------------\u001b[0m",
      "\u001b[1;31mNoSuchElementException\u001b[0m                    Traceback (most recent call last)",
      "\u001b[1;32m<ipython-input-41-68dc1c907e27>\u001b[0m in \u001b[0;36m<module>\u001b[1;34m()\u001b[0m\n\u001b[0;32m      9\u001b[0m \u001b[1;33m\u001b[0m\u001b[0m\n\u001b[0;32m     10\u001b[0m \u001b[1;31m#切换到登录的frame上\u001b[0m\u001b[1;33m\u001b[0m\u001b[1;33m\u001b[0m\u001b[0m\n\u001b[1;32m---> 11\u001b[1;33m \u001b[0mdriver\u001b[0m\u001b[1;33m.\u001b[0m\u001b[0mswitch_to\u001b[0m\u001b[1;33m.\u001b[0m\u001b[0mframe\u001b[0m\u001b[1;33m(\u001b[0m\u001b[0mdriver\u001b[0m\u001b[1;33m.\u001b[0m\u001b[0mfind_element_by_id\u001b[0m\u001b[1;33m(\u001b[0m\u001b[1;34m\"x_URS_iframe\"\u001b[0m\u001b[1;33m)\u001b[0m\u001b[1;33m)\u001b[0m\u001b[1;33m\u001b[0m\u001b[0m\n\u001b[0m\u001b[0;32m     12\u001b[0m \u001b[0mtime\u001b[0m\u001b[1;33m.\u001b[0m\u001b[0msleep\u001b[0m\u001b[1;33m(\u001b[0m\u001b[1;36m5\u001b[0m\u001b[1;33m)\u001b[0m\u001b[1;33m\u001b[0m\u001b[0m\n\u001b[0;32m     13\u001b[0m \u001b[1;33m\u001b[0m\u001b[0m\n",
      "\u001b[1;32mD:\\anaconda1\\lib\\site-packages\\selenium\\webdriver\\remote\\webdriver.py\u001b[0m in \u001b[0;36mfind_element_by_id\u001b[1;34m(self, id_)\u001b[0m\n\u001b[0;32m    287\u001b[0m             \u001b[0mdriver\u001b[0m\u001b[1;33m.\u001b[0m\u001b[0mfind_element_by_id\u001b[0m\u001b[1;33m(\u001b[0m\u001b[1;34m'foo'\u001b[0m\u001b[1;33m)\u001b[0m\u001b[1;33m\u001b[0m\u001b[0m\n\u001b[0;32m    288\u001b[0m         \"\"\"\n\u001b[1;32m--> 289\u001b[1;33m         \u001b[1;32mreturn\u001b[0m \u001b[0mself\u001b[0m\u001b[1;33m.\u001b[0m\u001b[0mfind_element\u001b[0m\u001b[1;33m(\u001b[0m\u001b[0mby\u001b[0m\u001b[1;33m=\u001b[0m\u001b[0mBy\u001b[0m\u001b[1;33m.\u001b[0m\u001b[0mID\u001b[0m\u001b[1;33m,\u001b[0m \u001b[0mvalue\u001b[0m\u001b[1;33m=\u001b[0m\u001b[0mid_\u001b[0m\u001b[1;33m)\u001b[0m\u001b[1;33m\u001b[0m\u001b[0m\n\u001b[0m\u001b[0;32m    290\u001b[0m \u001b[1;33m\u001b[0m\u001b[0m\n\u001b[0;32m    291\u001b[0m     \u001b[1;32mdef\u001b[0m \u001b[0mfind_elements_by_id\u001b[0m\u001b[1;33m(\u001b[0m\u001b[0mself\u001b[0m\u001b[1;33m,\u001b[0m \u001b[0mid_\u001b[0m\u001b[1;33m)\u001b[0m\u001b[1;33m:\u001b[0m\u001b[1;33m\u001b[0m\u001b[0m\n",
      "\u001b[1;32mD:\\anaconda1\\lib\\site-packages\\selenium\\webdriver\\remote\\webdriver.py\u001b[0m in \u001b[0;36mfind_element\u001b[1;34m(self, by, value)\u001b[0m\n\u001b[0;32m    789\u001b[0m         return self.execute(Command.FIND_ELEMENT, {\n\u001b[0;32m    790\u001b[0m             \u001b[1;34m'using'\u001b[0m\u001b[1;33m:\u001b[0m \u001b[0mby\u001b[0m\u001b[1;33m,\u001b[0m\u001b[1;33m\u001b[0m\u001b[0m\n\u001b[1;32m--> 791\u001b[1;33m             'value': value})['value']\n\u001b[0m\u001b[0;32m    792\u001b[0m \u001b[1;33m\u001b[0m\u001b[0m\n\u001b[0;32m    793\u001b[0m     \u001b[1;32mdef\u001b[0m \u001b[0mfind_elements\u001b[0m\u001b[1;33m(\u001b[0m\u001b[0mself\u001b[0m\u001b[1;33m,\u001b[0m \u001b[0mby\u001b[0m\u001b[1;33m=\u001b[0m\u001b[0mBy\u001b[0m\u001b[1;33m.\u001b[0m\u001b[0mID\u001b[0m\u001b[1;33m,\u001b[0m \u001b[0mvalue\u001b[0m\u001b[1;33m=\u001b[0m\u001b[1;32mNone\u001b[0m\u001b[1;33m)\u001b[0m\u001b[1;33m:\u001b[0m\u001b[1;33m\u001b[0m\u001b[0m\n",
      "\u001b[1;32mD:\\anaconda1\\lib\\site-packages\\selenium\\webdriver\\remote\\webdriver.py\u001b[0m in \u001b[0;36mexecute\u001b[1;34m(self, driver_command, params)\u001b[0m\n\u001b[0;32m    254\u001b[0m         \u001b[0mresponse\u001b[0m \u001b[1;33m=\u001b[0m \u001b[0mself\u001b[0m\u001b[1;33m.\u001b[0m\u001b[0mcommand_executor\u001b[0m\u001b[1;33m.\u001b[0m\u001b[0mexecute\u001b[0m\u001b[1;33m(\u001b[0m\u001b[0mdriver_command\u001b[0m\u001b[1;33m,\u001b[0m \u001b[0mparams\u001b[0m\u001b[1;33m)\u001b[0m\u001b[1;33m\u001b[0m\u001b[0m\n\u001b[0;32m    255\u001b[0m         \u001b[1;32mif\u001b[0m \u001b[0mresponse\u001b[0m\u001b[1;33m:\u001b[0m\u001b[1;33m\u001b[0m\u001b[0m\n\u001b[1;32m--> 256\u001b[1;33m             \u001b[0mself\u001b[0m\u001b[1;33m.\u001b[0m\u001b[0merror_handler\u001b[0m\u001b[1;33m.\u001b[0m\u001b[0mcheck_response\u001b[0m\u001b[1;33m(\u001b[0m\u001b[0mresponse\u001b[0m\u001b[1;33m)\u001b[0m\u001b[1;33m\u001b[0m\u001b[0m\n\u001b[0m\u001b[0;32m    257\u001b[0m             response['value'] = self._unwrap_value(\n\u001b[0;32m    258\u001b[0m                 response.get('value', None))\n",
      "\u001b[1;32mD:\\anaconda1\\lib\\site-packages\\selenium\\webdriver\\remote\\errorhandler.py\u001b[0m in \u001b[0;36mcheck_response\u001b[1;34m(self, response)\u001b[0m\n\u001b[0;32m    192\u001b[0m         \u001b[1;32melif\u001b[0m \u001b[0mexception_class\u001b[0m \u001b[1;33m==\u001b[0m \u001b[0mUnexpectedAlertPresentException\u001b[0m \u001b[1;32mand\u001b[0m \u001b[1;34m'alert'\u001b[0m \u001b[1;32min\u001b[0m \u001b[0mvalue\u001b[0m\u001b[1;33m:\u001b[0m\u001b[1;33m\u001b[0m\u001b[0m\n\u001b[0;32m    193\u001b[0m             \u001b[1;32mraise\u001b[0m \u001b[0mexception_class\u001b[0m\u001b[1;33m(\u001b[0m\u001b[0mmessage\u001b[0m\u001b[1;33m,\u001b[0m \u001b[0mscreen\u001b[0m\u001b[1;33m,\u001b[0m \u001b[0mstacktrace\u001b[0m\u001b[1;33m,\u001b[0m \u001b[0mvalue\u001b[0m\u001b[1;33m[\u001b[0m\u001b[1;34m'alert'\u001b[0m\u001b[1;33m]\u001b[0m\u001b[1;33m.\u001b[0m\u001b[0mget\u001b[0m\u001b[1;33m(\u001b[0m\u001b[1;34m'text'\u001b[0m\u001b[1;33m)\u001b[0m\u001b[1;33m)\u001b[0m\u001b[1;33m\u001b[0m\u001b[0m\n\u001b[1;32m--> 194\u001b[1;33m         \u001b[1;32mraise\u001b[0m \u001b[0mexception_class\u001b[0m\u001b[1;33m(\u001b[0m\u001b[0mmessage\u001b[0m\u001b[1;33m,\u001b[0m \u001b[0mscreen\u001b[0m\u001b[1;33m,\u001b[0m \u001b[0mstacktrace\u001b[0m\u001b[1;33m)\u001b[0m\u001b[1;33m\u001b[0m\u001b[0m\n\u001b[0m\u001b[0;32m    195\u001b[0m \u001b[1;33m\u001b[0m\u001b[0m\n\u001b[0;32m    196\u001b[0m     \u001b[1;32mdef\u001b[0m \u001b[0m_value_or_default\u001b[0m\u001b[1;33m(\u001b[0m\u001b[0mself\u001b[0m\u001b[1;33m,\u001b[0m \u001b[0mobj\u001b[0m\u001b[1;33m,\u001b[0m \u001b[0mkey\u001b[0m\u001b[1;33m,\u001b[0m \u001b[0mdefault\u001b[0m\u001b[1;33m)\u001b[0m\u001b[1;33m:\u001b[0m\u001b[1;33m\u001b[0m\u001b[0m\n",
      "\u001b[1;31mNoSuchElementException\u001b[0m: Message: no such element: Unable to locate element: {\"method\":\"id\",\"selector\":\"x_URS_iframe\"}\n  (Session info: chrome=59.0.3071.115)\n  (Driver info: chromedriver=2.30.477700 (0057494ad8732195794a7b32078424f92a5fce41),platform=Windows NT 10.0.10586 x86_64)\n"
     ]
    }
   ],
   "source": [
    "from selenium import webdriver  \n",
    "from selenium.webdriver.common.keys import Keys  \n",
    "import time  \n",
    "  \n",
    "#模拟登陆126邮箱  \n",
    "chromedriver =\"E:/chromedriver_win32/chromedriver.exe\"\n",
    "driver = webdriver.Chrome(chromedriver) \n",
    "driver.get(\"https://www.126.com\")  \n",
    "\n",
    "#切换到登录的frame上\n",
    "driver.switch_to.frame(driver.find_element_by_id(\"x_URS_iframe\"))\n",
    "time.sleep(5)\n",
    "  \n",
    "#用户名 密码  \n",
    "\n",
    "#driver.find_element_by_name(\"emal\").clear()\n",
    "#elem_user = driver.find_element_by_name(\"email\")  \n",
    "elem_user = driver.find_element_by_xpath(\"//input[@name='email']\")  \n",
    "elem_user.send_keys(\"chendeken\")  \n",
    "#elem_pwd = driver.find_element_by_name(\"password\") \n",
    "elem_pwd = driver.find_element_by_xpath(\"//form[@id='login-form']//div[@class='m-container']//input[@name='password']\") \n",
    "elem_pwd.send_keys(\"cdk120803\")\n",
    "elem_pwd.send_keys(Keys.RETURN)  \n",
    "\n",
    "driver.switch_to.default_content()\n",
    "\n",
    "time.sleep(5)  \n",
    "driver.close()  \n",
    "driver.quit() "
   ]
  },
  {
   "cell_type": "code",
   "execution_count": 6,
   "metadata": {
    "collapsed": false
   },
   "outputs": [],
   "source": [
    "import os  \n",
    "from selenium import webdriver  \n",
    "from selenium.webdriver.common.keys import Keys  \n",
    "  \n",
    "chromedriver =\"E:/chromedriver_win32/chromedriver.exe\"\n",
    "os.environ[\"webdriver.chrome.driver\"] = chromedriver  \n",
    "  \n",
    "driver = webdriver.Chrome(chromedriver)  \n",
    "driver.get(\"http://www.python.org\")  \n",
    "assert \"Python\" in driver.title  \n",
    "elem = driver.find_element_by_name(\"q\")  \n",
    "elem.send_keys(\"selenium\")  \n",
    "elem.send_keys(Keys.RETURN)  \n",
    "driver.close()  \n",
    "driver.quit()  "
   ]
  },
  {
   "cell_type": "code",
   "execution_count": 8,
   "metadata": {
    "collapsed": false
   },
   "outputs": [
    {
     "ename": "WebDriverException",
     "evalue": "Message: chrome not reachable\n  (Session info: chrome=59.0.3071.115)\n  (Driver info: chromedriver=2.30.477700 (0057494ad8732195794a7b32078424f92a5fce41),platform=Windows NT 10.0.10586 x86_64)\n",
     "output_type": "error",
     "traceback": [
      "\u001b[1;31m---------------------------------------------------------------------------\u001b[0m",
      "\u001b[1;31mWebDriverException\u001b[0m                        Traceback (most recent call last)",
      "\u001b[1;32m<ipython-input-8-a14cfaefff7c>\u001b[0m in \u001b[0;36m<module>\u001b[1;34m()\u001b[0m\n\u001b[0;32m     12\u001b[0m \u001b[0melem_pwd\u001b[0m\u001b[1;33m.\u001b[0m\u001b[0msend_keys\u001b[0m\u001b[1;33m(\u001b[0m\u001b[0mKeys\u001b[0m\u001b[1;33m.\u001b[0m\u001b[0mRETURN\u001b[0m\u001b[1;33m)\u001b[0m\u001b[1;33m\u001b[0m\u001b[0m\n\u001b[0;32m     13\u001b[0m \u001b[0mtime\u001b[0m\u001b[1;33m.\u001b[0m\u001b[0msleep\u001b[0m\u001b[1;33m(\u001b[0m\u001b[1;36m5\u001b[0m\u001b[1;33m)\u001b[0m\u001b[1;33m\u001b[0m\u001b[0m\n\u001b[1;32m---> 14\u001b[1;33m \u001b[0mdriver\u001b[0m\u001b[1;33m.\u001b[0m\u001b[0mclose\u001b[0m\u001b[1;33m(\u001b[0m\u001b[1;33m)\u001b[0m\u001b[1;33m\u001b[0m\u001b[0m\n\u001b[0m\u001b[0;32m     15\u001b[0m \u001b[0mdriver\u001b[0m\u001b[1;33m.\u001b[0m\u001b[0mquit\u001b[0m\u001b[1;33m(\u001b[0m\u001b[1;33m)\u001b[0m\u001b[1;33m\u001b[0m\u001b[0m\n",
      "\u001b[1;32mD:\\anaconda1\\lib\\site-packages\\selenium\\webdriver\\remote\\webdriver.py\u001b[0m in \u001b[0;36mclose\u001b[1;34m(self)\u001b[0m\n\u001b[0;32m    539\u001b[0m             \u001b[0mdriver\u001b[0m\u001b[1;33m.\u001b[0m\u001b[0mclose\u001b[0m\u001b[1;33m(\u001b[0m\u001b[1;33m)\u001b[0m\u001b[1;33m\u001b[0m\u001b[0m\n\u001b[0;32m    540\u001b[0m         \"\"\"\n\u001b[1;32m--> 541\u001b[1;33m         \u001b[0mself\u001b[0m\u001b[1;33m.\u001b[0m\u001b[0mexecute\u001b[0m\u001b[1;33m(\u001b[0m\u001b[0mCommand\u001b[0m\u001b[1;33m.\u001b[0m\u001b[0mCLOSE\u001b[0m\u001b[1;33m)\u001b[0m\u001b[1;33m\u001b[0m\u001b[0m\n\u001b[0m\u001b[0;32m    542\u001b[0m \u001b[1;33m\u001b[0m\u001b[0m\n\u001b[0;32m    543\u001b[0m     \u001b[1;32mdef\u001b[0m \u001b[0mquit\u001b[0m\u001b[1;33m(\u001b[0m\u001b[0mself\u001b[0m\u001b[1;33m)\u001b[0m\u001b[1;33m:\u001b[0m\u001b[1;33m\u001b[0m\u001b[0m\n",
      "\u001b[1;32mD:\\anaconda1\\lib\\site-packages\\selenium\\webdriver\\remote\\webdriver.py\u001b[0m in \u001b[0;36mexecute\u001b[1;34m(self, driver_command, params)\u001b[0m\n\u001b[0;32m    254\u001b[0m         \u001b[0mresponse\u001b[0m \u001b[1;33m=\u001b[0m \u001b[0mself\u001b[0m\u001b[1;33m.\u001b[0m\u001b[0mcommand_executor\u001b[0m\u001b[1;33m.\u001b[0m\u001b[0mexecute\u001b[0m\u001b[1;33m(\u001b[0m\u001b[0mdriver_command\u001b[0m\u001b[1;33m,\u001b[0m \u001b[0mparams\u001b[0m\u001b[1;33m)\u001b[0m\u001b[1;33m\u001b[0m\u001b[0m\n\u001b[0;32m    255\u001b[0m         \u001b[1;32mif\u001b[0m \u001b[0mresponse\u001b[0m\u001b[1;33m:\u001b[0m\u001b[1;33m\u001b[0m\u001b[0m\n\u001b[1;32m--> 256\u001b[1;33m             \u001b[0mself\u001b[0m\u001b[1;33m.\u001b[0m\u001b[0merror_handler\u001b[0m\u001b[1;33m.\u001b[0m\u001b[0mcheck_response\u001b[0m\u001b[1;33m(\u001b[0m\u001b[0mresponse\u001b[0m\u001b[1;33m)\u001b[0m\u001b[1;33m\u001b[0m\u001b[0m\n\u001b[0m\u001b[0;32m    257\u001b[0m             response['value'] = self._unwrap_value(\n\u001b[0;32m    258\u001b[0m                 response.get('value', None))\n",
      "\u001b[1;32mD:\\anaconda1\\lib\\site-packages\\selenium\\webdriver\\remote\\errorhandler.py\u001b[0m in \u001b[0;36mcheck_response\u001b[1;34m(self, response)\u001b[0m\n\u001b[0;32m    192\u001b[0m         \u001b[1;32melif\u001b[0m \u001b[0mexception_class\u001b[0m \u001b[1;33m==\u001b[0m \u001b[0mUnexpectedAlertPresentException\u001b[0m \u001b[1;32mand\u001b[0m \u001b[1;34m'alert'\u001b[0m \u001b[1;32min\u001b[0m \u001b[0mvalue\u001b[0m\u001b[1;33m:\u001b[0m\u001b[1;33m\u001b[0m\u001b[0m\n\u001b[0;32m    193\u001b[0m             \u001b[1;32mraise\u001b[0m \u001b[0mexception_class\u001b[0m\u001b[1;33m(\u001b[0m\u001b[0mmessage\u001b[0m\u001b[1;33m,\u001b[0m \u001b[0mscreen\u001b[0m\u001b[1;33m,\u001b[0m \u001b[0mstacktrace\u001b[0m\u001b[1;33m,\u001b[0m \u001b[0mvalue\u001b[0m\u001b[1;33m[\u001b[0m\u001b[1;34m'alert'\u001b[0m\u001b[1;33m]\u001b[0m\u001b[1;33m.\u001b[0m\u001b[0mget\u001b[0m\u001b[1;33m(\u001b[0m\u001b[1;34m'text'\u001b[0m\u001b[1;33m)\u001b[0m\u001b[1;33m)\u001b[0m\u001b[1;33m\u001b[0m\u001b[0m\n\u001b[1;32m--> 194\u001b[1;33m         \u001b[1;32mraise\u001b[0m \u001b[0mexception_class\u001b[0m\u001b[1;33m(\u001b[0m\u001b[0mmessage\u001b[0m\u001b[1;33m,\u001b[0m \u001b[0mscreen\u001b[0m\u001b[1;33m,\u001b[0m \u001b[0mstacktrace\u001b[0m\u001b[1;33m)\u001b[0m\u001b[1;33m\u001b[0m\u001b[0m\n\u001b[0m\u001b[0;32m    195\u001b[0m \u001b[1;33m\u001b[0m\u001b[0m\n\u001b[0;32m    196\u001b[0m     \u001b[1;32mdef\u001b[0m \u001b[0m_value_or_default\u001b[0m\u001b[1;33m(\u001b[0m\u001b[0mself\u001b[0m\u001b[1;33m,\u001b[0m \u001b[0mobj\u001b[0m\u001b[1;33m,\u001b[0m \u001b[0mkey\u001b[0m\u001b[1;33m,\u001b[0m \u001b[0mdefault\u001b[0m\u001b[1;33m)\u001b[0m\u001b[1;33m:\u001b[0m\u001b[1;33m\u001b[0m\u001b[0m\n",
      "\u001b[1;31mWebDriverException\u001b[0m: Message: chrome not reachable\n  (Session info: chrome=59.0.3071.115)\n  (Driver info: chromedriver=2.30.477700 (0057494ad8732195794a7b32078424f92a5fce41),platform=Windows NT 10.0.10586 x86_64)\n"
     ]
    }
   ],
   "source": [
    "from selenium import webdriver  \n",
    "from selenium.webdriver.common.keys import Keys  \n",
    "import time  \n",
    "  \n",
    "chromedriver =\"E:/chromedriver_win32/chromedriver.exe\"\n",
    "driver = webdriver.Chrome(chromedriver) \n",
    "driver.get(\"https://passport.csdn.net/account/login?from=http://my.csdn.net/my/mycsdn\")  \n",
    "elem_user = driver.find_element_by_name(\"username\")  \n",
    "elem_user.send_keys(\"cdkskytown\")  \n",
    "elem_pwd = driver.find_element_by_name(\"password\")  \n",
    "elem_pwd.send_keys(\"cdk120803\")  \n",
    "elem_pwd.send_keys(Keys.RETURN)  \n",
    "time.sleep(5)   \n",
    "driver.close()  \n",
    "driver.quit()  "
   ]
  },
  {
   "cell_type": "code",
   "execution_count": 39,
   "metadata": {
    "collapsed": false
   },
   "outputs": [],
   "source": [
    "from selenium import webdriver  \n",
    "from selenium.webdriver.common.keys import Keys  \n",
    "import time  \n",
    "  \n",
    "chromedriver =\"E:/chromedriver_win32/chromedriver.exe\"\n",
    "driver = webdriver.Chrome(chromedriver) \n",
    "driver.get(\"https://bbs.byr.cn/user\")  \n",
    "elem_user = driver.find_element_by_name(\"id\")  \n",
    "elem_user.send_keys(\"c2012210556\")  \n",
    "elem_pwd = driver.find_element_by_name(\"passwd\")  \n",
    "elem_pwd.send_keys(\"cdk120803\")  \n",
    "elem_pwd.send_keys(Keys.RETURN)  \n",
    "driver.close()  \n",
    "driver.quit() "
   ]
  },
  {
   "cell_type": "code",
   "execution_count": 38,
   "metadata": {
    "collapsed": true
   },
   "outputs": [],
   "source": [
    "from selenium import webdriver  \n",
    "from selenium.webdriver.common.keys import Keys  \n",
    "import time  \n",
    "  \n",
    "chromedriver =\"E:/chromedriver_win32/chromedriver.exe\"\n",
    "driver = webdriver.Chrome(chromedriver) \n",
    "driver.get(\"http://auth.bupt.edu.cn/authserver/login\")  \n",
    "elem_user = driver.find_element_by_name(\"username\")  \n",
    "elem_user.send_keys(\"2016140268\")  \n",
    "elem_pwd = driver.find_element_by_name(\"password\")  \n",
    "elem_pwd.send_keys(\"421182199411230039\") \n",
    "elem_pwd.send_keys(Keys.RETURN)  \n",
    "time.sleep(5)\n",
    "driver.close()  \n",
    "driver.quit() "
   ]
  },
  {
   "cell_type": "code",
   "execution_count": null,
   "metadata": {
    "collapsed": true
   },
   "outputs": [],
   "source": []
  }
 ],
 "metadata": {
  "anaconda-cloud": {},
  "kernelspec": {
   "display_name": "Python [Root]",
   "language": "python",
   "name": "Python [Root]"
  },
  "language_info": {
   "codemirror_mode": {
    "name": "ipython",
    "version": 3
   },
   "file_extension": ".py",
   "mimetype": "text/x-python",
   "name": "python",
   "nbconvert_exporter": "python",
   "pygments_lexer": "ipython3",
   "version": "3.5.1"
  }
 },
 "nbformat": 4,
 "nbformat_minor": 0
}
